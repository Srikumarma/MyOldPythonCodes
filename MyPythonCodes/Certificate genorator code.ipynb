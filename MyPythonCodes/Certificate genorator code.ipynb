{
 "cells": [
  {
   "cell_type": "code",
   "execution_count": 5,
   "metadata": {},
   "outputs": [
    {
     "name": "stdout",
     "output_type": "stream",
     "text": [
      "a\n"
     ]
    }
   ],
   "source": [
    "from PIL import Image,ImageDraw,ImageFont\n",
    "import pandas as pd\n",
    "import os\n",
    "df = pd.read_csv('file.csv')\n",
    "font = ImageFont.truetype('arial.ttf',60)\n",
    "x=input()\n",
    "for index,j in df.iterrows():\n",
    "    img = Image.open('FHD_Certificate.png')\n",
    "    draw = ImageDraw.Draw(img)\n",
    "    draw.text(xy=(764,441),text='{}'.format(j['name']),fill=(0,0,0),font=font)\n",
    "    draw.text(xy=(689,618),text=x,fill=(0,0,0),font=font)\n",
    "    img.save('{}.png'.format(j['name']))"
   ]
  },
  {
   "cell_type": "code",
   "execution_count": null,
   "metadata": {},
   "outputs": [],
   "source": []
  }
 ],
 "metadata": {
  "kernelspec": {
   "display_name": "Python 3",
   "language": "python",
   "name": "python3"
  },
  "language_info": {
   "codemirror_mode": {
    "name": "ipython",
    "version": 3
   },
   "file_extension": ".py",
   "mimetype": "text/x-python",
   "name": "python",
   "nbconvert_exporter": "python",
   "pygments_lexer": "ipython3",
   "version": "3.8.3"
  }
 },
 "nbformat": 4,
 "nbformat_minor": 4
}
