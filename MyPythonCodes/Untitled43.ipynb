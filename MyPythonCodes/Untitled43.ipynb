{
 "cells": [
  {
   "cell_type": "code",
   "execution_count": 2,
   "metadata": {},
   "outputs": [],
   "source": [
    "from PIL import ImageFont, ImageDraw, Image \n",
    "image=Image.open(\"FHD_Certificate.png\")\n",
    "title_font = ImageFont.truetype('Alsina Ultrajada.ttf', 70)\n",
    "title_text = \"Adithyaa Anand\"\n",
    "image_editable = ImageDraw.Draw(image)\n",
    "\n",
    "image_editable.text((812,400), title_text, (0,0,0), font=title_font)\n",
    "image.save(\"result9.png\")\n",
    "im = Image.open(\"result9.png\")   \n",
    "im.show()  "
   ]
  },
  {
   "cell_type": "code",
   "execution_count": 5,
   "metadata": {},
   "outputs": [
    {
     "name": "stdout",
     "output_type": "stream",
     "text": [
      "Dimensions: (1920, 1080) Total pixels: 2073600\n"
     ]
    }
   ],
   "source": [
    "from PIL import Image\n",
    "import os.path\n",
    "\n",
    "filename = os.path.join('path', 'to', 'image', 'file')\n",
    "img = Image.open(\"FHD_Certificate.png\")\n",
    "width, height = img.size\n",
    "print(\"Dimensions:\", img.size, \"Total pixels:\", width * height)"
   ]
  },
  {
   "cell_type": "code",
   "execution_count": 14,
   "metadata": {},
   "outputs": [
    {
     "name": "stdout",
     "output_type": "stream",
     "text": [
      "(1299, 2598)\n"
     ]
    }
   ],
   "source": [
    "from PIL import Image\n",
    "import os.path\n",
    "\n",
    "filename = os.path.join('path', 'to', 'image', 'file')\n",
    "img = Image.open(\"D:\\DLpic.png\")\n",
    "width, height = img.size\n",
    "print( img.size)"
   ]
  },
  {
   "cell_type": "code",
   "execution_count": 26,
   "metadata": {},
   "outputs": [
    {
     "name": "stdout",
     "output_type": "stream",
     "text": [
      "[(7,), (6,)]\n"
     ]
    }
   ],
   "source": [
    "tup=(7,6)\n",
    "lst=[]\n",
    "for i in range(0,2,1):\n",
    "    lst.append((tup[i:i+1]))\n",
    "print(lst)"
   ]
  },
  {
   "cell_type": "code",
   "execution_count": null,
   "metadata": {},
   "outputs": [],
   "source": []
  }
 ],
 "metadata": {
  "kernelspec": {
   "display_name": "Python 3",
   "language": "python",
   "name": "python3"
  },
  "language_info": {
   "codemirror_mode": {
    "name": "ipython",
    "version": 3
   },
   "file_extension": ".py",
   "mimetype": "text/x-python",
   "name": "python",
   "nbconvert_exporter": "python",
   "pygments_lexer": "ipython3",
   "version": "3.8.3"
  }
 },
 "nbformat": 4,
 "nbformat_minor": 4
}
