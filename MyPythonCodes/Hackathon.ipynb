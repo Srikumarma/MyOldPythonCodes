{
 "cells": [
  {
   "cell_type": "code",
   "execution_count": 73,
   "id": "ababe830",
   "metadata": {},
   "outputs": [],
   "source": [
    "import pandas as pd\n",
    "import seaborn as sns\n",
    "import matplotlib.pyplot as plt"
   ]
  },
  {
   "cell_type": "code",
   "execution_count": 74,
   "id": "89d02636",
   "metadata": {},
   "outputs": [],
   "source": [
    "df = pd.read_csv ('Crop_recommendation.csv')"
   ]
  },
  {
   "cell_type": "code",
   "execution_count": 75,
   "id": "84b89049",
   "metadata": {},
   "outputs": [
    {
     "data": {
      "text/html": [
       "<div>\n",
       "<style scoped>\n",
       "    .dataframe tbody tr th:only-of-type {\n",
       "        vertical-align: middle;\n",
       "    }\n",
       "\n",
       "    .dataframe tbody tr th {\n",
       "        vertical-align: top;\n",
       "    }\n",
       "\n",
       "    .dataframe thead th {\n",
       "        text-align: right;\n",
       "    }\n",
       "</style>\n",
       "<table border=\"1\" class=\"dataframe\">\n",
       "  <thead>\n",
       "    <tr style=\"text-align: right;\">\n",
       "      <th></th>\n",
       "      <th>N</th>\n",
       "      <th>P</th>\n",
       "      <th>K</th>\n",
       "      <th>temperature</th>\n",
       "      <th>humidity</th>\n",
       "      <th>ph</th>\n",
       "      <th>rainfall</th>\n",
       "      <th>label</th>\n",
       "    </tr>\n",
       "  </thead>\n",
       "  <tbody>\n",
       "    <tr>\n",
       "      <th>0</th>\n",
       "      <td>90</td>\n",
       "      <td>42</td>\n",
       "      <td>43</td>\n",
       "      <td>20.879744</td>\n",
       "      <td>82.002744</td>\n",
       "      <td>6.502985</td>\n",
       "      <td>202.935536</td>\n",
       "      <td>rice</td>\n",
       "    </tr>\n",
       "    <tr>\n",
       "      <th>1</th>\n",
       "      <td>85</td>\n",
       "      <td>58</td>\n",
       "      <td>41</td>\n",
       "      <td>21.770462</td>\n",
       "      <td>80.319644</td>\n",
       "      <td>7.038096</td>\n",
       "      <td>226.655537</td>\n",
       "      <td>rice</td>\n",
       "    </tr>\n",
       "    <tr>\n",
       "      <th>2</th>\n",
       "      <td>60</td>\n",
       "      <td>55</td>\n",
       "      <td>44</td>\n",
       "      <td>23.004459</td>\n",
       "      <td>82.320763</td>\n",
       "      <td>7.840207</td>\n",
       "      <td>263.964248</td>\n",
       "      <td>rice</td>\n",
       "    </tr>\n",
       "    <tr>\n",
       "      <th>3</th>\n",
       "      <td>74</td>\n",
       "      <td>35</td>\n",
       "      <td>40</td>\n",
       "      <td>26.491096</td>\n",
       "      <td>80.158363</td>\n",
       "      <td>6.980401</td>\n",
       "      <td>242.864034</td>\n",
       "      <td>rice</td>\n",
       "    </tr>\n",
       "    <tr>\n",
       "      <th>4</th>\n",
       "      <td>78</td>\n",
       "      <td>42</td>\n",
       "      <td>42</td>\n",
       "      <td>20.130175</td>\n",
       "      <td>81.604873</td>\n",
       "      <td>7.628473</td>\n",
       "      <td>262.717340</td>\n",
       "      <td>rice</td>\n",
       "    </tr>\n",
       "    <tr>\n",
       "      <th>...</th>\n",
       "      <td>...</td>\n",
       "      <td>...</td>\n",
       "      <td>...</td>\n",
       "      <td>...</td>\n",
       "      <td>...</td>\n",
       "      <td>...</td>\n",
       "      <td>...</td>\n",
       "      <td>...</td>\n",
       "    </tr>\n",
       "    <tr>\n",
       "      <th>2195</th>\n",
       "      <td>107</td>\n",
       "      <td>34</td>\n",
       "      <td>32</td>\n",
       "      <td>26.774637</td>\n",
       "      <td>66.413269</td>\n",
       "      <td>6.780064</td>\n",
       "      <td>177.774507</td>\n",
       "      <td>coffee</td>\n",
       "    </tr>\n",
       "    <tr>\n",
       "      <th>2196</th>\n",
       "      <td>99</td>\n",
       "      <td>15</td>\n",
       "      <td>27</td>\n",
       "      <td>27.417112</td>\n",
       "      <td>56.636362</td>\n",
       "      <td>6.086922</td>\n",
       "      <td>127.924610</td>\n",
       "      <td>coffee</td>\n",
       "    </tr>\n",
       "    <tr>\n",
       "      <th>2197</th>\n",
       "      <td>118</td>\n",
       "      <td>33</td>\n",
       "      <td>30</td>\n",
       "      <td>24.131797</td>\n",
       "      <td>67.225123</td>\n",
       "      <td>6.362608</td>\n",
       "      <td>173.322839</td>\n",
       "      <td>coffee</td>\n",
       "    </tr>\n",
       "    <tr>\n",
       "      <th>2198</th>\n",
       "      <td>117</td>\n",
       "      <td>32</td>\n",
       "      <td>34</td>\n",
       "      <td>26.272418</td>\n",
       "      <td>52.127394</td>\n",
       "      <td>6.758793</td>\n",
       "      <td>127.175293</td>\n",
       "      <td>coffee</td>\n",
       "    </tr>\n",
       "    <tr>\n",
       "      <th>2199</th>\n",
       "      <td>104</td>\n",
       "      <td>18</td>\n",
       "      <td>30</td>\n",
       "      <td>23.603016</td>\n",
       "      <td>60.396475</td>\n",
       "      <td>6.779833</td>\n",
       "      <td>140.937041</td>\n",
       "      <td>coffee</td>\n",
       "    </tr>\n",
       "  </tbody>\n",
       "</table>\n",
       "<p>2200 rows × 8 columns</p>\n",
       "</div>"
      ],
      "text/plain": [
       "        N   P   K  temperature   humidity        ph    rainfall   label\n",
       "0      90  42  43    20.879744  82.002744  6.502985  202.935536    rice\n",
       "1      85  58  41    21.770462  80.319644  7.038096  226.655537    rice\n",
       "2      60  55  44    23.004459  82.320763  7.840207  263.964248    rice\n",
       "3      74  35  40    26.491096  80.158363  6.980401  242.864034    rice\n",
       "4      78  42  42    20.130175  81.604873  7.628473  262.717340    rice\n",
       "...   ...  ..  ..          ...        ...       ...         ...     ...\n",
       "2195  107  34  32    26.774637  66.413269  6.780064  177.774507  coffee\n",
       "2196   99  15  27    27.417112  56.636362  6.086922  127.924610  coffee\n",
       "2197  118  33  30    24.131797  67.225123  6.362608  173.322839  coffee\n",
       "2198  117  32  34    26.272418  52.127394  6.758793  127.175293  coffee\n",
       "2199  104  18  30    23.603016  60.396475  6.779833  140.937041  coffee\n",
       "\n",
       "[2200 rows x 8 columns]"
      ]
     },
     "execution_count": 75,
     "metadata": {},
     "output_type": "execute_result"
    }
   ],
   "source": [
    "df"
   ]
  },
  {
   "cell_type": "code",
   "execution_count": 76,
   "id": "906efdc3",
   "metadata": {},
   "outputs": [
    {
     "name": "stdout",
     "output_type": "stream",
     "text": [
      "['rice' 'maize' 'chickpea' 'kidneybeans' 'pigeonpeas' 'mothbeans'\n",
      " 'mungbean' 'blackgram' 'lentil' 'pomegranate' 'banana' 'mango' 'grapes'\n",
      " 'watermelon' 'muskmelon' 'apple' 'orange' 'papaya' 'coconut' 'cotton'\n",
      " 'jute' 'coffee']\n"
     ]
    }
   ],
   "source": [
    "#crops present in the given data\n",
    "print(df.label.unique())"
   ]
  },
  {
   "cell_type": "code",
   "execution_count": 77,
   "id": "57dfc596",
   "metadata": {},
   "outputs": [
    {
     "data": {
      "text/plain": [
       "False"
      ]
     },
     "execution_count": 77,
     "metadata": {},
     "output_type": "execute_result"
    }
   ],
   "source": [
    "#check for null values\n",
    "df.isnull().values.any()"
   ]
  },
  {
   "cell_type": "code",
   "execution_count": 78,
   "id": "0734ff1a",
   "metadata": {},
   "outputs": [
    {
     "data": {
      "text/html": [
       "<div>\n",
       "<style scoped>\n",
       "    .dataframe tbody tr th:only-of-type {\n",
       "        vertical-align: middle;\n",
       "    }\n",
       "\n",
       "    .dataframe tbody tr th {\n",
       "        vertical-align: top;\n",
       "    }\n",
       "\n",
       "    .dataframe thead th {\n",
       "        text-align: right;\n",
       "    }\n",
       "</style>\n",
       "<table border=\"1\" class=\"dataframe\">\n",
       "  <thead>\n",
       "    <tr style=\"text-align: right;\">\n",
       "      <th></th>\n",
       "      <th>N</th>\n",
       "      <th>P</th>\n",
       "      <th>K</th>\n",
       "      <th>temperature</th>\n",
       "      <th>humidity</th>\n",
       "      <th>ph</th>\n",
       "      <th>rainfall</th>\n",
       "    </tr>\n",
       "  </thead>\n",
       "  <tbody>\n",
       "    <tr>\n",
       "      <th>count</th>\n",
       "      <td>2200.000000</td>\n",
       "      <td>2200.000000</td>\n",
       "      <td>2200.000000</td>\n",
       "      <td>2200.000000</td>\n",
       "      <td>2200.000000</td>\n",
       "      <td>2200.000000</td>\n",
       "      <td>2200.000000</td>\n",
       "    </tr>\n",
       "    <tr>\n",
       "      <th>mean</th>\n",
       "      <td>50.551818</td>\n",
       "      <td>53.362727</td>\n",
       "      <td>48.149091</td>\n",
       "      <td>25.616244</td>\n",
       "      <td>71.481779</td>\n",
       "      <td>6.469480</td>\n",
       "      <td>103.463655</td>\n",
       "    </tr>\n",
       "    <tr>\n",
       "      <th>std</th>\n",
       "      <td>36.917334</td>\n",
       "      <td>32.985883</td>\n",
       "      <td>50.647931</td>\n",
       "      <td>5.063749</td>\n",
       "      <td>22.263812</td>\n",
       "      <td>0.773938</td>\n",
       "      <td>54.958389</td>\n",
       "    </tr>\n",
       "    <tr>\n",
       "      <th>min</th>\n",
       "      <td>0.000000</td>\n",
       "      <td>5.000000</td>\n",
       "      <td>5.000000</td>\n",
       "      <td>8.825675</td>\n",
       "      <td>14.258040</td>\n",
       "      <td>3.504752</td>\n",
       "      <td>20.211267</td>\n",
       "    </tr>\n",
       "    <tr>\n",
       "      <th>25%</th>\n",
       "      <td>21.000000</td>\n",
       "      <td>28.000000</td>\n",
       "      <td>20.000000</td>\n",
       "      <td>22.769375</td>\n",
       "      <td>60.261953</td>\n",
       "      <td>5.971693</td>\n",
       "      <td>64.551686</td>\n",
       "    </tr>\n",
       "    <tr>\n",
       "      <th>50%</th>\n",
       "      <td>37.000000</td>\n",
       "      <td>51.000000</td>\n",
       "      <td>32.000000</td>\n",
       "      <td>25.598693</td>\n",
       "      <td>80.473146</td>\n",
       "      <td>6.425045</td>\n",
       "      <td>94.867624</td>\n",
       "    </tr>\n",
       "    <tr>\n",
       "      <th>75%</th>\n",
       "      <td>84.250000</td>\n",
       "      <td>68.000000</td>\n",
       "      <td>49.000000</td>\n",
       "      <td>28.561654</td>\n",
       "      <td>89.948771</td>\n",
       "      <td>6.923643</td>\n",
       "      <td>124.267508</td>\n",
       "    </tr>\n",
       "    <tr>\n",
       "      <th>max</th>\n",
       "      <td>140.000000</td>\n",
       "      <td>145.000000</td>\n",
       "      <td>205.000000</td>\n",
       "      <td>43.675493</td>\n",
       "      <td>99.981876</td>\n",
       "      <td>9.935091</td>\n",
       "      <td>298.560117</td>\n",
       "    </tr>\n",
       "  </tbody>\n",
       "</table>\n",
       "</div>"
      ],
      "text/plain": [
       "                 N            P            K  temperature     humidity  \\\n",
       "count  2200.000000  2200.000000  2200.000000  2200.000000  2200.000000   \n",
       "mean     50.551818    53.362727    48.149091    25.616244    71.481779   \n",
       "std      36.917334    32.985883    50.647931     5.063749    22.263812   \n",
       "min       0.000000     5.000000     5.000000     8.825675    14.258040   \n",
       "25%      21.000000    28.000000    20.000000    22.769375    60.261953   \n",
       "50%      37.000000    51.000000    32.000000    25.598693    80.473146   \n",
       "75%      84.250000    68.000000    49.000000    28.561654    89.948771   \n",
       "max     140.000000   145.000000   205.000000    43.675493    99.981876   \n",
       "\n",
       "                ph     rainfall  \n",
       "count  2200.000000  2200.000000  \n",
       "mean      6.469480   103.463655  \n",
       "std       0.773938    54.958389  \n",
       "min       3.504752    20.211267  \n",
       "25%       5.971693    64.551686  \n",
       "50%       6.425045    94.867624  \n",
       "75%       6.923643   124.267508  \n",
       "max       9.935091   298.560117  "
      ]
     },
     "execution_count": 78,
     "metadata": {},
     "output_type": "execute_result"
    }
   ],
   "source": [
    "df.describe()"
   ]
  },
  {
   "cell_type": "code",
   "execution_count": 79,
   "id": "518dee26",
   "metadata": {},
   "outputs": [
    {
     "data": {
      "text/html": [
       "<div>\n",
       "<style scoped>\n",
       "    .dataframe tbody tr th:only-of-type {\n",
       "        vertical-align: middle;\n",
       "    }\n",
       "\n",
       "    .dataframe tbody tr th {\n",
       "        vertical-align: top;\n",
       "    }\n",
       "\n",
       "    .dataframe thead th {\n",
       "        text-align: right;\n",
       "    }\n",
       "</style>\n",
       "<table border=\"1\" class=\"dataframe\">\n",
       "  <thead>\n",
       "    <tr style=\"text-align: right;\">\n",
       "      <th></th>\n",
       "      <th>N</th>\n",
       "      <th>P</th>\n",
       "      <th>K</th>\n",
       "      <th>temperature</th>\n",
       "      <th>humidity</th>\n",
       "      <th>ph</th>\n",
       "      <th>rainfall</th>\n",
       "    </tr>\n",
       "  </thead>\n",
       "  <tbody>\n",
       "    <tr>\n",
       "      <th>N</th>\n",
       "      <td>1.000000</td>\n",
       "      <td>-0.231460</td>\n",
       "      <td>-0.140512</td>\n",
       "      <td>0.026504</td>\n",
       "      <td>0.190688</td>\n",
       "      <td>0.096683</td>\n",
       "      <td>0.059020</td>\n",
       "    </tr>\n",
       "    <tr>\n",
       "      <th>P</th>\n",
       "      <td>-0.231460</td>\n",
       "      <td>1.000000</td>\n",
       "      <td>0.736232</td>\n",
       "      <td>-0.127541</td>\n",
       "      <td>-0.118734</td>\n",
       "      <td>-0.138019</td>\n",
       "      <td>-0.063839</td>\n",
       "    </tr>\n",
       "    <tr>\n",
       "      <th>K</th>\n",
       "      <td>-0.140512</td>\n",
       "      <td>0.736232</td>\n",
       "      <td>1.000000</td>\n",
       "      <td>-0.160387</td>\n",
       "      <td>0.190859</td>\n",
       "      <td>-0.169503</td>\n",
       "      <td>-0.053461</td>\n",
       "    </tr>\n",
       "    <tr>\n",
       "      <th>temperature</th>\n",
       "      <td>0.026504</td>\n",
       "      <td>-0.127541</td>\n",
       "      <td>-0.160387</td>\n",
       "      <td>1.000000</td>\n",
       "      <td>0.205320</td>\n",
       "      <td>-0.017795</td>\n",
       "      <td>-0.030084</td>\n",
       "    </tr>\n",
       "    <tr>\n",
       "      <th>humidity</th>\n",
       "      <td>0.190688</td>\n",
       "      <td>-0.118734</td>\n",
       "      <td>0.190859</td>\n",
       "      <td>0.205320</td>\n",
       "      <td>1.000000</td>\n",
       "      <td>-0.008483</td>\n",
       "      <td>0.094423</td>\n",
       "    </tr>\n",
       "    <tr>\n",
       "      <th>ph</th>\n",
       "      <td>0.096683</td>\n",
       "      <td>-0.138019</td>\n",
       "      <td>-0.169503</td>\n",
       "      <td>-0.017795</td>\n",
       "      <td>-0.008483</td>\n",
       "      <td>1.000000</td>\n",
       "      <td>-0.109069</td>\n",
       "    </tr>\n",
       "    <tr>\n",
       "      <th>rainfall</th>\n",
       "      <td>0.059020</td>\n",
       "      <td>-0.063839</td>\n",
       "      <td>-0.053461</td>\n",
       "      <td>-0.030084</td>\n",
       "      <td>0.094423</td>\n",
       "      <td>-0.109069</td>\n",
       "      <td>1.000000</td>\n",
       "    </tr>\n",
       "  </tbody>\n",
       "</table>\n",
       "</div>"
      ],
      "text/plain": [
       "                    N         P         K  temperature  humidity        ph  \\\n",
       "N            1.000000 -0.231460 -0.140512     0.026504  0.190688  0.096683   \n",
       "P           -0.231460  1.000000  0.736232    -0.127541 -0.118734 -0.138019   \n",
       "K           -0.140512  0.736232  1.000000    -0.160387  0.190859 -0.169503   \n",
       "temperature  0.026504 -0.127541 -0.160387     1.000000  0.205320 -0.017795   \n",
       "humidity     0.190688 -0.118734  0.190859     0.205320  1.000000 -0.008483   \n",
       "ph           0.096683 -0.138019 -0.169503    -0.017795 -0.008483  1.000000   \n",
       "rainfall     0.059020 -0.063839 -0.053461    -0.030084  0.094423 -0.109069   \n",
       "\n",
       "             rainfall  \n",
       "N            0.059020  \n",
       "P           -0.063839  \n",
       "K           -0.053461  \n",
       "temperature -0.030084  \n",
       "humidity     0.094423  \n",
       "ph          -0.109069  \n",
       "rainfall     1.000000  "
      ]
     },
     "execution_count": 79,
     "metadata": {},
     "output_type": "execute_result"
    }
   ],
   "source": [
    "df.corr()"
   ]
  },
  {
   "cell_type": "markdown",
   "id": "691f2b48",
   "metadata": {},
   "source": [
    "# Data Visuallization\n",
    "    B/W Ph of the soil and the crop grown"
   ]
  },
  {
   "cell_type": "code",
   "execution_count": 80,
   "id": "40f01796",
   "metadata": {},
   "outputs": [
    {
     "data": {
      "text/plain": [
       "<matplotlib.collections.PathCollection at 0x23f1b7f8520>"
      ]
     },
     "execution_count": 80,
     "metadata": {},
     "output_type": "execute_result"
    },
    {
     "data": {
      "image/png": "[encoded data removed]",
      "text/plain": [
       "<Figure size 432x288 with 1 Axes>"
      ]
     },
     "metadata": {
      "needs_background": "light"
     },
     "output_type": "display_data"
    }
   ],
   "source": [
    "plt.scatter(df.ph,df.label)"
   ]
  },
  {
   "cell_type": "code",
   "execution_count": 81,
   "id": "d266e534",
   "metadata": {},
   "outputs": [
    {
     "data": {
      "text/plain": [
       "<matplotlib.collections.PathCollection at 0x23f1d915d00>"
      ]
     },
     "execution_count": 81,
     "metadata": {},
     "output_type": "execute_result"
    },
    {
     "data": {
      "image/png": "[encoded data removed]",
      "text/plain": [
       "<Figure size 432x288 with 1 Axes>"
      ]
     },
     "metadata": {
      "needs_background": "light"
     },
     "output_type": "display_data"
    }
   ],
   "source": [
    "plt.scatter(df.rainfall,df.label)"
   ]
  },
  {
   "cell_type": "code",
   "execution_count": 82,
   "id": "f95ef947",
   "metadata": {},
   "outputs": [
    {
     "data": {
      "text/plain": [
       "<matplotlib.collections.PathCollection at 0x23f1da161c0>"
      ]
     },
     "execution_count": 82,
     "metadata": {},
     "output_type": "execute_result"
    },
    {
     "data": {
      "image/png": "[encoded data removed]",
      "text/plain": [
       "<Figure size 432x288 with 1 Axes>"
      ]
     },
     "metadata": {
      "needs_background": "light"
     },
     "output_type": "display_data"
    }
   ],
   "source": [
    "plt.scatter(df.humidity,df.label)"
   ]
  },
  {
   "cell_type": "code",
   "execution_count": 83,
   "id": "fe02ee3c",
   "metadata": {},
   "outputs": [
    {
     "data": {
      "text/plain": [
       "<matplotlib.collections.PathCollection at 0x23f1da9e190>"
      ]
     },
     "execution_count": 83,
     "metadata": {},
     "output_type": "execute_result"
    },
    {
     "data": {
      "image/png": "[encoded data removed]",
      "text/plain": [
       "<Figure size 432x288 with 1 Axes>"
      ]
     },
     "metadata": {
      "needs_background": "light"
     },
     "output_type": "display_data"
    }
   ],
   "source": [
    "plt.scatter(df.temperature,df.label)"
   ]
  },
  {
   "cell_type": "code",
   "execution_count": 84,
   "id": "54b38e6e",
   "metadata": {},
   "outputs": [
    {
     "data": {
      "text/plain": [
       "<matplotlib.collections.PathCollection at 0x23f1db22550>"
      ]
     },
     "execution_count": 84,
     "metadata": {},
     "output_type": "execute_result"
    },
    {
     "data": {
      "image/png": "[encoded data removed]",
      "text/plain": [
       "<Figure size 432x288 with 1 Axes>"
      ]
     },
     "metadata": {
      "needs_background": "light"
     },
     "output_type": "display_data"
    }
   ],
   "source": [
    "plt.scatter(df.N,df.label)"
   ]
  },
  {
   "cell_type": "code",
   "execution_count": 85,
   "id": "42c21a7c",
   "metadata": {},
   "outputs": [
    {
     "data": {
      "text/plain": [
       "<matplotlib.collections.PathCollection at 0x23f1db41e50>"
      ]
     },
     "execution_count": 85,
     "metadata": {},
     "output_type": "execute_result"
    },
    {
     "data": {
      "image/png": "[encoded data removed]",
      "text/plain": [
       "<Figure size 432x288 with 1 Axes>"
      ]
     },
     "metadata": {
      "needs_background": "light"
     },
     "output_type": "display_data"
    }
   ],
   "source": [
    "plt.scatter(df.P,df.label)"
   ]
  },
  {
   "cell_type": "code",
   "execution_count": 86,
   "id": "76f3bcc6",
   "metadata": {},
   "outputs": [
    {
     "data": {
      "text/plain": [
       "<matplotlib.collections.PathCollection at 0x23f1dc3eb50>"
      ]
     },
     "execution_count": 86,
     "metadata": {},
     "output_type": "execute_result"
    },
    {
     "data": {
      "image/png": "[encoded data removed]",
      "text/plain": [
       "<Figure size 432x288 with 1 Axes>"
      ]
     },
     "metadata": {
      "needs_background": "light"
     },
     "output_type": "display_data"
    }
   ],
   "source": [
    "plt.scatter(df.K,df.label)"
   ]
  },
  {
   "cell_type": "markdown",
   "id": "0b37151d",
   "metadata": {},
   "source": [
    "# Prediction"
   ]
  },
  {
   "cell_type": "code",
   "execution_count": 87,
   "id": "a9843906",
   "metadata": {},
   "outputs": [],
   "source": [
    "from sklearn.preprocessing import LabelEncoder"
   ]
  },
  {
   "cell_type": "code",
   "execution_count": 88,
   "id": "ddf66926",
   "metadata": {},
   "outputs": [],
   "source": [
    "le = LabelEncoder()"
   ]
  },
  {
   "cell_type": "code",
   "execution_count": 89,
   "id": "ae2c8ecb",
   "metadata": {},
   "outputs": [],
   "source": [
    "df['label'] = le.fit_transform(df['label'])"
   ]
  },
  {
   "cell_type": "code",
   "execution_count": 90,
   "id": "4ccbbbc5",
   "metadata": {},
   "outputs": [
    {
     "name": "stdout",
     "output_type": "stream",
     "text": [
      "        N   P   K  temperature   humidity        ph    rainfall  label\n",
      "0      90  42  43    20.879744  82.002744  6.502985  202.935536     20\n",
      "1      85  58  41    21.770462  80.319644  7.038096  226.655537     20\n",
      "2      60  55  44    23.004459  82.320763  7.840207  263.964248     20\n",
      "3      74  35  40    26.491096  80.158363  6.980401  242.864034     20\n",
      "4      78  42  42    20.130175  81.604873  7.628473  262.717340     20\n",
      "...   ...  ..  ..          ...        ...       ...         ...    ...\n",
      "2195  107  34  32    26.774637  66.413269  6.780064  177.774507      5\n",
      "2196   99  15  27    27.417112  56.636362  6.086922  127.924610      5\n",
      "2197  118  33  30    24.131797  67.225123  6.362608  173.322839      5\n",
      "2198  117  32  34    26.272418  52.127394  6.758793  127.175293      5\n",
      "2199  104  18  30    23.603016  60.396475  6.779833  140.937041      5\n",
      "\n",
      "[2200 rows x 8 columns]\n"
     ]
    }
   ],
   "source": [
    "print(df)"
   ]
  },
  {
   "cell_type": "code",
   "execution_count": 480,
   "id": "a1dfde94",
   "metadata": {},
   "outputs": [
    {
     "data": {
      "text/plain": [
       "array([10.74190121, 11.66292325, 11.52469014, 13.09536232, 13.31502116,\n",
       "       10.98375133, 13.40983055,  7.04040832,  9.6322809 , 15.34008998,\n",
       "       10.19424513, 11.39232675, 14.63810517, 12.88165825, 10.67324588,\n",
       "        9.30490515,  4.7883965 ,  8.26980954, 14.30841329,  4.13260715,\n",
       "       17.50286873,  8.98429996,  3.05357091, 11.20113915, 12.00424955,\n",
       "       10.51329553, 14.54579639,  9.6784845 , 13.2049912 ,  9.93477528,\n",
       "       16.33758047,  5.48882791,  8.16874404, 16.38282798,  9.4020051 ,\n",
       "       12.07835002, 14.02050343, 16.72220737, 10.85164816, 11.70921539,\n",
       "       13.78065934, 11.99008744,  6.86390933, 14.90596496,  1.81379184,\n",
       "       11.61279592,  6.71827268,  8.38567742, 13.17864886, 14.60742752,\n",
       "       11.12886795,  8.50123643,  4.18567974,  5.33347324, 13.05105054,\n",
       "       10.29188474,  3.83731575, 10.20031331,  9.59513633,  5.89696543,\n",
       "       16.32674121,  4.80911598,  9.53898302, 11.33099985, 11.41813292,\n",
       "       10.47405386,  5.63715628, 14.57994845, 11.17925469, 11.09199434,\n",
       "       16.64845548,  8.65285836, 10.58339124,  9.55778041,  8.75336707,\n",
       "        7.52008476,  7.72816057,  8.8602217 ,  9.55428414, 13.7814864 ,\n",
       "       14.88450243, 15.47208784, 13.55044276,  8.8884561 , 17.70441662,\n",
       "       10.88267299,  9.9590117 ,  5.40472749,  9.69289828, 13.00313793,\n",
       "       12.07944452, 17.26489295, 12.03954967, 13.16435251,  8.31494499,\n",
       "       10.71594184,  6.85077747, 10.96005919, 10.44301747,  9.08236634,\n",
       "       13.0635757 ,  7.95800455,  5.66662482,  5.39785059, 15.05703453,\n",
       "       11.46504737,  6.32675316,  5.89140773, 13.34795226,  6.49208119,\n",
       "        6.93354765,  9.32881182, 15.3675645 , 12.74683584, 13.4085815 ,\n",
       "        8.92690426,  8.89864489, 12.58040447,  2.93226219, 13.0139242 ,\n",
       "       15.41852402, 15.27323369, 12.02735274, 14.68902124,  4.74409911,\n",
       "       10.40127937,  8.05723045, 10.20507564,  9.35162194, 10.30402174,\n",
       "        3.95500928,  7.56834237,  9.40337985,  3.55688866, 11.94704369,\n",
       "        6.30323316,  8.47765746, 15.05741897,  3.67942513, 15.88871529,\n",
       "        9.32907392, 10.81201408, 13.06293455,  7.66727088, 10.75453072,\n",
       "       16.76150841,  9.96858359,  7.35951412,  9.47408884,  4.01805592,\n",
       "        9.25482642, 10.90429583,  8.099782  , 12.87193491, 13.18381713,\n",
       "        4.42416036,  6.12344788, 12.90730123,  8.85073325,  9.37261859,\n",
       "       15.37388319,  5.17963724, 11.85802587, 11.45522311,  3.46897347,\n",
       "       11.60212699,  7.68656018, 13.42780482, 15.71096136, 16.41816023,\n",
       "        4.47968642,  8.95271108,  9.68089105,  4.92318408,  3.38783504,\n",
       "        5.32254994,  3.98823493, 10.14568517, 11.75798954, 10.62195168,\n",
       "        5.77696062, 10.01444535, 11.69141803, 13.86295542,  4.61407653,\n",
       "        8.60704098,  6.96404181, 15.14706479, 10.36755213, 15.65104012,\n",
       "       12.59930801, 10.97905622, 10.72611284,  9.05937066, 12.45769402,\n",
       "       11.44748959,  9.17476756, 11.90452472,  9.49403345, 17.13354405,\n",
       "       14.51017587, 16.06104956, 12.04314776,  9.07260194,  8.51185308,\n",
       "        9.97854298,  2.63437288,  9.08773393, 12.81791575,  5.04116309,\n",
       "       10.95603599,  9.31179375, 10.86377696,  7.85490282, 13.30084685,\n",
       "        9.10902835,  3.86588834, 11.96227398, 11.51582249,  4.44350352,\n",
       "       12.12527834, 10.50795154, 10.878267  , 10.11752726, 11.55276542,\n",
       "       13.55870971,  8.41088779, 10.11304196,  8.63418823,  9.1670493 ,\n",
       "        9.88045424, 10.52897414,  3.37751485, 11.84036148, 12.76130694,\n",
       "        8.66115246, 16.31140557, 11.46812172,  9.53147463,  9.33373686,\n",
       "       14.79980784, 10.89807595,  9.21042758,  8.27766755,  9.90743719,\n",
       "       10.77931632, 13.04735881,  4.53837134,  9.5312847 , 10.29807952,\n",
       "        7.98193981,  5.8221318 , 10.68016803,  8.87627459, 13.39269625,\n",
       "       15.85482539, 15.12699349,  9.75970192, 13.35201624, 11.7766277 ,\n",
       "        9.4076262 ,  8.25177617, 14.96784901,  8.05122869,  8.68675189,\n",
       "        9.31255813,  9.61303733, 16.87192146,  9.36125301,  8.67521742,\n",
       "       13.36168987,  2.18440612, 17.0753124 , 10.95850017, 12.97066431,\n",
       "        9.63383047, 10.08948001,  8.06120651, 11.92981712, 12.13967504,\n",
       "       10.24462056,  5.94191733, 13.79989893,  8.70002291, 10.81024938,\n",
       "        9.19633164,  5.11257698, 14.4397386 , 11.82630142,  8.42520011,\n",
       "       10.24723174, 10.35267269,  5.02397733, 10.83419543, 10.30053926,\n",
       "       13.78574004, 14.02670152, 10.32982167,  9.64008886,  9.32791399,\n",
       "        6.57193114, 10.02068287,  3.68748074, 12.09463418,  9.54722575,\n",
       "        2.21957153,  8.41531694,  4.31386926,  4.04373465, 10.09243498,\n",
       "        5.34747179, 15.19457463, 17.76971934,  9.96649483, 11.00573087,\n",
       "        8.47935746, 14.08269433, 10.07616154,  4.19327143, 10.31765537,\n",
       "       12.70098422, 10.84964064, 12.16063463, 15.57161042,  6.47768065,\n",
       "        6.81451586, 16.50081563,  9.60800893, 16.76868198, 13.56074086,\n",
       "       15.57679534,  6.54925305, 13.87547901, 16.82469576, 12.78009566,\n",
       "        9.43482901, 15.58562769, 10.6363942 , 11.6089915 , 13.03941205,\n",
       "        8.49643783, 12.55271878, 11.91687349, 12.44717739, 13.95310662,\n",
       "        8.0742206 ,  6.93177501, 10.3461458 , 12.41555515,  5.03983592,\n",
       "        4.74763037,  7.67097644,  8.72085636, 14.29919628,  8.57932936,\n",
       "        5.00625099, 12.56837993, 10.49606731, 10.79927205,  9.46776335,\n",
       "        8.66366641, 11.33256178, 10.57298394, 10.72980873,  3.59107056,\n",
       "       11.39058531,  9.03084135,  9.96926725, 11.23266174, 12.47182814,\n",
       "       12.46335715, 11.15159997,  9.18542787,  8.61484602,  9.16842401,\n",
       "       15.14635999,  1.96650643, 12.66923847, 13.62307062, 12.68390971,\n",
       "        8.50272544, 15.16338134,  4.82330841,  8.66194209, 12.66086034,\n",
       "       13.65621503, 13.52476287, 13.03864233,  8.71155717,  4.31691629,\n",
       "       11.53197995, 11.76192913, 12.39950249, 12.75163456, 15.75277797,\n",
       "       10.78074583, 14.26144208,  9.69765909, 11.98102545,  7.68420047,\n",
       "       14.90947813,  7.68218391, 10.91089945,  9.39824685, 12.14424605,\n",
       "        4.63940709,  9.8159648 , 11.26856956, 14.17694005, 11.68619859,\n",
       "       12.92101555,  9.5911289 , 11.66945246,  9.1922832 , 13.14672599,\n",
       "        8.63449785, 13.56090864,  3.52923844,  3.18506801, 10.31930604,\n",
       "        8.44268776, 13.13057651, 16.82786   ,  7.91183333, 13.6472041 ,\n",
       "        5.95195939, 11.25126846,  9.93928607, 16.85387097,  6.47117901,\n",
       "        7.86636829,  5.33308993, 15.72538784,  5.98124211, 15.77409527,\n",
       "        9.60860397, 11.14460371, 10.18815161,  7.3091141 , 15.6949076 ])"
      ]
     },
     "execution_count": 480,
     "metadata": {},
     "output_type": "execute_result"
    }
   ],
   "source": [
    "X = df[['N', 'P', 'K','temperature','humidity','ph','rainfall']]\n",
    "y = df['label']\n",
    "from sklearn.model_selection import train_test_split\n",
    "X_train, X_test, y_train, y_test = train_test_split(X,y,train_size=0.8)\n",
    "from sklearn.linear_model import LinearRegression\n",
    "lm = LinearRegression()\n",
    "lm.fit(X,y)\n",
    "predicted_details = lm.predict(X_test)\n",
    "predicted_details"
   ]
  },
  {
   "cell_type": "code",
   "execution_count": 481,
   "id": "0ba203f8",
   "metadata": {},
   "outputs": [
    {
     "data": {
      "text/plain": [
       "0.37029638533665343"
      ]
     },
     "execution_count": 481,
     "metadata": {},
     "output_type": "execute_result"
    }
   ],
   "source": [
    "from sklearn.metrics import explained_variance_score\n",
    "explained_variance_score(y_test, predicted_details)"
   ]
  },
  {
   "cell_type": "code",
   "execution_count": 122,
   "id": "696939f7",
   "metadata": {},
   "outputs": [],
   "source": [
    "from sklearn.svm import SVR"
   ]
  },
  {
   "cell_type": "code",
   "execution_count": 124,
   "id": "575419e8",
   "metadata": {},
   "outputs": [],
   "source": [
    "sv=SVR()"
   ]
  },
  {
   "cell_type": "code",
   "execution_count": 125,
   "id": "41c7c1ed",
   "metadata": {},
   "outputs": [
    {
     "data": {
      "text/plain": [
       "SVR()"
      ]
     },
     "execution_count": 125,
     "metadata": {},
     "output_type": "execute_result"
    }
   ],
   "source": [
    "sv.fit(X,y)"
   ]
  },
  {
   "cell_type": "code",
   "execution_count": 126,
   "id": "e49f34fc",
   "metadata": {},
   "outputs": [
    {
     "data": {
      "text/plain": [
       "array([ 1.35847138, 17.45453675, 12.78706943, 15.1004854 , 17.95532738,\n",
       "        1.33657531,  6.44062302,  9.47213752, -0.07290215, 18.39483145,\n",
       "       17.88944146,  5.0043926 ,  5.18167305,  6.51072169, 11.77564944,\n",
       "       11.59501261, 15.88741743,  6.44894544, 18.48646936, 15.22785061,\n",
       "        8.40293905, 13.02124021,  8.53154485, 15.99220372, 12.92900302,\n",
       "       11.53172107,  7.49727293,  2.42431588, 15.96069989,  9.14986815,\n",
       "        3.33110831, 18.15661107, 13.14984533, 14.8121631 , 18.34588913,\n",
       "       17.5500706 ,  3.41855462, 13.50397916, 14.89394819, 11.17879615,\n",
       "       16.7462467 ,  8.43688615,  7.52290439,  3.94935274, 16.87076836,\n",
       "       10.75525736,  8.15880061,  7.19939412, 13.57444145, 17.83454883,\n",
       "        6.55476144, 18.97459437, 10.23464548,  0.41999318,  9.01349225,\n",
       "       16.77415808,  6.49921738, 17.6933775 , 12.81967493, 12.90565146,\n",
       "       15.87437316,  9.07786247, 15.9121533 , 13.13047479, 11.44605519,\n",
       "       17.71553836,  7.21924435, 12.02445577, 10.81617381, 18.38580297,\n",
       "       16.86061601,  7.18296526,  6.60131404,  7.07006607,  1.21606002,\n",
       "       10.43662928,  5.99670265, 13.14350001, 19.33192477,  5.09848972,\n",
       "        9.73244622, 11.07225821,  6.39830761, 11.95055925, 13.97426432,\n",
       "        8.68394638, 14.32774513,  5.8782125 , 18.70576139,  2.51739268,\n",
       "        2.88192845,  9.95113114, 14.59748727,  6.81815652, 13.20258083,\n",
       "       10.61785194, 11.99288231,  6.72735143,  7.03437338, 11.13558402,\n",
       "       15.12563323,  6.72193102, 12.42685564,  8.46326862, 18.07812831,\n",
       "       18.3946714 ,  8.49575233, 15.84963576,  4.09266265,  9.85529859,\n",
       "       15.07389283, 10.8589681 , 10.99428499,  3.71265587,  5.60937267,\n",
       "        3.58237119,  8.8205669 , 13.07664699, 11.93539364, 10.64894315,\n",
       "       10.84478993,  5.75208746, 12.65487493, 12.65983777, 10.69700317,\n",
       "        7.32327643,  9.34226279,  3.2314639 ,  3.17097319,  2.49223809,\n",
       "       16.8054658 , 11.01356815,  3.07706514, 12.22351393,  6.12209822,\n",
       "       11.25959992, 14.05322845, 12.62300346, 18.56497615, 16.80197487,\n",
       "        5.81082441, 15.14186498, 19.23953298,  1.48051058, 17.07093986,\n",
       "       12.326373  , 14.18830813, 10.64937064, 12.32605897, 12.02231085,\n",
       "       12.38453668, 16.0703649 ,  3.20440606,  3.31849308, -0.52692061,\n",
       "        1.75177338,  7.11334234,  1.18619011, 13.03483945,  7.42134379,\n",
       "        8.81271131, 10.80594024,  8.1161405 , -0.50207313,  9.45970089,\n",
       "       14.64071041, 15.38520656, 18.4313489 , 17.74106492,  4.44380821,\n",
       "        9.68476119, 11.3286594 , 10.35992264, 14.98863387, 16.13512581,\n",
       "       13.80608027,  0.83156733, 17.33025508,  8.12242278, 11.95196474,\n",
       "       16.8202187 , 11.99579895, 18.40991351,  6.43347796,  8.65714449,\n",
       "        3.31904569, 13.04518529,  6.44566297, 16.69741649,  9.41979956,\n",
       "       15.1041775 ,  6.33692025, 20.6146229 , 20.54541117, 10.670831  ,\n",
       "        6.12246028,  3.11212804, 12.7506162 , 12.62279921, 10.52376731,\n",
       "        9.29226126,  5.52170605, 10.99954503,  9.16308134,  7.04465669,\n",
       "       18.12455681,  8.6377527 ,  6.07128791,  6.95149298, 11.18970391,\n",
       "       10.39261917,  9.08073091,  5.76341715,  3.2432527 , 15.38775511,\n",
       "        1.9546378 ,  1.95173344, 14.61234947,  3.43783499,  5.52541516,\n",
       "        3.69722444, 17.69926188, 14.86900141,  7.0878426 ,  1.55709933,\n",
       "       11.46060592,  3.96021752, 12.45351353, 18.74376818, 10.5522751 ,\n",
       "       20.79465462,  8.26810201, 17.98201133, 16.30701609,  9.96088772,\n",
       "        9.85251212, 14.75574677,  9.3107469 , 18.06975818, 16.45023953,\n",
       "       14.75897702, 17.5776483 ,  7.83408174,  3.08864002, 15.20220521,\n",
       "        5.4748434 ,  8.47079813, 17.25285212,  9.15454502,  4.03866533,\n",
       "        4.60074121, 10.03968445, 18.54413338,  6.6980546 , 10.8270537 ,\n",
       "        9.54235986,  6.14236576, 12.26965994,  7.48206062, 11.31267716,\n",
       "        4.21498325, 11.24949283, 19.72280748,  3.51093704,  7.23260153,\n",
       "       12.0870015 ,  9.19562684, 16.22116041, 12.39843521, 19.41604212,\n",
       "        7.4625707 , 16.45621002, 10.98545642, 14.52826366, 10.89214513,\n",
       "       14.38081131, 12.7168122 ,  9.47571986, 16.59458583, 11.53703354,\n",
       "        3.51092828, 17.85950289,  9.76662742, 15.42289773, 16.7620546 ,\n",
       "       12.19163041, 15.71808946, 10.13878216,  6.25632592,  4.8236744 ,\n",
       "       16.65735635,  5.44949887, 11.34676477, 16.26905645,  6.67882195,\n",
       "       11.78009765, 15.2746742 ,  4.78127446, 11.09187955,  9.50962084,\n",
       "       12.5028508 ,  6.73041627,  4.19446312, 10.65162807, 14.06799887,\n",
       "        6.26920943,  4.62360607,  6.4445189 , 12.07872161, 16.6280848 ,\n",
       "        5.60035976,  5.89667504, 13.44648863,  7.1912412 , 10.15363425,\n",
       "       16.86384703, 11.83909405, 10.16530603,  9.77148176, 11.75307331,\n",
       "        2.73303601, 14.43192507, 10.63940555, 12.30205979,  9.45697757,\n",
       "       17.58641359, 11.82698395,  5.01343531,  9.30610473, 13.21930352,\n",
       "        9.90757754,  8.50976993,  9.93434999, 14.20796245,  8.22246565,\n",
       "       18.51123234,  2.58721075,  3.76643667, 10.97100039, 14.2238615 ,\n",
       "       12.87010285, 15.57842971, 12.62718737, 14.83425605, -0.6751973 ,\n",
       "       20.44884668, 10.64154897, 18.63727168,  6.00856903, 14.99767454,\n",
       "        8.56849907, 12.24332581, 13.59271929, 17.19275974, 16.01604813,\n",
       "       11.73601871, 14.61155008,  4.56843238, 17.54467286, 15.74953802,\n",
       "        9.9498651 , 11.15922602, 18.29524672,  8.99834777, 13.19482196,\n",
       "       12.21869374,  7.9202288 , 15.01375394, 19.19839123,  6.60965202,\n",
       "       13.64493489, 15.83701529, 10.00064894,  6.96972129,  5.23721499,\n",
       "       16.09181796, 11.85994616, 11.29775688, 15.22133903,  4.36999594,\n",
       "       15.50811335, 15.08288953, -0.10983511,  1.23872539, 16.46850821,\n",
       "        7.14903816, 10.73183355,  3.94178221, 18.90061249, 14.70685467,\n",
       "       15.02893959,  3.80049848,  7.30074994,  2.71220532, 19.01140276,\n",
       "       13.53547622,  9.14348587, 14.57986778,  7.00006692, 11.63660831,\n",
       "       13.67445126, 14.60228643, 18.21696115,  9.70498808,  6.29344062,\n",
       "        4.79747612,  4.09989647, 18.43926138,  0.86361227, 11.66120879,\n",
       "        9.2529479 ,  6.1976659 , 11.08446259, 10.2301328 , 18.19582961,\n",
       "       12.57277532, 11.48640056, 10.97621808,  9.08676119,  6.38619021,\n",
       "        9.60506867,  9.11091732, 16.22090114, 18.98947105, 18.44582118,\n",
       "       16.35489384, 13.0529244 ,  3.24538858,  9.64010643,  6.34527702,\n",
       "        9.03149086, 10.64716866,  9.04877348,  4.95094663, 10.73971536,\n",
       "       18.2867014 ,  8.04548965, 11.44583294,  5.14190357,  9.54855132])"
      ]
     },
     "execution_count": 126,
     "metadata": {},
     "output_type": "execute_result"
    }
   ],
   "source": [
    "predicted_sv = sv.predict(X_test)\n",
    "predicted_sv"
   ]
  },
  {
   "cell_type": "code",
   "execution_count": 127,
   "id": "77a299ee",
   "metadata": {},
   "outputs": [
    {
     "data": {
      "text/plain": [
       "0.7463172829127376"
      ]
     },
     "execution_count": 127,
     "metadata": {},
     "output_type": "execute_result"
    }
   ],
   "source": [
    "explained_variance_score(y_test, predicted_sv)"
   ]
  },
  {
   "cell_type": "code",
   "execution_count": 567,
   "id": "e42f7454",
   "metadata": {},
   "outputs": [
    {
     "name": "stdout",
     "output_type": "stream",
     "text": [
      "[ 4 13  3  1 15  9  5  3  2 13  5 12  7 20 20 12  4 15 10 14 13  6 14 20\n",
      "  2 16  5  0  7  1 20  9 12  1 21  3 13  6 20 17 15 19  8 13 12 14 11  1\n",
      " 19  5 13  8  5  8  7  7  6 18  6 17 12  6 18  3 19  7 21  3 10  7  8 17\n",
      " 12 16 11 15  0 17 15 16  7 10  9 21 18 14 20 12 14 16 14  1 13  4  6 17\n",
      "  9 12 16 16  3  9 15 18  2  3 16  8 17 13  4 18 11 21 18  2 17 21 17 12\n",
      "  4  4 18  7 21 19 19 10 21  5 11 15 17 13  2 13 12  0 11 15  0 12  3 20\n",
      "  9 10  8  3  3  4  0 12 16  9  7 12 18  9  3  7 10  9 17 16 21 10 11 10\n",
      " 18  3 18  3 13 16  2  7 18  5 12  8 21  2 21  3 19 21 12 11 11 12 10  7\n",
      "  1 13  5  8 20  8  1 10 11 13 17  0 19 15 19  8  6 19 11  4 16  1 11  9\n",
      "  2  8 19  1  0 14  2  5 14  0 13  4  9  7  2 12 14  7  2 17 15  9 17  8\n",
      "  2 10  6  5 15 15 12  8  0  6  8  6 12  5  2 10  2 17  5  9  3 20  2 15\n",
      " 13 12 12 13  4 15 11  6 14 18  4 19  2 19 20 13 12 11  7  9  5  1  0  1\n",
      " 17  2 16 13 11 17  3 20  1 13 19  4  7  5  2  4 10 13  8 16 11  8  7 18\n",
      " 20 18 20  1 12 12 12 13 18 12 20 18  0  7 21 11 12  1  7  7  2  0  2  5\n",
      "  2 12 15  0 13 12  6 16 13  8 16 13  8 21 14 12 10  8  1 13  4 13 18 12\n",
      " 10 10  8  4 14  0  1 17  4 15 10 12 18 15  5 11  6  4  1 15 20  7  9  8\n",
      "  4 21  2  4 12 16 20  3  1 18  8  0 15  2  5  6  3 14 12  9  4 15  7  5\n",
      "  9  9 16 12  3 13 15 14 17  1 20  0  5 14 12 19  1 10  5 12 15  7  1 10\n",
      " 13  3 13 14 10 15 21  5]\n"
     ]
    },
    {
     "data": {
      "text/plain": [
       "0.9385653343588305"
      ]
     },
     "execution_count": 567,
     "metadata": {},
     "output_type": "execute_result"
    }
   ],
   "source": [
    "X = df[['N', 'P', 'K','temperature','humidity','ph','rainfall']]\n",
    "y = df['label']\n",
    "from sklearn.model_selection import train_test_split\n",
    "X_train, X_test, y_train, y_test = train_test_split(X,y,train_size=0.8)\n",
    "from sklearn.neighbors import KNeighborsClassifier\n",
    "knn = KNeighborsClassifier()\n",
    "knn.fit(X,y)\n",
    "predicted_knn = knn.predict(X_test)\n",
    "print(predicted_knn)\n",
    "explained_variance_score(y_test, predicted_knn)"
   ]
  },
  {
   "cell_type": "code",
   "execution_count": 555,
   "id": "67de888e",
   "metadata": {},
   "outputs": [
    {
     "name": "stdout",
     "output_type": "stream",
     "text": [
      "[ 4 10 13 18  5  0 15  7 19 11 10  4 18  8 13  5  7 19 12 14  8 18  8 17\n",
      "  2  1 20  7 21  2 19  8 18 19  0 15  0 21 17 19 16 21  0  1  0  4 21  0\n",
      " 10 17  8  2  2  0  7  8 21  3 17  0  6  2  8 13 20 13 14 20  8  6  4  9\n",
      "  9  2 16  9 20  3  4 14 20  1  2 13 16 12 14 21 19 20 16  8 21  5 15  6\n",
      " 11 16 21  6  9  0  6 20 13 11  4  5 14 11 16 11  6 21 18  5  4  9  8 16\n",
      "  5  3 15  2 10  6 10  7  4  2  6 17  7 13 16  1 10 15 10  7  6  9 16 15\n",
      " 21 21  8  4  3  0 11 12  1  7 16 16  8 15 20  4 17  1  2 16  2  0  3 13\n",
      "  1  9  9 20 10  3 12 14 12 11  8  0 21  4 14 18 19 14 18 13  0  0  4 12\n",
      "  1 15 10  9 21  4  7  4  4  4 11  0 11  3  1  3  0  4 20 17  2 18 15  1\n",
      " 19  9  4 17 14  7 14 20 12  4  4 19 15 15 16 10 20 12 17  3  5 20 10 16\n",
      " 19 19 17 14 13 20  1  3 12 12 10 13 14 12  7 10  8 15 10 11  0  8 21  3\n",
      " 20  2 19 20  7 19 17  2 14  7  7  7  7  3  1 10 15  4  1  0  9  6  6 10\n",
      "  1 12  7 19  3  0  8  4  6 19 15 21 19 19  8 20 12 15  2  7  8 12 16 19\n",
      "  1 20  8 20  0 12 12  7 15  4 18 19 18 11 14  1 16 21  8 18  7 10  5  2\n",
      " 16 14 16 20  7 14 12  7 15 12 19 18 11 12 15  1 21  5  9 20 19  6 16 16\n",
      "  1  3  2 21 13 20 19 14 16 21 17  9  2 10 16 18  7  9  1 20  4 15 11 16\n",
      " 20  1 15  9 10 12 14  3  2 15  5 20  9  8 12 16 12 19 15 10 18 14 14  2\n",
      "  3 11 14  4  3  5 21  0  9 15  9  9 13 15 18  0  0  9  2 13  0 11  7  4\n",
      " 20 13 14 20  9  4 15  5]\n"
     ]
    },
    {
     "name": "stderr",
     "output_type": "stream",
     "text": [
      "D:\\Software\\Python\\envs\\R-Tutorial\\lib\\site-packages\\sklearn\\linear_model\\_logistic.py:814: ConvergenceWarning: lbfgs failed to converge (status=1):\n",
      "STOP: TOTAL NO. of ITERATIONS REACHED LIMIT.\n",
      "\n",
      "Increase the number of iterations (max_iter) or scale the data as shown in:\n",
      "    https://scikit-learn.org/stable/modules/preprocessing.html\n",
      "Please also refer to the documentation for alternative solver options:\n",
      "    https://scikit-learn.org/stable/modules/linear_model.html#logistic-regression\n",
      "  n_iter_i = _check_optimize_result(\n"
     ]
    },
    {
     "data": {
      "text/plain": [
       "0.9131135217191654"
      ]
     },
     "execution_count": 555,
     "metadata": {},
     "output_type": "execute_result"
    }
   ],
   "source": [
    "X = df[['N', 'P', 'K','temperature','humidity','ph','rainfall']]\n",
    "y = df['label']\n",
    "from sklearn.model_selection import train_test_split\n",
    "X_train, X_test, y_train, y_test = train_test_split(X,y,train_size=0.8)\n",
    "from sklearn.linear_model import LogisticRegression\n",
    "lr=LogisticRegression()\n",
    "lr.fit(X,y)\n",
    "predicted_lr = lr.predict(X_test)\n",
    "print(predicted_lr)\n",
    "explained_variance_score(y_test, predicted_lr)"
   ]
  },
  {
   "cell_type": "code",
   "execution_count": null,
   "id": "e9d7af79",
   "metadata": {},
   "outputs": [],
   "source": [
    "a= (explained_variance_score(y_test, predicted_details))*100\n",
    "b= (explained_variance_score(y_test, predicted_sv))*100\n",
    "c= (explained_variance_score(y_test, predicted_knn))*100\n",
    "d= (explained_variance_score(y_test, predicted_lr))*100\n",
    "model=['Linear Regression','SVR','KNN','Logistic Regression']\n",
    "accuracy=[a,b,c,d]"
   ]
  },
  {
   "cell_type": "code",
   "execution_count": null,
   "id": "66c18684",
   "metadata": {},
   "outputs": [],
   "source": []
  },
  {
   "cell_type": "code",
   "execution_count": null,
   "id": "7dcd29f7",
   "metadata": {},
   "outputs": [],
   "source": []
  },
  {
   "cell_type": "code",
   "execution_count": null,
   "id": "781faecc",
   "metadata": {},
   "outputs": [],
   "source": []
  }
 ],
 "metadata": {
  "kernelspec": {
   "display_name": "Python 3 (ipykernel)",
   "language": "python",
   "name": "python3"
  },
  "language_info": {
   "codemirror_mode": {
    "name": "ipython",
    "version": 3
   },
   "file_extension": ".py",
   "mimetype": "text/x-python",
   "name": "python",
   "nbconvert_exporter": "python",
   "pygments_lexer": "ipython3",
   "version": "3.8.12"
  }
 },
 "nbformat": 4,
 "nbformat_minor": 5
}
