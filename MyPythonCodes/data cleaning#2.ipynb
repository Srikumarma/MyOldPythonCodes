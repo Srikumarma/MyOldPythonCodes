{
 "cells": [
  {
   "cell_type": "code",
   "execution_count": 1,
   "id": "688d3bc5",
   "metadata": {},
   "outputs": [
    {
     "name": "stderr",
     "output_type": "stream",
     "text": [
      "Warning message:\n",
      "\"package 'dplyr' was built under R version 3.6.3\"\n",
      "Attaching package: 'dplyr'\n",
      "\n",
      "The following objects are masked from 'package:stats':\n",
      "\n",
      "    filter, lag\n",
      "\n",
      "The following objects are masked from 'package:base':\n",
      "\n",
      "    intersect, setdiff, setequal, union\n",
      "\n",
      "Warning message:\n",
      "\"package 'nycflights13' was built under R version 3.6.3\""
     ]
    },
    {
     "name": "stdout",
     "output_type": "stream",
     "text": [
      "# A tibble: 336,776 x 19\n",
      "    year month   day dep_time sched_dep_time dep_delay arr_time sched_arr_time\n",
      "   <int> <int> <int>    <int>          <int>     <dbl>    <int>          <int>\n",
      " 1  2013     1     1      517            515         2      830            819\n",
      " 2  2013     1     1      533            529         4      850            830\n",
      " 3  2013     1     1      542            540         2      923            850\n",
      " 4  2013     1     1      544            545        -1     1004           1022\n",
      " 5  2013     1     1      554            600        -6      812            837\n",
      " 6  2013     1     1      554            558        -4      740            728\n",
      " 7  2013     1     1      555            600        -5      913            854\n",
      " 8  2013     1     1      557            600        -3      709            723\n",
      " 9  2013     1     1      557            600        -3      838            846\n",
      "10  2013     1     1      558            600        -2      753            745\n",
      "# ... with 336,766 more rows, and 11 more variables: arr_delay <dbl>,\n",
      "#   carrier <chr>, flight <int>, tailnum <chr>, origin <chr>, dest <chr>,\n",
      "#   air_time <dbl>, distance <dbl>, hour <dbl>, minute <dbl>, time_hour <dttm>\n"
     ]
    }
   ],
   "source": [
    "library('dplyr')\n",
    "library(nycflights13)\n",
    "print(flights)"
   ]
  },
  {
   "cell_type": "code",
   "execution_count": 2,
   "id": "72cb6fe6",
   "metadata": {},
   "outputs": [
    {
     "name": "stdout",
     "output_type": "stream",
     "text": [
      "# A tibble: 105 x 2\n",
      "   dest  Avg_Delay\n",
      "   <chr>     <dbl>\n",
      " 1 ABQ        4.38\n",
      " 2 ACK        4.85\n",
      " 3 ALB       14.4 \n",
      " 4 ANC       -2.5 \n",
      " 5 ATL       11.3 \n",
      " 6 AUS        6.02\n",
      " 7 AVL        8.00\n",
      " 8 BDL        7.05\n",
      " 9 BGR        8.03\n",
      "10 BHM       16.9 \n",
      "# ... with 95 more rows\n"
     ]
    }
   ],
   "source": [
    "print(flights %>% group_by(dest)%>% summarize(Avg_Delay=mean(arr_delay,na.rm=TRUE)))"
   ]
  },
  {
   "cell_type": "code",
   "execution_count": 6,
   "id": "cb3da7f9",
   "metadata": {},
   "outputs": [],
   "source": []
  },
  {
   "cell_type": "code",
   "execution_count": 5,
   "id": "df579acd",
   "metadata": {},
   "outputs": [
    {
     "name": "stderr",
     "output_type": "stream",
     "text": [
      "also installing the dependencies 'bit', 'fs', 'rappdirs', 'bit64', 'progress', 'processx', 'xfun', 'blob', 'data.table', 'gargle', 'ids', 'rematch2', 'isoband', 'cpp11', 'vroom', 'tzdb', 'callr', 'knitr', 'withr', 'broom', 'cli', 'crayon', 'dbplyr', 'dtplyr', 'forcats', 'googledrive', 'googlesheets4', 'ggplot2', 'haven', 'hms', 'httr', 'jsonlite', 'lubridate', 'magrittr', 'modelr', 'purrr', 'readr', 'reprex', 'rstudioapi', 'rvest', 'tidyr', 'xml2'\n",
      "\n"
     ]
    },
    {
     "name": "stdout",
     "output_type": "stream",
     "text": [
      "\n",
      "  There are binary versions available but the source versions are later:\n",
      "              binary source needs_compilation\n",
      "xfun            0.22   0.27              TRUE\n",
      "blob           1.2.1  1.2.2             FALSE\n",
      "data.table    1.14.0 1.14.2              TRUE\n",
      "gargle         1.1.0  1.2.0             FALSE\n",
      "isoband        0.2.4  0.2.5              TRUE\n",
      "cpp11          0.2.7  0.4.0             FALSE\n",
      "vroom          1.4.0  1.5.5              TRUE\n",
      "tzdb           0.1.1  0.1.2              TRUE\n",
      "knitr           1.33   1.36             FALSE\n",
      "broom          0.7.6  0.7.9             FALSE\n",
      "cli            2.5.0  3.0.1              TRUE\n",
      "googledrive    1.0.1  2.0.0             FALSE\n",
      "googlesheets4  0.3.0  1.0.0             FALSE\n",
      "ggplot2        3.3.3  3.3.5             FALSE\n",
      "haven          2.4.1  2.4.3              TRUE\n",
      "hms            1.0.0  1.1.1             FALSE\n",
      "lubridate     1.7.10  1.8.0              TRUE\n",
      "readr          1.4.0  2.0.2              TRUE\n",
      "reprex         2.0.0  2.0.1             FALSE\n",
      "rvest          1.0.0  1.0.2             FALSE\n",
      "tidyr          1.1.3  1.1.4              TRUE\n",
      "\n",
      "  Binaries will be installed\n",
      "package 'bit' successfully unpacked and MD5 sums checked\n",
      "package 'fs' successfully unpacked and MD5 sums checked\n",
      "package 'rappdirs' successfully unpacked and MD5 sums checked\n",
      "package 'bit64' successfully unpacked and MD5 sums checked\n",
      "package 'progress' successfully unpacked and MD5 sums checked\n",
      "package 'processx' successfully unpacked and MD5 sums checked\n",
      "package 'xfun' successfully unpacked and MD5 sums checked\n",
      "package 'data.table' successfully unpacked and MD5 sums checked\n",
      "package 'ids' successfully unpacked and MD5 sums checked\n",
      "package 'rematch2' successfully unpacked and MD5 sums checked\n",
      "package 'isoband' successfully unpacked and MD5 sums checked\n",
      "package 'vroom' successfully unpacked and MD5 sums checked\n",
      "package 'tzdb' successfully unpacked and MD5 sums checked\n",
      "package 'callr' successfully unpacked and MD5 sums checked\n",
      "package 'withr' successfully unpacked and MD5 sums checked\n",
      "package 'cli' successfully unpacked and MD5 sums checked\n",
      "package 'crayon' successfully unpacked and MD5 sums checked\n",
      "package 'dbplyr' successfully unpacked and MD5 sums checked\n",
      "package 'dtplyr' successfully unpacked and MD5 sums checked\n",
      "package 'forcats' successfully unpacked and MD5 sums checked\n",
      "package 'haven' successfully unpacked and MD5 sums checked\n",
      "package 'httr' successfully unpacked and MD5 sums checked\n",
      "package 'jsonlite' successfully unpacked and MD5 sums checked\n",
      "package 'lubridate' successfully unpacked and MD5 sums checked\n",
      "package 'magrittr' successfully unpacked and MD5 sums checked\n",
      "package 'modelr' successfully unpacked and MD5 sums checked\n",
      "package 'purrr' successfully unpacked and MD5 sums checked\n",
      "package 'readr' successfully unpacked and MD5 sums checked\n",
      "package 'rstudioapi' successfully unpacked and MD5 sums checked\n",
      "package 'tidyr' successfully unpacked and MD5 sums checked\n",
      "package 'xml2' successfully unpacked and MD5 sums checked\n",
      "package 'tidyverse' successfully unpacked and MD5 sums checked\n",
      "\n",
      "The downloaded binary packages are in\n",
      "\tC:\\Users\\sriku\\AppData\\Local\\Temp\\RtmpmETqgU\\downloaded_packages\n"
     ]
    },
    {
     "name": "stderr",
     "output_type": "stream",
     "text": [
      "installing the source packages 'blob', 'gargle', 'cpp11', 'knitr', 'broom', 'googledrive', 'googlesheets4', 'ggplot2', 'hms', 'reprex', 'rvest'\n",
      "\n"
     ]
    }
   ],
   "source": [
    "install.packages('tidyverse')"
   ]
  },
  {
   "cell_type": "code",
   "execution_count": 7,
   "id": "5502259a",
   "metadata": {},
   "outputs": [
    {
     "name": "stderr",
     "output_type": "stream",
     "text": [
      "Warning message:\n",
      "\"package 'tidyverse' was built under R version 3.6.3\""
     ]
    },
    {
     "ename": "ERROR",
     "evalue": "Error: package or namespace load failed for 'tidyverse' in loadNamespace(j <- i[[1L]], c(lib.loc, .libPaths()), versionCheck = vI[[j]]):\n namespace 'jsonlite' 1.6 is already loaded, but >= 1.7.2 is required\n",
     "output_type": "error",
     "traceback": [
      "Error: package or namespace load failed for 'tidyverse' in loadNamespace(j <- i[[1L]], c(lib.loc, .libPaths()), versionCheck = vI[[j]]):\n namespace 'jsonlite' 1.6 is already loaded, but >= 1.7.2 is required\nTraceback:\n",
      "1. library(tidyverse)",
      "2. tryCatch({\n .     attr(package, \"LibPath\") <- which.lib.loc\n .     ns <- loadNamespace(package, lib.loc)\n .     env <- attachNamespace(ns, pos = pos, deps, exclude, include.only)\n . }, error = function(e) {\n .     P <- if (!is.null(cc <- conditionCall(e))) \n .         paste(\" in\", deparse(cc)[1L])\n .     else \"\"\n .     msg <- gettextf(\"package or namespace load failed for %s%s:\\n %s\", \n .         sQuote(package), P, conditionMessage(e))\n .     if (logical.return) \n .         message(paste(\"Error:\", msg), domain = NA)\n .     else stop(msg, call. = FALSE, domain = NA)\n . })",
      "3. tryCatchList(expr, classes, parentenv, handlers)",
      "4. tryCatchOne(expr, names, parentenv, handlers[[1L]])",
      "5. value[[3L]](cond)",
      "6. stop(msg, call. = FALSE, domain = NA)"
     ]
    }
   ],
   "source": [
    "library(tidyverse)"
   ]
  },
  {
   "cell_type": "code",
   "execution_count": 8,
   "id": "5eab0216",
   "metadata": {},
   "outputs": [],
   "source": [
    "df=read.csv(\"telecom.csv\")"
   ]
  },
  {
   "cell_type": "code",
   "execution_count": 9,
   "id": "c9af3972",
   "metadata": {},
   "outputs": [
    {
     "name": "stdout",
     "output_type": "stream",
     "text": [
      "Rows: 10\n",
      "Columns: 5\n",
      "$ customerID     <fct> 7590-VHVEG, 5575-GNVDE, 3668-QPYBK, 7795-CFOCW, 9237-HQ~\n",
      "$ MonthlyCharges <dbl> 29.85, 56.95, NA, 42.30, 70.70, NaN, 89.10, NA, 104.80,~\n",
      "$ TotalCharges   <fct> 109.9, na, 108.15, 1840.75, NA, 820.5, 1949.4, N/A, 304~\n",
      "$ PaymentMethod  <fct> Electronic check, Mailed check, --, Bank transfer, Elec~\n",
      "$ Churn          <fct> yes, yes, yes, no, no, yes, no, yes, no, no\n"
     ]
    }
   ],
   "source": [
    "glimpse(df)"
   ]
  },
  {
   "cell_type": "code",
   "execution_count": 11,
   "id": "63f25b1d",
   "metadata": {},
   "outputs": [
    {
     "data": {
      "text/html": [
       "<ol class=list-inline>\n",
       "\t<li>FALSE</li>\n",
       "\t<li>FALSE</li>\n",
       "\t<li>TRUE</li>\n",
       "\t<li>FALSE</li>\n",
       "\t<li>FALSE</li>\n",
       "\t<li>TRUE</li>\n",
       "\t<li>FALSE</li>\n",
       "\t<li>TRUE</li>\n",
       "\t<li>FALSE</li>\n",
       "\t<li>FALSE</li>\n",
       "</ol>\n"
      ],
      "text/latex": [
       "\\begin{enumerate*}\n",
       "\\item FALSE\n",
       "\\item FALSE\n",
       "\\item TRUE\n",
       "\\item FALSE\n",
       "\\item FALSE\n",
       "\\item TRUE\n",
       "\\item FALSE\n",
       "\\item TRUE\n",
       "\\item FALSE\n",
       "\\item FALSE\n",
       "\\end{enumerate*}\n"
      ],
      "text/markdown": [
       "1. FALSE\n",
       "2. FALSE\n",
       "3. TRUE\n",
       "4. FALSE\n",
       "5. FALSE\n",
       "6. TRUE\n",
       "7. FALSE\n",
       "8. TRUE\n",
       "9. FALSE\n",
       "10. FALSE\n",
       "\n",
       "\n"
      ],
      "text/plain": [
       " [1] FALSE FALSE  TRUE FALSE FALSE  TRUE FALSE  TRUE FALSE FALSE"
      ]
     },
     "metadata": {},
     "output_type": "display_data"
    }
   ],
   "source": [
    "is.na(df$MonthlyCharges)"
   ]
  },
  {
   "cell_type": "code",
   "execution_count": 12,
   "id": "8a38e2e1",
   "metadata": {},
   "outputs": [
    {
     "data": {
      "text/html": [
       "<table>\n",
       "<thead><tr><th scope=col>count</th></tr></thead>\n",
       "<tbody>\n",
       "\t<tr><td>3</td></tr>\n",
       "</tbody>\n",
       "</table>\n"
      ],
      "text/latex": [
       "\\begin{tabular}{r|l}\n",
       " count\\\\\n",
       "\\hline\n",
       "\t 3\\\\\n",
       "\\end{tabular}\n"
      ],
      "text/markdown": [
       "\n",
       "| count |\n",
       "|---|\n",
       "| 3 |\n",
       "\n"
      ],
      "text/plain": [
       "  count\n",
       "1 3    "
      ]
     },
     "metadata": {},
     "output_type": "display_data"
    }
   ],
   "source": [
    "#counting missing values\n",
    "df %>% summarise(count = sum(is.na(MonthlyCharges)))"
   ]
  },
  {
   "cell_type": "code",
   "execution_count": 15,
   "id": "727f5ea4",
   "metadata": {},
   "outputs": [
    {
     "data": {
      "text/html": [
       "<table>\n",
       "<thead><tr><th scope=col>customerID</th><th scope=col>MonthlyCharges</th><th scope=col>TotalCharges</th><th scope=col>PaymentMethod</th><th scope=col>Churn</th></tr></thead>\n",
       "<tbody>\n",
       "\t<tr><td>7590-VHVEG      </td><td> 29.85          </td><td>109.9           </td><td>Electronic check</td><td>yes             </td></tr>\n",
       "\t<tr><td>5575-GNVDE      </td><td> 56.95          </td><td>na              </td><td>Mailed check    </td><td>yes             </td></tr>\n",
       "\t<tr><td>3668-QPYBK      </td><td> 56.95          </td><td>108.15          </td><td>--              </td><td>yes             </td></tr>\n",
       "\t<tr><td>7795-CFOCW      </td><td> 42.30          </td><td>1840.75         </td><td>Bank transfer   </td><td>no              </td></tr>\n",
       "\t<tr><td>9237-HQITU      </td><td> 70.70          </td><td>NA              </td><td>Electronic check</td><td>no              </td></tr>\n",
       "\t<tr><td>9305-CDSKC      </td><td> 56.95          </td><td>820.5           </td><td>--              </td><td>yes             </td></tr>\n",
       "\t<tr><td>1452-KIOVK      </td><td> 89.10          </td><td>1949.4          </td><td>Credit card     </td><td>no              </td></tr>\n",
       "\t<tr><td>6713-OKOMC      </td><td> 56.95          </td><td>N/A             </td><td>                </td><td>yes             </td></tr>\n",
       "\t<tr><td>7892-POOKP      </td><td>104.80          </td><td>3046.05         </td><td>Electronic check</td><td>no              </td></tr>\n",
       "\t<tr><td>8451-AJOMK      </td><td> 54.10          </td><td>354.95          </td><td>Electronic check</td><td>no              </td></tr>\n",
       "</tbody>\n",
       "</table>\n"
      ],
      "text/latex": [
       "\\begin{tabular}{r|lllll}\n",
       " customerID & MonthlyCharges & TotalCharges & PaymentMethod & Churn\\\\\n",
       "\\hline\n",
       "\t 7590-VHVEG       &  29.85           & 109.9            & Electronic check & yes             \\\\\n",
       "\t 5575-GNVDE       &  56.95           & na               & Mailed check     & yes             \\\\\n",
       "\t 3668-QPYBK       &  56.95           & 108.15           & --               & yes             \\\\\n",
       "\t 7795-CFOCW       &  42.30           & 1840.75          & Bank transfer    & no              \\\\\n",
       "\t 9237-HQITU       &  70.70           & NA               & Electronic check & no              \\\\\n",
       "\t 9305-CDSKC       &  56.95           & 820.5            & --               & yes             \\\\\n",
       "\t 1452-KIOVK       &  89.10           & 1949.4           & Credit card      & no              \\\\\n",
       "\t 6713-OKOMC       &  56.95           & N/A              &                  & yes             \\\\\n",
       "\t 7892-POOKP       & 104.80           & 3046.05          & Electronic check & no              \\\\\n",
       "\t 8451-AJOMK       &  54.10           & 354.95           & Electronic check & no              \\\\\n",
       "\\end{tabular}\n"
      ],
      "text/markdown": [
       "\n",
       "| customerID | MonthlyCharges | TotalCharges | PaymentMethod | Churn |\n",
       "|---|---|---|---|---|\n",
       "| 7590-VHVEG       |  29.85           | 109.9            | Electronic check | yes              |\n",
       "| 5575-GNVDE       |  56.95           | na               | Mailed check     | yes              |\n",
       "| 3668-QPYBK       |  56.95           | 108.15           | --               | yes              |\n",
       "| 7795-CFOCW       |  42.30           | 1840.75          | Bank transfer    | no               |\n",
       "| 9237-HQITU       |  70.70           | NA               | Electronic check | no               |\n",
       "| 9305-CDSKC       |  56.95           | 820.5            | --               | yes              |\n",
       "| 1452-KIOVK       |  89.10           | 1949.4           | Credit card      | no               |\n",
       "| 6713-OKOMC       |  56.95           | N/A              |                  | yes              |\n",
       "| 7892-POOKP       | 104.80           | 3046.05          | Electronic check | no               |\n",
       "| 8451-AJOMK       |  54.10           | 354.95           | Electronic check | no               |\n",
       "\n"
      ],
      "text/plain": [
       "   customerID MonthlyCharges TotalCharges PaymentMethod    Churn\n",
       "1  7590-VHVEG  29.85         109.9        Electronic check yes  \n",
       "2  5575-GNVDE  56.95         na           Mailed check     yes  \n",
       "3  3668-QPYBK  56.95         108.15       --               yes  \n",
       "4  7795-CFOCW  42.30         1840.75      Bank transfer    no   \n",
       "5  9237-HQITU  70.70         NA           Electronic check no   \n",
       "6  9305-CDSKC  56.95         820.5        --               yes  \n",
       "7  1452-KIOVK  89.10         1949.4       Credit card      no   \n",
       "8  6713-OKOMC  56.95         N/A                           yes  \n",
       "9  7892-POOKP 104.80         3046.05      Electronic check no   \n",
       "10 8451-AJOMK  54.10         354.95       Electronic check no   "
      ]
     },
     "metadata": {},
     "output_type": "display_data"
    }
   ],
   "source": [
    "#replacing NA values\n",
    "df<- df %>%\n",
    "  mutate(MonthlyCharges\n",
    "         = replace(MonthlyCharges,\n",
    "                   is.na(MonthlyCharges),\n",
    "                   median(MonthlyCharges, na.rm = TRUE)))\n",
    "df"
   ]
  },
  {
   "cell_type": "code",
   "execution_count": 18,
   "id": "f8881d3d",
   "metadata": {},
   "outputs": [],
   "source": [
    "#make all empty elements as NA values /\n",
    "df <- df %>%\n",
    "  mutate(TotalCharges = replace(TotalCharges, TotalCharges == \"na\", NA)) %>%\n",
    "  mutate(TotalCharges = replace(TotalCharges, TotalCharges == \"N/A\", NA))"
   ]
  },
  {
   "cell_type": "code",
   "execution_count": 19,
   "id": "565de525",
   "metadata": {},
   "outputs": [],
   "source": [
    "#change the total charges data type from String to Numeric\n",
    "df$TotalCharges =  as.numeric(df$TotalCharges)"
   ]
  },
  {
   "cell_type": "code",
   "execution_count": 20,
   "id": "a60dd86c",
   "metadata": {},
   "outputs": [
    {
     "data": {
      "text/html": [
       "<table>\n",
       "<thead><tr><th scope=col>customerID</th><th scope=col>MonthlyCharges</th><th scope=col>TotalCharges</th><th scope=col>PaymentMethod</th><th scope=col>Churn</th></tr></thead>\n",
       "<tbody>\n",
       "\t<tr><td>7590-VHVEG      </td><td> 29.85          </td><td>2               </td><td>Electronic check</td><td>yes             </td></tr>\n",
       "\t<tr><td>5575-GNVDE      </td><td> 56.95          </td><td>4               </td><td>Mailed check    </td><td>yes             </td></tr>\n",
       "\t<tr><td>3668-QPYBK      </td><td> 56.95          </td><td>1               </td><td>--              </td><td>yes             </td></tr>\n",
       "\t<tr><td>7795-CFOCW      </td><td> 42.30          </td><td>3               </td><td>Bank transfer   </td><td>no              </td></tr>\n",
       "\t<tr><td>9237-HQITU      </td><td> 70.70          </td><td>4               </td><td>Electronic check</td><td>no              </td></tr>\n",
       "\t<tr><td>9305-CDSKC      </td><td> 56.95          </td><td>7               </td><td>--              </td><td>yes             </td></tr>\n",
       "\t<tr><td>1452-KIOVK      </td><td> 89.10          </td><td>4               </td><td>Credit card     </td><td>no              </td></tr>\n",
       "\t<tr><td>6713-OKOMC      </td><td> 56.95          </td><td>4               </td><td>                </td><td>yes             </td></tr>\n",
       "\t<tr><td>7892-POOKP      </td><td>104.80          </td><td>5               </td><td>Electronic check</td><td>no              </td></tr>\n",
       "\t<tr><td>8451-AJOMK      </td><td> 54.10          </td><td>6               </td><td>Electronic check</td><td>no              </td></tr>\n",
       "</tbody>\n",
       "</table>\n"
      ],
      "text/latex": [
       "\\begin{tabular}{r|lllll}\n",
       " customerID & MonthlyCharges & TotalCharges & PaymentMethod & Churn\\\\\n",
       "\\hline\n",
       "\t 7590-VHVEG       &  29.85           & 2                & Electronic check & yes             \\\\\n",
       "\t 5575-GNVDE       &  56.95           & 4                & Mailed check     & yes             \\\\\n",
       "\t 3668-QPYBK       &  56.95           & 1                & --               & yes             \\\\\n",
       "\t 7795-CFOCW       &  42.30           & 3                & Bank transfer    & no              \\\\\n",
       "\t 9237-HQITU       &  70.70           & 4                & Electronic check & no              \\\\\n",
       "\t 9305-CDSKC       &  56.95           & 7                & --               & yes             \\\\\n",
       "\t 1452-KIOVK       &  89.10           & 4                & Credit card      & no              \\\\\n",
       "\t 6713-OKOMC       &  56.95           & 4                &                  & yes             \\\\\n",
       "\t 7892-POOKP       & 104.80           & 5                & Electronic check & no              \\\\\n",
       "\t 8451-AJOMK       &  54.10           & 6                & Electronic check & no              \\\\\n",
       "\\end{tabular}\n"
      ],
      "text/markdown": [
       "\n",
       "| customerID | MonthlyCharges | TotalCharges | PaymentMethod | Churn |\n",
       "|---|---|---|---|---|\n",
       "| 7590-VHVEG       |  29.85           | 2                | Electronic check | yes              |\n",
       "| 5575-GNVDE       |  56.95           | 4                | Mailed check     | yes              |\n",
       "| 3668-QPYBK       |  56.95           | 1                | --               | yes              |\n",
       "| 7795-CFOCW       |  42.30           | 3                | Bank transfer    | no               |\n",
       "| 9237-HQITU       |  70.70           | 4                | Electronic check | no               |\n",
       "| 9305-CDSKC       |  56.95           | 7                | --               | yes              |\n",
       "| 1452-KIOVK       |  89.10           | 4                | Credit card      | no               |\n",
       "| 6713-OKOMC       |  56.95           | 4                |                  | yes              |\n",
       "| 7892-POOKP       | 104.80           | 5                | Electronic check | no               |\n",
       "| 8451-AJOMK       |  54.10           | 6                | Electronic check | no               |\n",
       "\n"
      ],
      "text/plain": [
       "   customerID MonthlyCharges TotalCharges PaymentMethod    Churn\n",
       "1  7590-VHVEG  29.85         2            Electronic check yes  \n",
       "2  5575-GNVDE  56.95         4            Mailed check     yes  \n",
       "3  3668-QPYBK  56.95         1            --               yes  \n",
       "4  7795-CFOCW  42.30         3            Bank transfer    no   \n",
       "5  9237-HQITU  70.70         4            Electronic check no   \n",
       "6  9305-CDSKC  56.95         7            --               yes  \n",
       "7  1452-KIOVK  89.10         4            Credit card      no   \n",
       "8  6713-OKOMC  56.95         4                             yes  \n",
       "9  7892-POOKP 104.80         5            Electronic check no   \n",
       "10 8451-AJOMK  54.10         6            Electronic check no   "
      ]
     },
     "metadata": {},
     "output_type": "display_data"
    }
   ],
   "source": [
    "#replace NA values\n",
    "df<- df %>%\n",
    "  mutate(TotalCharges\n",
    "         = replace(TotalCharges,\n",
    "                   is.na(TotalCharges),\n",
    "                   median(TotalCharges, na.rm = TRUE)))\n",
    "df"
   ]
  },
  {
   "cell_type": "code",
   "execution_count": 21,
   "id": "72b6c3f7",
   "metadata": {},
   "outputs": [],
   "source": [
    "#replace other missing values to NA\n",
    "df <- df %>%\n",
    "  mutate(PaymentMethod = replace(PaymentMethod, PaymentMethod == \"--\", NA)) %>%\n",
    "  mutate(PaymentMethod = replace(PaymentMethod, PaymentMethod == \" \", NA))"
   ]
  },
  {
   "cell_type": "code",
   "execution_count": 24,
   "id": "fd28c0df",
   "metadata": {},
   "outputs": [
    {
     "data": {
      "text/html": [
       "<table>\n",
       "<thead><tr><th scope=col>customerID</th><th scope=col>MonthlyCharges</th><th scope=col>TotalCharges</th><th scope=col>PaymentMethod</th><th scope=col>Churn</th></tr></thead>\n",
       "<tbody>\n",
       "\t<tr><td>7590-VHVEG      </td><td> 29.85          </td><td>2               </td><td>Electronic check</td><td>yes             </td></tr>\n",
       "\t<tr><td>5575-GNVDE      </td><td> 56.95          </td><td>4               </td><td>Mailed check    </td><td>yes             </td></tr>\n",
       "\t<tr><td>3668-QPYBK      </td><td> 56.95          </td><td>1               </td><td>NA              </td><td>yes             </td></tr>\n",
       "\t<tr><td>7795-CFOCW      </td><td> 42.30          </td><td>3               </td><td>Bank transfer   </td><td>no              </td></tr>\n",
       "\t<tr><td>9237-HQITU      </td><td> 70.70          </td><td>4               </td><td>Electronic check</td><td>no              </td></tr>\n",
       "\t<tr><td>9305-CDSKC      </td><td> 56.95          </td><td>7               </td><td>NA              </td><td>yes             </td></tr>\n",
       "\t<tr><td>1452-KIOVK      </td><td> 89.10          </td><td>4               </td><td>Credit card     </td><td>no              </td></tr>\n",
       "\t<tr><td>6713-OKOMC      </td><td> 56.95          </td><td>4               </td><td>                </td><td>yes             </td></tr>\n",
       "\t<tr><td>7892-POOKP      </td><td>104.80          </td><td>5               </td><td>Electronic check</td><td>no              </td></tr>\n",
       "\t<tr><td>8451-AJOMK      </td><td> 54.10          </td><td>6               </td><td>Electronic check</td><td>no              </td></tr>\n",
       "</tbody>\n",
       "</table>\n"
      ],
      "text/latex": [
       "\\begin{tabular}{r|lllll}\n",
       " customerID & MonthlyCharges & TotalCharges & PaymentMethod & Churn\\\\\n",
       "\\hline\n",
       "\t 7590-VHVEG       &  29.85           & 2                & Electronic check & yes             \\\\\n",
       "\t 5575-GNVDE       &  56.95           & 4                & Mailed check     & yes             \\\\\n",
       "\t 3668-QPYBK       &  56.95           & 1                & NA               & yes             \\\\\n",
       "\t 7795-CFOCW       &  42.30           & 3                & Bank transfer    & no              \\\\\n",
       "\t 9237-HQITU       &  70.70           & 4                & Electronic check & no              \\\\\n",
       "\t 9305-CDSKC       &  56.95           & 7                & NA               & yes             \\\\\n",
       "\t 1452-KIOVK       &  89.10           & 4                & Credit card      & no              \\\\\n",
       "\t 6713-OKOMC       &  56.95           & 4                &                  & yes             \\\\\n",
       "\t 7892-POOKP       & 104.80           & 5                & Electronic check & no              \\\\\n",
       "\t 8451-AJOMK       &  54.10           & 6                & Electronic check & no              \\\\\n",
       "\\end{tabular}\n"
      ],
      "text/markdown": [
       "\n",
       "| customerID | MonthlyCharges | TotalCharges | PaymentMethod | Churn |\n",
       "|---|---|---|---|---|\n",
       "| 7590-VHVEG       |  29.85           | 2                | Electronic check | yes              |\n",
       "| 5575-GNVDE       |  56.95           | 4                | Mailed check     | yes              |\n",
       "| 3668-QPYBK       |  56.95           | 1                | NA               | yes              |\n",
       "| 7795-CFOCW       |  42.30           | 3                | Bank transfer    | no               |\n",
       "| 9237-HQITU       |  70.70           | 4                | Electronic check | no               |\n",
       "| 9305-CDSKC       |  56.95           | 7                | NA               | yes              |\n",
       "| 1452-KIOVK       |  89.10           | 4                | Credit card      | no               |\n",
       "| 6713-OKOMC       |  56.95           | 4                |                  | yes              |\n",
       "| 7892-POOKP       | 104.80           | 5                | Electronic check | no               |\n",
       "| 8451-AJOMK       |  54.10           | 6                | Electronic check | no               |\n",
       "\n"
      ],
      "text/plain": [
       "   customerID MonthlyCharges TotalCharges PaymentMethod    Churn\n",
       "1  7590-VHVEG  29.85         2            Electronic check yes  \n",
       "2  5575-GNVDE  56.95         4            Mailed check     yes  \n",
       "3  3668-QPYBK  56.95         1            NA               yes  \n",
       "4  7795-CFOCW  42.30         3            Bank transfer    no   \n",
       "5  9237-HQITU  70.70         4            Electronic check no   \n",
       "6  9305-CDSKC  56.95         7            NA               yes  \n",
       "7  1452-KIOVK  89.10         4            Credit card      no   \n",
       "8  6713-OKOMC  56.95         4                             yes  \n",
       "9  7892-POOKP 104.80         5            Electronic check no   \n",
       "10 8451-AJOMK  54.10         6            Electronic check no   "
      ]
     },
     "metadata": {},
     "output_type": "display_data"
    }
   ],
   "source": [
    "df<- df %>%\n",
    "  mutate(TotalCharges\n",
    "         = replace(TotalCharges,\n",
    "                   is.na(TotalCharges),\n",
    "                   \"Unavilable\"))\n",
    "df"
   ]
  },
  {
   "cell_type": "code",
   "execution_count": 25,
   "id": "e291dc83",
   "metadata": {},
   "outputs": [
    {
     "data": {
      "text/html": [
       "<ol class=list-inline>\n",
       "\t<li>FALSE</li>\n",
       "\t<li>FALSE</li>\n",
       "\t<li>TRUE</li>\n",
       "\t<li>FALSE</li>\n",
       "\t<li>FALSE</li>\n",
       "\t<li>TRUE</li>\n",
       "\t<li>FALSE</li>\n",
       "\t<li>FALSE</li>\n",
       "\t<li>FALSE</li>\n",
       "\t<li>FALSE</li>\n",
       "</ol>\n"
      ],
      "text/latex": [
       "\\begin{enumerate*}\n",
       "\\item FALSE\n",
       "\\item FALSE\n",
       "\\item TRUE\n",
       "\\item FALSE\n",
       "\\item FALSE\n",
       "\\item TRUE\n",
       "\\item FALSE\n",
       "\\item FALSE\n",
       "\\item FALSE\n",
       "\\item FALSE\n",
       "\\end{enumerate*}\n"
      ],
      "text/markdown": [
       "1. FALSE\n",
       "2. FALSE\n",
       "3. TRUE\n",
       "4. FALSE\n",
       "5. FALSE\n",
       "6. TRUE\n",
       "7. FALSE\n",
       "8. FALSE\n",
       "9. FALSE\n",
       "10. FALSE\n",
       "\n",
       "\n"
      ],
      "text/plain": [
       " [1] FALSE FALSE  TRUE FALSE FALSE  TRUE FALSE FALSE FALSE FALSE"
      ]
     },
     "metadata": {},
     "output_type": "display_data"
    },
    {
     "data": {
      "text/html": [
       "<ol class=list-inline>\n",
       "\t<li>Electronic check</li>\n",
       "\t<li>Mailed check</li>\n",
       "\t<li>&lt;NA&gt;</li>\n",
       "\t<li>Bank transfer</li>\n",
       "\t<li>Electronic check</li>\n",
       "\t<li>&lt;NA&gt;</li>\n",
       "\t<li>Credit card</li>\n",
       "\t<li></li>\n",
       "\t<li>Electronic check</li>\n",
       "\t<li>Electronic check</li>\n",
       "</ol>\n",
       "\n",
       "<details>\n",
       "\t<summary style=display:list-item;cursor:pointer>\n",
       "\t\t<strong>Levels</strong>:\n",
       "\t</summary>\n",
       "\t<ol class=list-inline>\n",
       "\t\t<li>''</li>\n",
       "\t\t<li>'--'</li>\n",
       "\t\t<li>'Bank transfer'</li>\n",
       "\t\t<li>'Credit card'</li>\n",
       "\t\t<li>'Electronic check'</li>\n",
       "\t\t<li>'Mailed check'</li>\n",
       "\t</ol>\n",
       "</details>"
      ],
      "text/latex": [
       "\\begin{enumerate*}\n",
       "\\item Electronic check\n",
       "\\item Mailed check\n",
       "\\item <NA>\n",
       "\\item Bank transfer\n",
       "\\item Electronic check\n",
       "\\item <NA>\n",
       "\\item Credit card\n",
       "\\item \n",
       "\\item Electronic check\n",
       "\\item Electronic check\n",
       "\\end{enumerate*}\n",
       "\n",
       "\\emph{Levels}: \\begin{enumerate*}\n",
       "\\item ''\n",
       "\\item '--'\n",
       "\\item 'Bank transfer'\n",
       "\\item 'Credit card'\n",
       "\\item 'Electronic check'\n",
       "\\item 'Mailed check'\n",
       "\\end{enumerate*}\n"
      ],
      "text/markdown": [
       "1. Electronic check\n",
       "2. Mailed check\n",
       "3. &lt;NA&gt;\n",
       "4. Bank transfer\n",
       "5. Electronic check\n",
       "6. &lt;NA&gt;\n",
       "7. Credit card\n",
       "8. \n",
       "9. Electronic check\n",
       "10. Electronic check\n",
       "\n",
       "\n",
       "\n",
       "**Levels**: 1. ''\n",
       "2. '--'\n",
       "3. 'Bank transfer'\n",
       "4. 'Credit card'\n",
       "5. 'Electronic check'\n",
       "6. 'Mailed check'\n",
       "\n",
       "\n"
      ],
      "text/plain": [
       " [1] Electronic check Mailed check     <NA>             Bank transfer   \n",
       " [5] Electronic check <NA>             Credit card                      \n",
       " [9] Electronic check Electronic check\n",
       "Levels:  -- Bank transfer Credit card Electronic check Mailed check"
      ]
     },
     "metadata": {},
     "output_type": "display_data"
    },
    {
     "name": "stderr",
     "output_type": "stream",
     "text": [
      "Warning message in `[<-.factor`(`*tmp*`, list, value = \"unavailable\"):\n",
      "\"invalid factor level, NA generated\""
     ]
    },
    {
     "data": {
      "text/html": [
       "<ol class=list-inline>\n",
       "\t<li>Electronic check</li>\n",
       "\t<li>Mailed check</li>\n",
       "\t<li>&lt;NA&gt;</li>\n",
       "\t<li>Bank transfer</li>\n",
       "\t<li>Electronic check</li>\n",
       "\t<li>&lt;NA&gt;</li>\n",
       "\t<li>Credit card</li>\n",
       "\t<li></li>\n",
       "\t<li>Electronic check</li>\n",
       "\t<li>Electronic check</li>\n",
       "</ol>\n",
       "\n",
       "<details>\n",
       "\t<summary style=display:list-item;cursor:pointer>\n",
       "\t\t<strong>Levels</strong>:\n",
       "\t</summary>\n",
       "\t<ol class=list-inline>\n",
       "\t\t<li>''</li>\n",
       "\t\t<li>'--'</li>\n",
       "\t\t<li>'Bank transfer'</li>\n",
       "\t\t<li>'Credit card'</li>\n",
       "\t\t<li>'Electronic check'</li>\n",
       "\t\t<li>'Mailed check'</li>\n",
       "\t</ol>\n",
       "</details>"
      ],
      "text/latex": [
       "\\begin{enumerate*}\n",
       "\\item Electronic check\n",
       "\\item Mailed check\n",
       "\\item <NA>\n",
       "\\item Bank transfer\n",
       "\\item Electronic check\n",
       "\\item <NA>\n",
       "\\item Credit card\n",
       "\\item \n",
       "\\item Electronic check\n",
       "\\item Electronic check\n",
       "\\end{enumerate*}\n",
       "\n",
       "\\emph{Levels}: \\begin{enumerate*}\n",
       "\\item ''\n",
       "\\item '--'\n",
       "\\item 'Bank transfer'\n",
       "\\item 'Credit card'\n",
       "\\item 'Electronic check'\n",
       "\\item 'Mailed check'\n",
       "\\end{enumerate*}\n"
      ],
      "text/markdown": [
       "1. Electronic check\n",
       "2. Mailed check\n",
       "3. &lt;NA&gt;\n",
       "4. Bank transfer\n",
       "5. Electronic check\n",
       "6. &lt;NA&gt;\n",
       "7. Credit card\n",
       "8. \n",
       "9. Electronic check\n",
       "10. Electronic check\n",
       "\n",
       "\n",
       "\n",
       "**Levels**: 1. ''\n",
       "2. '--'\n",
       "3. 'Bank transfer'\n",
       "4. 'Credit card'\n",
       "5. 'Electronic check'\n",
       "6. 'Mailed check'\n",
       "\n",
       "\n"
      ],
      "text/plain": [
       " [1] Electronic check Mailed check     <NA>             Bank transfer   \n",
       " [5] Electronic check <NA>             Credit card                      \n",
       " [9] Electronic check Electronic check\n",
       "Levels:  -- Bank transfer Credit card Electronic check Mailed check"
      ]
     },
     "metadata": {},
     "output_type": "display_data"
    }
   ],
   "source": [
    "# replacing \"--\" with NA\n",
    "df <- df %>%\n",
    "  mutate(PaymentMethod = replace(PaymentMethod, PaymentMethod ==  \"--\", NA))\n",
    "is.na(df$PaymentMethod)\n",
    "df$PaymentMethod\n",
    "\n",
    "# replace NA with \"unavailable\"\n",
    "df <- df %>%\n",
    "  mutate(PaymentMethod = replace(PaymentMethod, is.na(PaymentMethod), \"unavailable\"))\n",
    "df$PaymentMethod"
   ]
  },
  {
   "cell_type": "code",
   "execution_count": null,
   "id": "4165ab5a",
   "metadata": {},
   "outputs": [],
   "source": []
  }
 ],
 "metadata": {
  "kernelspec": {
   "display_name": "R",
   "language": "R",
   "name": "ir"
  },
  "language_info": {
   "codemirror_mode": "r",
   "file_extension": ".r",
   "mimetype": "text/x-r-source",
   "name": "R",
   "pygments_lexer": "r",
   "version": "3.6.1"
  }
 },
 "nbformat": 4,
 "nbformat_minor": 5
}
