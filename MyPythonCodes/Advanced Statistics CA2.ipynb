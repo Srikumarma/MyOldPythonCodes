{
 "cells": [
  {
   "cell_type": "code",
   "execution_count": 1,
   "id": "ecc1a18e",
   "metadata": {},
   "outputs": [
    {
     "data": {
      "text/plain": [
       "0.21602468994692867"
      ]
     },
     "execution_count": 1,
     "metadata": {},
     "output_type": "execute_result"
    }
   ],
   "source": [
    "import numpy as np\n",
    "act = np.array([1.1,2,1.7])\n",
    "pred = np.array([1,1.7,1.5])\n",
    "diff = pred - act\n",
    "differences_squared = diff ** 2\n",
    "mean_diff = differences_squared.mean()\n",
    "rmse_val = np.sqrt(mean_diff)\n",
    "rmse_val"
   ]
  },
  {
   "cell_type": "code",
   "execution_count": 55,
   "id": "eee42977",
   "metadata": {},
   "outputs": [
    {
     "data": {
      "text/plain": [
       "0.06871947673600004"
      ]
     },
     "execution_count": 55,
     "metadata": {},
     "output_type": "execute_result"
    }
   ],
   "source": [
    "from scipy.stats import binom\n",
    "\n",
    "#calculate binomial probability\n",
    "a=binom.pmf(k=0, n=12, p=0.2)\n",
    "a"
   ]
  },
  {
   "cell_type": "code",
   "execution_count": 44,
   "id": "35048ffa",
   "metadata": {},
   "outputs": [],
   "source": [
    "b=binom.pmf(k=1, n=12, p=0.2)"
   ]
  },
  {
   "cell_type": "code",
   "execution_count": 45,
   "id": "e2886ded",
   "metadata": {},
   "outputs": [],
   "source": [
    "c=binom.pmf(k=2, n=12, p=0.2)"
   ]
  },
  {
   "cell_type": "code",
   "execution_count": 46,
   "id": "2fa81ec5",
   "metadata": {},
   "outputs": [],
   "source": [
    "d=binom.pmf(k=3, n=12, p=0.2)"
   ]
  },
  {
   "cell_type": "code",
   "execution_count": 47,
   "id": "857022af",
   "metadata": {},
   "outputs": [],
   "source": [
    "e=binom.pmf(k=4, n=12, p=0.2)"
   ]
  },
  {
   "cell_type": "code",
   "execution_count": 48,
   "id": "1b4f35a9",
   "metadata": {},
   "outputs": [],
   "source": [
    "f=binom.pmf(k=5, n=12, p=0.2)"
   ]
  },
  {
   "cell_type": "code",
   "execution_count": 49,
   "id": "38e6dfe0",
   "metadata": {},
   "outputs": [],
   "source": [
    "g=binom.pmf(k=6, n=12, p=0.2)"
   ]
  },
  {
   "cell_type": "code",
   "execution_count": 50,
   "id": "a4dc1907",
   "metadata": {},
   "outputs": [],
   "source": [
    "h=binom.pmf(k=7, n=12, p=0.2)"
   ]
  },
  {
   "cell_type": "code",
   "execution_count": 51,
   "id": "8dc76aae",
   "metadata": {},
   "outputs": [],
   "source": [
    "i=binom.pmf(k=8, n=12, p=0.2)"
   ]
  },
  {
   "cell_type": "code",
   "execution_count": 52,
   "id": "4963c25e",
   "metadata": {},
   "outputs": [],
   "source": [
    "j=binom.pmf(k=9, n=12, p=0.2)"
   ]
  },
  {
   "cell_type": "code",
   "execution_count": 60,
   "id": "610230ef",
   "metadata": {},
   "outputs": [],
   "source": [
    "k=binom.pmf(k=10, n=12, p=0.2)\n",
    "import numpy as np"
   ]
  },
  {
   "cell_type": "code",
   "execution_count": 54,
   "id": "a6627e71",
   "metadata": {},
   "outputs": [
    {
     "name": "stdout",
     "output_type": "stream",
     "text": [
      "0.0039031316480000466\n"
     ]
    }
   ],
   "source": [
    "result=1-(a+b+c+d+e+f+g)\n",
    "print(result)"
   ]
  },
  {
   "cell_type": "code",
   "execution_count": 56,
   "id": "e4dd11f9",
   "metadata": {},
   "outputs": [
    {
     "name": "stdout",
     "output_type": "stream",
     "text": [
      "0.999999799296\n"
     ]
    }
   ],
   "source": [
    "result2=a+b+c+d+e+f+g+h+i+j+k\n",
    "print(result2)"
   ]
  },
  {
   "cell_type": "code",
   "execution_count": 57,
   "id": "7ed84a03",
   "metadata": {},
   "outputs": [
    {
     "name": "stdout",
     "output_type": "stream",
     "text": [
      "0.0039031308646259124\n"
     ]
    }
   ],
   "source": [
    "print(result*result2)"
   ]
  },
  {
   "cell_type": "code",
   "execution_count": 58,
   "id": "80dd726c",
   "metadata": {},
   "outputs": [],
   "source": [
    "from sklearn.metrics import r2_score"
   ]
  },
  {
   "cell_type": "code",
   "execution_count": 82,
   "id": "41b86014",
   "metadata": {},
   "outputs": [
    {
     "data": {
      "text/plain": [
       "0.08666666666666666"
      ]
     },
     "execution_count": 82,
     "metadata": {},
     "output_type": "execute_result"
    }
   ],
   "source": [
    "y =[1,1.8,3.3,4.5,6.3]\n",
    "y_pred =[0.7,2,3.3,4.7,6]\n",
    "n=len(y)\n",
    "SSE=(np.subtract(y,y_pred))**2\n",
    "SSE=sum(SSE)\n",
    "Std_error=SSE/3\n",
    "Std_error"
   ]
  },
  {
   "cell_type": "code",
   "execution_count": 84,
   "id": "a0d7c2ab",
   "metadata": {},
   "outputs": [
    {
     "data": {
      "text/plain": [
       "0.9855137062625362"
      ]
     },
     "execution_count": 84,
     "metadata": {},
     "output_type": "execute_result"
    }
   ],
   "source": [
    "Coeff_Deter = r2_score(y, y_pred)\n",
    "Coeff_Deter"
   ]
  },
  {
   "cell_type": "code",
   "execution_count": 85,
   "id": "ff9d79a6",
   "metadata": {},
   "outputs": [
    {
     "data": {
      "text/plain": [
       "0.22803508501982758"
      ]
     },
     "execution_count": 85,
     "metadata": {},
     "output_type": "execute_result"
    }
   ],
   "source": [
    "RMSE=np.sqrt(SSE/n)\n",
    "RMSE"
   ]
  },
  {
   "cell_type": "code",
   "execution_count": 101,
   "id": "27dc049a",
   "metadata": {},
   "outputs": [
    {
     "data": {
      "text/plain": [
       "LinearRegression()"
      ]
     },
     "execution_count": 101,
     "metadata": {},
     "output_type": "execute_result"
    }
   ],
   "source": [
    "from sklearn import linear_model\n",
    "import pandas as pd\n",
    "df=pd.read_csv(\"dataca2.csv\")\n",
    "df.columns=['Obs','F1','F2','Y']\n",
    "X=df[['F1','F2']]\n",
    "y=df['Y']\n",
    "regr = linear_model.LinearRegression()\n",
    "regr.fit(X, y)"
   ]
  },
  {
   "cell_type": "code",
   "execution_count": 105,
   "id": "1735c6f3",
   "metadata": {},
   "outputs": [
    {
     "data": {
      "text/plain": [
       "30.999999999999996"
      ]
     },
     "execution_count": 105,
     "metadata": {},
     "output_type": "execute_result"
    }
   ],
   "source": [
    "\n",
    "\n",
    "x = [0,1,2,3,4]\n",
    "y = [-4,-1,4,11,20]\n",
    "\n",
    "mymodel = np.poly1d(np.polyfit(x, y, 2))\n",
    "\n",
    "speed = mymodel(5)\n",
    "speed"
   ]
  },
  {
   "cell_type": "code",
   "execution_count": 110,
   "id": "f0a6dede",
   "metadata": {},
   "outputs": [
    {
     "data": {
      "text/plain": [
       "array([[6, 4],\n",
       "       [3, 7]], dtype=int64)"
      ]
     },
     "execution_count": 110,
     "metadata": {},
     "output_type": "execute_result"
    }
   ],
   "source": [
    "from sklearn.metrics import confusion_matrix\n",
    "y_act=[0,0,1,1,1,0,1,0,0,0,1,1,0,1,0,0,1,1,1,0]\n",
    "y_pred=[1,0,0,1,1,1,1,1,0,0,0,1,0,1,0,1,0,1,1,0]\n",
    "confusion_matrix(y_act, y_pred)"
   ]
  },
  {
   "cell_type": "code",
   "execution_count": null,
   "id": "49f82f07",
   "metadata": {},
   "outputs": [],
   "source": []
  }
 ],
 "metadata": {
  "kernelspec": {
   "display_name": "Python 3 (ipykernel)",
   "language": "python",
   "name": "python3"
  },
  "language_info": {
   "codemirror_mode": {
    "name": "ipython",
    "version": 3
   },
   "file_extension": ".py",
   "mimetype": "text/x-python",
   "name": "python",
   "nbconvert_exporter": "python",
   "pygments_lexer": "ipython3",
   "version": "3.8.12"
  }
 },
 "nbformat": 4,
 "nbformat_minor": 5
}
