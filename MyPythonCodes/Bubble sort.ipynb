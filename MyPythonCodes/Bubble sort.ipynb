{
 "cells": [
  {
   "cell_type": "code",
   "execution_count": 1,
   "id": "f06e9fd0",
   "metadata": {},
   "outputs": [
    {
     "data": {
      "text/html": [
       "<ol class=list-inline>\n",
       "\t<li>18</li>\n",
       "\t<li>35</li>\n",
       "\t<li>42</li>\n",
       "\t<li>47</li>\n",
       "\t<li>52</li>\n",
       "\t<li>55</li>\n",
       "\t<li>66</li>\n",
       "\t<li>90</li>\n",
       "\t<li>91</li>\n",
       "\t<li>92</li>\n",
       "</ol>\n"
      ],
      "text/latex": [
       "\\begin{enumerate*}\n",
       "\\item 18\n",
       "\\item 35\n",
       "\\item 42\n",
       "\\item 47\n",
       "\\item 52\n",
       "\\item 55\n",
       "\\item 66\n",
       "\\item 90\n",
       "\\item 91\n",
       "\\item 92\n",
       "\\end{enumerate*}\n"
      ],
      "text/markdown": [
       "1. 18\n",
       "2. 35\n",
       "3. 42\n",
       "4. 47\n",
       "5. 52\n",
       "6. 55\n",
       "7. 66\n",
       "8. 90\n",
       "9. 91\n",
       "10. 92\n",
       "\n",
       "\n"
      ],
      "text/plain": [
       " [1] 18 35 42 47 52 55 66 90 91 92"
      ]
     },
     "metadata": {},
     "output_type": "display_data"
    }
   ],
   "source": [
    "# function to sort the array using bubble sort\n",
    "bubble_sort <- function(x)\n",
    "{\n",
    "# calculate the length of array\n",
    "n <- length(x)\n",
    "# run loop n-1 times\n",
    "for (i in 1 : (n - 1)) {\n",
    "# run loop (n-i) times\n",
    "for (j in 1 : (n - i)) {\n",
    "# compare elements\n",
    "if (x[j] > x[j + 1]) {\n",
    "temp <- x[j]\n",
    "x[j] <- x[j + 1]\n",
    "x[j + 1] <- temp\n",
    "}\n",
    "}\n",
    "}\n",
    "x\n",
    "}\n",
    "\n",
    "# take 10 random numbers between 1 - 100\n",
    "arr <- sample(1 : 100, 10)\n",
    "\n",
    "# sort the array and store the result\n",
    "# in sorted_array\n",
    "sorted_array <- bubble_sort(arr)\n",
    "\n",
    "# print sorted_array\n",
    "sorted_array"
   ]
  },
  {
   "cell_type": "markdown",
   "id": "c3f3d106",
   "metadata": {},
   "source": [
    "# Pseudocode\n",
    "\n",
    "BubbleSort(Array, n)\n",
    "\n",
    "{\n",
    "\n",
    "    n = length(Array)\n",
    "    \n",
    "    for i = 0 to n-2\n",
    "    {\n",
    "        for j = 0 to n-2\n",
    "        {\n",
    "            if Array[j] > Array[j+1]\n",
    "            {        \n",
    "                swap(Array[j], Array[j+1])            \n",
    "            }\n",
    "        }\n",
    "    }\n",
    "}"
   ]
  },
  {
   "cell_type": "markdown",
   "id": "1cdd0fb7",
   "metadata": {},
   "source": [
    "# Time Complexity Analysis\n",
    "\n",
    "Number of times inner loop run: = (N − i)\n",
    "The number of times the outer loop runs = (N(N-1))/2\n",
    "\n",
    "T(N) = T(N-1) + N\n",
    "\n",
    "# Best case\n",
    "\n",
    "This case occurs when the given array is already sorted.\n",
    "\n",
    "T(N) = N\n",
    "\n",
    "Time complexity is O(N)"
   ]
  },
  {
   "cell_type": "markdown",
   "id": "4c97c6d4",
   "metadata": {},
   "source": [
    "# Worst case\n",
    "\n",
    "T(N)= (N(N-1))/2\n",
    "\n",
    "Taking the dominating factor\n",
    "\n",
    "O(N^2)"
   ]
  },
  {
   "cell_type": "markdown",
   "id": "203a0ee0",
   "metadata": {},
   "source": [
    "# Average Case\n",
    "\n",
    "\n",
    "= N x N - 2 x (1 + 3 + 5 + ... + N/2)\n",
    "\n",
    "= N^2 - 2 x N^2 / 4\n",
    "\n",
    "= N^2 - N^2 / 2\n",
    "\n",
    "= N^2 / 2\n",
    "\n",
    "Time Complexity = O(N^2)"
   ]
  },
  {
   "cell_type": "code",
   "execution_count": null,
   "id": "7b50efe6",
   "metadata": {},
   "outputs": [],
   "source": []
  }
 ],
 "metadata": {
  "kernelspec": {
   "display_name": "R",
   "language": "R",
   "name": "ir"
  },
  "language_info": {
   "codemirror_mode": "r",
   "file_extension": ".r",
   "mimetype": "text/x-r-source",
   "name": "R",
   "pygments_lexer": "r",
   "version": "3.6.1"
  }
 },
 "nbformat": 4,
 "nbformat_minor": 5
}
