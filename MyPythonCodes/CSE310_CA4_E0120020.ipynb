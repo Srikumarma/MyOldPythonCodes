{
 "cells": [
  {
   "cell_type": "code",
   "execution_count": 3,
   "id": "178abfab",
   "metadata": {},
   "outputs": [],
   "source": [
    "#importing all the necessary packages\n",
    "import numpy as np\n",
    "import pandas as pd\n",
    "from sklearn.model_selection import train_test_split \n",
    "from sklearn.preprocessing import StandardScaler  \n",
    "from sklearn.tree import DecisionTreeClassifier \n",
    "from six import StringIO\n",
    "from IPython.display import Image  \n",
    "from sklearn.tree import export_graphviz\n",
    "import pydotplus\n",
    "from sklearn import metrics\n",
    "from sklearn.ensemble import RandomForestClassifier  \n",
    "from sklearn.neighbors import KNeighborsClassifier\n",
    "from sklearn import preprocessing\n",
    "from sklearn import linear_model\n",
    "import re\n",
    "from collections import Counter\n",
    "import seaborn as sns\n",
    "import matplotlib.pyplot as mlt"
   ]
  },
  {
   "cell_type": "code",
   "execution_count": 4,
   "id": "870a5174",
   "metadata": {},
   "outputs": [],
   "source": [
    "#importing the dataset\n",
    "df= pd.read_csv('Cancer_dm.csv')"
   ]
  },
  {
   "cell_type": "code",
   "execution_count": 5,
   "id": "5b3fb6b6",
   "metadata": {},
   "outputs": [
    {
     "data": {
      "text/html": [
       "<div>\n",
       "<style scoped>\n",
       "    .dataframe tbody tr th:only-of-type {\n",
       "        vertical-align: middle;\n",
       "    }\n",
       "\n",
       "    .dataframe tbody tr th {\n",
       "        vertical-align: top;\n",
       "    }\n",
       "\n",
       "    .dataframe thead th {\n",
       "        text-align: right;\n",
       "    }\n",
       "</style>\n",
       "<table border=\"1\" class=\"dataframe\">\n",
       "  <thead>\n",
       "    <tr style=\"text-align: right;\">\n",
       "      <th></th>\n",
       "      <th>Patient ID #</th>\n",
       "      <th>Sample ID #</th>\n",
       "      <th>Tumor type</th>\n",
       "      <th>AJCC Stage</th>\n",
       "      <th>AFP (pg/ml)</th>\n",
       "      <th>Angiopoietin-2 (pg/ml)</th>\n",
       "      <th>AXL (pg/ml)</th>\n",
       "      <th>CA-125 (U/ml)</th>\n",
       "      <th>CA 15-3 (U/ml)</th>\n",
       "      <th>CA19-9 (U/ml)</th>\n",
       "      <th>...</th>\n",
       "      <th>sFas (pg/ml)</th>\n",
       "      <th>SHBG (nM)</th>\n",
       "      <th>sHER2/sEGFR2/sErbB2 (pg/ml)</th>\n",
       "      <th>sPECAM-1 (pg/ml)</th>\n",
       "      <th>TGFa (pg/ml)</th>\n",
       "      <th>Thrombospondin-2 (pg/ml)</th>\n",
       "      <th>TIMP-1 (pg/ml)</th>\n",
       "      <th>TIMP-2 (pg/ml)</th>\n",
       "      <th>CancerSEEK Logistic Regression Score</th>\n",
       "      <th>CancerSEEK Test Result</th>\n",
       "    </tr>\n",
       "  </thead>\n",
       "  <tbody>\n",
       "    <tr>\n",
       "      <th>0</th>\n",
       "      <td>CRC 455</td>\n",
       "      <td>CRC 455 PLS 1</td>\n",
       "      <td>Colorectum</td>\n",
       "      <td>I</td>\n",
       "      <td>1583.45</td>\n",
       "      <td>5598.50</td>\n",
       "      <td>3621.04</td>\n",
       "      <td>5.09</td>\n",
       "      <td>19.08</td>\n",
       "      <td>*16.452</td>\n",
       "      <td>...</td>\n",
       "      <td>*204.792</td>\n",
       "      <td>55.06</td>\n",
       "      <td>6832.07</td>\n",
       "      <td>9368.53</td>\n",
       "      <td>*16.086</td>\n",
       "      <td>21863.74</td>\n",
       "      <td>56428.71</td>\n",
       "      <td>39498.82</td>\n",
       "      <td>0.938</td>\n",
       "      <td>Positive</td>\n",
       "    </tr>\n",
       "    <tr>\n",
       "      <th>1</th>\n",
       "      <td>CRC 456</td>\n",
       "      <td>CRC 456 PLS 1</td>\n",
       "      <td>Colorectum</td>\n",
       "      <td>I</td>\n",
       "      <td>*715.308</td>\n",
       "      <td>20936.35</td>\n",
       "      <td>2772.96</td>\n",
       "      <td>7.27</td>\n",
       "      <td>10.04</td>\n",
       "      <td>40.91</td>\n",
       "      <td>...</td>\n",
       "      <td>*204.792</td>\n",
       "      <td>72.92</td>\n",
       "      <td>5549.47</td>\n",
       "      <td>6224.55</td>\n",
       "      <td>*16.086</td>\n",
       "      <td>29669.66</td>\n",
       "      <td>73940.49</td>\n",
       "      <td>41277.09</td>\n",
       "      <td>0.925</td>\n",
       "      <td>Positive</td>\n",
       "    </tr>\n",
       "    <tr>\n",
       "      <th>2</th>\n",
       "      <td>CRC 457</td>\n",
       "      <td>CRC 457 PLS 1</td>\n",
       "      <td>Colorectum</td>\n",
       "      <td>II</td>\n",
       "      <td>4365.53</td>\n",
       "      <td>2350.93</td>\n",
       "      <td>4120.77</td>\n",
       "      <td>*4.854</td>\n",
       "      <td>16.96</td>\n",
       "      <td>*16.452</td>\n",
       "      <td>...</td>\n",
       "      <td>*204.792</td>\n",
       "      <td>173.78</td>\n",
       "      <td>3698.16</td>\n",
       "      <td>4046.48</td>\n",
       "      <td>179.03</td>\n",
       "      <td>6020.47</td>\n",
       "      <td>22797.28</td>\n",
       "      <td>28440.60</td>\n",
       "      <td>0.852</td>\n",
       "      <td>Negative</td>\n",
       "    </tr>\n",
       "    <tr>\n",
       "      <th>3</th>\n",
       "      <td>CRC 458</td>\n",
       "      <td>CRC 458 PLS 1</td>\n",
       "      <td>Colorectum</td>\n",
       "      <td>II</td>\n",
       "      <td>*715.308</td>\n",
       "      <td>1604.34</td>\n",
       "      <td>2029.96</td>\n",
       "      <td>5.39</td>\n",
       "      <td>8.31</td>\n",
       "      <td>*16.452</td>\n",
       "      <td>...</td>\n",
       "      <td>*204.792</td>\n",
       "      <td>29.47</td>\n",
       "      <td>5856</td>\n",
       "      <td>6121.93</td>\n",
       "      <td>*16.086</td>\n",
       "      <td>4331.02</td>\n",
       "      <td>20441.19</td>\n",
       "      <td>25896.73</td>\n",
       "      <td>0.618</td>\n",
       "      <td>Negative</td>\n",
       "    </tr>\n",
       "    <tr>\n",
       "      <th>4</th>\n",
       "      <td>CRC 459</td>\n",
       "      <td>CRC 459 PLS 1</td>\n",
       "      <td>Colorectum</td>\n",
       "      <td>II</td>\n",
       "      <td>801.3</td>\n",
       "      <td>2087.57</td>\n",
       "      <td>2069.17</td>\n",
       "      <td>*4.854</td>\n",
       "      <td>11.73</td>\n",
       "      <td>*16.452</td>\n",
       "      <td>...</td>\n",
       "      <td>*204.792</td>\n",
       "      <td>78.07</td>\n",
       "      <td>5447.93</td>\n",
       "      <td>6982.32</td>\n",
       "      <td>*16.086</td>\n",
       "      <td>2311.91</td>\n",
       "      <td>56288.51</td>\n",
       "      <td>49425.20</td>\n",
       "      <td>0.318</td>\n",
       "      <td>Negative</td>\n",
       "    </tr>\n",
       "  </tbody>\n",
       "</table>\n",
       "<p>5 rows × 45 columns</p>\n",
       "</div>"
      ],
      "text/plain": [
       "  Patient ID #    Sample ID #  Tumor type AJCC Stage AFP (pg/ml)  \\\n",
       "0      CRC 455  CRC 455 PLS 1  Colorectum          I     1583.45   \n",
       "1      CRC 456  CRC 456 PLS 1  Colorectum          I    *715.308   \n",
       "2      CRC 457  CRC 457 PLS 1  Colorectum         II     4365.53   \n",
       "3      CRC 458  CRC 458 PLS 1  Colorectum         II    *715.308   \n",
       "4      CRC 459  CRC 459 PLS 1  Colorectum         II       801.3   \n",
       "\n",
       "  Angiopoietin-2 (pg/ml)  AXL (pg/ml) CA-125 (U/ml) CA 15-3 (U/ml)  \\\n",
       "0                5598.50      3621.04          5.09          19.08   \n",
       "1               20936.35      2772.96          7.27          10.04   \n",
       "2                2350.93      4120.77        *4.854          16.96   \n",
       "3                1604.34      2029.96          5.39           8.31   \n",
       "4                2087.57      2069.17        *4.854          11.73   \n",
       "\n",
       "  CA19-9 (U/ml)  ... sFas (pg/ml) SHBG (nM) sHER2/sEGFR2/sErbB2 (pg/ml)  \\\n",
       "0       *16.452  ...     *204.792     55.06                     6832.07   \n",
       "1         40.91  ...     *204.792     72.92                     5549.47   \n",
       "2       *16.452  ...     *204.792    173.78                     3698.16   \n",
       "3       *16.452  ...     *204.792     29.47                        5856   \n",
       "4       *16.452  ...     *204.792     78.07                     5447.93   \n",
       "\n",
       "  sPECAM-1 (pg/ml) TGFa (pg/ml) Thrombospondin-2 (pg/ml) TIMP-1 (pg/ml)  \\\n",
       "0          9368.53      *16.086                 21863.74       56428.71   \n",
       "1          6224.55      *16.086                 29669.66       73940.49   \n",
       "2          4046.48       179.03                  6020.47       22797.28   \n",
       "3          6121.93      *16.086                  4331.02       20441.19   \n",
       "4          6982.32      *16.086                  2311.91       56288.51   \n",
       "\n",
       "  TIMP-2 (pg/ml) CancerSEEK Logistic Regression Score CancerSEEK Test Result  \n",
       "0       39498.82                                0.938               Positive  \n",
       "1       41277.09                                0.925               Positive  \n",
       "2       28440.60                                0.852               Negative  \n",
       "3       25896.73                                0.618               Negative  \n",
       "4       49425.20                                0.318               Negative  \n",
       "\n",
       "[5 rows x 45 columns]"
      ]
     },
     "execution_count": 5,
     "metadata": {},
     "output_type": "execute_result"
    }
   ],
   "source": [
    "#view the top 5 data\n",
    "df.head()"
   ]
  },
  {
   "cell_type": "code",
   "execution_count": 6,
   "id": "c938a2c3",
   "metadata": {},
   "outputs": [
    {
     "data": {
      "text/plain": [
       "880"
      ]
     },
     "execution_count": 6,
     "metadata": {},
     "output_type": "execute_result"
    }
   ],
   "source": [
    "#check for null values\n",
    "df.isna().sum().sum()"
   ]
  },
  {
   "cell_type": "code",
   "execution_count": 7,
   "id": "d95d9345",
   "metadata": {},
   "outputs": [],
   "source": [
    "#remove the patients having normal tumour type\n",
    "df = df[df.iloc[:,2] != 'Normal']"
   ]
  },
  {
   "cell_type": "code",
   "execution_count": 8,
   "id": "46e0c890",
   "metadata": {},
   "outputs": [
    {
     "data": {
      "text/plain": [
       "1"
      ]
     },
     "execution_count": 8,
     "metadata": {},
     "output_type": "execute_result"
    }
   ],
   "source": [
    "df.isna().sum().sum()"
   ]
  },
  {
   "cell_type": "code",
   "execution_count": 9,
   "id": "03e87387",
   "metadata": {},
   "outputs": [
    {
     "data": {
      "text/plain": [
       "Index(['Patient ID #', 'Sample ID #', 'Tumor type', 'AJCC Stage',\n",
       "       'AFP (pg/ml)', 'Angiopoietin-2 (pg/ml)', 'AXL (pg/ml)', 'CA-125 (U/ml)',\n",
       "       'CA 15-3 (U/ml)', 'CA19-9 (U/ml)', 'CD44 (ng/ml)', 'CEA (pg/ml)',\n",
       "       'CYFRA 21-1 (pg/ml)', 'DKK1 (ng/ml)', 'Endoglin (pg/ml)',\n",
       "       'FGF2 (pg/ml)', 'Follistatin (pg/ml)', 'Galectin-3 (ng/ml)',\n",
       "       'G-CSF (pg/ml)', 'GDF15 (ng/ml)', 'HE4 (pg/ml)', 'HGF (pg/ml)',\n",
       "       'IL-6 (pg/ml)', 'IL-8 (pg/ml)', 'Kallikrein-6 (pg/ml)',\n",
       "       'Leptin (pg/ml)', 'Mesothelin (ng/ml)', 'Midkine (pg/ml)',\n",
       "       'Myeloperoxidase (ng/ml)', 'NSE (ng/ml)', 'OPG (ng/ml)', 'OPN (pg/ml)',\n",
       "       'PAR (pg/ml)', 'Prolactin (pg/ml)', 'sEGFR (pg/ml)', 'sFas (pg/ml)',\n",
       "       'SHBG (nM)', 'sHER2/sEGFR2/sErbB2 (pg/ml)', 'sPECAM-1 (pg/ml)',\n",
       "       'TGFa (pg/ml)', 'Thrombospondin-2 (pg/ml)', 'TIMP-1 (pg/ml)',\n",
       "       'TIMP-2 (pg/ml)', 'CancerSEEK Logistic Regression Score',\n",
       "       'CancerSEEK Test Result'],\n",
       "      dtype='object')"
      ]
     },
     "execution_count": 9,
     "metadata": {},
     "output_type": "execute_result"
    }
   ],
   "source": [
    "#view feature names\n",
    "df.columns"
   ]
  },
  {
   "cell_type": "code",
   "execution_count": 10,
   "id": "40dab7f8",
   "metadata": {},
   "outputs": [],
   "source": [
    "#rename the features\n",
    "df.rename(columns = {'AFP (pg/ml)':'AFP_(pg/ml)', 'CA-125 (U/ml)':'CA-125_(U/ml)',\n",
    "                              'CA 15-3 (U/ml)':'CA_15-3_(U/ml)','CA19-9 (U/ml)':'CA19-9_(U/ml)',\n",
    "                              'CEA (pg/ml)':'CEA_(pg/ml)','HGF (pg/ml)':'HGF_(pg/ml)',\n",
    "                             'OPN (pg/ml)':'OPN_(pg/ml)','Prolactin (pg/ml)':'Prolactin_(pg/ml)','TIMP-1 (pg/ml)':'TIMP-1_(pg/ml)',\n",
    "                     'Tumor type':'Tumor_type','Patient ID #':'Patient_ID','Sample ID #':'Sample_ID',\n",
    "                     'CancerSEEK Logistic Regression Score':'CancerSEEK_Logistic_Regression_Score',\n",
    "                     'CancerSEEK Test Result':'CancerSEEK_Test_Result','AJCC Stage':'AJCC_Stage'}, inplace = True)"
   ]
  },
  {
   "cell_type": "code",
   "execution_count": 11,
   "id": "dcabf93b",
   "metadata": {},
   "outputs": [
    {
     "data": {
      "text/plain": [
       "1"
      ]
     },
     "execution_count": 11,
     "metadata": {},
     "output_type": "execute_result"
    }
   ],
   "source": [
    "df.isna().sum().sum()"
   ]
  },
  {
   "cell_type": "code",
   "execution_count": 12,
   "id": "41fff2bd",
   "metadata": {},
   "outputs": [],
   "source": [
    "#add the required features in a new dataframe\n",
    "df1 = df[[\"Tumor_type\",\"AFP_(pg/ml)\", \"CA-125_(U/ml)\",\"CA_15-3_(U/ml)\",\"CA19-9_(U/ml)\",\"CEA_(pg/ml)\",\"HGF_(pg/ml)\",\"OPN_(pg/ml)\",\"Prolactin_(pg/ml)\",\"TIMP-1_(pg/ml)\",\"CancerSEEK_Test_Result\"]]"
   ]
  },
  {
   "cell_type": "code",
   "execution_count": 13,
   "id": "483bd31c",
   "metadata": {},
   "outputs": [
    {
     "data": {
      "text/html": [
       "<div>\n",
       "<style scoped>\n",
       "    .dataframe tbody tr th:only-of-type {\n",
       "        vertical-align: middle;\n",
       "    }\n",
       "\n",
       "    .dataframe tbody tr th {\n",
       "        vertical-align: top;\n",
       "    }\n",
       "\n",
       "    .dataframe thead th {\n",
       "        text-align: right;\n",
       "    }\n",
       "</style>\n",
       "<table border=\"1\" class=\"dataframe\">\n",
       "  <thead>\n",
       "    <tr style=\"text-align: right;\">\n",
       "      <th></th>\n",
       "      <th>Tumor_type</th>\n",
       "      <th>AFP_(pg/ml)</th>\n",
       "      <th>CA-125_(U/ml)</th>\n",
       "      <th>CA_15-3_(U/ml)</th>\n",
       "      <th>CA19-9_(U/ml)</th>\n",
       "      <th>CEA_(pg/ml)</th>\n",
       "      <th>HGF_(pg/ml)</th>\n",
       "      <th>OPN_(pg/ml)</th>\n",
       "      <th>Prolactin_(pg/ml)</th>\n",
       "      <th>TIMP-1_(pg/ml)</th>\n",
       "      <th>CancerSEEK_Test_Result</th>\n",
       "    </tr>\n",
       "  </thead>\n",
       "  <tbody>\n",
       "    <tr>\n",
       "      <th>0</th>\n",
       "      <td>Colorectum</td>\n",
       "      <td>1583.45</td>\n",
       "      <td>5.09</td>\n",
       "      <td>19.08</td>\n",
       "      <td>*16.452</td>\n",
       "      <td>540.1</td>\n",
       "      <td>377.26</td>\n",
       "      <td>56516.58</td>\n",
       "      <td>11606.6</td>\n",
       "      <td>56428.71</td>\n",
       "      <td>Positive</td>\n",
       "    </tr>\n",
       "    <tr>\n",
       "      <th>1</th>\n",
       "      <td>Colorectum</td>\n",
       "      <td>*715.308</td>\n",
       "      <td>7.27</td>\n",
       "      <td>10.04</td>\n",
       "      <td>40.91</td>\n",
       "      <td>5,902.4</td>\n",
       "      <td>659.68</td>\n",
       "      <td>61001.39</td>\n",
       "      <td>14374.99</td>\n",
       "      <td>73940.49</td>\n",
       "      <td>Positive</td>\n",
       "    </tr>\n",
       "    <tr>\n",
       "      <th>2</th>\n",
       "      <td>Colorectum</td>\n",
       "      <td>4365.53</td>\n",
       "      <td>*4.854</td>\n",
       "      <td>16.96</td>\n",
       "      <td>*16.452</td>\n",
       "      <td>973.8</td>\n",
       "      <td>329.07</td>\n",
       "      <td>88896.24</td>\n",
       "      <td>38375</td>\n",
       "      <td>22797.28</td>\n",
       "      <td>Negative</td>\n",
       "    </tr>\n",
       "    <tr>\n",
       "      <th>3</th>\n",
       "      <td>Colorectum</td>\n",
       "      <td>*715.308</td>\n",
       "      <td>5.39</td>\n",
       "      <td>8.31</td>\n",
       "      <td>*16.452</td>\n",
       "      <td>2,027.5</td>\n",
       "      <td>266.66</td>\n",
       "      <td>42549.61</td>\n",
       "      <td>12072.51</td>\n",
       "      <td>20441.19</td>\n",
       "      <td>Negative</td>\n",
       "    </tr>\n",
       "    <tr>\n",
       "      <th>4</th>\n",
       "      <td>Colorectum</td>\n",
       "      <td>801.3</td>\n",
       "      <td>*4.854</td>\n",
       "      <td>11.73</td>\n",
       "      <td>*16.452</td>\n",
       "      <td>614.5</td>\n",
       "      <td>370.88</td>\n",
       "      <td>24274.11</td>\n",
       "      <td>23718.17</td>\n",
       "      <td>56288.51</td>\n",
       "      <td>Negative</td>\n",
       "    </tr>\n",
       "  </tbody>\n",
       "</table>\n",
       "</div>"
      ],
      "text/plain": [
       "   Tumor_type AFP_(pg/ml) CA-125_(U/ml) CA_15-3_(U/ml) CA19-9_(U/ml)  \\\n",
       "0  Colorectum     1583.45          5.09          19.08       *16.452   \n",
       "1  Colorectum    *715.308          7.27          10.04         40.91   \n",
       "2  Colorectum     4365.53        *4.854          16.96       *16.452   \n",
       "3  Colorectum    *715.308          5.39           8.31       *16.452   \n",
       "4  Colorectum       801.3        *4.854          11.73       *16.452   \n",
       "\n",
       "  CEA_(pg/ml) HGF_(pg/ml) OPN_(pg/ml) Prolactin_(pg/ml) TIMP-1_(pg/ml)  \\\n",
       "0       540.1      377.26    56516.58           11606.6       56428.71   \n",
       "1     5,902.4      659.68    61001.39          14374.99       73940.49   \n",
       "2       973.8      329.07    88896.24             38375       22797.28   \n",
       "3     2,027.5      266.66    42549.61          12072.51       20441.19   \n",
       "4       614.5      370.88    24274.11          23718.17       56288.51   \n",
       "\n",
       "  CancerSEEK_Test_Result  \n",
       "0               Positive  \n",
       "1               Positive  \n",
       "2               Negative  \n",
       "3               Negative  \n",
       "4               Negative  "
      ]
     },
     "execution_count": 13,
     "metadata": {},
     "output_type": "execute_result"
    }
   ],
   "source": [
    "df1.head()"
   ]
  },
  {
   "cell_type": "code",
   "execution_count": 14,
   "id": "8fc303cf",
   "metadata": {},
   "outputs": [
    {
     "data": {
      "text/plain": [
       "0"
      ]
     },
     "execution_count": 14,
     "metadata": {},
     "output_type": "execute_result"
    }
   ],
   "source": [
    "#no null values\n",
    "df1.isna().sum().sum()"
   ]
  },
  {
   "cell_type": "code",
   "execution_count": 15,
   "id": "58fa6b59",
   "metadata": {},
   "outputs": [
    {
     "name": "stderr",
     "output_type": "stream",
     "text": [
      "C:\\Users\\sriku\\AppData\\Local\\Temp/ipykernel_14888/2051290352.py:2: SettingWithCopyWarning: \n",
      "A value is trying to be set on a copy of a slice from a DataFrame.\n",
      "Try using .loc[row_indexer,col_indexer] = value instead\n",
      "\n",
      "See the caveats in the documentation: https://pandas.pydata.org/pandas-docs/stable/user_guide/indexing.html#returning-a-view-versus-a-copy\n",
      "  df1['AFP_(pg/ml)']=[re.sub(\"[*]\", \"\", x).strip() for x in df1[\"AFP_(pg/ml)\"]]\n",
      "C:\\Users\\sriku\\AppData\\Local\\Temp/ipykernel_14888/2051290352.py:3: SettingWithCopyWarning: \n",
      "A value is trying to be set on a copy of a slice from a DataFrame.\n",
      "Try using .loc[row_indexer,col_indexer] = value instead\n",
      "\n",
      "See the caveats in the documentation: https://pandas.pydata.org/pandas-docs/stable/user_guide/indexing.html#returning-a-view-versus-a-copy\n",
      "  df1['CA-125_(U/ml)']=[re.sub(\"[*]\", \"\", x).strip() for x in df1[\"CA-125_(U/ml)\"]]\n",
      "C:\\Users\\sriku\\AppData\\Local\\Temp/ipykernel_14888/2051290352.py:4: SettingWithCopyWarning: \n",
      "A value is trying to be set on a copy of a slice from a DataFrame.\n",
      "Try using .loc[row_indexer,col_indexer] = value instead\n",
      "\n",
      "See the caveats in the documentation: https://pandas.pydata.org/pandas-docs/stable/user_guide/indexing.html#returning-a-view-versus-a-copy\n",
      "  df1['CA_15-3_(U/ml)']=[re.sub(\"[*]\", \"\", x).strip() for x in df1[\"CA_15-3_(U/ml)\"]]\n",
      "C:\\Users\\sriku\\AppData\\Local\\Temp/ipykernel_14888/2051290352.py:5: SettingWithCopyWarning: \n",
      "A value is trying to be set on a copy of a slice from a DataFrame.\n",
      "Try using .loc[row_indexer,col_indexer] = value instead\n",
      "\n",
      "See the caveats in the documentation: https://pandas.pydata.org/pandas-docs/stable/user_guide/indexing.html#returning-a-view-versus-a-copy\n",
      "  df1['CA19-9_(U/ml)']=[re.sub(\"[*]\", \"\", x).strip() for x in df1[\"CA19-9_(U/ml)\"]]\n",
      "C:\\Users\\sriku\\AppData\\Local\\Temp/ipykernel_14888/2051290352.py:6: SettingWithCopyWarning: \n",
      "A value is trying to be set on a copy of a slice from a DataFrame.\n",
      "Try using .loc[row_indexer,col_indexer] = value instead\n",
      "\n",
      "See the caveats in the documentation: https://pandas.pydata.org/pandas-docs/stable/user_guide/indexing.html#returning-a-view-versus-a-copy\n",
      "  df1['CEA_(pg/ml)']=[re.sub(\"[*,]\", \"\", x).strip() for x in df1[\"CEA_(pg/ml)\"]]\n",
      "C:\\Users\\sriku\\AppData\\Local\\Temp/ipykernel_14888/2051290352.py:7: SettingWithCopyWarning: \n",
      "A value is trying to be set on a copy of a slice from a DataFrame.\n",
      "Try using .loc[row_indexer,col_indexer] = value instead\n",
      "\n",
      "See the caveats in the documentation: https://pandas.pydata.org/pandas-docs/stable/user_guide/indexing.html#returning-a-view-versus-a-copy\n",
      "  df1['HGF_(pg/ml)']=[re.sub(\"[*]\", \"\", x).strip() for x in df1[\"HGF_(pg/ml)\"]]\n",
      "C:\\Users\\sriku\\AppData\\Local\\Temp/ipykernel_14888/2051290352.py:8: SettingWithCopyWarning: \n",
      "A value is trying to be set on a copy of a slice from a DataFrame.\n",
      "Try using .loc[row_indexer,col_indexer] = value instead\n",
      "\n",
      "See the caveats in the documentation: https://pandas.pydata.org/pandas-docs/stable/user_guide/indexing.html#returning-a-view-versus-a-copy\n",
      "  df1['OPN_(pg/ml)']=[re.sub(\"[*]\", \"\", x).strip() for x in df1[\"OPN_(pg/ml)\"]]\n",
      "C:\\Users\\sriku\\AppData\\Local\\Temp/ipykernel_14888/2051290352.py:9: SettingWithCopyWarning: \n",
      "A value is trying to be set on a copy of a slice from a DataFrame.\n",
      "Try using .loc[row_indexer,col_indexer] = value instead\n",
      "\n",
      "See the caveats in the documentation: https://pandas.pydata.org/pandas-docs/stable/user_guide/indexing.html#returning-a-view-versus-a-copy\n",
      "  df1['Prolactin_(pg/ml)']=[re.sub(\"[*]\", \"\", x).strip() for x in df1[\"Prolactin_(pg/ml)\"]]\n",
      "C:\\Users\\sriku\\AppData\\Local\\Temp/ipykernel_14888/2051290352.py:10: SettingWithCopyWarning: \n",
      "A value is trying to be set on a copy of a slice from a DataFrame.\n",
      "Try using .loc[row_indexer,col_indexer] = value instead\n",
      "\n",
      "See the caveats in the documentation: https://pandas.pydata.org/pandas-docs/stable/user_guide/indexing.html#returning-a-view-versus-a-copy\n",
      "  df1['TIMP-1_(pg/ml)']=[re.sub(\"[*]\", \"\", x).strip() for x in df1[\"TIMP-1_(pg/ml)\"]]\n"
     ]
    }
   ],
   "source": [
    "#remove any str pattern present in the numerical column\n",
    "df1['AFP_(pg/ml)']=[re.sub(\"[*]\", \"\", x).strip() for x in df1[\"AFP_(pg/ml)\"]]\n",
    "df1['CA-125_(U/ml)']=[re.sub(\"[*]\", \"\", x).strip() for x in df1[\"CA-125_(U/ml)\"]]\n",
    "df1['CA_15-3_(U/ml)']=[re.sub(\"[*]\", \"\", x).strip() for x in df1[\"CA_15-3_(U/ml)\"]]\n",
    "df1['CA19-9_(U/ml)']=[re.sub(\"[*]\", \"\", x).strip() for x in df1[\"CA19-9_(U/ml)\"]]\n",
    "df1['CEA_(pg/ml)']=[re.sub(\"[*,]\", \"\", x).strip() for x in df1[\"CEA_(pg/ml)\"]]\n",
    "df1['HGF_(pg/ml)']=[re.sub(\"[*]\", \"\", x).strip() for x in df1[\"HGF_(pg/ml)\"]]\n",
    "df1['OPN_(pg/ml)']=[re.sub(\"[*]\", \"\", x).strip() for x in df1[\"OPN_(pg/ml)\"]]\n",
    "df1['Prolactin_(pg/ml)']=[re.sub(\"[*]\", \"\", x).strip() for x in df1[\"Prolactin_(pg/ml)\"]]\n",
    "df1['TIMP-1_(pg/ml)']=[re.sub(\"[*]\", \"\", x).strip() for x in df1[\"TIMP-1_(pg/ml)\"]]"
   ]
  },
  {
   "cell_type": "code",
   "execution_count": 16,
   "id": "02f0ccab",
   "metadata": {},
   "outputs": [
    {
     "data": {
      "text/html": [
       "<div>\n",
       "<style scoped>\n",
       "    .dataframe tbody tr th:only-of-type {\n",
       "        vertical-align: middle;\n",
       "    }\n",
       "\n",
       "    .dataframe tbody tr th {\n",
       "        vertical-align: top;\n",
       "    }\n",
       "\n",
       "    .dataframe thead th {\n",
       "        text-align: right;\n",
       "    }\n",
       "</style>\n",
       "<table border=\"1\" class=\"dataframe\">\n",
       "  <thead>\n",
       "    <tr style=\"text-align: right;\">\n",
       "      <th></th>\n",
       "      <th>Tumor_type</th>\n",
       "      <th>AFP_(pg/ml)</th>\n",
       "      <th>CA-125_(U/ml)</th>\n",
       "      <th>CA_15-3_(U/ml)</th>\n",
       "      <th>CA19-9_(U/ml)</th>\n",
       "      <th>CEA_(pg/ml)</th>\n",
       "      <th>HGF_(pg/ml)</th>\n",
       "      <th>OPN_(pg/ml)</th>\n",
       "      <th>Prolactin_(pg/ml)</th>\n",
       "      <th>TIMP-1_(pg/ml)</th>\n",
       "      <th>CancerSEEK_Test_Result</th>\n",
       "    </tr>\n",
       "  </thead>\n",
       "  <tbody>\n",
       "    <tr>\n",
       "      <th>0</th>\n",
       "      <td>Colorectum</td>\n",
       "      <td>1583.45</td>\n",
       "      <td>5.09</td>\n",
       "      <td>19.08</td>\n",
       "      <td>16.452</td>\n",
       "      <td>540.1</td>\n",
       "      <td>377.26</td>\n",
       "      <td>56516.58</td>\n",
       "      <td>11606.6</td>\n",
       "      <td>56428.71</td>\n",
       "      <td>Positive</td>\n",
       "    </tr>\n",
       "    <tr>\n",
       "      <th>1</th>\n",
       "      <td>Colorectum</td>\n",
       "      <td>715.308</td>\n",
       "      <td>7.27</td>\n",
       "      <td>10.04</td>\n",
       "      <td>40.91</td>\n",
       "      <td>5902.4</td>\n",
       "      <td>659.68</td>\n",
       "      <td>61001.39</td>\n",
       "      <td>14374.99</td>\n",
       "      <td>73940.49</td>\n",
       "      <td>Positive</td>\n",
       "    </tr>\n",
       "    <tr>\n",
       "      <th>2</th>\n",
       "      <td>Colorectum</td>\n",
       "      <td>4365.53</td>\n",
       "      <td>4.854</td>\n",
       "      <td>16.96</td>\n",
       "      <td>16.452</td>\n",
       "      <td>973.8</td>\n",
       "      <td>329.07</td>\n",
       "      <td>88896.24</td>\n",
       "      <td>38375</td>\n",
       "      <td>22797.28</td>\n",
       "      <td>Negative</td>\n",
       "    </tr>\n",
       "    <tr>\n",
       "      <th>3</th>\n",
       "      <td>Colorectum</td>\n",
       "      <td>715.308</td>\n",
       "      <td>5.39</td>\n",
       "      <td>8.31</td>\n",
       "      <td>16.452</td>\n",
       "      <td>2027.5</td>\n",
       "      <td>266.66</td>\n",
       "      <td>42549.61</td>\n",
       "      <td>12072.51</td>\n",
       "      <td>20441.19</td>\n",
       "      <td>Negative</td>\n",
       "    </tr>\n",
       "    <tr>\n",
       "      <th>4</th>\n",
       "      <td>Colorectum</td>\n",
       "      <td>801.3</td>\n",
       "      <td>4.854</td>\n",
       "      <td>11.73</td>\n",
       "      <td>16.452</td>\n",
       "      <td>614.5</td>\n",
       "      <td>370.88</td>\n",
       "      <td>24274.11</td>\n",
       "      <td>23718.17</td>\n",
       "      <td>56288.51</td>\n",
       "      <td>Negative</td>\n",
       "    </tr>\n",
       "    <tr>\n",
       "      <th>...</th>\n",
       "      <td>...</td>\n",
       "      <td>...</td>\n",
       "      <td>...</td>\n",
       "      <td>...</td>\n",
       "      <td>...</td>\n",
       "      <td>...</td>\n",
       "      <td>...</td>\n",
       "      <td>...</td>\n",
       "      <td>...</td>\n",
       "      <td>...</td>\n",
       "      <td>...</td>\n",
       "    </tr>\n",
       "    <tr>\n",
       "      <th>1812</th>\n",
       "      <td>Ovary</td>\n",
       "      <td>879.498</td>\n",
       "      <td>24.82</td>\n",
       "      <td>10.30</td>\n",
       "      <td>42.39</td>\n",
       "      <td>914.00</td>\n",
       "      <td>284.34</td>\n",
       "      <td>38603.84</td>\n",
       "      <td>58266.97</td>\n",
       "      <td>167799.61</td>\n",
       "      <td>Positive</td>\n",
       "    </tr>\n",
       "    <tr>\n",
       "      <th>1813</th>\n",
       "      <td>Ovary</td>\n",
       "      <td>1337.33</td>\n",
       "      <td>5.58</td>\n",
       "      <td>9.80</td>\n",
       "      <td>16.44</td>\n",
       "      <td>1179.5</td>\n",
       "      <td>374.03</td>\n",
       "      <td>29994.01</td>\n",
       "      <td>187828.79</td>\n",
       "      <td>123443.76</td>\n",
       "      <td>Positive</td>\n",
       "    </tr>\n",
       "    <tr>\n",
       "      <th>1814</th>\n",
       "      <td>Ovary</td>\n",
       "      <td>879.498</td>\n",
       "      <td>30.48</td>\n",
       "      <td>8.48</td>\n",
       "      <td>16.44</td>\n",
       "      <td>443.01</td>\n",
       "      <td>309.22</td>\n",
       "      <td>93601.15</td>\n",
       "      <td>241440.02</td>\n",
       "      <td>104070.89</td>\n",
       "      <td>Positive</td>\n",
       "    </tr>\n",
       "    <tr>\n",
       "      <th>1815</th>\n",
       "      <td>Ovary</td>\n",
       "      <td>879.498</td>\n",
       "      <td>1469.45</td>\n",
       "      <td>23.74</td>\n",
       "      <td>62.26</td>\n",
       "      <td>443.01</td>\n",
       "      <td>1153.7</td>\n",
       "      <td>145116.62</td>\n",
       "      <td>140145.7</td>\n",
       "      <td>110579.24</td>\n",
       "      <td>Positive</td>\n",
       "    </tr>\n",
       "    <tr>\n",
       "      <th>1816</th>\n",
       "      <td>Ovary</td>\n",
       "      <td>879.498</td>\n",
       "      <td>1428.31</td>\n",
       "      <td>836.85</td>\n",
       "      <td>37.90</td>\n",
       "      <td>443.01</td>\n",
       "      <td>224.69</td>\n",
       "      <td>103657.44</td>\n",
       "      <td>111737.24</td>\n",
       "      <td>88464.04</td>\n",
       "      <td>Positive</td>\n",
       "    </tr>\n",
       "  </tbody>\n",
       "</table>\n",
       "<p>1005 rows × 11 columns</p>\n",
       "</div>"
      ],
      "text/plain": [
       "      Tumor_type AFP_(pg/ml) CA-125_(U/ml) CA_15-3_(U/ml) CA19-9_(U/ml)  \\\n",
       "0     Colorectum     1583.45          5.09          19.08        16.452   \n",
       "1     Colorectum     715.308          7.27          10.04         40.91   \n",
       "2     Colorectum     4365.53         4.854          16.96        16.452   \n",
       "3     Colorectum     715.308          5.39           8.31        16.452   \n",
       "4     Colorectum       801.3         4.854          11.73        16.452   \n",
       "...          ...         ...           ...            ...           ...   \n",
       "1812       Ovary     879.498         24.82          10.30         42.39   \n",
       "1813       Ovary     1337.33          5.58           9.80         16.44   \n",
       "1814       Ovary     879.498         30.48           8.48         16.44   \n",
       "1815       Ovary     879.498       1469.45          23.74         62.26   \n",
       "1816       Ovary     879.498       1428.31         836.85         37.90   \n",
       "\n",
       "     CEA_(pg/ml) HGF_(pg/ml) OPN_(pg/ml) Prolactin_(pg/ml) TIMP-1_(pg/ml)  \\\n",
       "0          540.1      377.26    56516.58           11606.6       56428.71   \n",
       "1         5902.4      659.68    61001.39          14374.99       73940.49   \n",
       "2          973.8      329.07    88896.24             38375       22797.28   \n",
       "3         2027.5      266.66    42549.61          12072.51       20441.19   \n",
       "4          614.5      370.88    24274.11          23718.17       56288.51   \n",
       "...          ...         ...         ...               ...            ...   \n",
       "1812      914.00      284.34    38603.84          58266.97      167799.61   \n",
       "1813      1179.5      374.03    29994.01         187828.79      123443.76   \n",
       "1814      443.01      309.22    93601.15         241440.02      104070.89   \n",
       "1815      443.01      1153.7   145116.62          140145.7      110579.24   \n",
       "1816      443.01      224.69   103657.44         111737.24       88464.04   \n",
       "\n",
       "     CancerSEEK_Test_Result  \n",
       "0                  Positive  \n",
       "1                  Positive  \n",
       "2                  Negative  \n",
       "3                  Negative  \n",
       "4                  Negative  \n",
       "...                     ...  \n",
       "1812               Positive  \n",
       "1813               Positive  \n",
       "1814               Positive  \n",
       "1815               Positive  \n",
       "1816               Positive  \n",
       "\n",
       "[1005 rows x 11 columns]"
      ]
     },
     "execution_count": 16,
     "metadata": {},
     "output_type": "execute_result"
    }
   ],
   "source": [
    "df1"
   ]
  },
  {
   "cell_type": "code",
   "execution_count": 17,
   "id": "58d2dfc2",
   "metadata": {},
   "outputs": [
    {
     "data": {
      "text/plain": [
       "Tumor_type                object\n",
       "AFP_(pg/ml)               object\n",
       "CA-125_(U/ml)             object\n",
       "CA_15-3_(U/ml)            object\n",
       "CA19-9_(U/ml)             object\n",
       "CEA_(pg/ml)               object\n",
       "HGF_(pg/ml)               object\n",
       "OPN_(pg/ml)               object\n",
       "Prolactin_(pg/ml)         object\n",
       "TIMP-1_(pg/ml)            object\n",
       "CancerSEEK_Test_Result    object\n",
       "dtype: object"
      ]
     },
     "execution_count": 17,
     "metadata": {},
     "output_type": "execute_result"
    }
   ],
   "source": [
    "df1.dtypes"
   ]
  },
  {
   "cell_type": "code",
   "execution_count": 18,
   "id": "edf4f640",
   "metadata": {},
   "outputs": [
    {
     "name": "stderr",
     "output_type": "stream",
     "text": [
      "C:\\Users\\sriku\\AppData\\Local\\Temp/ipykernel_14888/1543430720.py:2: SettingWithCopyWarning: \n",
      "A value is trying to be set on a copy of a slice from a DataFrame.\n",
      "Try using .loc[row_indexer,col_indexer] = value instead\n",
      "\n",
      "See the caveats in the documentation: https://pandas.pydata.org/pandas-docs/stable/user_guide/indexing.html#returning-a-view-versus-a-copy\n",
      "  df1[[\"AFP_(pg/ml)\", \"CA-125_(U/ml)\",\"CA_15-3_(U/ml)\",\"CA19-9_(U/ml)\",\"CEA_(pg/ml)\",\"HGF_(pg/ml)\",\"OPN_(pg/ml)\",\"Prolactin_(pg/ml)\",\"TIMP-1_(pg/ml)\"]]=df1[[\"AFP_(pg/ml)\", \"CA-125_(U/ml)\",\"CA_15-3_(U/ml)\",\"CA19-9_(U/ml)\",\"CEA_(pg/ml)\",\"HGF_(pg/ml)\",\"OPN_(pg/ml)\",\"Prolactin_(pg/ml)\",\"TIMP-1_(pg/ml)\"]].astype(float)\n"
     ]
    }
   ],
   "source": [
    "#change the object dtype to float dtype\n",
    "df1[[\"AFP_(pg/ml)\", \"CA-125_(U/ml)\",\"CA_15-3_(U/ml)\",\"CA19-9_(U/ml)\",\"CEA_(pg/ml)\",\"HGF_(pg/ml)\",\"OPN_(pg/ml)\",\"Prolactin_(pg/ml)\",\"TIMP-1_(pg/ml)\"]]=df1[[\"AFP_(pg/ml)\", \"CA-125_(U/ml)\",\"CA_15-3_(U/ml)\",\"CA19-9_(U/ml)\",\"CEA_(pg/ml)\",\"HGF_(pg/ml)\",\"OPN_(pg/ml)\",\"Prolactin_(pg/ml)\",\"TIMP-1_(pg/ml)\"]].astype(float)"
   ]
  },
  {
   "cell_type": "code",
   "execution_count": 19,
   "id": "0e052d15",
   "metadata": {},
   "outputs": [
    {
     "data": {
      "text/plain": [
       "Tumor_type                 object\n",
       "AFP_(pg/ml)               float64\n",
       "CA-125_(U/ml)             float64\n",
       "CA_15-3_(U/ml)            float64\n",
       "CA19-9_(U/ml)             float64\n",
       "CEA_(pg/ml)               float64\n",
       "HGF_(pg/ml)               float64\n",
       "OPN_(pg/ml)               float64\n",
       "Prolactin_(pg/ml)         float64\n",
       "TIMP-1_(pg/ml)            float64\n",
       "CancerSEEK_Test_Result     object\n",
       "dtype: object"
      ]
     },
     "execution_count": 19,
     "metadata": {},
     "output_type": "execute_result"
    }
   ],
   "source": [
    "df1.dtypes"
   ]
  },
  {
   "cell_type": "code",
   "execution_count": 20,
   "id": "55a8fdb7",
   "metadata": {},
   "outputs": [
    {
     "data": {
      "image/png": "[encoded data removed]",
      "text/plain": [
       "<Figure size 432x288 with 2 Axes>"
      ]
     },
     "metadata": {
      "needs_background": "light"
     },
     "output_type": "display_data"
    }
   ],
   "source": [
    "#correlation plot to view how the features are correlated\n",
    "df1.corr()\n",
    "  \n",
    "# plotting correlation heatmap\n",
    "dataplot = sns.heatmap(df1.corr(), cmap=\"YlGnBu\", annot=True)\n",
    "  \n",
    "# displaying heatmap\n",
    "mlt.show()"
   ]
  },
  {
   "cell_type": "code",
   "execution_count": 23,
   "id": "0d010da8",
   "metadata": {},
   "outputs": [
    {
     "name": "stderr",
     "output_type": "stream",
     "text": [
      "C:\\Users\\sriku\\AppData\\Local\\Temp/ipykernel_14888/1530963627.py:8: SettingWithCopyWarning: \n",
      "A value is trying to be set on a copy of a slice from a DataFrame.\n",
      "Try using .loc[row_indexer,col_indexer] = value instead\n",
      "\n",
      "See the caveats in the documentation: https://pandas.pydata.org/pandas-docs/stable/user_guide/indexing.html#returning-a-view-versus-a-copy\n",
      "  df1['CancerSEEK_Test_Result']= label_encoder.fit_transform(df1['CancerSEEK_Test_Result'])\n"
     ]
    },
    {
     "data": {
      "text/plain": [
       "[1    626\n",
       " 0    379\n",
       " Name: CancerSEEK_Test_Result, dtype: int64]"
      ]
     },
     "execution_count": 23,
     "metadata": {},
     "output_type": "execute_result"
    }
   ],
   "source": [
    "# Import label encoder\n",
    "\n",
    "\n",
    "# label_encoder object knows how to understand word labels.\n",
    "label_encoder = preprocessing.LabelEncoder()\n",
    "\n",
    "# Encode labels in column 'species'.\n",
    "df1['CancerSEEK_Test_Result']= label_encoder.fit_transform(df1['CancerSEEK_Test_Result'])\n",
    "\n",
    "df1['CancerSEEK_Test_Result'].unique()\n",
    "a=[df1.CancerSEEK_Test_Result.value_counts()]\n",
    "a"
   ]
  },
  {
   "cell_type": "code",
   "execution_count": 24,
   "id": "3d86d1ff",
   "metadata": {},
   "outputs": [],
   "source": [
    "from matplotlib import pyplot as plt\n",
    "import numpy as np\n",
    "from matplotlib.pyplot import figure\n",
    "import seaborn"
   ]
  },
  {
   "cell_type": "code",
   "execution_count": 29,
   "id": "5b93da67",
   "metadata": {},
   "outputs": [],
   "source": [
    "#using matplotlib to find the percentage of patients tested positive for cancer\n",
    "#ig = plt.figure(figsize =(10, 7))\n",
    "#plt.pie(a,labels=[\"Yes\",\"No\"],startangle = 90,autopct='%.0f%%')\n",
    "#plt.legend(title=\"Cancer Test Result\")\n",
    "# show plot\n",
    "#plt.show()"
   ]
  },
  {
   "cell_type": "code",
   "execution_count": 64,
   "id": "423ce642",
   "metadata": {},
   "outputs": [
    {
     "data": {
      "image/png": "[encoded data removed]",
      "text/plain": [
       "<Figure size 720x720 with 1 Axes>"
      ]
     },
     "metadata": {
      "needs_background": "light"
     },
     "output_type": "display_data"
    }
   ],
   "source": [
    "#using matplotlib to view the barplot to show the count of patient diagnosed with different types of cancer\n",
    "a=dict(df1.Tumor_type.value_counts())\n",
    "b=[]\n",
    "c=[]\n",
    "for key, value in a.items():\n",
    "    c.append(value)\n",
    "    b.append(key)\n",
    "fig = plt.figure(figsize =(10,10))\n",
    "plt.barh(b,c)\n",
    "for index, value in enumerate(c):\n",
    "    plt.text(value, index,\n",
    "             str(value),fontweight = 'bold')\n",
    "plt.show()"
   ]
  },
  {
   "cell_type": "code",
   "execution_count": 51,
   "id": "4bc146d4",
   "metadata": {
    "scrolled": true
   },
   "outputs": [
    {
     "data": {
      "text/html": [
       "<div>\n",
       "<style scoped>\n",
       "    .dataframe tbody tr th:only-of-type {\n",
       "        vertical-align: middle;\n",
       "    }\n",
       "\n",
       "    .dataframe tbody tr th {\n",
       "        vertical-align: top;\n",
       "    }\n",
       "\n",
       "    .dataframe thead th {\n",
       "        text-align: right;\n",
       "    }\n",
       "</style>\n",
       "<table border=\"1\" class=\"dataframe\">\n",
       "  <thead>\n",
       "    <tr style=\"text-align: right;\">\n",
       "      <th></th>\n",
       "      <th>AFP_(pg/ml)</th>\n",
       "      <th>CEA_(pg/ml)</th>\n",
       "    </tr>\n",
       "  </thead>\n",
       "  <tbody>\n",
       "    <tr>\n",
       "      <th>0</th>\n",
       "      <td>1583.450</td>\n",
       "      <td>540.10</td>\n",
       "    </tr>\n",
       "    <tr>\n",
       "      <th>1</th>\n",
       "      <td>715.308</td>\n",
       "      <td>5902.40</td>\n",
       "    </tr>\n",
       "    <tr>\n",
       "      <th>2</th>\n",
       "      <td>4365.530</td>\n",
       "      <td>973.80</td>\n",
       "    </tr>\n",
       "    <tr>\n",
       "      <th>3</th>\n",
       "      <td>715.308</td>\n",
       "      <td>2027.50</td>\n",
       "    </tr>\n",
       "    <tr>\n",
       "      <th>4</th>\n",
       "      <td>801.300</td>\n",
       "      <td>614.50</td>\n",
       "    </tr>\n",
       "    <tr>\n",
       "      <th>...</th>\n",
       "      <td>...</td>\n",
       "      <td>...</td>\n",
       "    </tr>\n",
       "    <tr>\n",
       "      <th>1812</th>\n",
       "      <td>879.498</td>\n",
       "      <td>914.00</td>\n",
       "    </tr>\n",
       "    <tr>\n",
       "      <th>1813</th>\n",
       "      <td>1337.330</td>\n",
       "      <td>1179.50</td>\n",
       "    </tr>\n",
       "    <tr>\n",
       "      <th>1814</th>\n",
       "      <td>879.498</td>\n",
       "      <td>443.01</td>\n",
       "    </tr>\n",
       "    <tr>\n",
       "      <th>1815</th>\n",
       "      <td>879.498</td>\n",
       "      <td>443.01</td>\n",
       "    </tr>\n",
       "    <tr>\n",
       "      <th>1816</th>\n",
       "      <td>879.498</td>\n",
       "      <td>443.01</td>\n",
       "    </tr>\n",
       "  </tbody>\n",
       "</table>\n",
       "<p>1005 rows × 2 columns</p>\n",
       "</div>"
      ],
      "text/plain": [
       "      AFP_(pg/ml)  CEA_(pg/ml)\n",
       "0        1583.450       540.10\n",
       "1         715.308      5902.40\n",
       "2        4365.530       973.80\n",
       "3         715.308      2027.50\n",
       "4         801.300       614.50\n",
       "...           ...          ...\n",
       "1812      879.498       914.00\n",
       "1813     1337.330      1179.50\n",
       "1814      879.498       443.01\n",
       "1815      879.498       443.01\n",
       "1816      879.498       443.01\n",
       "\n",
       "[1005 rows x 2 columns]"
      ]
     },
     "execution_count": 51,
     "metadata": {},
     "output_type": "execute_result"
    }
   ],
   "source": [
    "protein= df1[[\"AFP_(pg/ml)\",\"CEA_(pg/ml)\"]]\n",
    "protein"
   ]
  },
  {
   "cell_type": "code",
   "execution_count": 75,
   "id": "1c7b08b3",
   "metadata": {},
   "outputs": [
    {
     "data": {
      "image/png": "[encoded data removed]",
      "text/plain": [
       "<Figure size 432x288 with 1 Axes>"
      ]
     },
     "metadata": {
      "needs_background": "light"
     },
     "output_type": "display_data"
    }
   ],
   "source": [
    "#barplot to view the mean concentration of each protein for the patients in the dataset\n",
    "A=dict(protein.mean())\n",
    "B=[]\n",
    "C=[]\n",
    "for key, value in A.items():\n",
    "    C.append(value)\n",
    "    B.append(key)\n",
    "\n",
    "plt.barh(B,C)\n",
    "for index, value in enumerate(C):\n",
    "    a=round(value, 2)\n",
    "    plt.text(a, index,\n",
    "             str(a),fontweight = 'bold')\n",
    "plt.show()"
   ]
  },
  {
   "cell_type": "code",
   "execution_count": 77,
   "id": "c1b1bb4e",
   "metadata": {
    "scrolled": true
   },
   "outputs": [
    {
     "data": {
      "text/html": [
       "<div>\n",
       "<style scoped>\n",
       "    .dataframe tbody tr th:only-of-type {\n",
       "        vertical-align: middle;\n",
       "    }\n",
       "\n",
       "    .dataframe tbody tr th {\n",
       "        vertical-align: top;\n",
       "    }\n",
       "\n",
       "    .dataframe thead th {\n",
       "        text-align: right;\n",
       "    }\n",
       "</style>\n",
       "<table border=\"1\" class=\"dataframe\">\n",
       "  <thead>\n",
       "    <tr style=\"text-align: right;\">\n",
       "      <th></th>\n",
       "      <th>CA-125_(U/ml)</th>\n",
       "      <th>CA19-9_(U/ml)</th>\n",
       "    </tr>\n",
       "  </thead>\n",
       "  <tbody>\n",
       "    <tr>\n",
       "      <th>0</th>\n",
       "      <td>5.090</td>\n",
       "      <td>16.452</td>\n",
       "    </tr>\n",
       "    <tr>\n",
       "      <th>1</th>\n",
       "      <td>7.270</td>\n",
       "      <td>40.910</td>\n",
       "    </tr>\n",
       "    <tr>\n",
       "      <th>2</th>\n",
       "      <td>4.854</td>\n",
       "      <td>16.452</td>\n",
       "    </tr>\n",
       "    <tr>\n",
       "      <th>3</th>\n",
       "      <td>5.390</td>\n",
       "      <td>16.452</td>\n",
       "    </tr>\n",
       "    <tr>\n",
       "      <th>4</th>\n",
       "      <td>4.854</td>\n",
       "      <td>16.452</td>\n",
       "    </tr>\n",
       "    <tr>\n",
       "      <th>...</th>\n",
       "      <td>...</td>\n",
       "      <td>...</td>\n",
       "    </tr>\n",
       "    <tr>\n",
       "      <th>1812</th>\n",
       "      <td>24.820</td>\n",
       "      <td>42.390</td>\n",
       "    </tr>\n",
       "    <tr>\n",
       "      <th>1813</th>\n",
       "      <td>5.580</td>\n",
       "      <td>16.440</td>\n",
       "    </tr>\n",
       "    <tr>\n",
       "      <th>1814</th>\n",
       "      <td>30.480</td>\n",
       "      <td>16.440</td>\n",
       "    </tr>\n",
       "    <tr>\n",
       "      <th>1815</th>\n",
       "      <td>1469.450</td>\n",
       "      <td>62.260</td>\n",
       "    </tr>\n",
       "    <tr>\n",
       "      <th>1816</th>\n",
       "      <td>1428.310</td>\n",
       "      <td>37.900</td>\n",
       "    </tr>\n",
       "  </tbody>\n",
       "</table>\n",
       "<p>1005 rows × 2 columns</p>\n",
       "</div>"
      ],
      "text/plain": [
       "      CA-125_(U/ml)  CA19-9_(U/ml)\n",
       "0             5.090         16.452\n",
       "1             7.270         40.910\n",
       "2             4.854         16.452\n",
       "3             5.390         16.452\n",
       "4             4.854         16.452\n",
       "...             ...            ...\n",
       "1812         24.820         42.390\n",
       "1813          5.580         16.440\n",
       "1814         30.480         16.440\n",
       "1815       1469.450         62.260\n",
       "1816       1428.310         37.900\n",
       "\n",
       "[1005 rows x 2 columns]"
      ]
     },
     "execution_count": 77,
     "metadata": {},
     "output_type": "execute_result"
    }
   ],
   "source": [
    "protein=df1[ [\"CA-125_(U/ml)\",\"CA19-9_(U/ml)\"]]\n",
    "protein"
   ]
  },
  {
   "cell_type": "code",
   "execution_count": 78,
   "id": "b842e666",
   "metadata": {
    "scrolled": true
   },
   "outputs": [
    {
     "data": {
      "image/png": "[encoded data removed]",
      "text/plain": [
       "<Figure size 432x288 with 1 Axes>"
      ]
     },
     "metadata": {
      "needs_background": "light"
     },
     "output_type": "display_data"
    }
   ],
   "source": [
    "#barplot to view the mean concentration of each protein for the patients in the dataset\n",
    "\n",
    "A=dict(protein.mean())\n",
    "B=[]\n",
    "C=[]\n",
    "for key, value in A.items():\n",
    "    C.append(value)\n",
    "    B.append(key)\n",
    "plt.barh(B,C)\n",
    "for index, value in enumerate(C):\n",
    "    a=round(value, 2)\n",
    "    plt.text(a, index,\n",
    "             str(a),fontweight = 'bold')\n",
    "plt.show()"
   ]
  },
  {
   "cell_type": "code",
   "execution_count": 85,
   "id": "480f5e8a",
   "metadata": {
    "scrolled": true
   },
   "outputs": [
    {
     "data": {
      "image/png": "[encoded data removed]",
      "text/plain": [
       "<Figure size 720x720 with 20 Axes>"
      ]
     },
     "metadata": {
      "needs_background": "light"
     },
     "output_type": "display_data"
    }
   ],
   "source": [
    "#pairplot to view the correlation of the four protein used using seaborn\n",
    "protein=df1[[\"CA-125_(U/ml)\",\"CA19-9_(U/ml)\",\"AFP_(pg/ml)\",\"CEA_(pg/ml)\"]]\n",
    "seaborn.pairplot(protein)\n",
    "plt.show()"
   ]
  },
  {
   "cell_type": "code",
   "execution_count": 30,
   "id": "e971ebd0",
   "metadata": {},
   "outputs": [
    {
     "data": {
      "text/plain": [
       "(31, 11)"
      ]
     },
     "execution_count": 30,
     "metadata": {},
     "output_type": "execute_result"
    }
   ],
   "source": [
    "#in a new data frame add the afp protien where patients have concentration higher than the threshold limit\n",
    "df2=df1[df1['AFP_(pg/ml)'] >= 21321]\n",
    "df2.shape"
   ]
  },
  {
   "cell_type": "code",
   "execution_count": 31,
   "id": "a3716e97",
   "metadata": {},
   "outputs": [
    {
     "data": {
      "text/plain": [
       "(12, 11)"
      ]
     },
     "execution_count": 31,
     "metadata": {},
     "output_type": "execute_result"
    }
   ],
   "source": [
    "#in a new data frame add the ca125 protien where patients have concentration higher than the threshold limit\n",
    "\n",
    "df3=df1[df1['CA-125_(U/ml)'] >= 577]\n",
    "df3.shape"
   ]
  },
  {
   "cell_type": "code",
   "execution_count": 32,
   "id": "3fe229d4",
   "metadata": {},
   "outputs": [
    {
     "data": {
      "text/plain": [
       "(94, 11)"
      ]
     },
     "execution_count": 32,
     "metadata": {},
     "output_type": "execute_result"
    }
   ],
   "source": [
    "#in a new data frame add the ca19-9 protien where patients have concentration higher than the threshold limit\n",
    "\n",
    "df5=df1[df1['CA19-9_(U/ml)'] >= 92]\n",
    "df5.shape"
   ]
  },
  {
   "cell_type": "code",
   "execution_count": 33,
   "id": "b794e7fa",
   "metadata": {},
   "outputs": [
    {
     "data": {
      "text/plain": [
       "(98, 11)"
      ]
     },
     "execution_count": 33,
     "metadata": {},
     "output_type": "execute_result"
    }
   ],
   "source": [
    "#in a new data frame add the cea protien where patients have concentration higher than the threshold limit\n",
    "\n",
    "df6=df1[df1['CEA_(pg/ml)'] >= 7507]\n",
    "df6.shape"
   ]
  },
  {
   "cell_type": "code",
   "execution_count": 34,
   "id": "acefd6e2",
   "metadata": {},
   "outputs": [
    {
     "data": {
      "text/plain": [
       "Colorectum    388\n",
       "Breast        209\n",
       "Lung          104\n",
       "Pancreas       93\n",
       "Stomach        68\n",
       "Ovary          54\n",
       "Esophagus      45\n",
       "Liver          44\n",
       "Name: Tumor_type, dtype: int64"
      ]
     },
     "execution_count": 34,
     "metadata": {},
     "output_type": "execute_result"
    }
   ],
   "source": [
    "#view the total count of \n",
    "df1['Tumor_type'].value_counts()"
   ]
  },
  {
   "cell_type": "markdown",
   "id": "73d0cdce",
   "metadata": {},
   "source": [
    "# AFP"
   ]
  },
  {
   "cell_type": "code",
   "execution_count": 42,
   "id": "d0485db6",
   "metadata": {},
   "outputs": [
    {
     "name": "stdout",
     "output_type": "stream",
     "text": [
      "0.6\n",
      "{'Stomach': 3, 'Liver': 7}\n"
     ]
    }
   ],
   "source": [
    "# splitting the data as test and train with size of 70-30 to train\n",
    "x3= df2.iloc[:,1].values  \n",
    "y3= df2.iloc[:,0].values\n",
    "\n",
    "x3_train, x3_test, y3_train, y3_test= train_test_split(x3, y3, test_size= 0.3, random_state=0)\n",
    "\n",
    "#feature scaling the data\n",
    "st_x3= StandardScaler()  \n",
    "x3_train= st_x3.fit_transform(x3_train.reshape(-1, 1))  \n",
    "x3_test= st_x3.transform(x3_test.reshape(-1, 1))\n",
    "\n",
    "#Building Decision tree model to predict the tumour type\n",
    "classifier3= DecisionTreeClassifier(criterion='entropy', random_state=0)  \n",
    "classifier3.fit(x3_train, y3_train)\n",
    "\n",
    "\n",
    "y3_pred= classifier3.predict(x3_test) \n",
    "\n",
    "#Finding the accuarcy of the model\n",
    "print(metrics.accuracy_score(y3_test, y3_pred))\n",
    "dec = metrics.accuracy_score(y3_test, y3_pred)\n",
    "dot_data = StringIO()\n",
    "\n",
    "\n",
    "a = dict(Counter(y3_pred))\n",
    "print(a)"
   ]
  },
  {
   "cell_type": "code",
   "execution_count": 43,
   "id": "41bc2590",
   "metadata": {},
   "outputs": [
    {
     "name": "stdout",
     "output_type": "stream",
     "text": [
      "0.7\n",
      "{'Liver': 9, 'Stomach': 1}\n"
     ]
    }
   ],
   "source": [
    "# splitting the data as test and train with size of 70-30 to train\n",
    "x3= df2.iloc[:,1].values  \n",
    "y3= df2.iloc[:,0].values\n",
    "\n",
    "x3_train, x3_test, y3_train, y3_test= train_test_split(x3, y3, test_size= 0.3, random_state=0)\n",
    "\n",
    "#feature scaling the data\n",
    "st_x3= StandardScaler()  \n",
    "x3_train= st_x3.fit_transform(x3_train.reshape(-1, 1))  \n",
    "x3_test= st_x3.transform(x3_test.reshape(-1, 1))\n",
    "\n",
    "#Building Knn model to predict the tumour type\n",
    "classifier3= KNeighborsClassifier(n_neighbors=7)\n",
    "classifier3.fit(x3_train, y3_train)\n",
    "\n",
    "y3_pred= classifier3.predict(x3_test) \n",
    "\n",
    "#Finding the accuarcy of the model\n",
    "print(metrics.accuracy_score(y3_test, y3_pred))\n",
    "knn = metrics.accuracy_score(y3_test, y3_pred)\n",
    "a = dict(Counter(y3_pred))\n",
    "print(a)"
   ]
  },
  {
   "cell_type": "markdown",
   "id": "f7190a95",
   "metadata": {},
   "source": [
    "# ca-125"
   ]
  },
  {
   "cell_type": "code",
   "execution_count": 62,
   "id": "2561937d",
   "metadata": {},
   "outputs": [
    {
     "name": "stdout",
     "output_type": "stream",
     "text": [
      "0.75\n",
      "{'Ovary': 3, 'Liver': 1}\n"
     ]
    }
   ],
   "source": [
    "# splitting the data as test and train with size of 70-30 to train\n",
    "x3= df3.iloc[:,2].values  \n",
    "y3= df3.iloc[:,0].values\n",
    "\n",
    "x3_train, x3_test, y3_train, y3_test= train_test_split(x3, y3, test_size= 0.3, random_state=0)\n",
    "\n",
    "#feature scaling the data\n",
    "st_x3= StandardScaler()  \n",
    "x3_train= st_x3.fit_transform(x3_train.reshape(-1, 1))  \n",
    "x3_test= st_x3.transform(x3_test.reshape(-1, 1))\n",
    "\n",
    "#Building Decision tree model to predict the tumour type\n",
    "classifier3= DecisionTreeClassifier(criterion='entropy', random_state=0)  \n",
    "classifier3.fit(x3_train, y3_train)\n",
    "\n",
    "\n",
    "y3_pred= classifier3.predict(x3_test) \n",
    "\n",
    "#Finding the accuarcy of the model\n",
    "print(metrics.accuracy_score(y3_test, y3_pred))\n",
    "dec1 = metrics.accuracy_score(y3_test, y3_pred)\n",
    "dot_data = StringIO()\n",
    "export_graphviz(classifier3, out_file=dot_data,  \n",
    "                filled=True, rounded=True,\n",
    "                special_characters=True)\n",
    "\n",
    "graph2 = pydotplus.graph_from_dot_data(dot_data.getvalue())\n",
    "graph2.write_png(\"ca-125.png\")\n",
    "\n",
    "a = dict(Counter(y3_pred))\n",
    "print(a)"
   ]
  },
  {
   "cell_type": "markdown",
   "id": "3b2ffdab",
   "metadata": {},
   "source": [
    "# ca19-9"
   ]
  },
  {
   "cell_type": "code",
   "execution_count": 63,
   "id": "a7e84d57",
   "metadata": {},
   "outputs": [
    {
     "name": "stdout",
     "output_type": "stream",
     "text": [
      "0.3103448275862069\n",
      "{'Liver': 1, 'Pancreas': 11, 'Colorectum': 8, 'Stomach': 4, 'Breast': 3, 'Lung': 1, 'Esophagus': 1}\n"
     ]
    }
   ],
   "source": [
    "# splitting the data as test and train with size of 70-30 to train\n",
    "x3= df5.iloc[:,4].values  \n",
    "y3= df5.iloc[:,0].values\n",
    "\n",
    "x3_train, x3_test, y3_train, y3_test= train_test_split(x3, y3, test_size= 0.3, random_state=0)\n",
    "\n",
    "#feature scaling the data\n",
    "st_x3= StandardScaler()  \n",
    "x3_train= st_x3.fit_transform(x3_train.reshape(-1, 1))  \n",
    "x3_test= st_x3.transform(x3_test.reshape(-1, 1))\n",
    "\n",
    "#Building Decision tree model to predict the tumour type\n",
    "classifier3= DecisionTreeClassifier(criterion='entropy', random_state=0)  \n",
    "classifier3.fit(x3_train, y3_train)\n",
    "\n",
    "\n",
    "y3_pred= classifier3.predict(x3_test) \n",
    "\n",
    "#Finding the accuarcy of the model\n",
    "print(metrics.accuracy_score(y3_test, y3_pred))\n",
    "dec2 = metrics.accuracy_score(y3_test, y3_pred)\n",
    "dot_data = StringIO()\n",
    "\n",
    "a = dict(Counter(y3_pred))\n",
    "print(a)"
   ]
  },
  {
   "cell_type": "markdown",
   "id": "9f71f305",
   "metadata": {},
   "source": [
    "# Pancreas"
   ]
  },
  {
   "cell_type": "code",
   "execution_count": 64,
   "id": "dc59643f",
   "metadata": {},
   "outputs": [
    {
     "name": "stdout",
     "output_type": "stream",
     "text": [
      "0.5\n",
      "{'Colorectum': 15, 'Pancreas': 23}\n"
     ]
    }
   ],
   "source": [
    "# splitting the data as test and train with size of 70-30 to train\n",
    "x3= df5.iloc[:,4].values  \n",
    "y3= df5.iloc[:,0].values\n",
    "\n",
    "x3_train, x3_test, y3_train, y3_test= train_test_split(x3, y3, test_size= 0.4, random_state=0)\n",
    "\n",
    "#feature scaling the data\n",
    "st_x3= StandardScaler()  \n",
    "x3_train= st_x3.fit_transform(x3_train.reshape(-1, 1))  \n",
    "x3_test= st_x3.transform(x3_test.reshape(-1, 1))\n",
    "\n",
    "#Building Knn model to predict the tumour type\n",
    "classifier3= KNeighborsClassifier(n_neighbors=7)\n",
    "classifier3.fit(x3_train, y3_train)\n",
    "\n",
    "#Finding the accuarcy of the model\n",
    "y3_pred= classifier3.predict(x3_test) \n",
    "\n",
    "print(metrics.accuracy_score(y3_test, y3_pred))\n",
    "knn2 = metrics.accuracy_score(y3_test, y3_pred)\n",
    "a = dict(Counter(y3_pred))\n",
    "print(a)"
   ]
  },
  {
   "cell_type": "markdown",
   "id": "bcd5446b",
   "metadata": {},
   "source": [
    "# CEA"
   ]
  },
  {
   "cell_type": "code",
   "execution_count": 65,
   "id": "a62ddaf4",
   "metadata": {},
   "outputs": [
    {
     "name": "stdout",
     "output_type": "stream",
     "text": [
      "0.4\n",
      "{'Colorectum': 8, 'Stomach': 1, 'Breast': 2, 'Lung': 3, 'Liver': 2, 'Pancreas': 3, 'Esophagus': 1}\n"
     ]
    }
   ],
   "source": [
    "# splitting the data as test and train with size of 70-30 to train\n",
    "x3= df6.iloc[:,5].values  \n",
    "y3= df6.iloc[:,0].values\n",
    "\n",
    "x3_train, x3_test, y3_train, y3_test= train_test_split(x3, y3, test_size= 0.2, random_state=0)\n",
    "\n",
    "#feature scaling the data\n",
    "st_x3= StandardScaler()  \n",
    "x3_train= st_x3.fit_transform(x3_train.reshape(-1, 1))  \n",
    "x3_test= st_x3.transform(x3_test.reshape(-1, 1))\n",
    "\n",
    "#Building Decision tree model to predict the tumour type\n",
    "classifier3= DecisionTreeClassifier(criterion='entropy', random_state=0)  \n",
    "classifier3.fit(x3_train, y3_train)\n",
    "\n",
    "\n",
    "y3_pred= classifier3.predict(x3_test) \n",
    "\n",
    "#Finding the accuarcy of the model\n",
    "print(metrics.accuracy_score(y3_test, y3_pred))\n",
    "dec3 = metrics.accuracy_score(y3_test, y3_pred)\n",
    "dot_data = StringIO()\n",
    "\n",
    "\n",
    "a = dict(Counter(y3_pred))\n",
    "print(a)"
   ]
  },
  {
   "cell_type": "markdown",
   "id": "0183e26b",
   "metadata": {},
   "source": [
    "# Colorectum"
   ]
  },
  {
   "cell_type": "code",
   "execution_count": 66,
   "id": "75e47093",
   "metadata": {},
   "outputs": [
    {
     "name": "stdout",
     "output_type": "stream",
     "text": [
      "0.55\n",
      "{'Colorectum': 19, 'Lung': 1}\n"
     ]
    }
   ],
   "source": [
    "# splitting the data as test and train with size of 70-30 to train\n",
    "x3= df6.iloc[:,5].values  \n",
    "y3= df6.iloc[:,0].values\n",
    "\n",
    "x3_train, x3_test, y3_train, y3_test= train_test_split(x3, y3, test_size= 0.2, random_state=0)\n",
    "\n",
    "#feature scaling the data\n",
    "st_x3= StandardScaler()  \n",
    "x3_train= st_x3.fit_transform(x3_train.reshape(-1, 1))  \n",
    "x3_test= st_x3.transform(x3_test.reshape(-1, 1))\n",
    "\n",
    "#Building Knn model to predict the tumour type\n",
    "classifier3= KNeighborsClassifier(n_neighbors=7)\n",
    "classifier3.fit(x3_train, y3_train)\n",
    "\n",
    "y3_pred= classifier3.predict(x3_test) \n",
    "\n",
    "#Finding the accuarcy of the model\n",
    "print(metrics.accuracy_score(y3_test, y3_pred))\n",
    "knn3 = metrics.accuracy_score(y3_test, y3_pred)\n",
    "a = dict(Counter(y3_pred))\n",
    "print(a)"
   ]
  },
  {
   "cell_type": "code",
   "execution_count": 67,
   "id": "106c2cdf",
   "metadata": {},
   "outputs": [
    {
     "data": {
      "image/png": "[encoded data removed]",
      "text/plain": [
       "<Figure size 432x288 with 1 Axes>"
      ]
     },
     "metadata": {
      "needs_background": "light"
     },
     "output_type": "display_data"
    }
   ],
   "source": [
    "#comapring the accracy of decision tree and knn model for all 4 proteins\n",
    "import numpy as np\n",
    "import matplotlib.pyplot as plt\n",
    "\n",
    "X = ['AFP','CA125','CA19-9','CEA']\n",
    "dec = [dec,dec1,dec2,dec3]\n",
    "knn = [knn,0,knn2,knn3]\n",
    "\n",
    "X_axis = np.arange(len(X))\n",
    "\n",
    "plt.bar(X_axis - 0.2, dec, 0.4, label = 'Decision Tree')\n",
    "plt.bar(X_axis + 0.2, knn, 0.4, label = 'KNN')\n",
    "\n",
    "plt.xticks(X_axis, X)\n",
    "plt.xlabel(\"Protein\")\n",
    "plt.ylabel(\"Model accuarcy rate\")\n",
    "plt.title(\"Comapring decision tree and knn model accuracy\")\n",
    "plt.legend()\n",
    "plt.show()\n"
   ]
  },
  {
   "cell_type": "code",
   "execution_count": null,
   "id": "c7364117",
   "metadata": {},
   "outputs": [],
   "source": []
  }
 ],
 "metadata": {
  "kernelspec": {
   "display_name": "Python 3 (ipykernel)",
   "language": "python",
   "name": "python3"
  },
  "language_info": {
   "codemirror_mode": {
    "name": "ipython",
    "version": 3
   },
   "file_extension": ".py",
   "mimetype": "text/x-python",
   "name": "python",
   "nbconvert_exporter": "python",
   "pygments_lexer": "ipython3",
   "version": "3.8.12"
  }
 },
 "nbformat": 4,
 "nbformat_minor": 5
}
