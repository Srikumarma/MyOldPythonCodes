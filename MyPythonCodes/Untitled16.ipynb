{
 "cells": [
  {
   "cell_type": "markdown",
   "metadata": {},
   "source": [
    "“Object Oriented Programming Challenge” - For this challenge, create a bank account\n",
    "class that has\n",
    "Two attributes: owner, balance and\n",
    "Two methods: deposit, withdraw\n",
    "In addition, withdrawals may not exceed the available balance. Instantiate your class,\n",
    "make several deposits and withdrawals, and test to make sure the account can't be\n",
    "overdrawn.\n",
    "Conditions to follow:\n",
    "class Account:\n",
    "‘’’Write your code here’’’\n",
    " 1. Instantiate the class\n",
    "acct1 = Account('Jose',100)\n",
    "2. Print the object\n",
    "\n",
    "[6] CO4 [K4]\n",
    "\n",
    "PAGE 2 OF 2\n",
    "\n",
    "print(acct1)\n",
    "3. Show the account owner attribute\n",
    "acct1.owner\n",
    " 4. Show the account balance attribute\n",
    "acct1.balance\n",
    " 5. Make a series of deposits and withdrawals\n",
    "acct1.deposit(50)\n",
    "acct1.withdraw(75)\n",
    " 6. Make a withdrawal that exceeds the available balance\n",
    "acct1.withdraw(500)"
   ]
  },
  {
   "cell_type": "code",
   "execution_count": 3,
   "metadata": {},
   "outputs": [
    {
     "name": "stdout",
     "output_type": "stream",
     "text": [
      "418.8.74.126\n"
     ]
    }
   ],
   "source": [
    "import re\n",
    "IP=\"418.08.074.126\"\n",
    "c=re.sub('[0]*','',IP)\n",
    "print(c)\n"
   ]
  },
  {
   "cell_type": "code",
   "execution_count": 4,
   "metadata": {},
   "outputs": [
    {
     "name": "stdout",
     "output_type": "stream",
     "text": [
      "['SRIHER', 'SRIHER', 'SRIHER']\n"
     ]
    }
   ],
   "source": [
    "import re\n",
    "a='Dental SRIHER, Medical SRIHER, Engineering SRIHER'\n",
    "b='SRIHER'\n",
    "c=re.findall(b,a)\n",
    "print(c)"
   ]
  },
  {
   "cell_type": "markdown",
   "metadata": {},
   "source": [
    "Write a python code to calculate the total bill amount in the format given below.\n",
    "\n",
    "Product-name1 quantity\n",
    "\n",
    "Product-name2 quantity\n",
    "\n",
    "Product-name3 quantity\n",
    "\n",
    "...\n",
    "\n",
    "...\n",
    "\n",
    "The possible products are pen, pencil, paper, and eraser whose prices are 20,\n",
    "\n",
    "10, 1 and\n",
    "\n",
    "5 respectively. . Use regex to build a scrapper and calculate the total amount \n",
    "\n",
    "of the bill."
   ]
  },
  {
   "cell_type": "code",
   "execution_count": 21,
   "metadata": {},
   "outputs": [
    {
     "name": "stdout",
     "output_type": "stream",
     "text": [
      "0\n"
     ]
    }
   ],
   "source": [
    "import re\n",
    "products='''Pen-2\n",
    "pencil-2\n",
    "paper-2\n",
    "eraser-2\n",
    "'''\n",
    "a=re.findall('pen\\w\\d',products)\n",
    "b=re.findall('pencil\\w\\d',products)\n",
    "c=re.findall('paper\\w\\d',products)\n",
    "d=re.findall('eraser\\w\\d',products)\n",
    "p=0\n",
    "for i in a:\n",
    "    k=re.findall('\\d',i)\n",
    "    for j in k:\n",
    "        p=p+int(j)*20\n",
    "for i in b:\n",
    "    k=re.findall('\\d',i)\n",
    "    for j in k:\n",
    "        p=p+int(j)*10\n",
    "for i in c:\n",
    "    k=re.findall('\\d',i)\n",
    "    for j in k:\n",
    "        p=p+int(j)*1\n",
    "for i in d:\n",
    "    k=re.findall('\\d',i)\n",
    "    for j in k:\n",
    "        p=p+int(j)*5\n",
    "print(p)"
   ]
  },
  {
   "cell_type": "markdown",
   "metadata": {},
   "source": [
    "Write a one line regex pattern to extract the emails of users who are using educational\n",
    "domains such as “edu.in or ac.in”"
   ]
  },
  {
   "cell_type": "code",
   "execution_count": 28,
   "metadata": {},
   "outputs": [
    {
     "name": "stdout",
     "output_type": "stream",
     "text": [
      "['S', 'R', 'E', 'T']\n",
      "['edu.in']\n"
     ]
    }
   ],
   "source": [
    "import re \n",
    "a='SRET.edu.in'\n",
    "b='[^edu.in|ac.in]'\n",
    "d='edu.in|ac.in'\n",
    "c=re.findall(b,a)\n",
    "e=re.findall(d,a)\n",
    "print(c)\n",
    "print(e)"
   ]
  },
  {
   "cell_type": "code",
   "execution_count": null,
   "metadata": {},
   "outputs": [],
   "source": []
  }
 ],
 "metadata": {
  "kernelspec": {
   "display_name": "Python 3",
   "language": "python",
   "name": "python3"
  },
  "language_info": {
   "codemirror_mode": {
    "name": "ipython",
    "version": 3
   },
   "file_extension": ".py",
   "mimetype": "text/x-python",
   "name": "python",
   "nbconvert_exporter": "python",
   "pygments_lexer": "ipython3",
   "version": "3.8.3"
  }
 },
 "nbformat": 4,
 "nbformat_minor": 4
}
