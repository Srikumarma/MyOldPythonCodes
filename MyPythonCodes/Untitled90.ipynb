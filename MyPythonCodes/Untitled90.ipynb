{
 "cells": [
  {
   "cell_type": "code",
   "execution_count": 9,
   "metadata": {},
   "outputs": [
    {
     "name": "stdout",
     "output_type": "stream",
     "text": [
      "Amount to be Withdrawn: 30\n",
      "Balance amount in the account(end it with 2 decimal)10.00\n",
      "You do not have the required balance to process this transaction\n"
     ]
    }
   ],
   "source": [
    "withdraw = int(input('Amount to be Withdrawn: '))\n",
    "balance = float(input('Balance amount in the account(end it with 2 decimal)'))\n",
    "total=balance-withdraw-0.50\n",
    "if balance > withdraw:\n",
    "    print('Money can be withdrawn')\n",
    "    print('Money Withdrawn: ',total)\n",
    "else:\n",
    "    print('You do not have the required balance to process this transaction')"
   ]
  },
  {
   "cell_type": "code",
   "execution_count": 11,
   "metadata": {},
   "outputs": [
    {
     "name": "stdout",
     "output_type": "stream",
     "text": [
      "Amount to be withdrwan30\n",
      "Balance amount in the account120.00\n",
      "Money Withdrawn:  89.5\n"
     ]
    }
   ],
   "source": [
    "withdraw = int(input('Amount to be withdrwan'))\n",
    "balance = float(input('Balance amount in the account'))\n",
    "total=balance-withdraw-0.50\n",
    "if balance > withdraw:\n",
    "    print('Money Withdrawn: ',total)\n",
    "else:\n",
    "    print('You do not have the required balance to process this transaction')"
   ]
  },
  {
   "cell_type": "code",
   "execution_count": null,
   "metadata": {},
   "outputs": [],
   "source": []
  }
 ],
 "metadata": {
  "kernelspec": {
   "display_name": "Python 3",
   "language": "python",
   "name": "python3"
  },
  "language_info": {
   "codemirror_mode": {
    "name": "ipython",
    "version": 3
   },
   "file_extension": ".py",
   "mimetype": "text/x-python",
   "name": "python",
   "nbconvert_exporter": "python",
   "pygments_lexer": "ipython3",
   "version": "3.8.3"
  }
 },
 "nbformat": 4,
 "nbformat_minor": 4
}
