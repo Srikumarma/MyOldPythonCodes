{
 "cells": [
  {
   "cell_type": "code",
   "execution_count": 2,
   "metadata": {},
   "outputs": [],
   "source": [
    "import pandas as pd\n",
    "f3=pd.read_csv('D:\\C84\\Compute Report 0824.csv')\n",
    "f3.to_csv('D:\\C84\\Compute Report Feed.csv',index=False)"
   ]
  },
  {
   "cell_type": "code",
   "execution_count": 3,
   "metadata": {},
   "outputs": [],
   "source": [
    "f2=pd.read_csv('Compute Report 0928.csv')\n",
    "f4=[f3,f2]\n",
    "f1=pd.concat(f4)\n",
    "f1.to_csv('D:\\C84\\Compute Report Feed.csv',index=False)"
   ]
  },
  {
   "cell_type": "code",
   "execution_count": 4,
   "metadata": {},
   "outputs": [],
   "source": [
    "f=pd.read_csv('Compute Report 1012.csv')\n",
    "f4=[f3,f2,f]\n",
    "f1=pd.concat(f4)\n",
    "f.to_csv('D:\\C84\\Compute Report Feed.csv',index=False)"
   ]
  },
  {
   "cell_type": "code",
   "execution_count": null,
   "metadata": {},
   "outputs": [],
   "source": []
  }
 ],
 "metadata": {
  "kernelspec": {
   "display_name": "Python 3",
   "language": "python",
   "name": "python3"
  },
  "language_info": {
   "codemirror_mode": {
    "name": "ipython",
    "version": 3
   },
   "file_extension": ".py",
   "mimetype": "text/x-python",
   "name": "python",
   "nbconvert_exporter": "python",
   "pygments_lexer": "ipython3",
   "version": "3.8.3"
  }
 },
 "nbformat": 4,
 "nbformat_minor": 4
}
