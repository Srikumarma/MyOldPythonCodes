{
 "cells": [
  {
   "cell_type": "code",
   "execution_count": 18,
   "metadata": {},
   "outputs": [
    {
     "name": "stdout",
     "output_type": "stream",
     "text": [
      "x is 1\n",
      "y is    2.00\n"
     ]
    }
   ],
   "source": [
    "x=1\n",
    "y=2\n",
    "print('x is %d\\ny is %7.2f'%(x,y))"
   ]
  },
  {
   "cell_type": "code",
   "execution_count": 21,
   "metadata": {},
   "outputs": [
    {
     "name": "stdout",
     "output_type": "stream",
     "text": [
      "5.6\n",
      "5.6\n"
     ]
    },
    {
     "data": {
      "text/plain": [
       "str"
      ]
     },
     "execution_count": 21,
     "metadata": {},
     "output_type": "execute_result"
    }
   ],
   "source": [
    "c=input()\n",
    "print(c)\n",
    "type(c)"
   ]
  },
  {
   "cell_type": "code",
   "execution_count": 23,
   "metadata": {},
   "outputs": [
    {
     "name": "stdout",
     "output_type": "stream",
     "text": [
      "a is 4 and b is 2.0\n"
     ]
    }
   ],
   "source": [
    "a=2\n",
    "b=4.5\n",
    "print('a is %d and b is %2.1f' %(b,a))"
   ]
  },
  {
   "cell_type": "code",
   "execution_count": 35,
   "metadata": {},
   "outputs": [
    {
     "name": "stdout",
     "output_type": "stream",
     "text": [
      "Input string1:hello\n",
      "Input string 2:world\n",
      "No. of Vowels : 3\n",
      "No. of consonants: 7\n"
     ]
    }
   ],
   "source": [
    "#Take two string inputs and print all the vowels in a and consonents in b.\n",
    "#Ans.\n",
    "count_v=0\n",
    "count_c=0\n",
    "x=input('Input string1:')\n",
    "y=input('Input string 2:')\n",
    "for char in x:\n",
    "    if char =='a':\n",
    "        count_v=count_v+1\n",
    "    elif char=='e':\n",
    "        count_v=count_v+1\n",
    "    elif char=='i':\n",
    "        count_v=count_v+1\n",
    "    elif char=='o':\n",
    "        count_v=count_v+1\n",
    "    elif char=='u':\n",
    "        count_v=count_v+1\n",
    "    else:\n",
    "        count_c=count_c+1\n",
    "for char in y:\n",
    "    if char =='a':\n",
    "        count_v=count_v+1\n",
    "    elif char=='e':\n",
    "        count_v=count_v+1\n",
    "    elif char=='i':\n",
    "        count_v=count_v+1\n",
    "    elif char=='o':\n",
    "        count_v=count_v+1\n",
    "    elif char=='u':\n",
    "        count_v=count_v+1\n",
    "    else:\n",
    "        count_c=count_c+1\n",
    "print('No. of Vowels :',count_v)\n",
    "print('No. of consonants:',count_c)\n"
   ]
  },
  {
   "cell_type": "code",
   "execution_count": 50,
   "metadata": {},
   "outputs": [
    {
     "name": "stdout",
     "output_type": "stream",
     "text": [
      "{40, 10, 80, 50, 20, 60, 30}\n",
      "[10, 20, 30, 50, 60, 40, 80]\n"
     ]
    }
   ],
   "source": [
    "a=[10,20,30,20,10,50,60,40,80,50,40]\n",
    "\n",
    "dup_items=set()\n",
    "unique_items=[]\n",
    "for x in a:\n",
    "    if x not in dup_items:\n",
    "        unique_items.append(x)\n",
    "        dup_items.add(x)\n",
    "        \n",
    "print(dup_items)\n",
    "print(unique_items)"
   ]
  },
  {
   "cell_type": "code",
   "execution_count": null,
   "metadata": {},
   "outputs": [],
   "source": []
  }
 ],
 "metadata": {
  "kernelspec": {
   "display_name": "Python 3",
   "language": "python",
   "name": "python3"
  },
  "language_info": {
   "codemirror_mode": {
    "name": "ipython",
    "version": 3
   },
   "file_extension": ".py",
   "mimetype": "text/x-python",
   "name": "python",
   "nbconvert_exporter": "python",
   "pygments_lexer": "ipython3",
   "version": "3.8.3"
  }
 },
 "nbformat": 4,
 "nbformat_minor": 4
}
