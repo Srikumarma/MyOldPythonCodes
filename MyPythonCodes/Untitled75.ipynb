{
 "cells": [
  {
   "cell_type": "code",
   "execution_count": null,
   "metadata": {},
   "outputs": [
    {
     "data": {
      "text/html": [
       "<div id=\"glowscript\" class=\"glowscript\"></div>"
      ],
      "text/plain": [
       "<IPython.core.display.HTML object>"
      ]
     },
     "metadata": {},
     "output_type": "display_data"
    },
    {
     "data": {
      "application/javascript": [
       "if (typeof Jupyter !== \"undefined\") { window.__context = { glowscript_container: $(\"#glowscript\").removeAttr(\"id\")};}else{ element.textContent = ' ';}"
      ],
      "text/plain": [
       "<IPython.core.display.Javascript object>"
      ]
     },
     "metadata": {},
     "output_type": "display_data"
    },
    {
     "data": {
      "text/html": [
       "<div id=\"glowscript\" class=\"glowscript\"></div>"
      ],
      "text/plain": [
       "<IPython.core.display.HTML object>"
      ]
     },
     "metadata": {},
     "output_type": "display_data"
    },
    {
     "data": {
      "application/javascript": [
       "if (typeof Jupyter !== \"undefined\") { window.__context = { glowscript_container: $(\"#glowscript\").removeAttr(\"id\")};}else{ element.textContent = ' ';}"
      ],
      "text/plain": [
       "<IPython.core.display.Javascript object>"
      ]
     },
     "metadata": {},
     "output_type": "display_data"
    },
    {
     "data": {
      "application/javascript": [
       "if (typeof Jupyter !== \"undefined\") {require.undef(\"nbextensions/vpython_libraries/glow.min\");}else{element.textContent = ' ';}"
      ],
      "text/plain": [
       "<IPython.core.display.Javascript object>"
      ]
     },
     "metadata": {},
     "output_type": "display_data"
    },
    {
     "data": {
      "application/javascript": [
       "if (typeof Jupyter !== \"undefined\") {require.undef(\"nbextensions/vpython_libraries/glowcomm\");}else{element.textContent = ' ';}"
      ],
      "text/plain": [
       "<IPython.core.display.Javascript object>"
      ]
     },
     "metadata": {},
     "output_type": "display_data"
    },
    {
     "data": {
      "application/javascript": [
       "if (typeof Jupyter !== \"undefined\") {require.undef(\"nbextensions/vpython_libraries/jquery-ui.custom.min\");}else{element.textContent = ' ';}"
      ],
      "text/plain": [
       "<IPython.core.display.Javascript object>"
      ]
     },
     "metadata": {},
     "output_type": "display_data"
    },
    {
     "data": {
      "application/javascript": [
       "if (typeof Jupyter !== \"undefined\") {require([\"nbextensions/vpython_libraries/glow.min\"], function(){console.log(\"GLOW LOADED\");});}else{element.textContent = ' ';}"
      ],
      "text/plain": [
       "<IPython.core.display.Javascript object>"
      ]
     },
     "metadata": {},
     "output_type": "display_data"
    },
    {
     "data": {
      "application/javascript": [
       "if (typeof Jupyter !== \"undefined\") {require([\"nbextensions/vpython_libraries/glowcomm\"], function(){console.log(\"GLOWCOMM LOADED\");});}else{element.textContent = ' ';}"
      ],
      "text/plain": [
       "<IPython.core.display.Javascript object>"
      ]
     },
     "metadata": {},
     "output_type": "display_data"
    },
    {
     "data": {
      "application/javascript": [
       "if (typeof Jupyter !== \"undefined\") {require([\"nbextensions/vpython_libraries/jquery-ui.custom.min\"], function(){console.log(\"JQUERY LOADED\");});}else{element.textContent = ' ';}"
      ],
      "text/plain": [
       "<IPython.core.display.Javascript object>"
      ]
     },
     "metadata": {},
     "output_type": "display_data"
    }
   ],
   "source": [
    "import vpython as vp \n",
    "\n",
    "# Torsional pendulum snake \n",
    "\n",
    "class TorsionalPendulum:\n",
    "    '''\n",
    "    For computing rotational pendulum motion of individual rod, with particular \n",
    "    mass, length, location on y-axis, and starting angle.\n",
    "    '''\n",
    "    def __init__(self, mass, length, y_location, init_theta):\n",
    "        ''' Create object '''\n",
    "        self.mass = mass\n",
    "        self.length = length \n",
    "        self.y_location = y_location \n",
    "\n",
    "        # Moment of inertia \n",
    "        self.inertia = 1/12. * self.mass * self.length**2\n",
    "        # Initialize angular position theta \n",
    "        self.theta = init_theta * vp.pi/180  # convert to radians \n",
    "        # Initialize angular velocity omega \n",
    "        self.omega = init_omega \n",
    "\n",
    "        # Initialize vpython objects \n",
    "        self.rod = vp.cylinder(pos=vp.vector(self.length/2.*vp.cos(self.theta),self.y_location,-self.length/2.*vp.sin(self.theta)),\n",
    "                               axis=vp.vector(-self.length*vp.cos(self.theta),0,self.length*vp.sin(self.theta)),\n",
    "                               radius=.25,color=vp.color.red)\n",
    "        self.string = vp.cylinder(pos=vp.vector(0,-10,0),axis=vp.vector(0,y_step*num_rods+10.,0),radius=.1,color=vp.color.white)\n",
    "        \n",
    "    def motion(self, dt):\n",
    "        ''' Rotate rod in SHM '''\n",
    "        self.dt = dt \n",
    "        \n",
    "        # Update position, omega and alpha\n",
    "        self.theta += self.omega*dt\n",
    "        self.alpha = - kappa / self.inertia * self.theta\n",
    "        self.omega += self.alpha*dt\n",
    "        \n",
    "        # Update rod position and axis \n",
    "        self.rod.pos = vp.vector(self.length/2.*vp.cos(self.theta),self.y_location,-self.length/2.*vp.sin(self.theta))\n",
    "        self.rod.axis = vp.vector(-self.length*vp.cos(self.theta),0,self.length*vp.sin(self.theta))\n",
    "        \n",
    "\n",
    "''' Input parameters '''\n",
    "\n",
    "kappa = 8.     \n",
    "init_theta = 30. # cannot be 0 \n",
    "init_omega = 0.\n",
    "\n",
    "num_rods = 200\n",
    "rod_mass = .2\n",
    "min_length = 60. \n",
    "max_length = 70.\n",
    "\n",
    "y_step = 1.5\n",
    "theta_step = 0.1 \n",
    "\n",
    "\n",
    "''' Set up scene '''\n",
    "\n",
    "scene = vp.canvas(title='Torsional Pendulum',width=1000,height=700,center=vp.vector(y_step*num_rods/2.,0,0))\n",
    "#scene.camera.pos = vp.vector(0,y_step*num_rods/2.,5.)\n",
    "scene.camera.pos = vp.vector(70,-100,20)\n",
    "scene.camera.axis = vp.vector(-50,100,-20)\n",
    "\n",
    "\n",
    "''' Create rods '''\n",
    "\n",
    "def compute_length(y_location):\n",
    "    # Generate length of ith-rod at y_location, forming a parabolic shape\n",
    "    # with limits (0,y_step*num_rods), (min_length, max_length)\n",
    "    y0 = y_step * num_rods  # total length \n",
    "    a = (max_length - min_length) / (1/4*y0**2)\n",
    "    b = -a*y0\n",
    "    c = max_length\n",
    "    length = a*y_location**2 + b*y_location + c\n",
    "    return length \n",
    "\n",
    "rod_list = []\n",
    "y_location = 0.\n",
    "\n",
    "for i in range(num_rods):\n",
    "    y_location += y_step\n",
    "    length = compute_length(y_location)\n",
    "    init_theta += theta_step\n",
    "    rod = TorsionalPendulum(rod_mass, length, y_location, init_theta)\n",
    "    rod_list.append(rod)\n",
    "    \n",
    "\n",
    "''' Animation '''\n",
    "\n",
    "dt = 0.01\n",
    "\n",
    "while True:\n",
    "    vp.rate(5000000000)\n",
    "    for rod in rod_list:\n",
    "        rod.motion(dt)"
   ]
  },
  {
   "cell_type": "code",
   "execution_count": null,
   "metadata": {},
   "outputs": [],
   "source": []
  },
  {
   "cell_type": "code",
   "execution_count": null,
   "metadata": {},
   "outputs": [],
   "source": []
  }
 ],
 "metadata": {
  "kernelspec": {
   "display_name": "Python 3",
   "language": "python",
   "name": "python3"
  },
  "language_info": {
   "codemirror_mode": {
    "name": "ipython",
    "version": 3
   },
   "file_extension": ".py",
   "mimetype": "text/x-python",
   "name": "python",
   "nbconvert_exporter": "python",
   "pygments_lexer": "ipython3",
   "version": "3.8.3"
  }
 },
 "nbformat": 4,
 "nbformat_minor": 4
}
