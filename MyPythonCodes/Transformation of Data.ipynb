{
 "cells": [
  {
   "cell_type": "code",
   "execution_count": 4,
   "id": "7a47a5c1",
   "metadata": {},
   "outputs": [
    {
     "data": {
      "text/html": [
       "<table>\n",
       "<thead><tr><th scope=col>Package</th><th scope=col>LibPath</th><th scope=col>Version</th><th scope=col>Priority</th><th scope=col>Depends</th><th scope=col>Imports</th><th scope=col>LinkingTo</th><th scope=col>Suggests</th><th scope=col>Enhances</th><th scope=col>License</th><th scope=col>License_is_FOSS</th><th scope=col>License_restricts_use</th><th scope=col>OS_type</th><th scope=col>Archs</th><th scope=col>MD5sum</th><th scope=col>NeedsCompilation</th><th scope=col>Built</th></tr></thead>\n",
       "<tbody>\n",
       "</tbody>\n",
       "</table>\n"
      ],
      "text/latex": [
       "\\begin{tabular}{lllllllllllllllll}\n",
       " Package & LibPath & Version & Priority & Depends & Imports & LinkingTo & Suggests & Enhances & License & License\\_is\\_FOSS & License\\_restricts\\_use & OS\\_type & Archs & MD5sum & NeedsCompilation & Built\\\\\n",
       "\\hline\n",
       "\\end{tabular}\n"
      ],
      "text/markdown": [
       "\n",
       "| Package | LibPath | Version | Priority | Depends | Imports | LinkingTo | Suggests | Enhances | License | License_is_FOSS | License_restricts_use | OS_type | Archs | MD5sum | NeedsCompilation | Built |\n",
       "|---|---|---|---|---|---|---|---|---|---|---|---|---|---|---|---|---|\n",
       "\n"
      ],
      "text/plain": [
       "     Package LibPath Version Priority Depends Imports LinkingTo Suggests\n",
       "     Enhances License License_is_FOSS License_restricts_use OS_type Archs\n",
       "     MD5sum NeedsCompilation Built"
      ]
     },
     "metadata": {},
     "output_type": "display_data"
    },
    {
     "name": "stderr",
     "output_type": "stream",
     "text": [
      "Warning message:\n",
      "\"package 'dplyr' was built under R version 3.6.3\"\n",
      "Attaching package: 'dplyr'\n",
      "\n",
      "The following objects are masked from 'package:stats':\n",
      "\n",
      "    filter, lag\n",
      "\n",
      "The following objects are masked from 'package:base':\n",
      "\n",
      "    intersect, setdiff, setequal, union\n",
      "\n"
     ]
    }
   ],
   "source": [
    "installed.packages(\"tidyr\")"
   ]
  },
  {
   "cell_type": "code",
   "execution_count": 2,
   "id": "9d354b7f",
   "metadata": {},
   "outputs": [
    {
     "name": "stderr",
     "output_type": "stream",
     "text": [
      "Warning message:\n",
      "\"package 'tidyr' was built under R version 3.6.3\"Warning message:\n",
      "\"package 'dplyr' was built under R version 3.6.3\"\n",
      "Attaching package: 'dplyr'\n",
      "\n",
      "The following objects are masked from 'package:stats':\n",
      "\n",
      "    filter, lag\n",
      "\n",
      "The following objects are masked from 'package:base':\n",
      "\n",
      "    intersect, setdiff, setequal, union\n",
      "\n"
     ]
    },
    {
     "name": "stdout",
     "output_type": "stream",
     "text": [
      "  country q1_2017 q2_2017 q3_2017 q4_2017\n",
      "1       A    0.03    0.05    0.04    0.03\n",
      "2       B    0.05    0.07    0.05    0.02\n",
      "3       C    0.01    0.02    0.01    0.04\n"
     ]
    }
   ],
   "source": [
    "library(tidyr)\n",
    "library(dplyr)\n",
    "messy<-data.frame(country=c(\"A\",\"B\",\"C\"),\n",
    "                  q1_2017=c(0.03,0.05,0.01),\n",
    "                  q2_2017=c(0.05,0.07,0.02),\n",
    "                  q3_2017=c(0.04,0.05,0.01),\n",
    "                  q4_2017=c(0.03,0.02,0.04))\n",
    "print(messy)"
   ]
  },
  {
   "cell_type": "code",
   "execution_count": 4,
   "id": "616ec50b",
   "metadata": {},
   "outputs": [
    {
     "name": "stdout",
     "output_type": "stream",
     "text": [
      "   country quarter growth\n",
      "1        A q1_2017   0.03\n",
      "2        B q1_2017   0.05\n",
      "3        C q1_2017   0.01\n",
      "4        A q2_2017   0.05\n",
      "5        B q2_2017   0.07\n",
      "6        C q2_2017   0.02\n",
      "7        A q3_2017   0.04\n",
      "8        B q3_2017   0.05\n",
      "9        C q3_2017   0.01\n",
      "10       A q4_2017   0.03\n",
      "11       B q4_2017   0.02\n",
      "12       C q4_2017   0.04\n"
     ]
    }
   ],
   "source": [
    "tidier=messy %>% gather(quarter,growth,q1_2017:q4_2017)\n",
    "print(tidier)"
   ]
  },
  {
   "cell_type": "code",
   "execution_count": 8,
   "id": "b93850f0",
   "metadata": {},
   "outputs": [
    {
     "name": "stdout",
     "output_type": "stream",
     "text": [
      "  country q1_2017 q2_2017 q3_2017 q4_2017\n",
      "1       A    0.03    0.05    0.04    0.03\n",
      "2       B    0.05    0.07    0.05    0.02\n",
      "3       C    0.01    0.02    0.01    0.04\n"
     ]
    }
   ],
   "source": [
    "messy1=tidier%>% spread(quarter,growth)\n",
    "print(messy1)"
   ]
  },
  {
   "cell_type": "code",
   "execution_count": 14,
   "id": "b3cb8434",
   "metadata": {},
   "outputs": [
    {
     "data": {
      "text/html": [
       "<table>\n",
       "<thead><tr><th scope=col>country</th><th scope=col>qrt</th><th scope=col>year</th><th scope=col>growth</th></tr></thead>\n",
       "<tbody>\n",
       "\t<tr><td>A   </td><td>q1  </td><td>2017</td><td>0.03</td></tr>\n",
       "\t<tr><td>B   </td><td>q1  </td><td>2017</td><td>0.05</td></tr>\n",
       "\t<tr><td>C   </td><td>q1  </td><td>2017</td><td>0.01</td></tr>\n",
       "\t<tr><td>A   </td><td>q2  </td><td>2017</td><td>0.05</td></tr>\n",
       "\t<tr><td>B   </td><td>q2  </td><td>2017</td><td>0.07</td></tr>\n",
       "\t<tr><td>C   </td><td>q2  </td><td>2017</td><td>0.02</td></tr>\n",
       "</tbody>\n",
       "</table>\n"
      ],
      "text/latex": [
       "\\begin{tabular}{r|llll}\n",
       " country & qrt & year & growth\\\\\n",
       "\\hline\n",
       "\t A    & q1   & 2017 & 0.03\\\\\n",
       "\t B    & q1   & 2017 & 0.05\\\\\n",
       "\t C    & q1   & 2017 & 0.01\\\\\n",
       "\t A    & q2   & 2017 & 0.05\\\\\n",
       "\t B    & q2   & 2017 & 0.07\\\\\n",
       "\t C    & q2   & 2017 & 0.02\\\\\n",
       "\\end{tabular}\n"
      ],
      "text/markdown": [
       "\n",
       "| country | qrt | year | growth |\n",
       "|---|---|---|---|\n",
       "| A    | q1   | 2017 | 0.03 |\n",
       "| B    | q1   | 2017 | 0.05 |\n",
       "| C    | q1   | 2017 | 0.01 |\n",
       "| A    | q2   | 2017 | 0.05 |\n",
       "| B    | q2   | 2017 | 0.07 |\n",
       "| C    | q2   | 2017 | 0.02 |\n",
       "\n"
      ],
      "text/plain": [
       "  country qrt year growth\n",
       "1 A       q1  2017 0.03  \n",
       "2 B       q1  2017 0.05  \n",
       "3 C       q1  2017 0.01  \n",
       "4 A       q2  2017 0.05  \n",
       "5 B       q2  2017 0.07  \n",
       "6 C       q2  2017 0.02  "
      ]
     },
     "metadata": {},
     "output_type": "display_data"
    }
   ],
   "source": [
    "separate_tidier=tidier %>% separate(quarter,c(\"qrt\",\"year\"),sep=\"_\")\n",
    "head(separate_tidier)"
   ]
  },
  {
   "cell_type": "code",
   "execution_count": 16,
   "id": "1af3892d",
   "metadata": {},
   "outputs": [
    {
     "name": "stdout",
     "output_type": "stream",
     "text": [
      "   country Quarter growth\n",
      "1        A q1_2017   0.03\n",
      "2        B q1_2017   0.05\n",
      "3        C q1_2017   0.01\n",
      "4        A q2_2017   0.05\n",
      "5        B q2_2017   0.07\n",
      "6        C q2_2017   0.02\n",
      "7        A q3_2017   0.04\n",
      "8        B q3_2017   0.05\n",
      "9        C q3_2017   0.01\n",
      "10       A q4_2017   0.03\n",
      "11       B q4_2017   0.02\n",
      "12       C q4_2017   0.04\n"
     ]
    }
   ],
   "source": [
    "unit_tidier=separate_tidier %>% unite(Quarter,qrt,year,sep=\"_\")\n",
    "print(unit_tidier)"
   ]
  },
  {
   "cell_type": "code",
   "execution_count": null,
   "id": "5120ff66",
   "metadata": {},
   "outputs": [],
   "source": []
  }
 ],
 "metadata": {
  "kernelspec": {
   "display_name": "R",
   "language": "R",
   "name": "ir"
  },
  "language_info": {
   "codemirror_mode": "r",
   "file_extension": ".r",
   "mimetype": "text/x-r-source",
   "name": "R",
   "pygments_lexer": "r",
   "version": "3.6.1"
  }
 },
 "nbformat": 4,
 "nbformat_minor": 5
}
