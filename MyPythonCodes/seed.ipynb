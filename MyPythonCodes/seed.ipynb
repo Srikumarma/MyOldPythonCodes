{
 "cells": [
  {
   "cell_type": "code",
   "execution_count": 1,
   "id": "f2509d38",
   "metadata": {},
   "outputs": [
    {
     "data": {
      "text/html": [
       "<ol class=list-inline>\n",
       "\t<li>0.185891692129033</li>\n",
       "\t<li>0.674316353979289</li>\n",
       "\t<li>-0.698761672425221</li>\n",
       "\t<li>0.0760888251571979</li>\n",
       "</ol>\n"
      ],
      "text/latex": [
       "\\begin{enumerate*}\n",
       "\\item 0.185891692129033\n",
       "\\item 0.674316353979289\n",
       "\\item -0.698761672425221\n",
       "\\item 0.0760888251571979\n",
       "\\end{enumerate*}\n"
      ],
      "text/markdown": [
       "1. 0.185891692129033\n",
       "2. 0.674316353979289\n",
       "3. -0.698761672425221\n",
       "4. 0.0760888251571979\n",
       "\n",
       "\n"
      ],
      "text/plain": [
       "[1]  0.18589169  0.67431635 -0.69876167  0.07608883"
      ]
     },
     "metadata": {},
     "output_type": "display_data"
    }
   ],
   "source": [
    "#generate random numbers\n",
    "rnorm(4)"
   ]
  },
  {
   "cell_type": "code",
   "execution_count": 5,
   "id": "277260d2",
   "metadata": {},
   "outputs": [
    {
     "data": {
      "text/html": [
       "<ol class=list-inline>\n",
       "\t<li>0.216754862863576</li>\n",
       "\t<li>-0.542492572263425</li>\n",
       "\t<li>0.891144645072327</li>\n",
       "\t<li>0.595980577187475</li>\n",
       "</ol>\n"
      ],
      "text/latex": [
       "\\begin{enumerate*}\n",
       "\\item 0.216754862863576\n",
       "\\item -0.542492572263425\n",
       "\\item 0.891144645072327\n",
       "\\item 0.595980577187475\n",
       "\\end{enumerate*}\n"
      ],
      "text/markdown": [
       "1. 0.216754862863576\n",
       "2. -0.542492572263425\n",
       "3. 0.891144645072327\n",
       "4. 0.595980577187475\n",
       "\n",
       "\n"
      ],
      "text/plain": [
       "[1]  0.2167549 -0.5424926  0.8911446  0.5959806"
      ]
     },
     "metadata": {},
     "output_type": "display_data"
    }
   ],
   "source": [
    "#to print the same rndom number\n",
    "set.seed(4)\n",
    "rnorm(4)"
   ]
  },
  {
   "cell_type": "code",
   "execution_count": 6,
   "id": "12f6c47f",
   "metadata": {},
   "outputs": [
    {
     "data": {
      "text/html": [
       "<ol class=list-inline>\n",
       "\t<li>0.216754862863576</li>\n",
       "\t<li>-0.542492572263425</li>\n",
       "\t<li>0.891144645072327</li>\n",
       "\t<li>0.595980577187475</li>\n",
       "</ol>\n"
      ],
      "text/latex": [
       "\\begin{enumerate*}\n",
       "\\item 0.216754862863576\n",
       "\\item -0.542492572263425\n",
       "\\item 0.891144645072327\n",
       "\\item 0.595980577187475\n",
       "\\end{enumerate*}\n"
      ],
      "text/markdown": [
       "1. 0.216754862863576\n",
       "2. -0.542492572263425\n",
       "3. 0.891144645072327\n",
       "4. 0.595980577187475\n",
       "\n",
       "\n"
      ],
      "text/plain": [
       "[1]  0.2167549 -0.5424926  0.8911446  0.5959806"
      ]
     },
     "metadata": {},
     "output_type": "display_data"
    }
   ],
   "source": [
    "set.seed(4)\n",
    "rnorm(4)"
   ]
  },
  {
   "cell_type": "code",
   "execution_count": null,
   "id": "9f8b8c3f",
   "metadata": {},
   "outputs": [],
   "source": []
  }
 ],
 "metadata": {
  "kernelspec": {
   "display_name": "R",
   "language": "R",
   "name": "ir"
  },
  "language_info": {
   "codemirror_mode": "r",
   "file_extension": ".r",
   "mimetype": "text/x-r-source",
   "name": "R",
   "pygments_lexer": "r",
   "version": "3.6.1"
  }
 },
 "nbformat": 4,
 "nbformat_minor": 5
}
