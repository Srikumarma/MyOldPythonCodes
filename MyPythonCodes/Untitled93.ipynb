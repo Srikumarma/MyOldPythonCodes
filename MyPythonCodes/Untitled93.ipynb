{
 "cells": [
  {
   "cell_type": "markdown",
   "id": "3996c807",
   "metadata": {},
   "source": [
    "1. Create two dataframes :\n",
    "name =c('Anastasia', 'Dima', 'Katherine', 'James', 'Emily', 'Michael', 'Matthew', 'Laura', 'Kevin', 'Jonas')\n",
    "score =c(12.5, 9, 16.5, 12, 9, 20, 14.5, 13.5, 8, 19)\n",
    "attempts = c(1, NA, 2, NA, 2, NA, 1, NA, 2, 1)\n",
    "pass =c('yes', 'no', 'yes', 'no', 'no', 'yes', 'yes', 'no', 'no', 'yes')\n",
    "\n",
    "a. Write a R program to extract 3rd and 5th rows with 1st and 3rd columns from a given data frame.\n",
    "b. Write a R program to replace NA values with 3 in a given data frame.\n",
    "c. Get the statistical summary and nature of the data\n",
    "d. Write a R Program to extract score greater than 9\n",
    "e. Rename the pass column to Qualify.\n",
    "f. Sort the data in ascending order.\n",
    "g. Find Maximum Score.\n",
    "h. Add new row of data\n",
    "\n",
    "\n",
    "\n",
    "2.Create a function that will return the sum of 2 integers.\n",
    "\n",
    "\n",
    "3. Create a vector strings <- c(\"ab9\", \"ab\", \"abc8\", \"abc\")  and implement the required pattern for finding any digit in the vector. Use function grepl to verify if there is a digit.\n",
    "\n",
    "\n",
    " 4. Write mtcars dataset into a CSV file named example.csv , Read the same file content and display the data\n",
    "\n",
    "5.  Read the Sample-sales data.excel file and display the top 10 rows."
   ]
  },
  {
   "cell_type": "code",
   "execution_count": 2,
   "id": "f23314cc",
   "metadata": {},
   "outputs": [
    {
     "data": {
      "text/html": [
       "<table>\n",
       "<thead><tr><th scope=col>name</th><th scope=col>score</th></tr></thead>\n",
       "<tbody>\n",
       "\t<tr><td>Anastasia</td><td>12.5     </td></tr>\n",
       "\t<tr><td>Dima     </td><td> 9.0     </td></tr>\n",
       "\t<tr><td>Katherine</td><td>16.5     </td></tr>\n",
       "\t<tr><td>James    </td><td>12.0     </td></tr>\n",
       "\t<tr><td>Emily    </td><td> 9.0     </td></tr>\n",
       "\t<tr><td>Michael  </td><td>20.0     </td></tr>\n",
       "\t<tr><td>Matthew  </td><td>14.5     </td></tr>\n",
       "\t<tr><td>Laura    </td><td>13.5     </td></tr>\n",
       "\t<tr><td>Kevin    </td><td> 8.0     </td></tr>\n",
       "\t<tr><td>Jonas    </td><td>19.0     </td></tr>\n",
       "</tbody>\n",
       "</table>\n"
      ],
      "text/latex": [
       "\\begin{tabular}{r|ll}\n",
       " name & score\\\\\n",
       "\\hline\n",
       "\t Anastasia & 12.5     \\\\\n",
       "\t Dima      &  9.0     \\\\\n",
       "\t Katherine & 16.5     \\\\\n",
       "\t James     & 12.0     \\\\\n",
       "\t Emily     &  9.0     \\\\\n",
       "\t Michael   & 20.0     \\\\\n",
       "\t Matthew   & 14.5     \\\\\n",
       "\t Laura     & 13.5     \\\\\n",
       "\t Kevin     &  8.0     \\\\\n",
       "\t Jonas     & 19.0     \\\\\n",
       "\\end{tabular}\n"
      ],
      "text/markdown": [
       "\n",
       "| name | score |\n",
       "|---|---|\n",
       "| Anastasia | 12.5      |\n",
       "| Dima      |  9.0      |\n",
       "| Katherine | 16.5      |\n",
       "| James     | 12.0      |\n",
       "| Emily     |  9.0      |\n",
       "| Michael   | 20.0      |\n",
       "| Matthew   | 14.5      |\n",
       "| Laura     | 13.5      |\n",
       "| Kevin     |  8.0      |\n",
       "| Jonas     | 19.0      |\n",
       "\n"
      ],
      "text/plain": [
       "   name      score\n",
       "1  Anastasia 12.5 \n",
       "2  Dima       9.0 \n",
       "3  Katherine 16.5 \n",
       "4  James     12.0 \n",
       "5  Emily      9.0 \n",
       "6  Michael   20.0 \n",
       "7  Matthew   14.5 \n",
       "8  Laura     13.5 \n",
       "9  Kevin      8.0 \n",
       "10 Jonas     19.0 "
      ]
     },
     "metadata": {},
     "output_type": "display_data"
    }
   ],
   "source": [
    "#1\n",
    "name =c('Anastasia', 'Dima', 'Katherine', 'James', 'Emily', 'Michael', 'Matthew', 'Laura', 'Kevin', 'Jonas') \n",
    "score =c(12.5, 9, 16.5, 12, 9, 20, 14.5, 13.5, 8, 19) \n",
    "attempts = c(1, NA, 2, NA, 2, NA, 1, NA, 2, 1) \n",
    "pass =c('yes', 'no', 'yes', 'no', 'no', 'yes', 'yes', 'no', 'no', 'yes')\n",
    "df1=data.frame(name,score)\n",
    "df2=data.frame(attempts,pass)\n",
    "df1"
   ]
  },
  {
   "cell_type": "code",
   "execution_count": 3,
   "id": "e71edcb5",
   "metadata": {},
   "outputs": [
    {
     "data": {
      "text/html": [
       "<table>\n",
       "<thead><tr><th scope=col>attempts</th><th scope=col>pass</th></tr></thead>\n",
       "<tbody>\n",
       "\t<tr><td> 1 </td><td>yes</td></tr>\n",
       "\t<tr><td>NA </td><td>no </td></tr>\n",
       "\t<tr><td> 2 </td><td>yes</td></tr>\n",
       "\t<tr><td>NA </td><td>no </td></tr>\n",
       "\t<tr><td> 2 </td><td>no </td></tr>\n",
       "\t<tr><td>NA </td><td>yes</td></tr>\n",
       "\t<tr><td> 1 </td><td>yes</td></tr>\n",
       "\t<tr><td>NA </td><td>no </td></tr>\n",
       "\t<tr><td> 2 </td><td>no </td></tr>\n",
       "\t<tr><td> 1 </td><td>yes</td></tr>\n",
       "</tbody>\n",
       "</table>\n"
      ],
      "text/latex": [
       "\\begin{tabular}{r|ll}\n",
       " attempts & pass\\\\\n",
       "\\hline\n",
       "\t  1  & yes\\\\\n",
       "\t NA  & no \\\\\n",
       "\t  2  & yes\\\\\n",
       "\t NA  & no \\\\\n",
       "\t  2  & no \\\\\n",
       "\t NA  & yes\\\\\n",
       "\t  1  & yes\\\\\n",
       "\t NA  & no \\\\\n",
       "\t  2  & no \\\\\n",
       "\t  1  & yes\\\\\n",
       "\\end{tabular}\n"
      ],
      "text/markdown": [
       "\n",
       "| attempts | pass |\n",
       "|---|---|\n",
       "|  1  | yes |\n",
       "| NA  | no  |\n",
       "|  2  | yes |\n",
       "| NA  | no  |\n",
       "|  2  | no  |\n",
       "| NA  | yes |\n",
       "|  1  | yes |\n",
       "| NA  | no  |\n",
       "|  2  | no  |\n",
       "|  1  | yes |\n",
       "\n"
      ],
      "text/plain": [
       "   attempts pass\n",
       "1   1       yes \n",
       "2  NA       no  \n",
       "3   2       yes \n",
       "4  NA       no  \n",
       "5   2       no  \n",
       "6  NA       yes \n",
       "7   1       yes \n",
       "8  NA       no  \n",
       "9   2       no  \n",
       "10  1       yes "
      ]
     },
     "metadata": {},
     "output_type": "display_data"
    }
   ],
   "source": [
    "df2"
   ]
  },
  {
   "cell_type": "code",
   "execution_count": 1,
   "id": "e7206376",
   "metadata": {},
   "outputs": [
    {
     "data": {
      "text/html": [
       "<table>\n",
       "<thead><tr><th></th><th scope=col>name</th><th scope=col>attempts</th></tr></thead>\n",
       "<tbody>\n",
       "\t<tr><th scope=row>3</th><td>Katherine</td><td>2        </td></tr>\n",
       "\t<tr><th scope=row>5</th><td>Emily    </td><td>2        </td></tr>\n",
       "</tbody>\n",
       "</table>\n"
      ],
      "text/latex": [
       "\\begin{tabular}{r|ll}\n",
       "  & name & attempts\\\\\n",
       "\\hline\n",
       "\t3 & Katherine & 2        \\\\\n",
       "\t5 & Emily     & 2        \\\\\n",
       "\\end{tabular}\n"
      ],
      "text/markdown": [
       "\n",
       "| <!--/--> | name | attempts |\n",
       "|---|---|---|\n",
       "| 3 | Katherine | 2         |\n",
       "| 5 | Emily     | 2         |\n",
       "\n"
      ],
      "text/plain": [
       "  name      attempts\n",
       "3 Katherine 2       \n",
       "5 Emily     2       "
      ]
     },
     "metadata": {},
     "output_type": "display_data"
    }
   ],
   "source": [
    "df=data.frame(name =c('Anastasia', 'Dima', 'Katherine', 'James', 'Emily', 'Michael', 'Matthew', 'Laura', 'Kevin', 'Jonas') \n",
    "              ,score =c(12.5, 9, 16.5, 12, 9, 20, 14.5, 13.5, 8, 19) \n",
    "              ,attempts = c(1, NA, 2, NA, 2, NA, 1, NA, 2, 1) \n",
    "              ,pass =c('yes', 'no', 'yes', 'no', 'no', 'yes', 'yes', 'no', 'no', 'yes'))\n",
    "#a. Write a R program to extract 3rd and 5th rows with 1st and 3rd columns from a given data frame.\n",
    "a=df[c(3,5),c(1,3)]\n",
    "a"
   ]
  },
  {
   "cell_type": "code",
   "execution_count": 2,
   "id": "de0b5923",
   "metadata": {},
   "outputs": [
    {
     "data": {
      "text/html": [
       "<table>\n",
       "<thead><tr><th scope=col>name</th><th scope=col>score</th><th scope=col>attempts</th><th scope=col>pass</th></tr></thead>\n",
       "<tbody>\n",
       "\t<tr><td>Anastasia</td><td>12.5     </td><td>1        </td><td>yes      </td></tr>\n",
       "\t<tr><td>Dima     </td><td> 9.0     </td><td>3        </td><td>no       </td></tr>\n",
       "\t<tr><td>Katherine</td><td>16.5     </td><td>2        </td><td>yes      </td></tr>\n",
       "\t<tr><td>James    </td><td>12.0     </td><td>3        </td><td>no       </td></tr>\n",
       "\t<tr><td>Emily    </td><td> 9.0     </td><td>2        </td><td>no       </td></tr>\n",
       "\t<tr><td>Michael  </td><td>20.0     </td><td>3        </td><td>yes      </td></tr>\n",
       "\t<tr><td>Matthew  </td><td>14.5     </td><td>1        </td><td>yes      </td></tr>\n",
       "\t<tr><td>Laura    </td><td>13.5     </td><td>3        </td><td>no       </td></tr>\n",
       "\t<tr><td>Kevin    </td><td> 8.0     </td><td>2        </td><td>no       </td></tr>\n",
       "\t<tr><td>Jonas    </td><td>19.0     </td><td>1        </td><td>yes      </td></tr>\n",
       "</tbody>\n",
       "</table>\n"
      ],
      "text/latex": [
       "\\begin{tabular}{r|llll}\n",
       " name & score & attempts & pass\\\\\n",
       "\\hline\n",
       "\t Anastasia & 12.5      & 1         & yes      \\\\\n",
       "\t Dima      &  9.0      & 3         & no       \\\\\n",
       "\t Katherine & 16.5      & 2         & yes      \\\\\n",
       "\t James     & 12.0      & 3         & no       \\\\\n",
       "\t Emily     &  9.0      & 2         & no       \\\\\n",
       "\t Michael   & 20.0      & 3         & yes      \\\\\n",
       "\t Matthew   & 14.5      & 1         & yes      \\\\\n",
       "\t Laura     & 13.5      & 3         & no       \\\\\n",
       "\t Kevin     &  8.0      & 2         & no       \\\\\n",
       "\t Jonas     & 19.0      & 1         & yes      \\\\\n",
       "\\end{tabular}\n"
      ],
      "text/markdown": [
       "\n",
       "| name | score | attempts | pass |\n",
       "|---|---|---|---|\n",
       "| Anastasia | 12.5      | 1         | yes       |\n",
       "| Dima      |  9.0      | 3         | no        |\n",
       "| Katherine | 16.5      | 2         | yes       |\n",
       "| James     | 12.0      | 3         | no        |\n",
       "| Emily     |  9.0      | 2         | no        |\n",
       "| Michael   | 20.0      | 3         | yes       |\n",
       "| Matthew   | 14.5      | 1         | yes       |\n",
       "| Laura     | 13.5      | 3         | no        |\n",
       "| Kevin     |  8.0      | 2         | no        |\n",
       "| Jonas     | 19.0      | 1         | yes       |\n",
       "\n"
      ],
      "text/plain": [
       "   name      score attempts pass\n",
       "1  Anastasia 12.5  1        yes \n",
       "2  Dima       9.0  3        no  \n",
       "3  Katherine 16.5  2        yes \n",
       "4  James     12.0  3        no  \n",
       "5  Emily      9.0  2        no  \n",
       "6  Michael   20.0  3        yes \n",
       "7  Matthew   14.5  1        yes \n",
       "8  Laura     13.5  3        no  \n",
       "9  Kevin      8.0  2        no  \n",
       "10 Jonas     19.0  1        yes "
      ]
     },
     "metadata": {},
     "output_type": "display_data"
    }
   ],
   "source": [
    "#b. Write a R program to replace NA values with 3 in a given data frame.\n",
    "df[is.na(df)]=3\n",
    "df"
   ]
  },
  {
   "cell_type": "code",
   "execution_count": 3,
   "id": "28610948",
   "metadata": {},
   "outputs": [
    {
     "data": {
      "text/plain": [
       "        name       score          attempts     pass  \n",
       " Anastasia:1   Min.   : 8.00   Min.   :1.00   no :5  \n",
       " Dima     :1   1st Qu.: 9.75   1st Qu.:1.25   yes:5  \n",
       " Emily    :1   Median :13.00   Median :2.00          \n",
       " James    :1   Mean   :13.40   Mean   :2.10          \n",
       " Jonas    :1   3rd Qu.:16.00   3rd Qu.:3.00          \n",
       " Katherine:1   Max.   :20.00   Max.   :3.00          \n",
       " (Other)  :4                                         "
      ]
     },
     "metadata": {},
     "output_type": "display_data"
    }
   ],
   "source": [
    "#c. Get the statistical summary and nature of the data\n",
    "summary(df)"
   ]
  },
  {
   "cell_type": "code",
   "execution_count": 4,
   "id": "25da4152",
   "metadata": {},
   "outputs": [
    {
     "data": {
      "text/html": [
       "<table>\n",
       "<thead><tr><th></th><th scope=col>name</th><th scope=col>score</th><th scope=col>attempts</th><th scope=col>pass</th></tr></thead>\n",
       "<tbody>\n",
       "\t<tr><th scope=row>1</th><td>Anastasia</td><td>12.5     </td><td>1        </td><td>yes      </td></tr>\n",
       "\t<tr><th scope=row>3</th><td>Katherine</td><td>16.5     </td><td>2        </td><td>yes      </td></tr>\n",
       "\t<tr><th scope=row>4</th><td>James    </td><td>12.0     </td><td>3        </td><td>no       </td></tr>\n",
       "\t<tr><th scope=row>6</th><td>Michael  </td><td>20.0     </td><td>3        </td><td>yes      </td></tr>\n",
       "\t<tr><th scope=row>7</th><td>Matthew  </td><td>14.5     </td><td>1        </td><td>yes      </td></tr>\n",
       "\t<tr><th scope=row>8</th><td>Laura    </td><td>13.5     </td><td>3        </td><td>no       </td></tr>\n",
       "\t<tr><th scope=row>10</th><td>Jonas    </td><td>19.0     </td><td>1        </td><td>yes      </td></tr>\n",
       "</tbody>\n",
       "</table>\n"
      ],
      "text/latex": [
       "\\begin{tabular}{r|llll}\n",
       "  & name & score & attempts & pass\\\\\n",
       "\\hline\n",
       "\t1 & Anastasia & 12.5      & 1         & yes      \\\\\n",
       "\t3 & Katherine & 16.5      & 2         & yes      \\\\\n",
       "\t4 & James     & 12.0      & 3         & no       \\\\\n",
       "\t6 & Michael   & 20.0      & 3         & yes      \\\\\n",
       "\t7 & Matthew   & 14.5      & 1         & yes      \\\\\n",
       "\t8 & Laura     & 13.5      & 3         & no       \\\\\n",
       "\t10 & Jonas     & 19.0      & 1         & yes      \\\\\n",
       "\\end{tabular}\n"
      ],
      "text/markdown": [
       "\n",
       "| <!--/--> | name | score | attempts | pass |\n",
       "|---|---|---|---|---|\n",
       "| 1 | Anastasia | 12.5      | 1         | yes       |\n",
       "| 3 | Katherine | 16.5      | 2         | yes       |\n",
       "| 4 | James     | 12.0      | 3         | no        |\n",
       "| 6 | Michael   | 20.0      | 3         | yes       |\n",
       "| 7 | Matthew   | 14.5      | 1         | yes       |\n",
       "| 8 | Laura     | 13.5      | 3         | no        |\n",
       "| 10 | Jonas     | 19.0      | 1         | yes       |\n",
       "\n"
      ],
      "text/plain": [
       "   name      score attempts pass\n",
       "1  Anastasia 12.5  1        yes \n",
       "3  Katherine 16.5  2        yes \n",
       "4  James     12.0  3        no  \n",
       "6  Michael   20.0  3        yes \n",
       "7  Matthew   14.5  1        yes \n",
       "8  Laura     13.5  3        no  \n",
       "10 Jonas     19.0  1        yes "
      ]
     },
     "metadata": {},
     "output_type": "display_data"
    }
   ],
   "source": [
    "#d. Write a R Program to extract score greater than 9\n",
    "subset(df, score>9)"
   ]
  },
  {
   "cell_type": "code",
   "execution_count": 42,
   "id": "15029317",
   "metadata": {},
   "outputs": [
    {
     "data": {
      "text/html": [
       "<table>\n",
       "<thead><tr><th scope=col>name</th><th scope=col>score</th><th scope=col>attempts</th><th scope=col>qualify</th></tr></thead>\n",
       "<tbody>\n",
       "\t<tr><td>Anastasia</td><td>12.5     </td><td>1        </td><td>yes      </td></tr>\n",
       "\t<tr><td>Dima     </td><td> 9.0     </td><td>3        </td><td>no       </td></tr>\n",
       "\t<tr><td>Katherine</td><td>16.5     </td><td>2        </td><td>yes      </td></tr>\n",
       "\t<tr><td>James    </td><td>12.0     </td><td>3        </td><td>no       </td></tr>\n",
       "\t<tr><td>Emily    </td><td> 9.0     </td><td>2        </td><td>no       </td></tr>\n",
       "\t<tr><td>Michael  </td><td>20.0     </td><td>3        </td><td>yes      </td></tr>\n",
       "\t<tr><td>Matthew  </td><td>14.5     </td><td>1        </td><td>yes      </td></tr>\n",
       "\t<tr><td>Laura    </td><td>13.5     </td><td>3        </td><td>no       </td></tr>\n",
       "\t<tr><td>Kevin    </td><td> 8.0     </td><td>2        </td><td>no       </td></tr>\n",
       "\t<tr><td>Jonas    </td><td>19.0     </td><td>1        </td><td>yes      </td></tr>\n",
       "</tbody>\n",
       "</table>\n"
      ],
      "text/latex": [
       "\\begin{tabular}{r|llll}\n",
       " name & score & attempts & qualify\\\\\n",
       "\\hline\n",
       "\t Anastasia & 12.5      & 1         & yes      \\\\\n",
       "\t Dima      &  9.0      & 3         & no       \\\\\n",
       "\t Katherine & 16.5      & 2         & yes      \\\\\n",
       "\t James     & 12.0      & 3         & no       \\\\\n",
       "\t Emily     &  9.0      & 2         & no       \\\\\n",
       "\t Michael   & 20.0      & 3         & yes      \\\\\n",
       "\t Matthew   & 14.5      & 1         & yes      \\\\\n",
       "\t Laura     & 13.5      & 3         & no       \\\\\n",
       "\t Kevin     &  8.0      & 2         & no       \\\\\n",
       "\t Jonas     & 19.0      & 1         & yes      \\\\\n",
       "\\end{tabular}\n"
      ],
      "text/markdown": [
       "\n",
       "| name | score | attempts | qualify |\n",
       "|---|---|---|---|\n",
       "| Anastasia | 12.5      | 1         | yes       |\n",
       "| Dima      |  9.0      | 3         | no        |\n",
       "| Katherine | 16.5      | 2         | yes       |\n",
       "| James     | 12.0      | 3         | no        |\n",
       "| Emily     |  9.0      | 2         | no        |\n",
       "| Michael   | 20.0      | 3         | yes       |\n",
       "| Matthew   | 14.5      | 1         | yes       |\n",
       "| Laura     | 13.5      | 3         | no        |\n",
       "| Kevin     |  8.0      | 2         | no        |\n",
       "| Jonas     | 19.0      | 1         | yes       |\n",
       "\n"
      ],
      "text/plain": [
       "   name      score attempts qualify\n",
       "1  Anastasia 12.5  1        yes    \n",
       "2  Dima       9.0  3        no     \n",
       "3  Katherine 16.5  2        yes    \n",
       "4  James     12.0  3        no     \n",
       "5  Emily      9.0  2        no     \n",
       "6  Michael   20.0  3        yes    \n",
       "7  Matthew   14.5  1        yes    \n",
       "8  Laura     13.5  3        no     \n",
       "9  Kevin      8.0  2        no     \n",
       "10 Jonas     19.0  1        yes    "
      ]
     },
     "metadata": {},
     "output_type": "display_data"
    }
   ],
   "source": [
    "#e. Rename the pass column to Qualify.\n",
    "names(df)[names(df)==\"pass\"]=\"qualify\"\n",
    "df"
   ]
  },
  {
   "cell_type": "code",
   "execution_count": 47,
   "id": "dbc70b67",
   "metadata": {},
   "outputs": [
    {
     "data": {
      "text/html": [
       "<table>\n",
       "<thead><tr><th></th><th scope=col>name</th><th scope=col>score</th><th scope=col>attempts</th><th scope=col>qualify</th></tr></thead>\n",
       "<tbody>\n",
       "\t<tr><th scope=row>9</th><td>Kevin    </td><td> 8.0     </td><td>2        </td><td>no       </td></tr>\n",
       "\t<tr><th scope=row>2</th><td>Dima     </td><td> 9.0     </td><td>3        </td><td>no       </td></tr>\n",
       "\t<tr><th scope=row>5</th><td>Emily    </td><td> 9.0     </td><td>2        </td><td>no       </td></tr>\n",
       "\t<tr><th scope=row>4</th><td>James    </td><td>12.0     </td><td>3        </td><td>no       </td></tr>\n",
       "\t<tr><th scope=row>1</th><td>Anastasia</td><td>12.5     </td><td>1        </td><td>yes      </td></tr>\n",
       "\t<tr><th scope=row>8</th><td>Laura    </td><td>13.5     </td><td>3        </td><td>no       </td></tr>\n",
       "\t<tr><th scope=row>7</th><td>Matthew  </td><td>14.5     </td><td>1        </td><td>yes      </td></tr>\n",
       "\t<tr><th scope=row>3</th><td>Katherine</td><td>16.5     </td><td>2        </td><td>yes      </td></tr>\n",
       "\t<tr><th scope=row>10</th><td>Jonas    </td><td>19.0     </td><td>1        </td><td>yes      </td></tr>\n",
       "\t<tr><th scope=row>6</th><td>Michael  </td><td>20.0     </td><td>3        </td><td>yes      </td></tr>\n",
       "</tbody>\n",
       "</table>\n"
      ],
      "text/latex": [
       "\\begin{tabular}{r|llll}\n",
       "  & name & score & attempts & qualify\\\\\n",
       "\\hline\n",
       "\t9 & Kevin     &  8.0      & 2         & no       \\\\\n",
       "\t2 & Dima      &  9.0      & 3         & no       \\\\\n",
       "\t5 & Emily     &  9.0      & 2         & no       \\\\\n",
       "\t4 & James     & 12.0      & 3         & no       \\\\\n",
       "\t1 & Anastasia & 12.5      & 1         & yes      \\\\\n",
       "\t8 & Laura     & 13.5      & 3         & no       \\\\\n",
       "\t7 & Matthew   & 14.5      & 1         & yes      \\\\\n",
       "\t3 & Katherine & 16.5      & 2         & yes      \\\\\n",
       "\t10 & Jonas     & 19.0      & 1         & yes      \\\\\n",
       "\t6 & Michael   & 20.0      & 3         & yes      \\\\\n",
       "\\end{tabular}\n"
      ],
      "text/markdown": [
       "\n",
       "| <!--/--> | name | score | attempts | qualify |\n",
       "|---|---|---|---|---|\n",
       "| 9 | Kevin     |  8.0      | 2         | no        |\n",
       "| 2 | Dima      |  9.0      | 3         | no        |\n",
       "| 5 | Emily     |  9.0      | 2         | no        |\n",
       "| 4 | James     | 12.0      | 3         | no        |\n",
       "| 1 | Anastasia | 12.5      | 1         | yes       |\n",
       "| 8 | Laura     | 13.5      | 3         | no        |\n",
       "| 7 | Matthew   | 14.5      | 1         | yes       |\n",
       "| 3 | Katherine | 16.5      | 2         | yes       |\n",
       "| 10 | Jonas     | 19.0      | 1         | yes       |\n",
       "| 6 | Michael   | 20.0      | 3         | yes       |\n",
       "\n"
      ],
      "text/plain": [
       "   name      score attempts qualify\n",
       "9  Kevin      8.0  2        no     \n",
       "2  Dima       9.0  3        no     \n",
       "5  Emily      9.0  2        no     \n",
       "4  James     12.0  3        no     \n",
       "1  Anastasia 12.5  1        yes    \n",
       "8  Laura     13.5  3        no     \n",
       "7  Matthew   14.5  1        yes    \n",
       "3  Katherine 16.5  2        yes    \n",
       "10 Jonas     19.0  1        yes    \n",
       "6  Michael   20.0  3        yes    "
      ]
     },
     "metadata": {},
     "output_type": "display_data"
    }
   ],
   "source": [
    "#f. Sort the data in ascending order.\n",
    "sort=order(df['score'])\n",
    "df[sort,]"
   ]
  },
  {
   "cell_type": "code",
   "execution_count": 48,
   "id": "be23f957",
   "metadata": {},
   "outputs": [
    {
     "data": {
      "text/html": [
       "20"
      ],
      "text/latex": [
       "20"
      ],
      "text/markdown": [
       "20"
      ],
      "text/plain": [
       "[1] 20"
      ]
     },
     "metadata": {},
     "output_type": "display_data"
    }
   ],
   "source": [
    "#g. Find Maximum Score.\n",
    "max(df['score'])"
   ]
  },
  {
   "cell_type": "code",
   "execution_count": 54,
   "id": "4182f108",
   "metadata": {},
   "outputs": [
    {
     "name": "stderr",
     "output_type": "stream",
     "text": [
      "Warning message in `[<-.factor`(`*tmp*`, ri, value = \"Barney\"):\n",
      "\"invalid factor level, NA generated\""
     ]
    },
    {
     "data": {
      "text/html": [
       "<table>\n",
       "<thead><tr><th scope=col>name</th><th scope=col>score</th><th scope=col>attempts</th><th scope=col>pass</th></tr></thead>\n",
       "<tbody>\n",
       "\t<tr><td>Anastasia</td><td>12.5     </td><td>1        </td><td>yes      </td></tr>\n",
       "\t<tr><td>Dima     </td><td>9        </td><td>NA       </td><td>no       </td></tr>\n",
       "\t<tr><td>Katherine</td><td>16.5     </td><td>2        </td><td>yes      </td></tr>\n",
       "\t<tr><td>James    </td><td>12       </td><td>NA       </td><td>no       </td></tr>\n",
       "\t<tr><td>Emily    </td><td>9        </td><td>2        </td><td>no       </td></tr>\n",
       "\t<tr><td>Michael  </td><td>20       </td><td>NA       </td><td>yes      </td></tr>\n",
       "\t<tr><td>Matthew  </td><td>14.5     </td><td>1        </td><td>yes      </td></tr>\n",
       "\t<tr><td>Laura    </td><td>13.5     </td><td>NA       </td><td>no       </td></tr>\n",
       "\t<tr><td>Kevin    </td><td>8        </td><td>2        </td><td>no       </td></tr>\n",
       "\t<tr><td>Jonas    </td><td>19       </td><td>1        </td><td>yes      </td></tr>\n",
       "\t<tr><td>NA       </td><td>19       </td><td>1        </td><td>yes      </td></tr>\n",
       "</tbody>\n",
       "</table>\n"
      ],
      "text/latex": [
       "\\begin{tabular}{r|llll}\n",
       " name & score & attempts & pass\\\\\n",
       "\\hline\n",
       "\t Anastasia & 12.5      & 1         & yes      \\\\\n",
       "\t Dima      & 9         & NA        & no       \\\\\n",
       "\t Katherine & 16.5      & 2         & yes      \\\\\n",
       "\t James     & 12        & NA        & no       \\\\\n",
       "\t Emily     & 9         & 2         & no       \\\\\n",
       "\t Michael   & 20        & NA        & yes      \\\\\n",
       "\t Matthew   & 14.5      & 1         & yes      \\\\\n",
       "\t Laura     & 13.5      & NA        & no       \\\\\n",
       "\t Kevin     & 8         & 2         & no       \\\\\n",
       "\t Jonas     & 19        & 1         & yes      \\\\\n",
       "\t NA        & 19        & 1         & yes      \\\\\n",
       "\\end{tabular}\n"
      ],
      "text/markdown": [
       "\n",
       "| name | score | attempts | pass |\n",
       "|---|---|---|---|\n",
       "| Anastasia | 12.5      | 1         | yes       |\n",
       "| Dima      | 9         | NA        | no        |\n",
       "| Katherine | 16.5      | 2         | yes       |\n",
       "| James     | 12        | NA        | no        |\n",
       "| Emily     | 9         | 2         | no        |\n",
       "| Michael   | 20        | NA        | yes       |\n",
       "| Matthew   | 14.5      | 1         | yes       |\n",
       "| Laura     | 13.5      | NA        | no        |\n",
       "| Kevin     | 8         | 2         | no        |\n",
       "| Jonas     | 19        | 1         | yes       |\n",
       "| NA        | 19        | 1         | yes       |\n",
       "\n"
      ],
      "text/plain": [
       "   name      score attempts pass\n",
       "1  Anastasia 12.5  1        yes \n",
       "2  Dima      9     NA       no  \n",
       "3  Katherine 16.5  2        yes \n",
       "4  James     12    NA       no  \n",
       "5  Emily     9     2        no  \n",
       "6  Michael   20    NA       yes \n",
       "7  Matthew   14.5  1        yes \n",
       "8  Laura     13.5  NA       no  \n",
       "9  Kevin     8     2        no  \n",
       "10 Jonas     19    1        yes \n",
       "11 NA        19    1        yes "
      ]
     },
     "metadata": {},
     "output_type": "display_data"
    }
   ],
   "source": [
    "#h. Add new row of data\n",
    "df=data.frame(name =c('Anastasia', 'Dima', 'Katherine', 'James', 'Emily', 'Michael', 'Matthew', 'Laura', 'Kevin', 'Jonas') \n",
    "              ,score =c(12.5, 9, 16.5, 12, 9, 20, 14.5, 13.5, 8, 19) \n",
    "              ,attempts = c(1, NA, 2, NA, 2, NA, 1, NA, 2, 1) \n",
    "              ,pass =c('yes', 'no', 'yes', 'no', 'no', 'yes', 'yes', 'no', 'no', 'yes'))\n",
    "df=rbind(df,new=c('Barney',19,1,'yes'))\n",
    "df"
   ]
  },
  {
   "cell_type": "code",
   "execution_count": 57,
   "id": "8dea96ac",
   "metadata": {},
   "outputs": [
    {
     "data": {
      "text/html": [
       "5"
      ],
      "text/latex": [
       "5"
      ],
      "text/markdown": [
       "5"
      ],
      "text/plain": [
       "[1] 5"
      ]
     },
     "metadata": {},
     "output_type": "display_data"
    }
   ],
   "source": [
    "#2\n",
    "sum=function(a,b){\n",
    "    sum=a+b\n",
    "    sum\n",
    "}\n",
    "sum(2,3)"
   ]
  },
  {
   "cell_type": "code",
   "execution_count": 59,
   "id": "5e482cd5",
   "metadata": {},
   "outputs": [
    {
     "data": {
      "text/html": [
       "<ol class=list-inline>\n",
       "\t<li>1</li>\n",
       "\t<li>3</li>\n",
       "</ol>\n"
      ],
      "text/latex": [
       "\\begin{enumerate*}\n",
       "\\item 1\n",
       "\\item 3\n",
       "\\end{enumerate*}\n"
      ],
      "text/markdown": [
       "1. 1\n",
       "2. 3\n",
       "\n",
       "\n"
      ],
      "text/plain": [
       "[1] 1 3"
      ]
     },
     "metadata": {},
     "output_type": "display_data"
    }
   ],
   "source": [
    "#Create a vector strings <- c(\"ab9\", \"ab\", \"abc8\", \"abc\") and implement the required pattern for finding any digit in the vector. Use function grepl to verify if there is a digit.\n",
    "chars = c(\"ab9\", \"ab\", \"abc8\", \"abc\")\n",
    "grep(x=chars ,pattern= '[0-9]')"
   ]
  },
  {
   "cell_type": "code",
   "execution_count": 65,
   "id": "2eb365b5",
   "metadata": {},
   "outputs": [],
   "source": [
    "#Write mtcars dataset into a CSV file named example.csv , Read the same file content and display the data\n",
    "data=write.csv(mtcars,\"example.csv\")"
   ]
  },
  {
   "cell_type": "code",
   "execution_count": 66,
   "id": "4a84c1ad",
   "metadata": {},
   "outputs": [
    {
     "data": {
      "text/html": [
       "<table>\n",
       "<thead><tr><th scope=col>Postcode</th><th scope=col>Sales_Rep_ID</th><th scope=col>Sales_Rep_Name</th><th scope=col>Year</th><th scope=col>Value</th><th scope=col>X</th></tr></thead>\n",
       "<tbody>\n",
       "\t<tr><td>2121   </td><td>456    </td><td>Jane   </td><td>2011   </td><td>$84,219</td><td>NA     </td></tr>\n",
       "\t<tr><td>2092   </td><td>789    </td><td>Ashish </td><td>2012   </td><td>$28,322</td><td>NA     </td></tr>\n",
       "\t<tr><td>2128   </td><td>456    </td><td>Jane   </td><td>2013   </td><td>$81,879</td><td>NA     </td></tr>\n",
       "\t<tr><td>2073   </td><td>123    </td><td>John   </td><td>2011   </td><td>$44,491</td><td>NA     </td></tr>\n",
       "\t<tr><td>2134   </td><td>789    </td><td>Ashish </td><td>2012   </td><td>$71,838</td><td>NA     </td></tr>\n",
       "\t<tr><td>2162   </td><td>123    </td><td>John   </td><td>2013   </td><td>$64,532</td><td>NA     </td></tr>\n",
       "\t<tr><td>2093   </td><td>456    </td><td>Jane   </td><td>2011   </td><td>$58,963</td><td>NA     </td></tr>\n",
       "\t<tr><td>2042   </td><td>789    </td><td>Ashish </td><td>2012   </td><td>$27,522</td><td>NA     </td></tr>\n",
       "\t<tr><td>2198   </td><td>123    </td><td>John   </td><td>2013   </td><td>$77,985</td><td>NA     </td></tr>\n",
       "\t<tr><td>2043   </td><td>789    </td><td>Ashish </td><td>2011   </td><td>$49,546</td><td>NA     </td></tr>\n",
       "\t<tr><td>2025   </td><td>789    </td><td>Ashish </td><td>2012   </td><td>$17,734</td><td>NA     </td></tr>\n",
       "\t<tr><td>2045   </td><td>456    </td><td>Jane   </td><td>2013   </td><td>$91,126</td><td>NA     </td></tr>\n",
       "\t<tr><td>2090   </td><td>456    </td><td>Jane   </td><td>2011   </td><td>$48,113</td><td>NA     </td></tr>\n",
       "\t<tr><td>2114   </td><td>456    </td><td>Jane   </td><td>2012   </td><td>$28,361</td><td>NA     </td></tr>\n",
       "\t<tr><td>2142   </td><td>456    </td><td>Jane   </td><td>2013   </td><td>$50,912</td><td>NA     </td></tr>\n",
       "\t<tr><td>2062   </td><td>123    </td><td>John   </td><td>2011   </td><td>$75,539</td><td>NA     </td></tr>\n",
       "\t<tr><td>2049   </td><td>456    </td><td>Jane   </td><td>2012   </td><td>$96,922</td><td>NA     </td></tr>\n",
       "\t<tr><td>2204   </td><td>456    </td><td>Jane   </td><td>2013   </td><td>$57,838</td><td>NA     </td></tr>\n",
       "\t<tr><td>2000   </td><td>456    </td><td>Jane   </td><td>2011   </td><td>$4,530 </td><td>NA     </td></tr>\n",
       "\t<tr><td>2135   </td><td>123    </td><td>John   </td><td>2012   </td><td>$27,761</td><td>NA     </td></tr>\n",
       "\t<tr><td>2115   </td><td>456    </td><td>Jane   </td><td>2013   </td><td>$22,773</td><td>NA     </td></tr>\n",
       "\t<tr><td>2032   </td><td>789    </td><td>Ashish </td><td>2011   </td><td>$98,780</td><td>NA     </td></tr>\n",
       "\t<tr><td>2068   </td><td>456    </td><td>Jane   </td><td>2012   </td><td>$66,044</td><td>NA     </td></tr>\n",
       "\t<tr><td>2119   </td><td>789    </td><td>Ashish </td><td>2013   </td><td>$32,882</td><td>NA     </td></tr>\n",
       "\t<tr><td>2060   </td><td>456    </td><td>Jane   </td><td>2011   </td><td>$75,822</td><td>NA     </td></tr>\n",
       "\t<tr><td>2072   </td><td>456    </td><td>Jane   </td><td>2012   </td><td>$36,675</td><td>NA     </td></tr>\n",
       "\t<tr><td>2045   </td><td>123    </td><td>John   </td><td>2013   </td><td>$95,817</td><td>NA     </td></tr>\n",
       "\t<tr><td>2140   </td><td>456    </td><td>Jane   </td><td>2011   </td><td>$43,627</td><td>NA     </td></tr>\n",
       "\t<tr><td>2205   </td><td>789    </td><td>Ashish </td><td>2012   </td><td>$93,306</td><td>NA     </td></tr>\n",
       "\t<tr><td>2060   </td><td>123    </td><td>John   </td><td>2013   </td><td>$71,322</td><td>NA     </td></tr>\n",
       "\t<tr><td>...</td><td>...</td><td>...</td><td>...</td><td>...</td><td>...</td></tr>\n",
       "\t<tr><td>NA</td><td>NA</td><td>  </td><td>NA</td><td>  </td><td>NA</td></tr>\n",
       "\t<tr><td>NA</td><td>NA</td><td>  </td><td>NA</td><td>  </td><td>NA</td></tr>\n",
       "\t<tr><td>NA</td><td>NA</td><td>  </td><td>NA</td><td>  </td><td>NA</td></tr>\n",
       "\t<tr><td>NA</td><td>NA</td><td>  </td><td>NA</td><td>  </td><td>NA</td></tr>\n",
       "\t<tr><td>NA</td><td>NA</td><td>  </td><td>NA</td><td>  </td><td>NA</td></tr>\n",
       "\t<tr><td>NA</td><td>NA</td><td>  </td><td>NA</td><td>  </td><td>NA</td></tr>\n",
       "\t<tr><td>NA</td><td>NA</td><td>  </td><td>NA</td><td>  </td><td>NA</td></tr>\n",
       "\t<tr><td>NA</td><td>NA</td><td>  </td><td>NA</td><td>  </td><td>NA</td></tr>\n",
       "\t<tr><td>NA</td><td>NA</td><td>  </td><td>NA</td><td>  </td><td>NA</td></tr>\n",
       "\t<tr><td>NA</td><td>NA</td><td>  </td><td>NA</td><td>  </td><td>NA</td></tr>\n",
       "\t<tr><td>NA</td><td>NA</td><td>  </td><td>NA</td><td>  </td><td>NA</td></tr>\n",
       "\t<tr><td>NA</td><td>NA</td><td>  </td><td>NA</td><td>  </td><td>NA</td></tr>\n",
       "\t<tr><td>NA</td><td>NA</td><td>  </td><td>NA</td><td>  </td><td>NA</td></tr>\n",
       "\t<tr><td>NA</td><td>NA</td><td>  </td><td>NA</td><td>  </td><td>NA</td></tr>\n",
       "\t<tr><td>NA</td><td>NA</td><td>  </td><td>NA</td><td>  </td><td>NA</td></tr>\n",
       "\t<tr><td>NA</td><td>NA</td><td>  </td><td>NA</td><td>  </td><td>NA</td></tr>\n",
       "\t<tr><td>NA</td><td>NA</td><td>  </td><td>NA</td><td>  </td><td>NA</td></tr>\n",
       "\t<tr><td>NA</td><td>NA</td><td>  </td><td>NA</td><td>  </td><td>NA</td></tr>\n",
       "\t<tr><td>NA</td><td>NA</td><td>  </td><td>NA</td><td>  </td><td>NA</td></tr>\n",
       "\t<tr><td>NA</td><td>NA</td><td>  </td><td>NA</td><td>  </td><td>NA</td></tr>\n",
       "\t<tr><td>NA</td><td>NA</td><td>  </td><td>NA</td><td>  </td><td>NA</td></tr>\n",
       "\t<tr><td>NA</td><td>NA</td><td>  </td><td>NA</td><td>  </td><td>NA</td></tr>\n",
       "\t<tr><td>NA</td><td>NA</td><td>  </td><td>NA</td><td>  </td><td>NA</td></tr>\n",
       "\t<tr><td>NA</td><td>NA</td><td>  </td><td>NA</td><td>  </td><td>NA</td></tr>\n",
       "\t<tr><td>NA</td><td>NA</td><td>  </td><td>NA</td><td>  </td><td>NA</td></tr>\n",
       "\t<tr><td>NA</td><td>NA</td><td>  </td><td>NA</td><td>  </td><td>NA</td></tr>\n",
       "\t<tr><td>NA</td><td>NA</td><td>  </td><td>NA</td><td>  </td><td>NA</td></tr>\n",
       "\t<tr><td>NA</td><td>NA</td><td>  </td><td>NA</td><td>  </td><td>NA</td></tr>\n",
       "\t<tr><td>NA</td><td>NA</td><td>  </td><td>NA</td><td>  </td><td>NA</td></tr>\n",
       "\t<tr><td>NA</td><td>NA</td><td>  </td><td>NA</td><td>  </td><td>NA</td></tr>\n",
       "</tbody>\n",
       "</table>\n"
      ],
      "text/latex": [
       "\\begin{tabular}{r|llllll}\n",
       " Postcode & Sales\\_Rep\\_ID & Sales\\_Rep\\_Name & Year & Value & X\\\\\n",
       "\\hline\n",
       "\t 2121      & 456       & Jane      & 2011      & \\$84,219 & NA       \\\\\n",
       "\t 2092      & 789       & Ashish    & 2012      & \\$28,322 & NA       \\\\\n",
       "\t 2128      & 456       & Jane      & 2013      & \\$81,879 & NA       \\\\\n",
       "\t 2073      & 123       & John      & 2011      & \\$44,491 & NA       \\\\\n",
       "\t 2134      & 789       & Ashish    & 2012      & \\$71,838 & NA       \\\\\n",
       "\t 2162      & 123       & John      & 2013      & \\$64,532 & NA       \\\\\n",
       "\t 2093      & 456       & Jane      & 2011      & \\$58,963 & NA       \\\\\n",
       "\t 2042      & 789       & Ashish    & 2012      & \\$27,522 & NA       \\\\\n",
       "\t 2198      & 123       & John      & 2013      & \\$77,985 & NA       \\\\\n",
       "\t 2043      & 789       & Ashish    & 2011      & \\$49,546 & NA       \\\\\n",
       "\t 2025      & 789       & Ashish    & 2012      & \\$17,734 & NA       \\\\\n",
       "\t 2045      & 456       & Jane      & 2013      & \\$91,126 & NA       \\\\\n",
       "\t 2090      & 456       & Jane      & 2011      & \\$48,113 & NA       \\\\\n",
       "\t 2114      & 456       & Jane      & 2012      & \\$28,361 & NA       \\\\\n",
       "\t 2142      & 456       & Jane      & 2013      & \\$50,912 & NA       \\\\\n",
       "\t 2062      & 123       & John      & 2011      & \\$75,539 & NA       \\\\\n",
       "\t 2049      & 456       & Jane      & 2012      & \\$96,922 & NA       \\\\\n",
       "\t 2204      & 456       & Jane      & 2013      & \\$57,838 & NA       \\\\\n",
       "\t 2000      & 456       & Jane      & 2011      & \\$4,530  & NA       \\\\\n",
       "\t 2135      & 123       & John      & 2012      & \\$27,761 & NA       \\\\\n",
       "\t 2115      & 456       & Jane      & 2013      & \\$22,773 & NA       \\\\\n",
       "\t 2032      & 789       & Ashish    & 2011      & \\$98,780 & NA       \\\\\n",
       "\t 2068      & 456       & Jane      & 2012      & \\$66,044 & NA       \\\\\n",
       "\t 2119      & 789       & Ashish    & 2013      & \\$32,882 & NA       \\\\\n",
       "\t 2060      & 456       & Jane      & 2011      & \\$75,822 & NA       \\\\\n",
       "\t 2072      & 456       & Jane      & 2012      & \\$36,675 & NA       \\\\\n",
       "\t 2045      & 123       & John      & 2013      & \\$95,817 & NA       \\\\\n",
       "\t 2140      & 456       & Jane      & 2011      & \\$43,627 & NA       \\\\\n",
       "\t 2205      & 789       & Ashish    & 2012      & \\$93,306 & NA       \\\\\n",
       "\t 2060      & 123       & John      & 2013      & \\$71,322 & NA       \\\\\n",
       "\t ... & ... & ... & ... & ... & ...\\\\\n",
       "\t NA & NA &    & NA &    & NA\\\\\n",
       "\t NA & NA &    & NA &    & NA\\\\\n",
       "\t NA & NA &    & NA &    & NA\\\\\n",
       "\t NA & NA &    & NA &    & NA\\\\\n",
       "\t NA & NA &    & NA &    & NA\\\\\n",
       "\t NA & NA &    & NA &    & NA\\\\\n",
       "\t NA & NA &    & NA &    & NA\\\\\n",
       "\t NA & NA &    & NA &    & NA\\\\\n",
       "\t NA & NA &    & NA &    & NA\\\\\n",
       "\t NA & NA &    & NA &    & NA\\\\\n",
       "\t NA & NA &    & NA &    & NA\\\\\n",
       "\t NA & NA &    & NA &    & NA\\\\\n",
       "\t NA & NA &    & NA &    & NA\\\\\n",
       "\t NA & NA &    & NA &    & NA\\\\\n",
       "\t NA & NA &    & NA &    & NA\\\\\n",
       "\t NA & NA &    & NA &    & NA\\\\\n",
       "\t NA & NA &    & NA &    & NA\\\\\n",
       "\t NA & NA &    & NA &    & NA\\\\\n",
       "\t NA & NA &    & NA &    & NA\\\\\n",
       "\t NA & NA &    & NA &    & NA\\\\\n",
       "\t NA & NA &    & NA &    & NA\\\\\n",
       "\t NA & NA &    & NA &    & NA\\\\\n",
       "\t NA & NA &    & NA &    & NA\\\\\n",
       "\t NA & NA &    & NA &    & NA\\\\\n",
       "\t NA & NA &    & NA &    & NA\\\\\n",
       "\t NA & NA &    & NA &    & NA\\\\\n",
       "\t NA & NA &    & NA &    & NA\\\\\n",
       "\t NA & NA &    & NA &    & NA\\\\\n",
       "\t NA & NA &    & NA &    & NA\\\\\n",
       "\t NA & NA &    & NA &    & NA\\\\\n",
       "\\end{tabular}\n"
      ],
      "text/markdown": [
       "\n",
       "| Postcode | Sales_Rep_ID | Sales_Rep_Name | Year | Value | X |\n",
       "|---|---|---|---|---|---|\n",
       "| 2121    | 456     | Jane    | 2011    | $84,219 | NA      |\n",
       "| 2092    | 789     | Ashish  | 2012    | $28,322 | NA      |\n",
       "| 2128    | 456     | Jane    | 2013    | $81,879 | NA      |\n",
       "| 2073    | 123     | John    | 2011    | $44,491 | NA      |\n",
       "| 2134    | 789     | Ashish  | 2012    | $71,838 | NA      |\n",
       "| 2162    | 123     | John    | 2013    | $64,532 | NA      |\n",
       "| 2093    | 456     | Jane    | 2011    | $58,963 | NA      |\n",
       "| 2042    | 789     | Ashish  | 2012    | $27,522 | NA      |\n",
       "| 2198    | 123     | John    | 2013    | $77,985 | NA      |\n",
       "| 2043    | 789     | Ashish  | 2011    | $49,546 | NA      |\n",
       "| 2025    | 789     | Ashish  | 2012    | $17,734 | NA      |\n",
       "| 2045    | 456     | Jane    | 2013    | $91,126 | NA      |\n",
       "| 2090    | 456     | Jane    | 2011    | $48,113 | NA      |\n",
       "| 2114    | 456     | Jane    | 2012    | $28,361 | NA      |\n",
       "| 2142    | 456     | Jane    | 2013    | $50,912 | NA      |\n",
       "| 2062    | 123     | John    | 2011    | $75,539 | NA      |\n",
       "| 2049    | 456     | Jane    | 2012    | $96,922 | NA      |\n",
       "| 2204    | 456     | Jane    | 2013    | $57,838 | NA      |\n",
       "| 2000    | 456     | Jane    | 2011    | $4,530  | NA      |\n",
       "| 2135    | 123     | John    | 2012    | $27,761 | NA      |\n",
       "| 2115    | 456     | Jane    | 2013    | $22,773 | NA      |\n",
       "| 2032    | 789     | Ashish  | 2011    | $98,780 | NA      |\n",
       "| 2068    | 456     | Jane    | 2012    | $66,044 | NA      |\n",
       "| 2119    | 789     | Ashish  | 2013    | $32,882 | NA      |\n",
       "| 2060    | 456     | Jane    | 2011    | $75,822 | NA      |\n",
       "| 2072    | 456     | Jane    | 2012    | $36,675 | NA      |\n",
       "| 2045    | 123     | John    | 2013    | $95,817 | NA      |\n",
       "| 2140    | 456     | Jane    | 2011    | $43,627 | NA      |\n",
       "| 2205    | 789     | Ashish  | 2012    | $93,306 | NA      |\n",
       "| 2060    | 123     | John    | 2013    | $71,322 | NA      |\n",
       "| ... | ... | ... | ... | ... | ... |\n",
       "| NA | NA |    | NA |    | NA |\n",
       "| NA | NA |    | NA |    | NA |\n",
       "| NA | NA |    | NA |    | NA |\n",
       "| NA | NA |    | NA |    | NA |\n",
       "| NA | NA |    | NA |    | NA |\n",
       "| NA | NA |    | NA |    | NA |\n",
       "| NA | NA |    | NA |    | NA |\n",
       "| NA | NA |    | NA |    | NA |\n",
       "| NA | NA |    | NA |    | NA |\n",
       "| NA | NA |    | NA |    | NA |\n",
       "| NA | NA |    | NA |    | NA |\n",
       "| NA | NA |    | NA |    | NA |\n",
       "| NA | NA |    | NA |    | NA |\n",
       "| NA | NA |    | NA |    | NA |\n",
       "| NA | NA |    | NA |    | NA |\n",
       "| NA | NA |    | NA |    | NA |\n",
       "| NA | NA |    | NA |    | NA |\n",
       "| NA | NA |    | NA |    | NA |\n",
       "| NA | NA |    | NA |    | NA |\n",
       "| NA | NA |    | NA |    | NA |\n",
       "| NA | NA |    | NA |    | NA |\n",
       "| NA | NA |    | NA |    | NA |\n",
       "| NA | NA |    | NA |    | NA |\n",
       "| NA | NA |    | NA |    | NA |\n",
       "| NA | NA |    | NA |    | NA |\n",
       "| NA | NA |    | NA |    | NA |\n",
       "| NA | NA |    | NA |    | NA |\n",
       "| NA | NA |    | NA |    | NA |\n",
       "| NA | NA |    | NA |    | NA |\n",
       "| NA | NA |    | NA |    | NA |\n",
       "\n"
      ],
      "text/plain": [
       "    Postcode Sales_Rep_ID Sales_Rep_Name Year Value   X  \n",
       "1   2121     456          Jane           2011 $84,219 NA \n",
       "2   2092     789          Ashish         2012 $28,322 NA \n",
       "3   2128     456          Jane           2013 $81,879 NA \n",
       "4   2073     123          John           2011 $44,491 NA \n",
       "5   2134     789          Ashish         2012 $71,838 NA \n",
       "6   2162     123          John           2013 $64,532 NA \n",
       "7   2093     456          Jane           2011 $58,963 NA \n",
       "8   2042     789          Ashish         2012 $27,522 NA \n",
       "9   2198     123          John           2013 $77,985 NA \n",
       "10  2043     789          Ashish         2011 $49,546 NA \n",
       "11  2025     789          Ashish         2012 $17,734 NA \n",
       "12  2045     456          Jane           2013 $91,126 NA \n",
       "13  2090     456          Jane           2011 $48,113 NA \n",
       "14  2114     456          Jane           2012 $28,361 NA \n",
       "15  2142     456          Jane           2013 $50,912 NA \n",
       "16  2062     123          John           2011 $75,539 NA \n",
       "17  2049     456          Jane           2012 $96,922 NA \n",
       "18  2204     456          Jane           2013 $57,838 NA \n",
       "19  2000     456          Jane           2011 $4,530  NA \n",
       "20  2135     123          John           2012 $27,761 NA \n",
       "21  2115     456          Jane           2013 $22,773 NA \n",
       "22  2032     789          Ashish         2011 $98,780 NA \n",
       "23  2068     456          Jane           2012 $66,044 NA \n",
       "24  2119     789          Ashish         2013 $32,882 NA \n",
       "25  2060     456          Jane           2011 $75,822 NA \n",
       "26  2072     456          Jane           2012 $36,675 NA \n",
       "27  2045     123          John           2013 $95,817 NA \n",
       "28  2140     456          Jane           2011 $43,627 NA \n",
       "29  2205     789          Ashish         2012 $93,306 NA \n",
       "30  2060     123          John           2013 $71,322 NA \n",
       "... ...      ...          ...            ...  ...     ...\n",
       "970 NA       NA                          NA           NA \n",
       "971 NA       NA                          NA           NA \n",
       "972 NA       NA                          NA           NA \n",
       "973 NA       NA                          NA           NA \n",
       "974 NA       NA                          NA           NA \n",
       "975 NA       NA                          NA           NA \n",
       "976 NA       NA                          NA           NA \n",
       "977 NA       NA                          NA           NA \n",
       "978 NA       NA                          NA           NA \n",
       "979 NA       NA                          NA           NA \n",
       "980 NA       NA                          NA           NA \n",
       "981 NA       NA                          NA           NA \n",
       "982 NA       NA                          NA           NA \n",
       "983 NA       NA                          NA           NA \n",
       "984 NA       NA                          NA           NA \n",
       "985 NA       NA                          NA           NA \n",
       "986 NA       NA                          NA           NA \n",
       "987 NA       NA                          NA           NA \n",
       "988 NA       NA                          NA           NA \n",
       "989 NA       NA                          NA           NA \n",
       "990 NA       NA                          NA           NA \n",
       "991 NA       NA                          NA           NA \n",
       "992 NA       NA                          NA           NA \n",
       "993 NA       NA                          NA           NA \n",
       "994 NA       NA                          NA           NA \n",
       "995 NA       NA                          NA           NA \n",
       "996 NA       NA                          NA           NA \n",
       "997 NA       NA                          NA           NA \n",
       "998 NA       NA                          NA           NA \n",
       "999 NA       NA                          NA           NA "
      ]
     },
     "metadata": {},
     "output_type": "display_data"
    }
   ],
   "source": [
    "#Read the Sample-sales data.excel file and display the top 10 rows.\n",
    "data2=read.csv(\"Sample-Sales-Data.csv\")\n",
    "data2"
   ]
  },
  {
   "cell_type": "code",
   "execution_count": null,
   "id": "02f0f3df",
   "metadata": {},
   "outputs": [],
   "source": []
  },
  {
   "cell_type": "code",
   "execution_count": null,
   "id": "5bd4be9b",
   "metadata": {},
   "outputs": [],
   "source": []
  }
 ],
 "metadata": {
  "kernelspec": {
   "display_name": "R",
   "language": "R",
   "name": "ir"
  },
  "language_info": {
   "codemirror_mode": "r",
   "file_extension": ".r",
   "mimetype": "text/x-r-source",
   "name": "R",
   "pygments_lexer": "r",
   "version": "3.6.1"
  }
 },
 "nbformat": 4,
 "nbformat_minor": 5
}
