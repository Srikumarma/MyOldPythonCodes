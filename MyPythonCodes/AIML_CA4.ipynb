{
 "cells": [
  {
   "cell_type": "code",
   "execution_count": 2,
   "id": "4041667a",
   "metadata": {},
   "outputs": [],
   "source": [
    "import numpy as np\n",
    "import pandas as pd\n",
    "from sklearn.model_selection import train_test_split \n",
    "from sklearn.preprocessing import StandardScaler  \n",
    "from sklearn.tree import DecisionTreeClassifier \n",
    "from six import StringIO\n",
    "from IPython.display import Image  \n",
    "from sklearn.tree import export_graphviz\n",
    "import pydotplus\n",
    "from sklearn import metrics\n",
    "from sklearn.ensemble import RandomForestClassifier  \n",
    "from sklearn.neighbors import KNeighborsClassifier\n",
    "from sklearn import preprocessing\n",
    "from sklearn import linear_model\n",
    "import re\n",
    "from collections import Counter\n",
    "import seaborn as sns\n",
    "import matplotlib.pyplot as mlt"
   ]
  },
  {
   "cell_type": "code",
   "execution_count": 3,
   "id": "1518da56",
   "metadata": {},
   "outputs": [],
   "source": [
    "df= pd.read_csv('Cancer_dm.csv')"
   ]
  },
  {
   "cell_type": "code",
   "execution_count": 4,
   "id": "0a6cbf6d",
   "metadata": {},
   "outputs": [
    {
     "data": {
      "text/html": [
       "<div>\n",
       "<style scoped>\n",
       "    .dataframe tbody tr th:only-of-type {\n",
       "        vertical-align: middle;\n",
       "    }\n",
       "\n",
       "    .dataframe tbody tr th {\n",
       "        vertical-align: top;\n",
       "    }\n",
       "\n",
       "    .dataframe thead th {\n",
       "        text-align: right;\n",
       "    }\n",
       "</style>\n",
       "<table border=\"1\" class=\"dataframe\">\n",
       "  <thead>\n",
       "    <tr style=\"text-align: right;\">\n",
       "      <th></th>\n",
       "      <th>Patient ID #</th>\n",
       "      <th>Sample ID #</th>\n",
       "      <th>Tumor type</th>\n",
       "      <th>AJCC Stage</th>\n",
       "      <th>AFP (pg/ml)</th>\n",
       "      <th>Angiopoietin-2 (pg/ml)</th>\n",
       "      <th>AXL (pg/ml)</th>\n",
       "      <th>CA-125 (U/ml)</th>\n",
       "      <th>CA 15-3 (U/ml)</th>\n",
       "      <th>CA19-9 (U/ml)</th>\n",
       "      <th>...</th>\n",
       "      <th>sFas (pg/ml)</th>\n",
       "      <th>SHBG (nM)</th>\n",
       "      <th>sHER2/sEGFR2/sErbB2 (pg/ml)</th>\n",
       "      <th>sPECAM-1 (pg/ml)</th>\n",
       "      <th>TGFa (pg/ml)</th>\n",
       "      <th>Thrombospondin-2 (pg/ml)</th>\n",
       "      <th>TIMP-1 (pg/ml)</th>\n",
       "      <th>TIMP-2 (pg/ml)</th>\n",
       "      <th>CancerSEEK Logistic Regression Score</th>\n",
       "      <th>CancerSEEK Test Result</th>\n",
       "    </tr>\n",
       "  </thead>\n",
       "  <tbody>\n",
       "    <tr>\n",
       "      <th>0</th>\n",
       "      <td>CRC 455</td>\n",
       "      <td>CRC 455 PLS 1</td>\n",
       "      <td>Colorectum</td>\n",
       "      <td>I</td>\n",
       "      <td>1583.45</td>\n",
       "      <td>5598.50</td>\n",
       "      <td>3621.04</td>\n",
       "      <td>5.09</td>\n",
       "      <td>19.08</td>\n",
       "      <td>*16.452</td>\n",
       "      <td>...</td>\n",
       "      <td>*204.792</td>\n",
       "      <td>55.06</td>\n",
       "      <td>6832.07</td>\n",
       "      <td>9368.53</td>\n",
       "      <td>*16.086</td>\n",
       "      <td>21863.74</td>\n",
       "      <td>56428.71</td>\n",
       "      <td>39498.82</td>\n",
       "      <td>0.938</td>\n",
       "      <td>Positive</td>\n",
       "    </tr>\n",
       "    <tr>\n",
       "      <th>1</th>\n",
       "      <td>CRC 456</td>\n",
       "      <td>CRC 456 PLS 1</td>\n",
       "      <td>Colorectum</td>\n",
       "      <td>I</td>\n",
       "      <td>*715.308</td>\n",
       "      <td>20936.35</td>\n",
       "      <td>2772.96</td>\n",
       "      <td>7.27</td>\n",
       "      <td>10.04</td>\n",
       "      <td>40.91</td>\n",
       "      <td>...</td>\n",
       "      <td>*204.792</td>\n",
       "      <td>72.92</td>\n",
       "      <td>5549.47</td>\n",
       "      <td>6224.55</td>\n",
       "      <td>*16.086</td>\n",
       "      <td>29669.66</td>\n",
       "      <td>73940.49</td>\n",
       "      <td>41277.09</td>\n",
       "      <td>0.925</td>\n",
       "      <td>Positive</td>\n",
       "    </tr>\n",
       "    <tr>\n",
       "      <th>2</th>\n",
       "      <td>CRC 457</td>\n",
       "      <td>CRC 457 PLS 1</td>\n",
       "      <td>Colorectum</td>\n",
       "      <td>II</td>\n",
       "      <td>4365.53</td>\n",
       "      <td>2350.93</td>\n",
       "      <td>4120.77</td>\n",
       "      <td>*4.854</td>\n",
       "      <td>16.96</td>\n",
       "      <td>*16.452</td>\n",
       "      <td>...</td>\n",
       "      <td>*204.792</td>\n",
       "      <td>173.78</td>\n",
       "      <td>3698.16</td>\n",
       "      <td>4046.48</td>\n",
       "      <td>179.03</td>\n",
       "      <td>6020.47</td>\n",
       "      <td>22797.28</td>\n",
       "      <td>28440.60</td>\n",
       "      <td>0.852</td>\n",
       "      <td>Negative</td>\n",
       "    </tr>\n",
       "    <tr>\n",
       "      <th>3</th>\n",
       "      <td>CRC 458</td>\n",
       "      <td>CRC 458 PLS 1</td>\n",
       "      <td>Colorectum</td>\n",
       "      <td>II</td>\n",
       "      <td>*715.308</td>\n",
       "      <td>1604.34</td>\n",
       "      <td>2029.96</td>\n",
       "      <td>5.39</td>\n",
       "      <td>8.31</td>\n",
       "      <td>*16.452</td>\n",
       "      <td>...</td>\n",
       "      <td>*204.792</td>\n",
       "      <td>29.47</td>\n",
       "      <td>5856</td>\n",
       "      <td>6121.93</td>\n",
       "      <td>*16.086</td>\n",
       "      <td>4331.02</td>\n",
       "      <td>20441.19</td>\n",
       "      <td>25896.73</td>\n",
       "      <td>0.618</td>\n",
       "      <td>Negative</td>\n",
       "    </tr>\n",
       "    <tr>\n",
       "      <th>4</th>\n",
       "      <td>CRC 459</td>\n",
       "      <td>CRC 459 PLS 1</td>\n",
       "      <td>Colorectum</td>\n",
       "      <td>II</td>\n",
       "      <td>801.3</td>\n",
       "      <td>2087.57</td>\n",
       "      <td>2069.17</td>\n",
       "      <td>*4.854</td>\n",
       "      <td>11.73</td>\n",
       "      <td>*16.452</td>\n",
       "      <td>...</td>\n",
       "      <td>*204.792</td>\n",
       "      <td>78.07</td>\n",
       "      <td>5447.93</td>\n",
       "      <td>6982.32</td>\n",
       "      <td>*16.086</td>\n",
       "      <td>2311.91</td>\n",
       "      <td>56288.51</td>\n",
       "      <td>49425.20</td>\n",
       "      <td>0.318</td>\n",
       "      <td>Negative</td>\n",
       "    </tr>\n",
       "  </tbody>\n",
       "</table>\n",
       "<p>5 rows × 45 columns</p>\n",
       "</div>"
      ],
      "text/plain": [
       "  Patient ID #    Sample ID #  Tumor type AJCC Stage AFP (pg/ml)  \\\n",
       "0      CRC 455  CRC 455 PLS 1  Colorectum          I     1583.45   \n",
       "1      CRC 456  CRC 456 PLS 1  Colorectum          I    *715.308   \n",
       "2      CRC 457  CRC 457 PLS 1  Colorectum         II     4365.53   \n",
       "3      CRC 458  CRC 458 PLS 1  Colorectum         II    *715.308   \n",
       "4      CRC 459  CRC 459 PLS 1  Colorectum         II       801.3   \n",
       "\n",
       "  Angiopoietin-2 (pg/ml)  AXL (pg/ml) CA-125 (U/ml) CA 15-3 (U/ml)  \\\n",
       "0                5598.50      3621.04          5.09          19.08   \n",
       "1               20936.35      2772.96          7.27          10.04   \n",
       "2                2350.93      4120.77        *4.854          16.96   \n",
       "3                1604.34      2029.96          5.39           8.31   \n",
       "4                2087.57      2069.17        *4.854          11.73   \n",
       "\n",
       "  CA19-9 (U/ml)  ... sFas (pg/ml) SHBG (nM) sHER2/sEGFR2/sErbB2 (pg/ml)  \\\n",
       "0       *16.452  ...     *204.792     55.06                     6832.07   \n",
       "1         40.91  ...     *204.792     72.92                     5549.47   \n",
       "2       *16.452  ...     *204.792    173.78                     3698.16   \n",
       "3       *16.452  ...     *204.792     29.47                        5856   \n",
       "4       *16.452  ...     *204.792     78.07                     5447.93   \n",
       "\n",
       "  sPECAM-1 (pg/ml) TGFa (pg/ml) Thrombospondin-2 (pg/ml) TIMP-1 (pg/ml)  \\\n",
       "0          9368.53      *16.086                 21863.74       56428.71   \n",
       "1          6224.55      *16.086                 29669.66       73940.49   \n",
       "2          4046.48       179.03                  6020.47       22797.28   \n",
       "3          6121.93      *16.086                  4331.02       20441.19   \n",
       "4          6982.32      *16.086                  2311.91       56288.51   \n",
       "\n",
       "  TIMP-2 (pg/ml) CancerSEEK Logistic Regression Score CancerSEEK Test Result  \n",
       "0       39498.82                                0.938               Positive  \n",
       "1       41277.09                                0.925               Positive  \n",
       "2       28440.60                                0.852               Negative  \n",
       "3       25896.73                                0.618               Negative  \n",
       "4       49425.20                                0.318               Negative  \n",
       "\n",
       "[5 rows x 45 columns]"
      ]
     },
     "execution_count": 4,
     "metadata": {},
     "output_type": "execute_result"
    }
   ],
   "source": [
    "df.head()"
   ]
  },
  {
   "cell_type": "code",
   "execution_count": 6,
   "id": "93168038",
   "metadata": {},
   "outputs": [
    {
     "data": {
      "text/plain": [
       "(1817, 45)"
      ]
     },
     "execution_count": 6,
     "metadata": {},
     "output_type": "execute_result"
    }
   ],
   "source": [
    "df.shape"
   ]
  },
  {
   "cell_type": "code",
   "execution_count": 7,
   "id": "93e4a29c",
   "metadata": {},
   "outputs": [
    {
     "data": {
      "text/plain": [
       "880"
      ]
     },
     "execution_count": 7,
     "metadata": {},
     "output_type": "execute_result"
    }
   ],
   "source": [
    "df.isna().sum().sum()"
   ]
  },
  {
   "cell_type": "code",
   "execution_count": 8,
   "id": "2ea60be1",
   "metadata": {},
   "outputs": [],
   "source": [
    "df = df[df.iloc[:,2] != 'Normal']"
   ]
  },
  {
   "cell_type": "code",
   "execution_count": 9,
   "id": "c18376d1",
   "metadata": {},
   "outputs": [
    {
     "data": {
      "text/plain": [
       "1"
      ]
     },
     "execution_count": 9,
     "metadata": {},
     "output_type": "execute_result"
    }
   ],
   "source": [
    "df.isna().sum().sum()"
   ]
  },
  {
   "cell_type": "code",
   "execution_count": 10,
   "id": "93e5d79b",
   "metadata": {},
   "outputs": [
    {
     "data": {
      "text/plain": [
       "Index(['Patient ID #', 'Sample ID #', 'Tumor type', 'AJCC Stage',\n",
       "       'AFP (pg/ml)', 'Angiopoietin-2 (pg/ml)', 'AXL (pg/ml)', 'CA-125 (U/ml)',\n",
       "       'CA 15-3 (U/ml)', 'CA19-9 (U/ml)', 'CD44 (ng/ml)', 'CEA (pg/ml)',\n",
       "       'CYFRA 21-1 (pg/ml)', 'DKK1 (ng/ml)', 'Endoglin (pg/ml)',\n",
       "       'FGF2 (pg/ml)', 'Follistatin (pg/ml)', 'Galectin-3 (ng/ml)',\n",
       "       'G-CSF (pg/ml)', 'GDF15 (ng/ml)', 'HE4 (pg/ml)', 'HGF (pg/ml)',\n",
       "       'IL-6 (pg/ml)', 'IL-8 (pg/ml)', 'Kallikrein-6 (pg/ml)',\n",
       "       'Leptin (pg/ml)', 'Mesothelin (ng/ml)', 'Midkine (pg/ml)',\n",
       "       'Myeloperoxidase (ng/ml)', 'NSE (ng/ml)', 'OPG (ng/ml)', 'OPN (pg/ml)',\n",
       "       'PAR (pg/ml)', 'Prolactin (pg/ml)', 'sEGFR (pg/ml)', 'sFas (pg/ml)',\n",
       "       'SHBG (nM)', 'sHER2/sEGFR2/sErbB2 (pg/ml)', 'sPECAM-1 (pg/ml)',\n",
       "       'TGFa (pg/ml)', 'Thrombospondin-2 (pg/ml)', 'TIMP-1 (pg/ml)',\n",
       "       'TIMP-2 (pg/ml)', 'CancerSEEK Logistic Regression Score',\n",
       "       'CancerSEEK Test Result'],\n",
       "      dtype='object')"
      ]
     },
     "execution_count": 10,
     "metadata": {},
     "output_type": "execute_result"
    }
   ],
   "source": [
    "df.columns"
   ]
  },
  {
   "cell_type": "code",
   "execution_count": 12,
   "id": "19e07501",
   "metadata": {},
   "outputs": [
    {
     "name": "stderr",
     "output_type": "stream",
     "text": [
      "C:\\Users\\sriku\\AppData\\Local\\Temp/ipykernel_17296/2313466340.py:1: SettingWithCopyWarning: \n",
      "A value is trying to be set on a copy of a slice from a DataFrame\n",
      "\n",
      "See the caveats in the documentation: https://pandas.pydata.org/pandas-docs/stable/user_guide/indexing.html#returning-a-view-versus-a-copy\n",
      "  df.rename(columns = {'AFP (pg/ml)':'AFP_(pg/ml)', 'CA-125 (U/ml)':'CA-125_(U/ml)',\n"
     ]
    }
   ],
   "source": [
    "df.rename(columns = {'AFP (pg/ml)':'AFP_(pg/ml)', 'CA-125 (U/ml)':'CA-125_(U/ml)',\n",
    "                              'CA 15-3 (U/ml)':'CA_15-3_(U/ml)','CA19-9 (U/ml)':'CA19-9_(U/ml)',\n",
    "                              'CEA (pg/ml)':'CEA_(pg/ml)','HGF (pg/ml)':'HGF_(pg/ml)',\n",
    "                             'OPN (pg/ml)':'OPN_(pg/ml)','Prolactin (pg/ml)':'Prolactin_(pg/ml)','TIMP-1 (pg/ml)':'TIMP-1_(pg/ml)',\n",
    "                     'Tumor type':'Tumor_type','Patient ID #':'Patient_ID','Sample ID #':'Sample_ID',\n",
    "                     'CancerSEEK Logistic Regression Score':'CancerSEEK_Logistic_Regression_Score',\n",
    "                     'CancerSEEK Test Result':'CancerSEEK_Test_Result','AJCC Stage':'AJCC_Stage'}, inplace = True)"
   ]
  },
  {
   "cell_type": "code",
   "execution_count": 13,
   "id": "ac9e0448",
   "metadata": {},
   "outputs": [
    {
     "data": {
      "text/plain": [
       "1"
      ]
     },
     "execution_count": 13,
     "metadata": {},
     "output_type": "execute_result"
    }
   ],
   "source": [
    "df.isna().sum().sum()"
   ]
  },
  {
   "cell_type": "code",
   "execution_count": 14,
   "id": "2eb79b7f",
   "metadata": {},
   "outputs": [],
   "source": [
    "df1 = df[[\"Tumor_type\",\"AFP_(pg/ml)\", \"CA-125_(U/ml)\",\"CA_15-3_(U/ml)\",\"CA19-9_(U/ml)\",\"CEA_(pg/ml)\",\"HGF_(pg/ml)\",\"OPN_(pg/ml)\",\"Prolactin_(pg/ml)\",\"TIMP-1_(pg/ml)\",\"CancerSEEK_Test_Result\"]]"
   ]
  },
  {
   "cell_type": "code",
   "execution_count": 15,
   "id": "e5aaca09",
   "metadata": {},
   "outputs": [
    {
     "data": {
      "text/html": [
       "<div>\n",
       "<style scoped>\n",
       "    .dataframe tbody tr th:only-of-type {\n",
       "        vertical-align: middle;\n",
       "    }\n",
       "\n",
       "    .dataframe tbody tr th {\n",
       "        vertical-align: top;\n",
       "    }\n",
       "\n",
       "    .dataframe thead th {\n",
       "        text-align: right;\n",
       "    }\n",
       "</style>\n",
       "<table border=\"1\" class=\"dataframe\">\n",
       "  <thead>\n",
       "    <tr style=\"text-align: right;\">\n",
       "      <th></th>\n",
       "      <th>Tumor_type</th>\n",
       "      <th>AFP_(pg/ml)</th>\n",
       "      <th>CA-125_(U/ml)</th>\n",
       "      <th>CA_15-3_(U/ml)</th>\n",
       "      <th>CA19-9_(U/ml)</th>\n",
       "      <th>CEA_(pg/ml)</th>\n",
       "      <th>HGF_(pg/ml)</th>\n",
       "      <th>OPN_(pg/ml)</th>\n",
       "      <th>Prolactin_(pg/ml)</th>\n",
       "      <th>TIMP-1_(pg/ml)</th>\n",
       "      <th>CancerSEEK_Test_Result</th>\n",
       "    </tr>\n",
       "  </thead>\n",
       "  <tbody>\n",
       "    <tr>\n",
       "      <th>0</th>\n",
       "      <td>Colorectum</td>\n",
       "      <td>1583.45</td>\n",
       "      <td>5.09</td>\n",
       "      <td>19.08</td>\n",
       "      <td>*16.452</td>\n",
       "      <td>540.1</td>\n",
       "      <td>377.26</td>\n",
       "      <td>56516.58</td>\n",
       "      <td>11606.6</td>\n",
       "      <td>56428.71</td>\n",
       "      <td>Positive</td>\n",
       "    </tr>\n",
       "    <tr>\n",
       "      <th>1</th>\n",
       "      <td>Colorectum</td>\n",
       "      <td>*715.308</td>\n",
       "      <td>7.27</td>\n",
       "      <td>10.04</td>\n",
       "      <td>40.91</td>\n",
       "      <td>5,902.4</td>\n",
       "      <td>659.68</td>\n",
       "      <td>61001.39</td>\n",
       "      <td>14374.99</td>\n",
       "      <td>73940.49</td>\n",
       "      <td>Positive</td>\n",
       "    </tr>\n",
       "    <tr>\n",
       "      <th>2</th>\n",
       "      <td>Colorectum</td>\n",
       "      <td>4365.53</td>\n",
       "      <td>*4.854</td>\n",
       "      <td>16.96</td>\n",
       "      <td>*16.452</td>\n",
       "      <td>973.8</td>\n",
       "      <td>329.07</td>\n",
       "      <td>88896.24</td>\n",
       "      <td>38375</td>\n",
       "      <td>22797.28</td>\n",
       "      <td>Negative</td>\n",
       "    </tr>\n",
       "    <tr>\n",
       "      <th>3</th>\n",
       "      <td>Colorectum</td>\n",
       "      <td>*715.308</td>\n",
       "      <td>5.39</td>\n",
       "      <td>8.31</td>\n",
       "      <td>*16.452</td>\n",
       "      <td>2,027.5</td>\n",
       "      <td>266.66</td>\n",
       "      <td>42549.61</td>\n",
       "      <td>12072.51</td>\n",
       "      <td>20441.19</td>\n",
       "      <td>Negative</td>\n",
       "    </tr>\n",
       "    <tr>\n",
       "      <th>4</th>\n",
       "      <td>Colorectum</td>\n",
       "      <td>801.3</td>\n",
       "      <td>*4.854</td>\n",
       "      <td>11.73</td>\n",
       "      <td>*16.452</td>\n",
       "      <td>614.5</td>\n",
       "      <td>370.88</td>\n",
       "      <td>24274.11</td>\n",
       "      <td>23718.17</td>\n",
       "      <td>56288.51</td>\n",
       "      <td>Negative</td>\n",
       "    </tr>\n",
       "  </tbody>\n",
       "</table>\n",
       "</div>"
      ],
      "text/plain": [
       "   Tumor_type AFP_(pg/ml) CA-125_(U/ml) CA_15-3_(U/ml) CA19-9_(U/ml)  \\\n",
       "0  Colorectum     1583.45          5.09          19.08       *16.452   \n",
       "1  Colorectum    *715.308          7.27          10.04         40.91   \n",
       "2  Colorectum     4365.53        *4.854          16.96       *16.452   \n",
       "3  Colorectum    *715.308          5.39           8.31       *16.452   \n",
       "4  Colorectum       801.3        *4.854          11.73       *16.452   \n",
       "\n",
       "  CEA_(pg/ml) HGF_(pg/ml) OPN_(pg/ml) Prolactin_(pg/ml) TIMP-1_(pg/ml)  \\\n",
       "0       540.1      377.26    56516.58           11606.6       56428.71   \n",
       "1     5,902.4      659.68    61001.39          14374.99       73940.49   \n",
       "2       973.8      329.07    88896.24             38375       22797.28   \n",
       "3     2,027.5      266.66    42549.61          12072.51       20441.19   \n",
       "4       614.5      370.88    24274.11          23718.17       56288.51   \n",
       "\n",
       "  CancerSEEK_Test_Result  \n",
       "0               Positive  \n",
       "1               Positive  \n",
       "2               Negative  \n",
       "3               Negative  \n",
       "4               Negative  "
      ]
     },
     "execution_count": 15,
     "metadata": {},
     "output_type": "execute_result"
    }
   ],
   "source": [
    "df1.head()"
   ]
  },
  {
   "cell_type": "code",
   "execution_count": 16,
   "id": "97fa3415",
   "metadata": {},
   "outputs": [
    {
     "data": {
      "text/plain": [
       "0"
      ]
     },
     "execution_count": 16,
     "metadata": {},
     "output_type": "execute_result"
    }
   ],
   "source": [
    "df1.isna().sum().sum()"
   ]
  },
  {
   "cell_type": "code",
   "execution_count": 17,
   "id": "209029a6",
   "metadata": {},
   "outputs": [
    {
     "name": "stderr",
     "output_type": "stream",
     "text": [
      "C:\\Users\\sriku\\AppData\\Local\\Temp/ipykernel_17296/774541352.py:1: SettingWithCopyWarning: \n",
      "A value is trying to be set on a copy of a slice from a DataFrame.\n",
      "Try using .loc[row_indexer,col_indexer] = value instead\n",
      "\n",
      "See the caveats in the documentation: https://pandas.pydata.org/pandas-docs/stable/user_guide/indexing.html#returning-a-view-versus-a-copy\n",
      "  df1['AFP_(pg/ml)']=[re.sub(\"[*]\", \"\", x).strip() for x in df1[\"AFP_(pg/ml)\"]]\n",
      "C:\\Users\\sriku\\AppData\\Local\\Temp/ipykernel_17296/774541352.py:2: SettingWithCopyWarning: \n",
      "A value is trying to be set on a copy of a slice from a DataFrame.\n",
      "Try using .loc[row_indexer,col_indexer] = value instead\n",
      "\n",
      "See the caveats in the documentation: https://pandas.pydata.org/pandas-docs/stable/user_guide/indexing.html#returning-a-view-versus-a-copy\n",
      "  df1['CA-125_(U/ml)']=[re.sub(\"[*]\", \"\", x).strip() for x in df1[\"CA-125_(U/ml)\"]]\n",
      "C:\\Users\\sriku\\AppData\\Local\\Temp/ipykernel_17296/774541352.py:3: SettingWithCopyWarning: \n",
      "A value is trying to be set on a copy of a slice from a DataFrame.\n",
      "Try using .loc[row_indexer,col_indexer] = value instead\n",
      "\n",
      "See the caveats in the documentation: https://pandas.pydata.org/pandas-docs/stable/user_guide/indexing.html#returning-a-view-versus-a-copy\n",
      "  df1['CA_15-3_(U/ml)']=[re.sub(\"[*]\", \"\", x).strip() for x in df1[\"CA_15-3_(U/ml)\"]]\n",
      "C:\\Users\\sriku\\AppData\\Local\\Temp/ipykernel_17296/774541352.py:4: SettingWithCopyWarning: \n",
      "A value is trying to be set on a copy of a slice from a DataFrame.\n",
      "Try using .loc[row_indexer,col_indexer] = value instead\n",
      "\n",
      "See the caveats in the documentation: https://pandas.pydata.org/pandas-docs/stable/user_guide/indexing.html#returning-a-view-versus-a-copy\n",
      "  df1['CA19-9_(U/ml)']=[re.sub(\"[*]\", \"\", x).strip() for x in df1[\"CA19-9_(U/ml)\"]]\n",
      "C:\\Users\\sriku\\AppData\\Local\\Temp/ipykernel_17296/774541352.py:5: SettingWithCopyWarning: \n",
      "A value is trying to be set on a copy of a slice from a DataFrame.\n",
      "Try using .loc[row_indexer,col_indexer] = value instead\n",
      "\n",
      "See the caveats in the documentation: https://pandas.pydata.org/pandas-docs/stable/user_guide/indexing.html#returning-a-view-versus-a-copy\n",
      "  df1['CEA_(pg/ml)']=[re.sub(\"[*,]\", \"\", x).strip() for x in df1[\"CEA_(pg/ml)\"]]\n",
      "C:\\Users\\sriku\\AppData\\Local\\Temp/ipykernel_17296/774541352.py:6: SettingWithCopyWarning: \n",
      "A value is trying to be set on a copy of a slice from a DataFrame.\n",
      "Try using .loc[row_indexer,col_indexer] = value instead\n",
      "\n",
      "See the caveats in the documentation: https://pandas.pydata.org/pandas-docs/stable/user_guide/indexing.html#returning-a-view-versus-a-copy\n",
      "  df1['HGF_(pg/ml)']=[re.sub(\"[*]\", \"\", x).strip() for x in df1[\"HGF_(pg/ml)\"]]\n",
      "C:\\Users\\sriku\\AppData\\Local\\Temp/ipykernel_17296/774541352.py:7: SettingWithCopyWarning: \n",
      "A value is trying to be set on a copy of a slice from a DataFrame.\n",
      "Try using .loc[row_indexer,col_indexer] = value instead\n",
      "\n",
      "See the caveats in the documentation: https://pandas.pydata.org/pandas-docs/stable/user_guide/indexing.html#returning-a-view-versus-a-copy\n",
      "  df1['OPN_(pg/ml)']=[re.sub(\"[*]\", \"\", x).strip() for x in df1[\"OPN_(pg/ml)\"]]\n",
      "C:\\Users\\sriku\\AppData\\Local\\Temp/ipykernel_17296/774541352.py:8: SettingWithCopyWarning: \n",
      "A value is trying to be set on a copy of a slice from a DataFrame.\n",
      "Try using .loc[row_indexer,col_indexer] = value instead\n",
      "\n",
      "See the caveats in the documentation: https://pandas.pydata.org/pandas-docs/stable/user_guide/indexing.html#returning-a-view-versus-a-copy\n",
      "  df1['Prolactin_(pg/ml)']=[re.sub(\"[*]\", \"\", x).strip() for x in df1[\"Prolactin_(pg/ml)\"]]\n",
      "C:\\Users\\sriku\\AppData\\Local\\Temp/ipykernel_17296/774541352.py:9: SettingWithCopyWarning: \n",
      "A value is trying to be set on a copy of a slice from a DataFrame.\n",
      "Try using .loc[row_indexer,col_indexer] = value instead\n",
      "\n",
      "See the caveats in the documentation: https://pandas.pydata.org/pandas-docs/stable/user_guide/indexing.html#returning-a-view-versus-a-copy\n",
      "  df1['TIMP-1_(pg/ml)']=[re.sub(\"[*]\", \"\", x).strip() for x in df1[\"TIMP-1_(pg/ml)\"]]\n"
     ]
    }
   ],
   "source": [
    "df1['AFP_(pg/ml)']=[re.sub(\"[*]\", \"\", x).strip() for x in df1[\"AFP_(pg/ml)\"]]\n",
    "df1['CA-125_(U/ml)']=[re.sub(\"[*]\", \"\", x).strip() for x in df1[\"CA-125_(U/ml)\"]]\n",
    "df1['CA_15-3_(U/ml)']=[re.sub(\"[*]\", \"\", x).strip() for x in df1[\"CA_15-3_(U/ml)\"]]\n",
    "df1['CA19-9_(U/ml)']=[re.sub(\"[*]\", \"\", x).strip() for x in df1[\"CA19-9_(U/ml)\"]]\n",
    "df1['CEA_(pg/ml)']=[re.sub(\"[*,]\", \"\", x).strip() for x in df1[\"CEA_(pg/ml)\"]]\n",
    "df1['HGF_(pg/ml)']=[re.sub(\"[*]\", \"\", x).strip() for x in df1[\"HGF_(pg/ml)\"]]\n",
    "df1['OPN_(pg/ml)']=[re.sub(\"[*]\", \"\", x).strip() for x in df1[\"OPN_(pg/ml)\"]]\n",
    "df1['Prolactin_(pg/ml)']=[re.sub(\"[*]\", \"\", x).strip() for x in df1[\"Prolactin_(pg/ml)\"]]\n",
    "df1['TIMP-1_(pg/ml)']=[re.sub(\"[*]\", \"\", x).strip() for x in df1[\"TIMP-1_(pg/ml)\"]]"
   ]
  },
  {
   "cell_type": "code",
   "execution_count": 18,
   "id": "a9b6faf8",
   "metadata": {},
   "outputs": [
    {
     "data": {
      "text/html": [
       "<div>\n",
       "<style scoped>\n",
       "    .dataframe tbody tr th:only-of-type {\n",
       "        vertical-align: middle;\n",
       "    }\n",
       "\n",
       "    .dataframe tbody tr th {\n",
       "        vertical-align: top;\n",
       "    }\n",
       "\n",
       "    .dataframe thead th {\n",
       "        text-align: right;\n",
       "    }\n",
       "</style>\n",
       "<table border=\"1\" class=\"dataframe\">\n",
       "  <thead>\n",
       "    <tr style=\"text-align: right;\">\n",
       "      <th></th>\n",
       "      <th>Tumor_type</th>\n",
       "      <th>AFP_(pg/ml)</th>\n",
       "      <th>CA-125_(U/ml)</th>\n",
       "      <th>CA_15-3_(U/ml)</th>\n",
       "      <th>CA19-9_(U/ml)</th>\n",
       "      <th>CEA_(pg/ml)</th>\n",
       "      <th>HGF_(pg/ml)</th>\n",
       "      <th>OPN_(pg/ml)</th>\n",
       "      <th>Prolactin_(pg/ml)</th>\n",
       "      <th>TIMP-1_(pg/ml)</th>\n",
       "      <th>CancerSEEK_Test_Result</th>\n",
       "    </tr>\n",
       "  </thead>\n",
       "  <tbody>\n",
       "    <tr>\n",
       "      <th>0</th>\n",
       "      <td>Colorectum</td>\n",
       "      <td>1583.45</td>\n",
       "      <td>5.09</td>\n",
       "      <td>19.08</td>\n",
       "      <td>16.452</td>\n",
       "      <td>540.1</td>\n",
       "      <td>377.26</td>\n",
       "      <td>56516.58</td>\n",
       "      <td>11606.6</td>\n",
       "      <td>56428.71</td>\n",
       "      <td>Positive</td>\n",
       "    </tr>\n",
       "    <tr>\n",
       "      <th>1</th>\n",
       "      <td>Colorectum</td>\n",
       "      <td>715.308</td>\n",
       "      <td>7.27</td>\n",
       "      <td>10.04</td>\n",
       "      <td>40.91</td>\n",
       "      <td>5902.4</td>\n",
       "      <td>659.68</td>\n",
       "      <td>61001.39</td>\n",
       "      <td>14374.99</td>\n",
       "      <td>73940.49</td>\n",
       "      <td>Positive</td>\n",
       "    </tr>\n",
       "    <tr>\n",
       "      <th>2</th>\n",
       "      <td>Colorectum</td>\n",
       "      <td>4365.53</td>\n",
       "      <td>4.854</td>\n",
       "      <td>16.96</td>\n",
       "      <td>16.452</td>\n",
       "      <td>973.8</td>\n",
       "      <td>329.07</td>\n",
       "      <td>88896.24</td>\n",
       "      <td>38375</td>\n",
       "      <td>22797.28</td>\n",
       "      <td>Negative</td>\n",
       "    </tr>\n",
       "    <tr>\n",
       "      <th>3</th>\n",
       "      <td>Colorectum</td>\n",
       "      <td>715.308</td>\n",
       "      <td>5.39</td>\n",
       "      <td>8.31</td>\n",
       "      <td>16.452</td>\n",
       "      <td>2027.5</td>\n",
       "      <td>266.66</td>\n",
       "      <td>42549.61</td>\n",
       "      <td>12072.51</td>\n",
       "      <td>20441.19</td>\n",
       "      <td>Negative</td>\n",
       "    </tr>\n",
       "    <tr>\n",
       "      <th>4</th>\n",
       "      <td>Colorectum</td>\n",
       "      <td>801.3</td>\n",
       "      <td>4.854</td>\n",
       "      <td>11.73</td>\n",
       "      <td>16.452</td>\n",
       "      <td>614.5</td>\n",
       "      <td>370.88</td>\n",
       "      <td>24274.11</td>\n",
       "      <td>23718.17</td>\n",
       "      <td>56288.51</td>\n",
       "      <td>Negative</td>\n",
       "    </tr>\n",
       "    <tr>\n",
       "      <th>...</th>\n",
       "      <td>...</td>\n",
       "      <td>...</td>\n",
       "      <td>...</td>\n",
       "      <td>...</td>\n",
       "      <td>...</td>\n",
       "      <td>...</td>\n",
       "      <td>...</td>\n",
       "      <td>...</td>\n",
       "      <td>...</td>\n",
       "      <td>...</td>\n",
       "      <td>...</td>\n",
       "    </tr>\n",
       "    <tr>\n",
       "      <th>1812</th>\n",
       "      <td>Ovary</td>\n",
       "      <td>879.498</td>\n",
       "      <td>24.82</td>\n",
       "      <td>10.30</td>\n",
       "      <td>42.39</td>\n",
       "      <td>914.00</td>\n",
       "      <td>284.34</td>\n",
       "      <td>38603.84</td>\n",
       "      <td>58266.97</td>\n",
       "      <td>167799.61</td>\n",
       "      <td>Positive</td>\n",
       "    </tr>\n",
       "    <tr>\n",
       "      <th>1813</th>\n",
       "      <td>Ovary</td>\n",
       "      <td>1337.33</td>\n",
       "      <td>5.58</td>\n",
       "      <td>9.80</td>\n",
       "      <td>16.44</td>\n",
       "      <td>1179.5</td>\n",
       "      <td>374.03</td>\n",
       "      <td>29994.01</td>\n",
       "      <td>187828.79</td>\n",
       "      <td>123443.76</td>\n",
       "      <td>Positive</td>\n",
       "    </tr>\n",
       "    <tr>\n",
       "      <th>1814</th>\n",
       "      <td>Ovary</td>\n",
       "      <td>879.498</td>\n",
       "      <td>30.48</td>\n",
       "      <td>8.48</td>\n",
       "      <td>16.44</td>\n",
       "      <td>443.01</td>\n",
       "      <td>309.22</td>\n",
       "      <td>93601.15</td>\n",
       "      <td>241440.02</td>\n",
       "      <td>104070.89</td>\n",
       "      <td>Positive</td>\n",
       "    </tr>\n",
       "    <tr>\n",
       "      <th>1815</th>\n",
       "      <td>Ovary</td>\n",
       "      <td>879.498</td>\n",
       "      <td>1469.45</td>\n",
       "      <td>23.74</td>\n",
       "      <td>62.26</td>\n",
       "      <td>443.01</td>\n",
       "      <td>1153.7</td>\n",
       "      <td>145116.62</td>\n",
       "      <td>140145.7</td>\n",
       "      <td>110579.24</td>\n",
       "      <td>Positive</td>\n",
       "    </tr>\n",
       "    <tr>\n",
       "      <th>1816</th>\n",
       "      <td>Ovary</td>\n",
       "      <td>879.498</td>\n",
       "      <td>1428.31</td>\n",
       "      <td>836.85</td>\n",
       "      <td>37.90</td>\n",
       "      <td>443.01</td>\n",
       "      <td>224.69</td>\n",
       "      <td>103657.44</td>\n",
       "      <td>111737.24</td>\n",
       "      <td>88464.04</td>\n",
       "      <td>Positive</td>\n",
       "    </tr>\n",
       "  </tbody>\n",
       "</table>\n",
       "<p>1005 rows × 11 columns</p>\n",
       "</div>"
      ],
      "text/plain": [
       "      Tumor_type AFP_(pg/ml) CA-125_(U/ml) CA_15-3_(U/ml) CA19-9_(U/ml)  \\\n",
       "0     Colorectum     1583.45          5.09          19.08        16.452   \n",
       "1     Colorectum     715.308          7.27          10.04         40.91   \n",
       "2     Colorectum     4365.53         4.854          16.96        16.452   \n",
       "3     Colorectum     715.308          5.39           8.31        16.452   \n",
       "4     Colorectum       801.3         4.854          11.73        16.452   \n",
       "...          ...         ...           ...            ...           ...   \n",
       "1812       Ovary     879.498         24.82          10.30         42.39   \n",
       "1813       Ovary     1337.33          5.58           9.80         16.44   \n",
       "1814       Ovary     879.498         30.48           8.48         16.44   \n",
       "1815       Ovary     879.498       1469.45          23.74         62.26   \n",
       "1816       Ovary     879.498       1428.31         836.85         37.90   \n",
       "\n",
       "     CEA_(pg/ml) HGF_(pg/ml) OPN_(pg/ml) Prolactin_(pg/ml) TIMP-1_(pg/ml)  \\\n",
       "0          540.1      377.26    56516.58           11606.6       56428.71   \n",
       "1         5902.4      659.68    61001.39          14374.99       73940.49   \n",
       "2          973.8      329.07    88896.24             38375       22797.28   \n",
       "3         2027.5      266.66    42549.61          12072.51       20441.19   \n",
       "4          614.5      370.88    24274.11          23718.17       56288.51   \n",
       "...          ...         ...         ...               ...            ...   \n",
       "1812      914.00      284.34    38603.84          58266.97      167799.61   \n",
       "1813      1179.5      374.03    29994.01         187828.79      123443.76   \n",
       "1814      443.01      309.22    93601.15         241440.02      104070.89   \n",
       "1815      443.01      1153.7   145116.62          140145.7      110579.24   \n",
       "1816      443.01      224.69   103657.44         111737.24       88464.04   \n",
       "\n",
       "     CancerSEEK_Test_Result  \n",
       "0                  Positive  \n",
       "1                  Positive  \n",
       "2                  Negative  \n",
       "3                  Negative  \n",
       "4                  Negative  \n",
       "...                     ...  \n",
       "1812               Positive  \n",
       "1813               Positive  \n",
       "1814               Positive  \n",
       "1815               Positive  \n",
       "1816               Positive  \n",
       "\n",
       "[1005 rows x 11 columns]"
      ]
     },
     "execution_count": 18,
     "metadata": {},
     "output_type": "execute_result"
    }
   ],
   "source": [
    "df1"
   ]
  },
  {
   "cell_type": "code",
   "execution_count": 19,
   "id": "3dfea06b",
   "metadata": {},
   "outputs": [
    {
     "data": {
      "text/plain": [
       "Tumor_type                object\n",
       "AFP_(pg/ml)               object\n",
       "CA-125_(U/ml)             object\n",
       "CA_15-3_(U/ml)            object\n",
       "CA19-9_(U/ml)             object\n",
       "CEA_(pg/ml)               object\n",
       "HGF_(pg/ml)               object\n",
       "OPN_(pg/ml)               object\n",
       "Prolactin_(pg/ml)         object\n",
       "TIMP-1_(pg/ml)            object\n",
       "CancerSEEK_Test_Result    object\n",
       "dtype: object"
      ]
     },
     "execution_count": 19,
     "metadata": {},
     "output_type": "execute_result"
    }
   ],
   "source": [
    "df1.dtypes"
   ]
  },
  {
   "cell_type": "code",
   "execution_count": 20,
   "id": "65cfaf13",
   "metadata": {},
   "outputs": [
    {
     "name": "stderr",
     "output_type": "stream",
     "text": [
      "C:\\Users\\sriku\\AppData\\Local\\Temp/ipykernel_17296/1635725234.py:1: SettingWithCopyWarning: \n",
      "A value is trying to be set on a copy of a slice from a DataFrame.\n",
      "Try using .loc[row_indexer,col_indexer] = value instead\n",
      "\n",
      "See the caveats in the documentation: https://pandas.pydata.org/pandas-docs/stable/user_guide/indexing.html#returning-a-view-versus-a-copy\n",
      "  df1[[\"AFP_(pg/ml)\", \"CA-125_(U/ml)\",\"CA_15-3_(U/ml)\",\"CA19-9_(U/ml)\",\"CEA_(pg/ml)\",\"HGF_(pg/ml)\",\"OPN_(pg/ml)\",\"Prolactin_(pg/ml)\",\"TIMP-1_(pg/ml)\"]]=df1[[\"AFP_(pg/ml)\", \"CA-125_(U/ml)\",\"CA_15-3_(U/ml)\",\"CA19-9_(U/ml)\",\"CEA_(pg/ml)\",\"HGF_(pg/ml)\",\"OPN_(pg/ml)\",\"Prolactin_(pg/ml)\",\"TIMP-1_(pg/ml)\"]].astype(float)\n"
     ]
    }
   ],
   "source": [
    "df1[[\"AFP_(pg/ml)\", \"CA-125_(U/ml)\",\"CA_15-3_(U/ml)\",\"CA19-9_(U/ml)\",\"CEA_(pg/ml)\",\"HGF_(pg/ml)\",\"OPN_(pg/ml)\",\"Prolactin_(pg/ml)\",\"TIMP-1_(pg/ml)\"]]=df1[[\"AFP_(pg/ml)\", \"CA-125_(U/ml)\",\"CA_15-3_(U/ml)\",\"CA19-9_(U/ml)\",\"CEA_(pg/ml)\",\"HGF_(pg/ml)\",\"OPN_(pg/ml)\",\"Prolactin_(pg/ml)\",\"TIMP-1_(pg/ml)\"]].astype(float)"
   ]
  },
  {
   "cell_type": "code",
   "execution_count": 21,
   "id": "ede93111",
   "metadata": {},
   "outputs": [
    {
     "data": {
      "text/plain": [
       "Tumor_type                 object\n",
       "AFP_(pg/ml)               float64\n",
       "CA-125_(U/ml)             float64\n",
       "CA_15-3_(U/ml)            float64\n",
       "CA19-9_(U/ml)             float64\n",
       "CEA_(pg/ml)               float64\n",
       "HGF_(pg/ml)               float64\n",
       "OPN_(pg/ml)               float64\n",
       "Prolactin_(pg/ml)         float64\n",
       "TIMP-1_(pg/ml)            float64\n",
       "CancerSEEK_Test_Result     object\n",
       "dtype: object"
      ]
     },
     "execution_count": 21,
     "metadata": {},
     "output_type": "execute_result"
    }
   ],
   "source": [
    "df1.dtypes"
   ]
  },
  {
   "cell_type": "code",
   "execution_count": 22,
   "id": "6b215577",
   "metadata": {},
   "outputs": [
    {
     "data": {
      "image/png": "[encoded data removed]",
      "text/plain": [
       "<Figure size 432x288 with 2 Axes>"
      ]
     },
     "metadata": {
      "needs_background": "light"
     },
     "output_type": "display_data"
    }
   ],
   "source": [
    "df1.corr()\n",
    "  \n",
    "# plotting correlation heatmap\n",
    "dataplot = sns.heatmap(df1.corr(), cmap=\"YlGnBu\", annot=True)\n",
    "  \n",
    "# displaying heatmap\n",
    "mlt.show()"
   ]
  },
  {
   "cell_type": "code",
   "execution_count": null,
   "id": "19f225d0",
   "metadata": {},
   "outputs": [],
   "source": []
  },
  {
   "cell_type": "code",
   "execution_count": 23,
   "id": "1997f2e5",
   "metadata": {},
   "outputs": [
    {
     "data": {
      "text/plain": [
       "(31, 11)"
      ]
     },
     "execution_count": 23,
     "metadata": {},
     "output_type": "execute_result"
    }
   ],
   "source": [
    "df2=df1[df1['AFP_(pg/ml)'] >= 21321]\n",
    "df2.shape"
   ]
  },
  {
   "cell_type": "code",
   "execution_count": 24,
   "id": "c084308f",
   "metadata": {},
   "outputs": [
    {
     "data": {
      "text/plain": [
       "(12, 11)"
      ]
     },
     "execution_count": 24,
     "metadata": {},
     "output_type": "execute_result"
    }
   ],
   "source": [
    "df3=df1[df1['CA-125_(U/ml)'] >= 577]\n",
    "df3.shape"
   ]
  },
  {
   "cell_type": "code",
   "execution_count": 25,
   "id": "3c1f07ed",
   "metadata": {},
   "outputs": [
    {
     "data": {
      "text/plain": [
       "(94, 11)"
      ]
     },
     "execution_count": 25,
     "metadata": {},
     "output_type": "execute_result"
    }
   ],
   "source": [
    "df5=df1[df1['CA19-9_(U/ml)'] >= 92]\n",
    "df5.shape"
   ]
  },
  {
   "cell_type": "code",
   "execution_count": 26,
   "id": "a152a513",
   "metadata": {},
   "outputs": [
    {
     "data": {
      "text/plain": [
       "(98, 11)"
      ]
     },
     "execution_count": 26,
     "metadata": {},
     "output_type": "execute_result"
    }
   ],
   "source": [
    "df6=df1[df1['CEA_(pg/ml)'] >= 7507]\n",
    "df6.shape"
   ]
  },
  {
   "cell_type": "code",
   "execution_count": 27,
   "id": "be52059f",
   "metadata": {},
   "outputs": [
    {
     "data": {
      "text/plain": [
       "Colorectum    388\n",
       "Breast        209\n",
       "Lung          104\n",
       "Pancreas       93\n",
       "Stomach        68\n",
       "Ovary          54\n",
       "Esophagus      45\n",
       "Liver          44\n",
       "Name: Tumor_type, dtype: int64"
      ]
     },
     "execution_count": 27,
     "metadata": {},
     "output_type": "execute_result"
    }
   ],
   "source": [
    "df1['Tumor_type'].value_counts()"
   ]
  },
  {
   "cell_type": "markdown",
   "id": "e5a527ca",
   "metadata": {},
   "source": [
    "# AFP"
   ]
  },
  {
   "cell_type": "code",
   "execution_count": 28,
   "id": "59457147",
   "metadata": {},
   "outputs": [
    {
     "name": "stdout",
     "output_type": "stream",
     "text": [
      "0.6\n",
      "{'Stomach': 3, 'Liver': 7}\n"
     ]
    }
   ],
   "source": [
    "x3= df2.iloc[:,1].values  \n",
    "y3= df2.iloc[:,0].values\n",
    "\n",
    "x3_train, x3_test, y3_train, y3_test= train_test_split(x3, y3, test_size= 0.3, random_state=0)\n",
    "\n",
    "st_x3= StandardScaler()  \n",
    "x3_train= st_x3.fit_transform(x3_train.reshape(-1, 1))  \n",
    "x3_test= st_x3.transform(x3_test.reshape(-1, 1))\n",
    "\n",
    "classifier3= DecisionTreeClassifier(criterion='entropy', random_state=0)  \n",
    "classifier3.fit(x3_train, y3_train)\n",
    "\n",
    "\n",
    "y3_pred= classifier3.predict(x3_test) \n",
    "\n",
    "print(metrics.accuracy_score(y3_test, y3_pred))\n",
    "\n",
    "dot_data = StringIO()\n",
    "export_graphviz(classifier3, out_file=dot_data,  \n",
    "                filled=True, rounded=True,\n",
    "                special_characters=True)\n",
    "\n",
    "graph2 = pydotplus.graph_from_dot_data(dot_data.getvalue())\n",
    "graph2.write_png(\"afp.png\")\n",
    "\n",
    "a = dict(Counter(y3_pred))\n",
    "print(a)"
   ]
  },
  {
   "cell_type": "code",
   "execution_count": 29,
   "id": "f998370b",
   "metadata": {},
   "outputs": [
    {
     "name": "stdout",
     "output_type": "stream",
     "text": [
      "0.7\n",
      "{'Liver': 9, 'Stomach': 1}\n"
     ]
    }
   ],
   "source": [
    "x3= df2.iloc[:,1].values  \n",
    "y3= df2.iloc[:,0].values\n",
    "\n",
    "x3_train, x3_test, y3_train, y3_test= train_test_split(x3, y3, test_size= 0.3, random_state=0)\n",
    "\n",
    "st_x3= StandardScaler()  \n",
    "x3_train= st_x3.fit_transform(x3_train.reshape(-1, 1))  \n",
    "x3_test= st_x3.transform(x3_test.reshape(-1, 1))\n",
    "\n",
    "classifier3= KNeighborsClassifier(n_neighbors=7)\n",
    "classifier3.fit(x3_train, y3_train)\n",
    "\n",
    "y3_pred= classifier3.predict(x3_test) \n",
    "\n",
    "print(metrics.accuracy_score(y3_test, y3_pred))\n",
    "\n",
    "a = dict(Counter(y3_pred))\n",
    "print(a)"
   ]
  },
  {
   "cell_type": "markdown",
   "id": "d52b0a4c",
   "metadata": {},
   "source": [
    "# ca-125"
   ]
  },
  {
   "cell_type": "code",
   "execution_count": 40,
   "id": "2d1a8e74",
   "metadata": {},
   "outputs": [
    {
     "name": "stdout",
     "output_type": "stream",
     "text": [
      "0.75\n",
      "{'Ovary': 3, 'Liver': 1}\n"
     ]
    }
   ],
   "source": [
    "x3= df3.iloc[:,2].values  \n",
    "y3= df3.iloc[:,0].values\n",
    "\n",
    "x3_train, x3_test, y3_train, y3_test= train_test_split(x3, y3, test_size= 0.3, random_state=0)\n",
    "\n",
    "st_x3= StandardScaler()  \n",
    "x3_train= st_x3.fit_transform(x3_train.reshape(-1, 1))  \n",
    "x3_test= st_x3.transform(x3_test.reshape(-1, 1))\n",
    "\n",
    "classifier3= DecisionTreeClassifier(criterion='entropy', random_state=0)  \n",
    "classifier3.fit(x3_train, y3_train)\n",
    "\n",
    "\n",
    "y3_pred= classifier3.predict(x3_test) \n",
    "\n",
    "print(metrics.accuracy_score(y3_test, y3_pred))\n",
    "\n",
    "dot_data = StringIO()\n",
    "export_graphviz(classifier3, out_file=dot_data,  \n",
    "                filled=True, rounded=True,\n",
    "                special_characters=True)\n",
    "\n",
    "graph2 = pydotplus.graph_from_dot_data(dot_data.getvalue())\n",
    "graph2.write_png(\"ca-125.png\")\n",
    "\n",
    "a = dict(Counter(y3_pred))\n",
    "print(a)"
   ]
  },
  {
   "cell_type": "markdown",
   "id": "fd43ed9e",
   "metadata": {},
   "source": [
    "# ca19-9"
   ]
  },
  {
   "cell_type": "code",
   "execution_count": 31,
   "id": "65440c8b",
   "metadata": {},
   "outputs": [
    {
     "name": "stdout",
     "output_type": "stream",
     "text": [
      "0.3103448275862069\n",
      "{'Liver': 1, 'Pancreas': 11, 'Colorectum': 8, 'Stomach': 4, 'Breast': 3, 'Lung': 1, 'Esophagus': 1}\n"
     ]
    }
   ],
   "source": [
    "x3= df5.iloc[:,4].values  \n",
    "y3= df5.iloc[:,0].values\n",
    "\n",
    "x3_train, x3_test, y3_train, y3_test= train_test_split(x3, y3, test_size= 0.3, random_state=0)\n",
    "\n",
    "st_x3= StandardScaler()  \n",
    "x3_train= st_x3.fit_transform(x3_train.reshape(-1, 1))  \n",
    "x3_test= st_x3.transform(x3_test.reshape(-1, 1))\n",
    "\n",
    "classifier3= DecisionTreeClassifier(criterion='entropy', random_state=0)  \n",
    "classifier3.fit(x3_train, y3_train)\n",
    "\n",
    "\n",
    "y3_pred= classifier3.predict(x3_test) \n",
    "\n",
    "print(metrics.accuracy_score(y3_test, y3_pred))\n",
    "\n",
    "dot_data = StringIO()\n",
    "export_graphviz(classifier3, out_file=dot_data,  \n",
    "                filled=True, rounded=True,\n",
    "                special_characters=True)\n",
    "\n",
    "graph2 = pydotplus.graph_from_dot_data(dot_data.getvalue())\n",
    "graph2.write_png(\"ca19-9.png\")\n",
    "\n",
    "a = dict(Counter(y3_pred))\n",
    "print(a)"
   ]
  },
  {
   "cell_type": "markdown",
   "id": "268a0b7a",
   "metadata": {},
   "source": [
    "# Pancrease"
   ]
  },
  {
   "cell_type": "code",
   "execution_count": 32,
   "id": "39e7f02c",
   "metadata": {},
   "outputs": [
    {
     "name": "stdout",
     "output_type": "stream",
     "text": [
      "0.5\n",
      "{'Colorectum': 15, 'Pancreas': 23}\n"
     ]
    }
   ],
   "source": [
    "x3= df5.iloc[:,4].values  \n",
    "y3= df5.iloc[:,0].values\n",
    "\n",
    "x3_train, x3_test, y3_train, y3_test= train_test_split(x3, y3, test_size= 0.4, random_state=0)\n",
    "\n",
    "st_x3= StandardScaler()  \n",
    "x3_train= st_x3.fit_transform(x3_train.reshape(-1, 1))  \n",
    "x3_test= st_x3.transform(x3_test.reshape(-1, 1))\n",
    "\n",
    "classifier3= KNeighborsClassifier(n_neighbors=7)\n",
    "classifier3.fit(x3_train, y3_train)\n",
    "\n",
    "y3_pred= classifier3.predict(x3_test) \n",
    "\n",
    "print(metrics.accuracy_score(y3_test, y3_pred))\n",
    "\n",
    "a = dict(Counter(y3_pred))\n",
    "print(a)"
   ]
  },
  {
   "cell_type": "markdown",
   "id": "e808fd5f",
   "metadata": {},
   "source": [
    "# CEA"
   ]
  },
  {
   "cell_type": "code",
   "execution_count": 33,
   "id": "842da0df",
   "metadata": {},
   "outputs": [
    {
     "name": "stdout",
     "output_type": "stream",
     "text": [
      "0.4\n",
      "{'Colorectum': 8, 'Stomach': 1, 'Breast': 2, 'Lung': 3, 'Liver': 2, 'Pancreas': 3, 'Esophagus': 1}\n"
     ]
    }
   ],
   "source": [
    "x3= df6.iloc[:,5].values  \n",
    "y3= df6.iloc[:,0].values\n",
    "\n",
    "x3_train, x3_test, y3_train, y3_test= train_test_split(x3, y3, test_size= 0.2, random_state=0)\n",
    "\n",
    "st_x3= StandardScaler()  \n",
    "x3_train= st_x3.fit_transform(x3_train.reshape(-1, 1))  \n",
    "x3_test= st_x3.transform(x3_test.reshape(-1, 1))\n",
    "\n",
    "classifier3= DecisionTreeClassifier(criterion='entropy', random_state=0)  \n",
    "classifier3.fit(x3_train, y3_train)\n",
    "\n",
    "\n",
    "y3_pred= classifier3.predict(x3_test) \n",
    "\n",
    "print(metrics.accuracy_score(y3_test, y3_pred))\n",
    "\n",
    "dot_data = StringIO()\n",
    "export_graphviz(classifier3, out_file=dot_data,  \n",
    "                filled=True, rounded=True,\n",
    "                special_characters=True)\n",
    "\n",
    "graph2 = pydotplus.graph_from_dot_data(dot_data.getvalue())\n",
    "graph2.write_png(\"CEA.png\")\n",
    "\n",
    "a = dict(Counter(y3_pred))\n",
    "print(a)"
   ]
  },
  {
   "cell_type": "markdown",
   "id": "149108a7",
   "metadata": {},
   "source": [
    "# Colorectum"
   ]
  },
  {
   "cell_type": "code",
   "execution_count": 34,
   "id": "aed2f035",
   "metadata": {},
   "outputs": [
    {
     "name": "stdout",
     "output_type": "stream",
     "text": [
      "0.55\n",
      "{'Colorectum': 19, 'Lung': 1}\n"
     ]
    }
   ],
   "source": [
    "x3= df6.iloc[:,5].values  \n",
    "y3= df6.iloc[:,0].values\n",
    "\n",
    "x3_train, x3_test, y3_train, y3_test= train_test_split(x3, y3, test_size= 0.2, random_state=0)\n",
    "\n",
    "st_x3= StandardScaler()  \n",
    "x3_train= st_x3.fit_transform(x3_train.reshape(-1, 1))  \n",
    "x3_test= st_x3.transform(x3_test.reshape(-1, 1))\n",
    "\n",
    "classifier3= KNeighborsClassifier(n_neighbors=7)\n",
    "classifier3.fit(x3_train, y3_train)\n",
    "\n",
    "y3_pred= classifier3.predict(x3_test) \n",
    "\n",
    "print(metrics.accuracy_score(y3_test, y3_pred))\n",
    "\n",
    "a = dict(Counter(y3_pred))\n",
    "print(a)"
   ]
  },
  {
   "cell_type": "code",
   "execution_count": 255,
   "id": "8f117c5a",
   "metadata": {},
   "outputs": [
    {
     "name": "stderr",
     "output_type": "stream",
     "text": [
      "C:\\Users\\sriku\\AppData\\Local\\Temp/ipykernel_9048/2561320003.py:8: SettingWithCopyWarning: \n",
      "A value is trying to be set on a copy of a slice from a DataFrame.\n",
      "Try using .loc[row_indexer,col_indexer] = value instead\n",
      "\n",
      "See the caveats in the documentation: https://pandas.pydata.org/pandas-docs/stable/user_guide/indexing.html#returning-a-view-versus-a-copy\n",
      "  df1['CancerSEEK_Test_Result']= label_encoder.fit_transform(df1['CancerSEEK_Test_Result'])\n"
     ]
    },
    {
     "data": {
      "text/plain": [
       "array([1, 0])"
      ]
     },
     "execution_count": 255,
     "metadata": {},
     "output_type": "execute_result"
    }
   ],
   "source": [
    "# Import label encoder\n",
    "\n",
    "\n",
    "# label_encoder object knows how to understand word labels.\n",
    "label_encoder = preprocessing.LabelEncoder()\n",
    "\n",
    "# Encode labels in column 'species'.\n",
    "df1['CancerSEEK_Test_Result']= label_encoder.fit_transform(df1['CancerSEEK_Test_Result'])\n",
    "\n",
    "df1['CancerSEEK_Test_Result'].unique()\n"
   ]
  },
  {
   "cell_type": "code",
   "execution_count": 281,
   "id": "135ae53b",
   "metadata": {},
   "outputs": [],
   "source": [
    "x2= df1.iloc[:,1:10].values  \n",
    "y2= df1.iloc[:,10].values\n",
    "\n",
    "x2_train, x2_test, y2_train, y2_test= train_test_split(x2, y2, test_size= 0.3, random_state=0)\n",
    "\n",
    "st_x2= StandardScaler()  \n",
    "x2_train= st_x2.fit_transform(x2_train)    \n",
    "x2_test= st_x2.transform(x2_test)"
   ]
  },
  {
   "cell_type": "markdown",
   "id": "f314bc43",
   "metadata": {},
   "source": [
    "# Logistic Regression"
   ]
  },
  {
   "cell_type": "code",
   "execution_count": 282,
   "id": "536b2828",
   "metadata": {},
   "outputs": [
    {
     "data": {
      "text/plain": [
       "0.8741721854304636"
      ]
     },
     "execution_count": 282,
     "metadata": {},
     "output_type": "execute_result"
    }
   ],
   "source": [
    "logr = linear_model.LogisticRegression()\n",
    "logr.fit(x2_train,y2_train)\n",
    "\n",
    "predicted = logr.predict(x2_test)\n",
    "\n",
    "metrics.accuracy_score(y2_test, predicted)"
   ]
  },
  {
   "cell_type": "markdown",
   "id": "864019b7",
   "metadata": {},
   "source": [
    "# Randomforest"
   ]
  },
  {
   "cell_type": "code",
   "execution_count": 257,
   "id": "526e6184",
   "metadata": {},
   "outputs": [
    {
     "data": {
      "text/plain": [
       "0.8509933774834437"
      ]
     },
     "execution_count": 257,
     "metadata": {},
     "output_type": "execute_result"
    }
   ],
   "source": [
    "#Fitting Decision Tree classifier to the training set  \n",
    " \n",
    "random_classifier1= RandomForestClassifier(n_estimators= 10, criterion=\"entropy\")\n",
    "random_classifier1.fit(x2_train, y2_train)\n",
    "y2_random_pred= random_classifier1.predict(x2_test)  \n",
    "metrics.accuracy_score(y2_test, y2_random_pred)"
   ]
  },
  {
   "cell_type": "markdown",
   "id": "fb1f1474",
   "metadata": {},
   "source": [
    "# KNN"
   ]
  },
  {
   "cell_type": "code",
   "execution_count": 280,
   "id": "3cedb019",
   "metadata": {},
   "outputs": [
    {
     "data": {
      "text/plain": [
       "0.8543046357615894"
      ]
     },
     "execution_count": 280,
     "metadata": {},
     "output_type": "execute_result"
    }
   ],
   "source": [
    "knn = KNeighborsClassifier(n_neighbors=7)\n",
    "  \n",
    "knn.fit(x2_train, y2_train)\n",
    "  \n",
    "# Predict on dataset which model has not seen before\n",
    "y_pred_knn=knn.predict(x2_test)\n",
    "metrics.accuracy_score(y2_test, y_pred_knn)"
   ]
  },
  {
   "cell_type": "code",
   "execution_count": 36,
   "id": "26df8562",
   "metadata": {},
   "outputs": [
    {
     "data": {
      "text/plain": [
       "Tumor_type                44\n",
       "AFP_(pg/ml)               44\n",
       "CA-125_(U/ml)             44\n",
       "CA_15-3_(U/ml)            44\n",
       "CA19-9_(U/ml)             44\n",
       "CEA_(pg/ml)               44\n",
       "HGF_(pg/ml)               44\n",
       "OPN_(pg/ml)               44\n",
       "Prolactin_(pg/ml)         44\n",
       "TIMP-1_(pg/ml)            44\n",
       "CancerSEEK_Test_Result    44\n",
       "dtype: int64"
      ]
     },
     "execution_count": 36,
     "metadata": {},
     "output_type": "execute_result"
    }
   ],
   "source": [
    "df1.loc[df1['Tumor_type'] == (\"Liver\")].count()"
   ]
  },
  {
   "cell_type": "code",
   "execution_count": null,
   "id": "891fb660",
   "metadata": {},
   "outputs": [],
   "source": []
  },
  {
   "cell_type": "code",
   "execution_count": null,
   "id": "a1c29c42",
   "metadata": {},
   "outputs": [],
   "source": []
  },
  {
   "cell_type": "code",
   "execution_count": null,
   "id": "2312d4bb",
   "metadata": {},
   "outputs": [],
   "source": []
  },
  {
   "cell_type": "code",
   "execution_count": null,
   "id": "088ea6e1",
   "metadata": {},
   "outputs": [],
   "source": []
  },
  {
   "cell_type": "code",
   "execution_count": null,
   "id": "ec289340",
   "metadata": {},
   "outputs": [],
   "source": []
  },
  {
   "cell_type": "code",
   "execution_count": null,
   "id": "a527ae95",
   "metadata": {},
   "outputs": [],
   "source": []
  },
  {
   "cell_type": "code",
   "execution_count": null,
   "id": "c84e6e09",
   "metadata": {},
   "outputs": [],
   "source": []
  },
  {
   "cell_type": "code",
   "execution_count": 249,
   "id": "74ffdc5f",
   "metadata": {},
   "outputs": [
    {
     "data": {
      "text/plain": [
       "0.36423841059602646"
      ]
     },
     "execution_count": 249,
     "metadata": {},
     "output_type": "execute_result"
    }
   ],
   "source": [
    "#Extracting Independent and dependent Variable  \n",
    "x= df1.iloc[:,1:10].values  \n",
    "y= df1.iloc[:,0].values\n",
    "\n",
    "# Splitting the dataset into training and test set.  \n",
    " \n",
    "x_train, x_test, y_train, y_test= train_test_split(x, y, test_size= 0.3, random_state=0)\n",
    "\n",
    "#feature Scaling  \n",
    "  \n",
    "st_x= StandardScaler()  \n",
    "x_train= st_x.fit_transform(x_train)    \n",
    "x_test= st_x.transform(x_test) \n",
    "\n",
    "#Fitting Decision Tree classifier to the training set  \n",
    " \n",
    "classifier= DecisionTreeClassifier(criterion='entropy', random_state=0)  \n",
    "classifier.fit(x_train, y_train)\n",
    "\n",
    "#Predicting the test set result  \n",
    "y_pred= classifier.predict(x_test)  \n",
    "\n",
    "\n",
    "\n",
    "dot_data = StringIO()\n",
    "export_graphviz(classifier, out_file=dot_data,  \n",
    "                filled=True, rounded=True,\n",
    "                special_characters=True)\n",
    "\n",
    "graph = pydotplus.graph_from_dot_data(dot_data.getvalue())  \n",
    "\n",
    "graph.write_png(\"dtree.png\")\n",
    "\n",
    "metrics.accuracy_score(y_test, y_pred)"
   ]
  },
  {
   "cell_type": "code",
   "execution_count": 279,
   "id": "31093c9e",
   "metadata": {},
   "outputs": [
    {
     "name": "stdout",
     "output_type": "stream",
     "text": [
      "0.8079470198675497\n"
     ]
    },
    {
     "data": {
      "text/plain": [
       "True"
      ]
     },
     "execution_count": 279,
     "metadata": {},
     "output_type": "execute_result"
    }
   ],
   "source": [
    "classifier2= DecisionTreeClassifier(criterion='entropy', random_state=0)  \n",
    "classifier2.fit(x2_train, y2_train)\n",
    "#Predicting the test set result  \n",
    "y2_pred= classifier2.predict(x2_test)  \n",
    "print(metrics.accuracy_score(y2_test, y2_pred))\n",
    "\n",
    "dot_data = StringIO()\n",
    "export_graphviz(classifier2, out_file=dot_data,  \n",
    "                filled=True, rounded=True,\n",
    "                special_characters=True)\n",
    "\n",
    "graph2 = pydotplus.graph_from_dot_data(dot_data.getvalue())\n",
    "graph2.write_png(\"rtree_2.png\")"
   ]
  },
  {
   "cell_type": "code",
   "execution_count": 251,
   "id": "1f7b55bf",
   "metadata": {},
   "outputs": [
    {
     "data": {
      "text/plain": [
       "0.5099337748344371"
      ]
     },
     "execution_count": 251,
     "metadata": {},
     "output_type": "execute_result"
    }
   ],
   "source": [
    "#Fitting Decision Tree classifier to the training set  \n",
    "\n",
    "random_classifier= RandomForestClassifier(n_estimators= 10, criterion=\"entropy\")\n",
    "random_classifier.fit(x_train, y_train)\n",
    "\n",
    "y_random_pred= random_classifier.predict(x_test)  \n",
    "metrics.accuracy_score(y_test, y_random_pred)"
   ]
  },
  {
   "cell_type": "code",
   "execution_count": 252,
   "id": "b637624a",
   "metadata": {},
   "outputs": [
    {
     "data": {
      "text/plain": [
       "0.4304635761589404"
      ]
     },
     "execution_count": 252,
     "metadata": {},
     "output_type": "execute_result"
    }
   ],
   "source": [
    "\n",
    "knn = KNeighborsClassifier(n_neighbors=7)\n",
    "  \n",
    "knn.fit(x_train, y_train)\n",
    "  \n",
    "# Predict on dataset which model has not seen before\n",
    "y_pred_knn=knn.predict(x_test)\n",
    "metrics.accuracy_score(y_test, y_pred_knn)"
   ]
  },
  {
   "cell_type": "code",
   "execution_count": 253,
   "id": "3842bd61",
   "metadata": {},
   "outputs": [
    {
     "data": {
      "text/plain": [
       "0.8079470198675497"
      ]
     },
     "execution_count": 253,
     "metadata": {},
     "output_type": "execute_result"
    }
   ],
   "source": [
    "x1= df1.iloc[:,1:10].values  \n",
    "y1= df1.iloc[:,10].values\n",
    "\n",
    "x1_train, x1_test, y1_train, y1_test= train_test_split(x1, y1, test_size= 0.3, random_state=0)\n",
    "\n",
    "st_x1= StandardScaler()  \n",
    "x1_train= st_x1.fit_transform(x1_train)    \n",
    "x1_test= st_x1.transform(x1_test)\n",
    "\n",
    "classifier1= DecisionTreeClassifier(criterion='entropy', random_state=0)  \n",
    "classifier1.fit(x1_train, y1_train)\n",
    "\n",
    "y1_pred= classifier1.predict(x1_test) \n",
    "\n",
    "metrics.accuracy_score(y1_test, y1_pred)"
   ]
  },
  {
   "cell_type": "code",
   "execution_count": 254,
   "id": "a02987e6",
   "metadata": {},
   "outputs": [
    {
     "data": {
      "text/plain": [
       "True"
      ]
     },
     "execution_count": 254,
     "metadata": {},
     "output_type": "execute_result"
    }
   ],
   "source": [
    "dot_data = StringIO()\n",
    "export_graphviz(classifier1, out_file=dot_data,  \n",
    "                filled=True, rounded=True,\n",
    "                special_characters=True)\n",
    "\n",
    "graph1 = pydotplus.graph_from_dot_data(dot_data.getvalue())\n",
    "graph1.write_png(\"d_tree.png\")"
   ]
  },
  {
   "cell_type": "markdown",
   "id": "2c4abb6e",
   "metadata": {},
   "source": [
    "# ca-15-3"
   ]
  },
  {
   "cell_type": "code",
   "execution_count": 246,
   "id": "d84bc7e8",
   "metadata": {},
   "outputs": [
    {
     "name": "stdout",
     "output_type": "stream",
     "text": [
      "0.3333333333333333\n",
      "{'Lung': 1, 'Breast': 3, 'Liver': 2, 'Ovary': 2, 'Pancreas': 1}\n"
     ]
    }
   ],
   "source": [
    "x3= df4.iloc[:,3].values  \n",
    "y3= df4.iloc[:,0].values\n",
    "\n",
    "x3_train, x3_test, y3_train, y3_test= train_test_split(x3, y3, test_size= 0.3, random_state=0)\n",
    "\n",
    "st_x3= StandardScaler()  \n",
    "x3_train= st_x3.fit_transform(x3_train.reshape(-1, 1))  \n",
    "x3_test= st_x3.transform(x3_test.reshape(-1, 1))\n",
    "\n",
    "classifier3= DecisionTreeClassifier(criterion='entropy', random_state=0)  \n",
    "classifier3.fit(x3_train, y3_train)\n",
    "\n",
    "\n",
    "y3_pred= classifier3.predict(x3_test) \n",
    "\n",
    "print(metrics.accuracy_score(y3_test, y3_pred))\n",
    "\n",
    "dot_data = StringIO()\n",
    "export_graphviz(classifier3, out_file=dot_data,  \n",
    "                filled=True, rounded=True,\n",
    "                special_characters=True)\n",
    "\n",
    "graph2 = pydotplus.graph_from_dot_data(dot_data.getvalue())\n",
    "graph2.write_png(\"ca-15-3.png\")\n",
    "\n",
    "a = dict(Counter(y3_pred))\n",
    "print(a)"
   ]
  },
  {
   "cell_type": "markdown",
   "id": "58962b16",
   "metadata": {},
   "source": [
    "# HGF"
   ]
  },
  {
   "cell_type": "code",
   "execution_count": 265,
   "id": "e7f735a7",
   "metadata": {},
   "outputs": [
    {
     "name": "stdout",
     "output_type": "stream",
     "text": [
      "0.16666666666666666\n",
      "{'Colorectum': 11, 'Esophagus': 5, 'Breast': 3, 'Stomach': 5, 'Liver': 6}\n"
     ]
    }
   ],
   "source": [
    "x3= df7.iloc[:,6].values  \n",
    "y3= df7.iloc[:,0].values\n",
    "\n",
    "x3_train, x3_test, y3_train, y3_test= train_test_split(x3, y3, test_size= 0.3, random_state=0)\n",
    "\n",
    "st_x3= StandardScaler()  \n",
    "x3_train= st_x3.fit_transform(x3_train.reshape(-1, 1))  \n",
    "x3_test= st_x3.transform(x3_test.reshape(-1, 1))\n",
    "\n",
    "classifier3= DecisionTreeClassifier(criterion='entropy', random_state=0)  \n",
    "classifier3.fit(x3_train, y3_train)\n",
    "\n",
    "\n",
    "y3_pred= classifier3.predict(x3_test) \n",
    "\n",
    "print(metrics.accuracy_score(y3_test, y3_pred))\n",
    "\n",
    "dot_data = StringIO()\n",
    "export_graphviz(classifier3, out_file=dot_data,  \n",
    "                filled=True, rounded=True,\n",
    "                special_characters=True)\n",
    "\n",
    "graph2 = pydotplus.graph_from_dot_data(dot_data.getvalue())\n",
    "graph2.write_png(\"HGF.png\")\n",
    "\n",
    "a = dict(Counter(y3_pred))\n",
    "print(a)"
   ]
  },
  {
   "cell_type": "code",
   "execution_count": 350,
   "id": "9d48461a",
   "metadata": {},
   "outputs": [
    {
     "name": "stdout",
     "output_type": "stream",
     "text": [
      "0.16666666666666666\n",
      "{'Colorectum': 14, 'Esophagus': 6, 'Stomach': 9, 'Breast': 1}\n"
     ]
    }
   ],
   "source": [
    "x3= df7.iloc[:,6].values  \n",
    "y3= df7.iloc[:,0].values\n",
    "\n",
    "x3_train, x3_test, y3_train, y3_test= train_test_split(x3, y3, test_size= 0.3, random_state=0)\n",
    "\n",
    "st_x3= StandardScaler()  \n",
    "x3_train= st_x3.fit_transform(x3_train.reshape(-1, 1))  \n",
    "x3_test= st_x3.transform(x3_test.reshape(-1, 1))\n",
    "\n",
    "classifier3= KNeighborsClassifier(n_neighbors=7)\n",
    "classifier3.fit(x3_train, y3_train)\n",
    "\n",
    "y3_pred= classifier3.predict(x3_test) \n",
    "\n",
    "print(metrics.accuracy_score(y3_test, y3_pred))\n",
    "\n",
    "a = dict(Counter(y3_pred))\n",
    "print(a)"
   ]
  },
  {
   "cell_type": "markdown",
   "id": "50c4296c",
   "metadata": {},
   "source": [
    "# OPN"
   ]
  },
  {
   "cell_type": "code",
   "execution_count": 344,
   "id": "60c8f39a",
   "metadata": {},
   "outputs": [
    {
     "name": "stdout",
     "output_type": "stream",
     "text": [
      "0.16666666666666666\n",
      "{'Colorectum': 10, 'Stomach': 4, 'Breast': 2, 'Pancreas': 1, 'Liver': 7}\n"
     ]
    }
   ],
   "source": [
    "x3= df8.iloc[:,7].values  \n",
    "y3= df8.iloc[:,0].values\n",
    "\n",
    "x3_train, x3_test, y3_train, y3_test= train_test_split(x3, y3, test_size= 0.3, random_state=0)\n",
    "\n",
    "st_x3= StandardScaler()  \n",
    "x3_train= st_x3.fit_transform(x3_train.reshape(-1, 1))  \n",
    "x3_test= st_x3.transform(x3_test.reshape(-1, 1))\n",
    "\n",
    "classifier3= DecisionTreeClassifier(criterion='entropy', random_state=0)  \n",
    "classifier3.fit(x3_train, y3_train)\n",
    "\n",
    "\n",
    "y3_pred= classifier3.predict(x3_test) \n",
    "\n",
    "print(metrics.accuracy_score(y3_test, y3_pred))\n",
    "\n",
    "dot_data = StringIO()\n",
    "export_graphviz(classifier3, out_file=dot_data,  \n",
    "                filled=True, rounded=True,\n",
    "                special_characters=True)\n",
    "\n",
    "graph2 = pydotplus.graph_from_dot_data(dot_data.getvalue())\n",
    "graph2.write_png(\"OPN.png\")\n",
    "\n",
    "a = dict(Counter(y3_pred))\n",
    "print(a)"
   ]
  },
  {
   "cell_type": "code",
   "execution_count": 348,
   "id": "46d35ecc",
   "metadata": {},
   "outputs": [
    {
     "name": "stdout",
     "output_type": "stream",
     "text": [
      "0.25\n",
      "{'Colorectum': 21, 'Stomach': 1, 'Esophagus': 2}\n"
     ]
    }
   ],
   "source": [
    "x3= df8.iloc[:,7].values  \n",
    "y3= df8.iloc[:,0].values\n",
    "\n",
    "x3_train, x3_test, y3_train, y3_test= train_test_split(x3, y3, test_size= 0.3, random_state=0)\n",
    "\n",
    "st_x3= StandardScaler()  \n",
    "x3_train= st_x3.fit_transform(x3_train.reshape(-1, 1))  \n",
    "x3_test= st_x3.transform(x3_test.reshape(-1, 1))\n",
    "\n",
    "classifier3= KNeighborsClassifier(n_neighbors=7)\n",
    "classifier3.fit(x3_train, y3_train)\n",
    "\n",
    "y3_pred= classifier3.predict(x3_test) \n",
    "\n",
    "print(metrics.accuracy_score(y3_test, y3_pred))\n",
    "\n",
    "a = dict(Counter(y3_pred))\n",
    "print(a)"
   ]
  },
  {
   "cell_type": "markdown",
   "id": "97f155cb",
   "metadata": {},
   "source": [
    "# Prolactin"
   ]
  },
  {
   "cell_type": "code",
   "execution_count": 275,
   "id": "4fdb801a",
   "metadata": {},
   "outputs": [
    {
     "name": "stdout",
     "output_type": "stream",
     "text": [
      "0.3076923076923077\n",
      "{'Colorectum': 9, 'Ovary': 10, 'Lung': 2, 'Breast': 3, 'Liver': 1, 'Esophagus': 1}\n"
     ]
    }
   ],
   "source": [
    "x3= df9.iloc[:,8].values  \n",
    "y3= df9.iloc[:,0].values\n",
    "\n",
    "x3_train, x3_test, y3_train, y3_test= train_test_split(x3, y3, test_size= 0.3, random_state=0)\n",
    "\n",
    "st_x3= StandardScaler()  \n",
    "x3_train= st_x3.fit_transform(x3_train.reshape(-1, 1))  \n",
    "x3_test= st_x3.transform(x3_test.reshape(-1, 1))\n",
    "\n",
    "classifier3= DecisionTreeClassifier(criterion='entropy', random_state=0)  \n",
    "classifier3.fit(x3_train, y3_train)\n",
    "\n",
    "\n",
    "y3_pred= classifier3.predict(x3_test) \n",
    "\n",
    "print(metrics.accuracy_score(y3_test, y3_pred))\n",
    "\n",
    "dot_data = StringIO()\n",
    "export_graphviz(classifier3, out_file=dot_data,  \n",
    "                filled=True, rounded=True,\n",
    "                special_characters=True)\n",
    "\n",
    "graph2 = pydotplus.graph_from_dot_data(dot_data.getvalue())\n",
    "graph2.write_png(\"prolactin.png\")\n",
    "\n",
    "a = dict(Counter(y3_pred))\n",
    "print(a)"
   ]
  },
  {
   "cell_type": "code",
   "execution_count": 388,
   "id": "a8ffea50",
   "metadata": {},
   "outputs": [
    {
     "name": "stdout",
     "output_type": "stream",
     "text": [
      "0.3076923076923077\n",
      "{'Colorectum': 13, 'Lung': 4, 'Breast': 7, 'Ovary': 2}\n"
     ]
    }
   ],
   "source": [
    "x3= df9.iloc[:,8].values  \n",
    "y3= df9.iloc[:,0].values\n",
    "\n",
    "x3_train, x3_test, y3_train, y3_test= train_test_split(x3, y3, test_size= 0.3, random_state=0)\n",
    "\n",
    "st_x3= StandardScaler()  \n",
    "x3_train= st_x3.fit_transform(x3_train.reshape(-1, 1))  \n",
    "x3_test= st_x3.transform(x3_test.reshape(-1, 1))\n",
    "\n",
    "classifier3= KNeighborsClassifier(n_neighbors=7)\n",
    "classifier3.fit(x3_train, y3_train)\n",
    "\n",
    "y3_pred= classifier3.predict(x3_test) \n",
    "\n",
    "print(metrics.accuracy_score(y3_test, y3_pred))\n",
    "\n",
    "a = dict(Counter(y3_pred))\n",
    "print(a)"
   ]
  },
  {
   "cell_type": "markdown",
   "id": "c2c35bc2",
   "metadata": {},
   "source": [
    "# TIMP-1"
   ]
  },
  {
   "cell_type": "code",
   "execution_count": 310,
   "id": "348796cf",
   "metadata": {},
   "outputs": [
    {
     "name": "stdout",
     "output_type": "stream",
     "text": [
      "0.19047619047619047\n",
      "{'Liver': 3, 'Esophagus': 4, 'Colorectum': 8, 'Ovary': 2, 'Stomach': 4}\n"
     ]
    }
   ],
   "source": [
    "x3= df10.iloc[:,9].values  \n",
    "y3= df10.iloc[:,0].values\n",
    "\n",
    "x3_train, x3_test, y3_train, y3_test= train_test_split(x3, y3, test_size= 0.3, random_state=0)\n",
    "\n",
    "st_x3= StandardScaler()  \n",
    "x3_train= st_x3.fit_transform(x3_train.reshape(-1, 1))  \n",
    "x3_test= st_x3.transform(x3_test.reshape(-1, 1))\n",
    "\n",
    "classifier3= DecisionTreeClassifier(criterion='entropy', random_state=0)  \n",
    "classifier3.fit(x3_train, y3_train)\n",
    "\n",
    "\n",
    "y3_pred= classifier3.predict(x3_test) \n",
    "\n",
    "print(metrics.accuracy_score(y3_test, y3_pred))\n",
    "\n",
    "dot_data = StringIO()\n",
    "export_graphviz(classifier3, out_file=dot_data,  \n",
    "                filled=True, rounded=True,\n",
    "                special_characters=True)\n",
    "\n",
    "graph2 = pydotplus.graph_from_dot_data(dot_data.getvalue())\n",
    "graph2.write_png(\"timp.png\")\n",
    "\n",
    "a = dict(Counter(y3_pred))\n",
    "print(a)"
   ]
  },
  {
   "cell_type": "code",
   "execution_count": 338,
   "id": "3f03c833",
   "metadata": {},
   "outputs": [
    {
     "name": "stdout",
     "output_type": "stream",
     "text": [
      "0.47619047619047616\n",
      "{'Esophagus': 3, 'Colorectum': 14, 'Stomach': 3, 'Pancreas': 1}\n"
     ]
    }
   ],
   "source": [
    "x3= df10.iloc[:,9].values  \n",
    "y3= df10.iloc[:,0].values\n",
    "\n",
    "x3_train, x3_test, y3_train, y3_test= train_test_split(x3, y3, test_size= 0.3, random_state=0)\n",
    "\n",
    "st_x3= StandardScaler()  \n",
    "x3_train= st_x3.fit_transform(x3_train.reshape(-1, 1))  \n",
    "x3_test= st_x3.transform(x3_test.reshape(-1, 1))\n",
    "\n",
    "classifier3= KNeighborsClassifier(n_neighbors=7)\n",
    "classifier3.fit(x3_train, y3_train)\n",
    "\n",
    "y3_pred= classifier3.predict(x3_test) \n",
    "\n",
    "print(metrics.accuracy_score(y3_test, y3_pred))\n",
    "\n",
    "a = dict(Counter(y3_pred))\n",
    "print(a)"
   ]
  },
  {
   "cell_type": "code",
   "execution_count": 37,
   "id": "60238a6b",
   "metadata": {},
   "outputs": [
    {
     "data": {
      "text/html": [
       "<div>\n",
       "<style scoped>\n",
       "    .dataframe tbody tr th:only-of-type {\n",
       "        vertical-align: middle;\n",
       "    }\n",
       "\n",
       "    .dataframe tbody tr th {\n",
       "        vertical-align: top;\n",
       "    }\n",
       "\n",
       "    .dataframe thead th {\n",
       "        text-align: right;\n",
       "    }\n",
       "</style>\n",
       "<table border=\"1\" class=\"dataframe\">\n",
       "  <thead>\n",
       "    <tr style=\"text-align: right;\">\n",
       "      <th></th>\n",
       "      <th>Tumor_type</th>\n",
       "      <th>AFP_(pg/ml)</th>\n",
       "      <th>CA-125_(U/ml)</th>\n",
       "      <th>CA19-9_(U/ml)</th>\n",
       "      <th>CEA_(pg/ml)</th>\n",
       "    </tr>\n",
       "  </thead>\n",
       "  <tbody>\n",
       "    <tr>\n",
       "      <th>0</th>\n",
       "      <td>Colorectum</td>\n",
       "      <td>1583.450</td>\n",
       "      <td>5.090</td>\n",
       "      <td>16.452</td>\n",
       "      <td>540.10</td>\n",
       "    </tr>\n",
       "    <tr>\n",
       "      <th>1</th>\n",
       "      <td>Colorectum</td>\n",
       "      <td>715.308</td>\n",
       "      <td>7.270</td>\n",
       "      <td>40.910</td>\n",
       "      <td>5902.40</td>\n",
       "    </tr>\n",
       "    <tr>\n",
       "      <th>2</th>\n",
       "      <td>Colorectum</td>\n",
       "      <td>4365.530</td>\n",
       "      <td>4.854</td>\n",
       "      <td>16.452</td>\n",
       "      <td>973.80</td>\n",
       "    </tr>\n",
       "    <tr>\n",
       "      <th>3</th>\n",
       "      <td>Colorectum</td>\n",
       "      <td>715.308</td>\n",
       "      <td>5.390</td>\n",
       "      <td>16.452</td>\n",
       "      <td>2027.50</td>\n",
       "    </tr>\n",
       "    <tr>\n",
       "      <th>4</th>\n",
       "      <td>Colorectum</td>\n",
       "      <td>801.300</td>\n",
       "      <td>4.854</td>\n",
       "      <td>16.452</td>\n",
       "      <td>614.50</td>\n",
       "    </tr>\n",
       "    <tr>\n",
       "      <th>...</th>\n",
       "      <td>...</td>\n",
       "      <td>...</td>\n",
       "      <td>...</td>\n",
       "      <td>...</td>\n",
       "      <td>...</td>\n",
       "    </tr>\n",
       "    <tr>\n",
       "      <th>1812</th>\n",
       "      <td>Ovary</td>\n",
       "      <td>879.498</td>\n",
       "      <td>24.820</td>\n",
       "      <td>42.390</td>\n",
       "      <td>914.00</td>\n",
       "    </tr>\n",
       "    <tr>\n",
       "      <th>1813</th>\n",
       "      <td>Ovary</td>\n",
       "      <td>1337.330</td>\n",
       "      <td>5.580</td>\n",
       "      <td>16.440</td>\n",
       "      <td>1179.50</td>\n",
       "    </tr>\n",
       "    <tr>\n",
       "      <th>1814</th>\n",
       "      <td>Ovary</td>\n",
       "      <td>879.498</td>\n",
       "      <td>30.480</td>\n",
       "      <td>16.440</td>\n",
       "      <td>443.01</td>\n",
       "    </tr>\n",
       "    <tr>\n",
       "      <th>1815</th>\n",
       "      <td>Ovary</td>\n",
       "      <td>879.498</td>\n",
       "      <td>1469.450</td>\n",
       "      <td>62.260</td>\n",
       "      <td>443.01</td>\n",
       "    </tr>\n",
       "    <tr>\n",
       "      <th>1816</th>\n",
       "      <td>Ovary</td>\n",
       "      <td>879.498</td>\n",
       "      <td>1428.310</td>\n",
       "      <td>37.900</td>\n",
       "      <td>443.01</td>\n",
       "    </tr>\n",
       "  </tbody>\n",
       "</table>\n",
       "<p>1005 rows × 5 columns</p>\n",
       "</div>"
      ],
      "text/plain": [
       "      Tumor_type  AFP_(pg/ml)  CA-125_(U/ml)  CA19-9_(U/ml)  CEA_(pg/ml)\n",
       "0     Colorectum     1583.450          5.090         16.452       540.10\n",
       "1     Colorectum      715.308          7.270         40.910      5902.40\n",
       "2     Colorectum     4365.530          4.854         16.452       973.80\n",
       "3     Colorectum      715.308          5.390         16.452      2027.50\n",
       "4     Colorectum      801.300          4.854         16.452       614.50\n",
       "...          ...          ...            ...            ...          ...\n",
       "1812       Ovary      879.498         24.820         42.390       914.00\n",
       "1813       Ovary     1337.330          5.580         16.440      1179.50\n",
       "1814       Ovary      879.498         30.480         16.440       443.01\n",
       "1815       Ovary      879.498       1469.450         62.260       443.01\n",
       "1816       Ovary      879.498       1428.310         37.900       443.01\n",
       "\n",
       "[1005 rows x 5 columns]"
      ]
     },
     "execution_count": 37,
     "metadata": {},
     "output_type": "execute_result"
    }
   ],
   "source": [
    "table = df1[[\"Tumor_type\",\"AFP_(pg/ml)\", \"CA-125_(U/ml)\",\"CA19-9_(U/ml)\",\"CEA_(pg/ml)\"]]\n",
    "table"
   ]
  },
  {
   "cell_type": "code",
   "execution_count": 39,
   "id": "500c8203",
   "metadata": {},
   "outputs": [
    {
     "data": {
      "image/png": "[encoded data removed]",
      "text/plain": [
       "<Figure size 432x288 with 2 Axes>"
      ]
     },
     "metadata": {
      "needs_background": "light"
     },
     "output_type": "display_data"
    }
   ],
   "source": [
    "table.corr()\n",
    "  \n",
    "# plotting correlation heatmap\n",
    "dataplot = sns.heatmap(table.corr(), cmap=\"YlGnBu\", annot=True)\n",
    "  \n",
    "# displaying heatmap\n",
    "mlt.show()"
   ]
  },
  {
   "cell_type": "markdown",
   "id": "15c38811",
   "metadata": {},
   "source": [
    "# END"
   ]
  }
 ],
 "metadata": {
  "kernelspec": {
   "display_name": "Python 3 (ipykernel)",
   "language": "python",
   "name": "python3"
  },
  "language_info": {
   "codemirror_mode": {
    "name": "ipython",
    "version": 3
   },
   "file_extension": ".py",
   "mimetype": "text/x-python",
   "name": "python",
   "nbconvert_exporter": "python",
   "pygments_lexer": "ipython3",
   "version": "3.8.12"
  }
 },
 "nbformat": 4,
 "nbformat_minor": 5
}
