{
 "cells": [
  {
   "cell_type": "code",
   "execution_count": 10,
   "metadata": {},
   "outputs": [
    {
     "name": "stdout",
     "output_type": "stream",
     "text": [
      "['abcd', 'efgh', 'ihgf', 'igfg', 'dfag', 'hghd', 'dhdf']\n"
     ]
    }
   ],
   "source": [
    "import re\n",
    "a='abcdefghihgfgfuigfgudfag27525shghddhdf749549dusgy'\n",
    "b='[a-i]{3}\\w'\n",
    "c=re.findall(b,a)\n",
    "print(c)"
   ]
  },
  {
   "cell_type": "code",
   "execution_count": 21,
   "metadata": {},
   "outputs": [
    {
     "name": "stdout",
     "output_type": "stream",
     "text": [
      "Output 1 ['Ne', 'co', 'mi', 'ng', 'co', 'ur', 'se', 'IO']\n",
      "Output 2 ['Ne', 'co', 'co', 'IO']\n"
     ]
    }
   ],
   "source": [
    "import re\n",
    "Result=re.findall(r'\\w\\w',\"Net coming course IOT\")\n",
    "Result1=re.findall(r'\\b\\w\\w',\"Net coming course IOT\")\n",
    "print(\"Output 1\",Result)\n",
    "print(\"Output 2\",Result1)"
   ]
  },
  {
   "cell_type": "code",
   "execution_count": 43,
   "metadata": {},
   "outputs": [
    {
     "name": "stdout",
     "output_type": "stream",
     "text": [
      "324..4.123\n"
     ]
    }
   ],
   "source": [
    "import re\n",
    "IP=\"418.08.074.126\"\n",
    "c=re.sub('[0]*','',ip)\n",
    "print(c)\n"
   ]
  },
  {
   "cell_type": "code",
   "execution_count": 34,
   "metadata": {},
   "outputs": [
    {
     "name": "stdout",
     "output_type": "stream",
     "text": [
      "['world', 'world', 'world']\n"
     ]
    }
   ],
   "source": [
    "#text=\" hello world, my world happy world\"\n",
    "#pattren=\"world\"\n",
    "import re\n",
    "text=\" hello world, my world happy world\"\n",
    "c=re.findall('w\\w{3}d',text)\n",
    "print(c)"
   ]
  },
  {
   "cell_type": "code",
   "execution_count": 42,
   "metadata": {},
   "outputs": [
    {
     "name": "stdout",
     "output_type": "stream",
     "text": [
      "324.00.004.123\n"
     ]
    }
   ],
   "source": [
    "import re\n",
    "a=\"hello world, my world happy wOrld\"\n",
    "c=re.sub('world','.',ip)\n",
    "print(c)"
   ]
  },
  {
   "cell_type": "code",
   "execution_count": null,
   "metadata": {},
   "outputs": [],
   "source": []
  }
 ],
 "metadata": {
  "kernelspec": {
   "display_name": "Python 3",
   "language": "python",
   "name": "python3"
  },
  "language_info": {
   "codemirror_mode": {
    "name": "ipython",
    "version": 3
   },
   "file_extension": ".py",
   "mimetype": "text/x-python",
   "name": "python",
   "nbconvert_exporter": "python",
   "pygments_lexer": "ipython3",
   "version": "3.8.3"
  }
 },
 "nbformat": 4,
 "nbformat_minor": 4
}
