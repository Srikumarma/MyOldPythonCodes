{
 "cells": [
  {
   "cell_type": "code",
   "execution_count": 4,
   "metadata": {},
   "outputs": [
    {
     "ename": "SyntaxError",
     "evalue": "invalid syntax (<ipython-input-4-f9b874f7f493>, line 3)",
     "output_type": "error",
     "traceback": [
      "\u001b[1;36m  File \u001b[1;32m\"<ipython-input-4-f9b874f7f493>\"\u001b[1;36m, line \u001b[1;32m3\u001b[0m\n\u001b[1;33m    print([7:1:12],i)\u001b[0m\n\u001b[1;37m            ^\u001b[0m\n\u001b[1;31mSyntaxError\u001b[0m\u001b[1;31m:\u001b[0m invalid syntax\n"
     ]
    }
   ],
   "source": [
    "[a]=\"string ? abcd\"\n",
    "for i in [a]:\n",
    "    print([7:1:12],i)"
   ]
  },
  {
   "cell_type": "code",
   "execution_count": 34,
   "metadata": {},
   "outputs": [
    {
     "name": "stdout",
     "output_type": "stream",
     "text": [
      "CURIECOMEBACKNEEDS\n"
     ]
    }
   ],
   "source": [
    "a = \"this sentence has a string in upper case CURIE, COME BACK that alone NEEDS to be taken out\"\n",
    "b = ''.join([i for i in a if i.isupper()])\n",
    "print(b)"
   ]
  },
  {
   "cell_type": "code",
   "execution_count": 37,
   "metadata": {},
   "outputs": [
    {
     "name": "stdout",
     "output_type": "stream",
     "text": [
      "C\n",
      "U\n",
      "R\n",
      "I\n",
      "E\n",
      "C\n",
      "O\n",
      "M\n",
      "E\n",
      "B\n",
      "A\n",
      "C\n",
      "K\n",
      "N\n",
      "E\n",
      "E\n",
      "D\n",
      "S\n"
     ]
    }
   ],
   "source": [
    "a = \"this sentence has a string in upper case CURIE, COME BACK that alone NEEDS to be taken out\"\n",
    "for i in a:\n",
    "    if i.isupper():\n",
    "        print(i)"
   ]
  },
  {
   "cell_type": "code",
   "execution_count": 42,
   "metadata": {},
   "outputs": [
    {
     "name": "stdout",
     "output_type": "stream",
     "text": [
      ", COME BACK that alone NEEDS to be taken out\n"
     ]
    }
   ],
   "source": [
    "my_string=\"this sentence has a string in upper case CURIE, COME BACK that alone NEEDS to be taken out\"\n",
    "print (my_string.split(\"CURIE\",1)[1])"
   ]
  },
  {
   "cell_type": "code",
   "execution_count": 61,
   "metadata": {},
   "outputs": [
    {
     "name": "stdout",
     "output_type": "stream",
     "text": [
      " ? sentence\n"
     ]
    }
   ],
   "source": [
    "my_string=\"there is a question mark in this ? sentence\"\n",
    "print(my_string.split(\"this\",1)[1])"
   ]
  },
  {
   "cell_type": "code",
   "execution_count": null,
   "metadata": {},
   "outputs": [],
   "source": []
  }
 ],
 "metadata": {
  "kernelspec": {
   "display_name": "Python 3",
   "language": "python",
   "name": "python3"
  },
  "language_info": {
   "codemirror_mode": {
    "name": "ipython",
    "version": 3
   },
   "file_extension": ".py",
   "mimetype": "text/x-python",
   "name": "python",
   "nbconvert_exporter": "python",
   "pygments_lexer": "ipython3",
   "version": "3.8.3"
  }
 },
 "nbformat": 4,
 "nbformat_minor": 4
}
