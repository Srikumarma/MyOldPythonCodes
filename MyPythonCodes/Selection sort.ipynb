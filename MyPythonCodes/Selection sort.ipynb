{
 "cells": [
  {
   "cell_type": "code",
   "execution_count": 2,
   "id": "d06941e7",
   "metadata": {},
   "outputs": [
    {
     "data": {
      "text/html": [
       "<ol class=list-inline>\n",
       "\t<li>8</li>\n",
       "\t<li>39</li>\n",
       "\t<li>42</li>\n",
       "\t<li>54</li>\n",
       "\t<li>64</li>\n",
       "\t<li>67</li>\n",
       "\t<li>80</li>\n",
       "\t<li>92</li>\n",
       "\t<li>94</li>\n",
       "\t<li>98</li>\n",
       "</ol>\n"
      ],
      "text/latex": [
       "\\begin{enumerate*}\n",
       "\\item 8\n",
       "\\item 39\n",
       "\\item 42\n",
       "\\item 54\n",
       "\\item 64\n",
       "\\item 67\n",
       "\\item 80\n",
       "\\item 92\n",
       "\\item 94\n",
       "\\item 98\n",
       "\\end{enumerate*}\n"
      ],
      "text/markdown": [
       "1. 8\n",
       "2. 39\n",
       "3. 42\n",
       "4. 54\n",
       "5. 64\n",
       "6. 67\n",
       "7. 80\n",
       "8. 92\n",
       "9. 94\n",
       "10. 98\n",
       "\n",
       "\n"
      ],
      "text/plain": [
       " [1]  8 39 42 54 64 67 80 92 94 98"
      ]
     },
     "metadata": {},
     "output_type": "display_data"
    }
   ],
   "source": [
    "# function to sort array using selection sort\n",
    "selection_sort <- function(x)\n",
    "{\n",
    "# length of array\n",
    "n <- length(x)\n",
    "for (i in 1 : (n - 1))\n",
    "{\n",
    "# assume element at i is minimum\n",
    "min_index <- i\n",
    "for (j in (i + 1) : (n))\n",
    "{\n",
    "# check if element at j is smaller\n",
    "# than element at min_index\n",
    "if (x[j] < x[min_index]) {\n",
    "# if yes, update min_index\n",
    "min_index = j\n",
    "}\n",
    "}\n",
    "# swap element at i with element at min_index\n",
    "temp <- x[i]\n",
    "x[i] <- x[min_index]\n",
    "x[min_index] <- temp\n",
    "}\n",
    "x\n",
    "}\n",
    "\n",
    "# take sample input\n",
    "arr <- sample(1 : 100, 10)\n",
    "\n",
    "# sort array\n",
    "sorted_arr <- selection_sort(arr)\n",
    "\n",
    "# print array\n",
    "sorted_arr\n"
   ]
  },
  {
   "cell_type": "markdown",
   "id": "af96fa13",
   "metadata": {},
   "source": [
    "# pseudocode \n",
    "\n",
    "// Selection Sort\n",
    "\n",
    "array = [a1, a2, ..., aN]\n",
    "\n",
    "\n",
    "for i from 0 to N-1\n",
    "\n",
    "    for j from i to N-1\n",
    "        int smallest_index = smallest(array[j ... N-1])\n",
    "        if (smallest_index != i)\n",
    "            swap(i, smallest_index)\n",
    "        \n",
    "// Find the smallest element\n",
    "\n",
    "smallest(int array):\n",
    "\n",
    "    smallest_index = 0\n",
    "    smallest = array[0]\n",
    "    for index from 1 to M\n",
    "        if smallest > array[index]\n",
    "            smallest = array[index]\n",
    "            smallest_index = index\n",
    "            \n",
    "    return smallest_index\n"
   ]
  },
  {
   "cell_type": "markdown",
   "id": "3305b483",
   "metadata": {},
   "source": [
    "# Time complexity analysis\n",
    "O(N-I+1) for find the smallest element\n",
    "O(1) for swapping the smallest element to the front of unsorted sub-array\n",
    "\n",
    "Sum [O(N-I+1)] + Sum[O(1)]\n",
    "= O(N^2) + O(N)\n",
    "= O(N^2)\n",
    "\n",
    "# Best case\n",
    "time complexity is O(N^2)\n",
    "\n",
    "# Worst case\n",
    "time complexity is O(N^2)\n",
    "\n",
    "# Average case\n",
    "time complexity will be O(N^2)"
   ]
  },
  {
   "cell_type": "code",
   "execution_count": null,
   "id": "5399b188",
   "metadata": {},
   "outputs": [],
   "source": []
  }
 ],
 "metadata": {
  "kernelspec": {
   "display_name": "R",
   "language": "R",
   "name": "ir"
  },
  "language_info": {
   "codemirror_mode": "r",
   "file_extension": ".r",
   "mimetype": "text/x-r-source",
   "name": "R",
   "pygments_lexer": "r",
   "version": "3.6.1"
  }
 },
 "nbformat": 4,
 "nbformat_minor": 5
}
