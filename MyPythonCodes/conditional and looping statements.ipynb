{
 "cells": [
  {
   "cell_type": "code",
   "execution_count": 1,
   "id": "12c5e796",
   "metadata": {},
   "outputs": [
    {
     "name": "stdout",
     "output_type": "stream",
     "text": [
      "[1] \"Above ten\"\n",
      "[1] \"and also above 20!\"\n"
     ]
    }
   ],
   "source": [
    "x <- 41\n",
    "\n",
    "if (x > 10) {\n",
    "  print(\"Above ten\")\n",
    "  if (x > 20) {\n",
    "    print(\"and also above 20!\")\n",
    "  } else {\n",
    "    print(\"but not above 20.\")\n",
    "  }\n",
    "} else {\n",
    "  print(\"below 10.\")\n",
    "}\n"
   ]
  },
  {
   "cell_type": "code",
   "execution_count": 8,
   "id": "89e134d7",
   "metadata": {},
   "outputs": [
    {
     "name": "stdout",
     "output_type": "stream",
     "text": [
      "[1] \"The student has cleared the exam\"\n",
      "[1] \"The student has scored an A\"\n"
     ]
    }
   ],
   "source": [
    "x=83\n",
    " if(x>=40){\n",
    "     print(\"The student has cleared the exam\")\n",
    "     if(x>=80){\n",
    "         print(\"The student has scored an A\")\n",
    "     } else{\n",
    "         print(\"The student has scored an B\")\n",
    "     }\n",
    " }else{\n",
    "    print(\"The student has failed the exam\")\n",
    "}"
   ]
  },
  {
   "cell_type": "code",
   "execution_count": 2,
   "id": "eab7053a",
   "metadata": {},
   "outputs": [
    {
     "name": "stdout",
     "output_type": "stream",
     "text": [
      "[1] \"Geeks7\"\n"
     ]
    }
   ],
   "source": [
    "val <- switch(\n",
    "   4,\n",
    "   \"Geeks1\",\n",
    "   \"Geeks2\",\n",
    "   \"Geeks3\",\n",
    "   \"Geeks7\",\n",
    "   \"Geeks5\",\n",
    "   \"Geeks6\"\n",
    ")\n",
    "print(val)"
   ]
  },
  {
   "cell_type": "code",
   "execution_count": 6,
   "id": "87cd56da",
   "metadata": {},
   "outputs": [
    {
     "ename": "ERROR",
     "evalue": "Error in parse(text = x, srcfile = src): <text>:5:5: unexpected symbol\n4: x=x+y\n5:     Print\n       ^\n",
     "output_type": "error",
     "traceback": [
      "Error in parse(text = x, srcfile = src): <text>:5:5: unexpected symbol\n4: x=x+y\n5:     Print\n       ^\nTraceback:\n"
     ]
    }
   ],
   "source": [
    "x=0\n",
    "y=5\n",
    "repeat(\n",
    "x=x+y\n",
    "print(x)\n",
    "    if(x>20)\n",
    "        {\n",
    "        break\n",
    "    }\n",
    ")"
   ]
  },
  {
   "cell_type": "code",
   "execution_count": 13,
   "id": "42605988",
   "metadata": {},
   "outputs": [
    {
     "name": "stdout",
     "output_type": "stream",
     "text": [
      "[1] 10\n",
      "[1] 20\n",
      "[1] 30\n"
     ]
    }
   ],
   "source": [
    "x=c(10,20,30)\n",
    "for(i in x){\n",
    "    print(i)\n",
    "}"
   ]
  },
  {
   "cell_type": "code",
   "execution_count": 17,
   "id": "cd08322f",
   "metadata": {},
   "outputs": [
    {
     "name": "stdout",
     "output_type": "stream",
     "text": [
      "[1] \"1\"\n",
      "[1] \"2\"\n",
      "[1] \"3\"\n",
      "[1] \"4\"\n",
      "[1] \"6\"\n",
      "[1] \"8\"\n",
      "[1] \"9\"\n",
      "[1] \"10\"\n"
     ]
    }
   ],
   "source": [
    "for(i in 1:10){\n",
    "    if(i==5||i==7){next}\n",
    "    print(paste(i))\n",
    "}"
   ]
  },
  {
   "cell_type": "code",
   "execution_count": 19,
   "id": "f4f62621",
   "metadata": {},
   "outputs": [
    {
     "name": "stdout",
     "output_type": "stream",
     "text": [
      "[1] 5\n",
      "[1] 6\n",
      "[1] 11\n",
      "[1] 7\n",
      "[1] 18\n",
      "[1] 8\n",
      "[1] 26\n",
      "[1] 9\n",
      "[1] 35\n",
      "[1] 10\n",
      "[1] 45\n",
      "[1] 11\n"
     ]
    }
   ],
   "source": [
    "x=0\n",
    "y=5\n",
    "repeat{\n",
    "    x=x+y\n",
    "    print(x)\n",
    "    y=y+1\n",
    "    print(y)\n",
    "    if(y>10){\n",
    "        break\n",
    "    }\n",
    "}"
   ]
  },
  {
   "cell_type": "code",
   "execution_count": 20,
   "id": "e35fb622",
   "metadata": {},
   "outputs": [
    {
     "name": "stdout",
     "output_type": "stream",
     "text": [
      "Enter choice 1/2/3/4: 1\n",
      "[1] 15\n"
     ]
    }
   ],
   "source": [
    "choice = as.integer(readline(\"Enter choice 1/2/3/4: \"))\n",
    "num1 = 5\n",
    "num2 = 10\n",
    "result = switch(choice, num1+num2, num1-num2, num1*num2, num1/num2)\n",
    "print(result)"
   ]
  },
  {
   "cell_type": "code",
   "execution_count": 22,
   "id": "fa829721",
   "metadata": {},
   "outputs": [
    {
     "name": "stdout",
     "output_type": "stream",
     "text": [
      "[1] 1\n",
      "[1] 2\n",
      "[1] 3\n",
      "[1] 4\n",
      "[1] 5\n",
      "[1] 6\n",
      "[1] 8\n",
      "[1] 9\n",
      "[1] 10\n",
      "[1] 11\n",
      "[1] 12\n",
      "[1] 13\n",
      "[1] 14\n",
      "[1] 15\n",
      "[1] 16\n",
      "[1] 17\n",
      "[1] 18\n",
      "[1] 19\n",
      "[1] 20\n",
      "[1] 21\n",
      "[1] 22\n",
      "[1] 23\n",
      "[1] 24\n",
      "[1] 25\n",
      "[1] 26\n",
      "[1] 27\n",
      "[1] 28\n",
      "[1] 29\n",
      "[1] 30\n",
      "[1] 31\n",
      "[1] 32\n",
      "[1] 33\n",
      "[1] 34\n",
      "[1] 35\n"
     ]
    }
   ],
   "source": [
    "#Write a while loop starting with x=0.The loop prints all numbers upto 35 but it skips number 7.\n",
    "x=0\n",
    "while(x<35){\n",
    "    x=x+1\n",
    "    if(x==7){next}\n",
    "    print(x) \n",
    "}"
   ]
  },
  {
   "cell_type": "code",
   "execution_count": null,
   "id": "0c773fee",
   "metadata": {},
   "outputs": [],
   "source": []
  }
 ],
 "metadata": {
  "kernelspec": {
   "display_name": "R",
   "language": "R",
   "name": "ir"
  },
  "language_info": {
   "codemirror_mode": "r",
   "file_extension": ".r",
   "mimetype": "text/x-r-source",
   "name": "R",
   "pygments_lexer": "r",
   "version": "3.6.1"
  }
 },
 "nbformat": 4,
 "nbformat_minor": 5
}
