{
 "cells": [
  {
   "cell_type": "markdown",
   "metadata": {},
   "source": [
    "# Exercise Question 1: Given a string of odd length greater 7, return a string made of the middle three chars of a given String \n",
    "Case 1​: \n",
    "\n",
    "str1 = \"JhonDipPeta\" \n",
    "\n",
    "Expected Output​: \n",
    "\n",
    "Dip Case 2​: \n",
    "\n",
    "str2 = \"JaSonAy\" \n",
    "\n",
    "Expected Output​: \n",
    "\n",
    "Son \n",
    " "
   ]
  },
  {
   "cell_type": "code",
   "execution_count": 7,
   "metadata": {},
   "outputs": [
    {
     "name": "stdout",
     "output_type": "stream",
     "text": [
      "Dip\n",
      "Son\n"
     ]
    }
   ],
   "source": [
    "str1 = \"JhonDipPeta\"\n",
    "print(str1[4:7:1])\n",
    "str2 = \"JaSonAy\"\n",
    "print(str2[2:5:1])"
   ]
  },
  {
   "cell_type": "markdown",
   "metadata": {},
   "source": [
    "# Exercise Question 2: Given 2 strings, s1 and s2, create a new string by appending s2 in the middle of s1 \n",
    "\n",
    "Given​: s1 = \"Ault\" \n",
    "\n",
    "s2 = \"Kelly\" \n",
    "\n",
    "Expected Output​: AuKellylt \n",
    " "
   ]
  },
  {
   "cell_type": "code",
   "execution_count": 10,
   "metadata": {},
   "outputs": [
    {
     "name": "stdout",
     "output_type": "stream",
     "text": [
      "AuKellyt\n"
     ]
    }
   ],
   "source": [
    "s1 = \"Ault\"\n",
    "s2 = \"Kelly\"\n",
    "print(s1[0:2:1]+s2+s1[3::1])"
   ]
  },
  {
   "cell_type": "markdown",
   "metadata": {},
   "source": [
    "# Exercise Question 3: Given 2 strings, s1, and s2 return a new string made of the first, middle and last char each input string \n",
    "\n",
    "Given​: s1 = \"America\" s2 = \"Japan\" Expected Output​: AJrpan \n",
    " "
   ]
  },
  {
   "cell_type": "code",
   "execution_count": 12,
   "metadata": {},
   "outputs": [
    {
     "name": "stdout",
     "output_type": "stream",
     "text": [
      "AJrpan\n"
     ]
    }
   ],
   "source": [
    "s1 = \"America\" \n",
    "s2 = \"Japan\"\n",
    "print(s1[0]+s2[0]+s1[3]+s2[2::1])"
   ]
  },
  {
   "cell_type": "markdown",
   "metadata": {},
   "source": [
    "# Exercise Question 4: Arrange string characters such that lowercase letters should come first ,Given an input string with the combination of the lower and upper case arrange characters in such a way that all lowercase letters should come first. \n",
    "Given​: \n",
    "\n",
    "str1 = PyNaTive \n",
    "\n",
    "Expected Output​: yaivePNT "
   ]
  },
  {
   "cell_type": "code",
   "execution_count": 75,
   "metadata": {},
   "outputs": [
    {
     "name": "stdout",
     "output_type": "stream",
     "text": [
      "yaivePNT\n"
     ]
    }
   ],
   "source": [
    "str1 = \"PyNaTive\"\n",
    "lower = []\n",
    "upper = []\n",
    "for char in str1:\n",
    "    if char.islower():\n",
    "        lower.append(char)\n",
    "    else:\n",
    "        upper.append(char)\n",
    "sorted_string = ''.join(lower + upper)\n",
    "print(sorted_string)"
   ]
  },
  {
   "cell_type": "markdown",
   "metadata": {},
   "source": [
    "# Exercise Question 5: Count all lower case, upper case, digits, and special symbols from a given string \n",
    "\n",
    "Given:str1 = \"P@#yn26at^&i5ve\" \n",
    "\n",
    "Expected Outcome​: \n",
    "\n",
    "Total counts of chars, digits,and symbols  \n",
    "\n",
    "Chars = 8  Digits = 3  Symbol = 4 \n",
    " "
   ]
  },
  {
   "cell_type": "code",
   "execution_count": 79,
   "metadata": {},
   "outputs": [
    {
     "name": "stdout",
     "output_type": "stream",
     "text": [
      "Total counts of chars, digits,and symbols \n",
      "\n",
      "Chars =  8 Digits =  3 Symbol =  4\n"
     ]
    }
   ],
   "source": [
    "  charCount = 0\n",
    "  digitCount = 0\n",
    "  symbolCount = 0\n",
    "  for char in inputString:\n",
    "    if char.islower() or char.isupper():\n",
    "      charCount+=1\n",
    "    elif char.isnumeric():\n",
    "      digitCount+=1\n",
    "    else:\n",
    "      symbolCount+=1\n",
    "  print(\"Total counts of chars, digits,and symbols \\n\")    \n",
    "  print(\"Chars = \", charCount, \"Digits = \", digitCount, \"Symbol = \", symbolCount)\n",
    "      \n",
    "inputString = \"P@#yn26at^&i5ve\"\n"
   ]
  },
  {
   "cell_type": "markdown",
   "metadata": {},
   "source": [
    "# Exercise Question 6: Given two strings, s1 and s2, create a mixed String .Note​: create a third-string made of the first char of s1 then the last char of s2, Next, the second char of s1 and second last char of s2, and so on. Any leftover chars go at the end of the result.\n",
    "\n",
    "Given​: \n",
    "\n",
    "s1 = \"Abc\" \n",
    "\n",
    "s2 = \"Xyz\" \n",
    "\n",
    "Expected Output​: AzbycX "
   ]
  },
  {
   "cell_type": "code",
   "execution_count": 39,
   "metadata": {},
   "outputs": [
    {
     "name": "stdout",
     "output_type": "stream",
     "text": [
      "AzbycX\n"
     ]
    }
   ],
   "source": [
    "s1 = \"Abc\"\n",
    "s2 = \"Xyz\"\n",
    "s3 = s1[0]+s2[-1]+s1[1]+s2[-2]+s1[2]+s2[-3]\n",
    "print(s3)"
   ]
  },
  {
   "cell_type": "markdown",
   "metadata": {},
   "source": [
    "# Exercise Question 7: String characters balance Test .We’ll say that a String ​s1 ​ and ​s2 ​ is balanced if all the chars in the ​s1 ​ are there in ​s2 ​ . characters position doesn’t matter. \n",
    "Case 1​: \n",
    "\n",
    "s1 = \"Yn\" s2 = \"PYnative\" \n",
    "\n",
    "Expected Output​: \n",
    "\n",
    "True Case 2​: \n",
    "\n",
    "s1 = \"Ynf\" s2 = \"PYnative\" \n",
    "\n",
    "Expected Output​: \n",
    "\n",
    "False "
   ]
  },
  {
   "cell_type": "code",
   "execution_count": 43,
   "metadata": {},
   "outputs": [
    {
     "data": {
      "text/plain": [
       "True"
      ]
     },
     "execution_count": 43,
     "metadata": {},
     "output_type": "execute_result"
    }
   ],
   "source": [
    "s1 = \"Yn\" \n",
    "s2 = \"PYnative\"\n",
    "s1 in s2"
   ]
  },
  {
   "cell_type": "code",
   "execution_count": 44,
   "metadata": {},
   "outputs": [
    {
     "data": {
      "text/plain": [
       "False"
      ]
     },
     "execution_count": 44,
     "metadata": {},
     "output_type": "execute_result"
    }
   ],
   "source": [
    "s1 = \"Ynf\"\n",
    "s2 = \"PYnative\"\n",
    "s1 in s2"
   ]
  },
  {
   "cell_type": "markdown",
   "metadata": {},
   "source": [
    "# Exercise Question 8: Find all occurrences of “USA” in given string ignoring the case \n",
    "\n",
    "Given​: \n",
    "\n",
    "str1 = \"Welcome to USA. usa awesome, isn't it?\" \n",
    "\n",
    "Expected Outcome​: The USA count is: 2 "
   ]
  },
  {
   "cell_type": "code",
   "execution_count": 59,
   "metadata": {},
   "outputs": [
    {
     "name": "stdout",
     "output_type": "stream",
     "text": [
      "The USA count is: 2\n"
     ]
    }
   ],
   "source": [
    "str1 = \"Welcome to USA. usa awesome, isn't it?\"\n",
    "print('The USA count is:',str1.count('USA')+(str1.count('usa')))"
   ]
  },
  {
   "cell_type": "markdown",
   "metadata": {},
   "source": [
    "# Exercise Question 9: Given a string, return the sum and average of the digits that appear in the string, ignoring all other characters \n",
    "\n",
    "Given​: str1 = \"English = 78 Science = 83 Math = 68 History = 65\" \n",
    "\n",
    "Expected Outcome​: sum is 294 average is 73.5 \n",
    " "
   ]
  },
  {
   "cell_type": "code",
   "execution_count": 240,
   "metadata": {},
   "outputs": [],
   "source": [
    "str1 = \"English = 78 Science = 83 Math = 68 History = 65\""
   ]
  },
  {
   "cell_type": "markdown",
   "metadata": {},
   "source": [
    "# Exercise Question 10: Given an input string, count occurrences of all characters within a string \n",
    "\n",
    "Given​: str1 = \"Apple\" \n",
    "\n",
    "Expected Outcome​: {'A': 1, 'p': 2, 'l': 1, 'e': 1} "
   ]
  },
  {
   "cell_type": "code",
   "execution_count": 239,
   "metadata": {},
   "outputs": [
    {
     "name": "stdout",
     "output_type": "stream",
     "text": [
      "{'A': 1, 'p': 2, 'l': 1, 'e': 1}\n"
     ]
    }
   ],
   "source": [
    "str1 = \"Apple\"\n",
    "countDic = dict()\n",
    "for char in str1:\n",
    "  count = str1.count(char)\n",
    "  countDic[char]=count\n",
    "print(countDic)"
   ]
  },
  {
   "cell_type": "markdown",
   "metadata": {},
   "source": [
    "# Exercise Question 11: Reverse a given string \n",
    "\n",
    "Given​: str1 = \"PYnative\" \n",
    "\n",
    "Expected Output​: evitanYP "
   ]
  },
  {
   "cell_type": "code",
   "execution_count": 114,
   "metadata": {},
   "outputs": [
    {
     "name": "stdout",
     "output_type": "stream",
     "text": [
      "evitanYP\n"
     ]
    }
   ],
   "source": [
    "str1 = \"PYnative\"\n",
    "print(str1[::-1])"
   ]
  },
  {
   "cell_type": "markdown",
   "metadata": {},
   "source": [
    "# Exercise Question 12: Find the last position of a substring “Emma” in a given string \n",
    "\n",
    "Given​: \n",
    "\n",
    "str1 = \"Emma is a data scientist who knows Python. Emma works at google.\" \n",
    "Where in the string is the last occurrence of the substring “Emma”?: \n",
    "\n",
    "Expected Output​: Last occurrence of Emma starts at index ​43 "
   ]
  },
  {
   "cell_type": "code",
   "execution_count": null,
   "metadata": {},
   "outputs": [],
   "source": []
  },
  {
   "cell_type": "markdown",
   "metadata": {},
   "source": [
    "# Exercise Question 13: Split a given string on hyphens into several substrings and display each substring \n",
    "\n",
    "Given: \n",
    "\n",
    "str1 = Emma-is-a-data-scientist \n",
    "\n",
    "Expected Output​: Displaying each substring \n",
    " \n",
    " Emma\n",
    " \n",
    " is \n",
    " \n",
    " a \n",
    " \n",
    " data \n",
    " \n",
    " scientist "
   ]
  },
  {
   "cell_type": "code",
   "execution_count": 118,
   "metadata": {},
   "outputs": [
    {
     "name": "stdout",
     "output_type": "stream",
     "text": [
      "Emma\n",
      "is\n",
      "a\n",
      "data\n",
      "scientist\n"
     ]
    }
   ],
   "source": [
    "str1 = 'Emma-is-a-data-scientist'\n",
    "x=str1.split('-')\n",
    "for sub in x:\n",
    "    print(sub)"
   ]
  },
  {
   "cell_type": "markdown",
   "metadata": {},
   "source": [
    "# Exercise Question 14: Remove empty strings from a list of strings \n",
    "\n",
    "Given​: str_list = [\"Emma\", \"Jon\", \"\", \"Kelly\", None, \"Eric\", \"\"] \n",
    "\n",
    "Expected Output​: \n",
    "\n",
    "Original list of sting ['Emma', 'Jon', '', 'Kelly', None, 'Eric', ''] \n",
    "\n",
    "After removing empty strings ['Emma', 'Jon', 'Kelly', 'Eric'] "
   ]
  },
  {
   "cell_type": "code",
   "execution_count": 161,
   "metadata": {},
   "outputs": [
    {
     "data": {
      "text/plain": [
       "['Emma', 'Jon', 'Kelly', 'Eric']"
      ]
     },
     "execution_count": 161,
     "metadata": {},
     "output_type": "execute_result"
    }
   ],
   "source": [
    "str_list = [\"Emma\", \"Jon\", \"\", \"Kelly\", None, \"Eric\", \"\"]\n",
    "str_list.remove(\"\")\n",
    "str_list.remove(\"\")\n",
    "str_list.remove(None)\n",
    "str_list\n"
   ]
  },
  {
   "cell_type": "markdown",
   "metadata": {},
   "source": [
    "# Exercise Question 15: Remove special symbols/Punctuation from a given string\n",
    "\n",
    "str1 = \"/*Jon is @developer & musician\"\n",
    "\n",
    "Expected Output​: “Jon is developer musician” "
   ]
  },
  {
   "cell_type": "code",
   "execution_count": 199,
   "metadata": {},
   "outputs": [
    {
     "name": "stdout",
     "output_type": "stream",
     "text": [
      "\"Jon is developer musician\"\n"
     ]
    }
   ],
   "source": [
    "str1 = '\"/*Jon is @developer & musician\"'\n",
    "x=str1.replace('/','').replace('*','').replace('@','').replace('&','').replace('  ',' ')\n",
    "print(x)"
   ]
  },
  {
   "cell_type": "markdown",
   "metadata": {},
   "source": [
    "# Exercise Question 16: Removal all the characters other than integers from string \n",
    "\n",
    "Given​: I am 25 years and 10 months old \n",
    "\n",
    "Expected Output​: 2510 \n",
    " "
   ]
  },
  {
   "cell_type": "code",
   "execution_count": 198,
   "metadata": {},
   "outputs": [
    {
     "name": "stdout",
     "output_type": "stream",
     "text": [
      "2510"
     ]
    }
   ],
   "source": [
    "str1='I am 25 years and 10 months old'\n",
    "for i in str1:\n",
    "    if i.isdigit():\n",
    "        print(i,end=\"\")"
   ]
  },
  {
   "cell_type": "markdown",
   "metadata": {},
   "source": [
    "# Exercise Question 17: Find words with both alphabets and numbers \n",
    "\n",
    "Given​: \n",
    "\n",
    "str1 = \"Emma25 is Data scientist50 and AI Expert\" \n",
    "\n",
    "Expected Output​: \n",
    "\n",
    "Emma25 \n",
    "\n",
    "scientist50 "
   ]
  },
  {
   "cell_type": "code",
   "execution_count": 238,
   "metadata": {},
   "outputs": [
    {
     "name": "stdout",
     "output_type": "stream",
     "text": [
      "Emma25\n",
      "scientist50\n"
     ]
    }
   ],
   "source": [
    "str1 = \"Emma25 is Data scientist50 and AI Expert\"\n",
    "s = []\n",
    "t = str1.split()\n",
    "for i in t:\n",
    "    if any(c.isalpha() for c in i) and any(c.isdigit() for c in i):\n",
    "        s.append(i)\n",
    "\n",
    "for it in s:\n",
    "    print(it)"
   ]
  },
  {
   "cell_type": "markdown",
   "metadata": {},
   "source": [
    "# Exercise Question 18: From given string replace each punctuation with # \n",
    "\n",
    "Given​: str1 = '/*Jon is @developer & musician!!'\n",
    "\n",
    "Expected Output​: ##Jon is #developer # musician## "
   ]
  },
  {
   "cell_type": "code",
   "execution_count": 243,
   "metadata": {},
   "outputs": [
    {
     "name": "stdout",
     "output_type": "stream",
     "text": [
      "##Jon is #developer # musician##\n"
     ]
    }
   ],
   "source": [
    "str1 =  '/*Jon is @developer & musician!!'\n",
    "x=str1.replace('/','#').replace('*','#').replace('@','#').replace('&','#').replace('!','#')\n",
    "print(x)"
   ]
  },
  {
   "cell_type": "code",
   "execution_count": null,
   "metadata": {},
   "outputs": [],
   "source": []
  }
 ],
 "metadata": {
  "kernelspec": {
   "display_name": "Python 3",
   "language": "python",
   "name": "python3"
  },
  "language_info": {
   "codemirror_mode": {
    "name": "ipython",
    "version": 3
   },
   "file_extension": ".py",
   "mimetype": "text/x-python",
   "name": "python",
   "nbconvert_exporter": "python",
   "pygments_lexer": "ipython3",
   "version": "3.8.3"
  }
 },
 "nbformat": 4,
 "nbformat_minor": 4
}
