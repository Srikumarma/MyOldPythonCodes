{
 "cells": [
  {
   "cell_type": "code",
   "execution_count": 16,
   "id": "960d2a19",
   "metadata": {},
   "outputs": [
    {
     "data": {
      "text/plain": [
       "An object of class \"a\"\n",
       "Slot \"name\":\n",
       "[1] \"Vik\"\n",
       "\n",
       "Slot \"id\":\n",
       "[1] 1002\n",
       "\n",
       "Slot \"contact\":\n",
       "[1] \"west ave\"\n"
      ]
     },
     "metadata": {},
     "output_type": "display_data"
    },
    {
     "data": {
      "text/html": [
       "TRUE"
      ],
      "text/latex": [
       "TRUE"
      ],
      "text/markdown": [
       "TRUE"
      ],
      "text/plain": [
       "[1] TRUE"
      ]
     },
     "metadata": {},
     "output_type": "display_data"
    },
    {
     "data": {
      "text/html": [
       "TRUE"
      ],
      "text/latex": [
       "TRUE"
      ],
      "text/markdown": [
       "TRUE"
      ],
      "text/plain": [
       "[1] TRUE"
      ]
     },
     "metadata": {},
     "output_type": "display_data"
    },
    {
     "data": {
      "text/html": [
       "'Vik'"
      ],
      "text/latex": [
       "'Vik'"
      ],
      "text/markdown": [
       "'Vik'"
      ],
      "text/plain": [
       "[1] \"Vik\""
      ]
     },
     "metadata": {},
     "output_type": "display_data"
    }
   ],
   "source": [
    "#s4 class - setclass\n",
    "setClass(\"a\",slots=list(name=\"character\",id=\"numeric\",contact=\"character\"))\n",
    "obj=new(\"a\",name=\"Vik\",id=1002,contact=\"west ave\")\n",
    "obj\n",
    "isS4(obj)\n",
    "is.object(obj)\n",
    "obj@name"
   ]
  },
  {
   "cell_type": "code",
   "execution_count": 15,
   "id": "54dcff3f",
   "metadata": {},
   "outputs": [
    {
     "data": {
      "text/plain": [
       "$name\n",
       "[1] \"harry\"\n",
       "\n",
       "$age\n",
       "[1] 19\n",
       "\n",
       "$loc\n",
       "[1] \"London\"\n",
       "\n",
       "attr(,\"class\")\n",
       "[1] \"stdinfo\""
      ]
     },
     "metadata": {},
     "output_type": "display_data"
    },
    {
     "data": {
      "text/html": [
       "'harry'"
      ],
      "text/latex": [
       "'harry'"
      ],
      "text/markdown": [
       "'harry'"
      ],
      "text/plain": [
       "[1] \"harry\""
      ]
     },
     "metadata": {},
     "output_type": "display_data"
    }
   ],
   "source": [
    "#s3\n",
    "std=list(name=\"harry\", age=19,loc=\"London\")\n",
    "class(std)=\"stdinfo\"\n",
    "std\n",
    "std$name"
   ]
  },
  {
   "cell_type": "code",
   "execution_count": 20,
   "id": "f42d7892",
   "metadata": {},
   "outputs": [
    {
     "ename": "ERROR",
     "evalue": "Error in x + 5: non-numeric argument to binary operator\n",
     "output_type": "error",
     "traceback": [
      "Error in x + 5: non-numeric argument to binary operator\nTraceback:\n",
      "1. b(\"s\")",
      "2. a(b)   # at line 6 of file <text>"
     ]
    }
   ],
   "source": [
    "#The error code\n",
    "a=function(x){\n",
    "    x+5\n",
    "}\n",
    "b=function(y){\n",
    "    a(b)\n",
    "}\n",
    "b(\"s\")\n",
    "#debugging it\n",
    "traceback()"
   ]
  },
  {
   "cell_type": "code",
   "execution_count": 22,
   "id": "e2c1e9fd",
   "metadata": {},
   "outputs": [
    {
     "ename": "ERROR",
     "evalue": "Error in x + 5: non-numeric argument to binary operator\n",
     "output_type": "error",
     "traceback": [
      "Error in x + 5: non-numeric argument to binary operator\nTraceback:\n",
      "1. b(\"s\")",
      "2. a(b)   # at line 6 of file <text>"
     ]
    }
   ],
   "source": [
    "#The error code\n",
    "a=function(x){\n",
    "    x+5\n",
    "}\n",
    "b=function(y){\n",
    "    a(b)\n",
    "}\n",
    "#calling error handler\n",
    "options(error = traceback)\n",
    "b(\"s\")"
   ]
  },
  {
   "cell_type": "code",
   "execution_count": 24,
   "id": "e47c91ac",
   "metadata": {},
   "outputs": [
    {
     "ename": "ERROR",
     "evalue": "Error in parse(text = x, srcfile = src): <text>:5:10: unexpected numeric constant\n4: }\n5: function(3\n            ^\n",
     "output_type": "error",
     "traceback": [
      "Error in parse(text = x, srcfile = src): <text>:5:10: unexpected numeric constant\n4: }\n5: function(3\n            ^\nTraceback:\n"
     ]
    }
   ],
   "source": [
    "function(a){\n",
    "    browser()\n",
    "    a+5\n",
    "}"
   ]
  },
  {
   "cell_type": "code",
   "execution_count": 25,
   "id": "2b74831c",
   "metadata": {},
   "outputs": [
    {
     "name": "stdout",
     "output_type": "stream",
     "text": [
      "Called from: eval(expr, envir, enclos)\n"
     ]
    }
   ],
   "source": [
    "browser()"
   ]
  },
  {
   "cell_type": "code",
   "execution_count": 26,
   "id": "d38c6a92",
   "metadata": {},
   "outputs": [],
   "source": [
    "options(error = recover)\n",
    "#The error code\n",
    "a=function(x){\n",
    "    x+5\n",
    "}\n",
    "b=function(y){\n",
    "    a(b)\n",
    "}"
   ]
  },
  {
   "cell_type": "code",
   "execution_count": null,
   "id": "608b2d65",
   "metadata": {},
   "outputs": [],
   "source": []
  }
 ],
 "metadata": {
  "kernelspec": {
   "display_name": "R",
   "language": "R",
   "name": "ir"
  },
  "language_info": {
   "codemirror_mode": "r",
   "file_extension": ".r",
   "mimetype": "text/x-r-source",
   "name": "R",
   "pygments_lexer": "r",
   "version": "3.6.1"
  }
 },
 "nbformat": 4,
 "nbformat_minor": 5
}
