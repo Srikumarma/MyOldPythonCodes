{
 "cells": [
  {
   "cell_type": "code",
   "execution_count": 4,
   "metadata": {},
   "outputs": [
    {
     "data": {
      "text/plain": [
       "'hi allhi allhi allhi all'"
      ]
     },
     "execution_count": 4,
     "metadata": {},
     "output_type": "execute_result"
    }
   ],
   "source": [
    "myfile1=open('Srikumar.csv','w+')\n",
    "myfile1.close()\n",
    "myfile1=open('Srikumar.csv','r')\n",
    "myfile=open('Test.csv','r')\n",
    "myfile1.close()\n",
    "myfile.close()\n",
    "myfile1=open('Srikumar.csv','a+')\n",
    "myfile=open('Test.csv','r')\n",
    "myfile1.write(myfile.read())\n",
    "myfile1.seek(0)\n",
    "myfile1.read()"
   ]
  },
  {
   "cell_type": "code",
   "execution_count": 5,
   "metadata": {},
   "outputs": [
    {
     "data": {
      "text/plain": [
       "'cluster_name,DC Name,Cluster Region (Prod/Non Prod),Cluster Type,Active,reporting_date,no_of_hosts,core_per_host,ram_per_host, vcpu_allocated,vram_allocated\\nAtlanta UCS Cluster 1,Atlanta,NonProd,Vmware,TRUE,8/24/2020,3,24,384,102,279\\nMPL Prod Silver Cluster 1,Mpl,NonProd,Vmware,TRUE,8/24/2020,0,48,512,0,0\\nSHK DATABASE CLUSTER,SHK,Prod,Vmware,TRUE,8/24/2020,4,32,3072,524,2134\\nSHK DATABASE CLUSTER2,SHK,Prod,Vmware,TRUE,8/24/2020,4,32,3072,330,1572\\nSHK DB2 Cluster,SHK,Prod,Vmware,TRUE,8/24/2020,7,36,768,52,406\\nSHK NONBILLABLE CLUSTER,SHK,Prod,Vmware,TRUE,8/24/2020,3,36,768,437,1413\\nSHK GENESYS CLUSTER,SHK,Prod,Vmware,TRUE,8/24/2020,7,36,768,1204,3414\\nSHK GemFire Cluster,SHK,Prod,Vmware,TRUE,8/24/2020,4,36,768,72,280\\nSHK Jboss Cluster,SHK,Prod,Vmware,TRUE,8/24/2020,10,36,768,1451,3130\\nSHK DENSE WINDOWS CLUSTER,SHK,prod,Vmware,TRUE,8/24/2020,3,72,3072,308,1152\\nSHK LARGE WINDOWS,SHK,Prod,Vmware,TRUE,8/24/2020,4,32,3072,534,2283\\nSHK Management,SHK,Prod,Vmware,TRUE,8/24/2020,4,36,768,243,718\\nSHK Platinum Linux Prod1,SHK,Prod,Vmware,TRUE,8/24/2020,4,36,768,326,686\\nSHK Platinum Windows Prod1,SHK,Prod,Vmware,TRUE,8/24/2020,3,36,768,76,220\\nSHK TENANT LINUX PROD2,SHK,Prod,Vmware,TRUE,8/24/2020,12,36,768,2158,7561\\nSHK TENANT WINDOWS PROD2,SHK,Prod,Vmware,TRUE,8/24/2020,9,36,768,1471,4352\\nSHK Tenant Linux Prod1,SHK,Prod,Vmware,TRUE,8/24/2020,12,36,768,2310,8005\\nSHK Tenant Windows Prod1,SHK,Prod,Vmware,TRUE,8/24/2020,12,36,768,1818,6301\\nSTR DATABASE CLUSTER2,STR,Prod,Vmware,TRUE,8/24/2020,6,32,3072,646,2532\\nSTR DB2 CLUSTER,STR,Prod,Vmware,TRUE,8/24/2020,15,36,768,192,2448\\nSTR DENSE WINDOWS  CLUSTER,STR,Prod,Vmware,TRUE,8/24/2020,3,72,3072,908,3088\\nSTR Database Cluster,STR,Prod,Vmware,TRUE,8/24/2020,6,32,3072,840,3643\\nSTR GEMFIRE CLUSTER,STR,Prod,Vmware,TRUE,8/24/2020,3,36,768,108,440\\nSTR GENESYS CLUSTER,STR,Prod,Vmware,TRUE,8/24/2020,7,36,768,1312,3894\\nSTR JBOSS CLUSTER2,STR,Prod,Vmware,TRUE,8/24/2020,7,36,768,1319,2752\\nSTR JBOSS Cluster1,STR,Prod,Vmware,TRUE,8/24/2020,11,36,768,2725,4666\\nSTR Large Windows,STR,Prod,Vmware,FALSE,8/24/2020,0,32,3072,0,0\\nSTR Management,STR,Prod,Vmware,TRUE,8/24/2020,4,36,768,210,648\\nSTR NON-SENSITIVE LINUX2,STR,Prod,Vmware,TRUE,8/24/2020,14,36,1535,4000,12717\\nSTR NON-SENSITIVE WINDOWS2,STR,Prod,Vmware,TRUE,8/24/2020,12,36,1535,2918,8173\\nSTR Non-Sensitive Linux,STR,Prod,Vmware,TRUE,8/24/2020,14,36,1535,4367,14774\\nSTR Non-Sensitive Windows,STR,Prod,Vmware,TRUE,8/24/2020,10,36,1535,1976,6099\\nSTR Platinum Linux Prod1,STR,Prod,Vmware,TRUE,8/24/2020,6,36,768,1024,2476\\nSTR Platinum Windows Prod1,STR,Prod,Vmware,TRUE,8/24/2020,3,36,768,216,604\\nWindsor UCS Cluster 1,Windsor,NonProd,Vmware,TRUE,8/24/2020,3,24,384,198,475\\nDes Moines UCS Cluster 1,Des Moines,NonProd,Vmware,TRUE,8/24/2020,3,24,384,77,200\\nWest Chester UCS Cluster 1,West Chester,NonProd,Vmware,TRUE,8/24/2020,3,24,384,182,427\\nBraintree UCS Cluster 1,BrainTree,NonProd,Vmware,TRUE,8/24/2020,3,24,384,90,264\\nSTR NonBillable Cluster,STR,Prod,Vmware,TRUE,8/24/2020,4,36,1535,445,1228\\nSTR NON-PROD LINUX,STR,NonProd,Vmware,TRUE,8/24/2020,3,36,1535,680,2376\\nChandler UCS Cluster 1,MPL,NonProd,Vmware,TRUE,8/24/2020,3,24,384,44,120\\n'"
      ]
     },
     "execution_count": 5,
     "metadata": {},
     "output_type": "execute_result"
    }
   ],
   "source": [
    "f1=open('Compute Report.csv','w+')\n",
    "f1.close()\n",
    "f1=open('Compute Report.csv','r')\n",
    "f2=open('Compute Report 0824.csv','r')\n",
    "f1.close()\n",
    "f2.close()\n",
    "f1=open('Compute Report.csv','a+')\n",
    "f2=open('Compute Report 0824.csv','r')\n",
    "f1.write(f2.read())\n",
    "f1.seek(0)\n",
    "f1.read()"
   ]
  },
  {
   "cell_type": "code",
   "execution_count": null,
   "metadata": {},
   "outputs": [],
   "source": []
  }
 ],
 "metadata": {
  "kernelspec": {
   "display_name": "Python 3",
   "language": "python",
   "name": "python3"
  },
  "language_info": {
   "codemirror_mode": {
    "name": "ipython",
    "version": 3
   },
   "file_extension": ".py",
   "mimetype": "text/x-python",
   "name": "python",
   "nbconvert_exporter": "python",
   "pygments_lexer": "ipython3",
   "version": "3.8.3"
  }
 },
 "nbformat": 4,
 "nbformat_minor": 4
}
