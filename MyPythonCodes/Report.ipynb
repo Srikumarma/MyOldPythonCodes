{
 "cells": [
  {
   "cell_type": "code",
   "execution_count": 2,
   "metadata": {},
   "outputs": [
    {
     "data": {
      "text/plain": [
       "'cluster_name,DC Name,Cluster Region (Prod/Non Prod),Cluster Type,Active,reporting_date,no_of_hosts,core_per_host,ram_per_host, vcpu_allocated,vram_allocated\\nAtlanta UCS Cluster 1,Atlanta,NonProd,Vmware,TRUE,10-12-2020,3,24,384,102,289\\nSHK DATABASE CLUSTER,SHK,Prod,Vmware,TRUE,10-12-2020,6,32,3072,882,3834\\nSHK DATABASE CLUSTER2,SHK,Prod,Vmware,TRUE,10-12-2020,2,32,3072,0,0\\nSHK DB2 Cluster,SHK,Prod,Vmware,TRUE,10-12-2020,7,36,768,106,710\\nSHK NONBILLABLE CLUSTER,SHK,Prod,Vmware,TRUE,10-12-2020,3,36,768,394,1277\\nSHK GENESYS CLUSTER,SHK,Prod,Vmware,TRUE,10-12-2020,7,36,768,1204,3414\\nSHK GemFire Cluster,SHK,Prod,Vmware,TRUE,10-12-2020,4,36,768,66,280\\nSHK Jboss Cluster,SHK,Prod,Vmware,TRUE,10-12-2020,10,36,768,1497,3220\\nSHK DENSE WINDOWS CLUSTER,SHK,prod,Vmware,TRUE,10-12-2020,5,72,3072,802,3612\\nSHK LARGE WINDOWS,SHK,Prod,Vmware,TRUE,10-12-2020,4,32,3072,56,408\\nSHK Management,SHK,Prod,Vmware,TRUE,10-12-2020,4,36,768,243,718\\nSHK Platinum Linux Prod1,SHK,Prod,Vmware,TRUE,10-12-2020,4,36,768,352,744\\nSHK Platinum Windows Prod1,SHK,Prod,Vmware,TRUE,10-12-2020,3,36,768,76,220\\nSHK TENANT LINUX PROD2,SHK,Prod,Vmware,TRUE,10-12-2020,12,36,768,1973,6438\\nSHK TENANT WINDOWS PROD2,SHK,Prod,Vmware,TRUE,10-12-2020,9,36,768,1629,4683\\nSHK Tenant Linux Prod1,SHK,Prod,Vmware,TRUE,10-12-2020,12,36,768,2273,7020\\nSHK Tenant Windows Prod1,SHK,Prod,Vmware,TRUE,10-12-2020,12,36,768,1652,5379\\nSTR DATABASE CLUSTER2,STR,Prod,Vmware,TRUE,10-12-2020,6,32,3072,662,2638\\nSTR DB2 CLUSTER,STR,Prod,Vmware,TRUE,10-12-2020,15,36,768,294,3167\\nSTR DENSE WINDOWS  CLUSTER,STR,Prod,Vmware,TRUE,10-12-2020,4,72,3072,910,3092\\nSTR Database Cluster,STR,Prod,Vmware,TRUE,10-12-2020,6,32,3072,860,3583\\nSTR GEMFIRE CLUSTER,STR,Prod,Vmware,TRUE,10-12-2020,3,36,768,88,368\\nSTR GENESYS CLUSTER,STR,Prod,Vmware,TRUE,10-12-2020,7,36,768,1312,3894\\nSTR JBOSS CLUSTER2,STR,Prod,Vmware,TRUE,10-12-2020,7,36,768,1293,2705\\nSTR JBOSS Cluster1,STR,Prod,Vmware,TRUE,10-12-2020,11,36,768,2425,4332\\nSTR Large Windows,STR,Prod,Vmware,FALSE,10-12-2020,3,32,3072,0,0\\nSTR Management,STR,Prod,Vmware,TRUE,10-12-2020,4,36,768,210,648\\nSTR NON-SENSITIVE LINUX2,STR,Prod,Vmware,TRUE,10-12-2020,14,36,1535,3896,12144\\nSTR NON-SENSITIVE WINDOWS2,STR,Prod,Vmware,TRUE,10-12-2020,12,36,1535,2596,7311\\nSTR Non-Sensitive Linux,STR,Prod,Vmware,TRUE,10-12-2020,14,36,1535,4452,15127\\nSTR Non-Sensitive Windows,STR,Prod,Vmware,TRUE,10-12-2020,10,36,1535,1904,5919\\nSTR Platinum Linux Prod1,STR,Prod,Vmware,TRUE,10-12-2020,6,36,768,985,2416\\nSTR Platinum Windows Prod1,STR,Prod,Vmware,TRUE,10-12-2020,3,36,768,216,604\\nWindsor UCS Cluster 1,Windsor,NonProd,Vmware,TRUE,10-12-2020,3,24,384,192,485\\nDes Moines UCS Cluster 1,Des Moines,NonProd,Vmware,TRUE,10-12-2020,3,24,384,77,200\\nWest Chester UCS Cluster 1,West Chester,NonProd,Vmware,TRUE,10-12-2020,3,24,384,178,429\\nBraintree UCS Cluster 1,BrainTree,NonProd,Vmware,TRUE,10-12-2020,3,24,384,90,274\\nSTR NonBillable Cluster,STR,Prod,Vmware,TRUE,10-12-2020,4,36,1535,321,864\\nSTR NON-PROD LINUX,STR,NonProd,Vmware,TRUE,10-12-2020,3,36,1535,642,2284\\nChandler UCS Cluster 1,MPL,NonProd,Vmware,TRUE,10-12-2020,3,24,384,44,120\\nSHK DENSE LINUX CLUSTER,SHK,Prod,Vmware,TRUE,10-12-2020,5,72,3071,990,4106\\nSTR NON-PROD WINDOWS,STR,NonProd,Vmware,TRUE,10-12-2020,3,36,1535,426,1256\\nSTR NON-PROD JBOSS,STR,NonProd,Vmware,TRUE,10-12-2020,3,36,1535,354,540\\nSTR DENSE LINUX CLUSTER,STR,Prod,Vmware,TRUE,10-12-2020,5,72,3071,256,808\\nSHK pcf AZ1,SHK,Prod,Vmware,TRUE,10-12-2020,3,36,1535,0,0\\nSHK pcf2 AZ2,SHK,Prod,Vmware,TRUE,10-12-2020,2,36,1535,0,0\\n\\ncluster_name,DC Name,Cluster Region (Prod/Non Prod),Cluster Type,Active,reporting_date,no_of_hosts,core_per_host,ram_per_host, vcpu_allocated,vram_allocated\\nAtlanta UCS Cluster 1,Atlanta,NonProd,Vmware,TRUE,9/28/2020,3,24,384,102,279\\nSHK DATABASE CLUSTER,SHK,Prod,Vmware,TRUE,9/28/2020,4,32,3072,826,3552\\nSHK DATABASE CLUSTER2,SHK,Prod,Vmware,TRUE,9/28/2020,4,32,3072,48,240\\nSHK DB2 Cluster,SHK,Prod,Vmware,TRUE,9/28/2020,7,36,768,96,630\\nSHK NONBILLABLE CLUSTER,SHK,Prod,Vmware,TRUE,9/28/2020,3,36,768,445,1417\\nSHK GENESYS CLUSTER,SHK,Prod,Vmware,TRUE,9/28/2020,7,36,768,1204,3414\\nSHK GemFire Cluster,SHK,Prod,Vmware,TRUE,9/28/2020,4,36,768,66,280\\nSHK Jboss Cluster,SHK,Prod,Vmware,TRUE,9/28/2020,10,36,768,1455,3170\\nSHK DENSE WINDOWS CLUSTER,SHK,prod,Vmware,TRUE,9/28/2020,5,72,3072,802,3612\\nSHK LARGE WINDOWS,SHK,Prod,Vmware,TRUE,9/28/2020,4,32,3072,56,408\\nSHK Management,SHK,Prod,Vmware,TRUE,9/28/2020,4,36,768,243,718\\nSHK Platinum Linux Prod1,SHK,Prod,Vmware,TRUE,9/28/2020,4,36,768,348,740\\nSHK Platinum Windows Prod1,SHK,Prod,Vmware,TRUE,9/28/2020,3,36,768,76,220\\nSHK TENANT LINUX PROD2,SHK,Prod,Vmware,TRUE,9/28/2020,12,36,768,1992,6498\\nSHK TENANT WINDOWS PROD2,SHK,Prod,Vmware,TRUE,9/28/2020,9,36,768,1641,4715\\nSHK Tenant Linux Prod1,SHK,Prod,Vmware,TRUE,9/28/2020,12,36,768,2173,6708\\nSHK Tenant Windows Prod1,SHK,Prod,Vmware,TRUE,9/28/2020,12,36,768,1654,5387\\nSTR DATABASE CLUSTER2,STR,Prod,Vmware,TRUE,9/28/2020,6,32,3072,662,2632\\nSTR DB2 CLUSTER,STR,Prod,Vmware,TRUE,9/28/2020,15,36,768,284,3005\\nSTR DENSE WINDOWS  CLUSTER,STR,Prod,Vmware,TRUE,9/28/2020,3,72,3072,908,3088\\nSTR Database Cluster,STR,Prod,Vmware,TRUE,9/28/2020,6,32,3072,828,3513\\nSTR GEMFIRE CLUSTER,STR,Prod,Vmware,TRUE,9/28/2020,3,36,768,108,440\\nSTR GENESYS CLUSTER,STR,Prod,Vmware,TRUE,9/28/2020,7,36,768,1312,3894\\nSTR JBOSS CLUSTER2,STR,Prod,Vmware,TRUE,9/28/2020,7,36,768,1287,2696\\nSTR JBOSS Cluster1,STR,Prod,Vmware,TRUE,9/28/2020,11,36,768,2321,4194\\nSTR Large Windows,STR,Prod,Vmware,FALSE,9/28/2020,3,32,3072,0,0\\nSTR Management,STR,Prod,Vmware,TRUE,9/28/2020,4,36,768,210,648\\nSTR NON-SENSITIVE LINUX2,STR,Prod,Vmware,TRUE,9/28/2020,14,36,1535,4003,12377\\nSTR NON-SENSITIVE WINDOWS2,STR,Prod,Vmware,TRUE,9/28/2020,12,36,1535,2610,7343\\nSTR Non-Sensitive Linux,STR,Prod,Vmware,TRUE,9/28/2020,14,36,1535,4504,15236\\nSTR Non-Sensitive Windows,STR,Prod,Vmware,TRUE,9/28/2020,10,36,1535,1900,5903\\nSTR Platinum Linux Prod1,STR,Prod,Vmware,TRUE,9/28/2020,6,36,768,971,2383\\nSTR Platinum Windows Prod1,STR,Prod,Vmware,TRUE,9/28/2020,3,36,768,216,604\\nWindsor UCS Cluster 1,Windsor,NonProd,Vmware,TRUE,9/28/2020,3,24,384,194,479\\nDes Moines UCS Cluster 1,Des Moines,NonProd,Vmware,TRUE,9/28/2020,3,24,384,77,200\\nWest Chester UCS Cluster 1,West Chester,NonProd,Vmware,TRUE,9/28/2020,3,24,384,178,419\\nBraintree UCS Cluster 1,BrainTree,NonProd,Vmware,TRUE,9/28/2020,3,24,384,90,264\\nSTR NonBillable Cluster,STR,Prod,Vmware,TRUE,9/28/2020,4,36,1535,413,1124\\nSTR NON-PROD LINUX,STR,NonProd,Vmware,TRUE,9/28/2020,3,36,1535,642,2272\\nChandler UCS Cluster 1,MPL,NonProd,Vmware,TRUE,9/28/2020,3,24,384,44,120\\nSHK DENSE LINUX CLUSTER,SHK,Prod,Vmware,TRUE,9/28/2020,5,72,3071,986,4119\\nSTR NON-PROD WINDOWS,STR,NonProd,Vmware,TRUE,9/28/2020,3,36,1535,426,1256\\nSTR NON-PROD JBOSS,STR,NonProd,Vmware,TRUE,9/28/2020,3,36,1535,346,532\\nSTR DENSE LINUX CLUSTER,STR,Prod,Vmware,TRUE,9/28/2020,5,72,3071,232,744\\nSHK pcf AZ1,SHK,Prod,Vmware,TRUE,9/28/2020,3,36,1535,0,0\\nSHK pcf2 AZ2,SHK,Prod,Vmware,TRUE,9/28/2020,2,36,1535,0,0\\n\\ncluster_name,DC Name,Cluster Region (Prod/Non Prod),Cluster Type,Active,reporting_date,no_of_hosts,core_per_host,ram_per_host, vcpu_allocated,vram_allocated\\nAtlanta UCS Cluster 1,Atlanta,NonProd,Vmware,TRUE,8/24/2020,3,24,384,102,279\\nMPL Prod Silver Cluster 1,Mpl,NonProd,Vmware,TRUE,8/24/2020,0,48,512,0,0\\nSHK DATABASE CLUSTER,SHK,Prod,Vmware,TRUE,8/24/2020,4,32,3072,524,2134\\nSHK DATABASE CLUSTER2,SHK,Prod,Vmware,TRUE,8/24/2020,4,32,3072,330,1572\\nSHK DB2 Cluster,SHK,Prod,Vmware,TRUE,8/24/2020,7,36,768,52,406\\nSHK NONBILLABLE CLUSTER,SHK,Prod,Vmware,TRUE,8/24/2020,3,36,768,437,1413\\nSHK GENESYS CLUSTER,SHK,Prod,Vmware,TRUE,8/24/2020,7,36,768,1204,3414\\nSHK GemFire Cluster,SHK,Prod,Vmware,TRUE,8/24/2020,4,36,768,72,280\\nSHK Jboss Cluster,SHK,Prod,Vmware,TRUE,8/24/2020,10,36,768,1451,3130\\nSHK DENSE WINDOWS CLUSTER,SHK,prod,Vmware,TRUE,8/24/2020,3,72,3072,308,1152\\nSHK LARGE WINDOWS,SHK,Prod,Vmware,TRUE,8/24/2020,4,32,3072,534,2283\\nSHK Management,SHK,Prod,Vmware,TRUE,8/24/2020,4,36,768,243,718\\nSHK Platinum Linux Prod1,SHK,Prod,Vmware,TRUE,8/24/2020,4,36,768,326,686\\nSHK Platinum Windows Prod1,SHK,Prod,Vmware,TRUE,8/24/2020,3,36,768,76,220\\nSHK TENANT LINUX PROD2,SHK,Prod,Vmware,TRUE,8/24/2020,12,36,768,2158,7561\\nSHK TENANT WINDOWS PROD2,SHK,Prod,Vmware,TRUE,8/24/2020,9,36,768,1471,4352\\nSHK Tenant Linux Prod1,SHK,Prod,Vmware,TRUE,8/24/2020,12,36,768,2310,8005\\nSHK Tenant Windows Prod1,SHK,Prod,Vmware,TRUE,8/24/2020,12,36,768,1818,6301\\nSTR DATABASE CLUSTER2,STR,Prod,Vmware,TRUE,8/24/2020,6,32,3072,646,2532\\nSTR DB2 CLUSTER,STR,Prod,Vmware,TRUE,8/24/2020,15,36,768,192,2448\\nSTR DENSE WINDOWS  CLUSTER,STR,Prod,Vmware,TRUE,8/24/2020,3,72,3072,908,3088\\nSTR Database Cluster,STR,Prod,Vmware,TRUE,8/24/2020,6,32,3072,840,3643\\nSTR GEMFIRE CLUSTER,STR,Prod,Vmware,TRUE,8/24/2020,3,36,768,108,440\\nSTR GENESYS CLUSTER,STR,Prod,Vmware,TRUE,8/24/2020,7,36,768,1312,3894\\nSTR JBOSS CLUSTER2,STR,Prod,Vmware,TRUE,8/24/2020,7,36,768,1319,2752\\nSTR JBOSS Cluster1,STR,Prod,Vmware,TRUE,8/24/2020,11,36,768,2725,4666\\nSTR Large Windows,STR,Prod,Vmware,FALSE,8/24/2020,0,32,3072,0,0\\nSTR Management,STR,Prod,Vmware,TRUE,8/24/2020,4,36,768,210,648\\nSTR NON-SENSITIVE LINUX2,STR,Prod,Vmware,TRUE,8/24/2020,14,36,1535,4000,12717\\nSTR NON-SENSITIVE WINDOWS2,STR,Prod,Vmware,TRUE,8/24/2020,12,36,1535,2918,8173\\nSTR Non-Sensitive Linux,STR,Prod,Vmware,TRUE,8/24/2020,14,36,1535,4367,14774\\nSTR Non-Sensitive Windows,STR,Prod,Vmware,TRUE,8/24/2020,10,36,1535,1976,6099\\nSTR Platinum Linux Prod1,STR,Prod,Vmware,TRUE,8/24/2020,6,36,768,1024,2476\\nSTR Platinum Windows Prod1,STR,Prod,Vmware,TRUE,8/24/2020,3,36,768,216,604\\nWindsor UCS Cluster 1,Windsor,NonProd,Vmware,TRUE,8/24/2020,3,24,384,198,475\\nDes Moines UCS Cluster 1,Des Moines,NonProd,Vmware,TRUE,8/24/2020,3,24,384,77,200\\nWest Chester UCS Cluster 1,West Chester,NonProd,Vmware,TRUE,8/24/2020,3,24,384,182,427\\nBraintree UCS Cluster 1,BrainTree,NonProd,Vmware,TRUE,8/24/2020,3,24,384,90,264\\nSTR NonBillable Cluster,STR,Prod,Vmware,TRUE,8/24/2020,4,36,1535,445,1228\\nSTR NON-PROD LINUX,STR,NonProd,Vmware,TRUE,8/24/2020,3,36,1535,680,2376\\nChandler UCS Cluster 1,MPL,NonProd,Vmware,TRUE,8/24/2020,3,24,384,44,120\\n'"
      ]
     },
     "execution_count": 2,
     "metadata": {},
     "output_type": "execute_result"
    }
   ],
   "source": [
    "f1=open('D:\\C.csv','w+')\n",
    "f1.close()\n",
    "f1=open('D:\\C.csv','r')\n",
    "f2=open('Compute Report 0824.csv','r')\n",
    "f3=open('Compute Report 0928.csv','r')\n",
    "f4=open('Compute Report 1012.csv','r')\n",
    "f1.close()\n",
    "f2.close()\n",
    "f3.close()\n",
    "f4.close()\n",
    "f1=open('D:\\C.csv','a+')\n",
    "f2=open('Compute Report 1012.csv','r')\n",
    "f3=open('Compute Report 0928.csv','r')\n",
    "f4=open('Compute Report 0824.csv','r')\n",
    "f1.write(f2.read())\n",
    "f1.write('\\n')\n",
    "f1.write(f3.read())\n",
    "f1.write('\\n')\n",
    "f1.write(f4.read())\n",
    "f1.seek(0)\n",
    "f1.read()"
   ]
  },
  {
   "cell_type": "code",
   "execution_count": null,
   "metadata": {},
   "outputs": [],
   "source": []
  }
 ],
 "metadata": {
  "kernelspec": {
   "display_name": "Python 3",
   "language": "python",
   "name": "python3"
  },
  "language_info": {
   "codemirror_mode": {
    "name": "ipython",
    "version": 3
   },
   "file_extension": ".py",
   "mimetype": "text/x-python",
   "name": "python",
   "nbconvert_exporter": "python",
   "pygments_lexer": "ipython3",
   "version": "3.8.3"
  }
 },
 "nbformat": 4,
 "nbformat_minor": 4
}
