{
 "cells": [
  {
   "cell_type": "code",
   "execution_count": null,
   "metadata": {},
   "outputs": [],
   "source": [
    "from PIL import Image, ImageDraw, ImageFont\n",
    "import pandas as pd\n",
    "import os\n",
    "df = pd.read_csv('list.csv')\n",
    "font = ImageFont.truetype('arial.ttf',60)\n",
    "for index,j in df.iterrows():\n",
    "    img = Image.open('certificate.jpg')\n",
    "    draw = ImageDraw.Draw(img)\n",
    "    draw.text(xy=(725,760),text='{}'.format(j['name']),fill=(0,0,0),font=font)\n",
    "    img.save('pictures/{}.jpg'.format(j['name']))"
   ]
  }
 ],
 "metadata": {
  "kernelspec": {
   "display_name": "Python 3",
   "language": "python",
   "name": "python3"
  },
  "language_info": {
   "codemirror_mode": {
    "name": "ipython",
    "version": 3
   },
   "file_extension": ".py",
   "mimetype": "text/x-python",
   "name": "python",
   "nbconvert_exporter": "python",
   "pygments_lexer": "ipython3",
   "version": "3.8.3"
  }
 },
 "nbformat": 4,
 "nbformat_minor": 4
}
