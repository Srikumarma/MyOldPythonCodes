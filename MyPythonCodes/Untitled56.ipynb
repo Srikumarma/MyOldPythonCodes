{
 "cells": [
  {
   "cell_type": "code",
   "execution_count": 3,
   "metadata": {},
   "outputs": [
    {
     "name": "stdout",
     "output_type": "stream",
     "text": [
      "0\n",
      "0\n",
      "0\n"
     ]
    }
   ],
   "source": [
    "with open('mails.txt') as f:\n",
    "    original = f.read().splitlines()\n",
    "    \n",
    "print(len(original))\n",
    "with open('temp.txt') as f:\n",
    "    temp = f.read().splitlines()\n",
    "print(len(temp))\n",
    "    \n",
    "final=set(original+temp)\n",
    "fin_list=list(final)\n",
    "print(len(fin_list))\n",
    "\n",
    "with open('mails.txt', 'w') as f:\n",
    "    for item in fin_list:\n",
    "        f.write(\"%s\\n\" % item)"
   ]
  },
  {
   "cell_type": "code",
   "execution_count": null,
   "metadata": {},
   "outputs": [],
   "source": []
  }
 ],
 "metadata": {
  "kernelspec": {
   "display_name": "Python 3",
   "language": "python",
   "name": "python3"
  },
  "language_info": {
   "codemirror_mode": {
    "name": "ipython",
    "version": 3
   },
   "file_extension": ".py",
   "mimetype": "text/x-python",
   "name": "python",
   "nbconvert_exporter": "python",
   "pygments_lexer": "ipython3",
   "version": "3.8.3"
  }
 },
 "nbformat": 4,
 "nbformat_minor": 4
}
