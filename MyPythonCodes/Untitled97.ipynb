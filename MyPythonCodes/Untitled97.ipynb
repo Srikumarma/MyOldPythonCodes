{
 "cells": [
  {
   "cell_type": "code",
   "execution_count": 1,
   "id": "06687407",
   "metadata": {},
   "outputs": [
    {
     "data": {
      "text/html": [
       "<table>\n",
       "<thead><tr><th scope=col>a</th><th scope=col>b</th><th scope=col>d</th></tr></thead>\n",
       "<tbody>\n",
       "\t<tr><td>2 </td><td>10</td><td>10</td></tr>\n",
       "\t<tr><td>3 </td><td> 8</td><td>13</td></tr>\n",
       "\t<tr><td>7 </td><td> 7</td><td>14</td></tr>\n",
       "\t<tr><td>2 </td><td> 5</td><td>13</td></tr>\n",
       "\t<tr><td>6 </td><td>10</td><td>15</td></tr>\n",
       "</tbody>\n",
       "</table>\n"
      ],
      "text/latex": [
       "\\begin{tabular}{r|lll}\n",
       " a & b & d\\\\\n",
       "\\hline\n",
       "\t 2  & 10 & 10\\\\\n",
       "\t 3  &  8 & 13\\\\\n",
       "\t 7  &  7 & 14\\\\\n",
       "\t 2  &  5 & 13\\\\\n",
       "\t 6  & 10 & 15\\\\\n",
       "\\end{tabular}\n"
      ],
      "text/markdown": [
       "\n",
       "| a | b | d |\n",
       "|---|---|---|\n",
       "| 2  | 10 | 10 |\n",
       "| 3  |  8 | 13 |\n",
       "| 7  |  7 | 14 |\n",
       "| 2  |  5 | 13 |\n",
       "| 6  | 10 | 15 |\n",
       "\n"
      ],
      "text/plain": [
       "  a b  d \n",
       "1 2 10 10\n",
       "2 3  8 13\n",
       "3 7  7 14\n",
       "4 2  5 13\n",
       "5 6 10 15"
      ]
     },
     "metadata": {},
     "output_type": "display_data"
    },
    {
     "data": {
      "text/html": [
       "<table>\n",
       "<thead><tr><th scope=col>values</th><th scope=col>ind</th></tr></thead>\n",
       "<tbody>\n",
       "\t<tr><td> 2</td><td>a </td></tr>\n",
       "\t<tr><td> 3</td><td>a </td></tr>\n",
       "\t<tr><td> 7</td><td>a </td></tr>\n",
       "\t<tr><td> 2</td><td>a </td></tr>\n",
       "\t<tr><td> 6</td><td>a </td></tr>\n",
       "\t<tr><td>10</td><td>b </td></tr>\n",
       "\t<tr><td> 8</td><td>b </td></tr>\n",
       "\t<tr><td> 7</td><td>b </td></tr>\n",
       "\t<tr><td> 5</td><td>b </td></tr>\n",
       "\t<tr><td>10</td><td>b </td></tr>\n",
       "\t<tr><td>10</td><td>d </td></tr>\n",
       "\t<tr><td>13</td><td>d </td></tr>\n",
       "\t<tr><td>14</td><td>d </td></tr>\n",
       "\t<tr><td>13</td><td>d </td></tr>\n",
       "\t<tr><td>15</td><td>d </td></tr>\n",
       "</tbody>\n",
       "</table>\n"
      ],
      "text/latex": [
       "\\begin{tabular}{r|ll}\n",
       " values & ind\\\\\n",
       "\\hline\n",
       "\t  2 & a \\\\\n",
       "\t  3 & a \\\\\n",
       "\t  7 & a \\\\\n",
       "\t  2 & a \\\\\n",
       "\t  6 & a \\\\\n",
       "\t 10 & b \\\\\n",
       "\t  8 & b \\\\\n",
       "\t  7 & b \\\\\n",
       "\t  5 & b \\\\\n",
       "\t 10 & b \\\\\n",
       "\t 10 & d \\\\\n",
       "\t 13 & d \\\\\n",
       "\t 14 & d \\\\\n",
       "\t 13 & d \\\\\n",
       "\t 15 & d \\\\\n",
       "\\end{tabular}\n"
      ],
      "text/markdown": [
       "\n",
       "| values | ind |\n",
       "|---|---|\n",
       "|  2 | a  |\n",
       "|  3 | a  |\n",
       "|  7 | a  |\n",
       "|  2 | a  |\n",
       "|  6 | a  |\n",
       "| 10 | b  |\n",
       "|  8 | b  |\n",
       "|  7 | b  |\n",
       "|  5 | b  |\n",
       "| 10 | b  |\n",
       "| 10 | d  |\n",
       "| 13 | d  |\n",
       "| 14 | d  |\n",
       "| 13 | d  |\n",
       "| 15 | d  |\n",
       "\n"
      ],
      "text/plain": [
       "   values ind\n",
       "1   2     a  \n",
       "2   3     a  \n",
       "3   7     a  \n",
       "4   2     a  \n",
       "5   6     a  \n",
       "6  10     b  \n",
       "7   8     b  \n",
       "8   7     b  \n",
       "9   5     b  \n",
       "10 10     b  \n",
       "11 10     d  \n",
       "12 13     d  \n",
       "13 14     d  \n",
       "14 13     d  \n",
       "15 15     d  "
      ]
     },
     "metadata": {},
     "output_type": "display_data"
    },
    {
     "data": {
      "text/plain": [
       "Call:\n",
       "   aov(formula = values ~ ind, data = sg)\n",
       "\n",
       "Terms:\n",
       "                     ind Residuals\n",
       "Sum of Squares  203.3333   54.0000\n",
       "Deg. of Freedom        2        12\n",
       "\n",
       "Residual standard error: 2.12132\n",
       "Estimated effects may be unbalanced"
      ]
     },
     "metadata": {},
     "output_type": "display_data"
    },
    {
     "data": {
      "text/plain": [
       "            Df Sum Sq Mean Sq F value   Pr(>F)    \n",
       "ind          2  203.3   101.7   22.59 8.54e-05 ***\n",
       "Residuals   12   54.0     4.5                     \n",
       "---\n",
       "Signif. codes:  0 '***' 0.001 '**' 0.01 '*' 0.05 '.' 0.1 ' ' 1"
      ]
     },
     "metadata": {},
     "output_type": "display_data"
    }
   ],
   "source": [
    "#ANOVA\n",
    "a=c(2,3,7,2,6)\n",
    "b=c(10,8,7,5,10)\n",
    "d=c(10,13,14,13,15)\n",
    "df=data.frame(cbind(a,b,d))\n",
    "df\n",
    "sg=stack(df)\n",
    "sg\n",
    "anovatest=aov(values~ind,data=sg)\n",
    "anovatest\n",
    "summary(anovatest)"
   ]
  },
  {
   "cell_type": "code",
   "execution_count": 3,
   "id": "cab0a8d4",
   "metadata": {},
   "outputs": [
    {
     "data": {
      "text/plain": [
       "\n",
       "\tOne Sample t-test\n",
       "\n",
       "data:  x1\n",
       "t = -1.6848, df = 11, p-value = 0.9399\n",
       "alternative hypothesis: true mean is greater than 15\n",
       "95 percent confidence interval:\n",
       " 13.62273      Inf\n",
       "sample estimates:\n",
       "mean of x \n",
       " 14.33333 \n"
      ]
     },
     "metadata": {},
     "output_type": "display_data"
    },
    {
     "data": {
      "text/plain": [
       "\n",
       "\tWelch Two Sample t-test\n",
       "\n",
       "data:  boys and girls\n",
       "t = 0.89803, df = 5.7596, p-value = 0.4051\n",
       "alternative hypothesis: true difference in means is not equal to 0\n",
       "95 percent confidence interval:\n",
       " -4.381432  9.381432\n",
       "sample estimates:\n",
       "mean of x mean of y \n",
       "     10.5       8.0 \n"
      ]
     },
     "metadata": {},
     "output_type": "display_data"
    },
    {
     "data": {
      "text/plain": [
       "\n",
       "\tPaired t-test\n",
       "\n",
       "data:  before and after\n",
       "t = 3.5973, df = 9, p-value = 0.005773\n",
       "alternative hypothesis: true difference in means is not equal to 0\n",
       "95 percent confidence interval:\n",
       " 0.6309462 2.7690538\n",
       "sample estimates:\n",
       "mean of the differences \n",
       "                    1.7 \n"
      ]
     },
     "metadata": {},
     "output_type": "display_data"
    }
   ],
   "source": [
    "#t-test Single tailed\n",
    "x1=c(14,14,16,13,12,17,15,14,15,13,15,14)\n",
    "t.test(x1,mu=15,alternative=\"greater\")\n",
    "\n",
    "#2-tailed Ttest\n",
    "boys=c(14,8,7,13)\n",
    "girls=c(8,6,4,14)\n",
    "t.test(boys,girls,mu=0,conf=0.95,paired=FALSE)\n",
    "\n",
    "#paired Ttest\n",
    "before=c(9,10,7,5,7,5,9,6,8,7)\n",
    "after=c(7,6,5,4,4,6,7,5,5,7)\n",
    "t.test(before,after,mu=0,conf=0.95,paired=TRUE)"
   ]
  },
  {
   "cell_type": "code",
   "execution_count": null,
   "id": "ed23ca8f",
   "metadata": {},
   "outputs": [],
   "source": []
  }
 ],
 "metadata": {
  "kernelspec": {
   "display_name": "R",
   "language": "R",
   "name": "ir"
  },
  "language_info": {
   "codemirror_mode": "r",
   "file_extension": ".r",
   "mimetype": "text/x-r-source",
   "name": "R",
   "pygments_lexer": "r",
   "version": "3.6.1"
  }
 },
 "nbformat": 4,
 "nbformat_minor": 5
}
