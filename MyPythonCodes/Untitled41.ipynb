{
 "cells": [
  {
   "cell_type": "code",
   "execution_count": 2,
   "metadata": {},
   "outputs": [
    {
     "data": {
      "text/plain": [
       "'\\nOther vareity of FONTS (Make sure you give proper path)\\n\\nMLSJN.TTF\\nLato-Black.ttf\\nMATURASC.TTF\\nOLDENGL.TTF\\nVIVALDII.TTF\\ncopperplate gothic font.ttf\\n\\n\\n'"
      ]
     },
     "execution_count": 2,
     "metadata": {},
     "output_type": "execute_result"
    }
   ],
   "source": [
    "from PIL import ImageFont, ImageDraw, Image  \n",
    "import cv2  \n",
    "import numpy as np  \n",
    "import os\n",
    "import csv\n",
    "\n",
    "f = open(\"names.txt\",\"r\")\n",
    "names_list = f.read().split(\"\\n\")\n",
    "#print(names_list)\n",
    "\n",
    "f1 = open(\"coords.txt\",\"r\")\n",
    "coordinates = f1.read().split(\"\\n\")\n",
    "\n",
    "flag=True\n",
    "\n",
    "for i in range(len(names_list)):\n",
    "\n",
    "\n",
    "    name_to_print = names_list[i]\n",
    "    date_to_print = \"23/03/2020\"   #Change this date as per requirement\n",
    "\n",
    "    # Load image in OpenCV  \n",
    "    image = cv2.imread(\"ce3.jpg\")  \n",
    "\n",
    "    # Convert the image to RGB (OpenCV uses BGR)  \n",
    "    cv2_im_rgb = cv2.cvtColor(image,cv2.COLOR_BGR2RGB)  \n",
    "\n",
    "    # Pass the image to PIL  \n",
    "    pil_im = Image.fromarray(cv2_im_rgb)  \n",
    "\n",
    "    draw = ImageDraw.Draw(pil_im)  \n",
    "    # use a truetype font  \n",
    "    font = ImageFont.truetype(\"./fonts/VIVALDII.TTF\", 29)      #You can change fonts from list given bottom\n",
    "    font1 = ImageFont.truetype(\"./fonts/OLDENGL.TTF\", 22) \n",
    "\n",
    "    # Draw the text \n",
    "    draw.text((int(coordinates[0]), int(coordinates[1])), name_to_print, font=font , fill='red')\n",
    "    draw.text((int(coordinates[2]), int(coordinates[3])), date_to_print , font=font1, fill='blue')\n",
    "    \n",
    "    # Get back the image to OpenCV  \n",
    "    cv2_im_processed = cv2.cvtColor(np.array(pil_im), cv2.COLOR_RGB2BGR)  \n",
    "    \n",
    "    if flag:\n",
    "        cv2.imshow('Certificate', cv2_im_processed) #Shows sample image\n",
    "        flag=False\n",
    "    path = ''\n",
    "    cv2.imwrite('./output/'+name_to_print+'.png',cv2_im_processed)\n",
    "    #os.startfile('output.png')\n",
    "    cv2.waitKey(0)  \n",
    "\n",
    "    cv2.destroyAllWindows()\n",
    "    \n",
    "\n",
    "'''\n",
    "Other vareity of FONTS (Make sure you give proper path)\n",
    "\n",
    "MLSJN.TTF\n",
    "Lato-Black.ttf\n",
    "MATURASC.TTF\n",
    "OLDENGL.TTF\n",
    "VIVALDII.TTF\n",
    "copperplate gothic font.ttf\n",
    "\n",
    "\n",
    "'''"
   ]
  },
  {
   "cell_type": "code",
   "execution_count": null,
   "metadata": {},
   "outputs": [],
   "source": []
  }
 ],
 "metadata": {
  "kernelspec": {
   "display_name": "Python 3",
   "language": "python",
   "name": "python3"
  },
  "language_info": {
   "codemirror_mode": {
    "name": "ipython",
    "version": 3
   },
   "file_extension": ".py",
   "mimetype": "text/x-python",
   "name": "python",
   "nbconvert_exporter": "python",
   "pygments_lexer": "ipython3",
   "version": "3.8.3"
  }
 },
 "nbformat": 4,
 "nbformat_minor": 4
}
