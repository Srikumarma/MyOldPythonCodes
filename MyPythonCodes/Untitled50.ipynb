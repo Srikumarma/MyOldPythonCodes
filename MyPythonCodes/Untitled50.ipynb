{
 "cells": [
  {
   "cell_type": "code",
   "execution_count": 1,
   "metadata": {},
   "outputs": [],
   "source": [
    "import openpyxl as xl\n",
    "from openpyxl.chart import BarChart, Reference,PieChart\n",
    "\n",
    "def process_workbook(filename):\n",
    "    wb=xl.load_workbook('transactions.xlsx')\n",
    "    sheet=wb['Sheet1']\n",
    "\n",
    "    for row in range(2,sheet.max_row+1):\n",
    "        cell=sheet.cell(row,2)\n",
    "        corrected=cell.value*0.9\n",
    "        corrected_cell=sheet.cell(row,4)\n",
    "        corrected_cell.value=corrected\n",
    "\n",
    "    values=Reference(sheet,\n",
    "                     min_row=2,\n",
    "                     max_row=sheet.max_row,\n",
    "                     min_col=4,\n",
    "                     max_col=4)\n",
    "\n",
    "    chart=PieChart()\n",
    "    chart.add_data(values)\n",
    "    sheet.add_chart(chart,'e2')\n",
    "    wb.save('transaction3.xlsx')"
   ]
  },
  {
   "cell_type": "code",
   "execution_count": null,
   "metadata": {},
   "outputs": [],
   "source": []
  }
 ],
 "metadata": {
  "kernelspec": {
   "display_name": "Python 3",
   "language": "python",
   "name": "python3"
  },
  "language_info": {
   "codemirror_mode": {
    "name": "ipython",
    "version": 3
   },
   "file_extension": ".py",
   "mimetype": "text/x-python",
   "name": "python",
   "nbconvert_exporter": "python",
   "pygments_lexer": "ipython3",
   "version": "3.8.3"
  }
 },
 "nbformat": 4,
 "nbformat_minor": 4
}
