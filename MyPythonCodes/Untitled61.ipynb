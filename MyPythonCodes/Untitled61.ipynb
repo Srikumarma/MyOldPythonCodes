{
 "cells": [
  {
   "cell_type": "code",
   "execution_count": 3,
   "metadata": {},
   "outputs": [],
   "source": [
    "from PIL import Image, ImageDraw\n",
    "\n",
    "W, H = (300,200)\n",
    "msg = \"hello\"\n",
    "\n",
    "image=Image.open(\"A4.png\")\n",
    "draw = ImageDraw.Draw(image)\n",
    "w, h = draw.textsize(msg)\n",
    "draw.text(((W-w)/2,(H-h)/2), msg, fill=\"black\")\n",
    "\n",
    "im.save(\"hello.png\", \"PNG\")\n",
    "im = Image.open(\"hello.png\")   \n",
    "im.show() "
   ]
  },
  {
   "cell_type": "code",
   "execution_count": 2,
   "metadata": {},
   "outputs": [],
   "source": [
    "from PIL import ImageFont, ImageDraw, Image \n",
    "image=Image.open(\"A4.png\")\n",
    "title_font = ImageFont.truetype('Alsina Ultrajada.ttf', 200)\n",
    "title_text = \"Hello World\"\n",
    "image_editable = ImageDraw.Draw(image)\n",
    "\n",
    "image_editable.text((0,1240), title_text, (0,0,0), font=title_font)\n",
    "image.save(\"resulthelloworld.png\")\n",
    "im = Image.open(\"resulthelloworld.png\")   \n",
    "im.show()  "
   ]
  },
  {
   "cell_type": "code",
   "execution_count": null,
   "metadata": {},
   "outputs": [],
   "source": []
  }
 ],
 "metadata": {
  "kernelspec": {
   "display_name": "Python 3",
   "language": "python",
   "name": "python3"
  },
  "language_info": {
   "codemirror_mode": {
    "name": "ipython",
    "version": 3
   },
   "file_extension": ".py",
   "mimetype": "text/x-python",
   "name": "python",
   "nbconvert_exporter": "python",
   "pygments_lexer": "ipython3",
   "version": "3.8.3"
  }
 },
 "nbformat": 4,
 "nbformat_minor": 4
}
