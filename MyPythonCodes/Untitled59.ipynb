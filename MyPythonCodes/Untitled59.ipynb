{
 "cells": [
  {
   "cell_type": "code",
   "execution_count": 2,
   "metadata": {},
   "outputs": [
    {
     "name": "stdout",
     "output_type": "stream",
     "text": [
      "Collecting python-pptxNote: you may need to restart the kernel to use updated packages.\n",
      "\n",
      "  Downloading python-pptx-0.6.18.tar.gz (8.9 MB)\n",
      "Requirement already satisfied: lxml>=3.1.0 in d:\\software\\python\\lib\\site-packages (from python-pptx) (4.5.2)\n",
      "Requirement already satisfied: Pillow>=3.3.2 in d:\\software\\python\\lib\\site-packages (from python-pptx) (7.2.0)\n",
      "Requirement already satisfied: XlsxWriter>=0.5.7 in d:\\software\\python\\lib\\site-packages (from python-pptx) (1.2.9)\n",
      "Building wheels for collected packages: python-pptx\n",
      "  Building wheel for python-pptx (setup.py): started\n",
      "  Building wheel for python-pptx (setup.py): finished with status 'done'\n",
      "  Created wheel for python-pptx: filename=python_pptx-0.6.18-py3-none-any.whl size=275709 sha256=30d0db960e284678344c1ee8b6d7d3d85685a028e5104861409ea53598652019\n",
      "  Stored in directory: c:\\users\\sriku\\appdata\\local\\pip\\cache\\wheels\\11\\2b\\97\\d82ca57932fa62d52c723024419c5ec3b7c0f7ecf0a0f06332\n",
      "Successfully built python-pptx\n",
      "Installing collected packages: python-pptx\n",
      "Successfully installed python-pptx-0.6.18\n"
     ]
    }
   ],
   "source": [
    "pip install python-pptx"
   ]
  },
  {
   "cell_type": "code",
   "execution_count": 3,
   "metadata": {},
   "outputs": [
    {
     "name": "stdout",
     "output_type": "stream",
     "text": [
      "done\n"
     ]
    }
   ],
   "source": [
    "# import required things \n",
    "from pptx import Presentation \n",
    "from pptx.util import Inches, Pt \n",
    "\n",
    "# Creating Object \n",
    "ppt = Presentation() \n",
    "\n",
    "# To create blank slide layout \n",
    "# We have to use 6 as an argument \n",
    "# of slide_layouts \n",
    "blank_slide_layout = ppt.slide_layouts[6] \n",
    "\n",
    "# Attaching slide obj to slide \n",
    "slide = ppt.slides.add_slide(blank_slide_layout) \n",
    "\n",
    "# For adjusting the Margins in inches \n",
    "left = top = width = height = Inches(1) \n",
    "\n",
    "# creating textBox \n",
    "txBox = slide.shapes.add_textbox(left, top, \n",
    "\t\t\t\t\t\t\t\twidth, height) \n",
    "\n",
    "# creating textFrames \n",
    "tf = txBox.text_frame \n",
    "tf.text = \"This is text inside a textbox\"\n",
    "\n",
    "# adding Paragraphs \n",
    "p = tf.add_paragraph() \n",
    "\n",
    "# adding text \n",
    "p.text = \"This is a second paragraph that's bold and italic\"\n",
    "\n",
    "# font \n",
    "p.font.bold = True\n",
    "p.font.italic = True\n",
    "\n",
    "p = tf.add_paragraph() \n",
    "p.text = \"This is a third paragraph that's big \"\n",
    "p.font.size = Pt(40) \n",
    "\n",
    "# save file \n",
    "ppt.save('test_2.pptx') \n",
    "\n",
    "print(\"done\") \n"
   ]
  },
  {
   "cell_type": "code",
   "execution_count": null,
   "metadata": {},
   "outputs": [],
   "source": []
  }
 ],
 "metadata": {
  "kernelspec": {
   "display_name": "Python 3",
   "language": "python",
   "name": "python3"
  },
  "language_info": {
   "codemirror_mode": {
    "name": "ipython",
    "version": 3
   },
   "file_extension": ".py",
   "mimetype": "text/x-python",
   "name": "python",
   "nbconvert_exporter": "python",
   "pygments_lexer": "ipython3",
   "version": "3.8.3"
  }
 },
 "nbformat": 4,
 "nbformat_minor": 4
}
