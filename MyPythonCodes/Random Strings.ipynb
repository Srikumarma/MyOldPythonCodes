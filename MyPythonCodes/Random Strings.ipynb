{
 "cells": [
  {
   "cell_type": "code",
   "execution_count": 45,
   "metadata": {},
   "outputs": [
    {
     "name": "stdout",
     "output_type": "stream",
     "text": [
      "f0F\n"
     ]
    },
    {
     "data": {
      "text/plain": [
       "'fd0'"
      ]
     },
     "execution_count": 45,
     "metadata": {},
     "output_type": "execute_result"
    }
   ],
   "source": [
    "import random\n",
    "import string\n",
    "f1=open(\"String_Validator1.txt\",\"w+\")\n",
    "def get_random_string():\n",
    "    global c,a\n",
    "    letters = string.hexdigits\n",
    "    result_str = ''.join(random.choice(letters) for i in range(2))\n",
    "    c=result_str\n",
    "    a='f'\n",
    "    d=a+c\n",
    "    b=''.join(d)\n",
    "    print(b)\n",
    "get_random_string()\n",
    "f1.write(b)\n",
    "f1.seek(0)\n",
    "f1.read()"
   ]
  },
  {
   "cell_type": "code",
   "execution_count": null,
   "metadata": {},
   "outputs": [],
   "source": []
  }
 ],
 "metadata": {
  "kernelspec": {
   "display_name": "Python 3",
   "language": "python",
   "name": "python3"
  },
  "language_info": {
   "codemirror_mode": {
    "name": "ipython",
    "version": 3
   },
   "file_extension": ".py",
   "mimetype": "text/x-python",
   "name": "python",
   "nbconvert_exporter": "python",
   "pygments_lexer": "ipython3",
   "version": "3.8.3"
  }
 },
 "nbformat": 4,
 "nbformat_minor": 4
}
