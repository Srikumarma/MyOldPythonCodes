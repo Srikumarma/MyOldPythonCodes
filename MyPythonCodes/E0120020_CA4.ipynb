{
 "cells": [
  {
   "cell_type": "markdown",
   "id": "85981199",
   "metadata": {},
   "source": [
    "# CSE270 Design and Analysis of Algorithm : CASE STUDY\n",
    "\n",
    "Done by : Srikumar M A\n",
    "\n",
    "\n",
    "Unique Id: E0120020\n"
   ]
  },
  {
   "cell_type": "markdown",
   "id": "272ad9d2",
   "metadata": {},
   "source": [
    "# **1. Case study CO number**\n",
    "\n",
    "\n"
   ]
  },
  {
   "cell_type": "markdown",
   "id": "ac74a753",
   "metadata": {},
   "source": [
    "CO1: Compare the time complexity and performance of sorting methods available in libraries and used for R programming."
   ]
  },
  {
   "cell_type": "markdown",
   "id": "45f3fe3c",
   "metadata": {},
   "source": [
    "# **2.Algorithm Design Techniques - Demonstration of code**"
   ]
  },
  {
   "cell_type": "markdown",
   "id": "69429af6",
   "metadata": {},
   "source": [
    "# Insertion Sort:"
   ]
  },
  {
   "cell_type": "code",
   "execution_count": 1,
   "id": "d63a001e",
   "metadata": {},
   "outputs": [
    {
     "data": {
      "text/html": [
       "<ol class=list-inline>\n",
       "\t<li>9</li>\n",
       "\t<li>16</li>\n",
       "\t<li>19</li>\n",
       "\t<li>24</li>\n",
       "\t<li>59</li>\n",
       "\t<li>61</li>\n",
       "\t<li>63</li>\n",
       "\t<li>65</li>\n",
       "\t<li>76</li>\n",
       "\t<li>77</li>\n",
       "</ol>\n"
      ],
      "text/latex": [
       "\\begin{enumerate*}\n",
       "\\item 9\n",
       "\\item 16\n",
       "\\item 19\n",
       "\\item 24\n",
       "\\item 59\n",
       "\\item 61\n",
       "\\item 63\n",
       "\\item 65\n",
       "\\item 76\n",
       "\\item 77\n",
       "\\end{enumerate*}\n"
      ],
      "text/markdown": [
       "1. 9\n",
       "2. 16\n",
       "3. 19\n",
       "4. 24\n",
       "5. 59\n",
       "6. 61\n",
       "7. 63\n",
       "8. 65\n",
       "9. 76\n",
       "10. 77\n",
       "\n",
       "\n"
      ],
      "text/plain": [
       " [1]  9 16 19 24 59 61 63 65 76 77"
      ]
     },
     "metadata": {},
     "output_type": "display_data"
    }
   ],
   "source": [
    "# insertion sort function to sort array\n",
    "insertion_sort <- function(x)\n",
    "{\n",
    "# calculate the length of array\n",
    "n <- length(x)\n",
    "# outer loop\n",
    "for (i in 0 : (n))\n",
    "{\n",
    "# store first element as key\n",
    "key = x[i]\n",
    "j = i - 1\n",
    "# compare key with elements for\n",
    "# its correct position\n",
    "while (j > 0 && x[j] > key)\n",
    "{\n",
    "x[j + 1] = x[j]\n",
    "j = j - 1\n",
    "}\n",
    "# Place key at its correct position\n",
    "x[j + 1] = key\n",
    "}\n",
    "# return sorted array\n",
    "x\n",
    "}\n",
    "\n",
    "# take sample array\n",
    "arr <- sample(1 : 100, 10)\n",
    "\n",
    "# call insertion sort function\n",
    "sorted_arr <- insertion_sort(arr)\n",
    "\n",
    "# print sorted array\n",
    "sorted_arr\n"
   ]
  },
  {
   "cell_type": "markdown",
   "id": "e3027e02",
   "metadata": {},
   "source": [
    "# Bubble Sort"
   ]
  },
  {
   "cell_type": "code",
   "execution_count": 2,
   "id": "ac15fb3e",
   "metadata": {},
   "outputs": [
    {
     "data": {
      "text/html": [
       "<ol class=list-inline>\n",
       "\t<li>4</li>\n",
       "\t<li>5</li>\n",
       "\t<li>18</li>\n",
       "\t<li>29</li>\n",
       "\t<li>37</li>\n",
       "\t<li>54</li>\n",
       "\t<li>66</li>\n",
       "\t<li>73</li>\n",
       "\t<li>94</li>\n",
       "\t<li>95</li>\n",
       "</ol>\n"
      ],
      "text/latex": [
       "\\begin{enumerate*}\n",
       "\\item 4\n",
       "\\item 5\n",
       "\\item 18\n",
       "\\item 29\n",
       "\\item 37\n",
       "\\item 54\n",
       "\\item 66\n",
       "\\item 73\n",
       "\\item 94\n",
       "\\item 95\n",
       "\\end{enumerate*}\n"
      ],
      "text/markdown": [
       "1. 4\n",
       "2. 5\n",
       "3. 18\n",
       "4. 29\n",
       "5. 37\n",
       "6. 54\n",
       "7. 66\n",
       "8. 73\n",
       "9. 94\n",
       "10. 95\n",
       "\n",
       "\n"
      ],
      "text/plain": [
       " [1]  4  5 18 29 37 54 66 73 94 95"
      ]
     },
     "metadata": {},
     "output_type": "display_data"
    }
   ],
   "source": [
    "# function to sort the array using bubble sort\n",
    "bubble_sort <- function(x)\n",
    "{\n",
    "# calculate the length of array\n",
    "n <- length(x)\n",
    "# run loop n-1 times\n",
    "for (i in 1 : (n - 1)) {\n",
    "# run loop (n-i) times\n",
    "for (j in 1 : (n - i)) {\n",
    "# compare elements\n",
    "if (x[j] > x[j + 1]) {\n",
    "temp <- x[j]\n",
    "x[j] <- x[j + 1]\n",
    "x[j + 1] <- temp\n",
    "}\n",
    "}\n",
    "}\n",
    "x\n",
    "}\n",
    "\n",
    "# take 10 random numbers between 1 - 100\n",
    "arr <- sample(1 : 100, 10)\n",
    "\n",
    "# sort the array and store the result\n",
    "# in sorted_array\n",
    "sorted_array <- bubble_sort(arr)\n",
    "\n",
    "# print sorted_array\n",
    "sorted_array"
   ]
  },
  {
   "cell_type": "markdown",
   "id": "1af38354",
   "metadata": {},
   "source": [
    "# Selection Sort"
   ]
  },
  {
   "cell_type": "code",
   "execution_count": 3,
   "id": "487db049",
   "metadata": {},
   "outputs": [
    {
     "data": {
      "text/html": [
       "<ol class=list-inline>\n",
       "\t<li>6</li>\n",
       "\t<li>21</li>\n",
       "\t<li>31</li>\n",
       "\t<li>40</li>\n",
       "\t<li>45</li>\n",
       "\t<li>73</li>\n",
       "\t<li>78</li>\n",
       "\t<li>82</li>\n",
       "\t<li>84</li>\n",
       "\t<li>94</li>\n",
       "</ol>\n"
      ],
      "text/latex": [
       "\\begin{enumerate*}\n",
       "\\item 6\n",
       "\\item 21\n",
       "\\item 31\n",
       "\\item 40\n",
       "\\item 45\n",
       "\\item 73\n",
       "\\item 78\n",
       "\\item 82\n",
       "\\item 84\n",
       "\\item 94\n",
       "\\end{enumerate*}\n"
      ],
      "text/markdown": [
       "1. 6\n",
       "2. 21\n",
       "3. 31\n",
       "4. 40\n",
       "5. 45\n",
       "6. 73\n",
       "7. 78\n",
       "8. 82\n",
       "9. 84\n",
       "10. 94\n",
       "\n",
       "\n"
      ],
      "text/plain": [
       " [1]  6 21 31 40 45 73 78 82 84 94"
      ]
     },
     "metadata": {},
     "output_type": "display_data"
    }
   ],
   "source": [
    "# function to sort array using selection sort\n",
    "selection_sort <- function(x)\n",
    "{\n",
    "# length of array\n",
    "n <- length(x)\n",
    "for (i in 1 : (n - 1))\n",
    "{\n",
    "# assume element at i is minimum\n",
    "min_index <- i\n",
    "for (j in (i + 1) : (n))\n",
    "{\n",
    "# check if element at j is smaller\n",
    "# than element at min_index\n",
    "if (x[j] < x[min_index]) {\n",
    "# if yes, update min_index\n",
    "min_index = j\n",
    "}\n",
    "}\n",
    "# swap element at i with element at min_index\n",
    "temp <- x[i]\n",
    "x[i] <- x[min_index]\n",
    "x[min_index] <- temp\n",
    "}\n",
    "x\n",
    "}\n",
    "\n",
    "# take sample input\n",
    "arr <- sample(1 : 100, 10)\n",
    "\n",
    "# sort array\n",
    "sorted_arr <- selection_sort(arr)\n",
    "\n",
    "# print array\n",
    "sorted_arr\n"
   ]
  },
  {
   "cell_type": "markdown",
   "id": "b2ad9de9",
   "metadata": {},
   "source": [
    "# **3.Time Complexity**\n",
    "\n",
    "Running Time for any algorithm depends on the number of operations executed. We could see in the Pseudocode the number of basic operations under each algorithm.\n",
    "\n",
    "So, our task is to find the Cost or Time Complexity of each and trivially sum of these will be the Total Time Complexity of our Algorithm.\n",
    "\n",
    "We assume Cost of each i operation as C i where i ∈ {1,2,3,4,5,6,8} and compute the number of times these are executed.\n",
    "\n",
    "Therefore the Total Cost for one such operation would be the product of Cost of one operation and the number of times it is executed"
   ]
  },
  {
   "cell_type": "markdown",
   "id": "1c2a8c17",
   "metadata": {},
   "source": [
    "# Pseudocode\n",
    "\n",
    "# Insertion sort\n",
    "\n",
    "for i = 0 to n{ ----> n\n",
    "\n",
    "        key = A[i]  ----> n-1\n",
    "        \n",
    "        j = i - 1  ----> n-1\n",
    "        \n",
    "        while j >= 0 and A[j] > key{  ----> ((n-1)*n)/2\n",
    "        \n",
    "            A[j + 1] = A[j]  ----> (((n-1)*n)/2)-1\n",
    "            \n",
    "            j = j - 1  ----> (((n-1)*n)/2)-1\n",
    "            \n",
    "        }\n",
    "        \n",
    "    A[j + 1] = key  ----> n-1\n",
    "    \n",
    "    }\n",
    "\n",
    "# Time complexity analysis\n",
    "\n",
    "\n",
    "# Best case:\n",
    "\n",
    "Best Case Analysis\n",
    "In Best Case , when the array is already sorted,\n",
    "\n",
    "Therefore,\n",
    "\n",
    "T( n ) = C1 * n + ( C2 + C3 ) * ( n - 1 ) + C4 * ( n - 1 ) + ( C5 + C6 ) * ( n - 2 ) + C8 * ( n - 1 )\n",
    "\n",
    "when further simplified has dominating factor of n and gives T(n) = C * ( n ) or O(n)\n",
    "\n",
    "# Worst Case \n",
    "when the array is reversly sorted\n",
    "\n",
    "T( n ) = C1 * n + ( C2 + C3 ) * ( n - 1 ) + C4 * ( n - 1 ) ( n ) / 2 + ( C5 + C6 ) * ( ( n - 1 ) (n ) / 2 - 1) + C8 * ( n - 1 )\n",
    "\n",
    "when further simplified has dominating factor of n2 and gives T(n) = C * ( n 2) or O( n2 )\n",
    "\n",
    "\n",
    "# Average Case\n",
    "\n",
    "T( n ) = C1 * n + ( C2 + C3 ) * ( n - 1 ) + C4/2 * ( n - 1 ) ( n ) / 2 + ( C5 + C6 )/2 * ( ( n - 1 ) (n ) / 2 - 1) + C8 * ( n - 1 )\n",
    "\n",
    "\n",
    "T(n) = C * ( n 2) or O( n2 )\n",
    "\n"
   ]
  },
  {
   "cell_type": "markdown",
   "id": "cc51e544",
   "metadata": {},
   "source": [
    "# -----------------------------"
   ]
  },
  {
   "cell_type": "markdown",
   "id": "7a805201",
   "metadata": {},
   "source": [
    "# Bubble sort\n",
    "\n",
    "BubbleSort(Array, n)\n",
    "\n",
    "{\n",
    "\n",
    "    n = length(Array)\n",
    "    \n",
    "    for i = 0 to n-2\n",
    "    {\n",
    "        for j = 0 to n-2\n",
    "        {\n",
    "            if Array[j] > Array[j+1]\n",
    "            {        \n",
    "                swap(Array[j], Array[j+1])            \n",
    "            }\n",
    "        }\n",
    "    }\n",
    "}\n",
    "\n",
    "\n",
    "\n",
    "# Time Complexity Analysis\n",
    "\n",
    "Number of times inner loop run: = (N − i)\n",
    "The number of times the outer loop runs = (N(N-1))/2\n",
    "\n",
    "T(N) = T(N-1) + N\n",
    "\n",
    "# Best case\n",
    "\n",
    "This case occurs when the given array is already sorted.\n",
    "\n",
    "T(N) = N\n",
    "\n",
    "Time complexity is O(N)\n",
    "\n",
    "\n",
    "# Worst case\n",
    "\n",
    "T(N)= (N(N-1))/2\n",
    "\n",
    "Taking the dominating factor\n",
    "\n",
    "O(N^2)\n",
    "\n",
    "\n",
    "# Average Case\n",
    "\n",
    "\n",
    "= N x N - 2 x (1 + 3 + 5 + ... + N/2)\n",
    "\n",
    "= N^2 - 2 x N^2 / 4\n",
    "\n",
    "= N^2 - N^2 / 2\n",
    "\n",
    "= N^2 / 2\n",
    "\n",
    "Time Complexity = O(N^2)"
   ]
  },
  {
   "cell_type": "markdown",
   "id": "2480039c",
   "metadata": {},
   "source": [
    "# -----------------------------"
   ]
  },
  {
   "cell_type": "markdown",
   "id": "a5a84932",
   "metadata": {},
   "source": [
    "# Selection sort\n",
    "\n",
    "array = [a1, a2, ..., aN]\n",
    "\n",
    "\n",
    "for i from 0 to N-1\n",
    "\n",
    "    for j from i to N-1\n",
    "        int smallest_index = smallest(array[j ... N-1])\n",
    "        if (smallest_index != i)\n",
    "            swap(i, smallest_index)\n",
    "        \n",
    "// Find the smallest element\n",
    "\n",
    "smallest(int array):\n",
    "\n",
    "    smallest_index = 0\n",
    "    smallest = array[0]\n",
    "    for index from 1 to M\n",
    "        if smallest > array[index]\n",
    "            smallest = array[index]\n",
    "            smallest_index = index\n",
    "            \n",
    "    return smallest_index\n",
    "    \n",
    "\n",
    "\n",
    "\n",
    "# Time complexity analysis\n",
    "\n",
    "\n",
    "O(N-I+1) for find the smallest element\n",
    "O(1) for swapping the smallest element to the front of unsorted sub-array\n",
    "\n",
    "Sum [O(N-I+1)] + Sum[O(1)]\n",
    "= O(N^2) + O(N)\n",
    "= O(N^2)\n",
    "\n",
    "# Best case\n",
    "time complexity is O(N^2)\n",
    "\n",
    "# Worst case\n",
    "time complexity is O(N^2)\n",
    "\n",
    "# Average case\n",
    "time complexity will be O(N^2)"
   ]
  },
  {
   "cell_type": "markdown",
   "id": "023c447a",
   "metadata": {},
   "source": [
    "# **4.Conclusion**"
   ]
  },
  {
   "cell_type": "markdown",
   "id": "0ada131d",
   "metadata": {},
   "source": []
  },
  {
   "cell_type": "markdown",
   "id": "fea1e144",
   "metadata": {},
   "source": [
    "# References"
   ]
  }
 ],
 "metadata": {
  "kernelspec": {
   "display_name": "R",
   "language": "R",
   "name": "ir"
  },
  "language_info": {
   "codemirror_mode": "r",
   "file_extension": ".r",
   "mimetype": "text/x-r-source",
   "name": "R",
   "pygments_lexer": "r",
   "version": "3.6.1"
  }
 },
 "nbformat": 4,
 "nbformat_minor": 5
}
