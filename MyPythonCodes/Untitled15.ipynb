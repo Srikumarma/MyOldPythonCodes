{
 "cells": [
  {
   "cell_type": "code",
   "execution_count": 12,
   "metadata": {},
   "outputs": [
    {
     "name": "stdout",
     "output_type": "stream",
     "text": [
      "hello X, my X happy X\n"
     ]
    }
   ],
   "source": [
    "import re\n",
    "a=\"hello world, my world happy wOrld\"\n",
    "c=re.sub(r'world','X',a.lower())\n",
    "print(c)"
   ]
  },
  {
   "cell_type": "code",
   "execution_count": 24,
   "metadata": {},
   "outputs": [
    {
     "name": "stdout",
     "output_type": "stream",
     "text": [
      "...howdie !\n",
      "...BAZINGA!\n"
     ]
    }
   ],
   "source": [
    "import re\n",
    "para='''hello everyone\n",
    "...hi hello all\n",
    "...howdie !\n",
    "...hello world\n",
    "...BAZINGA!'''\n",
    "pat=re.compile(r'hello',flags=re.I)\n",
    "for line in para.split('\\n'):\n",
    "    if not pat.findall(line):\n",
    "        print(line)"
   ]
  },
  {
   "cell_type": "code",
   "execution_count": null,
   "metadata": {},
   "outputs": [],
   "source": []
  }
 ],
 "metadata": {
  "kernelspec": {
   "display_name": "Python 3",
   "language": "python",
   "name": "python3"
  },
  "language_info": {
   "codemirror_mode": {
    "name": "ipython",
    "version": 3
   },
   "file_extension": ".py",
   "mimetype": "text/x-python",
   "name": "python",
   "nbconvert_exporter": "python",
   "pygments_lexer": "ipython3",
   "version": "3.8.3"
  }
 },
 "nbformat": 4,
 "nbformat_minor": 4
}
