{
 "cells": [
  {
   "cell_type": "code",
   "execution_count": 1,
   "id": "3e98376b",
   "metadata": {},
   "outputs": [
    {
     "name": "stdout",
     "output_type": "stream",
     "text": [
      "Requirement already satisfied: openpyxl in d:\\software\\python\\envs\\r-tutorial\\lib\\site-packages (3.0.10)\n",
      "Requirement already satisfied: et-xmlfile in d:\\software\\python\\envs\\r-tutorial\\lib\\site-packages (from openpyxl) (1.1.0)\n"
     ]
    }
   ],
   "source": [
    "import pandas as pd\n",
    "import numpy as np\n",
    "import matplotlib.pyplot as plt\n",
    "!pip install openpyxl\n",
    "import seaborn as sns"
   ]
  },
  {
   "cell_type": "code",
   "execution_count": 2,
   "id": "6925e05c",
   "metadata": {},
   "outputs": [],
   "source": [
    "df= pd.read_excel('Monthly_Expenses.xlsx')"
   ]
  },
  {
   "cell_type": "code",
   "execution_count": 5,
   "id": "9cc7f0f3",
   "metadata": {},
   "outputs": [
    {
     "data": {
      "text/html": [
       "<div>\n",
       "<style scoped>\n",
       "    .dataframe tbody tr th:only-of-type {\n",
       "        vertical-align: middle;\n",
       "    }\n",
       "\n",
       "    .dataframe tbody tr th {\n",
       "        vertical-align: top;\n",
       "    }\n",
       "\n",
       "    .dataframe thead th {\n",
       "        text-align: right;\n",
       "    }\n",
       "</style>\n",
       "<table border=\"1\" class=\"dataframe\">\n",
       "  <thead>\n",
       "    <tr style=\"text-align: right;\">\n",
       "      <th></th>\n",
       "      <th>Timestamp</th>\n",
       "      <th>Amount spent by</th>\n",
       "      <th>For</th>\n",
       "      <th>Mode of transaction</th>\n",
       "      <th>Home Expenses</th>\n",
       "      <th>Further details if any</th>\n",
       "      <th>Amount</th>\n",
       "    </tr>\n",
       "  </thead>\n",
       "  <tbody>\n",
       "    <tr>\n",
       "      <th>0</th>\n",
       "      <td>2022-01-30 21:10:13.829</td>\n",
       "      <td>LKS</td>\n",
       "      <td>Home</td>\n",
       "      <td>Online/Digital</td>\n",
       "      <td>Entertainment / Movie</td>\n",
       "      <td>TV Malai visit expenses</td>\n",
       "      <td>1045</td>\n",
       "    </tr>\n",
       "    <tr>\n",
       "      <th>1</th>\n",
       "      <td>2022-01-30 21:10:56.490</td>\n",
       "      <td>LKS</td>\n",
       "      <td>Home</td>\n",
       "      <td>Online/Digital</td>\n",
       "      <td>Car wash</td>\n",
       "      <td>Dec</td>\n",
       "      <td>800</td>\n",
       "    </tr>\n",
       "    <tr>\n",
       "      <th>2</th>\n",
       "      <td>2022-01-30 21:16:48.227</td>\n",
       "      <td>LKS</td>\n",
       "      <td>Home</td>\n",
       "      <td>Online/Digital</td>\n",
       "      <td>Fruits and Vegitables</td>\n",
       "      <td>NaN</td>\n",
       "      <td>150</td>\n",
       "    </tr>\n",
       "    <tr>\n",
       "      <th>3</th>\n",
       "      <td>2022-01-30 21:17:27.680</td>\n",
       "      <td>LKS</td>\n",
       "      <td>Home</td>\n",
       "      <td>Online/Digital</td>\n",
       "      <td>Fruits and Vegitables</td>\n",
       "      <td>Mango point</td>\n",
       "      <td>1288</td>\n",
       "    </tr>\n",
       "    <tr>\n",
       "      <th>4</th>\n",
       "      <td>2022-01-30 21:18:02.831</td>\n",
       "      <td>LKS</td>\n",
       "      <td>Home</td>\n",
       "      <td>Online/Digital</td>\n",
       "      <td>General Provisions</td>\n",
       "      <td>NaN</td>\n",
       "      <td>300</td>\n",
       "    </tr>\n",
       "    <tr>\n",
       "      <th>...</th>\n",
       "      <td>...</td>\n",
       "      <td>...</td>\n",
       "      <td>...</td>\n",
       "      <td>...</td>\n",
       "      <td>...</td>\n",
       "      <td>...</td>\n",
       "      <td>...</td>\n",
       "    </tr>\n",
       "    <tr>\n",
       "      <th>295</th>\n",
       "      <td>2022-05-31 16:35:36.133</td>\n",
       "      <td>LKS</td>\n",
       "      <td>Home</td>\n",
       "      <td>Cash</td>\n",
       "      <td>Snacks and eatables</td>\n",
       "      <td>juice</td>\n",
       "      <td>30</td>\n",
       "    </tr>\n",
       "    <tr>\n",
       "      <th>296</th>\n",
       "      <td>2022-05-31 16:36:47.416</td>\n",
       "      <td>LKS</td>\n",
       "      <td>Home</td>\n",
       "      <td>Cash</td>\n",
       "      <td>stationeries and photos of mka, lks and maa</td>\n",
       "      <td>NaN</td>\n",
       "      <td>250</td>\n",
       "    </tr>\n",
       "    <tr>\n",
       "      <th>297</th>\n",
       "      <td>2022-05-31 16:37:37.164</td>\n",
       "      <td>LKS</td>\n",
       "      <td>Home</td>\n",
       "      <td>Online/Digital</td>\n",
       "      <td>Fruits and Vegitables</td>\n",
       "      <td>NaN</td>\n",
       "      <td>1252</td>\n",
       "    </tr>\n",
       "    <tr>\n",
       "      <th>298</th>\n",
       "      <td>2022-05-31 16:38:16.156</td>\n",
       "      <td>LKS</td>\n",
       "      <td>Home</td>\n",
       "      <td>Online/Digital</td>\n",
       "      <td>General Provisions</td>\n",
       "      <td>backiyam stores</td>\n",
       "      <td>4382</td>\n",
       "    </tr>\n",
       "    <tr>\n",
       "      <th>299</th>\n",
       "      <td>2022-05-31 16:38:16.156</td>\n",
       "      <td>LKS</td>\n",
       "      <td>Home</td>\n",
       "      <td>Online/Digital</td>\n",
       "      <td>Fruits and Vegitables</td>\n",
       "      <td>NaN</td>\n",
       "      <td>1126</td>\n",
       "    </tr>\n",
       "  </tbody>\n",
       "</table>\n",
       "<p>300 rows × 7 columns</p>\n",
       "</div>"
      ],
      "text/plain": [
       "                  Timestamp Amount spent by   For Mode of transaction  \\\n",
       "0   2022-01-30 21:10:13.829             LKS  Home      Online/Digital   \n",
       "1   2022-01-30 21:10:56.490             LKS  Home      Online/Digital   \n",
       "2   2022-01-30 21:16:48.227             LKS  Home      Online/Digital   \n",
       "3   2022-01-30 21:17:27.680             LKS  Home      Online/Digital   \n",
       "4   2022-01-30 21:18:02.831             LKS  Home      Online/Digital   \n",
       "..                      ...             ...   ...                 ...   \n",
       "295 2022-05-31 16:35:36.133             LKS  Home                Cash   \n",
       "296 2022-05-31 16:36:47.416             LKS  Home                Cash   \n",
       "297 2022-05-31 16:37:37.164             LKS  Home      Online/Digital   \n",
       "298 2022-05-31 16:38:16.156             LKS  Home      Online/Digital   \n",
       "299 2022-05-31 16:38:16.156             LKS  Home      Online/Digital   \n",
       "\n",
       "                                   Home Expenses   Further details if any  \\\n",
       "0                          Entertainment / Movie  TV Malai visit expenses   \n",
       "1                                       Car wash                      Dec   \n",
       "2                          Fruits and Vegitables                      NaN   \n",
       "3                          Fruits and Vegitables              Mango point   \n",
       "4                             General Provisions                      NaN   \n",
       "..                                           ...                      ...   \n",
       "295                          Snacks and eatables                    juice   \n",
       "296  stationeries and photos of mka, lks and maa                      NaN   \n",
       "297                        Fruits and Vegitables                      NaN   \n",
       "298                           General Provisions          backiyam stores   \n",
       "299                        Fruits and Vegitables                      NaN   \n",
       "\n",
       "     Amount  \n",
       "0      1045  \n",
       "1       800  \n",
       "2       150  \n",
       "3      1288  \n",
       "4       300  \n",
       "..      ...  \n",
       "295      30  \n",
       "296     250  \n",
       "297    1252  \n",
       "298    4382  \n",
       "299    1126  \n",
       "\n",
       "[300 rows x 7 columns]"
      ]
     },
     "execution_count": 5,
     "metadata": {},
     "output_type": "execute_result"
    }
   ],
   "source": [
    "df"
   ]
  },
  {
   "cell_type": "code",
   "execution_count": 6,
   "id": "2669dadd",
   "metadata": {},
   "outputs": [
    {
     "data": {
      "text/html": [
       "<div>\n",
       "<style scoped>\n",
       "    .dataframe tbody tr th:only-of-type {\n",
       "        vertical-align: middle;\n",
       "    }\n",
       "\n",
       "    .dataframe tbody tr th {\n",
       "        vertical-align: top;\n",
       "    }\n",
       "\n",
       "    .dataframe thead th {\n",
       "        text-align: right;\n",
       "    }\n",
       "</style>\n",
       "<table border=\"1\" class=\"dataframe\">\n",
       "  <thead>\n",
       "    <tr style=\"text-align: right;\">\n",
       "      <th></th>\n",
       "      <th>Amount</th>\n",
       "    </tr>\n",
       "  </thead>\n",
       "  <tbody>\n",
       "    <tr>\n",
       "      <th>count</th>\n",
       "      <td>300.000000</td>\n",
       "    </tr>\n",
       "    <tr>\n",
       "      <th>mean</th>\n",
       "      <td>1707.873333</td>\n",
       "    </tr>\n",
       "    <tr>\n",
       "      <th>std</th>\n",
       "      <td>4821.002771</td>\n",
       "    </tr>\n",
       "    <tr>\n",
       "      <th>min</th>\n",
       "      <td>20.000000</td>\n",
       "    </tr>\n",
       "    <tr>\n",
       "      <th>25%</th>\n",
       "      <td>160.000000</td>\n",
       "    </tr>\n",
       "    <tr>\n",
       "      <th>50%</th>\n",
       "      <td>400.000000</td>\n",
       "    </tr>\n",
       "    <tr>\n",
       "      <th>75%</th>\n",
       "      <td>1000.000000</td>\n",
       "    </tr>\n",
       "    <tr>\n",
       "      <th>max</th>\n",
       "      <td>49400.000000</td>\n",
       "    </tr>\n",
       "  </tbody>\n",
       "</table>\n",
       "</div>"
      ],
      "text/plain": [
       "             Amount\n",
       "count    300.000000\n",
       "mean    1707.873333\n",
       "std     4821.002771\n",
       "min       20.000000\n",
       "25%      160.000000\n",
       "50%      400.000000\n",
       "75%     1000.000000\n",
       "max    49400.000000"
      ]
     },
     "execution_count": 6,
     "metadata": {},
     "output_type": "execute_result"
    }
   ],
   "source": [
    "df.describe()"
   ]
  },
  {
   "cell_type": "code",
   "execution_count": 7,
   "id": "eed54f07",
   "metadata": {},
   "outputs": [
    {
     "data": {
      "text/plain": [
       "Timestamp                 datetime64[ns]\n",
       "Amount spent by                   object\n",
       "For                               object\n",
       "Mode of transaction               object\n",
       "Home Expenses                     object\n",
       "Further details if any            object\n",
       "Amount                             int64\n",
       "dtype: object"
      ]
     },
     "execution_count": 7,
     "metadata": {},
     "output_type": "execute_result"
    }
   ],
   "source": [
    "df.dtypes"
   ]
  },
  {
   "cell_type": "code",
   "execution_count": 11,
   "id": "1bc08741",
   "metadata": {},
   "outputs": [],
   "source": [
    "df.columns=['Date-Time','Spent_by','Spent_For','Mode_of_Pay','Spent_Category','Further_Details','Amount']"
   ]
  },
  {
   "cell_type": "code",
   "execution_count": 9,
   "id": "5572b161",
   "metadata": {},
   "outputs": [
    {
     "data": {
      "text/plain": [
       "array(['Home', 'Personal', 'Card payments', 'Peace Paradice', 'Others',\n",
       "       'Peace Paradice exp', 'others', 'Other'], dtype=object)"
      ]
     },
     "execution_count": 9,
     "metadata": {},
     "output_type": "execute_result"
    }
   ],
   "source": [
    "df.Spent_For.unique()"
   ]
  },
  {
   "cell_type": "code",
   "execution_count": 10,
   "id": "13c87d80",
   "metadata": {},
   "outputs": [
    {
     "data": {
      "text/plain": [
       "array(['LKS', 'KIV', 'MKA', 'MAS', 'MAA'], dtype=object)"
      ]
     },
     "execution_count": 10,
     "metadata": {},
     "output_type": "execute_result"
    }
   ],
   "source": [
    "df.Spent_by.unique()"
   ]
  },
  {
   "cell_type": "code",
   "execution_count": 11,
   "id": "a6ad29b5",
   "metadata": {},
   "outputs": [
    {
     "data": {
      "text/plain": [
       "300"
      ]
     },
     "execution_count": 11,
     "metadata": {},
     "output_type": "execute_result"
    }
   ],
   "source": [
    "df.Spent_Category.count()"
   ]
  },
  {
   "cell_type": "code",
   "execution_count": 12,
   "id": "d58ee26b",
   "metadata": {},
   "outputs": [
    {
     "data": {
      "text/plain": [
       "False"
      ]
     },
     "execution_count": 12,
     "metadata": {},
     "output_type": "execute_result"
    }
   ],
   "source": [
    "#no null vlues in amount column\n",
    "df['Amount'].isnull().values.any()"
   ]
  },
  {
   "cell_type": "code",
   "execution_count": 13,
   "id": "4ab757b5",
   "metadata": {},
   "outputs": [
    {
     "data": {
      "text/plain": [
       "False"
      ]
     },
     "execution_count": 13,
     "metadata": {},
     "output_type": "execute_result"
    }
   ],
   "source": [
    "#no null vlues in Spent_For column\n",
    "df['Spent_For'].isnull().values.any()"
   ]
  },
  {
   "cell_type": "code",
   "execution_count": 14,
   "id": "c9d2acc3",
   "metadata": {},
   "outputs": [],
   "source": [
    "df['Spent_For'] = df['Spent_For'].replace(['Card Payments'],'Card')\n",
    "df['Spent_For'] = df['Spent_For'].replace(['Peace Paradice','Peace Paradice exp'],'Peace_P')\n",
    "df['Spent_For'] = df['Spent_For'].replace(['Other','others'],'Others')"
   ]
  },
  {
   "cell_type": "code",
   "execution_count": 15,
   "id": "6a9051d5",
   "metadata": {},
   "outputs": [],
   "source": [
    "x=df['Spent_For']\n",
    "y=df['Amount']"
   ]
  },
  {
   "cell_type": "code",
   "execution_count": 16,
   "id": "ab0951ea",
   "metadata": {},
   "outputs": [
    {
     "data": {
      "text/plain": [
       "Text(0, 0.5, 'Amount in Rupees')"
      ]
     },
     "execution_count": 16,
     "metadata": {},
     "output_type": "execute_result"
    },
    {
     "data": {
      "image/png": "[encoded data removed]",
      "text/plain": [
       "<Figure size 432x288 with 1 Axes>"
      ]
     },
     "metadata": {
      "needs_background": "light"
     },
     "output_type": "display_data"
    }
   ],
   "source": [
    "plt.bar(x,y,color = 'c')\n",
    "plt.xlabel('Amount Spent for')\n",
    "plt.ylabel('Amount in Rupees')"
   ]
  },
  {
   "cell_type": "code",
   "execution_count": 12,
   "id": "f038ea43",
   "metadata": {},
   "outputs": [
    {
     "data": {
      "text/plain": [
       "Fruits and Vegitables                                    46\n",
       "Snacks and eatables                                      33\n",
       "General Provisions                                       28\n",
       "Repair works                                             20\n",
       "Medical                                                  18\n",
       "Flower                                                   14\n",
       "Dress / Tailoring                                        12\n",
       "Gift                                                     11\n",
       "Travel                                                   10\n",
       "Fuel                                                      9\n",
       "Milk                                                      8\n",
       "Ironing                                                   8\n",
       "Servant salary                                            7\n",
       "Coffeepowder                                              7\n",
       "Water                                                     5\n",
       "Entertainment / Movie                                     5\n",
       "New Purchase                                              5\n",
       "Stationery                                                4\n",
       "Donation                                                  4\n",
       "cat Food                                                  4\n",
       "Rice mill                                                 3\n",
       "Gas                                                       3\n",
       "TV Rechanrge                                              3\n",
       "Parlour                                                   2\n",
       "Magazines                                                 2\n",
       "Others                                                    1\n",
       "medical                                                   1\n",
       "Kitchen stands and scissor                                1\n",
       "HDFC card                                                 1\n",
       "Helmet for srikumar                                       1\n",
       "Vehicle insurance                                         1\n",
       "sahaj bhavan valuation report for sbi loan processing     1\n",
       "Photo print                                               1\n",
       "laptop plug adapter                                       1\n",
       "Internet charges                                          1\n",
       "car driving class of Srikumar                             1\n",
       "table cover                                               1\n",
       "to srikumar                                               1\n",
       "goorka, kuppai etc                                        1\n",
       "Table delivery and fixing                                 1\n",
       "Goorka and kuppai                                         1\n",
       "AC instalation                                            1\n",
       "AC fitting                                                1\n",
       "ac delivery charges                                       1\n",
       "two wheeler air check                                     1\n",
       "Temple                                                    1\n",
       "college form                                              1\n",
       "EB                                                        1\n",
       "Mobile Recharge                                           1\n",
       "Car wash                                                  1\n",
       "Internet recharga                                         1\n",
       "amazon purchases - woffle maker and other accessories     1\n",
       "Garden exp                                                1\n",
       "stationeries and photos of mka, lks and maa               1\n",
       "Name: Spent_Category, dtype: int64"
      ]
     },
     "execution_count": 12,
     "metadata": {},
     "output_type": "execute_result"
    }
   ],
   "source": [
    "df['Spent_Category'].value_counts()"
   ]
  },
  {
   "cell_type": "code",
   "execution_count": 25,
   "id": "7c758487",
   "metadata": {},
   "outputs": [],
   "source": [
    "df['Spent_Category'] = df['Spent_Category'].replace(['Parlour','Kitchen stands and scissor','HDFC card','Helmet for srikumar','Vehicle insurance'                                         ,'sahaj bhavan valuation report for sbi loan processing'    ,'Photo print','laptop plug adapter'                                      \n",
    ",'Internet charges'                                         \n",
    ",'car driving class of Srikumar'                            \n",
    ",'table cover'                                               \n",
    ",'to srikumar '                                              \n",
    ",'goorka, kuppai etc'                                       \n",
    ",'Table delivery and fixing'                                \n",
    ",'Goorka and kuppai'                                         \n",
    ",'AC instalation'                                           \n",
    ",'AC fitting'                                               \n",
    ",'ac delivery charges'                                      \n",
    ",'two wheeler air check'                                    \n",
    ",'Temple'                                                  \n",
    ",'college form'  \n",
    ",'Internet recharga'\n",
    ",'amazon purchases - woffle maker and other accessories'    \n",
    ",'stationeries and photos of mka, lks and maa','to srikumar'],'Others')"
   ]
  },
  {
   "cell_type": "code",
   "execution_count": 29,
   "id": "302322c3",
   "metadata": {},
   "outputs": [
    {
     "data": {
      "text/plain": [
       "Fruits and Vegitables    46\n",
       "Snacks and eatables      33\n",
       "General Provisions       28\n",
       "Others                   26\n",
       "Repair works             20\n",
       "Medical                  18\n",
       "Flower                   14\n",
       "Dress / Tailoring        12\n",
       "Gift                     11\n",
       "Travel                   10\n",
       "Fuel                      9\n",
       "Milk                      8\n",
       "Ironing                   8\n",
       "Coffeepowder              7\n",
       "Servant salary            7\n",
       "New Purchase              5\n",
       "Entertainment / Movie     5\n",
       "Water                     5\n",
       "Stationery                4\n",
       "Donation                  4\n",
       "cat Food                  4\n",
       "TV Rechanrge              3\n",
       "Gas                       3\n",
       "Rice mill                 3\n",
       "Magazines                 2\n",
       "Car wash                  1\n",
       "EB                        1\n",
       "Garden exp                1\n",
       "Mobile Recharge           1\n",
       "medical                   1\n",
       "Name: Spent_Category, dtype: int64"
      ]
     },
     "execution_count": 29,
     "metadata": {},
     "output_type": "execute_result"
    }
   ],
   "source": [
    "df['Spent_Category'].value_counts()"
   ]
  },
  {
   "cell_type": "code",
   "execution_count": 30,
   "id": "7865b27f",
   "metadata": {},
   "outputs": [
    {
     "data": {
      "text/plain": [
       "Text(0, 0.5, 'Amount in Rupees')"
      ]
     },
     "execution_count": 30,
     "metadata": {},
     "output_type": "execute_result"
    },
    {
     "data": {
      "image/png": "[encoded data removed]",
      "text/plain": [
       "<Figure size 432x288 with 1 Axes>"
      ]
     },
     "metadata": {
      "needs_background": "light"
     },
     "output_type": "display_data"
    }
   ],
   "source": [
    "x=df['Spent_Category']\n",
    "y=df['Amount']\n",
    "plt.bar(x,y,color = 'c')\n",
    "plt.xlabel('Amount Spent category')\n",
    "plt.ylabel('Amount in Rupees')"
   ]
  },
  {
   "cell_type": "code",
   "execution_count": 36,
   "id": "ff14d783",
   "metadata": {},
   "outputs": [],
   "source": [
    "from sklearn.preprocessing import MinMaxScaler"
   ]
  },
  {
   "cell_type": "code",
   "execution_count": 33,
   "id": "71937ba0",
   "metadata": {},
   "outputs": [],
   "source": [
    "scaling=MinMaxScaler()"
   ]
  },
  {
   "cell_type": "code",
   "execution_count": null,
   "id": "804b5afb",
   "metadata": {},
   "outputs": [],
   "source": []
  },
  {
   "cell_type": "code",
   "execution_count": 38,
   "id": "0147a60c",
   "metadata": {},
   "outputs": [],
   "source": [
    "label_encoder = preprocessing.LabelEncoder()\n",
    "df['Spent_Category']= label_encoder.fit_transform(df['Spent_Category'])"
   ]
  },
  {
   "cell_type": "code",
   "execution_count": 40,
   "id": "ba657878",
   "metadata": {},
   "outputs": [
    {
     "data": {
      "text/plain": [
       "array([ 5,  0,  7, 11, 16, 28, 23,  3, 12, 25,  4,  2, 24, 14,  6, 27, 20,\n",
       "        1, 13,  8, 19, 26, 18, 15,  9, 10, 17, 22, 21, 29])"
      ]
     },
     "execution_count": 40,
     "metadata": {},
     "output_type": "execute_result"
    }
   ],
   "source": [
    "df['Spent_Category'].unique()"
   ]
  },
  {
   "cell_type": "code",
   "execution_count": 42,
   "id": "e006b010",
   "metadata": {
    "scrolled": true
   },
   "outputs": [
    {
     "data": {
      "text/plain": [
       "Text(0, 0.5, 'Amount in Rupees')"
      ]
     },
     "execution_count": 42,
     "metadata": {},
     "output_type": "execute_result"
    },
    {
     "data": {
      "image/png": "[encoded data removed]",
      "text/plain": [
       "<Figure size 432x288 with 1 Axes>"
      ]
     },
     "metadata": {
      "needs_background": "light"
     },
     "output_type": "display_data"
    }
   ],
   "source": [
    "x=df['Spent_Category']\n",
    "y=df['Amount']\n",
    "plt.bar(x,y,color = 'c')\n",
    "plt.xlabel('Amount Spent category')\n",
    "plt.ylabel('Amount in Rupees')"
   ]
  },
  {
   "cell_type": "code",
   "execution_count": 44,
   "id": "3829585d",
   "metadata": {},
   "outputs": [],
   "source": [
    "normalized_df=scaling.fit_transform(df[['Spent_Category','Amount']])"
   ]
  },
  {
   "cell_type": "code",
   "execution_count": 47,
   "id": "10726028",
   "metadata": {},
   "outputs": [
    {
     "data": {
      "text/html": [
       "<div>\n",
       "<style scoped>\n",
       "    .dataframe tbody tr th:only-of-type {\n",
       "        vertical-align: middle;\n",
       "    }\n",
       "\n",
       "    .dataframe tbody tr th {\n",
       "        vertical-align: top;\n",
       "    }\n",
       "\n",
       "    .dataframe thead th {\n",
       "        text-align: right;\n",
       "    }\n",
       "</style>\n",
       "<table border=\"1\" class=\"dataframe\">\n",
       "  <thead>\n",
       "    <tr style=\"text-align: right;\">\n",
       "      <th></th>\n",
       "      <th>Spent_Category</th>\n",
       "      <th>Amount</th>\n",
       "    </tr>\n",
       "  </thead>\n",
       "  <tbody>\n",
       "    <tr>\n",
       "      <th>0</th>\n",
       "      <td>0.172414</td>\n",
       "      <td>0.020757</td>\n",
       "    </tr>\n",
       "    <tr>\n",
       "      <th>1</th>\n",
       "      <td>0.000000</td>\n",
       "      <td>0.015796</td>\n",
       "    </tr>\n",
       "    <tr>\n",
       "      <th>2</th>\n",
       "      <td>0.241379</td>\n",
       "      <td>0.002633</td>\n",
       "    </tr>\n",
       "    <tr>\n",
       "      <th>3</th>\n",
       "      <td>0.241379</td>\n",
       "      <td>0.025678</td>\n",
       "    </tr>\n",
       "    <tr>\n",
       "      <th>4</th>\n",
       "      <td>0.379310</td>\n",
       "      <td>0.005670</td>\n",
       "    </tr>\n",
       "    <tr>\n",
       "      <th>...</th>\n",
       "      <td>...</td>\n",
       "      <td>...</td>\n",
       "    </tr>\n",
       "    <tr>\n",
       "      <th>295</th>\n",
       "      <td>0.793103</td>\n",
       "      <td>0.000203</td>\n",
       "    </tr>\n",
       "    <tr>\n",
       "      <th>296</th>\n",
       "      <td>0.655172</td>\n",
       "      <td>0.004658</td>\n",
       "    </tr>\n",
       "    <tr>\n",
       "      <th>297</th>\n",
       "      <td>0.241379</td>\n",
       "      <td>0.024949</td>\n",
       "    </tr>\n",
       "    <tr>\n",
       "      <th>298</th>\n",
       "      <td>0.379310</td>\n",
       "      <td>0.088335</td>\n",
       "    </tr>\n",
       "    <tr>\n",
       "      <th>299</th>\n",
       "      <td>0.241379</td>\n",
       "      <td>0.022398</td>\n",
       "    </tr>\n",
       "  </tbody>\n",
       "</table>\n",
       "<p>300 rows × 2 columns</p>\n",
       "</div>"
      ],
      "text/plain": [
       "     Spent_Category    Amount\n",
       "0          0.172414  0.020757\n",
       "1          0.000000  0.015796\n",
       "2          0.241379  0.002633\n",
       "3          0.241379  0.025678\n",
       "4          0.379310  0.005670\n",
       "..              ...       ...\n",
       "295        0.793103  0.000203\n",
       "296        0.655172  0.004658\n",
       "297        0.241379  0.024949\n",
       "298        0.379310  0.088335\n",
       "299        0.241379  0.022398\n",
       "\n",
       "[300 rows x 2 columns]"
      ]
     },
     "execution_count": 47,
     "metadata": {},
     "output_type": "execute_result"
    }
   ],
   "source": [
    "normalized_df=pd.DataFrame(normalized_df)\n",
    "normalized_df.columns=['Spent_Category','Amount']\n",
    "normalized_df"
   ]
  },
  {
   "cell_type": "code",
   "execution_count": null,
   "id": "f652a23b",
   "metadata": {},
   "outputs": [],
   "source": []
  }
 ],
 "metadata": {
  "kernelspec": {
   "display_name": "Python 3 (ipykernel)",
   "language": "python",
   "name": "python3"
  },
  "language_info": {
   "codemirror_mode": {
    "name": "ipython",
    "version": 3
   },
   "file_extension": ".py",
   "mimetype": "text/x-python",
   "name": "python",
   "nbconvert_exporter": "python",
   "pygments_lexer": "ipython3",
   "version": "3.8.12"
  }
 },
 "nbformat": 4,
 "nbformat_minor": 5
}
