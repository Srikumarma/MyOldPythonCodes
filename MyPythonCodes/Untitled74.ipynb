{
 "cells": [
  {
   "cell_type": "code",
   "execution_count": 13,
   "metadata": {},
   "outputs": [
    {
     "ename": "SyntaxError",
     "evalue": "invalid syntax (<ipython-input-13-eaa32653b097>, line 2)",
     "output_type": "error",
     "traceback": [
      "\u001b[1;36m  File \u001b[1;32m\"<ipython-input-13-eaa32653b097>\"\u001b[1;36m, line \u001b[1;32m2\u001b[0m\n\u001b[1;33m    float angle = PI/4;\u001b[0m\n\u001b[1;37m          ^\u001b[0m\n\u001b[1;31mSyntaxError\u001b[0m\u001b[1;31m:\u001b[0m invalid syntax\n"
     ]
    }
   ],
   "source": [
    "// Location\n",
    "float angle = PI/4;\n",
    "// Velocity\n",
    "        float aVelocity = 0;\n",
    "        1/ Acceleration\n",
    "        float aAcceleration = 0.01;\n",
    "        void setup() {\n",
    "        size(640,360);\n",
    "        }\n",
    "        void draw() {\n",
    "        background(255);\n",
    "        fill(175);\n",
    "        stroke(0);\n",
    "        rectMode(CENTER);\n",
    "        translate(width/2, height/2);\n",
    "        rotate(angle);\n",
    "        line(-50,0,50,0);\n",
    "        ellipse(0,0,100,100);\n",
    "        ellipse(50,0,8,8);\n",
    "        ellipse(-50,0,8,8);\n",
    "        aAcceleration=-0.01*sin(angle);\n",
    "        angle += a Velocity;\n",
    "// Angular equivalent of velocity.add(acceleration);\n",
    "        aVelocity += a Acceleration;\n",
    "// Angular equivalent of location.add(velocity);\n",
    "        a Velocity *=0.99;\n",
    "        }"
   ]
  },
  {
   "cell_type": "code",
   "execution_count": null,
   "metadata": {},
   "outputs": [],
   "source": [
    "float a=1.1\n"
   ]
  }
 ],
 "metadata": {
  "kernelspec": {
   "display_name": "Python 3",
   "language": "python",
   "name": "python3"
  },
  "language_info": {
   "codemirror_mode": {
    "name": "ipython",
    "version": 3
   },
   "file_extension": ".py",
   "mimetype": "text/x-python",
   "name": "python",
   "nbconvert_exporter": "python",
   "pygments_lexer": "ipython3",
   "version": "3.8.3"
  }
 },
 "nbformat": 4,
 "nbformat_minor": 4
}
