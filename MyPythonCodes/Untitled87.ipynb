{
 "cells": [
  {
   "cell_type": "code",
   "execution_count": 1,
   "metadata": {},
   "outputs": [
    {
     "name": "stderr",
     "output_type": "stream",
     "text": [
      "ERROR: tensorflow 2.5.0 has requirement typing-extensions~=3.7.4, but you'll have typing-extensions 3.10.0.0 which is incompatible.\n",
      "ERROR: phik 0.11.2 has requirement scipy>=1.5.2, but you'll have scipy 1.5.0 which is incompatible.\n"
     ]
    },
    {
     "name": "stdout",
     "output_type": "stream",
     "text": [
      "Collecting pandas_profiling\n",
      "  Using cached pandas_profiling-3.0.0-py2.py3-none-any.whl (248 kB)\n",
      "Requirement already satisfied: joblib in d:\\software\\python\\lib\\site-packages (from pandas_profiling) (0.16.0)\n",
      "Requirement already satisfied: numpy>=1.16.0 in d:\\software\\python\\lib\\site-packages (from pandas_profiling) (1.19.5)\n",
      "Requirement already satisfied: matplotlib>=3.2.0 in d:\\software\\python\\lib\\site-packages (from pandas_profiling) (3.2.2)\n",
      "Collecting missingno>=0.4.2\n",
      "  Using cached missingno-0.5.0-py3-none-any.whl (8.8 kB)\n",
      "Requirement already satisfied: PyYAML>=5.0.0 in d:\\software\\python\\lib\\site-packages (from pandas_profiling) (5.3.1)\n",
      "Collecting htmlmin>=0.1.12\n",
      "  Using cached htmlmin-0.1.12.tar.gz (19 kB)\n",
      "Requirement already satisfied: pandas!=1.0.0,!=1.0.1,!=1.0.2,!=1.1.0,>=0.25.3 in d:\\software\\python\\lib\\site-packages (from pandas_profiling) (1.0.5)\n",
      "Collecting tangled-up-in-unicode==0.1.0\n",
      "  Using cached tangled_up_in_unicode-0.1.0-py3-none-any.whl (3.1 MB)\n",
      "Requirement already satisfied: scipy>=1.4.1 in d:\\software\\python\\lib\\site-packages (from pandas_profiling) (1.5.0)\n",
      "Collecting phik>=0.11.1\n",
      "  Using cached phik-0.11.2.tar.gz (1.1 MB)\n",
      "Collecting pydantic>=1.8.1\n",
      "  Downloading pydantic-1.8.2-cp38-cp38-win_amd64.whl (2.0 MB)\n",
      "Collecting visions[type_image_path]==0.7.1\n",
      "  Using cached visions-0.7.1-py3-none-any.whl (102 kB)\n",
      "Requirement already satisfied: requests>=2.24.0 in d:\\software\\python\\lib\\site-packages (from pandas_profiling) (2.24.0)\n",
      "Collecting tqdm>=4.48.2\n",
      "  Using cached tqdm-4.61.2-py2.py3-none-any.whl (76 kB)\n",
      "Requirement already satisfied: jinja2>=2.11.1 in d:\\software\\python\\lib\\site-packages (from pandas_profiling) (2.11.2)\n",
      "Requirement already satisfied: seaborn>=0.10.1 in d:\\software\\python\\lib\\site-packages (from pandas_profiling) (0.10.1)\n",
      "Requirement already satisfied: pyparsing!=2.0.4,!=2.1.2,!=2.1.6,>=2.0.1 in d:\\software\\python\\lib\\site-packages (from matplotlib>=3.2.0->pandas_profiling) (2.4.7)\n",
      "Requirement already satisfied: kiwisolver>=1.0.1 in d:\\software\\python\\lib\\site-packages (from matplotlib>=3.2.0->pandas_profiling) (1.2.0)\n",
      "Requirement already satisfied: python-dateutil>=2.1 in d:\\software\\python\\lib\\site-packages (from matplotlib>=3.2.0->pandas_profiling) (2.8.1)\n",
      "Requirement already satisfied: cycler>=0.10 in d:\\software\\python\\lib\\site-packages (from matplotlib>=3.2.0->pandas_profiling) (0.10.0)\n",
      "Requirement already satisfied: pytz>=2017.2 in d:\\software\\python\\lib\\site-packages (from pandas!=1.0.0,!=1.0.1,!=1.0.2,!=1.1.0,>=0.25.3->pandas_profiling) (2020.1)\n",
      "Collecting typing-extensions>=3.7.4.3\n",
      "  Using cached typing_extensions-3.10.0.0-py3-none-any.whl (26 kB)\n",
      "Collecting multimethod==1.4\n",
      "  Using cached multimethod-1.4-py2.py3-none-any.whl (7.3 kB)\n",
      "Requirement already satisfied: bottleneck in d:\\software\\python\\lib\\site-packages (from visions[type_image_path]==0.7.1->pandas_profiling) (1.3.2)\n",
      "Requirement already satisfied: networkx>=2.4 in d:\\software\\python\\lib\\site-packages (from visions[type_image_path]==0.7.1->pandas_profiling) (2.4)\n",
      "Requirement already satisfied: attrs>=19.3.0 in d:\\software\\python\\lib\\site-packages (from visions[type_image_path]==0.7.1->pandas_profiling) (19.3.0)\n",
      "Requirement already satisfied: Pillow; extra == \"type_image_path\" in d:\\software\\python\\lib\\site-packages (from visions[type_image_path]==0.7.1->pandas_profiling) (7.2.0)\n",
      "Collecting imagehash; extra == \"type_image_path\"\n",
      "  Using cached ImageHash-4.2.1.tar.gz (812 kB)\n",
      "Requirement already satisfied: urllib3!=1.25.0,!=1.25.1,<1.26,>=1.21.1 in d:\\software\\python\\lib\\site-packages (from requests>=2.24.0->pandas_profiling) (1.25.9)\n",
      "Requirement already satisfied: certifi>=2017.4.17 in d:\\software\\python\\lib\\site-packages (from requests>=2.24.0->pandas_profiling) (2020.6.20)\n",
      "Requirement already satisfied: chardet<4,>=3.0.2 in d:\\software\\python\\lib\\site-packages (from requests>=2.24.0->pandas_profiling) (3.0.4)\n",
      "Requirement already satisfied: idna<3,>=2.5 in d:\\software\\python\\lib\\site-packages (from requests>=2.24.0->pandas_profiling) (2.10)\n",
      "Requirement already satisfied: colorama; platform_system == \"Windows\" in d:\\software\\python\\lib\\site-packages (from tqdm>=4.48.2->pandas_profiling) (0.4.3)\n",
      "Requirement already satisfied: MarkupSafe>=0.23 in d:\\software\\python\\lib\\site-packages (from jinja2>=2.11.1->pandas_profiling) (1.1.1)\n",
      "Requirement already satisfied: six>=1.5 in d:\\software\\python\\lib\\site-packages (from python-dateutil>=2.1->matplotlib>=3.2.0->pandas_profiling) (1.15.0)\n",
      "Requirement already satisfied: decorator>=4.3.0 in d:\\software\\python\\lib\\site-packages (from networkx>=2.4->visions[type_image_path]==0.7.1->pandas_profiling) (4.4.2)\n",
      "Requirement already satisfied: PyWavelets in d:\\software\\python\\lib\\site-packages (from imagehash; extra == \"type_image_path\"->visions[type_image_path]==0.7.1->pandas_profiling) (1.1.1)\n",
      "Building wheels for collected packages: htmlmin, phik, imagehash\n",
      "  Building wheel for htmlmin (setup.py): started\n",
      "  Building wheel for htmlmin (setup.py): finished with status 'done'\n",
      "  Created wheel for htmlmin: filename=htmlmin-0.1.12-py3-none-any.whl size=27085 sha256=3b0cdbd0d1ea4438d39c94a6a934333d4f1c05d56c2e8f3b549c9ddd197b748b\n",
      "  Stored in directory: c:\\users\\sriku\\appdata\\local\\pip\\cache\\wheels\\23\\14\\6e\\4be5bfeeb027f4939a01764b48edd5996acf574b0913fe5243\n",
      "  Building wheel for phik (setup.py): started\n",
      "  Building wheel for phik (setup.py): finished with status 'done'\n",
      "  Created wheel for phik: filename=phik-0.11.2-py3-none-any.whl size=1107415 sha256=05b66300e17aee2b7b37f23d5fd4c95b1fd23bb36b0cfd7a5cb776eaff1a698a\n",
      "  Stored in directory: c:\\users\\sriku\\appdata\\local\\pip\\cache\\wheels\\72\\9a\\23\\097c93fd8341220d92674891b6a9a30f0e389719d9b7291bd2\n",
      "  Building wheel for imagehash (setup.py): started\n",
      "  Building wheel for imagehash (setup.py): finished with status 'done'\n",
      "  Created wheel for imagehash: filename=ImageHash-4.2.1-py2.py3-none-any.whl size=295198 sha256=8f768e51a4b8c1cf07b49ad1a5c8da0c82e75ce78456f447a37a5449801d0838\n",
      "  Stored in directory: c:\\users\\sriku\\appdata\\local\\pip\\cache\\wheels\\48\\a1\\7f\\096c1269d6bf78d4768180602579b35a1e8cb1250bb4b40c74\n",
      "Successfully built htmlmin phik imagehash\n",
      "Installing collected packages: missingno, htmlmin, tangled-up-in-unicode, phik, typing-extensions, pydantic, multimethod, imagehash, visions, tqdm, pandas-profiling\n",
      "  Attempting uninstall: typing-extensions\n",
      "    Found existing installation: typing-extensions 3.7.4.2\n",
      "    Uninstalling typing-extensions-3.7.4.2:\n",
      "      Successfully uninstalled typing-extensions-3.7.4.2\n",
      "  Attempting uninstall: tqdm\n",
      "    Found existing installation: tqdm 4.47.0\n",
      "    Uninstalling tqdm-4.47.0:\n",
      "      Successfully uninstalled tqdm-4.47.0\n",
      "Successfully installed htmlmin-0.1.12 imagehash-4.2.1 missingno-0.5.0 multimethod-1.4 pandas-profiling-3.0.0 phik-0.11.2 pydantic-1.8.2 tangled-up-in-unicode-0.1.0 tqdm-4.61.2 typing-extensions-3.10.0.0 visions-0.7.1\n"
     ]
    }
   ],
   "source": [
    "! pip install pandas_profiling"
   ]
  },
  {
   "cell_type": "code",
   "execution_count": null,
   "metadata": {},
   "outputs": [],
   "source": []
  }
 ],
 "metadata": {
  "kernelspec": {
   "display_name": "Python 3",
   "language": "python",
   "name": "python3"
  },
  "language_info": {
   "codemirror_mode": {
    "name": "ipython",
    "version": 3
   },
   "file_extension": ".py",
   "mimetype": "text/x-python",
   "name": "python",
   "nbconvert_exporter": "python",
   "pygments_lexer": "ipython3",
   "version": "3.8.3"
  }
 },
 "nbformat": 4,
 "nbformat_minor": 4
}
