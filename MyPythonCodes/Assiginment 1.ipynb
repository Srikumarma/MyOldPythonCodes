{
 "cells": [
  {
   "cell_type": "markdown",
   "metadata": {},
   "source": [
    "# Exercise Question 1: Given a Python list you should be able to display Python list in the following order\n",
    "aLsit = [100, 200, 300, 400, 500]\n",
    "Expected output:\n",
    "\n",
    "[500, 400, 300, 200, 100]"
   ]
  },
  {
   "cell_type": "code",
   "execution_count": 1,
   "metadata": {},
   "outputs": [
    {
     "data": {
      "text/plain": [
       "[500, 400, 300, 200, 100]"
      ]
     },
     "execution_count": 1,
     "metadata": {},
     "output_type": "execute_result"
    }
   ],
   "source": [
    "aList=[100,200,300,400,500]\n",
    "aList.reverse()\n",
    "aList"
   ]
  },
  {
   "cell_type": "markdown",
   "metadata": {},
   "source": [
    "# Exercise Question 2: Concatenate two lists index-wise\n",
    "list1 = [\"M\", \"na\", \"i\", \"Ke\"] \n",
    "list2 = [\"y\", \"me\", \"s\", \"lly\"]\n",
    "Expected output:\n",
    "\n",
    "['My', 'name', 'is', 'Kelly']\n"
   ]
  },
  {
   "cell_type": "code",
   "execution_count": 6,
   "metadata": {},
   "outputs": [
    {
     "data": {
      "text/plain": [
       "('My', 'name', 'is', 'Kelly')"
      ]
     },
     "execution_count": 6,
     "metadata": {},
     "output_type": "execute_result"
    }
   ],
   "source": [
    "list1=[\"M\",\"na\",\"i\",\"Ke\"]\n",
    "list2=[\"y\",\"me\",\"s\",\"lly\"]\n",
    "list3=(list1[0]+list2[0]),(list1[1]+list2[1]),(list1[2]+list2[2]),(list1[3]+list2[3])\n",
    "list3"
   ]
  },
  {
   "cell_type": "markdown",
   "metadata": {},
   "source": [
    "# Exercise Question 3: Given a Python list. Turn every item of a list into its square\n",
    "aList = [1, 2, 3, 4, 5, 6, 7]\n",
    "Expected output:\n",
    "\n",
    "[1, 4, 9, 16, 25, 36, 49]\n"
   ]
  },
  {
   "cell_type": "code",
   "execution_count": 8,
   "metadata": {},
   "outputs": [
    {
     "data": {
      "text/plain": [
       "[1, 4, 9, 16, 25, 36, 49]"
      ]
     },
     "execution_count": 8,
     "metadata": {},
     "output_type": "execute_result"
    }
   ],
   "source": [
    "aList=[1,2,3,4,5,6,7]\n",
    "list2=[(aList[0]**2),(aList[1]**2),(aList[2]**2),(aList[3]**2),(aList[4]**2),(aList[5]**2),(aList[6]**2)]\n",
    "list2"
   ]
  },
  {
   "cell_type": "markdown",
   "metadata": {},
   "source": [
    "# Exercise Question 4: Concatenate two lists in the following order\n",
    "list1 = [\"Hello \", \"take \"]\n",
    "list2 = [\"Dear\", \"Sir\"]\n",
    "Expected output:\n",
    "\n",
    "['Hello Dear', 'Hello Sir', 'take Dear', 'take Sir']\n"
   ]
  },
  {
   "cell_type": "code",
   "execution_count": 19,
   "metadata": {},
   "outputs": [
    {
     "data": {
      "text/plain": [
       "['Hello Dear', 'Hello Sir', 'take Dear', 'take Sir']"
      ]
     },
     "execution_count": 19,
     "metadata": {},
     "output_type": "execute_result"
    }
   ],
   "source": [
    "list1 = [\"Hello \", \"take \"]\n",
    "list2 = [\"Dear\", \"Sir\"]\n",
    "list3=[(list1[0]+list2[0]),(list1[0]+list2[1]),(list1[1]+list2[0]),(list1[1]+list2[1])]\n",
    "list3"
   ]
  },
  {
   "cell_type": "markdown",
   "metadata": {},
   "source": [
    "# Exercise Question 5: Given a two Python list. Iterate both lists simultaneously such that list1 should display item in original order and list2 in reverse order\n",
    "list1 = [10, 20, 30, 40]\n",
    "\n",
    "list2 = [100, 200, 300, 400]\n",
    "\n",
    "Expected output:\n",
    "\n",
    "10 400\n",
    "\n",
    "20 300\n",
    "\n",
    "30 200\n",
    "\n",
    "40 100\n"
   ]
  },
  {
   "cell_type": "code",
   "execution_count": 32,
   "metadata": {},
   "outputs": [
    {
     "name": "stdout",
     "output_type": "stream",
     "text": [
      "10 400\n",
      "20 300\n",
      "30 200\n",
      "40 100\n"
     ]
    }
   ],
   "source": [
    "list1 = [10, 20, 30, 40]\n",
    "list2 = [100, 200, 300, 400]\n",
    "print(list1[0],list2[3])\n",
    "print(list1[1],list2[2])\n",
    "print(list1[2],list2[1])\n",
    "print(list1[3],list2[0])"
   ]
  },
  {
   "cell_type": "markdown",
   "metadata": {},
   "source": [
    "# Exercise Question 6: Remove empty strings from the list of strings\n",
    "\n",
    "list1 = [\"Mike\", \"\", \"Emma\", \"Kelly\", \"\", \"Brad\"]\n",
    "\n",
    "Expected output:\n",
    "\n",
    "[\"Mike\", \"Emma\", \"Kelly\", \"Brad\"]\n"
   ]
  },
  {
   "cell_type": "code",
   "execution_count": 49,
   "metadata": {},
   "outputs": [
    {
     "data": {
      "text/plain": [
       "['Mike', 'Emma', 'Kelly', 'Brad']"
      ]
     },
     "execution_count": 49,
     "metadata": {},
     "output_type": "execute_result"
    }
   ],
   "source": [
    "list1 = [\"Mike\", \"\", \"Emma\", \"Kelly\", \"\", \"Brad\"]\n",
    "list1.remove(\"\")\n",
    "list1.remove(\"\")\n",
    "list1\n"
   ]
  },
  {
   "cell_type": "markdown",
   "metadata": {},
   "source": [
    "# Exercise Question 7: Add item 7000 after 6000 in the following Python List\n",
    "list1 = [10, 20, [300, 400, [5000, 6000], 500], 30, 40]\n",
    "\n",
    "Expected output:\n",
    "\n",
    "[10, 20, [300, 400, [5000, 6000, 7000], 500], 30, 40]\n"
   ]
  },
  {
   "cell_type": "code",
   "execution_count": 57,
   "metadata": {},
   "outputs": [
    {
     "data": {
      "text/plain": [
       "[10, 20, [300, 400, [5000, 6000, 7000], 500], 30, 40]"
      ]
     },
     "execution_count": 57,
     "metadata": {},
     "output_type": "execute_result"
    }
   ],
   "source": [
    "list1 = [10, 20, [300, 400, [5000, 6000], 500], 30, 40]\n",
    "list1[2][2].append(7000)\n",
    "list1"
   ]
  },
  {
   "cell_type": "markdown",
   "metadata": {},
   "source": [
    "# Exercise Question 8: Given a nested list extend it with adding sub list [\"h\", \"i\", \"j\"] in a such a way that it will look like the following list\n",
    "\n",
    "Given List:\n",
    "\n",
    "list1 = [\"a\", \"b\", [\"c\", [\"d\", \"e\", [\"f\", \"g\"], \"k\"], \"l\"], \"m\", \"n\"]\n",
    "\n",
    "Sub List to be added = [\"h\", \"i\", \"j\"]\n",
    "\n",
    "Expected output:\n",
    "\n",
    "['a', 'b', ['c', ['d', 'e', ['f', 'g', 'h', 'i', 'j'], 'k'], 'l'], 'm', 'n']\n",
    "\n"
   ]
  },
  {
   "cell_type": "code",
   "execution_count": 66,
   "metadata": {},
   "outputs": [
    {
     "data": {
      "text/plain": [
       "['a', 'b', ['c', ['d', 'e', ['f', 'g', 'h', 'i', 'j'], 'k'], 'l'], 'm', 'n']"
      ]
     },
     "execution_count": 66,
     "metadata": {},
     "output_type": "execute_result"
    }
   ],
   "source": [
    "list1 = [\"a\", \"b\", [\"c\", [\"d\", \"e\", [\"f\", \"g\"], \"k\"], \"l\"], \"m\", \"n\"]\n",
    "list2 = [\"h\", \"i\", \"j\"]\n",
    "list1[2][1][2].extend(list2)\n",
    "list1"
   ]
  },
  {
   "cell_type": "markdown",
   "metadata": {},
   "source": [
    "# Exercise Question 9: Given a Python list, find value 20 in the list, and if it is present, replace it with 200. Only update the first occurrence of a value\n",
    "\n",
    "list1 = [5, 10, 15, 20, 25, 50, 20]\n",
    "\n",
    "Expected output:\n",
    "\n",
    "list1 = [5, 10, 15, 200, 25, 50, 20]\n"
   ]
  },
  {
   "cell_type": "code",
   "execution_count": 71,
   "metadata": {},
   "outputs": [
    {
     "data": {
      "text/plain": [
       "[5, 10, 15, 200, 25, 50, 20]"
      ]
     },
     "execution_count": 71,
     "metadata": {},
     "output_type": "execute_result"
    }
   ],
   "source": [
    "list1 = [5, 10, 15, 20, 25, 50, 20]\n",
    "\n",
    "x = list1.index(20)\n",
    "list1[x] = 200\n",
    "list1"
   ]
  },
  {
   "cell_type": "markdown",
   "metadata": {},
   "source": [
    "# Exercise Question 10: Given a Python list, remove all occurrence of 20 from the list\n",
    "\n",
    "list1 = [5, 20, 15, 20, 25, 50, 20]\n",
    "\n",
    "Expected output:\n",
    "\n",
    "[5, 15, 25, 50]\n"
   ]
  },
  {
   "cell_type": "code",
   "execution_count": 6,
   "metadata": {},
   "outputs": [
    {
     "data": {
      "text/plain": [
       "[5, 15, 25, 50]"
      ]
     },
     "execution_count": 6,
     "metadata": {},
     "output_type": "execute_result"
    }
   ],
   "source": [
    "list1 = [5, 20, 15, 20, 25, 50, 20]\n",
    "while 20 in list1: list1.remove(20)\n",
    "list1"
   ]
  },
  {
   "cell_type": "markdown",
   "metadata": {},
   "source": [
    "# Exercise Question 11: Reverse a given string \n",
    "\n",
    "Given​: str1 = \"PYnative\"\n",
    "\n",
    "Expected Output​: evitanYP \n",
    " "
   ]
  },
  {
   "cell_type": "code",
   "execution_count": 2,
   "metadata": {},
   "outputs": [
    {
     "name": "stdout",
     "output_type": "stream",
     "text": [
      "evitanYP\n"
     ]
    }
   ],
   "source": [
    "str1 = \"PYnative\"\n",
    "print(str1[::-1])"
   ]
  },
  {
   "cell_type": "markdown",
   "metadata": {},
   "source": [
    "# Exercise Question 12: Find the last position of a substring “Emma” in a given string \n",
    "Given​: str1 = \"Emma is a data scientist who knows Python. Emma works at google.\" \n",
    "\n",
    "Where in the string is the last occurrence of the substring “Emma”?: \n",
    "\n",
    "Expected Output​: Last occurrence of Emma starts at index ​43 "
   ]
  },
  {
   "cell_type": "code",
   "execution_count": 3,
   "metadata": {},
   "outputs": [],
   "source": [
    "str1 = \"Emma is a data scientist who knows Python. Emma works at google.\"\n"
   ]
  },
  {
   "cell_type": "markdown",
   "metadata": {},
   "source": [
    "# Exercise Question 13: Split a given string on hyphens into several substrings and display each substring \n",
    "Given: \n",
    "\n",
    "str1 = Emma-is-a-data-scientist \n",
    "Expected Output​: \n",
    "Displaying each substring \n",
    "\n",
    "Emma\n",
    "\n",
    "is\n",
    "\n",
    "a \n",
    "\n",
    "data \n",
    "\n",
    "scientist \n",
    " "
   ]
  },
  {
   "cell_type": "code",
   "execution_count": 8,
   "metadata": {},
   "outputs": [
    {
     "name": "stdout",
     "output_type": "stream",
     "text": [
      "Emma\n",
      "is\n",
      "a\n",
      "data\n",
      "scientist\n"
     ]
    }
   ],
   "source": [
    "str1 = 'Emma-is-a-data-scientist'\n",
    "x=str1.split('-')\n",
    "for i in x:\n",
    "    print(i)"
   ]
  },
  {
   "cell_type": "markdown",
   "metadata": {},
   "source": [
    "# Exercise Question 14: Remove empty strings from a list of strings \n",
    "\n",
    "Given​: \n",
    "\n",
    "str_list = [\"Emma\", \"Jon\", \"\", \"Kelly\", None, \"Eric\", \"\"]\n",
    "\n",
    "Expected Output​: \n",
    "\n",
    "Original list of sting ['Emma', 'Jon', '', 'Kelly', None, 'Eric', ''] \n",
    "\n",
    "After removing empty strings ['Emma', 'Jon', 'Kelly', 'Eric'] \n",
    " "
   ]
  },
  {
   "cell_type": "code",
   "execution_count": 23,
   "metadata": {},
   "outputs": [
    {
     "name": "stdout",
     "output_type": "stream",
     "text": [
      "Original string ['Emma', 'Jon', '', 'Kelly', None, 'Eric', '']\n",
      "After removing empty strings ['Emma', 'Jon', 'Kelly', 'Eric']\n"
     ]
    }
   ],
   "source": [
    "str_list = [\"Emma\", \"Jon\", \"\", \"Kelly\", None, \"Eric\", \"\"]\n",
    "print('Original string',str_list)\n",
    "str_list.remove('')\n",
    "str_list.remove('')\n",
    "str_list.remove(None)\n",
    "print('After removing empty strings',str_list)"
   ]
  },
  {
   "cell_type": "markdown",
   "metadata": {},
   "source": [
    "# Exercise Question 15: Remove special symbols/Punctuation from a given string \n",
    "\n",
    "Given​: \n",
    "\n",
    "str1 = \"/*Jon is @developer & musician\" \n",
    "\n",
    "Expected Output​: “Jon is developer musician” "
   ]
  },
  {
   "cell_type": "code",
   "execution_count": 31,
   "metadata": {},
   "outputs": [
    {
     "name": "stdout",
     "output_type": "stream",
     "text": [
      "\"Jon is developer musician\"\n"
     ]
    }
   ],
   "source": [
    "str1 = '\"/*Jon is @developer & musician\"'\n",
    "x=str1.replace('/','')\n",
    "y=x.replace('*','')\n",
    "a=y.replace('@','')\n",
    "b=a.replace('&','')\n",
    "c=b.replace('  ',' ')\n",
    "print(c)"
   ]
  },
  {
   "cell_type": "markdown",
   "metadata": {},
   "source": [
    "# Exercise Question 17: Find words with both alphabets and numbers \n",
    "\n",
    "Given​: \n",
    "\n",
    "str1 = \"Emma25 is Data scientist50 and AI Expert\" \n",
    "\n",
    "Expected Output​: \n",
    "\n",
    "Emma25 \n",
    "\n",
    "scientist50 "
   ]
  },
  {
   "cell_type": "code",
   "execution_count": 4,
   "metadata": {},
   "outputs": [
    {
     "name": "stdout",
     "output_type": "stream",
     "text": [
      "Emma25\n",
      "scientist50\n"
     ]
    }
   ],
   "source": [
    "str1 = \"Emma25 is Data scientist50 and AI Expert\"\n",
    "s = []\n",
    "temp = str1.split()\n",
    "for item in temp:\n",
    "    if any(char.isalpha() for char in item) and any(char.isdigit() for char in item):\n",
    "        s.append(item)\n",
    "\n",
    "for i in s:\n",
    "    print(i)"
   ]
  },
  {
   "cell_type": "code",
   "execution_count": null,
   "metadata": {},
   "outputs": [],
   "source": []
  }
 ],
 "metadata": {
  "kernelspec": {
   "display_name": "Python 3",
   "language": "python",
   "name": "python3"
  },
  "language_info": {
   "codemirror_mode": {
    "name": "ipython",
    "version": 3
   },
   "file_extension": ".py",
   "mimetype": "text/x-python",
   "name": "python",
   "nbconvert_exporter": "python",
   "pygments_lexer": "ipython3",
   "version": "3.8.3"
  }
 },
 "nbformat": 4,
 "nbformat_minor": 4
}
