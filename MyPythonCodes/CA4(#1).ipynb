{
 "cells": [
  {
   "cell_type": "markdown",
   "id": "34251bda",
   "metadata": {},
   "source": [
    "# To predict the avegrage per person income of countries using the appropriate algorithm"
   ]
  },
  {
   "cell_type": "code",
   "execution_count": 227,
   "id": "0883ad73",
   "metadata": {},
   "outputs": [],
   "source": [
    "country=read.csv('Country-data.csv')"
   ]
  },
  {
   "cell_type": "code",
   "execution_count": 228,
   "id": "75c1a256",
   "metadata": {},
   "outputs": [
    {
     "data": {
      "text/plain": [
       "                country      child_mort        exports            health      \n",
       " Afghanistan        :  1   Min.   :  2.60   Min.   :  0.109   Min.   : 1.810  \n",
       " Albania            :  1   1st Qu.:  8.25   1st Qu.: 23.800   1st Qu.: 4.920  \n",
       " Algeria            :  1   Median : 19.30   Median : 35.000   Median : 6.320  \n",
       " Angola             :  1   Mean   : 38.27   Mean   : 41.109   Mean   : 6.816  \n",
       " Antigua and Barbuda:  1   3rd Qu.: 62.10   3rd Qu.: 51.350   3rd Qu.: 8.600  \n",
       " Argentina          :  1   Max.   :208.00   Max.   :200.000   Max.   :17.900  \n",
       " (Other)            :161                                                      \n",
       "    imports             income         inflation         life_expec   \n",
       " Min.   :  0.0659   Min.   :   609   Min.   : -4.210   Min.   :32.10  \n",
       " 1st Qu.: 30.2000   1st Qu.:  3355   1st Qu.:  1.810   1st Qu.:65.30  \n",
       " Median : 43.3000   Median :  9960   Median :  5.390   Median :73.10  \n",
       " Mean   : 46.8902   Mean   : 17145   Mean   :  7.782   Mean   :70.56  \n",
       " 3rd Qu.: 58.7500   3rd Qu.: 22800   3rd Qu.: 10.750   3rd Qu.:76.80  \n",
       " Max.   :174.0000   Max.   :125000   Max.   :104.000   Max.   :82.80  \n",
       "                                                                      \n",
       "   total_fer          gdpp       \n",
       " Min.   :1.150   Min.   :   231  \n",
       " 1st Qu.:1.795   1st Qu.:  1330  \n",
       " Median :2.410   Median :  4660  \n",
       " Mean   :2.948   Mean   : 12964  \n",
       " 3rd Qu.:3.880   3rd Qu.: 14050  \n",
       " Max.   :7.490   Max.   :105000  \n",
       "                                 "
      ]
     },
     "metadata": {},
     "output_type": "display_data"
    }
   ],
   "source": [
    "summary(country)"
   ]
  },
  {
   "cell_type": "code",
   "execution_count": 229,
   "id": "4b918037",
   "metadata": {},
   "outputs": [
    {
     "data": {
      "text/html": [
       "167"
      ],
      "text/latex": [
       "167"
      ],
      "text/markdown": [
       "167"
      ],
      "text/plain": [
       "[1] 167"
      ]
     },
     "metadata": {},
     "output_type": "display_data"
    }
   ],
   "source": [
    "# number of Rows\n",
    "NROW(country)"
   ]
  },
  {
   "cell_type": "code",
   "execution_count": 230,
   "id": "6b1fdc52",
   "metadata": {},
   "outputs": [
    {
     "data": {
      "text/html": [
       "10"
      ],
      "text/latex": [
       "10"
      ],
      "text/markdown": [
       "10"
      ],
      "text/plain": [
       "[1] 10"
      ]
     },
     "metadata": {},
     "output_type": "display_data"
    }
   ],
   "source": [
    "# number of Columns\n",
    "NCOL(country)"
   ]
  },
  {
   "cell_type": "code",
   "execution_count": 231,
   "id": "a899e2eb",
   "metadata": {},
   "outputs": [
    {
     "data": {
      "text/html": [
       "<ol class=list-inline>\n",
       "\t<li>'country'</li>\n",
       "\t<li>'child_mort'</li>\n",
       "\t<li>'exports'</li>\n",
       "\t<li>'health'</li>\n",
       "\t<li>'imports'</li>\n",
       "\t<li>'income'</li>\n",
       "\t<li>'inflation'</li>\n",
       "\t<li>'life_expec'</li>\n",
       "\t<li>'total_fer'</li>\n",
       "\t<li>'gdpp'</li>\n",
       "</ol>\n"
      ],
      "text/latex": [
       "\\begin{enumerate*}\n",
       "\\item 'country'\n",
       "\\item 'child\\_mort'\n",
       "\\item 'exports'\n",
       "\\item 'health'\n",
       "\\item 'imports'\n",
       "\\item 'income'\n",
       "\\item 'inflation'\n",
       "\\item 'life\\_expec'\n",
       "\\item 'total\\_fer'\n",
       "\\item 'gdpp'\n",
       "\\end{enumerate*}\n"
      ],
      "text/markdown": [
       "1. 'country'\n",
       "2. 'child_mort'\n",
       "3. 'exports'\n",
       "4. 'health'\n",
       "5. 'imports'\n",
       "6. 'income'\n",
       "7. 'inflation'\n",
       "8. 'life_expec'\n",
       "9. 'total_fer'\n",
       "10. 'gdpp'\n",
       "\n",
       "\n"
      ],
      "text/plain": [
       " [1] \"country\"    \"child_mort\" \"exports\"    \"health\"     \"imports\"   \n",
       " [6] \"income\"     \"inflation\"  \"life_expec\" \"total_fer\"  \"gdpp\"      "
      ]
     },
     "metadata": {},
     "output_type": "display_data"
    }
   ],
   "source": [
    "# name of the Columns\n",
    "colnames(country)"
   ]
  },
  {
   "cell_type": "code",
   "execution_count": 232,
   "id": "6dfc8a86",
   "metadata": {},
   "outputs": [
    {
     "data": {
      "text/html": [
       "FALSE"
      ],
      "text/latex": [
       "FALSE"
      ],
      "text/markdown": [
       "FALSE"
      ],
      "text/plain": [
       "[1] FALSE"
      ]
     },
     "metadata": {},
     "output_type": "display_data"
    }
   ],
   "source": [
    "#check if the data set has any empty values\n",
    "any(is.na(country))"
   ]
  },
  {
   "cell_type": "code",
   "execution_count": 410,
   "id": "c7a0b445",
   "metadata": {},
   "outputs": [],
   "source": [
    "first20=head(country,20)"
   ]
  },
  {
   "cell_type": "code",
   "execution_count": 411,
   "id": "93e9b81a",
   "metadata": {},
   "outputs": [
    {
     "data": {
      "image/png": "[encoded data removed]",
      "text/plain": [
       "plot without title"
      ]
     },
     "metadata": {},
     "output_type": "display_data"
    }
   ],
   "source": [
    "pie(first20$income,labels = first20$country)"
   ]
  },
  {
   "cell_type": "code",
   "execution_count": 235,
   "id": "00e56d8b",
   "metadata": {},
   "outputs": [
    {
     "data": {
      "image/png": "[encoded data removed]",
      "text/plain": [
       "Plot with title \"Graphical representation to show the corrleation b/w \n",
       "GDP and Inflamation\""
      ]
     },
     "metadata": {},
     "output_type": "display_data"
    }
   ],
   "source": [
    "plot(first$gdpp,first$income,col = rainbow(2),xlab=\"GDP of countries\",ylab=\"Inflation\",main = \"Graphical representation to show the corrleation b/w \n",
    "GDP and Inflamation\")"
   ]
  },
  {
   "cell_type": "code",
   "execution_count": 236,
   "id": "163b2233",
   "metadata": {},
   "outputs": [],
   "source": [
    "first=head(country,40)\n",
    "x=first$inflation+first\n",
    "y=first$income"
   ]
  },
  {
   "cell_type": "code",
   "execution_count": 237,
   "id": "42677e4c",
   "metadata": {},
   "outputs": [
    {
     "data": {
      "text/html": [
       "0.858036032443373"
      ],
      "text/latex": [
       "0.858036032443373"
      ],
      "text/markdown": [
       "0.858036032443373"
      ],
      "text/plain": [
       "[1] 0.858036"
      ]
     },
     "metadata": {},
     "output_type": "display_data"
    }
   ],
   "source": [
    "cor(x,y)"
   ]
  },
  {
   "cell_type": "markdown",
   "id": "3309fade",
   "metadata": {},
   "source": [
    "GDP and Income"
   ]
  },
  {
   "cell_type": "markdown",
   "id": "e8d4a997",
   "metadata": {},
   "source": [
    "# Positive Correlation b/w gdp and income "
   ]
  },
  {
   "cell_type": "code",
   "execution_count": 238,
   "id": "cf97b845",
   "metadata": {},
   "outputs": [],
   "source": [
    "mod=lm(first$income~first$gdpp,data = first)"
   ]
  },
  {
   "cell_type": "code",
   "execution_count": 239,
   "id": "0421c5db",
   "metadata": {},
   "outputs": [
    {
     "name": "stdout",
     "output_type": "stream",
     "text": [
      "      128       129       130       131       132       133       134       135 \n",
      " 4961.357  8381.138  8738.876  7839.697 16222.368 14385.335  7539.971 54606.688 \n",
      "      136       137       138       139       140       141       142       143 \n",
      "49772.391 10073.142 31498.747 24440.674  5159.563 19896.434 10256.846 47355.242 \n",
      "      144       145       146       147       148       149       150       151 \n",
      " 8622.853  5159.563  6534.437  6341.065  8883.905 10566.241 15255.509 38556.821 \n",
      "      152       153       154       155       156       157       158       159 \n",
      "11040.002  4982.627  4650.028  5186.635  5693.269 50255.820  7626.988  4857.903 \n",
      "      160       161       162       163       164       165       166       167 \n",
      " 5293.956 16899.170  8835.562 10469.555  5170.198  4749.614  7075.878 12354.931 \n"
     ]
    }
   ],
   "source": [
    "last=tail(country,40)\n",
    "b=data.frame(last)\n",
    "result=predict(mod,b)\n",
    "print(result)"
   ]
  },
  {
   "cell_type": "code",
   "execution_count": 240,
   "id": "070405e4",
   "metadata": {},
   "outputs": [
    {
     "data": {
      "text/plain": [
       "\n",
       "Call:\n",
       "lm(formula = first$income ~ first$gdpp, data = first)\n",
       "\n",
       "Residuals:\n",
       "   Min     1Q Median     3Q    Max \n",
       "-13207  -3605  -1364   1787  42043 \n",
       "\n",
       "Coefficients:\n",
       "             Estimate Std. Error t value Pr(>|t|)    \n",
       "(Intercept) 4.427e+03  1.679e+03   2.637   0.0121 *  \n",
       "first$gdpp  9.669e-01  9.388e-02  10.299  1.5e-12 ***\n",
       "---\n",
       "Signif. codes:  0 '***' 0.001 '**' 0.01 '*' 0.05 '.' 0.1 ' ' 1\n",
       "\n",
       "Residual standard error: 8560 on 38 degrees of freedom\n",
       "Multiple R-squared:  0.7362,\tAdjusted R-squared:  0.7293 \n",
       "F-statistic: 106.1 on 1 and 38 DF,  p-value: 1.497e-12\n"
      ]
     },
     "metadata": {},
     "output_type": "display_data"
    }
   ],
   "source": [
    "summary(mod)"
   ]
  },
  {
   "cell_type": "code",
   "execution_count": 241,
   "id": "88485675",
   "metadata": {},
   "outputs": [
    {
     "data": {
      "text/html": [
       "<dl class=dl-horizontal>\n",
       "\t<dt>1</dt>\n",
       "\t\t<dd>4961.35654279402</dd>\n",
       "\t<dt>2</dt>\n",
       "\t\t<dd>8381.13836128879</dd>\n",
       "\t<dt>3</dt>\n",
       "\t\t<dd>8738.87635191448</dd>\n",
       "\t<dt>4</dt>\n",
       "\t\t<dd>7839.69707817964</dd>\n",
       "\t<dt>5</dt>\n",
       "\t\t<dd>16222.3683720303</dd>\n",
       "\t<dt>6</dt>\n",
       "\t\t<dd>14385.3354471956</dd>\n",
       "\t<dt>7</dt>\n",
       "\t\t<dd>7539.97065360136</dd>\n",
       "\t<dt>8</dt>\n",
       "\t\t<dd>54606.6879067327</dd>\n",
       "\t<dt>9</dt>\n",
       "\t\t<dd>49772.3907361152</dd>\n",
       "\t<dt>10</dt>\n",
       "\t\t<dd>10073.1423710049</dd>\n",
       "\t<dt>11</dt>\n",
       "\t\t<dd>31498.7474311813</dd>\n",
       "\t<dt>12</dt>\n",
       "\t\t<dd>24440.6735620799</dd>\n",
       "\t<dt>13</dt>\n",
       "\t\t<dd>5159.56272678933</dd>\n",
       "\t<dt>14</dt>\n",
       "\t\t<dd>19896.4342216995</dd>\n",
       "\t<dt>15</dt>\n",
       "\t\t<dd>10256.8456634884</dd>\n",
       "\t<dt>16</dt>\n",
       "\t\t<dd>47355.2421508065</dd>\n",
       "\t<dt>17</dt>\n",
       "\t\t<dd>8622.85321981966</dd>\n",
       "\t<dt>18</dt>\n",
       "\t\t<dd>5159.56272678933</dd>\n",
       "\t<dt>19</dt>\n",
       "\t\t<dd>6534.43684211293</dd>\n",
       "\t<dt>20</dt>\n",
       "\t\t<dd>6341.06495528823</dd>\n",
       "\t<dt>21</dt>\n",
       "\t\t<dd>8883.905267033</dd>\n",
       "\t<dt>22</dt>\n",
       "\t\t<dd>10566.2406824079</dd>\n",
       "\t<dt>23</dt>\n",
       "\t\t<dd>15255.5089379068</dd>\n",
       "\t<dt>24</dt>\n",
       "\t\t<dd>38556.8213002828</dd>\n",
       "\t<dt>25</dt>\n",
       "\t\t<dd>11040.0018051284</dd>\n",
       "\t<dt>26</dt>\n",
       "\t\t<dd>4982.62745034473</dd>\n",
       "\t<dt>27</dt>\n",
       "\t\t<dd>4650.02780500626</dd>\n",
       "\t<dt>28</dt>\n",
       "\t\t<dd>5186.63479094479</dd>\n",
       "\t<dt>29</dt>\n",
       "\t\t<dd>5693.2691344255</dd>\n",
       "\t<dt>30</dt>\n",
       "\t\t<dd>50255.820453177</dd>\n",
       "\t<dt>31</dt>\n",
       "\t\t<dd>7626.98800267247</dd>\n",
       "\t<dt>32</dt>\n",
       "\t\t<dd>4857.9025833428</dd>\n",
       "\t<dt>33</dt>\n",
       "\t\t<dd>5293.9561881325</dd>\n",
       "\t<dt>34</dt>\n",
       "\t\t<dd>16899.1699759167</dd>\n",
       "\t<dt>35</dt>\n",
       "\t\t<dd>8835.56229532683</dd>\n",
       "\t<dt>36</dt>\n",
       "\t\t<dd>10469.5547389955</dd>\n",
       "\t<dt>37</dt>\n",
       "\t\t<dd>5170.19818056469</dd>\n",
       "\t<dt>38</dt>\n",
       "\t\t<dd>4749.61432672097</dd>\n",
       "\t<dt>39</dt>\n",
       "\t\t<dd>7075.87812522208</dd>\n",
       "\t<dt>40</dt>\n",
       "\t\t<dd>12354.9306355363</dd>\n",
       "</dl>\n"
      ],
      "text/latex": [
       "\\begin{description*}\n",
       "\\item[1] 4961.35654279402\n",
       "\\item[2] 8381.13836128879\n",
       "\\item[3] 8738.87635191448\n",
       "\\item[4] 7839.69707817964\n",
       "\\item[5] 16222.3683720303\n",
       "\\item[6] 14385.3354471956\n",
       "\\item[7] 7539.97065360136\n",
       "\\item[8] 54606.6879067327\n",
       "\\item[9] 49772.3907361152\n",
       "\\item[10] 10073.1423710049\n",
       "\\item[11] 31498.7474311813\n",
       "\\item[12] 24440.6735620799\n",
       "\\item[13] 5159.56272678933\n",
       "\\item[14] 19896.4342216995\n",
       "\\item[15] 10256.8456634884\n",
       "\\item[16] 47355.2421508065\n",
       "\\item[17] 8622.85321981966\n",
       "\\item[18] 5159.56272678933\n",
       "\\item[19] 6534.43684211293\n",
       "\\item[20] 6341.06495528823\n",
       "\\item[21] 8883.905267033\n",
       "\\item[22] 10566.2406824079\n",
       "\\item[23] 15255.5089379068\n",
       "\\item[24] 38556.8213002828\n",
       "\\item[25] 11040.0018051284\n",
       "\\item[26] 4982.62745034473\n",
       "\\item[27] 4650.02780500626\n",
       "\\item[28] 5186.63479094479\n",
       "\\item[29] 5693.2691344255\n",
       "\\item[30] 50255.820453177\n",
       "\\item[31] 7626.98800267247\n",
       "\\item[32] 4857.9025833428\n",
       "\\item[33] 5293.9561881325\n",
       "\\item[34] 16899.1699759167\n",
       "\\item[35] 8835.56229532683\n",
       "\\item[36] 10469.5547389955\n",
       "\\item[37] 5170.19818056469\n",
       "\\item[38] 4749.61432672097\n",
       "\\item[39] 7075.87812522208\n",
       "\\item[40] 12354.9306355363\n",
       "\\end{description*}\n"
      ],
      "text/markdown": [
       "1\n",
       ":   4961.356542794022\n",
       ":   8381.138361288793\n",
       ":   8738.876351914484\n",
       ":   7839.697078179645\n",
       ":   16222.36837203036\n",
       ":   14385.33544719567\n",
       ":   7539.970653601368\n",
       ":   54606.68790673279\n",
       ":   49772.390736115210\n",
       ":   10073.142371004911\n",
       ":   31498.747431181312\n",
       ":   24440.673562079913\n",
       ":   5159.5627267893314\n",
       ":   19896.434221699515\n",
       ":   10256.845663488416\n",
       ":   47355.242150806517\n",
       ":   8622.8532198196618\n",
       ":   5159.5627267893319\n",
       ":   6534.4368421129320\n",
       ":   6341.0649552882321\n",
       ":   8883.90526703322\n",
       ":   10566.240682407923\n",
       ":   15255.508937906824\n",
       ":   38556.821300282825\n",
       ":   11040.001805128426\n",
       ":   4982.6274503447327\n",
       ":   4650.0278050062628\n",
       ":   5186.6347909447929\n",
       ":   5693.269134425530\n",
       ":   50255.82045317731\n",
       ":   7626.9880026724732\n",
       ":   4857.902583342833\n",
       ":   5293.956188132534\n",
       ":   16899.169975916735\n",
       ":   8835.5622953268336\n",
       ":   10469.554738995537\n",
       ":   5170.1981805646938\n",
       ":   4749.6143267209739\n",
       ":   7075.8781252220840\n",
       ":   12354.9306355363\n",
       "\n"
      ],
      "text/plain": [
       "        1         2         3         4         5         6         7         8 \n",
       " 4961.357  8381.138  8738.876  7839.697 16222.368 14385.335  7539.971 54606.688 \n",
       "        9        10        11        12        13        14        15        16 \n",
       "49772.391 10073.142 31498.747 24440.674  5159.563 19896.434 10256.846 47355.242 \n",
       "       17        18        19        20        21        22        23        24 \n",
       " 8622.853  5159.563  6534.437  6341.065  8883.905 10566.241 15255.509 38556.821 \n",
       "       25        26        27        28        29        30        31        32 \n",
       "11040.002  4982.627  4650.028  5186.635  5693.269 50255.820  7626.988  4857.903 \n",
       "       33        34        35        36        37        38        39        40 \n",
       " 5293.956 16899.170  8835.562 10469.555  5170.198  4749.614  7075.878 12354.931 "
      ]
     },
     "metadata": {},
     "output_type": "display_data"
    }
   ],
   "source": [
    "predict(mod)"
   ]
  },
  {
   "cell_type": "code",
   "execution_count": 242,
   "id": "2894e498",
   "metadata": {},
   "outputs": [
    {
     "name": "stdout",
     "output_type": "stream",
     "text": [
      "[1] 0.5841135\n"
     ]
    }
   ],
   "source": [
    "RSE=sigma(mod)/mean(y)\n",
    "print(RSE)"
   ]
  },
  {
   "cell_type": "code",
   "execution_count": 423,
   "id": "25257bac",
   "metadata": {},
   "outputs": [],
   "source": [
    "library(caTools)\n",
    "s=sample.split(first20,SplitRatio = 0.7)\n",
    "train=subset(first20,split=TRUE)\n",
    "test=subset(first20,split=FALSE)"
   ]
  },
  {
   "cell_type": "code",
   "execution_count": 424,
   "id": "4216501b",
   "metadata": {},
   "outputs": [
    {
     "data": {
      "text/plain": [
       "\n",
       "Call:\n",
       "lm(formula = first$income ~ first$imports + first$exports + first$inflation, \n",
       "    data = train)\n",
       "\n",
       "Residuals:\n",
       "     Min       1Q   Median       3Q      Max \n",
       "-18878.1  -9305.8   -205.3   8300.7  21775.2 \n",
       "\n",
       "Coefficients:\n",
       "                Estimate Std. Error t value Pr(>|t|)  \n",
       "(Intercept)      17622.4     9906.6   1.779   0.0943 .\n",
       "first$imports     -324.7      223.1  -1.455   0.1650  \n",
       "first$exports      494.8      186.0   2.660   0.0171 *\n",
       "first$inflation   -869.1      440.9  -1.971   0.0663 .\n",
       "---\n",
       "Signif. codes:  0 '***' 0.001 '**' 0.01 '*' 0.05 '.' 0.1 ' ' 1\n",
       "\n",
       "Residual standard error: 12260 on 16 degrees of freedom\n",
       "Multiple R-squared:  0.3659,\tAdjusted R-squared:  0.247 \n",
       "F-statistic: 3.078 on 3 and 16 DF,  p-value: 0.0575\n"
      ]
     },
     "metadata": {},
     "output_type": "display_data"
    }
   ],
   "source": [
    "model=lm(first$income~first$imports+first$exports+first$inflation,data=train)\n",
    "summary(model)"
   ]
  },
  {
   "cell_type": "code",
   "execution_count": 425,
   "id": "0c17e7b4",
   "metadata": {},
   "outputs": [
    {
     "name": "stdout",
     "output_type": "stream",
     "text": [
      "         1          2          3          4          5          6          7 \n",
      " -213.7257 11793.4887 12433.6927 15049.6573 19758.8513  3613.7548  6451.6921 \n",
      "         8          9         10         11         12         13         14 \n",
      "19624.8315 26725.7715 25774.4268 21092.1784 29016.8797 12254.8930 21074.6616 \n",
      "        15         16         17         18         19         20 \n",
      " 8987.3343 29535.3255 26758.1437 16550.2738 10488.2865 19239.5825 \n"
     ]
    }
   ],
   "source": [
    "p=predict(model,test)\n",
    "print(p)"
   ]
  },
  {
   "cell_type": "code",
   "execution_count": 426,
   "id": "03e392bb",
   "metadata": {},
   "outputs": [
    {
     "data": {
      "text/html": [
       "0.729874511463186"
      ],
      "text/latex": [
       "0.729874511463186"
      ],
      "text/markdown": [
       "0.729874511463186"
      ],
      "text/plain": [
       "[1] 0.7298745"
      ]
     },
     "metadata": {},
     "output_type": "display_data"
    }
   ],
   "source": [
    "RSE=sigma(model)/mean(test$income)\n",
    "RSE"
   ]
  },
  {
   "cell_type": "code",
   "execution_count": 414,
   "id": "18fe0c67",
   "metadata": {},
   "outputs": [],
   "source": [
    "first=head(country,20)\n",
    "x=first$gdpp\n",
    "y=first$income\n",
    "mod=lm(first$income~first$imports+first$exports+first$inflation,data = first)"
   ]
  },
  {
   "cell_type": "code",
   "execution_count": 415,
   "id": "3543b6b7",
   "metadata": {},
   "outputs": [
    {
     "name": "stdout",
     "output_type": "stream",
     "text": [
      "       148        149        150        151        152        153        154 \n",
      " -213.7257 11793.4887 12433.6927 15049.6573 19758.8513  3613.7548  6451.6921 \n",
      "       155        156        157        158        159        160        161 \n",
      "19624.8315 26725.7715 25774.4268 21092.1784 29016.8797 12254.8930 21074.6616 \n",
      "       162        163        164        165        166        167 \n",
      " 8987.3343 29535.3255 26758.1437 16550.2738 10488.2865 19239.5825 \n"
     ]
    }
   ],
   "source": [
    "last=tail(country,20)\n",
    "b=data.frame(last)\n",
    "result=predict(mod,b)\n",
    "print(result)"
   ]
  },
  {
   "cell_type": "code",
   "execution_count": 416,
   "id": "a460f123",
   "metadata": {},
   "outputs": [
    {
     "data": {
      "text/plain": [
       "\n",
       "Call:\n",
       "lm(formula = first$income ~ first$imports + first$exports + first$inflation, \n",
       "    data = first)\n",
       "\n",
       "Residuals:\n",
       "     Min       1Q   Median       3Q      Max \n",
       "-18878.1  -9305.8   -205.3   8300.7  21775.2 \n",
       "\n",
       "Coefficients:\n",
       "                Estimate Std. Error t value Pr(>|t|)  \n",
       "(Intercept)      17622.4     9906.6   1.779   0.0943 .\n",
       "first$imports     -324.7      223.1  -1.455   0.1650  \n",
       "first$exports      494.8      186.0   2.660   0.0171 *\n",
       "first$inflation   -869.1      440.9  -1.971   0.0663 .\n",
       "---\n",
       "Signif. codes:  0 '***' 0.001 '**' 0.01 '*' 0.05 '.' 0.1 ' ' 1\n",
       "\n",
       "Residual standard error: 12260 on 16 degrees of freedom\n",
       "Multiple R-squared:  0.3659,\tAdjusted R-squared:  0.247 \n",
       "F-statistic: 3.078 on 3 and 16 DF,  p-value: 0.0575\n"
      ]
     },
     "metadata": {},
     "output_type": "display_data"
    }
   ],
   "source": [
    "summary(mod)"
   ]
  },
  {
   "cell_type": "code",
   "execution_count": 417,
   "id": "2143e512",
   "metadata": {},
   "outputs": [
    {
     "name": "stdout",
     "output_type": "stream",
     "text": [
      "[1] 0.7298745\n"
     ]
    }
   ],
   "source": [
    "RSE=sigma(mod)/mean(y)\n",
    "print(RSE)"
   ]
  },
  {
   "cell_type": "code",
   "execution_count": 412,
   "id": "2b16ce55",
   "metadata": {},
   "outputs": [
    {
     "data": {
      "image/png": "[encoded data removed]",
      "text/plain": [
       "plot without title"
      ]
     },
     "metadata": {},
     "output_type": "display_data"
    }
   ],
   "source": [
    "y=first20$inflation\n",
    "x=first20$income\n",
    "plot(x,y,col = rainbow(2),xlab = \"Income\",ylab = \"Inflation\",pch=19)"
   ]
  },
  {
   "cell_type": "code",
   "execution_count": 418,
   "id": "8bccf0aa",
   "metadata": {},
   "outputs": [
    {
     "data": {
      "image/png": "[encoded data removed]",
      "text/plain": [
       "plot without title"
      ]
     },
     "metadata": {},
     "output_type": "display_data"
    }
   ],
   "source": [
    "y=first20$exports\n",
    "x=first20$income\n",
    "plot(x,y,col = c(\"red\",\"yellow\"),xlab = \"Income\",ylab = \"Exports\",pch = 18)"
   ]
  },
  {
   "cell_type": "code",
   "execution_count": 419,
   "id": "9d110b51",
   "metadata": {},
   "outputs": [
    {
     "data": {
      "image/png": "[encoded data removed]",
      "text/plain": [
       "plot without title"
      ]
     },
     "metadata": {},
     "output_type": "display_data"
    }
   ],
   "source": [
    "y=first20$imports\n",
    "x=first20$income\n",
    "plot(x,y,col = c(\"blue\",\"green\"),xlab = \"Income\",ylab = \"imports\",pch = 20)"
   ]
  },
  {
   "cell_type": "code",
   "execution_count": 413,
   "id": "046ae62b",
   "metadata": {},
   "outputs": [
    {
     "data": {
      "image/png": "[encoded data removed]",
      "text/plain": [
       "Plot with title \"Analysis-1\""
      ]
     },
     "metadata": {},
     "output_type": "display_data"
    }
   ],
   "source": [
    "data<- data.frame(first20$income)\n",
    "barplot(height=as.matrix(data),names.arg = first20$country,\n",
    "        main=\"Analysis-1\",ylab=\"Vaccine\", beside=TRUE,col=rainbow (5))\n"
   ]
  },
  {
   "cell_type": "code",
   "execution_count": null,
   "id": "0d3ad5c0",
   "metadata": {},
   "outputs": [],
   "source": []
  }
 ],
 "metadata": {
  "kernelspec": {
   "display_name": "R",
   "language": "R",
   "name": "ir"
  },
  "language_info": {
   "codemirror_mode": "r",
   "file_extension": ".r",
   "mimetype": "text/x-r-source",
   "name": "R",
   "pygments_lexer": "r",
   "version": "3.6.1"
  }
 },
 "nbformat": 4,
 "nbformat_minor": 5
}
