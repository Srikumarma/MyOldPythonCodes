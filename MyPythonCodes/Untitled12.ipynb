{
 "cells": [
  {
   "cell_type": "code",
   "execution_count": 22,
   "metadata": {},
   "outputs": [
    {
     "name": "stdout",
     "output_type": "stream",
     "text": [
      "Name of the flower is  Bazinga \n",
      "Color of the flower is  xanadu  \n",
      "Height of the plant is  15 ft\n"
     ]
    }
   ],
   "source": [
    "class flower:\n",
    "    def __init__(self,fname,color,height):\n",
    "        self.fname=fname\n",
    "        self.color=color\n",
    "        self.height=height\n",
    "    def display(self):\n",
    "        None\n",
    "        \n",
    "x=flower(None,None,None)\n",
    "x.display()\n",
    "class f(flower):\n",
    "    def __init__(self,name,color,height):\n",
    "        super().__init__(name,color,height)\n",
    "    def final(self):\n",
    "        print('Name of the flower is ',self.fname,'\\nColor of the flower is ',self.color,'\\nHeight of the plant is ',self.height,'ft')\n",
    "x=f('Bazinga','xanadu ',15)\n",
    "x.final()"
   ]
  },
  {
   "cell_type": "code",
   "execution_count": 31,
   "metadata": {},
   "outputs": [
    {
     "name": "stdout",
     "output_type": "stream",
     "text": [
      "john says woof!\n",
      "Zazzels says meow!\n"
     ]
    }
   ],
   "source": [
    "class dog:\n",
    "    def __init__(self,name):\n",
    "        self.name=name\n",
    "        \n",
    "    def speak(self):\n",
    "        return self.name+' says woof!'\n",
    "class cat:\n",
    "    def __init__(self,name):\n",
    "        self.name=name\n",
    "    def speak(self):\n",
    "        return self.name+' says meow!'\n",
    "y=dog('john')\n",
    "x=cat('Zazzels')\n",
    "\n",
    "print(y.speak())\n",
    "print(x.speak())"
   ]
  },
  {
   "cell_type": "code",
   "execution_count": 32,
   "metadata": {},
   "outputs": [],
   "source": [
    "class animal:\n",
    "    def __init__(self,name):\n",
    "        self.name=name\n",
    "    def speak(self):\n",
    "        raise NotImplementedError"
   ]
  },
  {
   "cell_type": "code",
   "execution_count": 37,
   "metadata": {},
   "outputs": [
    {
     "name": "stdout",
     "output_type": "stream",
     "text": [
      "PLANTis the name of the plant\n",
      "it is green in color\n",
      "TREE is the name of the tree\n",
      "it is brown in color\n"
     ]
    }
   ],
   "source": [
    "class plant:\n",
    "    def __init__(self,name,color):\n",
    "        self.name=name\n",
    "        self.color=color\n",
    "    def flower(self):\n",
    "        return self.name+'is the name of the plant'\n",
    "    def colour(self):\n",
    "        return 'it is '+self.color+' in color'\n",
    "class tree:\n",
    "    def __init__(self,name,color):\n",
    "        self.name=name\n",
    "        self.color=color\n",
    "    def flower(self):\n",
    "        return self.name+' is the name of the tree'\n",
    "    def colour(self):\n",
    "        return 'it is '+self.color+' in color'\n",
    "y=plant('PLANT','green')\n",
    "x=tree('TREE','brown')\n",
    "print(y.flower())\n",
    "print(y.colour())\n",
    "print(x.flower())\n",
    "print(x.colour())"
   ]
  },
  {
   "cell_type": "code",
   "execution_count": 57,
   "metadata": {},
   "outputs": [],
   "source": [
    "def is_date_of_birth(text):\n",
    "#04/06/1993\n",
    "    if len(text)!=10:\n",
    "        return False\n",
    "    for i in range(2):\n",
    "        if not text[i].isnumeric():\n",
    "            return False\n",
    "    if text[2]!='/':\n",
    "        return False\n",
    "    for i in range(4,5):\n",
    "        if not text[i].isnumeric():\n",
    "            return False\n",
    "    if text[5]!='/':\n",
    "        return False\n",
    "    for i in range(7,10):\n",
    "        if not text[i].isnumeric():\n",
    "            return False\n",
    "    return True   \n",
    "            "
   ]
  },
  {
   "cell_type": "code",
   "execution_count": 43,
   "metadata": {},
   "outputs": [
    {
     "data": {
      "text/plain": [
       "True"
      ]
     },
     "execution_count": 43,
     "metadata": {},
     "output_type": "execute_result"
    }
   ],
   "source": [
    "test_string='04/06/1993'\n",
    "is_date_of_birth(test_string)"
   ]
  },
  {
   "cell_type": "code",
   "execution_count": 53,
   "metadata": {},
   "outputs": [],
   "source": [
    "def is_date_of_birth(text):\n",
    "    if len(text)!=10:\n",
    "        return False\n",
    "    for i in range(2):\n",
    "        if not text[i].isnumeric():\n",
    "            return False\n",
    "    if text[2]!='-':\n",
    "        return False\n",
    "    for i in range(4,5):\n",
    "        if not text[i].isnumeric():\n",
    "            return False\n",
    "    if text[5]!='-':\n",
    "        return False\n",
    "    for i in range(7,10):\n",
    "        if not text[i].isnumeric():\n",
    "            return False\n",
    "    return True   \n",
    "            "
   ]
  },
  {
   "cell_type": "code",
   "execution_count": 54,
   "metadata": {},
   "outputs": [
    {
     "data": {
      "text/plain": [
       "True"
      ]
     },
     "execution_count": 54,
     "metadata": {},
     "output_type": "execute_result"
    }
   ],
   "source": [
    "test_string='04-06-1993'\n",
    "is_date_of_birth(test_string)"
   ]
  },
  {
   "cell_type": "code",
   "execution_count": 55,
   "metadata": {},
   "outputs": [],
   "source": [
    "def is_date_of_birth(text):\n",
    "    if len(text)!=10:\n",
    "        return False\n",
    "    for i in range(2):\n",
    "        if not text[i].isnumeric():\n",
    "            return False\n",
    "    if text[2]!=',':\n",
    "        return False\n",
    "    for i in range(4,5):\n",
    "        if not text[i].isnumeric():\n",
    "            return False\n",
    "    if text[5]!=',':\n",
    "        return False\n",
    "    for i in range(7,10):\n",
    "        if not text[i].isnumeric():\n",
    "            return False\n",
    "    return True   "
   ]
  },
  {
   "cell_type": "code",
   "execution_count": 56,
   "metadata": {},
   "outputs": [
    {
     "data": {
      "text/plain": [
       "True"
      ]
     },
     "execution_count": 56,
     "metadata": {},
     "output_type": "execute_result"
    }
   ],
   "source": [
    "test_string='04,06,1993'\n",
    "is_date_of_birth(test_string)"
   ]
  },
  {
   "cell_type": "code",
   "execution_count": 9,
   "metadata": {},
   "outputs": [
    {
     "name": "stdout",
     "output_type": "stream",
     "text": [
      "['.']\n"
     ]
    }
   ],
   "source": [
    "import re\n",
    "a='aBc.defg64949ophgfuegf945566dhfu151hi'\n",
    "b='\\W'\n",
    "c=re.findall(b,a)\n",
    "print(c)"
   ]
  },
  {
   "cell_type": "code",
   "execution_count": null,
   "metadata": {},
   "outputs": [],
   "source": []
  }
 ],
 "metadata": {
  "kernelspec": {
   "display_name": "Python 3",
   "language": "python",
   "name": "python3"
  },
  "language_info": {
   "codemirror_mode": {
    "name": "ipython",
    "version": 3
   },
   "file_extension": ".py",
   "mimetype": "text/x-python",
   "name": "python",
   "nbconvert_exporter": "python",
   "pygments_lexer": "ipython3",
   "version": "3.8.3"
  }
 },
 "nbformat": 4,
 "nbformat_minor": 4
}
