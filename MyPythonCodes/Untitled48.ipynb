{
 "cells": [
  {
   "cell_type": "code",
   "execution_count": null,
   "metadata": {},
   "outputs": [
    {
     "name": "stdout",
     "output_type": "stream",
     "text": [
      "hi hello\n",
      "hi hello\n",
      "hi hello\n",
      "hi hello\n"
     ]
    }
   ],
   "source": [
    "import schedule\n",
    "import time\n",
    "def do_noth():\n",
    "    f1=open('new','w+')\n",
    "    f1.write('hi hello')\n",
    "    f1.close()\n",
    "    f1=open('new','r')\n",
    "    print(f1.read())\n",
    "    \n",
    "schedule.every(10).seconds.do(do_noth)\n",
    "\n",
    "while 1:\n",
    "    schedule.run_pending()\n",
    "    time.sleep(1)"
   ]
  },
  {
   "cell_type": "code",
   "execution_count": null,
   "metadata": {},
   "outputs": [],
   "source": []
  }
 ],
 "metadata": {
  "kernelspec": {
   "display_name": "Python 3",
   "language": "python",
   "name": "python3"
  },
  "language_info": {
   "codemirror_mode": {
    "name": "ipython",
    "version": 3
   },
   "file_extension": ".py",
   "mimetype": "text/x-python",
   "name": "python",
   "nbconvert_exporter": "python",
   "pygments_lexer": "ipython3",
   "version": "3.8.3"
  }
 },
 "nbformat": 4,
 "nbformat_minor": 4
}
