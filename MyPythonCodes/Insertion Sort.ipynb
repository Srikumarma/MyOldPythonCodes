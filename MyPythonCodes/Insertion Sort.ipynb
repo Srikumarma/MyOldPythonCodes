{
 "cells": [
  {
   "cell_type": "markdown",
   "id": "7948fe3f",
   "metadata": {},
   "source": [
    "for i = 0 to n{ ->n\n",
    "key = A[i] ->1\n",
    "j = i - 1 ->2\n",
    "while (j >= 0 and A[j] > key){-> n-1(1+1)\n",
    "A[j + 1] = A[j] ->2\n",
    "j = j - 1 ->2\n",
    "}\n",
    "A[j + 1] = key ->1\n",
    "}"
   ]
  },
  {
   "cell_type": "code",
   "execution_count": 4,
   "id": "2323bf85",
   "metadata": {},
   "outputs": [
    {
     "data": {
      "text/html": [
       "<ol class=list-inline>\n",
       "\t<li>53</li>\n",
       "\t<li>56</li>\n",
       "\t<li>61</li>\n",
       "\t<li>62</li>\n",
       "\t<li>63</li>\n",
       "\t<li>75</li>\n",
       "\t<li>76</li>\n",
       "\t<li>77</li>\n",
       "\t<li>95</li>\n",
       "\t<li>100</li>\n",
       "</ol>\n"
      ],
      "text/latex": [
       "\\begin{enumerate*}\n",
       "\\item 53\n",
       "\\item 56\n",
       "\\item 61\n",
       "\\item 62\n",
       "\\item 63\n",
       "\\item 75\n",
       "\\item 76\n",
       "\\item 77\n",
       "\\item 95\n",
       "\\item 100\n",
       "\\end{enumerate*}\n"
      ],
      "text/markdown": [
       "1. 53\n",
       "2. 56\n",
       "3. 61\n",
       "4. 62\n",
       "5. 63\n",
       "6. 75\n",
       "7. 76\n",
       "8. 77\n",
       "9. 95\n",
       "10. 100\n",
       "\n",
       "\n"
      ],
      "text/plain": [
       " [1]  53  56  61  62  63  75  76  77  95 100"
      ]
     },
     "metadata": {},
     "output_type": "display_data"
    }
   ],
   "source": [
    "# insertion sort function to sort array\n",
    "insertion_sort <- function(x)\n",
    "{\n",
    "# calculate the length of array\n",
    "n <- length(x)\n",
    "# outer loop\n",
    "for (i in 0 : (n))\n",
    "{\n",
    "# store first element as key\n",
    "key = x[i]\n",
    "j = i - 1\n",
    "# compare key with elements for\n",
    "# its correct position\n",
    "while (j > 0 && x[j] > key)\n",
    "{\n",
    "x[j + 1] = x[j]\n",
    "j = j - 1\n",
    "}\n",
    "# Place key at its correct position\n",
    "x[j + 1] = key\n",
    "}\n",
    "# return sorted array\n",
    "x\n",
    "}\n",
    "\n",
    "# take sample array\n",
    "arr <- sample(1 : 100, 10)\n",
    "\n",
    "# call insertion sort function\n",
    "sorted_arr <- insertion_sort(arr)\n",
    "\n",
    "# print sorted array\n",
    "sorted_arr\n"
   ]
  },
  {
   "cell_type": "markdown",
   "id": "34cd32d4",
   "metadata": {},
   "source": [
    "for i = 0 to n{ ----> n\n",
    "\n",
    "        key = A[i]  ----> n-1\n",
    "        \n",
    "        j = i - 1  ----> n-1\n",
    "        \n",
    "        while j >= 0 and A[j] > key{  ----> ((n-1)*n)/2\n",
    "        \n",
    "            A[j + 1] = A[j]  ----> (((n-1)*n)/2)-1\n",
    "            \n",
    "            j = j - 1  ----> (((n-1)*n)/2)-1\n",
    "            \n",
    "        }\n",
    "        \n",
    "    A[j + 1] = key  ----> n-1\n",
    "    \n",
    "    }"
   ]
  },
  {
   "cell_type": "markdown",
   "id": "79659cab",
   "metadata": {},
   "source": [
    "# Steps involved:\n",
    "\n",
    "1.Compare the element with its adjacent element.\n",
    "\n",
    "2.If at every comparison, we could find a position in sorted array where the element can be inserted, then create space by shifting the elements to right and insert the element at the appropriate position.\n",
    "\n",
    "3.Repeat the above steps until you place the last element of unsorted array to its correct position.\n"
   ]
  },
  {
   "cell_type": "markdown",
   "id": "75ea6c66",
   "metadata": {},
   "source": [
    "# Time complexity analysis:\n",
    "Running Time for any algorithm depends on the number of operations executed. We could see in the Pseudocode the number of basic operations under each algorithm. \n",
    "\n",
    "So, our task is to find the Cost or Time Complexity of each and trivially sum of these will be the Total Time Complexity of our Algorithm.\n",
    "\n",
    "We assume Cost of each i operation as C i where i ∈ {1,2,3,4,5,6,8} and compute the number of times these are executed.\n",
    "\n",
    "Therefore the Total Cost for one such operation would be the product of Cost of one operation and the number of times it is executed.\n"
   ]
  },
  {
   "cell_type": "markdown",
   "id": "a80135bd",
   "metadata": {},
   "source": [
    "# Best case:\n",
    "\n",
    "Best Case Analysis\n",
    "In Best Case , when the array is already sorted,\n",
    "\n",
    "Therefore,\n",
    "\n",
    "T( n ) = C1 * n + ( C2 + C3 ) * ( n - 1 ) + C4 * ( n - 1 ) + ( C5 + C6 ) * ( n - 2 ) + C8 * ( n - 1 )\n",
    "\n",
    "when further simplified has dominating factor of n and gives T(n) = C * ( n ) or O(n)"
   ]
  },
  {
   "cell_type": "markdown",
   "id": "44491a3d",
   "metadata": {},
   "source": [
    "# Worst Case \n",
    "when the array is reversly sorted\n",
    "\n",
    "T( n ) = C1 * n + ( C2 + C3 ) * ( n - 1 ) + C4 * ( n - 1 ) ( n ) / 2 + ( C5 + C6 ) * ( ( n - 1 ) (n ) / 2 - 1) + C8 * ( n - 1 )\n",
    "\n",
    "when further simplified has dominating factor of n2 and gives T(n) = C * ( n 2) or O( n2 )"
   ]
  },
  {
   "cell_type": "markdown",
   "id": "a75a3d0a",
   "metadata": {},
   "source": [
    "# Average Case\n",
    "\n",
    "T( n ) = C1 * n + ( C2 + C3 ) * ( n - 1 ) + C4/2 * ( n - 1 ) ( n ) / 2 + ( C5 + C6 )/2 * ( ( n - 1 ) (n ) / 2 - 1) + C8 * ( n - 1 )\n",
    "\n",
    "\n",
    "T(n) = C * ( n 2) or O( n2 )"
   ]
  },
  {
   "cell_type": "code",
   "execution_count": 1,
   "id": "7948bbb3",
   "metadata": {},
   "outputs": [
    {
     "name": "stderr",
     "output_type": "stream",
     "text": [
      "also installing the dependencies 'cowplot', 'gridExtra'\n",
      "\n"
     ]
    },
    {
     "name": "stdout",
     "output_type": "stream",
     "text": [
      "package 'cowplot' successfully unpacked and MD5 sums checked\n",
      "package 'gridExtra' successfully unpacked and MD5 sums checked\n",
      "package 'qsort' successfully unpacked and MD5 sums checked\n",
      "\n",
      "The downloaded binary packages are in\n",
      "\tC:\\Users\\sriku\\AppData\\Local\\Temp\\Rtmp6XUrh7\\downloaded_packages\n"
     ]
    },
    {
     "name": "stderr",
     "output_type": "stream",
     "text": [
      "Warning message:\n",
      "\"package 'qsort' was built under R version 3.6.3\""
     ]
    }
   ],
   "source": [
    "install.packages(\"qsort\")\n",
    "library(qsort)"
   ]
  },
  {
   "cell_type": "code",
   "execution_count": 2,
   "id": "cc275d9e",
   "metadata": {},
   "outputs": [],
   "source": [
    "data_ccq <- qsort_score(x = ex_qsort$ccq, qset_ccq, qsort_length = 100, item1 = \"ccq1\", subj_id = \"participant\", group_id = \"classroom\")"
   ]
  },
  {
   "cell_type": "code",
   "execution_count": 3,
   "id": "ee1c79ab",
   "metadata": {},
   "outputs": [
    {
     "data": {
      "text/html": [
       "<table>\n",
       "<thead><tr><th scope=col>participant</th><th scope=col>classroom</th><th scope=col>scomp_c</th><th scope=col>sest_c</th><th scope=col>egores_c</th><th scope=col>egocont_c</th><th scope=col>sdes_c</th><th scope=col>partial_scomp_c</th><th scope=col>partial_sest_c</th><th scope=col>partial_egores_c</th><th scope=col>partial_egocont_c</th><th scope=col>shields_s_emreg</th></tr></thead>\n",
       "<tbody>\n",
       "\t<tr><td> 1    </td><td>1     </td><td>-0.074</td><td>-0.093</td><td>-0.145</td><td>-0.012</td><td>-0.137</td><td> 0.113</td><td> 0.047</td><td>-0.054</td><td>-0.007</td><td>4.3   </td></tr>\n",
       "\t<tr><td> 2    </td><td>1     </td><td>-0.023</td><td> 0.008</td><td> 0.090</td><td> 0.157</td><td> 0.053</td><td>-0.160</td><td>-0.073</td><td> 0.086</td><td> 0.155</td><td>5.9   </td></tr>\n",
       "\t<tr><td> 3    </td><td>1     </td><td> 0.092</td><td> 0.086</td><td> 0.112</td><td>-0.021</td><td> 0.132</td><td>-0.061</td><td>-0.053</td><td>-0.002</td><td>-0.026</td><td>5.1   </td></tr>\n",
       "\t<tr><td> 4    </td><td>1     </td><td>-0.105</td><td>-0.113</td><td>-0.182</td><td>-0.128</td><td>-0.160</td><td> 0.088</td><td> 0.047</td><td>-0.089</td><td>-0.123</td><td>3.7   </td></tr>\n",
       "\t<tr><td> 5    </td><td>1     </td><td>-0.010</td><td>-0.039</td><td>-0.092</td><td>-0.092</td><td>-0.053</td><td> 0.085</td><td> 0.012</td><td>-0.090</td><td>-0.090</td><td>4.4   </td></tr>\n",
       "\t<tr><td> 6    </td><td>2     </td><td>-0.104</td><td>-0.079</td><td>-0.042</td><td> 0.156</td><td>-0.089</td><td>-0.054</td><td>-0.004</td><td> 0.068</td><td> 0.160</td><td>5.7   </td></tr>\n",
       "\t<tr><td> 7    </td><td>2     </td><td> 0.051</td><td> 0.079</td><td> 0.168</td><td> 0.169</td><td> 0.124</td><td>-0.139</td><td>-0.053</td><td> 0.121</td><td> 0.166</td><td>5.9   </td></tr>\n",
       "\t<tr><td> 8    </td><td>2     </td><td> 0.049</td><td> 0.066</td><td> 0.153</td><td> 0.185</td><td> 0.118</td><td>-0.130</td><td>-0.068</td><td> 0.101</td><td> 0.182</td><td>5.9   </td></tr>\n",
       "\t<tr><td> 9    </td><td>2     </td><td>-0.024</td><td>-0.007</td><td> 0.009</td><td>-0.026</td><td> 0.007</td><td>-0.069</td><td>-0.026</td><td> 0.004</td><td>-0.026</td><td>5.0   </td></tr>\n",
       "\t<tr><td>10    </td><td>2     </td><td>-0.039</td><td>-0.046</td><td>-0.033</td><td> 0.098</td><td>-0.042</td><td>-0.003</td><td>-0.019</td><td> 0.005</td><td> 0.100</td><td>5.2   </td></tr>\n",
       "</tbody>\n",
       "</table>\n"
      ],
      "text/latex": [
       "\\begin{tabular}{r|llllllllllll}\n",
       " participant & classroom & scomp\\_c & sest\\_c & egores\\_c & egocont\\_c & sdes\\_c & partial\\_scomp\\_c & partial\\_sest\\_c & partial\\_egores\\_c & partial\\_egocont\\_c & shields\\_s\\_emreg\\\\\n",
       "\\hline\n",
       "\t  1     & 1      & -0.074 & -0.093 & -0.145 & -0.012 & -0.137 &  0.113 &  0.047 & -0.054 & -0.007 & 4.3   \\\\\n",
       "\t  2     & 1      & -0.023 &  0.008 &  0.090 &  0.157 &  0.053 & -0.160 & -0.073 &  0.086 &  0.155 & 5.9   \\\\\n",
       "\t  3     & 1      &  0.092 &  0.086 &  0.112 & -0.021 &  0.132 & -0.061 & -0.053 & -0.002 & -0.026 & 5.1   \\\\\n",
       "\t  4     & 1      & -0.105 & -0.113 & -0.182 & -0.128 & -0.160 &  0.088 &  0.047 & -0.089 & -0.123 & 3.7   \\\\\n",
       "\t  5     & 1      & -0.010 & -0.039 & -0.092 & -0.092 & -0.053 &  0.085 &  0.012 & -0.090 & -0.090 & 4.4   \\\\\n",
       "\t  6     & 2      & -0.104 & -0.079 & -0.042 &  0.156 & -0.089 & -0.054 & -0.004 &  0.068 &  0.160 & 5.7   \\\\\n",
       "\t  7     & 2      &  0.051 &  0.079 &  0.168 &  0.169 &  0.124 & -0.139 & -0.053 &  0.121 &  0.166 & 5.9   \\\\\n",
       "\t  8     & 2      &  0.049 &  0.066 &  0.153 &  0.185 &  0.118 & -0.130 & -0.068 &  0.101 &  0.182 & 5.9   \\\\\n",
       "\t  9     & 2      & -0.024 & -0.007 &  0.009 & -0.026 &  0.007 & -0.069 & -0.026 &  0.004 & -0.026 & 5.0   \\\\\n",
       "\t 10     & 2      & -0.039 & -0.046 & -0.033 &  0.098 & -0.042 & -0.003 & -0.019 &  0.005 &  0.100 & 5.2   \\\\\n",
       "\\end{tabular}\n"
      ],
      "text/markdown": [
       "\n",
       "| participant | classroom | scomp_c | sest_c | egores_c | egocont_c | sdes_c | partial_scomp_c | partial_sest_c | partial_egores_c | partial_egocont_c | shields_s_emreg |\n",
       "|---|---|---|---|---|---|---|---|---|---|---|---|\n",
       "|  1     | 1      | -0.074 | -0.093 | -0.145 | -0.012 | -0.137 |  0.113 |  0.047 | -0.054 | -0.007 | 4.3    |\n",
       "|  2     | 1      | -0.023 |  0.008 |  0.090 |  0.157 |  0.053 | -0.160 | -0.073 |  0.086 |  0.155 | 5.9    |\n",
       "|  3     | 1      |  0.092 |  0.086 |  0.112 | -0.021 |  0.132 | -0.061 | -0.053 | -0.002 | -0.026 | 5.1    |\n",
       "|  4     | 1      | -0.105 | -0.113 | -0.182 | -0.128 | -0.160 |  0.088 |  0.047 | -0.089 | -0.123 | 3.7    |\n",
       "|  5     | 1      | -0.010 | -0.039 | -0.092 | -0.092 | -0.053 |  0.085 |  0.012 | -0.090 | -0.090 | 4.4    |\n",
       "|  6     | 2      | -0.104 | -0.079 | -0.042 |  0.156 | -0.089 | -0.054 | -0.004 |  0.068 |  0.160 | 5.7    |\n",
       "|  7     | 2      |  0.051 |  0.079 |  0.168 |  0.169 |  0.124 | -0.139 | -0.053 |  0.121 |  0.166 | 5.9    |\n",
       "|  8     | 2      |  0.049 |  0.066 |  0.153 |  0.185 |  0.118 | -0.130 | -0.068 |  0.101 |  0.182 | 5.9    |\n",
       "|  9     | 2      | -0.024 | -0.007 |  0.009 | -0.026 |  0.007 | -0.069 | -0.026 |  0.004 | -0.026 | 5.0    |\n",
       "| 10     | 2      | -0.039 | -0.046 | -0.033 |  0.098 | -0.042 | -0.003 | -0.019 |  0.005 |  0.100 | 5.2    |\n",
       "\n"
      ],
      "text/plain": [
       "   participant classroom scomp_c sest_c egores_c egocont_c sdes_c\n",
       "1   1          1         -0.074  -0.093 -0.145   -0.012    -0.137\n",
       "2   2          1         -0.023   0.008  0.090    0.157     0.053\n",
       "3   3          1          0.092   0.086  0.112   -0.021     0.132\n",
       "4   4          1         -0.105  -0.113 -0.182   -0.128    -0.160\n",
       "5   5          1         -0.010  -0.039 -0.092   -0.092    -0.053\n",
       "6   6          2         -0.104  -0.079 -0.042    0.156    -0.089\n",
       "7   7          2          0.051   0.079  0.168    0.169     0.124\n",
       "8   8          2          0.049   0.066  0.153    0.185     0.118\n",
       "9   9          2         -0.024  -0.007  0.009   -0.026     0.007\n",
       "10 10          2         -0.039  -0.046 -0.033    0.098    -0.042\n",
       "   partial_scomp_c partial_sest_c partial_egores_c partial_egocont_c\n",
       "1   0.113           0.047         -0.054           -0.007           \n",
       "2  -0.160          -0.073          0.086            0.155           \n",
       "3  -0.061          -0.053         -0.002           -0.026           \n",
       "4   0.088           0.047         -0.089           -0.123           \n",
       "5   0.085           0.012         -0.090           -0.090           \n",
       "6  -0.054          -0.004          0.068            0.160           \n",
       "7  -0.139          -0.053          0.121            0.166           \n",
       "8  -0.130          -0.068          0.101            0.182           \n",
       "9  -0.069          -0.026          0.004           -0.026           \n",
       "10 -0.003          -0.019          0.005            0.100           \n",
       "   shields_s_emreg\n",
       "1  4.3            \n",
       "2  5.9            \n",
       "3  5.1            \n",
       "4  3.7            \n",
       "5  4.4            \n",
       "6  5.7            \n",
       "7  5.9            \n",
       "8  5.9            \n",
       "9  5.0            \n",
       "10 5.2            "
      ]
     },
     "metadata": {},
     "output_type": "display_data"
    }
   ],
   "source": [
    "data_ccq"
   ]
  },
  {
   "cell_type": "code",
   "execution_count": null,
   "id": "6f601b0e",
   "metadata": {},
   "outputs": [],
   "source": []
  },
  {
   "cell_type": "code",
   "execution_count": null,
   "id": "b52212be",
   "metadata": {},
   "outputs": [],
   "source": []
  }
 ],
 "metadata": {
  "kernelspec": {
   "display_name": "R",
   "language": "R",
   "name": "ir"
  },
  "language_info": {
   "codemirror_mode": "r",
   "file_extension": ".r",
   "mimetype": "text/x-r-source",
   "name": "R",
   "pygments_lexer": "r",
   "version": "3.6.1"
  }
 },
 "nbformat": 4,
 "nbformat_minor": 5
}
