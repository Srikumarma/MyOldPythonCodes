{
 "cells": [
  {
   "cell_type": "code",
   "execution_count": 1,
   "id": "267ee1d8",
   "metadata": {},
   "outputs": [
    {
     "data": {
      "text/html": [
       "<table>\n",
       "<thead><tr><th scope=col>days</th><th scope=col>date</th><th scope=col>temp</th></tr></thead>\n",
       "<tbody>\n",
       "\t<tr><td>m </td><td>1 </td><td>28</td></tr>\n",
       "\t<tr><td>t </td><td>2 </td><td>30</td></tr>\n",
       "\t<tr><td>w </td><td>3 </td><td>32</td></tr>\n",
       "</tbody>\n",
       "</table>\n"
      ],
      "text/latex": [
       "\\begin{tabular}{r|lll}\n",
       " days & date & temp\\\\\n",
       "\\hline\n",
       "\t m  & 1  & 28\\\\\n",
       "\t t  & 2  & 30\\\\\n",
       "\t w  & 3  & 32\\\\\n",
       "\\end{tabular}\n"
      ],
      "text/markdown": [
       "\n",
       "| days | date | temp |\n",
       "|---|---|---|\n",
       "| m  | 1  | 28 |\n",
       "| t  | 2  | 30 |\n",
       "| w  | 3  | 32 |\n",
       "\n"
      ],
      "text/plain": [
       "  days date temp\n",
       "1 m    1    28  \n",
       "2 t    2    30  \n",
       "3 w    3    32  "
      ]
     },
     "metadata": {},
     "output_type": "display_data"
    }
   ],
   "source": [
    "df=data.frame(days=c(\"m\",\"t\",\"w\"),date=c(1,2,3),temp=c(28,30,32))\n",
    "df"
   ]
  },
  {
   "cell_type": "code",
   "execution_count": 1,
   "id": "a5540b7c",
   "metadata": {},
   "outputs": [
    {
     "data": {
      "text/html": [
       "<table>\n",
       "<thead><tr><th scope=col>days</th><th scope=col>date</th><th scope=col>temp</th></tr></thead>\n",
       "<tbody>\n",
       "\t<tr><td>m </td><td>1 </td><td>32</td></tr>\n",
       "\t<tr><td>t </td><td>2 </td><td>29</td></tr>\n",
       "\t<tr><td>w </td><td>3 </td><td>30</td></tr>\n",
       "</tbody>\n",
       "</table>\n"
      ],
      "text/latex": [
       "\\begin{tabular}{r|lll}\n",
       " days & date & temp\\\\\n",
       "\\hline\n",
       "\t m  & 1  & 32\\\\\n",
       "\t t  & 2  & 29\\\\\n",
       "\t w  & 3  & 30\\\\\n",
       "\\end{tabular}\n"
      ],
      "text/markdown": [
       "\n",
       "| days | date | temp |\n",
       "|---|---|---|\n",
       "| m  | 1  | 32 |\n",
       "| t  | 2  | 29 |\n",
       "| w  | 3  | 30 |\n",
       "\n"
      ],
      "text/plain": [
       "  days date temp\n",
       "1 m    1    32  \n",
       "2 t    2    29  \n",
       "3 w    3    30  "
      ]
     },
     "metadata": {},
     "output_type": "display_data"
    },
    {
     "name": "stdout",
     "output_type": "stream",
     "text": [
      "'data.frame':\t3 obs. of  3 variables:\n",
      " $ days: Factor w/ 3 levels \"m\",\"t\",\"w\": 1 2 3\n",
      " $ date: num  1 2 3\n",
      " $ temp: num  32 29 30\n"
     ]
    },
    {
     "data": {
      "text/plain": [
       " days       date          temp      \n",
       " m:1   Min.   :1.0   Min.   :29.00  \n",
       " t:1   1st Qu.:1.5   1st Qu.:29.50  \n",
       " w:1   Median :2.0   Median :30.00  \n",
       "       Mean   :2.0   Mean   :30.33  \n",
       "       3rd Qu.:2.5   3rd Qu.:31.00  \n",
       "       Max.   :3.0   Max.   :32.00  "
      ]
     },
     "metadata": {},
     "output_type": "display_data"
    },
    {
     "data": {
      "text/html": [
       "1"
      ],
      "text/latex": [
       "1"
      ],
      "text/markdown": [
       "1"
      ],
      "text/plain": [
       "[1] 1"
      ]
     },
     "metadata": {},
     "output_type": "display_data"
    }
   ],
   "source": [
    "days=c(\"m\",\"t\",\"w\")\n",
    "date=c(1,2,3)\n",
    "temp=c(32,29,30)\n",
    "df=data.frame(days,date,temp)\n",
    "df\n",
    "str(df)\n",
    "summary(df)\n",
    "min(df$date)"
   ]
  },
  {
   "cell_type": "code",
   "execution_count": 2,
   "id": "c77aef2c",
   "metadata": {},
   "outputs": [
    {
     "data": {
      "text/html": [
       "t\n",
       "<details>\n",
       "\t<summary style=display:list-item;cursor:pointer>\n",
       "\t\t<strong>Levels</strong>:\n",
       "\t</summary>\n",
       "\t<ol class=list-inline>\n",
       "\t\t<li>'m'</li>\n",
       "\t\t<li>'t'</li>\n",
       "\t\t<li>'w'</li>\n",
       "\t</ol>\n",
       "</details>"
      ],
      "text/latex": [
       "t\n",
       "\\emph{Levels}: \\begin{enumerate*}\n",
       "\\item 'm'\n",
       "\\item 't'\n",
       "\\item 'w'\n",
       "\\end{enumerate*}\n"
      ],
      "text/markdown": [
       "t\n",
       "**Levels**: 1. 'm'\n",
       "2. 't'\n",
       "3. 'w'\n",
       "\n",
       "\n"
      ],
      "text/plain": [
       "[1] t\n",
       "Levels: m t w"
      ]
     },
     "metadata": {},
     "output_type": "display_data"
    }
   ],
   "source": [
    "#fetching particular element\n",
    "df$days[2]"
   ]
  },
  {
   "cell_type": "code",
   "execution_count": 4,
   "id": "f444e0d0",
   "metadata": {},
   "outputs": [
    {
     "data": {
      "text/html": [
       "<ol class=list-inline>\n",
       "\t<li>32</li>\n",
       "\t<li>29</li>\n",
       "\t<li>30</li>\n",
       "</ol>\n"
      ],
      "text/latex": [
       "\\begin{enumerate*}\n",
       "\\item 32\n",
       "\\item 29\n",
       "\\item 30\n",
       "\\end{enumerate*}\n"
      ],
      "text/markdown": [
       "1. 32\n",
       "2. 29\n",
       "3. 30\n",
       "\n",
       "\n"
      ],
      "text/plain": [
       "[1] 32 29 30"
      ]
     },
     "metadata": {},
     "output_type": "display_data"
    }
   ],
   "source": [
    "df[[\"temp\"]]"
   ]
  },
  {
   "cell_type": "code",
   "execution_count": 6,
   "id": "20447178",
   "metadata": {},
   "outputs": [
    {
     "data": {
      "text/html": [
       "<table>\n",
       "<thead><tr><th scope=col>date</th></tr></thead>\n",
       "<tbody>\n",
       "\t<tr><td>1</td></tr>\n",
       "\t<tr><td>2</td></tr>\n",
       "\t<tr><td>3</td></tr>\n",
       "</tbody>\n",
       "</table>\n"
      ],
      "text/latex": [
       "\\begin{tabular}{r|l}\n",
       " date\\\\\n",
       "\\hline\n",
       "\t 1\\\\\n",
       "\t 2\\\\\n",
       "\t 3\\\\\n",
       "\\end{tabular}\n"
      ],
      "text/markdown": [
       "\n",
       "| date |\n",
       "|---|\n",
       "| 1 |\n",
       "| 2 |\n",
       "| 3 |\n",
       "\n"
      ],
      "text/plain": [
       "  date\n",
       "1 1   \n",
       "2 2   \n",
       "3 3   "
      ]
     },
     "metadata": {},
     "output_type": "display_data"
    }
   ],
   "source": [
    "df[\"date\"]"
   ]
  },
  {
   "cell_type": "code",
   "execution_count": 9,
   "id": "2f377ec2",
   "metadata": {},
   "outputs": [],
   "source": [
    "#changing a particular column name\n",
    "names(df)[names(df)==\"temp\"]=\"degrees\""
   ]
  },
  {
   "cell_type": "code",
   "execution_count": 9,
   "id": "0ecb21ec",
   "metadata": {},
   "outputs": [
    {
     "data": {
      "text/html": [
       "<table>\n",
       "<thead><tr><th scope=col>days</th><th scope=col>date</th><th scope=col>degrees</th></tr></thead>\n",
       "<tbody>\n",
       "\t<tr><td>m </td><td>1 </td><td>32</td></tr>\n",
       "\t<tr><td>t </td><td>2 </td><td>29</td></tr>\n",
       "\t<tr><td>w </td><td>3 </td><td>30</td></tr>\n",
       "</tbody>\n",
       "</table>\n"
      ],
      "text/latex": [
       "\\begin{tabular}{r|lll}\n",
       " days & date & degrees\\\\\n",
       "\\hline\n",
       "\t m  & 1  & 32\\\\\n",
       "\t t  & 2  & 29\\\\\n",
       "\t w  & 3  & 30\\\\\n",
       "\\end{tabular}\n"
      ],
      "text/markdown": [
       "\n",
       "| days | date | degrees |\n",
       "|---|---|---|\n",
       "| m  | 1  | 32 |\n",
       "| t  | 2  | 29 |\n",
       "| w  | 3  | 30 |\n",
       "\n"
      ],
      "text/plain": [
       "  days date degrees\n",
       "1 m    1    32     \n",
       "2 t    2    29     \n",
       "3 w    3    30     "
      ]
     },
     "metadata": {},
     "output_type": "display_data"
    }
   ],
   "source": [
    "df"
   ]
  },
  {
   "cell_type": "code",
   "execution_count": 11,
   "id": "361cbceb",
   "metadata": {},
   "outputs": [
    {
     "data": {
      "text/html": [
       "<ol class=list-inline>\n",
       "\t<li>m</li>\n",
       "\t<li>t</li>\n",
       "\t<li>w</li>\n",
       "</ol>\n",
       "\n",
       "<details>\n",
       "\t<summary style=display:list-item;cursor:pointer>\n",
       "\t\t<strong>Levels</strong>:\n",
       "\t</summary>\n",
       "\t<ol class=list-inline>\n",
       "\t\t<li>'m'</li>\n",
       "\t\t<li>'t'</li>\n",
       "\t\t<li>'w'</li>\n",
       "\t</ol>\n",
       "</details>"
      ],
      "text/latex": [
       "\\begin{enumerate*}\n",
       "\\item m\n",
       "\\item t\n",
       "\\item w\n",
       "\\end{enumerate*}\n",
       "\n",
       "\\emph{Levels}: \\begin{enumerate*}\n",
       "\\item 'm'\n",
       "\\item 't'\n",
       "\\item 'w'\n",
       "\\end{enumerate*}\n"
      ],
      "text/markdown": [
       "1. m\n",
       "2. t\n",
       "3. w\n",
       "\n",
       "\n",
       "\n",
       "**Levels**: 1. 'm'\n",
       "2. 't'\n",
       "3. 'w'\n",
       "\n",
       "\n"
      ],
      "text/plain": [
       "[1] m t w\n",
       "Levels: m t w"
      ]
     },
     "metadata": {},
     "output_type": "display_data"
    }
   ],
   "source": [
    "#data frame slicing and indexing\n",
    "df[,1]"
   ]
  },
  {
   "cell_type": "code",
   "execution_count": 12,
   "id": "9239d8c9",
   "metadata": {},
   "outputs": [
    {
     "data": {
      "text/html": [
       "<table>\n",
       "<thead><tr><th scope=col>days</th><th scope=col>date</th><th scope=col>degrees</th></tr></thead>\n",
       "<tbody>\n",
       "\t<tr><td>m </td><td>1 </td><td>32</td></tr>\n",
       "</tbody>\n",
       "</table>\n"
      ],
      "text/latex": [
       "\\begin{tabular}{r|lll}\n",
       " days & date & degrees\\\\\n",
       "\\hline\n",
       "\t m  & 1  & 32\\\\\n",
       "\\end{tabular}\n"
      ],
      "text/markdown": [
       "\n",
       "| days | date | degrees |\n",
       "|---|---|---|\n",
       "| m  | 1  | 32 |\n",
       "\n"
      ],
      "text/plain": [
       "  days date degrees\n",
       "1 m    1    32     "
      ]
     },
     "metadata": {},
     "output_type": "display_data"
    }
   ],
   "source": [
    "df[1,]"
   ]
  },
  {
   "cell_type": "code",
   "execution_count": 13,
   "id": "a5368b6b",
   "metadata": {},
   "outputs": [
    {
     "data": {
      "text/html": [
       "<ol class=list-inline>\n",
       "\t<li>m</li>\n",
       "\t<li>t</li>\n",
       "\t<li>w</li>\n",
       "</ol>\n",
       "\n",
       "<details>\n",
       "\t<summary style=display:list-item;cursor:pointer>\n",
       "\t\t<strong>Levels</strong>:\n",
       "\t</summary>\n",
       "\t<ol class=list-inline>\n",
       "\t\t<li>'m'</li>\n",
       "\t\t<li>'t'</li>\n",
       "\t\t<li>'w'</li>\n",
       "\t</ol>\n",
       "</details>"
      ],
      "text/latex": [
       "\\begin{enumerate*}\n",
       "\\item m\n",
       "\\item t\n",
       "\\item w\n",
       "\\end{enumerate*}\n",
       "\n",
       "\\emph{Levels}: \\begin{enumerate*}\n",
       "\\item 'm'\n",
       "\\item 't'\n",
       "\\item 'w'\n",
       "\\end{enumerate*}\n"
      ],
      "text/markdown": [
       "1. m\n",
       "2. t\n",
       "3. w\n",
       "\n",
       "\n",
       "\n",
       "**Levels**: 1. 'm'\n",
       "2. 't'\n",
       "3. 'w'\n",
       "\n",
       "\n"
      ],
      "text/plain": [
       "[1] m t w\n",
       "Levels: m t w"
      ]
     },
     "metadata": {},
     "output_type": "display_data"
    }
   ],
   "source": [
    "df[,'days']"
   ]
  },
  {
   "cell_type": "code",
   "execution_count": 21,
   "id": "28c9bab7",
   "metadata": {},
   "outputs": [
    {
     "data": {
      "text/html": [
       "<table>\n",
       "<thead><tr><th scope=col>date</th></tr></thead>\n",
       "<tbody>\n",
       "\t<tr><td>1</td></tr>\n",
       "\t<tr><td>2</td></tr>\n",
       "\t<tr><td>3</td></tr>\n",
       "</tbody>\n",
       "</table>\n"
      ],
      "text/latex": [
       "\\begin{tabular}{r|l}\n",
       " date\\\\\n",
       "\\hline\n",
       "\t 1\\\\\n",
       "\t 2\\\\\n",
       "\t 3\\\\\n",
       "\\end{tabular}\n"
      ],
      "text/markdown": [
       "\n",
       "| date |\n",
       "|---|\n",
       "| 1 |\n",
       "| 2 |\n",
       "| 3 |\n",
       "\n"
      ],
      "text/plain": [
       "  date\n",
       "1 1   \n",
       "2 2   \n",
       "3 3   "
      ]
     },
     "metadata": {},
     "output_type": "display_data"
    }
   ],
   "source": [
    "df[\"date\"]"
   ]
  },
  {
   "cell_type": "code",
   "execution_count": 12,
   "id": "9b784aeb",
   "metadata": {},
   "outputs": [
    {
     "data": {
      "text/html": [
       "<table>\n",
       "<thead><tr><th scope=col>days</th><th scope=col>degrees</th></tr></thead>\n",
       "<tbody>\n",
       "\t<tr><td>m </td><td>32</td></tr>\n",
       "\t<tr><td>t </td><td>29</td></tr>\n",
       "\t<tr><td>w </td><td>30</td></tr>\n",
       "</tbody>\n",
       "</table>\n"
      ],
      "text/latex": [
       "\\begin{tabular}{r|ll}\n",
       " days & degrees\\\\\n",
       "\\hline\n",
       "\t m  & 32\\\\\n",
       "\t t  & 29\\\\\n",
       "\t w  & 30\\\\\n",
       "\\end{tabular}\n"
      ],
      "text/markdown": [
       "\n",
       "| days | degrees |\n",
       "|---|---|\n",
       "| m  | 32 |\n",
       "| t  | 29 |\n",
       "| w  | 30 |\n",
       "\n"
      ],
      "text/plain": [
       "  days degrees\n",
       "1 m    32     \n",
       "2 t    29     \n",
       "3 w    30     "
      ]
     },
     "metadata": {},
     "output_type": "display_data"
    }
   ],
   "source": [
    "df[1:3,c('days','degrees')]"
   ]
  },
  {
   "cell_type": "code",
   "execution_count": 30,
   "id": "d8f34600",
   "metadata": {},
   "outputs": [
    {
     "data": {
      "text/html": [
       "3"
      ],
      "text/latex": [
       "3"
      ],
      "text/markdown": [
       "3"
      ],
      "text/plain": [
       "[1] 3"
      ]
     },
     "metadata": {},
     "output_type": "display_data"
    },
    {
     "data": {
      "text/html": [
       "3"
      ],
      "text/latex": [
       "3"
      ],
      "text/markdown": [
       "3"
      ],
      "text/plain": [
       "[1] 3"
      ]
     },
     "metadata": {},
     "output_type": "display_data"
    },
    {
     "data": {
      "text/html": [
       "<ol class=list-inline>\n",
       "\t<li>'days'</li>\n",
       "\t<li>'date'</li>\n",
       "\t<li>'temp'</li>\n",
       "</ol>\n"
      ],
      "text/latex": [
       "\\begin{enumerate*}\n",
       "\\item 'days'\n",
       "\\item 'date'\n",
       "\\item 'temp'\n",
       "\\end{enumerate*}\n"
      ],
      "text/markdown": [
       "1. 'days'\n",
       "2. 'date'\n",
       "3. 'temp'\n",
       "\n",
       "\n"
      ],
      "text/plain": [
       "[1] \"days\" \"date\" \"temp\""
      ]
     },
     "metadata": {},
     "output_type": "display_data"
    },
    {
     "data": {
      "text/html": [
       "<ol class=list-inline>\n",
       "\t<li>'1'</li>\n",
       "\t<li>'2'</li>\n",
       "\t<li>'3'</li>\n",
       "</ol>\n"
      ],
      "text/latex": [
       "\\begin{enumerate*}\n",
       "\\item '1'\n",
       "\\item '2'\n",
       "\\item '3'\n",
       "\\end{enumerate*}\n"
      ],
      "text/markdown": [
       "1. '1'\n",
       "2. '2'\n",
       "3. '3'\n",
       "\n",
       "\n"
      ],
      "text/plain": [
       "[1] \"1\" \"2\" \"3\""
      ]
     },
     "metadata": {},
     "output_type": "display_data"
    },
    {
     "data": {
      "text/html": [
       "<table>\n",
       "<thead><tr><th scope=col>days</th><th scope=col>date</th><th scope=col>temp</th></tr></thead>\n",
       "<tbody>\n",
       "\t<tr><td>m </td><td>1 </td><td>28</td></tr>\n",
       "\t<tr><td>t </td><td>2 </td><td>30</td></tr>\n",
       "</tbody>\n",
       "</table>\n"
      ],
      "text/latex": [
       "\\begin{tabular}{r|lll}\n",
       " days & date & temp\\\\\n",
       "\\hline\n",
       "\t m  & 1  & 28\\\\\n",
       "\t t  & 2  & 30\\\\\n",
       "\\end{tabular}\n"
      ],
      "text/markdown": [
       "\n",
       "| days | date | temp |\n",
       "|---|---|---|\n",
       "| m  | 1  | 28 |\n",
       "| t  | 2  | 30 |\n",
       "\n"
      ],
      "text/plain": [
       "  days date temp\n",
       "1 m    1    28  \n",
       "2 t    2    30  "
      ]
     },
     "metadata": {},
     "output_type": "display_data"
    },
    {
     "data": {
      "text/html": [
       "<table>\n",
       "<thead><tr><th></th><th scope=col>days</th><th scope=col>date</th><th scope=col>temp</th></tr></thead>\n",
       "<tbody>\n",
       "\t<tr><th scope=row>2</th><td>t </td><td>2 </td><td>30</td></tr>\n",
       "\t<tr><th scope=row>3</th><td>w </td><td>3 </td><td>32</td></tr>\n",
       "</tbody>\n",
       "</table>\n"
      ],
      "text/latex": [
       "\\begin{tabular}{r|lll}\n",
       "  & days & date & temp\\\\\n",
       "\\hline\n",
       "\t2 & t  & 2  & 30\\\\\n",
       "\t3 & w  & 3  & 32\\\\\n",
       "\\end{tabular}\n"
      ],
      "text/markdown": [
       "\n",
       "| <!--/--> | days | date | temp |\n",
       "|---|---|---|---|\n",
       "| 2 | t  | 2  | 30 |\n",
       "| 3 | w  | 3  | 32 |\n",
       "\n"
      ],
      "text/plain": [
       "  days date temp\n",
       "2 t    2    30  \n",
       "3 w    3    32  "
      ]
     },
     "metadata": {},
     "output_type": "display_data"
    },
    {
     "data": {
      "text/html": [
       "3"
      ],
      "text/latex": [
       "3"
      ],
      "text/markdown": [
       "3"
      ],
      "text/plain": [
       "[1] 3"
      ]
     },
     "metadata": {},
     "output_type": "display_data"
    },
    {
     "data": {
      "text/html": [
       "<table>\n",
       "<thead><tr><th scope=col>days</th><th scope=col>date</th><th scope=col>temp</th></tr></thead>\n",
       "<tbody>\n",
       "\t<tr><td>m </td><td>1 </td><td>28</td></tr>\n",
       "\t<tr><td>t </td><td>2 </td><td>30</td></tr>\n",
       "\t<tr><td>w </td><td>3 </td><td>32</td></tr>\n",
       "</tbody>\n",
       "</table>\n"
      ],
      "text/latex": [
       "\\begin{tabular}{r|lll}\n",
       " days & date & temp\\\\\n",
       "\\hline\n",
       "\t m  & 1  & 28\\\\\n",
       "\t t  & 2  & 30\\\\\n",
       "\t w  & 3  & 32\\\\\n",
       "\\end{tabular}\n"
      ],
      "text/markdown": [
       "\n",
       "| days | date | temp |\n",
       "|---|---|---|\n",
       "| m  | 1  | 28 |\n",
       "| t  | 2  | 30 |\n",
       "| w  | 3  | 32 |\n",
       "\n"
      ],
      "text/plain": [
       "  days date temp\n",
       "1 m    1    28  \n",
       "2 t    2    30  \n",
       "3 w    3    32  "
      ]
     },
     "metadata": {},
     "output_type": "display_data"
    },
    {
     "data": {
      "text/html": [
       "TRUE"
      ],
      "text/latex": [
       "TRUE"
      ],
      "text/markdown": [
       "TRUE"
      ],
      "text/plain": [
       "[1] TRUE"
      ]
     },
     "metadata": {},
     "output_type": "display_data"
    }
   ],
   "source": [
    "#built functions for data frames\n",
    "df=data.frame(days=c(\"m\",\"t\",\"w\"),date=c(1,2,3),temp=c(28,30,32))\n",
    "nrow(df)\n",
    "ncol(df)\n",
    "colnames(df)\n",
    "rownames(df)\n",
    "head(df,2)\n",
    "tail(df,2)\n",
    "length(df)\n",
    "df\n",
    "is.data.frame(df)"
   ]
  },
  {
   "cell_type": "code",
   "execution_count": 36,
   "id": "2514ecb0",
   "metadata": {},
   "outputs": [
    {
     "data": {
      "text/html": [
       "<table>\n",
       "<thead><tr><th></th><th scope=col>days</th><th scope=col>date</th><th scope=col>temp</th></tr></thead>\n",
       "<tbody>\n",
       "\t<tr><th scope=row>1</th><td>m </td><td>1 </td><td>28</td></tr>\n",
       "\t<tr><th scope=row>3</th><td>w </td><td>3 </td><td>32</td></tr>\n",
       "</tbody>\n",
       "</table>\n"
      ],
      "text/latex": [
       "\\begin{tabular}{r|lll}\n",
       "  & days & date & temp\\\\\n",
       "\\hline\n",
       "\t1 & m  & 1  & 28\\\\\n",
       "\t3 & w  & 3  & 32\\\\\n",
       "\\end{tabular}\n"
      ],
      "text/markdown": [
       "\n",
       "| <!--/--> | days | date | temp |\n",
       "|---|---|---|---|\n",
       "| 1 | m  | 1  | 28 |\n",
       "| 3 | w  | 3  | 32 |\n",
       "\n"
      ],
      "text/plain": [
       "  days date temp\n",
       "1 m    1    28  \n",
       "3 w    3    32  "
      ]
     },
     "metadata": {},
     "output_type": "display_data"
    }
   ],
   "source": [
    "#deleting the row\n",
    "a=df[-2,]\n",
    "a"
   ]
  },
  {
   "cell_type": "code",
   "execution_count": 39,
   "id": "3431e360",
   "metadata": {},
   "outputs": [
    {
     "data": {
      "text/html": [
       "<table>\n",
       "<thead><tr><th scope=col>days</th><th scope=col>temp</th></tr></thead>\n",
       "<tbody>\n",
       "\t<tr><td>m </td><td>28</td></tr>\n",
       "\t<tr><td>t </td><td>30</td></tr>\n",
       "\t<tr><td>w </td><td>32</td></tr>\n",
       "</tbody>\n",
       "</table>\n"
      ],
      "text/latex": [
       "\\begin{tabular}{r|ll}\n",
       " days & temp\\\\\n",
       "\\hline\n",
       "\t m  & 28\\\\\n",
       "\t t  & 30\\\\\n",
       "\t w  & 32\\\\\n",
       "\\end{tabular}\n"
      ],
      "text/markdown": [
       "\n",
       "| days | temp |\n",
       "|---|---|\n",
       "| m  | 28 |\n",
       "| t  | 30 |\n",
       "| w  | 32 |\n",
       "\n"
      ],
      "text/plain": [
       "  days temp\n",
       "1 m    28  \n",
       "2 t    30  \n",
       "3 w    32  "
      ]
     },
     "metadata": {},
     "output_type": "display_data"
    }
   ],
   "source": [
    "#delete column\n",
    "b=df[,-2]\n",
    "b"
   ]
  },
  {
   "cell_type": "code",
   "execution_count": 53,
   "id": "ec666874",
   "metadata": {},
   "outputs": [
    {
     "data": {
      "text/html": [
       "<table>\n",
       "<thead><tr><th></th><th scope=col>days</th><th scope=col>date</th><th scope=col>temp</th></tr></thead>\n",
       "<tbody>\n",
       "\t<tr><th scope=row>3</th><td>w </td><td>3 </td><td>32</td></tr>\n",
       "</tbody>\n",
       "</table>\n"
      ],
      "text/latex": [
       "\\begin{tabular}{r|lll}\n",
       "  & days & date & temp\\\\\n",
       "\\hline\n",
       "\t3 & w  & 3  & 32\\\\\n",
       "\\end{tabular}\n"
      ],
      "text/markdown": [
       "\n",
       "| <!--/--> | days | date | temp |\n",
       "|---|---|---|---|\n",
       "| 3 | w  | 3  | 32 |\n",
       "\n"
      ],
      "text/plain": [
       "  days date temp\n",
       "3 w    3    32  "
      ]
     },
     "metadata": {},
     "output_type": "display_data"
    }
   ],
   "source": [
    "#filtering the data\n",
    "subset(df, subset = temp==32)"
   ]
  },
  {
   "cell_type": "code",
   "execution_count": 15,
   "id": "b2ba967e",
   "metadata": {},
   "outputs": [
    {
     "data": {
      "text/html": [
       "<table>\n",
       "<thead><tr><th scope=col>days</th><th scope=col>date</th><th scope=col>degrees</th></tr></thead>\n",
       "<tbody>\n",
       "\t<tr><td>m </td><td>1 </td><td>32</td></tr>\n",
       "\t<tr><td>t </td><td>2 </td><td>29</td></tr>\n",
       "\t<tr><td>w </td><td>3 </td><td>30</td></tr>\n",
       "</tbody>\n",
       "</table>\n"
      ],
      "text/latex": [
       "\\begin{tabular}{r|lll}\n",
       " days & date & degrees\\\\\n",
       "\\hline\n",
       "\t m  & 1  & 32\\\\\n",
       "\t t  & 2  & 29\\\\\n",
       "\t w  & 3  & 30\\\\\n",
       "\\end{tabular}\n"
      ],
      "text/markdown": [
       "\n",
       "| days | date | degrees |\n",
       "|---|---|---|\n",
       "| m  | 1  | 32 |\n",
       "| t  | 2  | 29 |\n",
       "| w  | 3  | 30 |\n",
       "\n"
      ],
      "text/plain": [
       "  days date degrees\n",
       "1 m    1    32     \n",
       "2 t    2    29     \n",
       "3 w    3    30     "
      ]
     },
     "metadata": {},
     "output_type": "display_data"
    }
   ],
   "source": [
    "#sorting\n",
    "sorted=order(df['days'])\n",
    "df[sorted]"
   ]
  },
  {
   "cell_type": "code",
   "execution_count": 17,
   "id": "8b179c32",
   "metadata": {},
   "outputs": [
    {
     "data": {
      "text/html": [
       "<table>\n",
       "<thead><tr><th></th><th scope=col>days</th><th scope=col>date</th><th scope=col>temp</th></tr></thead>\n",
       "<tbody>\n",
       "\t<tr><th scope=row>2</th><td>t </td><td> 2</td><td>30</td></tr>\n",
       "\t<tr><th scope=row>1</th><td>m </td><td> 1</td><td>28</td></tr>\n",
       "\t<tr><th scope=row>3</th><td>w </td><td>NA</td><td>32</td></tr>\n",
       "</tbody>\n",
       "</table>\n"
      ],
      "text/latex": [
       "\\begin{tabular}{r|lll}\n",
       "  & days & date & temp\\\\\n",
       "\\hline\n",
       "\t2 & t  &  2 & 30\\\\\n",
       "\t1 & m  &  1 & 28\\\\\n",
       "\t3 & w  & NA & 32\\\\\n",
       "\\end{tabular}\n"
      ],
      "text/markdown": [
       "\n",
       "| <!--/--> | days | date | temp |\n",
       "|---|---|---|---|\n",
       "| 2 | t  |  2 | 30 |\n",
       "| 1 | m  |  1 | 28 |\n",
       "| 3 | w  | NA | 32 |\n",
       "\n"
      ],
      "text/plain": [
       "  days date temp\n",
       "2 t     2   30  \n",
       "1 m     1   28  \n",
       "3 w    NA   32  "
      ]
     },
     "metadata": {},
     "output_type": "display_data"
    }
   ],
   "source": [
    "df=data.frame(days=c(\"m\",\"t\",\"w\"),date=c(1,2,NA),temp=c(28,30,32))\n",
    "#descending order sorting\n",
    "dessorted=order(df['date'],decreasing = TRUE)\n",
    "df[dessorted,]"
   ]
  },
  {
   "cell_type": "code",
   "execution_count": 133,
   "id": "24db3830",
   "metadata": {},
   "outputs": [
    {
     "data": {
      "text/html": [
       "<table>\n",
       "<thead><tr><th scope=col>days</th><th scope=col>date</th><th scope=col>temp</th><th scope=col>tf</th></tr></thead>\n",
       "<tbody>\n",
       "\t<tr><td>m    </td><td> 1   </td><td>28   </td><td> TRUE</td></tr>\n",
       "\t<tr><td>t    </td><td> 2   </td><td>30   </td><td>FALSE</td></tr>\n",
       "\t<tr><td>w    </td><td>NA   </td><td>32   </td><td>FALSE</td></tr>\n",
       "</tbody>\n",
       "</table>\n"
      ],
      "text/latex": [
       "\\begin{tabular}{r|llll}\n",
       " days & date & temp & tf\\\\\n",
       "\\hline\n",
       "\t m     &  1    & 28    &  TRUE\\\\\n",
       "\t t     &  2    & 30    & FALSE\\\\\n",
       "\t w     & NA    & 32    & FALSE\\\\\n",
       "\\end{tabular}\n"
      ],
      "text/markdown": [
       "\n",
       "| days | date | temp | tf |\n",
       "|---|---|---|---|\n",
       "| m     |  1    | 28    |  TRUE |\n",
       "| t     |  2    | 30    | FALSE |\n",
       "| w     | NA    | 32    | FALSE |\n",
       "\n"
      ],
      "text/plain": [
       "  days date temp tf   \n",
       "1 m     1   28    TRUE\n",
       "2 t     2   30   FALSE\n",
       "3 w    NA   32   FALSE"
      ]
     },
     "metadata": {},
     "output_type": "display_data"
    }
   ],
   "source": [
    "#adding new column\n",
    "df=cbind(df,tf=c(TRUE,FALSE,FALSE))\n",
    "df"
   ]
  },
  {
   "cell_type": "code",
   "execution_count": 134,
   "id": "0b8f1311",
   "metadata": {},
   "outputs": [
    {
     "data": {
      "text/html": [
       "<table>\n",
       "<thead><tr><th scope=col>days</th><th scope=col>date</th><th scope=col>temp</th><th scope=col>tf</th></tr></thead>\n",
       "<tbody>\n",
       "\t<tr><td>m    </td><td>1    </td><td>28   </td><td>TRUE </td></tr>\n",
       "\t<tr><td>t    </td><td>2    </td><td>30   </td><td>FALSE</td></tr>\n",
       "\t<tr><td>w    </td><td>NA   </td><td>32   </td><td>FALSE</td></tr>\n",
       "\t<tr><td>t    </td><td>4    </td><td>26   </td><td>FALSE</td></tr>\n",
       "</tbody>\n",
       "</table>\n"
      ],
      "text/latex": [
       "\\begin{tabular}{r|llll}\n",
       " days & date & temp & tf\\\\\n",
       "\\hline\n",
       "\t m     & 1     & 28    & TRUE \\\\\n",
       "\t t     & 2     & 30    & FALSE\\\\\n",
       "\t w     & NA    & 32    & FALSE\\\\\n",
       "\t t     & 4     & 26    & FALSE\\\\\n",
       "\\end{tabular}\n"
      ],
      "text/markdown": [
       "\n",
       "| days | date | temp | tf |\n",
       "|---|---|---|---|\n",
       "| m     | 1     | 28    | TRUE  |\n",
       "| t     | 2     | 30    | FALSE |\n",
       "| w     | NA    | 32    | FALSE |\n",
       "| t     | 4     | 26    | FALSE |\n",
       "\n"
      ],
      "text/plain": [
       "  days date temp tf   \n",
       "1 m    1    28   TRUE \n",
       "2 t    2    30   FALSE\n",
       "3 w    NA   32   FALSE\n",
       "4 t    4    26   FALSE"
      ]
     },
     "metadata": {},
     "output_type": "display_data"
    }
   ],
   "source": [
    "#adding new row\n",
    "df=rbind(df,rf=c(\"t\",4,26,FALSE))\n",
    "df"
   ]
  },
  {
   "cell_type": "code",
   "execution_count": 119,
   "id": "ec235b9a",
   "metadata": {},
   "outputs": [
    {
     "name": "stderr",
     "output_type": "stream",
     "text": [
      "Warning message in `[<-.factor`(`*tmp*`, ri, value = \"a\"):\n",
      "\"invalid factor level, NA generated\""
     ]
    },
    {
     "data": {
      "text/html": [
       "<table>\n",
       "<thead><tr><th scope=col>days</th><th scope=col>date</th><th scope=col>temp</th><th scope=col>tf</th></tr></thead>\n",
       "<tbody>\n",
       "\t<tr><td>m    </td><td>1    </td><td>28   </td><td>TRUE </td></tr>\n",
       "\t<tr><td>t    </td><td>2    </td><td>30   </td><td>FALSE</td></tr>\n",
       "\t<tr><td>w    </td><td>3    </td><td>32   </td><td>FALSE</td></tr>\n",
       "\t<tr><td>t    </td><td>4    </td><td>26   </td><td>FALSE</td></tr>\n",
       "\t<tr><td>NA   </td><td>5    </td><td>33   </td><td>TRUE </td></tr>\n",
       "</tbody>\n",
       "</table>\n"
      ],
      "text/latex": [
       "\\begin{tabular}{r|llll}\n",
       " days & date & temp & tf\\\\\n",
       "\\hline\n",
       "\t m     & 1     & 28    & TRUE \\\\\n",
       "\t t     & 2     & 30    & FALSE\\\\\n",
       "\t w     & 3     & 32    & FALSE\\\\\n",
       "\t t     & 4     & 26    & FALSE\\\\\n",
       "\t NA    & 5     & 33    & TRUE \\\\\n",
       "\\end{tabular}\n"
      ],
      "text/markdown": [
       "\n",
       "| days | date | temp | tf |\n",
       "|---|---|---|---|\n",
       "| m     | 1     | 28    | TRUE  |\n",
       "| t     | 2     | 30    | FALSE |\n",
       "| w     | 3     | 32    | FALSE |\n",
       "| t     | 4     | 26    | FALSE |\n",
       "| NA    | 5     | 33    | TRUE  |\n",
       "\n"
      ],
      "text/plain": [
       "  days date temp tf   \n",
       "1 m    1    28   TRUE \n",
       "2 t    2    30   FALSE\n",
       "3 w    3    32   FALSE\n",
       "4 t    4    26   FALSE\n",
       "5 NA   5    33   TRUE "
      ]
     },
     "metadata": {},
     "output_type": "display_data"
    }
   ],
   "source": [
    "#adding a list in data frame\n",
    "a=list('a',5,33,TRUE)\n",
    "df=rbind(stringsAsFactors = FALSE,df,a)\n",
    "df"
   ]
  },
  {
   "cell_type": "code",
   "execution_count": 135,
   "id": "a955316a",
   "metadata": {},
   "outputs": [
    {
     "data": {
      "text/html": [
       "<ol>\n",
       "\t<li><ol class=list-inline>\n",
       "\t<li>m</li>\n",
       "\t<li>t</li>\n",
       "\t<li>w</li>\n",
       "\t<li>t</li>\n",
       "</ol>\n",
       "\n",
       "<details>\n",
       "\t<summary style=display:list-item;cursor:pointer>\n",
       "\t\t<strong>Levels</strong>:\n",
       "\t</summary>\n",
       "\t<ol class=list-inline>\n",
       "\t\t<li>'m'</li>\n",
       "\t\t<li>'t'</li>\n",
       "\t\t<li>'w'</li>\n",
       "\t</ol>\n",
       "</details></li>\n",
       "\t<li><ol class=list-inline>\n",
       "\t<li>'1'</li>\n",
       "\t<li>'2'</li>\n",
       "\t<li>NA</li>\n",
       "\t<li>'4'</li>\n",
       "</ol>\n",
       "</li>\n",
       "</ol>\n"
      ],
      "text/latex": [
       "\\begin{enumerate}\n",
       "\\item \\begin{enumerate*}\n",
       "\\item m\n",
       "\\item t\n",
       "\\item w\n",
       "\\item t\n",
       "\\end{enumerate*}\n",
       "\n",
       "\\emph{Levels}: \\begin{enumerate*}\n",
       "\\item 'm'\n",
       "\\item 't'\n",
       "\\item 'w'\n",
       "\\end{enumerate*}\n",
       "\n",
       "\\item \\begin{enumerate*}\n",
       "\\item '1'\n",
       "\\item '2'\n",
       "\\item NA\n",
       "\\item '4'\n",
       "\\end{enumerate*}\n",
       "\n",
       "\\end{enumerate}\n"
      ],
      "text/markdown": [
       "1. 1. m\n",
       "2. t\n",
       "3. w\n",
       "4. t\n",
       "\n",
       "\n",
       "\n",
       "**Levels**: 1. 'm'\n",
       "2. 't'\n",
       "3. 'w'\n",
       "\n",
       "\n",
       "\n",
       "2. 1. '1'\n",
       "2. '2'\n",
       "3. NA\n",
       "4. '4'\n",
       "\n",
       "\n",
       "\n",
       "\n",
       "\n"
      ],
      "text/plain": [
       "[[1]]\n",
       "[1] m t w t\n",
       "Levels: m t w\n",
       "\n",
       "[[2]]\n",
       "[1] \"1\" \"2\" NA  \"4\"\n"
      ]
     },
     "metadata": {},
     "output_type": "display_data"
    }
   ],
   "source": [
    "#converting dataframes to list\n",
    "a=list(df$days,df$date)\n",
    "a"
   ]
  },
  {
   "cell_type": "code",
   "execution_count": 136,
   "id": "8125bfed",
   "metadata": {},
   "outputs": [
    {
     "data": {
      "text/html": [
       "<table>\n",
       "<thead><tr><th scope=col>days</th><th scope=col>date</th><th scope=col>temp</th><th scope=col>tf</th></tr></thead>\n",
       "<tbody>\n",
       "\t<tr><td>FALSE</td><td>FALSE</td><td>FALSE</td><td>FALSE</td></tr>\n",
       "\t<tr><td>FALSE</td><td>FALSE</td><td>FALSE</td><td>FALSE</td></tr>\n",
       "\t<tr><td>FALSE</td><td> TRUE</td><td>FALSE</td><td>FALSE</td></tr>\n",
       "\t<tr><td>FALSE</td><td>FALSE</td><td>FALSE</td><td>FALSE</td></tr>\n",
       "</tbody>\n",
       "</table>\n"
      ],
      "text/latex": [
       "\\begin{tabular}{llll}\n",
       " days & date & temp & tf\\\\\n",
       "\\hline\n",
       "\t FALSE & FALSE & FALSE & FALSE\\\\\n",
       "\t FALSE & FALSE & FALSE & FALSE\\\\\n",
       "\t FALSE &  TRUE & FALSE & FALSE\\\\\n",
       "\t FALSE & FALSE & FALSE & FALSE\\\\\n",
       "\\end{tabular}\n"
      ],
      "text/markdown": [
       "\n",
       "| days | date | temp | tf |\n",
       "|---|---|---|---|\n",
       "| FALSE | FALSE | FALSE | FALSE |\n",
       "| FALSE | FALSE | FALSE | FALSE |\n",
       "| FALSE |  TRUE | FALSE | FALSE |\n",
       "| FALSE | FALSE | FALSE | FALSE |\n",
       "\n"
      ],
      "text/plain": [
       "     days  date  temp  tf   \n",
       "[1,] FALSE FALSE FALSE FALSE\n",
       "[2,] FALSE FALSE FALSE FALSE\n",
       "[3,] FALSE  TRUE FALSE FALSE\n",
       "[4,] FALSE FALSE FALSE FALSE"
      ]
     },
     "metadata": {},
     "output_type": "display_data"
    }
   ],
   "source": [
    "#checking for null value\n",
    "is.na(df)"
   ]
  },
  {
   "cell_type": "code",
   "execution_count": 137,
   "id": "9a3bca1f",
   "metadata": {},
   "outputs": [
    {
     "data": {
      "text/html": [
       "TRUE"
      ],
      "text/latex": [
       "TRUE"
      ],
      "text/markdown": [
       "TRUE"
      ],
      "text/plain": [
       "[1] TRUE"
      ]
     },
     "metadata": {},
     "output_type": "display_data"
    }
   ],
   "source": [
    "any(is.na(df))"
   ]
  },
  {
   "cell_type": "code",
   "execution_count": 138,
   "id": "41e717a9",
   "metadata": {},
   "outputs": [
    {
     "data": {
      "text/html": [
       "<ol class=list-inline>\n",
       "\t<li>FALSE</li>\n",
       "\t<li>FALSE</li>\n",
       "\t<li>TRUE</li>\n",
       "\t<li>FALSE</li>\n",
       "</ol>\n"
      ],
      "text/latex": [
       "\\begin{enumerate*}\n",
       "\\item FALSE\n",
       "\\item FALSE\n",
       "\\item TRUE\n",
       "\\item FALSE\n",
       "\\end{enumerate*}\n"
      ],
      "text/markdown": [
       "1. FALSE\n",
       "2. FALSE\n",
       "3. TRUE\n",
       "4. FALSE\n",
       "\n",
       "\n"
      ],
      "text/plain": [
       "[1] FALSE FALSE  TRUE FALSE"
      ]
     },
     "metadata": {},
     "output_type": "display_data"
    }
   ],
   "source": [
    "is.na(df$date)"
   ]
  },
  {
   "cell_type": "code",
   "execution_count": 139,
   "id": "37686193",
   "metadata": {},
   "outputs": [
    {
     "data": {
      "text/html": [
       "<table>\n",
       "<thead><tr><th scope=col>days</th><th scope=col>date</th><th scope=col>temp</th><th scope=col>tf</th></tr></thead>\n",
       "<tbody>\n",
       "\t<tr><td>m    </td><td>1    </td><td>28   </td><td>TRUE </td></tr>\n",
       "\t<tr><td>t    </td><td>2    </td><td>30   </td><td>FALSE</td></tr>\n",
       "\t<tr><td>w    </td><td>0    </td><td>32   </td><td>FALSE</td></tr>\n",
       "\t<tr><td>t    </td><td>4    </td><td>26   </td><td>FALSE</td></tr>\n",
       "</tbody>\n",
       "</table>\n"
      ],
      "text/latex": [
       "\\begin{tabular}{r|llll}\n",
       " days & date & temp & tf\\\\\n",
       "\\hline\n",
       "\t m     & 1     & 28    & TRUE \\\\\n",
       "\t t     & 2     & 30    & FALSE\\\\\n",
       "\t w     & 0     & 32    & FALSE\\\\\n",
       "\t t     & 4     & 26    & FALSE\\\\\n",
       "\\end{tabular}\n"
      ],
      "text/markdown": [
       "\n",
       "| days | date | temp | tf |\n",
       "|---|---|---|---|\n",
       "| m     | 1     | 28    | TRUE  |\n",
       "| t     | 2     | 30    | FALSE |\n",
       "| w     | 0     | 32    | FALSE |\n",
       "| t     | 4     | 26    | FALSE |\n",
       "\n"
      ],
      "text/plain": [
       "  days date temp tf   \n",
       "1 m    1    28   TRUE \n",
       "2 t    2    30   FALSE\n",
       "3 w    0    32   FALSE\n",
       "4 t    4    26   FALSE"
      ]
     },
     "metadata": {},
     "output_type": "display_data"
    }
   ],
   "source": [
    "#replace NA with something else\n",
    "df[is.na(df)]=0\n",
    "df"
   ]
  },
  {
   "cell_type": "code",
   "execution_count": 148,
   "id": "62396043",
   "metadata": {},
   "outputs": [
    {
     "name": "stdout",
     "output_type": "stream",
     "text": [
      "  days date temp\n",
      "1    m    1   28\n",
      "2    t    2   30\n",
      "3    w   NA   32\n"
     ]
    },
    {
     "data": {
      "text/html": [
       "<table>\n",
       "<thead><tr><th scope=col>days</th><th scope=col>date</th><th scope=col>temp</th></tr></thead>\n",
       "<tbody>\n",
       "\t<tr><td>m </td><td>1 </td><td>28</td></tr>\n",
       "\t<tr><td>t </td><td>2 </td><td>30</td></tr>\n",
       "\t<tr><td>w </td><td>3 </td><td>32</td></tr>\n",
       "</tbody>\n",
       "</table>\n"
      ],
      "text/latex": [
       "\\begin{tabular}{r|lll}\n",
       " days & date & temp\\\\\n",
       "\\hline\n",
       "\t m  & 1  & 28\\\\\n",
       "\t t  & 2  & 30\\\\\n",
       "\t w  & 3  & 32\\\\\n",
       "\\end{tabular}\n"
      ],
      "text/markdown": [
       "\n",
       "| days | date | temp |\n",
       "|---|---|---|\n",
       "| m  | 1  | 28 |\n",
       "| t  | 2  | 30 |\n",
       "| w  | 3  | 32 |\n",
       "\n"
      ],
      "text/plain": [
       "  days date temp\n",
       "1 m    1    28  \n",
       "2 t    2    30  \n",
       "3 w    3    32  "
      ]
     },
     "metadata": {},
     "output_type": "display_data"
    }
   ],
   "source": [
    "df=data.frame(days=c(\"m\",\"t\",\"w\"),date=c(1,2,NA),temp=c(28,30,32))\n",
    "print(df)\n",
    "df$date[is.na(df$date)]=3\n",
    "df"
   ]
  },
  {
   "cell_type": "code",
   "execution_count": 149,
   "id": "be705cbc",
   "metadata": {},
   "outputs": [],
   "source": [
    "authors <- data.frame(\n",
    "  surname = I(c(\"Tukey\", \"Venables\", \"Tierney\", \"Ripley\", \"McNeil\")),\n",
    "  nationality = c(\"US\", \"Australia\", \"US\", \"UK\", \"Australia\"),\n",
    "  deceased = c(\"yes\", rep(\"no\", 4)))\n",
    "books <- data.frame(\n",
    "  name = I(c(\"Tukey\", \"Venables\", \"Tierney\",\n",
    "             \"Ripley\", \"Ripley\", \"McNeil\", \"R Core\")),\n",
    "  title = c(\"Exploratory Data Analysis\",\n",
    "            \"Modern Applied Statistics ...\",\n",
    "            \"LISP-STAT\",\n",
    "            \"Spatial Statistics\", \"Stochastic Simulation\",\n",
    "            \"Interactive Data Analysis\",\n",
    "            \"An Introduction to R\"),\n",
    "  other.author = c(NA, \"Ripley\", NA, NA, NA, NA,\n",
    "                   \"Venables & Smith\"))"
   ]
  },
  {
   "cell_type": "code",
   "execution_count": 152,
   "id": "864cf6db",
   "metadata": {},
   "outputs": [
    {
     "data": {
      "text/html": [
       "<table>\n",
       "<thead><tr><th scope=col>surname</th><th scope=col>nationality</th><th scope=col>deceased</th><th scope=col>name</th><th scope=col>title</th><th scope=col>other.author</th></tr></thead>\n",
       "<tbody>\n",
       "\t<tr><td>Tukey                        </td><td>US                           </td><td>yes                          </td><td>Tukey                        </td><td>Exploratory Data Analysis    </td><td>NA                           </td></tr>\n",
       "\t<tr><td>Venables                     </td><td>Australia                    </td><td>no                           </td><td>Tukey                        </td><td>Exploratory Data Analysis    </td><td>NA                           </td></tr>\n",
       "\t<tr><td>Tierney                      </td><td>US                           </td><td>no                           </td><td>Tukey                        </td><td>Exploratory Data Analysis    </td><td>NA                           </td></tr>\n",
       "\t<tr><td>Ripley                       </td><td>UK                           </td><td>no                           </td><td>Tukey                        </td><td>Exploratory Data Analysis    </td><td>NA                           </td></tr>\n",
       "\t<tr><td>McNeil                       </td><td>Australia                    </td><td>no                           </td><td>Tukey                        </td><td>Exploratory Data Analysis    </td><td>NA                           </td></tr>\n",
       "\t<tr><td>Tukey                        </td><td>US                           </td><td>yes                          </td><td>Venables                     </td><td>Modern Applied Statistics ...</td><td>Ripley                       </td></tr>\n",
       "\t<tr><td>Venables                     </td><td>Australia                    </td><td>no                           </td><td>Venables                     </td><td>Modern Applied Statistics ...</td><td>Ripley                       </td></tr>\n",
       "\t<tr><td>Tierney                      </td><td>US                           </td><td>no                           </td><td>Venables                     </td><td>Modern Applied Statistics ...</td><td>Ripley                       </td></tr>\n",
       "\t<tr><td>Ripley                       </td><td>UK                           </td><td>no                           </td><td>Venables                     </td><td>Modern Applied Statistics ...</td><td>Ripley                       </td></tr>\n",
       "\t<tr><td>McNeil                       </td><td>Australia                    </td><td>no                           </td><td>Venables                     </td><td>Modern Applied Statistics ...</td><td>Ripley                       </td></tr>\n",
       "\t<tr><td>Tukey                        </td><td>US                           </td><td>yes                          </td><td>Tierney                      </td><td>LISP-STAT                    </td><td>NA                           </td></tr>\n",
       "\t<tr><td>Venables                     </td><td>Australia                    </td><td>no                           </td><td>Tierney                      </td><td>LISP-STAT                    </td><td>NA                           </td></tr>\n",
       "\t<tr><td>Tierney                      </td><td>US                           </td><td>no                           </td><td>Tierney                      </td><td>LISP-STAT                    </td><td>NA                           </td></tr>\n",
       "\t<tr><td>Ripley                       </td><td>UK                           </td><td>no                           </td><td>Tierney                      </td><td>LISP-STAT                    </td><td>NA                           </td></tr>\n",
       "\t<tr><td>McNeil                       </td><td>Australia                    </td><td>no                           </td><td>Tierney                      </td><td>LISP-STAT                    </td><td>NA                           </td></tr>\n",
       "\t<tr><td>Tukey                        </td><td>US                           </td><td>yes                          </td><td>Ripley                       </td><td>Spatial Statistics           </td><td>NA                           </td></tr>\n",
       "\t<tr><td>Venables                     </td><td>Australia                    </td><td>no                           </td><td>Ripley                       </td><td>Spatial Statistics           </td><td>NA                           </td></tr>\n",
       "\t<tr><td>Tierney                      </td><td>US                           </td><td>no                           </td><td>Ripley                       </td><td>Spatial Statistics           </td><td>NA                           </td></tr>\n",
       "\t<tr><td>Ripley                       </td><td>UK                           </td><td>no                           </td><td>Ripley                       </td><td>Spatial Statistics           </td><td>NA                           </td></tr>\n",
       "\t<tr><td>McNeil                       </td><td>Australia                    </td><td>no                           </td><td>Ripley                       </td><td>Spatial Statistics           </td><td>NA                           </td></tr>\n",
       "\t<tr><td>Tukey                        </td><td>US                           </td><td>yes                          </td><td>Ripley                       </td><td>Stochastic Simulation        </td><td>NA                           </td></tr>\n",
       "\t<tr><td>Venables                     </td><td>Australia                    </td><td>no                           </td><td>Ripley                       </td><td>Stochastic Simulation        </td><td>NA                           </td></tr>\n",
       "\t<tr><td>Tierney                      </td><td>US                           </td><td>no                           </td><td>Ripley                       </td><td>Stochastic Simulation        </td><td>NA                           </td></tr>\n",
       "\t<tr><td>Ripley                       </td><td>UK                           </td><td>no                           </td><td>Ripley                       </td><td>Stochastic Simulation        </td><td>NA                           </td></tr>\n",
       "\t<tr><td>McNeil                       </td><td>Australia                    </td><td>no                           </td><td>Ripley                       </td><td>Stochastic Simulation        </td><td>NA                           </td></tr>\n",
       "\t<tr><td>Tukey                        </td><td>US                           </td><td>yes                          </td><td>McNeil                       </td><td>Interactive Data Analysis    </td><td>NA                           </td></tr>\n",
       "\t<tr><td>Venables                     </td><td>Australia                    </td><td>no                           </td><td>McNeil                       </td><td>Interactive Data Analysis    </td><td>NA                           </td></tr>\n",
       "\t<tr><td>Tierney                      </td><td>US                           </td><td>no                           </td><td>McNeil                       </td><td>Interactive Data Analysis    </td><td>NA                           </td></tr>\n",
       "\t<tr><td>Ripley                       </td><td>UK                           </td><td>no                           </td><td>McNeil                       </td><td>Interactive Data Analysis    </td><td>NA                           </td></tr>\n",
       "\t<tr><td>McNeil                       </td><td>Australia                    </td><td>no                           </td><td>McNeil                       </td><td>Interactive Data Analysis    </td><td>NA                           </td></tr>\n",
       "\t<tr><td><span style=white-space:pre-wrap>Tukey   </span>                     </td><td><span style=white-space:pre-wrap>US       </span>                    </td><td>yes                                                                  </td><td><span style=white-space:pre-wrap>R Core  </span>                     </td><td><span style=white-space:pre-wrap>An Introduction to R         </span></td><td>Venables &amp; Smith                                                 </td></tr>\n",
       "\t<tr><td>Venables                                                             </td><td>Australia                                                            </td><td>no                                                                   </td><td><span style=white-space:pre-wrap>R Core  </span>                     </td><td><span style=white-space:pre-wrap>An Introduction to R         </span></td><td>Venables &amp; Smith                                                 </td></tr>\n",
       "\t<tr><td>Tierney                                                              </td><td><span style=white-space:pre-wrap>US       </span>                    </td><td>no                                                                   </td><td><span style=white-space:pre-wrap>R Core  </span>                     </td><td><span style=white-space:pre-wrap>An Introduction to R         </span></td><td>Venables &amp; Smith                                                 </td></tr>\n",
       "\t<tr><td><span style=white-space:pre-wrap>Ripley  </span>                     </td><td><span style=white-space:pre-wrap>UK       </span>                    </td><td>no                                                                   </td><td><span style=white-space:pre-wrap>R Core  </span>                     </td><td><span style=white-space:pre-wrap>An Introduction to R         </span></td><td>Venables &amp; Smith                                                 </td></tr>\n",
       "\t<tr><td><span style=white-space:pre-wrap>McNeil  </span>                     </td><td>Australia                                                            </td><td>no                                                                   </td><td><span style=white-space:pre-wrap>R Core  </span>                     </td><td><span style=white-space:pre-wrap>An Introduction to R         </span></td><td>Venables &amp; Smith                                                 </td></tr>\n",
       "</tbody>\n",
       "</table>\n"
      ],
      "text/latex": [
       "\\begin{tabular}{r|llllll}\n",
       " surname & nationality & deceased & name & title & other.author\\\\\n",
       "\\hline\n",
       "\t Tukey                         & US                            & yes                           & Tukey                         & Exploratory Data Analysis     & NA                           \\\\\n",
       "\t Venables                      & Australia                     & no                            & Tukey                         & Exploratory Data Analysis     & NA                           \\\\\n",
       "\t Tierney                       & US                            & no                            & Tukey                         & Exploratory Data Analysis     & NA                           \\\\\n",
       "\t Ripley                        & UK                            & no                            & Tukey                         & Exploratory Data Analysis     & NA                           \\\\\n",
       "\t McNeil                        & Australia                     & no                            & Tukey                         & Exploratory Data Analysis     & NA                           \\\\\n",
       "\t Tukey                         & US                            & yes                           & Venables                      & Modern Applied Statistics ... & Ripley                       \\\\\n",
       "\t Venables                      & Australia                     & no                            & Venables                      & Modern Applied Statistics ... & Ripley                       \\\\\n",
       "\t Tierney                       & US                            & no                            & Venables                      & Modern Applied Statistics ... & Ripley                       \\\\\n",
       "\t Ripley                        & UK                            & no                            & Venables                      & Modern Applied Statistics ... & Ripley                       \\\\\n",
       "\t McNeil                        & Australia                     & no                            & Venables                      & Modern Applied Statistics ... & Ripley                       \\\\\n",
       "\t Tukey                         & US                            & yes                           & Tierney                       & LISP-STAT                     & NA                           \\\\\n",
       "\t Venables                      & Australia                     & no                            & Tierney                       & LISP-STAT                     & NA                           \\\\\n",
       "\t Tierney                       & US                            & no                            & Tierney                       & LISP-STAT                     & NA                           \\\\\n",
       "\t Ripley                        & UK                            & no                            & Tierney                       & LISP-STAT                     & NA                           \\\\\n",
       "\t McNeil                        & Australia                     & no                            & Tierney                       & LISP-STAT                     & NA                           \\\\\n",
       "\t Tukey                         & US                            & yes                           & Ripley                        & Spatial Statistics            & NA                           \\\\\n",
       "\t Venables                      & Australia                     & no                            & Ripley                        & Spatial Statistics            & NA                           \\\\\n",
       "\t Tierney                       & US                            & no                            & Ripley                        & Spatial Statistics            & NA                           \\\\\n",
       "\t Ripley                        & UK                            & no                            & Ripley                        & Spatial Statistics            & NA                           \\\\\n",
       "\t McNeil                        & Australia                     & no                            & Ripley                        & Spatial Statistics            & NA                           \\\\\n",
       "\t Tukey                         & US                            & yes                           & Ripley                        & Stochastic Simulation         & NA                           \\\\\n",
       "\t Venables                      & Australia                     & no                            & Ripley                        & Stochastic Simulation         & NA                           \\\\\n",
       "\t Tierney                       & US                            & no                            & Ripley                        & Stochastic Simulation         & NA                           \\\\\n",
       "\t Ripley                        & UK                            & no                            & Ripley                        & Stochastic Simulation         & NA                           \\\\\n",
       "\t McNeil                        & Australia                     & no                            & Ripley                        & Stochastic Simulation         & NA                           \\\\\n",
       "\t Tukey                         & US                            & yes                           & McNeil                        & Interactive Data Analysis     & NA                           \\\\\n",
       "\t Venables                      & Australia                     & no                            & McNeil                        & Interactive Data Analysis     & NA                           \\\\\n",
       "\t Tierney                       & US                            & no                            & McNeil                        & Interactive Data Analysis     & NA                           \\\\\n",
       "\t Ripley                        & UK                            & no                            & McNeil                        & Interactive Data Analysis     & NA                           \\\\\n",
       "\t McNeil                        & Australia                     & no                            & McNeil                        & Interactive Data Analysis     & NA                           \\\\\n",
       "\t Tukey                         & US                            & yes                           & R Core                        & An Introduction to R          & Venables \\& Smith           \\\\\n",
       "\t Venables                      & Australia                     & no                            & R Core                        & An Introduction to R          & Venables \\& Smith           \\\\\n",
       "\t Tierney                       & US                            & no                            & R Core                        & An Introduction to R          & Venables \\& Smith           \\\\\n",
       "\t Ripley                        & UK                            & no                            & R Core                        & An Introduction to R          & Venables \\& Smith           \\\\\n",
       "\t McNeil                        & Australia                     & no                            & R Core                        & An Introduction to R          & Venables \\& Smith           \\\\\n",
       "\\end{tabular}\n"
      ],
      "text/markdown": [
       "\n",
       "| surname | nationality | deceased | name | title | other.author |\n",
       "|---|---|---|---|---|---|\n",
       "| Tukey                         | US                            | yes                           | Tukey                         | Exploratory Data Analysis     | NA                            |\n",
       "| Venables                      | Australia                     | no                            | Tukey                         | Exploratory Data Analysis     | NA                            |\n",
       "| Tierney                       | US                            | no                            | Tukey                         | Exploratory Data Analysis     | NA                            |\n",
       "| Ripley                        | UK                            | no                            | Tukey                         | Exploratory Data Analysis     | NA                            |\n",
       "| McNeil                        | Australia                     | no                            | Tukey                         | Exploratory Data Analysis     | NA                            |\n",
       "| Tukey                         | US                            | yes                           | Venables                      | Modern Applied Statistics ... | Ripley                        |\n",
       "| Venables                      | Australia                     | no                            | Venables                      | Modern Applied Statistics ... | Ripley                        |\n",
       "| Tierney                       | US                            | no                            | Venables                      | Modern Applied Statistics ... | Ripley                        |\n",
       "| Ripley                        | UK                            | no                            | Venables                      | Modern Applied Statistics ... | Ripley                        |\n",
       "| McNeil                        | Australia                     | no                            | Venables                      | Modern Applied Statistics ... | Ripley                        |\n",
       "| Tukey                         | US                            | yes                           | Tierney                       | LISP-STAT                     | NA                            |\n",
       "| Venables                      | Australia                     | no                            | Tierney                       | LISP-STAT                     | NA                            |\n",
       "| Tierney                       | US                            | no                            | Tierney                       | LISP-STAT                     | NA                            |\n",
       "| Ripley                        | UK                            | no                            | Tierney                       | LISP-STAT                     | NA                            |\n",
       "| McNeil                        | Australia                     | no                            | Tierney                       | LISP-STAT                     | NA                            |\n",
       "| Tukey                         | US                            | yes                           | Ripley                        | Spatial Statistics            | NA                            |\n",
       "| Venables                      | Australia                     | no                            | Ripley                        | Spatial Statistics            | NA                            |\n",
       "| Tierney                       | US                            | no                            | Ripley                        | Spatial Statistics            | NA                            |\n",
       "| Ripley                        | UK                            | no                            | Ripley                        | Spatial Statistics            | NA                            |\n",
       "| McNeil                        | Australia                     | no                            | Ripley                        | Spatial Statistics            | NA                            |\n",
       "| Tukey                         | US                            | yes                           | Ripley                        | Stochastic Simulation         | NA                            |\n",
       "| Venables                      | Australia                     | no                            | Ripley                        | Stochastic Simulation         | NA                            |\n",
       "| Tierney                       | US                            | no                            | Ripley                        | Stochastic Simulation         | NA                            |\n",
       "| Ripley                        | UK                            | no                            | Ripley                        | Stochastic Simulation         | NA                            |\n",
       "| McNeil                        | Australia                     | no                            | Ripley                        | Stochastic Simulation         | NA                            |\n",
       "| Tukey                         | US                            | yes                           | McNeil                        | Interactive Data Analysis     | NA                            |\n",
       "| Venables                      | Australia                     | no                            | McNeil                        | Interactive Data Analysis     | NA                            |\n",
       "| Tierney                       | US                            | no                            | McNeil                        | Interactive Data Analysis     | NA                            |\n",
       "| Ripley                        | UK                            | no                            | McNeil                        | Interactive Data Analysis     | NA                            |\n",
       "| McNeil                        | Australia                     | no                            | McNeil                        | Interactive Data Analysis     | NA                            |\n",
       "| Tukey                         | US                            | yes                           | R Core                        | An Introduction to R          | Venables & Smith              |\n",
       "| Venables                      | Australia                     | no                            | R Core                        | An Introduction to R          | Venables & Smith              |\n",
       "| Tierney                       | US                            | no                            | R Core                        | An Introduction to R          | Venables & Smith              |\n",
       "| Ripley                        | UK                            | no                            | R Core                        | An Introduction to R          | Venables & Smith              |\n",
       "| McNeil                        | Australia                     | no                            | R Core                        | An Introduction to R          | Venables & Smith              |\n",
       "\n"
      ],
      "text/plain": [
       "   surname  nationality deceased name     title                        \n",
       "1  Tukey    US          yes      Tukey    Exploratory Data Analysis    \n",
       "2  Venables Australia   no       Tukey    Exploratory Data Analysis    \n",
       "3  Tierney  US          no       Tukey    Exploratory Data Analysis    \n",
       "4  Ripley   UK          no       Tukey    Exploratory Data Analysis    \n",
       "5  McNeil   Australia   no       Tukey    Exploratory Data Analysis    \n",
       "6  Tukey    US          yes      Venables Modern Applied Statistics ...\n",
       "7  Venables Australia   no       Venables Modern Applied Statistics ...\n",
       "8  Tierney  US          no       Venables Modern Applied Statistics ...\n",
       "9  Ripley   UK          no       Venables Modern Applied Statistics ...\n",
       "10 McNeil   Australia   no       Venables Modern Applied Statistics ...\n",
       "11 Tukey    US          yes      Tierney  LISP-STAT                    \n",
       "12 Venables Australia   no       Tierney  LISP-STAT                    \n",
       "13 Tierney  US          no       Tierney  LISP-STAT                    \n",
       "14 Ripley   UK          no       Tierney  LISP-STAT                    \n",
       "15 McNeil   Australia   no       Tierney  LISP-STAT                    \n",
       "16 Tukey    US          yes      Ripley   Spatial Statistics           \n",
       "17 Venables Australia   no       Ripley   Spatial Statistics           \n",
       "18 Tierney  US          no       Ripley   Spatial Statistics           \n",
       "19 Ripley   UK          no       Ripley   Spatial Statistics           \n",
       "20 McNeil   Australia   no       Ripley   Spatial Statistics           \n",
       "21 Tukey    US          yes      Ripley   Stochastic Simulation        \n",
       "22 Venables Australia   no       Ripley   Stochastic Simulation        \n",
       "23 Tierney  US          no       Ripley   Stochastic Simulation        \n",
       "24 Ripley   UK          no       Ripley   Stochastic Simulation        \n",
       "25 McNeil   Australia   no       Ripley   Stochastic Simulation        \n",
       "26 Tukey    US          yes      McNeil   Interactive Data Analysis    \n",
       "27 Venables Australia   no       McNeil   Interactive Data Analysis    \n",
       "28 Tierney  US          no       McNeil   Interactive Data Analysis    \n",
       "29 Ripley   UK          no       McNeil   Interactive Data Analysis    \n",
       "30 McNeil   Australia   no       McNeil   Interactive Data Analysis    \n",
       "31 Tukey    US          yes      R Core   An Introduction to R         \n",
       "32 Venables Australia   no       R Core   An Introduction to R         \n",
       "33 Tierney  US          no       R Core   An Introduction to R         \n",
       "34 Ripley   UK          no       R Core   An Introduction to R         \n",
       "35 McNeil   Australia   no       R Core   An Introduction to R         \n",
       "   other.author    \n",
       "1  NA              \n",
       "2  NA              \n",
       "3  NA              \n",
       "4  NA              \n",
       "5  NA              \n",
       "6  Ripley          \n",
       "7  Ripley          \n",
       "8  Ripley          \n",
       "9  Ripley          \n",
       "10 Ripley          \n",
       "11 NA              \n",
       "12 NA              \n",
       "13 NA              \n",
       "14 NA              \n",
       "15 NA              \n",
       "16 NA              \n",
       "17 NA              \n",
       "18 NA              \n",
       "19 NA              \n",
       "20 NA              \n",
       "21 NA              \n",
       "22 NA              \n",
       "23 NA              \n",
       "24 NA              \n",
       "25 NA              \n",
       "26 NA              \n",
       "27 NA              \n",
       "28 NA              \n",
       "29 NA              \n",
       "30 NA              \n",
       "31 Venables & Smith\n",
       "32 Venables & Smith\n",
       "33 Venables & Smith\n",
       "34 Venables & Smith\n",
       "35 Venables & Smith"
      ]
     },
     "metadata": {},
     "output_type": "display_data"
    }
   ],
   "source": [
    "#merging dataframes\n",
    "m1=merge(authors,books)\n",
    "m1"
   ]
  },
  {
   "cell_type": "code",
   "execution_count": 153,
   "id": "1ac98d8a",
   "metadata": {},
   "outputs": [
    {
     "data": {
      "text/html": [
       "<table>\n",
       "<thead><tr><th scope=col>surname</th><th scope=col>nationality</th><th scope=col>deceased</th><th scope=col>title</th><th scope=col>other.author</th></tr></thead>\n",
       "<tbody>\n",
       "\t<tr><td>McNeil                       </td><td>Australia                    </td><td>no                           </td><td>Interactive Data Analysis    </td><td>NA                           </td></tr>\n",
       "\t<tr><td>Ripley                       </td><td>UK                           </td><td>no                           </td><td>Spatial Statistics           </td><td>NA                           </td></tr>\n",
       "\t<tr><td>Ripley                       </td><td>UK                           </td><td>no                           </td><td>Stochastic Simulation        </td><td>NA                           </td></tr>\n",
       "\t<tr><td>Tierney                      </td><td>US                           </td><td>no                           </td><td>LISP-STAT                    </td><td>NA                           </td></tr>\n",
       "\t<tr><td>Tukey                        </td><td>US                           </td><td>yes                          </td><td>Exploratory Data Analysis    </td><td>NA                           </td></tr>\n",
       "\t<tr><td>Venables                     </td><td>Australia                    </td><td>no                           </td><td>Modern Applied Statistics ...</td><td>Ripley                       </td></tr>\n",
       "</tbody>\n",
       "</table>\n"
      ],
      "text/latex": [
       "\\begin{tabular}{r|lllll}\n",
       " surname & nationality & deceased & title & other.author\\\\\n",
       "\\hline\n",
       "\t McNeil                        & Australia                     & no                            & Interactive Data Analysis     & NA                           \\\\\n",
       "\t Ripley                        & UK                            & no                            & Spatial Statistics            & NA                           \\\\\n",
       "\t Ripley                        & UK                            & no                            & Stochastic Simulation         & NA                           \\\\\n",
       "\t Tierney                       & US                            & no                            & LISP-STAT                     & NA                           \\\\\n",
       "\t Tukey                         & US                            & yes                           & Exploratory Data Analysis     & NA                           \\\\\n",
       "\t Venables                      & Australia                     & no                            & Modern Applied Statistics ... & Ripley                       \\\\\n",
       "\\end{tabular}\n"
      ],
      "text/markdown": [
       "\n",
       "| surname | nationality | deceased | title | other.author |\n",
       "|---|---|---|---|---|\n",
       "| McNeil                        | Australia                     | no                            | Interactive Data Analysis     | NA                            |\n",
       "| Ripley                        | UK                            | no                            | Spatial Statistics            | NA                            |\n",
       "| Ripley                        | UK                            | no                            | Stochastic Simulation         | NA                            |\n",
       "| Tierney                       | US                            | no                            | LISP-STAT                     | NA                            |\n",
       "| Tukey                         | US                            | yes                           | Exploratory Data Analysis     | NA                            |\n",
       "| Venables                      | Australia                     | no                            | Modern Applied Statistics ... | Ripley                        |\n",
       "\n"
      ],
      "text/plain": [
       "  surname  nationality deceased title                         other.author\n",
       "1 McNeil   Australia   no       Interactive Data Analysis     NA          \n",
       "2 Ripley   UK          no       Spatial Statistics            NA          \n",
       "3 Ripley   UK          no       Stochastic Simulation         NA          \n",
       "4 Tierney  US          no       LISP-STAT                     NA          \n",
       "5 Tukey    US          yes      Exploratory Data Analysis     NA          \n",
       "6 Venables Australia   no       Modern Applied Statistics ... Ripley      "
      ]
     },
     "metadata": {},
     "output_type": "display_data"
    }
   ],
   "source": [
    "#merging only the matching records\n",
    "m1=merge(authors,books ,by.x=\"surname\", by.y=\"name\")\n",
    "m1"
   ]
  },
  {
   "cell_type": "code",
   "execution_count": 158,
   "id": "94849c91",
   "metadata": {},
   "outputs": [
    {
     "data": {
      "text/html": [
       "<table>\n",
       "<thead><tr><th scope=col>surname</th><th scope=col>nationality</th><th scope=col>deceased</th><th scope=col>title</th><th scope=col>other.author</th></tr></thead>\n",
       "<tbody>\n",
       "\t<tr><td>McNeil                       </td><td>Australia                    </td><td>no                           </td><td>Interactive Data Analysis    </td><td>NA                           </td></tr>\n",
       "\t<tr><td>Ripley                       </td><td>UK                           </td><td>no                           </td><td>Spatial Statistics           </td><td>NA                           </td></tr>\n",
       "\t<tr><td>Ripley                       </td><td>UK                           </td><td>no                           </td><td>Stochastic Simulation        </td><td>NA                           </td></tr>\n",
       "\t<tr><td>Tierney                      </td><td>US                           </td><td>no                           </td><td>LISP-STAT                    </td><td>NA                           </td></tr>\n",
       "\t<tr><td>Venables                     </td><td>Australia                    </td><td>no                           </td><td>Modern Applied Statistics ...</td><td>Ripley                       </td></tr>\n",
       "</tbody>\n",
       "</table>\n"
      ],
      "text/latex": [
       "\\begin{tabular}{r|lllll}\n",
       " surname & nationality & deceased & title & other.author\\\\\n",
       "\\hline\n",
       "\t McNeil                        & Australia                     & no                            & Interactive Data Analysis     & NA                           \\\\\n",
       "\t Ripley                        & UK                            & no                            & Spatial Statistics            & NA                           \\\\\n",
       "\t Ripley                        & UK                            & no                            & Stochastic Simulation         & NA                           \\\\\n",
       "\t Tierney                       & US                            & no                            & LISP-STAT                     & NA                           \\\\\n",
       "\t Venables                      & Australia                     & no                            & Modern Applied Statistics ... & Ripley                       \\\\\n",
       "\\end{tabular}\n"
      ],
      "text/markdown": [
       "\n",
       "| surname | nationality | deceased | title | other.author |\n",
       "|---|---|---|---|---|\n",
       "| McNeil                        | Australia                     | no                            | Interactive Data Analysis     | NA                            |\n",
       "| Ripley                        | UK                            | no                            | Spatial Statistics            | NA                            |\n",
       "| Ripley                        | UK                            | no                            | Stochastic Simulation         | NA                            |\n",
       "| Tierney                       | US                            | no                            | LISP-STAT                     | NA                            |\n",
       "| Venables                      | Australia                     | no                            | Modern Applied Statistics ... | Ripley                        |\n",
       "\n"
      ],
      "text/plain": [
       "  surname  nationality deceased title                         other.author\n",
       "1 McNeil   Australia   no       Interactive Data Analysis     NA          \n",
       "2 Ripley   UK          no       Spatial Statistics            NA          \n",
       "3 Ripley   UK          no       Stochastic Simulation         NA          \n",
       "4 Tierney  US          no       LISP-STAT                     NA          \n",
       "5 Venables Australia   no       Modern Applied Statistics ... Ripley      "
      ]
     },
     "metadata": {},
     "output_type": "display_data"
    }
   ],
   "source": [
    "#ignoring specific rows or column\n",
    "m1=merge(authors[-1,],books ,by.x=\"surname\", by.y=\"name\")\n",
    "m1"
   ]
  },
  {
   "cell_type": "code",
   "execution_count": 159,
   "id": "72b5f5d8",
   "metadata": {},
   "outputs": [
    {
     "data": {
      "text/html": [
       "<table>\n",
       "<thead><tr><th scope=col>surname</th><th scope=col>nationality</th><th scope=col>title</th><th scope=col>other.author</th></tr></thead>\n",
       "<tbody>\n",
       "\t<tr><td>McNeil                       </td><td>Australia                    </td><td>Interactive Data Analysis    </td><td>NA                           </td></tr>\n",
       "\t<tr><td>Ripley                       </td><td>UK                           </td><td>Spatial Statistics           </td><td>NA                           </td></tr>\n",
       "\t<tr><td>Ripley                       </td><td>UK                           </td><td>Stochastic Simulation        </td><td>NA                           </td></tr>\n",
       "\t<tr><td>Tierney                      </td><td>US                           </td><td>LISP-STAT                    </td><td>NA                           </td></tr>\n",
       "\t<tr><td>Tukey                        </td><td>US                           </td><td>Exploratory Data Analysis    </td><td>NA                           </td></tr>\n",
       "\t<tr><td>Venables                     </td><td>Australia                    </td><td>Modern Applied Statistics ...</td><td>Ripley                       </td></tr>\n",
       "</tbody>\n",
       "</table>\n"
      ],
      "text/latex": [
       "\\begin{tabular}{r|llll}\n",
       " surname & nationality & title & other.author\\\\\n",
       "\\hline\n",
       "\t McNeil                        & Australia                     & Interactive Data Analysis     & NA                           \\\\\n",
       "\t Ripley                        & UK                            & Spatial Statistics            & NA                           \\\\\n",
       "\t Ripley                        & UK                            & Stochastic Simulation         & NA                           \\\\\n",
       "\t Tierney                       & US                            & LISP-STAT                     & NA                           \\\\\n",
       "\t Tukey                         & US                            & Exploratory Data Analysis     & NA                           \\\\\n",
       "\t Venables                      & Australia                     & Modern Applied Statistics ... & Ripley                       \\\\\n",
       "\\end{tabular}\n"
      ],
      "text/markdown": [
       "\n",
       "| surname | nationality | title | other.author |\n",
       "|---|---|---|---|\n",
       "| McNeil                        | Australia                     | Interactive Data Analysis     | NA                            |\n",
       "| Ripley                        | UK                            | Spatial Statistics            | NA                            |\n",
       "| Ripley                        | UK                            | Stochastic Simulation         | NA                            |\n",
       "| Tierney                       | US                            | LISP-STAT                     | NA                            |\n",
       "| Tukey                         | US                            | Exploratory Data Analysis     | NA                            |\n",
       "| Venables                      | Australia                     | Modern Applied Statistics ... | Ripley                        |\n",
       "\n"
      ],
      "text/plain": [
       "  surname  nationality title                         other.author\n",
       "1 McNeil   Australia   Interactive Data Analysis     NA          \n",
       "2 Ripley   UK          Spatial Statistics            NA          \n",
       "3 Ripley   UK          Stochastic Simulation         NA          \n",
       "4 Tierney  US          LISP-STAT                     NA          \n",
       "5 Tukey    US          Exploratory Data Analysis     NA          \n",
       "6 Venables Australia   Modern Applied Statistics ... Ripley      "
      ]
     },
     "metadata": {},
     "output_type": "display_data"
    }
   ],
   "source": [
    "#only merging specific rows or column\n",
    "m1=merge(authors[,1:2],books ,by.x=\"surname\", by.y=\"name\")\n",
    "m1"
   ]
  },
  {
   "cell_type": "code",
   "execution_count": null,
   "id": "7aab797d",
   "metadata": {},
   "outputs": [],
   "source": []
  }
 ],
 "metadata": {
  "kernelspec": {
   "display_name": "R",
   "language": "R",
   "name": "ir"
  },
  "language_info": {
   "codemirror_mode": "r",
   "file_extension": ".r",
   "mimetype": "text/x-r-source",
   "name": "R",
   "pygments_lexer": "r",
   "version": "3.6.1"
  }
 },
 "nbformat": 4,
 "nbformat_minor": 5
}
