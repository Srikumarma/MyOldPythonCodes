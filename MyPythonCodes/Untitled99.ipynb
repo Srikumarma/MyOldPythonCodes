{
 "cells": [
  {
   "cell_type": "code",
   "execution_count": 1,
   "id": "915425af",
   "metadata": {},
   "outputs": [
    {
     "data": {
      "text/html": [
       "<ol class=list-inline>\n",
       "\t<li>1</li>\n",
       "\t<li>2</li>\n",
       "\t<li>3</li>\n",
       "\t<li>4</li>\n",
       "\t<li>5</li>\n",
       "\t<li>6</li>\n",
       "\t<li>1</li>\n",
       "\t<li>2</li>\n",
       "\t<li>3</li>\n",
       "</ol>\n"
      ],
      "text/latex": [
       "\\begin{enumerate*}\n",
       "\\item 1\n",
       "\\item 2\n",
       "\\item 3\n",
       "\\item 4\n",
       "\\item 5\n",
       "\\item 6\n",
       "\\item 1\n",
       "\\item 2\n",
       "\\item 3\n",
       "\\end{enumerate*}\n"
      ],
      "text/markdown": [
       "1. 1\n",
       "2. 2\n",
       "3. 3\n",
       "4. 4\n",
       "5. 5\n",
       "6. 6\n",
       "7. 1\n",
       "8. 2\n",
       "9. 3\n",
       "\n",
       "\n"
      ],
      "text/plain": [
       "[1] 1 2 3 4 5 6 1 2 3"
      ]
     },
     "metadata": {},
     "output_type": "display_data"
    }
   ],
   "source": [
    "x=c(1,2,3,4,5,6,1,2,3)\n",
    "x"
   ]
  },
  {
   "cell_type": "code",
   "execution_count": 19,
   "id": "823da746",
   "metadata": {},
   "outputs": [],
   "source": [
    "n=10"
   ]
  },
  {
   "cell_type": "code",
   "execution_count": 20,
   "id": "a8cf35b1",
   "metadata": {},
   "outputs": [
    {
     "data": {
      "text/html": [
       "&lt;NA&gt;"
      ],
      "text/latex": [
       "<NA>"
      ],
      "text/markdown": [
       "&lt;NA&gt;"
      ],
      "text/plain": [
       "[1] NA"
      ]
     },
     "metadata": {},
     "output_type": "display_data"
    }
   ],
   "source": [
    "sort(x,TRUE)[n]"
   ]
  },
  {
   "cell_type": "code",
   "execution_count": 21,
   "id": "d6f6427d",
   "metadata": {},
   "outputs": [],
   "source": [
    "y=c(4,5,7,8,9,0)"
   ]
  },
  {
   "cell_type": "code",
   "execution_count": 22,
   "id": "00ef8e3b",
   "metadata": {},
   "outputs": [
    {
     "data": {
      "text/html": [
       "<ol class=list-inline>\n",
       "\t<li>4</li>\n",
       "\t<li>5</li>\n",
       "</ol>\n"
      ],
      "text/latex": [
       "\\begin{enumerate*}\n",
       "\\item 4\n",
       "\\item 5\n",
       "\\end{enumerate*}\n"
      ],
      "text/markdown": [
       "1. 4\n",
       "2. 5\n",
       "\n",
       "\n"
      ],
      "text/plain": [
       "[1] 4 5"
      ]
     },
     "metadata": {},
     "output_type": "display_data"
    }
   ],
   "source": [
    "intersect(x,y)"
   ]
  },
  {
   "cell_type": "code",
   "execution_count": 25,
   "id": "f365038e",
   "metadata": {},
   "outputs": [
    {
     "data": {
      "text/html": [
       "1"
      ],
      "text/latex": [
       "1"
      ],
      "text/markdown": [
       "1"
      ],
      "text/plain": [
       "[1] 1"
      ]
     },
     "metadata": {},
     "output_type": "display_data"
    }
   ],
   "source": [
    "sum(x==4)"
   ]
  },
  {
   "cell_type": "code",
   "execution_count": 28,
   "id": "f673639d",
   "metadata": {},
   "outputs": [],
   "source": [
    "a=c('a','b','c')\n",
    "b=paste(a,collapase=\"d\")"
   ]
  },
  {
   "cell_type": "code",
   "execution_count": 29,
   "id": "48f21c10",
   "metadata": {},
   "outputs": [
    {
     "data": {
      "text/html": [
       "<ol class=list-inline>\n",
       "\t<li>'a d'</li>\n",
       "\t<li>'b d'</li>\n",
       "\t<li>'c d'</li>\n",
       "</ol>\n"
      ],
      "text/latex": [
       "\\begin{enumerate*}\n",
       "\\item 'a d'\n",
       "\\item 'b d'\n",
       "\\item 'c d'\n",
       "\\end{enumerate*}\n"
      ],
      "text/markdown": [
       "1. 'a d'\n",
       "2. 'b d'\n",
       "3. 'c d'\n",
       "\n",
       "\n"
      ],
      "text/plain": [
       "[1] \"a d\" \"b d\" \"c d\""
      ]
     },
     "metadata": {},
     "output_type": "display_data"
    }
   ],
   "source": [
    "b"
   ]
  },
  {
   "cell_type": "code",
   "execution_count": 30,
   "id": "83ebef8e",
   "metadata": {},
   "outputs": [
    {
     "data": {
      "text/html": [
       "<ol class=list-inline>\n",
       "\t<li>TRUE</li>\n",
       "\t<li>TRUE</li>\n",
       "\t<li>TRUE</li>\n",
       "\t<li>TRUE</li>\n",
       "\t<li>TRUE</li>\n",
       "\t<li>FALSE</li>\n",
       "</ol>\n"
      ],
      "text/latex": [
       "\\begin{enumerate*}\n",
       "\\item TRUE\n",
       "\\item TRUE\n",
       "\\item TRUE\n",
       "\\item TRUE\n",
       "\\item TRUE\n",
       "\\item FALSE\n",
       "\\end{enumerate*}\n"
      ],
      "text/markdown": [
       "1. TRUE\n",
       "2. TRUE\n",
       "3. TRUE\n",
       "4. TRUE\n",
       "5. TRUE\n",
       "6. FALSE\n",
       "\n",
       "\n"
      ],
      "text/plain": [
       "[1]  TRUE  TRUE  TRUE  TRUE  TRUE FALSE"
      ]
     },
     "metadata": {},
     "output_type": "display_data"
    }
   ],
   "source": [
    "y>1"
   ]
  },
  {
   "cell_type": "code",
   "execution_count": 31,
   "id": "52ea2484",
   "metadata": {},
   "outputs": [
    {
     "data": {
      "text/html": [
       "<ol class=list-inline>\n",
       "\t<li>FALSE</li>\n",
       "\t<li>FALSE</li>\n",
       "\t<li>FALSE</li>\n",
       "\t<li>TRUE</li>\n",
       "\t<li>TRUE</li>\n",
       "\t<li>FALSE</li>\n",
       "</ol>\n"
      ],
      "text/latex": [
       "\\begin{enumerate*}\n",
       "\\item FALSE\n",
       "\\item FALSE\n",
       "\\item FALSE\n",
       "\\item TRUE\n",
       "\\item TRUE\n",
       "\\item FALSE\n",
       "\\end{enumerate*}\n"
      ],
      "text/markdown": [
       "1. FALSE\n",
       "2. FALSE\n",
       "3. FALSE\n",
       "4. TRUE\n",
       "5. TRUE\n",
       "6. FALSE\n",
       "\n",
       "\n"
      ],
      "text/plain": [
       "[1] FALSE FALSE FALSE  TRUE  TRUE FALSE"
      ]
     },
     "metadata": {},
     "output_type": "display_data"
    }
   ],
   "source": [
    "y>7"
   ]
  },
  {
   "cell_type": "code",
   "execution_count": 32,
   "id": "8636ebcd",
   "metadata": {},
   "outputs": [],
   "source": [
    "c=c(1,2,NULL,4)"
   ]
  },
  {
   "cell_type": "code",
   "execution_count": 33,
   "id": "61efd2d3",
   "metadata": {},
   "outputs": [
    {
     "data": {
      "text/html": [
       "<ol class=list-inline>\n",
       "\t<li>4</li>\n",
       "\t<li>5</li>\n",
       "\t<li>7</li>\n",
       "</ol>\n"
      ],
      "text/latex": [
       "\\begin{enumerate*}\n",
       "\\item 4\n",
       "\\item 5\n",
       "\\item 7\n",
       "\\end{enumerate*}\n"
      ],
      "text/markdown": [
       "1. 4\n",
       "2. 5\n",
       "3. 7\n",
       "\n",
       "\n"
      ],
      "text/plain": [
       "[1] 4 5 7"
      ]
     },
     "metadata": {},
     "output_type": "display_data"
    }
   ],
   "source": [
    "c+3"
   ]
  },
  {
   "cell_type": "code",
   "execution_count": 34,
   "id": "cfe83e6c",
   "metadata": {},
   "outputs": [],
   "source": [
    "m1=matrix(1:9,nrow=3)"
   ]
  },
  {
   "cell_type": "code",
   "execution_count": 35,
   "id": "47ba24a2",
   "metadata": {},
   "outputs": [],
   "source": [
    "m2=matrix(11:19,nrow=3)"
   ]
  },
  {
   "cell_type": "code",
   "execution_count": 36,
   "id": "5dc41ad2",
   "metadata": {},
   "outputs": [
    {
     "data": {
      "text/html": [
       "<table>\n",
       "<tbody>\n",
       "\t<tr><td>150</td><td>186</td><td>222</td></tr>\n",
       "\t<tr><td>186</td><td>231</td><td>276</td></tr>\n",
       "\t<tr><td>222</td><td>276</td><td>330</td></tr>\n",
       "</tbody>\n",
       "</table>\n"
      ],
      "text/latex": [
       "\\begin{tabular}{lll}\n",
       "\t 150 & 186 & 222\\\\\n",
       "\t 186 & 231 & 276\\\\\n",
       "\t 222 & 276 & 330\\\\\n",
       "\\end{tabular}\n"
      ],
      "text/markdown": [
       "\n",
       "| 150 | 186 | 222 |\n",
       "| 186 | 231 | 276 |\n",
       "| 222 | 276 | 330 |\n",
       "\n"
      ],
      "text/plain": [
       "     [,1] [,2] [,3]\n",
       "[1,] 150  186  222 \n",
       "[2,] 186  231  276 \n",
       "[3,] 222  276  330 "
      ]
     },
     "metadata": {},
     "output_type": "display_data"
    }
   ],
   "source": [
    "m1 %*% m2"
   ]
  },
  {
   "cell_type": "code",
   "execution_count": 37,
   "id": "dae36f47",
   "metadata": {},
   "outputs": [
    {
     "data": {
      "text/html": [
       "<table>\n",
       "<tbody>\n",
       "\t<tr><td>11 </td><td>56 </td><td>119</td></tr>\n",
       "\t<tr><td>24 </td><td>75 </td><td>144</td></tr>\n",
       "\t<tr><td>39 </td><td>96 </td><td>171</td></tr>\n",
       "</tbody>\n",
       "</table>\n"
      ],
      "text/latex": [
       "\\begin{tabular}{lll}\n",
       "\t 11  & 56  & 119\\\\\n",
       "\t 24  & 75  & 144\\\\\n",
       "\t 39  & 96  & 171\\\\\n",
       "\\end{tabular}\n"
      ],
      "text/markdown": [
       "\n",
       "| 11  | 56  | 119 |\n",
       "| 24  | 75  | 144 |\n",
       "| 39  | 96  | 171 |\n",
       "\n"
      ],
      "text/plain": [
       "     [,1] [,2] [,3]\n",
       "[1,] 11   56   119 \n",
       "[2,] 24   75   144 \n",
       "[3,] 39   96   171 "
      ]
     },
     "metadata": {},
     "output_type": "display_data"
    }
   ],
   "source": [
    "m1 * m2"
   ]
  },
  {
   "cell_type": "code",
   "execution_count": 43,
   "id": "3665cdfb",
   "metadata": {},
   "outputs": [
    {
     "data": {
      "text/html": [
       "<table>\n",
       "<tbody>\n",
       "\t<tr><td>3</td><td>0</td><td>0</td></tr>\n",
       "\t<tr><td>0</td><td>3</td><td>0</td></tr>\n",
       "\t<tr><td>0</td><td>0</td><td>3</td></tr>\n",
       "</tbody>\n",
       "</table>\n"
      ],
      "text/latex": [
       "\\begin{tabular}{lll}\n",
       "\t 3 & 0 & 0\\\\\n",
       "\t 0 & 3 & 0\\\\\n",
       "\t 0 & 0 & 3\\\\\n",
       "\\end{tabular}\n"
      ],
      "text/markdown": [
       "\n",
       "| 3 | 0 | 0 |\n",
       "| 0 | 3 | 0 |\n",
       "| 0 | 0 | 3 |\n",
       "\n"
      ],
      "text/plain": [
       "     [,1] [,2] [,3]\n",
       "[1,] 3    0    0   \n",
       "[2,] 0    3    0   \n",
       "[3,] 0    0    3   "
      ]
     },
     "metadata": {},
     "output_type": "display_data"
    }
   ],
   "source": [
    "diag(3,3,3)"
   ]
  },
  {
   "cell_type": "code",
   "execution_count": 44,
   "id": "1f7c90c7",
   "metadata": {},
   "outputs": [
    {
     "data": {
      "text/html": [
       "<ol class=list-inline>\n",
       "\t<li>3</li>\n",
       "\t<li>3</li>\n",
       "</ol>\n"
      ],
      "text/latex": [
       "\\begin{enumerate*}\n",
       "\\item 3\n",
       "\\item 3\n",
       "\\end{enumerate*}\n"
      ],
      "text/markdown": [
       "1. 3\n",
       "2. 3\n",
       "\n",
       "\n"
      ],
      "text/plain": [
       "[1] 3 3"
      ]
     },
     "metadata": {},
     "output_type": "display_data"
    }
   ],
   "source": [
    "dim(m1)"
   ]
  },
  {
   "cell_type": "code",
   "execution_count": 46,
   "id": "d62cef68",
   "metadata": {},
   "outputs": [],
   "source": [
    "goog = c(450,451,452,445,468)\n",
    "msft = c(230,231,232,236,228)\n",
    "\n",
    "# Put vectors into matrix\n",
    "stocks = c(goog,msft)\n",
    "stock.matrix = matrix(stocks,byrow=TRUE,nrow=2)"
   ]
  },
  {
   "cell_type": "code",
   "execution_count": 47,
   "id": "e6566f2f",
   "metadata": {},
   "outputs": [
    {
     "data": {
      "text/html": [
       "<table>\n",
       "<tbody>\n",
       "\t<tr><td>450</td><td>451</td><td>452</td><td>445</td><td>468</td></tr>\n",
       "\t<tr><td>230</td><td>231</td><td>232</td><td>236</td><td>228</td></tr>\n",
       "</tbody>\n",
       "</table>\n"
      ],
      "text/latex": [
       "\\begin{tabular}{lllll}\n",
       "\t 450 & 451 & 452 & 445 & 468\\\\\n",
       "\t 230 & 231 & 232 & 236 & 228\\\\\n",
       "\\end{tabular}\n"
      ],
      "text/markdown": [
       "\n",
       "| 450 | 451 | 452 | 445 | 468 |\n",
       "| 230 | 231 | 232 | 236 | 228 |\n",
       "\n"
      ],
      "text/plain": [
       "     [,1] [,2] [,3] [,4] [,5]\n",
       "[1,] 450  451  452  445  468 \n",
       "[2,] 230  231  232  236  228 "
      ]
     },
     "metadata": {},
     "output_type": "display_data"
    }
   ],
   "source": [
    "stock.matrix"
   ]
  },
  {
   "cell_type": "code",
   "execution_count": 50,
   "id": "16019595",
   "metadata": {},
   "outputs": [
    {
     "ename": "ERROR",
     "evalue": "Error in matrix(stocks, byrow = TRUE, dimnames = list(cnames, rnames)): length of 'dimnames' [1] not equal to array extent\n",
     "output_type": "error",
     "traceback": [
      "Error in matrix(stocks, byrow = TRUE, dimnames = list(cnames, rnames)): length of 'dimnames' [1] not equal to array extent\nTraceback:\n",
      "1. matrix(stocks, byrow = TRUE, dimnames = list(cnames, rnames))"
     ]
    }
   ],
   "source": [
    "days = c('&#39;Mon&#39;','&#39;Tue&#39;','&#39;Wed&#39;','&#39;Thu&#39;','&#39;Fri&#39;')\n",
    "st.names = c('&#39;GOOG&#39;','&#39;MSFT&#39;')\n",
    "colnames(stock.matrix)= days\n",
    "rownames(stock.matrix) = st.names\n",
    "rnames = c('row1','row2')\n",
    "cnames = c('&quot;col1&quot;','&quot;col2&quot;','&quot;col3&quot;','&quot;col4&quot;','&quot;col5&quot;')\n",
    "named_matrix = matrix(stocks,byrow=TRUE,dimnames=list(cnames,rnames))\n",
    "named_matrix"
   ]
  },
  {
   "cell_type": "code",
   "execution_count": 51,
   "id": "bfe28f2a",
   "metadata": {},
   "outputs": [
    {
     "data": {
      "text/html": [
       "<table>\n",
       "<thead><tr><th></th><th scope=col>&amp;#39;Mon&amp;#39;</th><th scope=col>&amp;#39;Tue&amp;#39;</th><th scope=col>&amp;#39;Wed&amp;#39;</th><th scope=col>&amp;#39;Thu&amp;#39;</th><th scope=col>&amp;#39;Fri&amp;#39;</th></tr></thead>\n",
       "<tbody>\n",
       "\t<tr><th scope=row>&amp;#39;GOOG&amp;#39;</th><td>450</td><td>451</td><td>452</td><td>445</td><td>468</td></tr>\n",
       "\t<tr><th scope=row>&amp;#39;MSFT&amp;#39;</th><td>230</td><td>231</td><td>232</td><td>236</td><td>228</td></tr>\n",
       "\t<tr><th scope=row>FB</th><td>111</td><td>112</td><td>113</td><td>120</td><td>145</td></tr>\n",
       "</tbody>\n",
       "</table>\n"
      ],
      "text/latex": [
       "\\begin{tabular}{r|lllll}\n",
       "  & \\&\\#39;Mon\\&\\#39; & \\&\\#39;Tue\\&\\#39; & \\&\\#39;Wed\\&\\#39; & \\&\\#39;Thu\\&\\#39; & \\&\\#39;Fri\\&\\#39;\\\\\n",
       "\\hline\n",
       "\t\\&\\#39;GOOG\\&\\#39; & 450 & 451 & 452 & 445 & 468\\\\\n",
       "\t\\&\\#39;MSFT\\&\\#39; & 230 & 231 & 232 & 236 & 228\\\\\n",
       "\tFB & 111 & 112 & 113 & 120 & 145\\\\\n",
       "\\end{tabular}\n"
      ],
      "text/markdown": [
       "\n",
       "| <!--/--> | &#39;Mon&#39; | &#39;Tue&#39; | &#39;Wed&#39; | &#39;Thu&#39; | &#39;Fri&#39; |\n",
       "|---|---|---|---|---|---|\n",
       "| &#39;GOOG&#39; | 450 | 451 | 452 | 445 | 468 |\n",
       "| &#39;MSFT&#39; | 230 | 231 | 232 | 236 | 228 |\n",
       "| FB | 111 | 112 | 113 | 120 | 145 |\n",
       "\n"
      ],
      "text/plain": [
       "               &#39;Mon&#39; &#39;Tue&#39; &#39;Wed&#39; &#39;Thu&#39;\n",
       "&#39;GOOG&#39; 450           451           452           445          \n",
       "&#39;MSFT&#39; 230           231           232           236          \n",
       "FB             111           112           113           120          \n",
       "               &#39;Fri&#39;\n",
       "&#39;GOOG&#39; 468          \n",
       "&#39;MSFT&#39; 228          \n",
       "FB             145          "
      ]
     },
     "metadata": {},
     "output_type": "display_data"
    }
   ],
   "source": [
    "FB =c(111,112,113,120,145)\n",
    "tech.stocks = rbind(stock.matrix,FB)\n",
    "tech.stocks"
   ]
  },
  {
   "cell_type": "code",
   "execution_count": 52,
   "id": "777ea3d9",
   "metadata": {},
   "outputs": [
    {
     "data": {
      "text/html": [
       "<dl class=dl-horizontal>\n",
       "\t<dt>&amp;#39;GOOG&amp;#39;</dt>\n",
       "\t\t<dd>453.2</dd>\n",
       "\t<dt>&amp;#39;MSFT&amp;#39;</dt>\n",
       "\t\t<dd>231.4</dd>\n",
       "\t<dt>FB</dt>\n",
       "\t\t<dd>120.2</dd>\n",
       "</dl>\n"
      ],
      "text/latex": [
       "\\begin{description*}\n",
       "\\item[\\textbackslash{}\\&\\textbackslash{}\\#39;GOOG\\textbackslash{}\\&\\textbackslash{}\\#39;] 453.2\n",
       "\\item[\\textbackslash{}\\&\\textbackslash{}\\#39;MSFT\\textbackslash{}\\&\\textbackslash{}\\#39;] 231.4\n",
       "\\item[FB] 120.2\n",
       "\\end{description*}\n"
      ],
      "text/markdown": [
       "&amp;amp;#39;GOOG&amp;amp;#39;\n",
       ":   453.2&amp;amp;#39;MSFT&amp;amp;#39;\n",
       ":   231.4FB\n",
       ":   120.2\n",
       "\n"
      ],
      "text/plain": [
       "&#39;GOOG&#39; &#39;MSFT&#39;             FB \n",
       "         453.2          231.4          120.2 "
      ]
     },
     "metadata": {},
     "output_type": "display_data"
    }
   ],
   "source": [
    "avg = rowMeans(tech.stocks)\n",
    "avg"
   ]
  },
  {
   "cell_type": "code",
   "execution_count": 54,
   "id": "7f622524",
   "metadata": {},
   "outputs": [
    {
     "data": {
      "text/html": [
       "<table>\n",
       "<tbody>\n",
       "\t<tr><td>1</td><td>4</td><td>7</td></tr>\n",
       "\t<tr><td>2</td><td>5</td><td>8</td></tr>\n",
       "</tbody>\n",
       "</table>\n"
      ],
      "text/latex": [
       "\\begin{tabular}{lll}\n",
       "\t 1 & 4 & 7\\\\\n",
       "\t 2 & 5 & 8\\\\\n",
       "\\end{tabular}\n"
      ],
      "text/markdown": [
       "\n",
       "| 1 | 4 | 7 |\n",
       "| 2 | 5 | 8 |\n",
       "\n"
      ],
      "text/plain": [
       "     [,1] [,2] [,3]\n",
       "[1,] 1    4    7   \n",
       "[2,] 2    5    8   "
      ]
     },
     "metadata": {},
     "output_type": "display_data"
    }
   ],
   "source": [
    "m1[1:2,1:3]"
   ]
  },
  {
   "cell_type": "code",
   "execution_count": 55,
   "id": "560f47f9",
   "metadata": {},
   "outputs": [
    {
     "data": {
      "text/html": [
       "<table>\n",
       "<tbody>\n",
       "\t<tr><td>1</td><td>4</td><td>7</td></tr>\n",
       "\t<tr><td>2</td><td>5</td><td>8</td></tr>\n",
       "\t<tr><td>3</td><td>6</td><td>9</td></tr>\n",
       "</tbody>\n",
       "</table>\n"
      ],
      "text/latex": [
       "\\begin{tabular}{lll}\n",
       "\t 1 & 4 & 7\\\\\n",
       "\t 2 & 5 & 8\\\\\n",
       "\t 3 & 6 & 9\\\\\n",
       "\\end{tabular}\n"
      ],
      "text/markdown": [
       "\n",
       "| 1 | 4 | 7 |\n",
       "| 2 | 5 | 8 |\n",
       "| 3 | 6 | 9 |\n",
       "\n"
      ],
      "text/plain": [
       "     [,1] [,2] [,3]\n",
       "[1,] 1    4    7   \n",
       "[2,] 2    5    8   \n",
       "[3,] 3    6    9   "
      ]
     },
     "metadata": {},
     "output_type": "display_data"
    }
   ],
   "source": [
    "m1"
   ]
  },
  {
   "cell_type": "code",
   "execution_count": 56,
   "id": "4dd253fc",
   "metadata": {},
   "outputs": [
    {
     "data": {
      "text/html": [
       "<ol class=list-inline>\n",
       "\t<li>4</li>\n",
       "\t<li>6</li>\n",
       "</ol>\n"
      ],
      "text/latex": [
       "\\begin{enumerate*}\n",
       "\\item 4\n",
       "\\item 6\n",
       "\\end{enumerate*}\n"
      ],
      "text/markdown": [
       "1. 4\n",
       "2. 6\n",
       "\n",
       "\n"
      ],
      "text/plain": [
       "[1] 4 6"
      ]
     },
     "metadata": {},
     "output_type": "display_data"
    }
   ],
   "source": [
    "m1[-2,c(-1,-3)]"
   ]
  },
  {
   "cell_type": "code",
   "execution_count": 57,
   "id": "e3b9872f",
   "metadata": {},
   "outputs": [],
   "source": [
    "m1[m1>3]=0"
   ]
  },
  {
   "cell_type": "code",
   "execution_count": 58,
   "id": "760e364b",
   "metadata": {},
   "outputs": [
    {
     "data": {
      "text/html": [
       "<table>\n",
       "<tbody>\n",
       "\t<tr><td>1</td><td>0</td><td>0</td></tr>\n",
       "\t<tr><td>2</td><td>0</td><td>0</td></tr>\n",
       "\t<tr><td>3</td><td>0</td><td>0</td></tr>\n",
       "</tbody>\n",
       "</table>\n"
      ],
      "text/latex": [
       "\\begin{tabular}{lll}\n",
       "\t 1 & 0 & 0\\\\\n",
       "\t 2 & 0 & 0\\\\\n",
       "\t 3 & 0 & 0\\\\\n",
       "\\end{tabular}\n"
      ],
      "text/markdown": [
       "\n",
       "| 1 | 0 | 0 |\n",
       "| 2 | 0 | 0 |\n",
       "| 3 | 0 | 0 |\n",
       "\n"
      ],
      "text/plain": [
       "     [,1] [,2] [,3]\n",
       "[1,] 1    0    0   \n",
       "[2,] 2    0    0   \n",
       "[3,] 3    0    0   "
      ]
     },
     "metadata": {},
     "output_type": "display_data"
    }
   ],
   "source": [
    "m1"
   ]
  },
  {
   "cell_type": "code",
   "execution_count": 59,
   "id": "4b25a032",
   "metadata": {},
   "outputs": [],
   "source": [
    "a=c(1,2,3,4)\n",
    "b=c('a','b','c','d')\n",
    "c=4\n",
    "l=list(a,b,c)"
   ]
  },
  {
   "cell_type": "code",
   "execution_count": 60,
   "id": "db440318",
   "metadata": {},
   "outputs": [
    {
     "data": {
      "text/html": [
       "<ol>\n",
       "\t<li><ol class=list-inline>\n",
       "\t<li>1</li>\n",
       "\t<li>2</li>\n",
       "\t<li>3</li>\n",
       "\t<li>4</li>\n",
       "</ol>\n",
       "</li>\n",
       "\t<li><ol class=list-inline>\n",
       "\t<li>'a'</li>\n",
       "\t<li>'b'</li>\n",
       "\t<li>'c'</li>\n",
       "\t<li>'d'</li>\n",
       "</ol>\n",
       "</li>\n",
       "\t<li>4</li>\n",
       "</ol>\n"
      ],
      "text/latex": [
       "\\begin{enumerate}\n",
       "\\item \\begin{enumerate*}\n",
       "\\item 1\n",
       "\\item 2\n",
       "\\item 3\n",
       "\\item 4\n",
       "\\end{enumerate*}\n",
       "\n",
       "\\item \\begin{enumerate*}\n",
       "\\item 'a'\n",
       "\\item 'b'\n",
       "\\item 'c'\n",
       "\\item 'd'\n",
       "\\end{enumerate*}\n",
       "\n",
       "\\item 4\n",
       "\\end{enumerate}\n"
      ],
      "text/markdown": [
       "1. 1. 1\n",
       "2. 2\n",
       "3. 3\n",
       "4. 4\n",
       "\n",
       "\n",
       "\n",
       "2. 1. 'a'\n",
       "2. 'b'\n",
       "3. 'c'\n",
       "4. 'd'\n",
       "\n",
       "\n",
       "\n",
       "3. 4\n",
       "\n",
       "\n"
      ],
      "text/plain": [
       "[[1]]\n",
       "[1] 1 2 3 4\n",
       "\n",
       "[[2]]\n",
       "[1] \"a\" \"b\" \"c\" \"d\"\n",
       "\n",
       "[[3]]\n",
       "[1] 4\n"
      ]
     },
     "metadata": {},
     "output_type": "display_data"
    }
   ],
   "source": [
    "l"
   ]
  },
  {
   "cell_type": "code",
   "execution_count": 72,
   "id": "0c0f87f8",
   "metadata": {},
   "outputs": [
    {
     "data": {
      "text/html": [
       "<ol>\n",
       "\t<li><ol class=list-inline>\n",
       "\t<li>1</li>\n",
       "\t<li>2</li>\n",
       "\t<li>3</li>\n",
       "\t<li>4</li>\n",
       "</ol>\n",
       "</li>\n",
       "</ol>\n"
      ],
      "text/latex": [
       "\\begin{enumerate}\n",
       "\\item \\begin{enumerate*}\n",
       "\\item 1\n",
       "\\item 2\n",
       "\\item 3\n",
       "\\item 4\n",
       "\\end{enumerate*}\n",
       "\n",
       "\\end{enumerate}\n"
      ],
      "text/markdown": [
       "1. 1. 1\n",
       "2. 2\n",
       "3. 3\n",
       "4. 4\n",
       "\n",
       "\n",
       "\n",
       "\n",
       "\n"
      ],
      "text/plain": [
       "[[1]]\n",
       "[1] 1 2 3 4\n"
      ]
     },
     "metadata": {},
     "output_type": "display_data"
    }
   ],
   "source": [
    "l[1][1]"
   ]
  },
  {
   "cell_type": "code",
   "execution_count": 74,
   "id": "7b484bf3",
   "metadata": {},
   "outputs": [
    {
     "data": {
      "text/html": [
       "<dl>\n",
       "\t<dt>$name</dt>\n",
       "\t\t<dd>'Abc'</dd>\n",
       "\t<dt>$Age</dt>\n",
       "\t\t<dd>35</dd>\n",
       "</dl>\n"
      ],
      "text/latex": [
       "\\begin{description}\n",
       "\\item[\\$name] 'Abc'\n",
       "\\item[\\$Age] 35\n",
       "\\end{description}\n"
      ],
      "text/markdown": [
       "$name\n",
       ":   'Abc'\n",
       "$Age\n",
       ":   35\n",
       "\n",
       "\n"
      ],
      "text/plain": [
       "$name\n",
       "[1] \"Abc\"\n",
       "\n",
       "$Age\n",
       "[1] 35\n"
      ]
     },
     "metadata": {},
     "output_type": "display_data"
    }
   ],
   "source": [
    "list(\"name\"=\"Abc\",\"Age\"=35)"
   ]
  },
  {
   "cell_type": "code",
   "execution_count": 82,
   "id": "4534f9fe",
   "metadata": {},
   "outputs": [],
   "source": [
    "a=seq(1:5)\n",
    "b=c(6:10)\n",
    "c=c(11:15)"
   ]
  },
  {
   "cell_type": "code",
   "execution_count": 83,
   "id": "ebd7dfc1",
   "metadata": {},
   "outputs": [],
   "source": [
    "df=data.frame(a,b,c)"
   ]
  },
  {
   "cell_type": "code",
   "execution_count": 84,
   "id": "a4bfc8ec",
   "metadata": {},
   "outputs": [
    {
     "data": {
      "text/html": [
       "<table>\n",
       "<thead><tr><th scope=col>a</th><th scope=col>b</th><th scope=col>c</th></tr></thead>\n",
       "<tbody>\n",
       "\t<tr><td>1 </td><td> 6</td><td>11</td></tr>\n",
       "\t<tr><td>2 </td><td> 7</td><td>12</td></tr>\n",
       "\t<tr><td>3 </td><td> 8</td><td>13</td></tr>\n",
       "\t<tr><td>4 </td><td> 9</td><td>14</td></tr>\n",
       "\t<tr><td>5 </td><td>10</td><td>15</td></tr>\n",
       "</tbody>\n",
       "</table>\n"
      ],
      "text/latex": [
       "\\begin{tabular}{r|lll}\n",
       " a & b & c\\\\\n",
       "\\hline\n",
       "\t 1  &  6 & 11\\\\\n",
       "\t 2  &  7 & 12\\\\\n",
       "\t 3  &  8 & 13\\\\\n",
       "\t 4  &  9 & 14\\\\\n",
       "\t 5  & 10 & 15\\\\\n",
       "\\end{tabular}\n"
      ],
      "text/markdown": [
       "\n",
       "| a | b | c |\n",
       "|---|---|---|\n",
       "| 1  |  6 | 11 |\n",
       "| 2  |  7 | 12 |\n",
       "| 3  |  8 | 13 |\n",
       "| 4  |  9 | 14 |\n",
       "| 5  | 10 | 15 |\n",
       "\n"
      ],
      "text/plain": [
       "  a b  c \n",
       "1 1  6 11\n",
       "2 2  7 12\n",
       "3 3  8 13\n",
       "4 4  9 14\n",
       "5 5 10 15"
      ]
     },
     "metadata": {},
     "output_type": "display_data"
    }
   ],
   "source": [
    "df"
   ]
  },
  {
   "cell_type": "code",
   "execution_count": 85,
   "id": "8a854950",
   "metadata": {},
   "outputs": [
    {
     "name": "stdout",
     "output_type": "stream",
     "text": [
      "'data.frame':\t5 obs. of  3 variables:\n",
      " $ a: int  1 2 3 4 5\n",
      " $ b: int  6 7 8 9 10\n",
      " $ c: int  11 12 13 14 15\n"
     ]
    }
   ],
   "source": [
    "str(df)"
   ]
  },
  {
   "cell_type": "code",
   "execution_count": 86,
   "id": "b7caa5e0",
   "metadata": {},
   "outputs": [
    {
     "data": {
      "text/plain": [
       "       a           b            c     \n",
       " Min.   :1   Min.   : 6   Min.   :11  \n",
       " 1st Qu.:2   1st Qu.: 7   1st Qu.:12  \n",
       " Median :3   Median : 8   Median :13  \n",
       " Mean   :3   Mean   : 8   Mean   :13  \n",
       " 3rd Qu.:4   3rd Qu.: 9   3rd Qu.:14  \n",
       " Max.   :5   Max.   :10   Max.   :15  "
      ]
     },
     "metadata": {},
     "output_type": "display_data"
    }
   ],
   "source": [
    "summary(df)"
   ]
  },
  {
   "cell_type": "code",
   "execution_count": 87,
   "id": "512e40ba",
   "metadata": {},
   "outputs": [
    {
     "data": {
      "text/html": [
       "<ol class=list-inline>\n",
       "\t<li>6</li>\n",
       "\t<li>7</li>\n",
       "\t<li>8</li>\n",
       "\t<li>9</li>\n",
       "\t<li>10</li>\n",
       "</ol>\n"
      ],
      "text/latex": [
       "\\begin{enumerate*}\n",
       "\\item 6\n",
       "\\item 7\n",
       "\\item 8\n",
       "\\item 9\n",
       "\\item 10\n",
       "\\end{enumerate*}\n"
      ],
      "text/markdown": [
       "1. 6\n",
       "2. 7\n",
       "3. 8\n",
       "4. 9\n",
       "5. 10\n",
       "\n",
       "\n"
      ],
      "text/plain": [
       "[1]  6  7  8  9 10"
      ]
     },
     "metadata": {},
     "output_type": "display_data"
    }
   ],
   "source": [
    "df$b"
   ]
  },
  {
   "cell_type": "code",
   "execution_count": 88,
   "id": "8c6e3b73",
   "metadata": {},
   "outputs": [
    {
     "data": {
      "text/html": [
       "<ol class=list-inline>\n",
       "\t<li>6</li>\n",
       "\t<li>7</li>\n",
       "\t<li>8</li>\n",
       "\t<li>9</li>\n",
       "\t<li>10</li>\n",
       "</ol>\n"
      ],
      "text/latex": [
       "\\begin{enumerate*}\n",
       "\\item 6\n",
       "\\item 7\n",
       "\\item 8\n",
       "\\item 9\n",
       "\\item 10\n",
       "\\end{enumerate*}\n"
      ],
      "text/markdown": [
       "1. 6\n",
       "2. 7\n",
       "3. 8\n",
       "4. 9\n",
       "5. 10\n",
       "\n",
       "\n"
      ],
      "text/plain": [
       "[1]  6  7  8  9 10"
      ]
     },
     "metadata": {},
     "output_type": "display_data"
    }
   ],
   "source": [
    "df[[\"b\"]]"
   ]
  },
  {
   "cell_type": "code",
   "execution_count": 89,
   "id": "bbf30e81",
   "metadata": {},
   "outputs": [
    {
     "data": {
      "text/html": [
       "<table>\n",
       "<thead><tr><th scope=col>b</th></tr></thead>\n",
       "<tbody>\n",
       "\t<tr><td> 6</td></tr>\n",
       "\t<tr><td> 7</td></tr>\n",
       "\t<tr><td> 8</td></tr>\n",
       "\t<tr><td> 9</td></tr>\n",
       "\t<tr><td>10</td></tr>\n",
       "</tbody>\n",
       "</table>\n"
      ],
      "text/latex": [
       "\\begin{tabular}{r|l}\n",
       " b\\\\\n",
       "\\hline\n",
       "\t  6\\\\\n",
       "\t  7\\\\\n",
       "\t  8\\\\\n",
       "\t  9\\\\\n",
       "\t 10\\\\\n",
       "\\end{tabular}\n"
      ],
      "text/markdown": [
       "\n",
       "| b |\n",
       "|---|\n",
       "|  6 |\n",
       "|  7 |\n",
       "|  8 |\n",
       "|  9 |\n",
       "| 10 |\n",
       "\n"
      ],
      "text/plain": [
       "  b \n",
       "1  6\n",
       "2  7\n",
       "3  8\n",
       "4  9\n",
       "5 10"
      ]
     },
     "metadata": {},
     "output_type": "display_data"
    }
   ],
   "source": [
    "df['b']"
   ]
  },
  {
   "cell_type": "code",
   "execution_count": 90,
   "id": "b51a15d3",
   "metadata": {},
   "outputs": [
    {
     "data": {
      "text/html": [
       "<table>\n",
       "<thead><tr><th scope=col>a</th><th scope=col>b</th><th scope=col>c</th></tr></thead>\n",
       "<tbody>\n",
       "\t<tr><td>1 </td><td>6 </td><td>11</td></tr>\n",
       "</tbody>\n",
       "</table>\n"
      ],
      "text/latex": [
       "\\begin{tabular}{r|lll}\n",
       " a & b & c\\\\\n",
       "\\hline\n",
       "\t 1  & 6  & 11\\\\\n",
       "\\end{tabular}\n"
      ],
      "text/markdown": [
       "\n",
       "| a | b | c |\n",
       "|---|---|---|\n",
       "| 1  | 6  | 11 |\n",
       "\n"
      ],
      "text/plain": [
       "  a b c \n",
       "1 1 6 11"
      ]
     },
     "metadata": {},
     "output_type": "display_data"
    }
   ],
   "source": [
    "df[1,]"
   ]
  },
  {
   "cell_type": "code",
   "execution_count": 96,
   "id": "1f609b11",
   "metadata": {},
   "outputs": [
    {
     "data": {
      "text/html": [
       "<table>\n",
       "<thead><tr><th scope=col>a</th><th scope=col>b</th></tr></thead>\n",
       "<tbody>\n",
       "\t<tr><td>1</td><td>6</td></tr>\n",
       "\t<tr><td>2</td><td>7</td></tr>\n",
       "\t<tr><td>3</td><td>8</td></tr>\n",
       "</tbody>\n",
       "</table>\n"
      ],
      "text/latex": [
       "\\begin{tabular}{r|ll}\n",
       " a & b\\\\\n",
       "\\hline\n",
       "\t 1 & 6\\\\\n",
       "\t 2 & 7\\\\\n",
       "\t 3 & 8\\\\\n",
       "\\end{tabular}\n"
      ],
      "text/markdown": [
       "\n",
       "| a | b |\n",
       "|---|---|\n",
       "| 1 | 6 |\n",
       "| 2 | 7 |\n",
       "| 3 | 8 |\n",
       "\n"
      ],
      "text/plain": [
       "  a b\n",
       "1 1 6\n",
       "2 2 7\n",
       "3 3 8"
      ]
     },
     "metadata": {},
     "output_type": "display_data"
    }
   ],
   "source": [
    "df[1:3,c('a','b')]"
   ]
  },
  {
   "cell_type": "code",
   "execution_count": 97,
   "id": "34916e1f",
   "metadata": {},
   "outputs": [
    {
     "data": {
      "text/html": [
       "<ol class=list-inline>\n",
       "\t<li>'a'</li>\n",
       "\t<li>'b'</li>\n",
       "\t<li>'c'</li>\n",
       "</ol>\n"
      ],
      "text/latex": [
       "\\begin{enumerate*}\n",
       "\\item 'a'\n",
       "\\item 'b'\n",
       "\\item 'c'\n",
       "\\end{enumerate*}\n"
      ],
      "text/markdown": [
       "1. 'a'\n",
       "2. 'b'\n",
       "3. 'c'\n",
       "\n",
       "\n"
      ],
      "text/plain": [
       "[1] \"a\" \"b\" \"c\""
      ]
     },
     "metadata": {},
     "output_type": "display_data"
    }
   ],
   "source": [
    "colnames(df)"
   ]
  },
  {
   "cell_type": "code",
   "execution_count": 98,
   "id": "6cbb4ad1",
   "metadata": {},
   "outputs": [],
   "source": [
    "colnames(df)=c('col1','col2','col3')"
   ]
  },
  {
   "cell_type": "code",
   "execution_count": 99,
   "id": "e06035cc",
   "metadata": {},
   "outputs": [
    {
     "data": {
      "text/html": [
       "<table>\n",
       "<thead><tr><th scope=col>col1</th><th scope=col>col2</th><th scope=col>col3</th></tr></thead>\n",
       "<tbody>\n",
       "\t<tr><td>1 </td><td> 6</td><td>11</td></tr>\n",
       "\t<tr><td>2 </td><td> 7</td><td>12</td></tr>\n",
       "\t<tr><td>3 </td><td> 8</td><td>13</td></tr>\n",
       "\t<tr><td>4 </td><td> 9</td><td>14</td></tr>\n",
       "\t<tr><td>5 </td><td>10</td><td>15</td></tr>\n",
       "</tbody>\n",
       "</table>\n"
      ],
      "text/latex": [
       "\\begin{tabular}{r|lll}\n",
       " col1 & col2 & col3\\\\\n",
       "\\hline\n",
       "\t 1  &  6 & 11\\\\\n",
       "\t 2  &  7 & 12\\\\\n",
       "\t 3  &  8 & 13\\\\\n",
       "\t 4  &  9 & 14\\\\\n",
       "\t 5  & 10 & 15\\\\\n",
       "\\end{tabular}\n"
      ],
      "text/markdown": [
       "\n",
       "| col1 | col2 | col3 |\n",
       "|---|---|---|\n",
       "| 1  |  6 | 11 |\n",
       "| 2  |  7 | 12 |\n",
       "| 3  |  8 | 13 |\n",
       "| 4  |  9 | 14 |\n",
       "| 5  | 10 | 15 |\n",
       "\n"
      ],
      "text/plain": [
       "  col1 col2 col3\n",
       "1 1     6   11  \n",
       "2 2     7   12  \n",
       "3 3     8   13  \n",
       "4 4     9   14  \n",
       "5 5    10   15  "
      ]
     },
     "metadata": {},
     "output_type": "display_data"
    }
   ],
   "source": [
    "df"
   ]
  },
  {
   "cell_type": "code",
   "execution_count": 101,
   "id": "4330a72b",
   "metadata": {},
   "outputs": [
    {
     "data": {
      "text/html": [
       "<ol class=list-inline>\n",
       "\t<li>'1'</li>\n",
       "\t<li>'2'</li>\n",
       "\t<li>'3'</li>\n",
       "\t<li>'4'</li>\n",
       "\t<li>'5'</li>\n",
       "</ol>\n"
      ],
      "text/latex": [
       "\\begin{enumerate*}\n",
       "\\item '1'\n",
       "\\item '2'\n",
       "\\item '3'\n",
       "\\item '4'\n",
       "\\item '5'\n",
       "\\end{enumerate*}\n"
      ],
      "text/markdown": [
       "1. '1'\n",
       "2. '2'\n",
       "3. '3'\n",
       "4. '4'\n",
       "5. '5'\n",
       "\n",
       "\n"
      ],
      "text/plain": [
       "[1] \"1\" \"2\" \"3\" \"4\" \"5\""
      ]
     },
     "metadata": {},
     "output_type": "display_data"
    }
   ],
   "source": [
    "rownames(df)"
   ]
  },
  {
   "cell_type": "code",
   "execution_count": 102,
   "id": "f9c33c16",
   "metadata": {},
   "outputs": [
    {
     "data": {
      "text/html": [
       "TRUE"
      ],
      "text/latex": [
       "TRUE"
      ],
      "text/markdown": [
       "TRUE"
      ],
      "text/plain": [
       "[1] TRUE"
      ]
     },
     "metadata": {},
     "output_type": "display_data"
    }
   ],
   "source": [
    "is.data.frame(df)"
   ]
  },
  {
   "cell_type": "code",
   "execution_count": 104,
   "id": "ccc8b54f",
   "metadata": {},
   "outputs": [
    {
     "data": {
      "text/html": [
       "<table>\n",
       "<thead><tr><th scope=col>col1</th><th scope=col>col3</th></tr></thead>\n",
       "<tbody>\n",
       "\t<tr><td>1 </td><td>11</td></tr>\n",
       "\t<tr><td>2 </td><td>12</td></tr>\n",
       "\t<tr><td>3 </td><td>13</td></tr>\n",
       "\t<tr><td>4 </td><td>14</td></tr>\n",
       "\t<tr><td>5 </td><td>15</td></tr>\n",
       "</tbody>\n",
       "</table>\n"
      ],
      "text/latex": [
       "\\begin{tabular}{r|ll}\n",
       " col1 & col3\\\\\n",
       "\\hline\n",
       "\t 1  & 11\\\\\n",
       "\t 2  & 12\\\\\n",
       "\t 3  & 13\\\\\n",
       "\t 4  & 14\\\\\n",
       "\t 5  & 15\\\\\n",
       "\\end{tabular}\n"
      ],
      "text/markdown": [
       "\n",
       "| col1 | col3 |\n",
       "|---|---|\n",
       "| 1  | 11 |\n",
       "| 2  | 12 |\n",
       "| 3  | 13 |\n",
       "| 4  | 14 |\n",
       "| 5  | 15 |\n",
       "\n"
      ],
      "text/plain": [
       "  col1 col3\n",
       "1 1    11  \n",
       "2 2    12  \n",
       "3 3    13  \n",
       "4 4    14  \n",
       "5 5    15  "
      ]
     },
     "metadata": {},
     "output_type": "display_data"
    }
   ],
   "source": [
    "df[-2]"
   ]
  },
  {
   "cell_type": "code",
   "execution_count": 105,
   "id": "6bf7bc83",
   "metadata": {},
   "outputs": [],
   "source": [
    "d=c(16:20)\n",
    "e=c(21:25)\n",
    "f=c(26:30)"
   ]
  },
  {
   "cell_type": "code",
   "execution_count": 106,
   "id": "8485bf47",
   "metadata": {},
   "outputs": [],
   "source": [
    "df2=data.frame(d,e,f)"
   ]
  },
  {
   "cell_type": "code",
   "execution_count": 107,
   "id": "9b55c3a5",
   "metadata": {},
   "outputs": [],
   "source": [
    "df3=merge(df,df2)"
   ]
  },
  {
   "cell_type": "code",
   "execution_count": 108,
   "id": "01302983",
   "metadata": {},
   "outputs": [
    {
     "data": {
      "text/html": [
       "<table>\n",
       "<thead><tr><th scope=col>col1</th><th scope=col>col2</th><th scope=col>col3</th><th scope=col>d</th><th scope=col>e</th><th scope=col>f</th></tr></thead>\n",
       "<tbody>\n",
       "\t<tr><td>1 </td><td> 6</td><td>11</td><td>16</td><td>21</td><td>26</td></tr>\n",
       "\t<tr><td>2 </td><td> 7</td><td>12</td><td>16</td><td>21</td><td>26</td></tr>\n",
       "\t<tr><td>3 </td><td> 8</td><td>13</td><td>16</td><td>21</td><td>26</td></tr>\n",
       "\t<tr><td>4 </td><td> 9</td><td>14</td><td>16</td><td>21</td><td>26</td></tr>\n",
       "\t<tr><td>5 </td><td>10</td><td>15</td><td>16</td><td>21</td><td>26</td></tr>\n",
       "\t<tr><td>1 </td><td> 6</td><td>11</td><td>17</td><td>22</td><td>27</td></tr>\n",
       "\t<tr><td>2 </td><td> 7</td><td>12</td><td>17</td><td>22</td><td>27</td></tr>\n",
       "\t<tr><td>3 </td><td> 8</td><td>13</td><td>17</td><td>22</td><td>27</td></tr>\n",
       "\t<tr><td>4 </td><td> 9</td><td>14</td><td>17</td><td>22</td><td>27</td></tr>\n",
       "\t<tr><td>5 </td><td>10</td><td>15</td><td>17</td><td>22</td><td>27</td></tr>\n",
       "\t<tr><td>1 </td><td> 6</td><td>11</td><td>18</td><td>23</td><td>28</td></tr>\n",
       "\t<tr><td>2 </td><td> 7</td><td>12</td><td>18</td><td>23</td><td>28</td></tr>\n",
       "\t<tr><td>3 </td><td> 8</td><td>13</td><td>18</td><td>23</td><td>28</td></tr>\n",
       "\t<tr><td>4 </td><td> 9</td><td>14</td><td>18</td><td>23</td><td>28</td></tr>\n",
       "\t<tr><td>5 </td><td>10</td><td>15</td><td>18</td><td>23</td><td>28</td></tr>\n",
       "\t<tr><td>1 </td><td> 6</td><td>11</td><td>19</td><td>24</td><td>29</td></tr>\n",
       "\t<tr><td>2 </td><td> 7</td><td>12</td><td>19</td><td>24</td><td>29</td></tr>\n",
       "\t<tr><td>3 </td><td> 8</td><td>13</td><td>19</td><td>24</td><td>29</td></tr>\n",
       "\t<tr><td>4 </td><td> 9</td><td>14</td><td>19</td><td>24</td><td>29</td></tr>\n",
       "\t<tr><td>5 </td><td>10</td><td>15</td><td>19</td><td>24</td><td>29</td></tr>\n",
       "\t<tr><td>1 </td><td> 6</td><td>11</td><td>20</td><td>25</td><td>30</td></tr>\n",
       "\t<tr><td>2 </td><td> 7</td><td>12</td><td>20</td><td>25</td><td>30</td></tr>\n",
       "\t<tr><td>3 </td><td> 8</td><td>13</td><td>20</td><td>25</td><td>30</td></tr>\n",
       "\t<tr><td>4 </td><td> 9</td><td>14</td><td>20</td><td>25</td><td>30</td></tr>\n",
       "\t<tr><td>5 </td><td>10</td><td>15</td><td>20</td><td>25</td><td>30</td></tr>\n",
       "</tbody>\n",
       "</table>\n"
      ],
      "text/latex": [
       "\\begin{tabular}{r|llllll}\n",
       " col1 & col2 & col3 & d & e & f\\\\\n",
       "\\hline\n",
       "\t 1  &  6 & 11 & 16 & 21 & 26\\\\\n",
       "\t 2  &  7 & 12 & 16 & 21 & 26\\\\\n",
       "\t 3  &  8 & 13 & 16 & 21 & 26\\\\\n",
       "\t 4  &  9 & 14 & 16 & 21 & 26\\\\\n",
       "\t 5  & 10 & 15 & 16 & 21 & 26\\\\\n",
       "\t 1  &  6 & 11 & 17 & 22 & 27\\\\\n",
       "\t 2  &  7 & 12 & 17 & 22 & 27\\\\\n",
       "\t 3  &  8 & 13 & 17 & 22 & 27\\\\\n",
       "\t 4  &  9 & 14 & 17 & 22 & 27\\\\\n",
       "\t 5  & 10 & 15 & 17 & 22 & 27\\\\\n",
       "\t 1  &  6 & 11 & 18 & 23 & 28\\\\\n",
       "\t 2  &  7 & 12 & 18 & 23 & 28\\\\\n",
       "\t 3  &  8 & 13 & 18 & 23 & 28\\\\\n",
       "\t 4  &  9 & 14 & 18 & 23 & 28\\\\\n",
       "\t 5  & 10 & 15 & 18 & 23 & 28\\\\\n",
       "\t 1  &  6 & 11 & 19 & 24 & 29\\\\\n",
       "\t 2  &  7 & 12 & 19 & 24 & 29\\\\\n",
       "\t 3  &  8 & 13 & 19 & 24 & 29\\\\\n",
       "\t 4  &  9 & 14 & 19 & 24 & 29\\\\\n",
       "\t 5  & 10 & 15 & 19 & 24 & 29\\\\\n",
       "\t 1  &  6 & 11 & 20 & 25 & 30\\\\\n",
       "\t 2  &  7 & 12 & 20 & 25 & 30\\\\\n",
       "\t 3  &  8 & 13 & 20 & 25 & 30\\\\\n",
       "\t 4  &  9 & 14 & 20 & 25 & 30\\\\\n",
       "\t 5  & 10 & 15 & 20 & 25 & 30\\\\\n",
       "\\end{tabular}\n"
      ],
      "text/markdown": [
       "\n",
       "| col1 | col2 | col3 | d | e | f |\n",
       "|---|---|---|---|---|---|\n",
       "| 1  |  6 | 11 | 16 | 21 | 26 |\n",
       "| 2  |  7 | 12 | 16 | 21 | 26 |\n",
       "| 3  |  8 | 13 | 16 | 21 | 26 |\n",
       "| 4  |  9 | 14 | 16 | 21 | 26 |\n",
       "| 5  | 10 | 15 | 16 | 21 | 26 |\n",
       "| 1  |  6 | 11 | 17 | 22 | 27 |\n",
       "| 2  |  7 | 12 | 17 | 22 | 27 |\n",
       "| 3  |  8 | 13 | 17 | 22 | 27 |\n",
       "| 4  |  9 | 14 | 17 | 22 | 27 |\n",
       "| 5  | 10 | 15 | 17 | 22 | 27 |\n",
       "| 1  |  6 | 11 | 18 | 23 | 28 |\n",
       "| 2  |  7 | 12 | 18 | 23 | 28 |\n",
       "| 3  |  8 | 13 | 18 | 23 | 28 |\n",
       "| 4  |  9 | 14 | 18 | 23 | 28 |\n",
       "| 5  | 10 | 15 | 18 | 23 | 28 |\n",
       "| 1  |  6 | 11 | 19 | 24 | 29 |\n",
       "| 2  |  7 | 12 | 19 | 24 | 29 |\n",
       "| 3  |  8 | 13 | 19 | 24 | 29 |\n",
       "| 4  |  9 | 14 | 19 | 24 | 29 |\n",
       "| 5  | 10 | 15 | 19 | 24 | 29 |\n",
       "| 1  |  6 | 11 | 20 | 25 | 30 |\n",
       "| 2  |  7 | 12 | 20 | 25 | 30 |\n",
       "| 3  |  8 | 13 | 20 | 25 | 30 |\n",
       "| 4  |  9 | 14 | 20 | 25 | 30 |\n",
       "| 5  | 10 | 15 | 20 | 25 | 30 |\n",
       "\n"
      ],
      "text/plain": [
       "   col1 col2 col3 d  e  f \n",
       "1  1     6   11   16 21 26\n",
       "2  2     7   12   16 21 26\n",
       "3  3     8   13   16 21 26\n",
       "4  4     9   14   16 21 26\n",
       "5  5    10   15   16 21 26\n",
       "6  1     6   11   17 22 27\n",
       "7  2     7   12   17 22 27\n",
       "8  3     8   13   17 22 27\n",
       "9  4     9   14   17 22 27\n",
       "10 5    10   15   17 22 27\n",
       "11 1     6   11   18 23 28\n",
       "12 2     7   12   18 23 28\n",
       "13 3     8   13   18 23 28\n",
       "14 4     9   14   18 23 28\n",
       "15 5    10   15   18 23 28\n",
       "16 1     6   11   19 24 29\n",
       "17 2     7   12   19 24 29\n",
       "18 3     8   13   19 24 29\n",
       "19 4     9   14   19 24 29\n",
       "20 5    10   15   19 24 29\n",
       "21 1     6   11   20 25 30\n",
       "22 2     7   12   20 25 30\n",
       "23 3     8   13   20 25 30\n",
       "24 4     9   14   20 25 30\n",
       "25 5    10   15   20 25 30"
      ]
     },
     "metadata": {},
     "output_type": "display_data"
    }
   ],
   "source": [
    "df3"
   ]
  },
  {
   "cell_type": "code",
   "execution_count": 109,
   "id": "fb86599f",
   "metadata": {},
   "outputs": [
    {
     "data": {
      "text/html": [
       "<table>\n",
       "<thead><tr><th scope=col>col1</th><th scope=col>col2</th><th scope=col>col3</th></tr></thead>\n",
       "<tbody>\n",
       "\t<tr><td>FALSE</td><td>FALSE</td><td>FALSE</td></tr>\n",
       "\t<tr><td>FALSE</td><td>FALSE</td><td>FALSE</td></tr>\n",
       "\t<tr><td>FALSE</td><td>FALSE</td><td>FALSE</td></tr>\n",
       "\t<tr><td>FALSE</td><td>FALSE</td><td>FALSE</td></tr>\n",
       "\t<tr><td>FALSE</td><td>FALSE</td><td>FALSE</td></tr>\n",
       "</tbody>\n",
       "</table>\n"
      ],
      "text/latex": [
       "\\begin{tabular}{lll}\n",
       " col1 & col2 & col3\\\\\n",
       "\\hline\n",
       "\t FALSE & FALSE & FALSE\\\\\n",
       "\t FALSE & FALSE & FALSE\\\\\n",
       "\t FALSE & FALSE & FALSE\\\\\n",
       "\t FALSE & FALSE & FALSE\\\\\n",
       "\t FALSE & FALSE & FALSE\\\\\n",
       "\\end{tabular}\n"
      ],
      "text/markdown": [
       "\n",
       "| col1 | col2 | col3 |\n",
       "|---|---|---|\n",
       "| FALSE | FALSE | FALSE |\n",
       "| FALSE | FALSE | FALSE |\n",
       "| FALSE | FALSE | FALSE |\n",
       "| FALSE | FALSE | FALSE |\n",
       "| FALSE | FALSE | FALSE |\n",
       "\n"
      ],
      "text/plain": [
       "     col1  col2  col3 \n",
       "[1,] FALSE FALSE FALSE\n",
       "[2,] FALSE FALSE FALSE\n",
       "[3,] FALSE FALSE FALSE\n",
       "[4,] FALSE FALSE FALSE\n",
       "[5,] FALSE FALSE FALSE"
      ]
     },
     "metadata": {},
     "output_type": "display_data"
    }
   ],
   "source": [
    "is.na(df)"
   ]
  },
  {
   "cell_type": "code",
   "execution_count": 118,
   "id": "f532ebfe",
   "metadata": {},
   "outputs": [
    {
     "name": "stdout",
     "output_type": "stream",
     "text": [
      "[1] \"Assassin\" \"Contessa\" \"Captain\" \n"
     ]
    }
   ],
   "source": [
    "draw = function(){\n",
    "deck = c('Duke','Assassin','Captain','Ambassdor','Contessa')\n",
    "hand = sample(deck,size=3,replace=T)\n",
    "print(hand)\n",
    "\n",
    "}\n",
    "draw()"
   ]
  },
  {
   "cell_type": "code",
   "execution_count": 125,
   "id": "ecc59675",
   "metadata": {},
   "outputs": [
    {
     "data": {
      "text/html": [
       "TRUE"
      ],
      "text/latex": [
       "TRUE"
      ],
      "text/markdown": [
       "TRUE"
      ],
      "text/plain": [
       "[1] TRUE"
      ]
     },
     "metadata": {},
     "output_type": "display_data"
    }
   ],
   "source": [
    "vec = as.integer(c(1,2,3,4,5,6,7,8,9))\n",
    "any(vec,vec<0)"
   ]
  },
  {
   "cell_type": "code",
   "execution_count": 131,
   "id": "0cadd6d5",
   "metadata": {},
   "outputs": [
    {
     "data": {
      "text/html": [
       "3"
      ],
      "text/latex": [
       "3"
      ],
      "text/markdown": [
       "3"
      ],
      "text/plain": [
       "[1] 3"
      ]
     },
     "metadata": {},
     "output_type": "display_data"
    }
   ],
   "source": [
    "mean(a)"
   ]
  },
  {
   "cell_type": "code",
   "execution_count": 136,
   "id": "9e5465cd",
   "metadata": {},
   "outputs": [
    {
     "data": {
      "text/html": [
       "<table>\n",
       "<thead><tr><th scope=col>col1</th><th scope=col>col2</th><th scope=col>col3</th></tr></thead>\n",
       "<tbody>\n",
       "</tbody>\n",
       "</table>\n"
      ],
      "text/latex": [
       "\\begin{tabular}{r|lll}\n",
       " col1 & col2 & col3\\\\\n",
       "\\hline\n",
       "\\end{tabular}\n"
      ],
      "text/markdown": [
       "\n",
       "| col1 | col2 | col3 |\n",
       "|---|---|---|\n",
       "\n"
      ],
      "text/plain": [
       "     col1 col2 col3"
      ]
     },
     "metadata": {},
     "output_type": "display_data"
    }
   ],
   "source": [
    "df"
   ]
  },
  {
   "cell_type": "code",
   "execution_count": 137,
   "id": "bd7a591f",
   "metadata": {},
   "outputs": [],
   "source": [
    "df=data.frame(a,b,c)"
   ]
  },
  {
   "cell_type": "code",
   "execution_count": 138,
   "id": "da1c29ba",
   "metadata": {},
   "outputs": [
    {
     "data": {
      "text/html": [
       "8"
      ],
      "text/latex": [
       "8"
      ],
      "text/markdown": [
       "8"
      ],
      "text/plain": [
       "[1] 8"
      ]
     },
     "metadata": {},
     "output_type": "display_data"
    }
   ],
   "source": [
    "mean(df$b)"
   ]
  },
  {
   "cell_type": "code",
   "execution_count": 141,
   "id": "5044a8c4",
   "metadata": {},
   "outputs": [],
   "source": [
    "df=cbind(df,\"d\"=c(8,7,0,9,2))"
   ]
  },
  {
   "cell_type": "code",
   "execution_count": 143,
   "id": "f6da795a",
   "metadata": {},
   "outputs": [
    {
     "data": {
      "text/html": [
       "<table>\n",
       "<thead><tr><th scope=col>a</th><th scope=col>b</th><th scope=col>c</th><th scope=col>d</th></tr></thead>\n",
       "<tbody>\n",
       "\t<tr><td>1 </td><td> 6</td><td>11</td><td>8 </td></tr>\n",
       "\t<tr><td>2 </td><td> 7</td><td>12</td><td>7 </td></tr>\n",
       "\t<tr><td>3 </td><td> 8</td><td>13</td><td>0 </td></tr>\n",
       "\t<tr><td>4 </td><td> 9</td><td>14</td><td>9 </td></tr>\n",
       "\t<tr><td>5 </td><td>10</td><td>15</td><td>2 </td></tr>\n",
       "</tbody>\n",
       "</table>\n"
      ],
      "text/latex": [
       "\\begin{tabular}{r|llll}\n",
       " a & b & c & d\\\\\n",
       "\\hline\n",
       "\t 1  &  6 & 11 & 8 \\\\\n",
       "\t 2  &  7 & 12 & 7 \\\\\n",
       "\t 3  &  8 & 13 & 0 \\\\\n",
       "\t 4  &  9 & 14 & 9 \\\\\n",
       "\t 5  & 10 & 15 & 2 \\\\\n",
       "\\end{tabular}\n"
      ],
      "text/markdown": [
       "\n",
       "| a | b | c | d |\n",
       "|---|---|---|---|\n",
       "| 1  |  6 | 11 | 8  |\n",
       "| 2  |  7 | 12 | 7  |\n",
       "| 3  |  8 | 13 | 0  |\n",
       "| 4  |  9 | 14 | 9  |\n",
       "| 5  | 10 | 15 | 2  |\n",
       "\n"
      ],
      "text/plain": [
       "  a b  c  d\n",
       "1 1  6 11 8\n",
       "2 2  7 12 7\n",
       "3 3  8 13 0\n",
       "4 4  9 14 9\n",
       "5 5 10 15 2"
      ]
     },
     "metadata": {},
     "output_type": "display_data"
    }
   ],
   "source": [
    "df"
   ]
  },
  {
   "cell_type": "code",
   "execution_count": 147,
   "id": "26949a84",
   "metadata": {},
   "outputs": [
    {
     "data": {
      "text/html": [
       "<ol class=list-inline>\n",
       "\t<li>0</li>\n",
       "\t<li>2</li>\n",
       "\t<li>7</li>\n",
       "\t<li>8</li>\n",
       "\t<li>9</li>\n",
       "</ol>\n"
      ],
      "text/latex": [
       "\\begin{enumerate*}\n",
       "\\item 0\n",
       "\\item 2\n",
       "\\item 7\n",
       "\\item 8\n",
       "\\item 9\n",
       "\\end{enumerate*}\n"
      ],
      "text/markdown": [
       "1. 0\n",
       "2. 2\n",
       "3. 7\n",
       "4. 8\n",
       "5. 9\n",
       "\n",
       "\n"
      ],
      "text/plain": [
       "[1] 0 2 7 8 9"
      ]
     },
     "metadata": {},
     "output_type": "display_data"
    }
   ],
   "source": [
    "sort(df$d)"
   ]
  },
  {
   "cell_type": "code",
   "execution_count": 151,
   "id": "f1998b30",
   "metadata": {},
   "outputs": [
    {
     "data": {
      "text/html": [
       "<table>\n",
       "<thead><tr><th></th><th scope=col>a</th><th scope=col>b</th><th scope=col>c</th><th scope=col>d</th></tr></thead>\n",
       "<tbody>\n",
       "\t<tr><th scope=row>4</th><td>4 </td><td>9 </td><td>14</td><td>9 </td></tr>\n",
       "</tbody>\n",
       "</table>\n"
      ],
      "text/latex": [
       "\\begin{tabular}{r|llll}\n",
       "  & a & b & c & d\\\\\n",
       "\\hline\n",
       "\t4 & 4  & 9  & 14 & 9 \\\\\n",
       "\\end{tabular}\n"
      ],
      "text/markdown": [
       "\n",
       "| <!--/--> | a | b | c | d |\n",
       "|---|---|---|---|---|\n",
       "| 4 | 4  | 9  | 14 | 9  |\n",
       "\n"
      ],
      "text/plain": [
       "  a b c  d\n",
       "4 4 9 14 9"
      ]
     },
     "metadata": {},
     "output_type": "display_data"
    }
   ],
   "source": [
    "df[df$d>8,]"
   ]
  },
  {
   "cell_type": "code",
   "execution_count": 157,
   "id": "132793b7",
   "metadata": {},
   "outputs": [
    {
     "data": {
      "text/html": [
       "0"
      ],
      "text/latex": [
       "0"
      ],
      "text/markdown": [
       "0"
      ],
      "text/plain": [
       "[1] 0"
      ]
     },
     "metadata": {},
     "output_type": "display_data"
    }
   ],
   "source": [
    "sum(df$d == 1)"
   ]
  },
  {
   "cell_type": "code",
   "execution_count": 169,
   "id": "755a42e8",
   "metadata": {},
   "outputs": [
    {
     "data": {
      "text/html": [
       "<table>\n",
       "<thead><tr><th></th><th scope=col>a</th><th scope=col>b</th><th scope=col>c</th><th scope=col>d</th></tr></thead>\n",
       "<tbody>\n",
       "\t<tr><th scope=row>NA</th><td>NA</td><td>NA</td><td>NA</td><td>NA</td></tr>\n",
       "</tbody>\n",
       "</table>\n"
      ],
      "text/latex": [
       "\\begin{tabular}{r|llll}\n",
       "  & a & b & c & d\\\\\n",
       "\\hline\n",
       "\tNA & NA & NA & NA & NA\\\\\n",
       "\\end{tabular}\n"
      ],
      "text/markdown": [
       "\n",
       "| <!--/--> | a | b | c | d |\n",
       "|---|---|---|---|---|\n",
       "| NA | NA | NA | NA | NA |\n",
       "\n"
      ],
      "text/plain": [
       "   a  b  c  d \n",
       "NA NA NA NA NA"
      ]
     },
     "metadata": {},
     "output_type": "display_data"
    }
   ],
   "source": [
    "df[max(df), ]"
   ]
  },
  {
   "cell_type": "code",
   "execution_count": 176,
   "id": "ac4f9681",
   "metadata": {},
   "outputs": [
    {
     "name": "stdout",
     "output_type": "stream",
     "text": [
      "[1] 0\n",
      "[1] 20\n"
     ]
    }
   ],
   "source": [
    "for(i in ){\n",
    "    i<=0\n",
    "    i--\n",
    "    print(i)\n",
    "}"
   ]
  },
  {
   "cell_type": "code",
   "execution_count": 177,
   "id": "029e5a90",
   "metadata": {},
   "outputs": [],
   "source": [
    "a=c(1:10)"
   ]
  },
  {
   "cell_type": "code",
   "execution_count": 178,
   "id": "72008c66",
   "metadata": {},
   "outputs": [
    {
     "data": {
      "text/html": [
       "<ol class=list-inline>\n",
       "\t<li>1</li>\n",
       "\t<li>2</li>\n",
       "\t<li>3</li>\n",
       "\t<li>4</li>\n",
       "\t<li>5</li>\n",
       "\t<li>6</li>\n",
       "\t<li>7</li>\n",
       "\t<li>8</li>\n",
       "\t<li>9</li>\n",
       "\t<li>10</li>\n",
       "</ol>\n"
      ],
      "text/latex": [
       "\\begin{enumerate*}\n",
       "\\item 1\n",
       "\\item 2\n",
       "\\item 3\n",
       "\\item 4\n",
       "\\item 5\n",
       "\\item 6\n",
       "\\item 7\n",
       "\\item 8\n",
       "\\item 9\n",
       "\\item 10\n",
       "\\end{enumerate*}\n"
      ],
      "text/markdown": [
       "1. 1\n",
       "2. 2\n",
       "3. 3\n",
       "4. 4\n",
       "5. 5\n",
       "6. 6\n",
       "7. 7\n",
       "8. 8\n",
       "9. 9\n",
       "10. 10\n",
       "\n",
       "\n"
      ],
      "text/plain": [
       " [1]  1  2  3  4  5  6  7  8  9 10"
      ]
     },
     "metadata": {},
     "output_type": "display_data"
    }
   ],
   "source": [
    "a"
   ]
  },
  {
   "cell_type": "code",
   "execution_count": 179,
   "id": "70e2df8e",
   "metadata": {},
   "outputs": [],
   "source": [
    "a=c(1,2,3,4,5,1,3,2,4,1)"
   ]
  },
  {
   "cell_type": "code",
   "execution_count": 182,
   "id": "2e6e1418",
   "metadata": {},
   "outputs": [
    {
     "data": {
      "image/png": "[encoded data removed]",
      "text/plain": [
       "plot without title"
      ]
     },
     "metadata": {},
     "output_type": "display_data"
    }
   ],
   "source": [
    "barplot(table(a))"
   ]
  },
  {
   "cell_type": "markdown",
   "id": "b707dd4f",
   "metadata": {},
   "source": [
    "# R program to illustrate\n",
    "# Descriptive Analysis\n",
    "\n",
    "# Import the data using read.csv()\n",
    "myData = read.csv(&quot;CardioGoodFitness.csv&quot;,stringsAsFactors=F)\n",
    "\n",
    "dt &lt;- c(1,45,67,56,45,22)\n",
    "# Compute the mean value\n",
    "print( mean(myData$Age))\n",
    "print( mean(dt,na.rm=TRUE))\n",
    "\n",
    "# Compute the median value\n",
    "median = median(myData$Age)\n",
    "MED=median(dt,na.rm=TRUE)\n",
    "print(median)\n",
    "\n",
    "# Create the function.\n",
    "getmode &lt;- function(v) {\n",
    "uniqv &lt;- unique(v)\n",
    "uniqv[which.max(tabulate(match(v, uniqv)))]\n",
    "}\n",
    "\n",
    "# Create the vector with numbers.\n",
    "v &lt;- c(2,1,2,3,1,2,3,4,1,5,5,3,2,3)\n",
    "\n",
    "# Calculate the mode using the user function.\n",
    "result &lt;- getmode(v)\n",
    "print(result)\n",
    "\n",
    "# Create the vector with characters.\n",
    "charv &lt;- c(&quot;o&quot;,&quot;it&quot;,&quot;the&quot;,&quot;it&quot;,&quot;it&quot;)\n",
    "\n",
    "# Calculate the mode using the user function.\n",
    "result &lt;- getmode(charv)\n",
    "print(result)\n",
    "\n",
    "# Import the data using read.csv()\n",
    "myData = read.csv(&quot;CardioGoodFitness.csv&quot;,\n",
    "stringsAsFactors=F)\n",
    "\n",
    "mode = function(){\n",
    "return(sort(table(myData$Age))[1])\n",
    "}\n",
    "\n",
    "mode()\n",
    "\n",
    "# R program to illustrate\n",
    "# Descriptive Analysis\n",
    "\n",
    "# Import the library\n",
    "library(modeest)\n",
    "\n",
    "# Import the data using read.csv()\n",
    "myData = read.csv(&quot;CardioGoodFitness.csv&quot;,stringsAsFactors=F)\n",
    "\n",
    "# Compute the mode value\n",
    "mode = mfv(myData$Age)\n",
    "print(mode)\n",
    "\n",
    "#R Function : range()\n",
    "range(myData$Age)\n",
    "\n",
    "# Create example vector\n",
    "\n",
    "x &lt;- c(1, 2, 3, 4, 5, 6, 7)\n",
    "range(x)\n",
    "\n",
    "var(x)\n",
    "sd(x)\n",
    "\n",
    "print(x)\n",
    "\n",
    "# R program to illustrate\n",
    "# standard deviation of vector\n",
    "\n",
    "# Create example vector\n",
    "x2 &lt;- c(1, 2, 3, 4, 5, 6, 7)\n",
    "\n",
    "# Compare with sd function\n",
    "\n",
    "print(x2)"
   ]
  },
  {
   "cell_type": "code",
   "execution_count": 8,
   "id": "28dd679b",
   "metadata": {},
   "outputs": [],
   "source": [
    "x=c(1, 2, 3, 4, 5, 6, 7,3,4,1,9)"
   ]
  },
  {
   "cell_type": "code",
   "execution_count": 9,
   "id": "9fcdd844",
   "metadata": {},
   "outputs": [
    {
     "data": {
      "text/html": [
       "<ol class=list-inline>\n",
       "\t<li>1</li>\n",
       "\t<li>9</li>\n",
       "</ol>\n"
      ],
      "text/latex": [
       "\\begin{enumerate*}\n",
       "\\item 1\n",
       "\\item 9\n",
       "\\end{enumerate*}\n"
      ],
      "text/markdown": [
       "1. 1\n",
       "2. 9\n",
       "\n",
       "\n"
      ],
      "text/plain": [
       "[1] 1 9"
      ]
     },
     "metadata": {},
     "output_type": "display_data"
    }
   ],
   "source": [
    "range(x)"
   ]
  },
  {
   "cell_type": "code",
   "execution_count": 7,
   "id": "75c6a523",
   "metadata": {},
   "outputs": [
    {
     "name": "stdout",
     "output_type": "stream",
     "text": [
      "[1] 4\n"
     ]
    }
   ],
   "source": [
    "getmode=function(x){\n",
    "    u=unique(x)\n",
    "    u[which.max(tabulate(match(x,u)))]\n",
    "}\n",
    "x=c(1, 2, 3, 4, 5, 6, 7,3,4,1,9,4)\n",
    "r=getmode(x)\n",
    "print(r)"
   ]
  },
  {
   "cell_type": "code",
   "execution_count": 10,
   "id": "cb9b8474",
   "metadata": {},
   "outputs": [
    {
     "data": {
      "text/html": [
       "2.50816847339031"
      ],
      "text/latex": [
       "2.50816847339031"
      ],
      "text/markdown": [
       "2.50816847339031"
      ],
      "text/plain": [
       "[1] 2.508168"
      ]
     },
     "metadata": {},
     "output_type": "display_data"
    }
   ],
   "source": [
    "sd(x)"
   ]
  },
  {
   "cell_type": "code",
   "execution_count": 12,
   "id": "15f9a5c2",
   "metadata": {},
   "outputs": [
    {
     "data": {
      "text/html": [
       "6.29090909090909"
      ],
      "text/latex": [
       "6.29090909090909"
      ],
      "text/markdown": [
       "6.29090909090909"
      ],
      "text/plain": [
       "[1] 6.290909"
      ]
     },
     "metadata": {},
     "output_type": "display_data"
    }
   ],
   "source": [
    "var(x)"
   ]
  },
  {
   "cell_type": "code",
   "execution_count": 20,
   "id": "950fb805",
   "metadata": {},
   "outputs": [
    {
     "data": {
      "text/html": [
       "0.13287555072"
      ],
      "text/latex": [
       "0.13287555072"
      ],
      "text/markdown": [
       "0.13287555072"
      ],
      "text/plain": [
       "[1] 0.1328756"
      ]
     },
     "metadata": {},
     "output_type": "display_data"
    },
    {
     "data": {
      "text/html": [
       "0.92744450048"
      ],
      "text/latex": [
       "0.92744450048"
      ],
      "text/markdown": [
       "0.92744450048"
      ],
      "text/plain": [
       "[1] 0.9274445"
      ]
     },
     "metadata": {},
     "output_type": "display_data"
    },
    {
     "data": {
      "text/html": [
       "0.92744450048"
      ],
      "text/latex": [
       "0.92744450048"
      ],
      "text/markdown": [
       "0.92744450048"
      ],
      "text/plain": [
       "[1] 0.9274445"
      ]
     },
     "metadata": {},
     "output_type": "display_data"
    }
   ],
   "source": [
    "#binomial distribution\n",
    "dbinom(4,size=12,prob=0.2)\n",
    "\n",
    "\n",
    "dbinom(0,size=12,prob=0.2)+dbinom(1,size=12,prob=0.2)+dbinom(2,size=12,prob=0.2)+\n",
    "dbinom(3,size=12,prob=0.2)+dbinom(4,size=12,prob=0.2)\n",
    "\n",
    "\n",
    "pbinom(4,size=12,prob=0.2) #cumulative binomial distribution"
   ]
  },
  {
   "cell_type": "code",
   "execution_count": 21,
   "id": "346203c8",
   "metadata": {},
   "outputs": [
    {
     "data": {
      "text/html": [
       "0.898708992560162"
      ],
      "text/latex": [
       "0.898708992560162"
      ],
      "text/markdown": [
       "0.898708992560162"
      ],
      "text/plain": [
       "[1] 0.898709"
      ]
     },
     "metadata": {},
     "output_type": "display_data"
    },
    {
     "data": {
      "text/html": [
       "0.101291007439838"
      ],
      "text/latex": [
       "0.101291007439838"
      ],
      "text/markdown": [
       "0.101291007439838"
      ],
      "text/plain": [
       "[1] 0.101291"
      ]
     },
     "metadata": {},
     "output_type": "display_data"
    }
   ],
   "source": [
    "#poisson distribution\n",
    "ppois(16,lambda=12)#lowertail\n",
    "ppois(16,lambda=12,lower=FALSE)#uppertail"
   ]
  },
  {
   "cell_type": "code",
   "execution_count": 22,
   "id": "8479d7be",
   "metadata": {},
   "outputs": [
    {
     "data": {
      "text/html": [
       "<ol class=list-inline>\n",
       "\t<li>1.30760999396443</li>\n",
       "\t<li>1.11928282724693</li>\n",
       "\t<li>1.38401801651344</li>\n",
       "\t<li>1.35721410065889</li>\n",
       "\t<li>2.04094412783161</li>\n",
       "\t<li>2.41486161667854</li>\n",
       "\t<li>1.22796856425703</li>\n",
       "\t<li>2.81317769177258</li>\n",
       "\t<li>1.1990445102565</li>\n",
       "\t<li>2.70640202658251</li>\n",
       "</ol>\n"
      ],
      "text/latex": [
       "\\begin{enumerate*}\n",
       "\\item 1.30760999396443\n",
       "\\item 1.11928282724693\n",
       "\\item 1.38401801651344\n",
       "\\item 1.35721410065889\n",
       "\\item 2.04094412783161\n",
       "\\item 2.41486161667854\n",
       "\\item 1.22796856425703\n",
       "\\item 2.81317769177258\n",
       "\\item 1.1990445102565\n",
       "\\item 2.70640202658251\n",
       "\\end{enumerate*}\n"
      ],
      "text/markdown": [
       "1. 1.30760999396443\n",
       "2. 1.11928282724693\n",
       "3. 1.38401801651344\n",
       "4. 1.35721410065889\n",
       "5. 2.04094412783161\n",
       "6. 2.41486161667854\n",
       "7. 1.22796856425703\n",
       "8. 2.81317769177258\n",
       "9. 1.1990445102565\n",
       "10. 2.70640202658251\n",
       "\n",
       "\n"
      ],
      "text/plain": [
       " [1] 1.307610 1.119283 1.384018 1.357214 2.040944 2.414862 1.227969 2.813178\n",
       " [9] 1.199045 2.706402"
      ]
     },
     "metadata": {},
     "output_type": "display_data"
    }
   ],
   "source": [
    "#uniform distribution\n",
    "runif(10,min=1,max=3)"
   ]
  },
  {
   "cell_type": "code",
   "execution_count": 23,
   "id": "8d14f90b",
   "metadata": {},
   "outputs": [
    {
     "data": {
      "text/html": [
       "0.486582880967408"
      ],
      "text/latex": [
       "0.486582880967408"
      ],
      "text/markdown": [
       "0.486582880967408"
      ],
      "text/plain": [
       "[1] 0.4865829"
      ]
     },
     "metadata": {},
     "output_type": "display_data"
    }
   ],
   "source": [
    "#exponential distribution\n",
    "pexp(2,rate=1/3)"
   ]
  },
  {
   "cell_type": "code",
   "execution_count": 24,
   "id": "c3a06574",
   "metadata": {},
   "outputs": [
    {
     "data": {
      "text/html": [
       "0.214917602311272"
      ],
      "text/latex": [
       "0.214917602311272"
      ],
      "text/markdown": [
       "0.214917602311272"
      ],
      "text/plain": [
       "[1] 0.2149176"
      ]
     },
     "metadata": {},
     "output_type": "display_data"
    }
   ],
   "source": [
    "#Normal distribution\n",
    "pnorm(84,mean=72,sd=15.2,lower.tail=FALSE)"
   ]
  },
  {
   "cell_type": "code",
   "execution_count": 25,
   "id": "479dae1f",
   "metadata": {},
   "outputs": [
    {
     "data": {
      "text/html": [
       "14.0671404493402"
      ],
      "text/latex": [
       "14.0671404493402"
      ],
      "text/markdown": [
       "14.0671404493402"
      ],
      "text/plain": [
       "[1] 14.06714"
      ]
     },
     "metadata": {},
     "output_type": "display_data"
    }
   ],
   "source": [
    "#chi-squared distribution\n",
    "qchisq(.95,df=7)"
   ]
  },
  {
   "cell_type": "code",
   "execution_count": 27,
   "id": "4edbcc88",
   "metadata": {},
   "outputs": [
    {
     "data": {
      "text/plain": [
       "\n",
       "\tOne Sample t-test\n",
       "\n",
       "data:  x1\n",
       "t = -1.6848, df = 11, p-value = 0.9399\n",
       "alternative hypothesis: true mean is greater than 15\n",
       "95 percent confidence interval:\n",
       " 13.62273      Inf\n",
       "sample estimates:\n",
       "mean of x \n",
       " 14.33333 \n"
      ]
     },
     "metadata": {},
     "output_type": "display_data"
    }
   ],
   "source": [
    "x1=c(14,14,16,13,12,17,15,14,15,13,15,14)\n",
    "t.test(x1,mu=15,alternative=\"greater\")"
   ]
  },
  {
   "cell_type": "code",
   "execution_count": 28,
   "id": "e977982f",
   "metadata": {},
   "outputs": [
    {
     "data": {
      "text/plain": [
       "\n",
       "\tWelch Two Sample t-test\n",
       "\n",
       "data:  boys and girls\n",
       "t = 0.89803, df = 5.7596, p-value = 0.4051\n",
       "alternative hypothesis: true difference in means is not equal to 0\n",
       "95 percent confidence interval:\n",
       " -4.381432  9.381432\n",
       "sample estimates:\n",
       "mean of x mean of y \n",
       "     10.5       8.0 \n"
      ]
     },
     "metadata": {},
     "output_type": "display_data"
    }
   ],
   "source": [
    "boys=c(14,8,7,13)\n",
    "girls=c(8,6,4,14)\n",
    "t.test(boys,girls,mu=0,conf=0.95,paired=FALSE)"
   ]
  },
  {
   "cell_type": "code",
   "execution_count": 29,
   "id": "a9d93723",
   "metadata": {},
   "outputs": [
    {
     "data": {
      "text/plain": [
       "\n",
       "\tPaired t-test\n",
       "\n",
       "data:  before and after\n",
       "t = 3.5973, df = 9, p-value = 0.005773\n",
       "alternative hypothesis: true difference in means is not equal to 0\n",
       "95 percent confidence interval:\n",
       " 0.6309462 2.7690538\n",
       "sample estimates:\n",
       "mean of the differences \n",
       "                    1.7 \n"
      ]
     },
     "metadata": {},
     "output_type": "display_data"
    }
   ],
   "source": [
    "before=c(9,10,7,5,7,5,9,6,8,7)\n",
    "after=c(7,6,5,4,4,6,7,5,5,7)\n",
    "t.test(before,after,mu=0,conf=0.95,paired=TRUE)"
   ]
  },
  {
   "cell_type": "code",
   "execution_count": 31,
   "id": "176743f8",
   "metadata": {},
   "outputs": [
    {
     "data": {
      "text/html": [
       "<table>\n",
       "<thead><tr><th scope=col>a</th><th scope=col>b</th><th scope=col>c</th></tr></thead>\n",
       "<tbody>\n",
       "\t<tr><td>2 </td><td>10</td><td>10</td></tr>\n",
       "\t<tr><td>3 </td><td> 8</td><td>13</td></tr>\n",
       "\t<tr><td>7 </td><td> 7</td><td>14</td></tr>\n",
       "\t<tr><td>2 </td><td> 5</td><td>13</td></tr>\n",
       "\t<tr><td>6 </td><td>10</td><td>15</td></tr>\n",
       "</tbody>\n",
       "</table>\n"
      ],
      "text/latex": [
       "\\begin{tabular}{r|lll}\n",
       " a & b & c\\\\\n",
       "\\hline\n",
       "\t 2  & 10 & 10\\\\\n",
       "\t 3  &  8 & 13\\\\\n",
       "\t 7  &  7 & 14\\\\\n",
       "\t 2  &  5 & 13\\\\\n",
       "\t 6  & 10 & 15\\\\\n",
       "\\end{tabular}\n"
      ],
      "text/markdown": [
       "\n",
       "| a | b | c |\n",
       "|---|---|---|\n",
       "| 2  | 10 | 10 |\n",
       "| 3  |  8 | 13 |\n",
       "| 7  |  7 | 14 |\n",
       "| 2  |  5 | 13 |\n",
       "| 6  | 10 | 15 |\n",
       "\n"
      ],
      "text/plain": [
       "  a b  c \n",
       "1 2 10 10\n",
       "2 3  8 13\n",
       "3 7  7 14\n",
       "4 2  5 13\n",
       "5 6 10 15"
      ]
     },
     "metadata": {},
     "output_type": "display_data"
    },
    {
     "data": {
      "text/html": [
       "<table>\n",
       "<thead><tr><th scope=col>values</th><th scope=col>ind</th></tr></thead>\n",
       "<tbody>\n",
       "\t<tr><td> 2</td><td>a </td></tr>\n",
       "\t<tr><td> 3</td><td>a </td></tr>\n",
       "\t<tr><td> 7</td><td>a </td></tr>\n",
       "\t<tr><td> 2</td><td>a </td></tr>\n",
       "\t<tr><td> 6</td><td>a </td></tr>\n",
       "\t<tr><td>10</td><td>b </td></tr>\n",
       "\t<tr><td> 8</td><td>b </td></tr>\n",
       "\t<tr><td> 7</td><td>b </td></tr>\n",
       "\t<tr><td> 5</td><td>b </td></tr>\n",
       "\t<tr><td>10</td><td>b </td></tr>\n",
       "\t<tr><td>10</td><td>c </td></tr>\n",
       "\t<tr><td>13</td><td>c </td></tr>\n",
       "\t<tr><td>14</td><td>c </td></tr>\n",
       "\t<tr><td>13</td><td>c </td></tr>\n",
       "\t<tr><td>15</td><td>c </td></tr>\n",
       "</tbody>\n",
       "</table>\n"
      ],
      "text/latex": [
       "\\begin{tabular}{r|ll}\n",
       " values & ind\\\\\n",
       "\\hline\n",
       "\t  2 & a \\\\\n",
       "\t  3 & a \\\\\n",
       "\t  7 & a \\\\\n",
       "\t  2 & a \\\\\n",
       "\t  6 & a \\\\\n",
       "\t 10 & b \\\\\n",
       "\t  8 & b \\\\\n",
       "\t  7 & b \\\\\n",
       "\t  5 & b \\\\\n",
       "\t 10 & b \\\\\n",
       "\t 10 & c \\\\\n",
       "\t 13 & c \\\\\n",
       "\t 14 & c \\\\\n",
       "\t 13 & c \\\\\n",
       "\t 15 & c \\\\\n",
       "\\end{tabular}\n"
      ],
      "text/markdown": [
       "\n",
       "| values | ind |\n",
       "|---|---|\n",
       "|  2 | a  |\n",
       "|  3 | a  |\n",
       "|  7 | a  |\n",
       "|  2 | a  |\n",
       "|  6 | a  |\n",
       "| 10 | b  |\n",
       "|  8 | b  |\n",
       "|  7 | b  |\n",
       "|  5 | b  |\n",
       "| 10 | b  |\n",
       "| 10 | c  |\n",
       "| 13 | c  |\n",
       "| 14 | c  |\n",
       "| 13 | c  |\n",
       "| 15 | c  |\n",
       "\n"
      ],
      "text/plain": [
       "   values ind\n",
       "1   2     a  \n",
       "2   3     a  \n",
       "3   7     a  \n",
       "4   2     a  \n",
       "5   6     a  \n",
       "6  10     b  \n",
       "7   8     b  \n",
       "8   7     b  \n",
       "9   5     b  \n",
       "10 10     b  \n",
       "11 10     c  \n",
       "12 13     c  \n",
       "13 14     c  \n",
       "14 13     c  \n",
       "15 15     c  "
      ]
     },
     "metadata": {},
     "output_type": "display_data"
    }
   ],
   "source": [
    "a=c(2,3,7,2,6)\n",
    "b=c(10,8,7,5,10)\n",
    "c=c(10,13,14,13,15)\n",
    "df=data.frame(cbind(a,b,c))\n",
    "df\n",
    "sg=stack(df)\n",
    "sg"
   ]
  },
  {
   "cell_type": "code",
   "execution_count": 32,
   "id": "1d22ff52",
   "metadata": {},
   "outputs": [
    {
     "data": {
      "text/plain": [
       "Call:\n",
       "   aov(formula = values ~ ind, data = sg)\n",
       "\n",
       "Terms:\n",
       "                     ind Residuals\n",
       "Sum of Squares  203.3333   54.0000\n",
       "Deg. of Freedom        2        12\n",
       "\n",
       "Residual standard error: 2.12132\n",
       "Estimated effects may be unbalanced"
      ]
     },
     "metadata": {},
     "output_type": "display_data"
    },
    {
     "data": {
      "text/plain": [
       "            Df Sum Sq Mean Sq F value   Pr(>F)    \n",
       "ind          2  203.3   101.7   22.59 8.54e-05 ***\n",
       "Residuals   12   54.0     4.5                     \n",
       "---\n",
       "Signif. codes:  0 '***' 0.001 '**' 0.01 '*' 0.05 '.' 0.1 ' ' 1"
      ]
     },
     "metadata": {},
     "output_type": "display_data"
    }
   ],
   "source": [
    "anovatest=aov(values~ind,data=sg)\n",
    "anovatest\n",
    "summary(anovatest)"
   ]
  },
  {
   "cell_type": "code",
   "execution_count": 60,
   "id": "7cd86dab",
   "metadata": {},
   "outputs": [
    {
     "data": {
      "text/html": [
       "<ol class=list-inline>\n",
       "\t<li>2</li>\n",
       "\t<li>4</li>\n",
       "</ol>\n"
      ],
      "text/latex": [
       "\\begin{enumerate*}\n",
       "\\item 2\n",
       "\\item 4\n",
       "\\end{enumerate*}\n"
      ],
      "text/markdown": [
       "1. 2\n",
       "2. 4\n",
       "\n",
       "\n"
      ],
      "text/plain": [
       "[1] 2 4"
      ]
     },
     "metadata": {},
     "output_type": "display_data"
    },
    {
     "data": {
      "text/html": [
       "<table>\n",
       "<thead><tr><th scope=col>x</th><th scope=col>y</th></tr></thead>\n",
       "<tbody>\n",
       "\t<tr><td>169.0</td><td>58.00</td></tr>\n",
       "\t<tr><td>183.5</td><td>72.25</td></tr>\n",
       "</tbody>\n",
       "</table>\n"
      ],
      "text/latex": [
       "\\begin{tabular}{r|ll}\n",
       " x & y\\\\\n",
       "\\hline\n",
       "\t 169.0 & 58.00\\\\\n",
       "\t 183.5 & 72.25\\\\\n",
       "\\end{tabular}\n"
      ],
      "text/markdown": [
       "\n",
       "| x | y |\n",
       "|---|---|\n",
       "| 169.0 | 58.00 |\n",
       "| 183.5 | 72.25 |\n",
       "\n"
      ],
      "text/plain": [
       "  x     y    \n",
       "1 169.0 58.00\n",
       "2 183.5 72.25"
      ]
     },
     "metadata": {},
     "output_type": "display_data"
    },
    {
     "data": {
      "text/html": [
       "<ol class=list-inline>\n",
       "\t<li>2</li>\n",
       "\t<li>1</li>\n",
       "\t<li>1</li>\n",
       "\t<li>2</li>\n",
       "\t<li>2</li>\n",
       "\t<li>2</li>\n",
       "</ol>\n"
      ],
      "text/latex": [
       "\\begin{enumerate*}\n",
       "\\item 2\n",
       "\\item 1\n",
       "\\item 1\n",
       "\\item 2\n",
       "\\item 2\n",
       "\\item 2\n",
       "\\end{enumerate*}\n"
      ],
      "text/markdown": [
       "1. 2\n",
       "2. 1\n",
       "3. 1\n",
       "4. 2\n",
       "5. 2\n",
       "6. 2\n",
       "\n",
       "\n"
      ],
      "text/plain": [
       "[1] 2 1 1 2 2 2"
      ]
     },
     "metadata": {},
     "output_type": "display_data"
    }
   ],
   "source": [
    "x<-c(185,170,168,179,182,188)\n",
    "y<-c(72,56,60,68,72,77)\n",
    "df<-data.frame(cbind(x,y))\n",
    "kmf<-kmeans(df,2)\n",
    "kmf$size\n",
    "kmf$centers\n",
    "kmf$cluster\n",
    "c1<-cbind(kmf$cluster)\n",
    "library(cluster)"
   ]
  },
  {
   "cell_type": "code",
   "execution_count": 61,
   "id": "4bc133f2",
   "metadata": {},
   "outputs": [
    {
     "data": {
      "image/png": "[encoded data removed]",
      "text/plain": [
       "Plot with title \"Cluster\""
      ]
     },
     "metadata": {},
     "output_type": "display_data"
    }
   ],
   "source": [
    "clusplot(df,\n",
    "         kmf$cluster,\n",
    "         color = TRUE,\n",
    "         labels = 2,\n",
    "         span = TRUE,\n",
    "         main = \"Cluster\",\n",
    "         xlab = 'x',\n",
    "         ylab = 'y')"
   ]
  },
  {
   "cell_type": "markdown",
   "id": "f989ef78",
   "metadata": {},
   "source": []
  },
  {
   "cell_type": "code",
   "execution_count": 2,
   "id": "bb3f8d16",
   "metadata": {},
   "outputs": [],
   "source": [
    "x<-c(185,170,168,179,182,188)\n",
    "df=data.frame(x)"
   ]
  },
  {
   "cell_type": "code",
   "execution_count": 7,
   "id": "015a31d5",
   "metadata": {},
   "outputs": [
    {
     "ename": "ERROR",
     "evalue": "Error in df(df$x > 180): argument \"df1\" is missing, with no default\n",
     "output_type": "error",
     "traceback": [
      "Error in df(df$x > 180): argument \"df1\" is missing, with no default\nTraceback:\n",
      "1. df(df$x > 180)"
     ]
    }
   ],
   "source": [
    "df(df$x > 180)"
   ]
  },
  {
   "cell_type": "code",
   "execution_count": 5,
   "id": "69488f09",
   "metadata": {},
   "outputs": [
    {
     "data": {
      "text/html": [
       "<table>\n",
       "<thead><tr><th scope=col>x</th></tr></thead>\n",
       "<tbody>\n",
       "\t<tr><td>185</td></tr>\n",
       "\t<tr><td>170</td></tr>\n",
       "\t<tr><td>168</td></tr>\n",
       "\t<tr><td>179</td></tr>\n",
       "\t<tr><td>182</td></tr>\n",
       "\t<tr><td>188</td></tr>\n",
       "</tbody>\n",
       "</table>\n"
      ],
      "text/latex": [
       "\\begin{tabular}{r|l}\n",
       " x\\\\\n",
       "\\hline\n",
       "\t 185\\\\\n",
       "\t 170\\\\\n",
       "\t 168\\\\\n",
       "\t 179\\\\\n",
       "\t 182\\\\\n",
       "\t 188\\\\\n",
       "\\end{tabular}\n"
      ],
      "text/markdown": [
       "\n",
       "| x |\n",
       "|---|\n",
       "| 185 |\n",
       "| 170 |\n",
       "| 168 |\n",
       "| 179 |\n",
       "| 182 |\n",
       "| 188 |\n",
       "\n"
      ],
      "text/plain": [
       "  x  \n",
       "1 185\n",
       "2 170\n",
       "3 168\n",
       "4 179\n",
       "5 182\n",
       "6 188"
      ]
     },
     "metadata": {},
     "output_type": "display_data"
    }
   ],
   "source": [
    "df"
   ]
  },
  {
   "cell_type": "code",
   "execution_count": null,
   "id": "e3fab325",
   "metadata": {},
   "outputs": [],
   "source": []
  }
 ],
 "metadata": {
  "kernelspec": {
   "display_name": "R",
   "language": "R",
   "name": "ir"
  },
  "language_info": {
   "codemirror_mode": "r",
   "file_extension": ".r",
   "mimetype": "text/x-r-source",
   "name": "R",
   "pygments_lexer": "r",
   "version": "3.6.1"
  }
 },
 "nbformat": 4,
 "nbformat_minor": 5
}
