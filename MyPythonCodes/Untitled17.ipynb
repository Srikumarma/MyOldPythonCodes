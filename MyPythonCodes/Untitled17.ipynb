{
 "cells": [
  {
   "cell_type": "code",
   "execution_count": 22,
   "metadata": {},
   "outputs": [
    {
     "name": "stdout",
     "output_type": "stream",
     "text": [
      "40\n",
      "20\n",
      "2\n",
      "10\n",
      "0\n"
     ]
    }
   ],
   "source": [
    "import re\n",
    "products='''pen-2\n",
    "pencil-2\n",
    "paper-2\n",
    "eraser-2\n",
    "'''\n",
    "a=re.findall('pen-\\d',products)\n",
    "b=re.findall('pencil-\\d',products)\n",
    "c=re.findall('paper-\\d',products)\n",
    "d=re.findall('eraser-\\d',products)\n",
    "\n",
    "p1=0\n",
    "p2=0\n",
    "p3=0\n",
    "p4=0\n",
    "\n",
    "p=p1+p2+p3+p4\n",
    "for i in a:\n",
    "    k=re.findall('\\d+',i)\n",
    "    for j in k:\n",
    "        p1=p1+int(j)*20\n",
    "print(p1)        \n",
    "for i in b:\n",
    "    k=re.findall('\\d+',i)\n",
    "    for j in k:\n",
    "        p2=p2+int(j)*10\n",
    "print(p2)        \n",
    "for i in c:\n",
    "    k=re.findall('\\d+',i)\n",
    "    for j in k:\n",
    "        p3=p3+int(j)*1\n",
    "print(p3)        \n",
    "for i in d:\n",
    "    k=re.findall('\\d+',i)\n",
    "    for j in k:\n",
    "        p4=p4+int(j)*5\n",
    "print(p4)\n",
    "\n",
    "print(p)"
   ]
  },
  {
   "cell_type": "code",
   "execution_count": null,
   "metadata": {},
   "outputs": [],
   "source": []
  }
 ],
 "metadata": {
  "kernelspec": {
   "display_name": "Python 3",
   "language": "python",
   "name": "python3"
  },
  "language_info": {
   "codemirror_mode": {
    "name": "ipython",
    "version": 3
   },
   "file_extension": ".py",
   "mimetype": "text/x-python",
   "name": "python",
   "nbconvert_exporter": "python",
   "pygments_lexer": "ipython3",
   "version": "3.8.3"
  }
 },
 "nbformat": 4,
 "nbformat_minor": 4
}
