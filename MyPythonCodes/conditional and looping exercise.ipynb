{
 "cells": [
  {
   "cell_type": "code",
   "execution_count": 4,
   "id": "dc6888b6",
   "metadata": {},
   "outputs": [],
   "source": [
    "#calculator using switch\n",
    "x=10\n",
    "y=5"
   ]
  },
  {
   "cell_type": "code",
   "execution_count": 12,
   "id": "3e5c3427",
   "metadata": {},
   "outputs": [
    {
     "name": "stdout",
     "output_type": "stream",
     "text": [
      "Enter choice[1/2/3/4]: 4\n",
      "[1] \"5 / 10 = 0.5\"\n"
     ]
    }
   ],
   "source": [
    "choice = as.integer(readline(\"Enter choice[1/2/3/4]: \"))\n",
    "num1 = 5\n",
    "num2 = 10\n",
    "operator = switch(choice,\"+\",\"-\",\"*\",\"/\")\n",
    "result = switch(choice, num1+num2, num1-num2, num1*num2, num1/num2)\n",
    "print(paste(num1, operator, num2, \"=\", result))"
   ]
  },
  {
   "cell_type": "code",
   "execution_count": null,
   "id": "2c77d116",
   "metadata": {},
   "outputs": [],
   "source": []
  }
 ],
 "metadata": {
  "kernelspec": {
   "display_name": "R",
   "language": "R",
   "name": "ir"
  },
  "language_info": {
   "codemirror_mode": "r",
   "file_extension": ".r",
   "mimetype": "text/x-r-source",
   "name": "R",
   "pygments_lexer": "r",
   "version": "3.6.1"
  }
 },
 "nbformat": 4,
 "nbformat_minor": 5
}
