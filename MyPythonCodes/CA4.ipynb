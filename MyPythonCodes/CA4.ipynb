{
 "cells": [
  {
   "cell_type": "markdown",
   "id": "704cb2ca",
   "metadata": {},
   "source": [
    "# To predict the avegrage per person income of countries using the appropriate algorithm"
   ]
  },
  {
   "cell_type": "code",
   "execution_count": 1,
   "id": "90d4cbe1",
   "metadata": {},
   "outputs": [],
   "source": [
    "country=read.csv('Country-data.csv')"
   ]
  },
  {
   "cell_type": "code",
   "execution_count": 2,
   "id": "420993df",
   "metadata": {},
   "outputs": [
    {
     "data": {
      "text/plain": [
       "                country      child_mort        exports            health      \n",
       " Afghanistan        :  1   Min.   :  2.60   Min.   :  0.109   Min.   : 1.810  \n",
       " Albania            :  1   1st Qu.:  8.25   1st Qu.: 23.800   1st Qu.: 4.920  \n",
       " Algeria            :  1   Median : 19.30   Median : 35.000   Median : 6.320  \n",
       " Angola             :  1   Mean   : 38.27   Mean   : 41.109   Mean   : 6.816  \n",
       " Antigua and Barbuda:  1   3rd Qu.: 62.10   3rd Qu.: 51.350   3rd Qu.: 8.600  \n",
       " Argentina          :  1   Max.   :208.00   Max.   :200.000   Max.   :17.900  \n",
       " (Other)            :161                                                      \n",
       "    imports             income         inflation         life_expec   \n",
       " Min.   :  0.0659   Min.   :   609   Min.   : -4.210   Min.   :32.10  \n",
       " 1st Qu.: 30.2000   1st Qu.:  3355   1st Qu.:  1.810   1st Qu.:65.30  \n",
       " Median : 43.3000   Median :  9960   Median :  5.390   Median :73.10  \n",
       " Mean   : 46.8902   Mean   : 17145   Mean   :  7.782   Mean   :70.56  \n",
       " 3rd Qu.: 58.7500   3rd Qu.: 22800   3rd Qu.: 10.750   3rd Qu.:76.80  \n",
       " Max.   :174.0000   Max.   :125000   Max.   :104.000   Max.   :82.80  \n",
       "                                                                      \n",
       "   total_fer          gdpp       \n",
       " Min.   :1.150   Min.   :   231  \n",
       " 1st Qu.:1.795   1st Qu.:  1330  \n",
       " Median :2.410   Median :  4660  \n",
       " Mean   :2.948   Mean   : 12964  \n",
       " 3rd Qu.:3.880   3rd Qu.: 14050  \n",
       " Max.   :7.490   Max.   :105000  \n",
       "                                 "
      ]
     },
     "metadata": {},
     "output_type": "display_data"
    }
   ],
   "source": [
    "summary(country)"
   ]
  },
  {
   "cell_type": "code",
   "execution_count": 3,
   "id": "4437bce8",
   "metadata": {},
   "outputs": [
    {
     "data": {
      "text/html": [
       "167"
      ],
      "text/latex": [
       "167"
      ],
      "text/markdown": [
       "167"
      ],
      "text/plain": [
       "[1] 167"
      ]
     },
     "metadata": {},
     "output_type": "display_data"
    }
   ],
   "source": [
    "# number of Rows\n",
    "NROW(country)"
   ]
  },
  {
   "cell_type": "code",
   "execution_count": 4,
   "id": "00207ab1",
   "metadata": {},
   "outputs": [
    {
     "data": {
      "text/html": [
       "10"
      ],
      "text/latex": [
       "10"
      ],
      "text/markdown": [
       "10"
      ],
      "text/plain": [
       "[1] 10"
      ]
     },
     "metadata": {},
     "output_type": "display_data"
    }
   ],
   "source": [
    "# number of Columns\n",
    "NCOL(country)"
   ]
  },
  {
   "cell_type": "code",
   "execution_count": 5,
   "id": "59ed0f3b",
   "metadata": {},
   "outputs": [
    {
     "data": {
      "text/html": [
       "<ol class=list-inline>\n",
       "\t<li>'country'</li>\n",
       "\t<li>'child_mort'</li>\n",
       "\t<li>'exports'</li>\n",
       "\t<li>'health'</li>\n",
       "\t<li>'imports'</li>\n",
       "\t<li>'income'</li>\n",
       "\t<li>'inflation'</li>\n",
       "\t<li>'life_expec'</li>\n",
       "\t<li>'total_fer'</li>\n",
       "\t<li>'gdpp'</li>\n",
       "</ol>\n"
      ],
      "text/latex": [
       "\\begin{enumerate*}\n",
       "\\item 'country'\n",
       "\\item 'child\\_mort'\n",
       "\\item 'exports'\n",
       "\\item 'health'\n",
       "\\item 'imports'\n",
       "\\item 'income'\n",
       "\\item 'inflation'\n",
       "\\item 'life\\_expec'\n",
       "\\item 'total\\_fer'\n",
       "\\item 'gdpp'\n",
       "\\end{enumerate*}\n"
      ],
      "text/markdown": [
       "1. 'country'\n",
       "2. 'child_mort'\n",
       "3. 'exports'\n",
       "4. 'health'\n",
       "5. 'imports'\n",
       "6. 'income'\n",
       "7. 'inflation'\n",
       "8. 'life_expec'\n",
       "9. 'total_fer'\n",
       "10. 'gdpp'\n",
       "\n",
       "\n"
      ],
      "text/plain": [
       " [1] \"country\"    \"child_mort\" \"exports\"    \"health\"     \"imports\"   \n",
       " [6] \"income\"     \"inflation\"  \"life_expec\" \"total_fer\"  \"gdpp\"      "
      ]
     },
     "metadata": {},
     "output_type": "display_data"
    }
   ],
   "source": [
    "# name of the Columns\n",
    "colnames(country)"
   ]
  },
  {
   "cell_type": "code",
   "execution_count": 6,
   "id": "315b5c15",
   "metadata": {},
   "outputs": [
    {
     "data": {
      "text/html": [
       "FALSE"
      ],
      "text/latex": [
       "FALSE"
      ],
      "text/markdown": [
       "FALSE"
      ],
      "text/plain": [
       "[1] FALSE"
      ]
     },
     "metadata": {},
     "output_type": "display_data"
    }
   ],
   "source": [
    "#check if the data set has any empty values\n",
    "any(is.na(country))"
   ]
  },
  {
   "cell_type": "code",
   "execution_count": 7,
   "id": "03dc301a",
   "metadata": {},
   "outputs": [
    {
     "data": {
      "text/html": [
       "<table>\n",
       "<thead><tr><th scope=col>country</th><th scope=col>exports</th><th scope=col>imports</th><th scope=col>income</th><th scope=col>inflation</th><th scope=col>gdpp</th></tr></thead>\n",
       "<tbody>\n",
       "\t<tr><td>Afghanistan           </td><td>10.00                 </td><td>44.9                  </td><td> 1610                 </td><td> 9.440                </td><td>  553                 </td></tr>\n",
       "\t<tr><td>Albania               </td><td>28.00                 </td><td>48.6                  </td><td> 9930                 </td><td> 4.490                </td><td> 4090                 </td></tr>\n",
       "\t<tr><td>Algeria               </td><td>38.40                 </td><td>31.4                  </td><td>12900                 </td><td>16.100                </td><td> 4460                 </td></tr>\n",
       "\t<tr><td>Angola                </td><td>62.30                 </td><td>42.9                  </td><td> 5900                 </td><td>22.400                </td><td> 3530                 </td></tr>\n",
       "\t<tr><td>Antigua and Barbuda   </td><td>45.50                 </td><td>58.9                  </td><td>19100                 </td><td> 1.440                </td><td>12200                 </td></tr>\n",
       "\t<tr><td>Argentina             </td><td>18.90                 </td><td>16.0                  </td><td>18700                 </td><td>20.900                </td><td>10300                 </td></tr>\n",
       "\t<tr><td>Armenia               </td><td>20.80                 </td><td>45.3                  </td><td> 6700                 </td><td> 7.770                </td><td> 3220                 </td></tr>\n",
       "\t<tr><td>Australia             </td><td>19.80                 </td><td>20.9                  </td><td>41400                 </td><td> 1.160                </td><td>51900                 </td></tr>\n",
       "\t<tr><td>Austria               </td><td>51.30                 </td><td>47.8                  </td><td>43200                 </td><td> 0.873                </td><td>46900                 </td></tr>\n",
       "\t<tr><td>Azerbaijan            </td><td>54.30                 </td><td>20.7                  </td><td>16000                 </td><td>13.800                </td><td> 5840                 </td></tr>\n",
       "\t<tr><td>Bahamas               </td><td>35.00                 </td><td>43.7                  </td><td>22900                 </td><td>-0.393                </td><td>28000                 </td></tr>\n",
       "\t<tr><td>Bahrain               </td><td>69.50                 </td><td>50.9                  </td><td>41100                 </td><td> 7.440                </td><td>20700                 </td></tr>\n",
       "\t<tr><td>Bangladesh            </td><td>16.00                 </td><td>21.8                  </td><td> 2440                 </td><td> 7.140                </td><td>  758                 </td></tr>\n",
       "\t<tr><td>Barbados              </td><td>39.50                 </td><td>48.7                  </td><td>15300                 </td><td> 0.321                </td><td>16000                 </td></tr>\n",
       "\t<tr><td>Belarus               </td><td>51.40                 </td><td>64.5                  </td><td>16200                 </td><td>15.100                </td><td> 6030                 </td></tr>\n",
       "\t<tr><td>Belgium               </td><td>76.40                 </td><td>74.7                  </td><td>41100                 </td><td> 1.880                </td><td>44400                 </td></tr>\n",
       "\t<tr><td>Belize                </td><td>58.20                 </td><td>57.5                  </td><td> 7880                 </td><td> 1.140                </td><td> 4340                 </td></tr>\n",
       "\t<tr><td>Benin                 </td><td>23.80                 </td><td>37.2                  </td><td> 1820                 </td><td> 0.885                </td><td>  758                 </td></tr>\n",
       "\t<tr><td>Bhutan                </td><td>42.50                 </td><td>70.7                  </td><td> 6420                 </td><td> 5.990                </td><td> 2180                 </td></tr>\n",
       "\t<tr><td>Bolivia               </td><td>41.20                 </td><td>34.3                  </td><td> 5410                 </td><td> 8.780                </td><td> 1980                 </td></tr>\n",
       "\t<tr><td>Bosnia and Herzegovina</td><td>29.70                 </td><td>51.3                  </td><td> 9720                 </td><td> 1.400                </td><td> 4610                 </td></tr>\n",
       "\t<tr><td>Botswana              </td><td>43.60                 </td><td>51.3                  </td><td>13300                 </td><td> 8.920                </td><td> 6350                 </td></tr>\n",
       "\t<tr><td>Brazil                </td><td>10.70                 </td><td>11.8                  </td><td>14500                 </td><td> 8.410                </td><td>11200                 </td></tr>\n",
       "\t<tr><td>Brunei                </td><td>67.40                 </td><td>28.0                  </td><td>80600                 </td><td>16.700                </td><td>35300                 </td></tr>\n",
       "\t<tr><td>Bulgaria              </td><td>50.20                 </td><td>53.0                  </td><td>15300                 </td><td> 1.110                </td><td> 6840                 </td></tr>\n",
       "\t<tr><td>Burkina Faso          </td><td>19.20                 </td><td>29.6                  </td><td> 1430                 </td><td> 6.810                </td><td>  575                 </td></tr>\n",
       "\t<tr><td>Burundi               </td><td> 8.92                 </td><td>39.2                  </td><td>  764                 </td><td>12.300                </td><td>  231                 </td></tr>\n",
       "\t<tr><td>Cambodia              </td><td>54.10                 </td><td>59.5                  </td><td> 2520                 </td><td> 3.120                </td><td>  786                 </td></tr>\n",
       "\t<tr><td>Cameroon              </td><td>22.20                 </td><td>27.0                  </td><td> 2660                 </td><td> 1.910                </td><td> 1310                 </td></tr>\n",
       "\t<tr><td>Canada                </td><td>29.10                 </td><td>31.0                  </td><td>40700                 </td><td> 2.870                </td><td>47400                 </td></tr>\n",
       "\t<tr><td>...</td><td>...</td><td>...</td><td>...</td><td>...</td><td>...</td></tr>\n",
       "\t<tr><td>South Africa                  </td><td>28.6                          </td><td>27.4                          </td><td>12000                         </td><td> 6.350                        </td><td> 7280                         </td></tr>\n",
       "\t<tr><td>South Korea                   </td><td>49.4                          </td><td>46.2                          </td><td>30400                         </td><td> 3.160                        </td><td>22100                         </td></tr>\n",
       "\t<tr><td>Spain                         </td><td>25.5                          </td><td>26.8                          </td><td>32500                         </td><td> 0.160                        </td><td>30700                         </td></tr>\n",
       "\t<tr><td>Sri Lanka                     </td><td>19.6                          </td><td>26.8                          </td><td> 8560                         </td><td>22.800                        </td><td> 2810                         </td></tr>\n",
       "\t<tr><td>St. Vincent and the Grenadines</td><td>26.9                          </td><td>57.1                          </td><td> 9920                         </td><td> 4.440                        </td><td> 6230                         </td></tr>\n",
       "\t<tr><td>Sudan                         </td><td>19.7                          </td><td>17.2                          </td><td> 3370                         </td><td>19.600                        </td><td> 1480                         </td></tr>\n",
       "\t<tr><td>Suriname                      </td><td>52.5                          </td><td>38.4                          </td><td>14200                         </td><td> 7.200                        </td><td> 8300                         </td></tr>\n",
       "\t<tr><td>Sweden                        </td><td>46.2                          </td><td>40.7                          </td><td>42900                         </td><td> 0.991                        </td><td>52100                         </td></tr>\n",
       "\t<tr><td>Switzerland                   </td><td>64.0                          </td><td>53.3                          </td><td>55500                         </td><td> 0.317                        </td><td>74600                         </td></tr>\n",
       "\t<tr><td>Tajikistan                    </td><td>14.9                          </td><td>58.6                          </td><td> 2110                         </td><td>12.500                        </td><td>  738                         </td></tr>\n",
       "\t<tr><td>Tanzania                      </td><td>18.7                          </td><td>29.1                          </td><td> 2090                         </td><td> 9.250                        </td><td>  702                         </td></tr>\n",
       "\t<tr><td>Thailand                      </td><td>66.5                          </td><td>60.8                          </td><td>13500                         </td><td> 4.080                        </td><td> 5080                         </td></tr>\n",
       "\t<tr><td>Timor-Leste                   </td><td> 2.2                          </td><td>27.8                          </td><td> 1850                         </td><td>26.500                        </td><td> 3600                         </td></tr>\n",
       "\t<tr><td>Togo                          </td><td>40.2                          </td><td>57.3                          </td><td> 1210                         </td><td> 1.180                        </td><td>  488                         </td></tr>\n",
       "\t<tr><td>Tonga                         </td><td>12.4                          </td><td>60.3                          </td><td> 4980                         </td><td> 3.680                        </td><td> 3550                         </td></tr>\n",
       "\t<tr><td>Tunisia                       </td><td>50.5                          </td><td>55.3                          </td><td>10400                         </td><td> 3.820                        </td><td> 4140                         </td></tr>\n",
       "\t<tr><td>Turkey                        </td><td>20.4                          </td><td>25.5                          </td><td>18000                         </td><td> 7.010                        </td><td>10700                         </td></tr>\n",
       "\t<tr><td>Turkmenistan                  </td><td>76.3                          </td><td>44.5                          </td><td> 9940                         </td><td> 2.310                        </td><td> 4440                         </td></tr>\n",
       "\t<tr><td>Uganda                        </td><td>17.1                          </td><td>28.6                          </td><td> 1540                         </td><td>10.600                        </td><td>  595                         </td></tr>\n",
       "\t<tr><td>Ukraine                       </td><td>47.1                          </td><td>51.1                          </td><td> 7820                         </td><td>13.400                        </td><td> 2970                         </td></tr>\n",
       "\t<tr><td>United Arab Emirates          </td><td>77.7                          </td><td>63.6                          </td><td>57600                         </td><td>12.500                        </td><td>35000                         </td></tr>\n",
       "\t<tr><td>United Kingdom                </td><td>28.2                          </td><td>30.8                          </td><td>36200                         </td><td> 1.570                        </td><td>38900                         </td></tr>\n",
       "\t<tr><td>United States                 </td><td>12.4                          </td><td>15.8                          </td><td>49400                         </td><td> 1.220                        </td><td>48400                         </td></tr>\n",
       "\t<tr><td>Uruguay                       </td><td>26.3                          </td><td>25.4                          </td><td>17100                         </td><td> 4.910                        </td><td>11900                         </td></tr>\n",
       "\t<tr><td>Uzbekistan                    </td><td>31.7                          </td><td>28.5                          </td><td> 4240                         </td><td>16.500                        </td><td> 1380                         </td></tr>\n",
       "\t<tr><td>Vanuatu                       </td><td>46.6                          </td><td>52.7                          </td><td> 2950                         </td><td> 2.620                        </td><td> 2970                         </td></tr>\n",
       "\t<tr><td>Venezuela                     </td><td>28.5                          </td><td>17.6                          </td><td>16500                         </td><td>45.900                        </td><td>13500                         </td></tr>\n",
       "\t<tr><td>Vietnam                       </td><td>72.0                          </td><td>80.2                          </td><td> 4490                         </td><td>12.100                        </td><td> 1310                         </td></tr>\n",
       "\t<tr><td>Yemen                         </td><td>30.0                          </td><td>34.4                          </td><td> 4480                         </td><td>23.600                        </td><td> 1310                         </td></tr>\n",
       "\t<tr><td>Zambia                        </td><td>37.0                          </td><td>30.9                          </td><td> 3280                         </td><td>14.000                        </td><td> 1460                         </td></tr>\n",
       "</tbody>\n",
       "</table>\n"
      ],
      "text/latex": [
       "\\begin{tabular}{r|llllll}\n",
       " country & exports & imports & income & inflation & gdpp\\\\\n",
       "\\hline\n",
       "\t Afghanistan            & 10.00                  & 44.9                   &  1610                  &  9.440                 &   553                 \\\\\n",
       "\t Albania                & 28.00                  & 48.6                   &  9930                  &  4.490                 &  4090                 \\\\\n",
       "\t Algeria                & 38.40                  & 31.4                   & 12900                  & 16.100                 &  4460                 \\\\\n",
       "\t Angola                 & 62.30                  & 42.9                   &  5900                  & 22.400                 &  3530                 \\\\\n",
       "\t Antigua and Barbuda    & 45.50                  & 58.9                   & 19100                  &  1.440                 & 12200                 \\\\\n",
       "\t Argentina              & 18.90                  & 16.0                   & 18700                  & 20.900                 & 10300                 \\\\\n",
       "\t Armenia                & 20.80                  & 45.3                   &  6700                  &  7.770                 &  3220                 \\\\\n",
       "\t Australia              & 19.80                  & 20.9                   & 41400                  &  1.160                 & 51900                 \\\\\n",
       "\t Austria                & 51.30                  & 47.8                   & 43200                  &  0.873                 & 46900                 \\\\\n",
       "\t Azerbaijan             & 54.30                  & 20.7                   & 16000                  & 13.800                 &  5840                 \\\\\n",
       "\t Bahamas                & 35.00                  & 43.7                   & 22900                  & -0.393                 & 28000                 \\\\\n",
       "\t Bahrain                & 69.50                  & 50.9                   & 41100                  &  7.440                 & 20700                 \\\\\n",
       "\t Bangladesh             & 16.00                  & 21.8                   &  2440                  &  7.140                 &   758                 \\\\\n",
       "\t Barbados               & 39.50                  & 48.7                   & 15300                  &  0.321                 & 16000                 \\\\\n",
       "\t Belarus                & 51.40                  & 64.5                   & 16200                  & 15.100                 &  6030                 \\\\\n",
       "\t Belgium                & 76.40                  & 74.7                   & 41100                  &  1.880                 & 44400                 \\\\\n",
       "\t Belize                 & 58.20                  & 57.5                   &  7880                  &  1.140                 &  4340                 \\\\\n",
       "\t Benin                  & 23.80                  & 37.2                   &  1820                  &  0.885                 &   758                 \\\\\n",
       "\t Bhutan                 & 42.50                  & 70.7                   &  6420                  &  5.990                 &  2180                 \\\\\n",
       "\t Bolivia                & 41.20                  & 34.3                   &  5410                  &  8.780                 &  1980                 \\\\\n",
       "\t Bosnia and Herzegovina & 29.70                  & 51.3                   &  9720                  &  1.400                 &  4610                 \\\\\n",
       "\t Botswana               & 43.60                  & 51.3                   & 13300                  &  8.920                 &  6350                 \\\\\n",
       "\t Brazil                 & 10.70                  & 11.8                   & 14500                  &  8.410                 & 11200                 \\\\\n",
       "\t Brunei                 & 67.40                  & 28.0                   & 80600                  & 16.700                 & 35300                 \\\\\n",
       "\t Bulgaria               & 50.20                  & 53.0                   & 15300                  &  1.110                 &  6840                 \\\\\n",
       "\t Burkina Faso           & 19.20                  & 29.6                   &  1430                  &  6.810                 &   575                 \\\\\n",
       "\t Burundi                &  8.92                  & 39.2                   &   764                  & 12.300                 &   231                 \\\\\n",
       "\t Cambodia               & 54.10                  & 59.5                   &  2520                  &  3.120                 &   786                 \\\\\n",
       "\t Cameroon               & 22.20                  & 27.0                   &  2660                  &  1.910                 &  1310                 \\\\\n",
       "\t Canada                 & 29.10                  & 31.0                   & 40700                  &  2.870                 & 47400                 \\\\\n",
       "\t ... & ... & ... & ... & ... & ...\\\\\n",
       "\t South Africa                   & 28.6                           & 27.4                           & 12000                          &  6.350                         &  7280                         \\\\\n",
       "\t South Korea                    & 49.4                           & 46.2                           & 30400                          &  3.160                         & 22100                         \\\\\n",
       "\t Spain                          & 25.5                           & 26.8                           & 32500                          &  0.160                         & 30700                         \\\\\n",
       "\t Sri Lanka                      & 19.6                           & 26.8                           &  8560                          & 22.800                         &  2810                         \\\\\n",
       "\t St. Vincent and the Grenadines & 26.9                           & 57.1                           &  9920                          &  4.440                         &  6230                         \\\\\n",
       "\t Sudan                          & 19.7                           & 17.2                           &  3370                          & 19.600                         &  1480                         \\\\\n",
       "\t Suriname                       & 52.5                           & 38.4                           & 14200                          &  7.200                         &  8300                         \\\\\n",
       "\t Sweden                         & 46.2                           & 40.7                           & 42900                          &  0.991                         & 52100                         \\\\\n",
       "\t Switzerland                    & 64.0                           & 53.3                           & 55500                          &  0.317                         & 74600                         \\\\\n",
       "\t Tajikistan                     & 14.9                           & 58.6                           &  2110                          & 12.500                         &   738                         \\\\\n",
       "\t Tanzania                       & 18.7                           & 29.1                           &  2090                          &  9.250                         &   702                         \\\\\n",
       "\t Thailand                       & 66.5                           & 60.8                           & 13500                          &  4.080                         &  5080                         \\\\\n",
       "\t Timor-Leste                    &  2.2                           & 27.8                           &  1850                          & 26.500                         &  3600                         \\\\\n",
       "\t Togo                           & 40.2                           & 57.3                           &  1210                          &  1.180                         &   488                         \\\\\n",
       "\t Tonga                          & 12.4                           & 60.3                           &  4980                          &  3.680                         &  3550                         \\\\\n",
       "\t Tunisia                        & 50.5                           & 55.3                           & 10400                          &  3.820                         &  4140                         \\\\\n",
       "\t Turkey                         & 20.4                           & 25.5                           & 18000                          &  7.010                         & 10700                         \\\\\n",
       "\t Turkmenistan                   & 76.3                           & 44.5                           &  9940                          &  2.310                         &  4440                         \\\\\n",
       "\t Uganda                         & 17.1                           & 28.6                           &  1540                          & 10.600                         &   595                         \\\\\n",
       "\t Ukraine                        & 47.1                           & 51.1                           &  7820                          & 13.400                         &  2970                         \\\\\n",
       "\t United Arab Emirates           & 77.7                           & 63.6                           & 57600                          & 12.500                         & 35000                         \\\\\n",
       "\t United Kingdom                 & 28.2                           & 30.8                           & 36200                          &  1.570                         & 38900                         \\\\\n",
       "\t United States                  & 12.4                           & 15.8                           & 49400                          &  1.220                         & 48400                         \\\\\n",
       "\t Uruguay                        & 26.3                           & 25.4                           & 17100                          &  4.910                         & 11900                         \\\\\n",
       "\t Uzbekistan                     & 31.7                           & 28.5                           &  4240                          & 16.500                         &  1380                         \\\\\n",
       "\t Vanuatu                        & 46.6                           & 52.7                           &  2950                          &  2.620                         &  2970                         \\\\\n",
       "\t Venezuela                      & 28.5                           & 17.6                           & 16500                          & 45.900                         & 13500                         \\\\\n",
       "\t Vietnam                        & 72.0                           & 80.2                           &  4490                          & 12.100                         &  1310                         \\\\\n",
       "\t Yemen                          & 30.0                           & 34.4                           &  4480                          & 23.600                         &  1310                         \\\\\n",
       "\t Zambia                         & 37.0                           & 30.9                           &  3280                          & 14.000                         &  1460                         \\\\\n",
       "\\end{tabular}\n"
      ],
      "text/markdown": [
       "\n",
       "| country | exports | imports | income | inflation | gdpp |\n",
       "|---|---|---|---|---|---|\n",
       "| Afghanistan            | 10.00                  | 44.9                   |  1610                  |  9.440                 |   553                  |\n",
       "| Albania                | 28.00                  | 48.6                   |  9930                  |  4.490                 |  4090                  |\n",
       "| Algeria                | 38.40                  | 31.4                   | 12900                  | 16.100                 |  4460                  |\n",
       "| Angola                 | 62.30                  | 42.9                   |  5900                  | 22.400                 |  3530                  |\n",
       "| Antigua and Barbuda    | 45.50                  | 58.9                   | 19100                  |  1.440                 | 12200                  |\n",
       "| Argentina              | 18.90                  | 16.0                   | 18700                  | 20.900                 | 10300                  |\n",
       "| Armenia                | 20.80                  | 45.3                   |  6700                  |  7.770                 |  3220                  |\n",
       "| Australia              | 19.80                  | 20.9                   | 41400                  |  1.160                 | 51900                  |\n",
       "| Austria                | 51.30                  | 47.8                   | 43200                  |  0.873                 | 46900                  |\n",
       "| Azerbaijan             | 54.30                  | 20.7                   | 16000                  | 13.800                 |  5840                  |\n",
       "| Bahamas                | 35.00                  | 43.7                   | 22900                  | -0.393                 | 28000                  |\n",
       "| Bahrain                | 69.50                  | 50.9                   | 41100                  |  7.440                 | 20700                  |\n",
       "| Bangladesh             | 16.00                  | 21.8                   |  2440                  |  7.140                 |   758                  |\n",
       "| Barbados               | 39.50                  | 48.7                   | 15300                  |  0.321                 | 16000                  |\n",
       "| Belarus                | 51.40                  | 64.5                   | 16200                  | 15.100                 |  6030                  |\n",
       "| Belgium                | 76.40                  | 74.7                   | 41100                  |  1.880                 | 44400                  |\n",
       "| Belize                 | 58.20                  | 57.5                   |  7880                  |  1.140                 |  4340                  |\n",
       "| Benin                  | 23.80                  | 37.2                   |  1820                  |  0.885                 |   758                  |\n",
       "| Bhutan                 | 42.50                  | 70.7                   |  6420                  |  5.990                 |  2180                  |\n",
       "| Bolivia                | 41.20                  | 34.3                   |  5410                  |  8.780                 |  1980                  |\n",
       "| Bosnia and Herzegovina | 29.70                  | 51.3                   |  9720                  |  1.400                 |  4610                  |\n",
       "| Botswana               | 43.60                  | 51.3                   | 13300                  |  8.920                 |  6350                  |\n",
       "| Brazil                 | 10.70                  | 11.8                   | 14500                  |  8.410                 | 11200                  |\n",
       "| Brunei                 | 67.40                  | 28.0                   | 80600                  | 16.700                 | 35300                  |\n",
       "| Bulgaria               | 50.20                  | 53.0                   | 15300                  |  1.110                 |  6840                  |\n",
       "| Burkina Faso           | 19.20                  | 29.6                   |  1430                  |  6.810                 |   575                  |\n",
       "| Burundi                |  8.92                  | 39.2                   |   764                  | 12.300                 |   231                  |\n",
       "| Cambodia               | 54.10                  | 59.5                   |  2520                  |  3.120                 |   786                  |\n",
       "| Cameroon               | 22.20                  | 27.0                   |  2660                  |  1.910                 |  1310                  |\n",
       "| Canada                 | 29.10                  | 31.0                   | 40700                  |  2.870                 | 47400                  |\n",
       "| ... | ... | ... | ... | ... | ... |\n",
       "| South Africa                   | 28.6                           | 27.4                           | 12000                          |  6.350                         |  7280                          |\n",
       "| South Korea                    | 49.4                           | 46.2                           | 30400                          |  3.160                         | 22100                          |\n",
       "| Spain                          | 25.5                           | 26.8                           | 32500                          |  0.160                         | 30700                          |\n",
       "| Sri Lanka                      | 19.6                           | 26.8                           |  8560                          | 22.800                         |  2810                          |\n",
       "| St. Vincent and the Grenadines | 26.9                           | 57.1                           |  9920                          |  4.440                         |  6230                          |\n",
       "| Sudan                          | 19.7                           | 17.2                           |  3370                          | 19.600                         |  1480                          |\n",
       "| Suriname                       | 52.5                           | 38.4                           | 14200                          |  7.200                         |  8300                          |\n",
       "| Sweden                         | 46.2                           | 40.7                           | 42900                          |  0.991                         | 52100                          |\n",
       "| Switzerland                    | 64.0                           | 53.3                           | 55500                          |  0.317                         | 74600                          |\n",
       "| Tajikistan                     | 14.9                           | 58.6                           |  2110                          | 12.500                         |   738                          |\n",
       "| Tanzania                       | 18.7                           | 29.1                           |  2090                          |  9.250                         |   702                          |\n",
       "| Thailand                       | 66.5                           | 60.8                           | 13500                          |  4.080                         |  5080                          |\n",
       "| Timor-Leste                    |  2.2                           | 27.8                           |  1850                          | 26.500                         |  3600                          |\n",
       "| Togo                           | 40.2                           | 57.3                           |  1210                          |  1.180                         |   488                          |\n",
       "| Tonga                          | 12.4                           | 60.3                           |  4980                          |  3.680                         |  3550                          |\n",
       "| Tunisia                        | 50.5                           | 55.3                           | 10400                          |  3.820                         |  4140                          |\n",
       "| Turkey                         | 20.4                           | 25.5                           | 18000                          |  7.010                         | 10700                          |\n",
       "| Turkmenistan                   | 76.3                           | 44.5                           |  9940                          |  2.310                         |  4440                          |\n",
       "| Uganda                         | 17.1                           | 28.6                           |  1540                          | 10.600                         |   595                          |\n",
       "| Ukraine                        | 47.1                           | 51.1                           |  7820                          | 13.400                         |  2970                          |\n",
       "| United Arab Emirates           | 77.7                           | 63.6                           | 57600                          | 12.500                         | 35000                          |\n",
       "| United Kingdom                 | 28.2                           | 30.8                           | 36200                          |  1.570                         | 38900                          |\n",
       "| United States                  | 12.4                           | 15.8                           | 49400                          |  1.220                         | 48400                          |\n",
       "| Uruguay                        | 26.3                           | 25.4                           | 17100                          |  4.910                         | 11900                          |\n",
       "| Uzbekistan                     | 31.7                           | 28.5                           |  4240                          | 16.500                         |  1380                          |\n",
       "| Vanuatu                        | 46.6                           | 52.7                           |  2950                          |  2.620                         |  2970                          |\n",
       "| Venezuela                      | 28.5                           | 17.6                           | 16500                          | 45.900                         | 13500                          |\n",
       "| Vietnam                        | 72.0                           | 80.2                           |  4490                          | 12.100                         |  1310                          |\n",
       "| Yemen                          | 30.0                           | 34.4                           |  4480                          | 23.600                         |  1310                          |\n",
       "| Zambia                         | 37.0                           | 30.9                           |  3280                          | 14.000                         |  1460                          |\n",
       "\n"
      ],
      "text/plain": [
       "    country                        exports imports income inflation gdpp \n",
       "1   Afghanistan                    10.00   44.9     1610   9.440      553\n",
       "2   Albania                        28.00   48.6     9930   4.490     4090\n",
       "3   Algeria                        38.40   31.4    12900  16.100     4460\n",
       "4   Angola                         62.30   42.9     5900  22.400     3530\n",
       "5   Antigua and Barbuda            45.50   58.9    19100   1.440    12200\n",
       "6   Argentina                      18.90   16.0    18700  20.900    10300\n",
       "7   Armenia                        20.80   45.3     6700   7.770     3220\n",
       "8   Australia                      19.80   20.9    41400   1.160    51900\n",
       "9   Austria                        51.30   47.8    43200   0.873    46900\n",
       "10  Azerbaijan                     54.30   20.7    16000  13.800     5840\n",
       "11  Bahamas                        35.00   43.7    22900  -0.393    28000\n",
       "12  Bahrain                        69.50   50.9    41100   7.440    20700\n",
       "13  Bangladesh                     16.00   21.8     2440   7.140      758\n",
       "14  Barbados                       39.50   48.7    15300   0.321    16000\n",
       "15  Belarus                        51.40   64.5    16200  15.100     6030\n",
       "16  Belgium                        76.40   74.7    41100   1.880    44400\n",
       "17  Belize                         58.20   57.5     7880   1.140     4340\n",
       "18  Benin                          23.80   37.2     1820   0.885      758\n",
       "19  Bhutan                         42.50   70.7     6420   5.990     2180\n",
       "20  Bolivia                        41.20   34.3     5410   8.780     1980\n",
       "21  Bosnia and Herzegovina         29.70   51.3     9720   1.400     4610\n",
       "22  Botswana                       43.60   51.3    13300   8.920     6350\n",
       "23  Brazil                         10.70   11.8    14500   8.410    11200\n",
       "24  Brunei                         67.40   28.0    80600  16.700    35300\n",
       "25  Bulgaria                       50.20   53.0    15300   1.110     6840\n",
       "26  Burkina Faso                   19.20   29.6     1430   6.810      575\n",
       "27  Burundi                         8.92   39.2      764  12.300      231\n",
       "28  Cambodia                       54.10   59.5     2520   3.120      786\n",
       "29  Cameroon                       22.20   27.0     2660   1.910     1310\n",
       "30  Canada                         29.10   31.0    40700   2.870    47400\n",
       "... ...                            ...     ...     ...    ...       ...  \n",
       "138 South Africa                   28.6    27.4    12000   6.350     7280\n",
       "139 South Korea                    49.4    46.2    30400   3.160    22100\n",
       "140 Spain                          25.5    26.8    32500   0.160    30700\n",
       "141 Sri Lanka                      19.6    26.8     8560  22.800     2810\n",
       "142 St. Vincent and the Grenadines 26.9    57.1     9920   4.440     6230\n",
       "143 Sudan                          19.7    17.2     3370  19.600     1480\n",
       "144 Suriname                       52.5    38.4    14200   7.200     8300\n",
       "145 Sweden                         46.2    40.7    42900   0.991    52100\n",
       "146 Switzerland                    64.0    53.3    55500   0.317    74600\n",
       "147 Tajikistan                     14.9    58.6     2110  12.500      738\n",
       "148 Tanzania                       18.7    29.1     2090   9.250      702\n",
       "149 Thailand                       66.5    60.8    13500   4.080     5080\n",
       "150 Timor-Leste                     2.2    27.8     1850  26.500     3600\n",
       "151 Togo                           40.2    57.3     1210   1.180      488\n",
       "152 Tonga                          12.4    60.3     4980   3.680     3550\n",
       "153 Tunisia                        50.5    55.3    10400   3.820     4140\n",
       "154 Turkey                         20.4    25.5    18000   7.010    10700\n",
       "155 Turkmenistan                   76.3    44.5     9940   2.310     4440\n",
       "156 Uganda                         17.1    28.6     1540  10.600      595\n",
       "157 Ukraine                        47.1    51.1     7820  13.400     2970\n",
       "158 United Arab Emirates           77.7    63.6    57600  12.500    35000\n",
       "159 United Kingdom                 28.2    30.8    36200   1.570    38900\n",
       "160 United States                  12.4    15.8    49400   1.220    48400\n",
       "161 Uruguay                        26.3    25.4    17100   4.910    11900\n",
       "162 Uzbekistan                     31.7    28.5     4240  16.500     1380\n",
       "163 Vanuatu                        46.6    52.7     2950   2.620     2970\n",
       "164 Venezuela                      28.5    17.6    16500  45.900    13500\n",
       "165 Vietnam                        72.0    80.2     4490  12.100     1310\n",
       "166 Yemen                          30.0    34.4     4480  23.600     1310\n",
       "167 Zambia                         37.0    30.9     3280  14.000     1460"
      ]
     },
     "metadata": {},
     "output_type": "display_data"
    }
   ],
   "source": [
    "country=country[,-c(2,4,8,9)]\n",
    "country"
   ]
  },
  {
   "cell_type": "code",
   "execution_count": 8,
   "id": "dcf09cf3",
   "metadata": {},
   "outputs": [],
   "source": [
    "first20=head(country,20)"
   ]
  },
  {
   "cell_type": "markdown",
   "id": "58368828",
   "metadata": {},
   "source": [
    "# Data Visualization"
   ]
  },
  {
   "cell_type": "code",
   "execution_count": 9,
   "id": "4a70dc32",
   "metadata": {},
   "outputs": [
    {
     "data": {
      "image/png": "[encoded data removed]",
      "text/plain": [
       "plot without title"
      ]
     },
     "metadata": {},
     "output_type": "display_data"
    }
   ],
   "source": [
    "pie(first20$income,labels = first20$country)"
   ]
  },
  {
   "cell_type": "code",
   "execution_count": 10,
   "id": "5efb8ab0",
   "metadata": {},
   "outputs": [
    {
     "data": {
      "image/png": "[encoded data removed]",
      "text/plain": [
       "plot without title"
      ]
     },
     "metadata": {},
     "output_type": "display_data"
    }
   ],
   "source": [
    "y=first20$inflation\n",
    "x=first20$income\n",
    "plot(x,y,col = rainbow(2),xlab = \"Income\",ylab = \"Inflation\",pch=19)"
   ]
  },
  {
   "cell_type": "code",
   "execution_count": 11,
   "id": "feaeaac3",
   "metadata": {},
   "outputs": [
    {
     "data": {
      "image/png": "[encoded data removed]",
      "text/plain": [
       "plot without title"
      ]
     },
     "metadata": {},
     "output_type": "display_data"
    }
   ],
   "source": [
    "y=first20$exports\n",
    "x=first20$income\n",
    "plot(x,y,col = c(\"red\",\"yellow\"),xlab = \"Income\",ylab = \"Exports\",pch = 18)"
   ]
  },
  {
   "cell_type": "code",
   "execution_count": 12,
   "id": "5a0991b6",
   "metadata": {},
   "outputs": [
    {
     "data": {
      "image/png": "[encoded data removed]",
      "text/plain": [
       "plot without title"
      ]
     },
     "metadata": {},
     "output_type": "display_data"
    }
   ],
   "source": [
    "y=first20$imports\n",
    "x=first20$income\n",
    "plot(x,y,col = c(\"blue\",\"green\"),xlab = \"Income\",ylab = \"imports\",pch = 20)"
   ]
  },
  {
   "cell_type": "code",
   "execution_count": 13,
   "id": "767e08bd",
   "metadata": {},
   "outputs": [
    {
     "data": {
      "image/png": "[encoded data removed]",
      "text/plain": [
       "Plot with title \"Analysis b/w Country and Income\""
      ]
     },
     "metadata": {},
     "output_type": "display_data"
    }
   ],
   "source": [
    "data<- data.frame(first20$income)\n",
    "barplot(height=as.matrix(data),names.arg = first20$country,\n",
    "        main=\"Analysis b/w Country and Income\",ylab=\"Income\", beside=TRUE,col=rainbow (5))"
   ]
  },
  {
   "cell_type": "markdown",
   "id": "be77b13e",
   "metadata": {},
   "source": [
    "# Use linear regression to predict the income"
   ]
  },
  {
   "cell_type": "markdown",
   "id": "cb88a234",
   "metadata": {},
   "source": [
    "# Predict the last 20 countries income by running linear regression on first 20 countries"
   ]
  },
  {
   "cell_type": "code",
   "execution_count": 14,
   "id": "0b8d2585",
   "metadata": {},
   "outputs": [],
   "source": [
    "first=head(country,20)\n",
    "x=first$gdpp\n",
    "y=first$income\n",
    "mod=lm(first$income~first$imports+first$exports+first$inflation,data = first)"
   ]
  },
  {
   "cell_type": "code",
   "execution_count": 15,
   "id": "37622e7a",
   "metadata": {},
   "outputs": [
    {
     "name": "stdout",
     "output_type": "stream",
     "text": [
      "       148        149        150        151        152        153        154 \n",
      " -213.7257 11793.4887 12433.6927 15049.6573 19758.8513  3613.7548  6451.6921 \n",
      "       155        156        157        158        159        160        161 \n",
      "19624.8315 26725.7715 25774.4268 21092.1784 29016.8797 12254.8930 21074.6616 \n",
      "       162        163        164        165        166        167 \n",
      " 8987.3343 29535.3255 26758.1437 16550.2738 10488.2865 19239.5825 \n"
     ]
    }
   ],
   "source": [
    "last=tail(country,20)\n",
    "b=data.frame(last)\n",
    "result=predict(mod,b)\n",
    "print(result)"
   ]
  },
  {
   "cell_type": "code",
   "execution_count": 16,
   "id": "6e39c2d8",
   "metadata": {},
   "outputs": [
    {
     "data": {
      "text/plain": [
       "\n",
       "Call:\n",
       "lm(formula = first$income ~ first$imports + first$exports + first$inflation, \n",
       "    data = first)\n",
       "\n",
       "Residuals:\n",
       "     Min       1Q   Median       3Q      Max \n",
       "-18878.1  -9305.8   -205.3   8300.7  21775.2 \n",
       "\n",
       "Coefficients:\n",
       "                Estimate Std. Error t value Pr(>|t|)  \n",
       "(Intercept)      17622.4     9906.6   1.779   0.0943 .\n",
       "first$imports     -324.7      223.1  -1.455   0.1650  \n",
       "first$exports      494.8      186.0   2.660   0.0171 *\n",
       "first$inflation   -869.1      440.9  -1.971   0.0663 .\n",
       "---\n",
       "Signif. codes:  0 '***' 0.001 '**' 0.01 '*' 0.05 '.' 0.1 ' ' 1\n",
       "\n",
       "Residual standard error: 12260 on 16 degrees of freedom\n",
       "Multiple R-squared:  0.3659,\tAdjusted R-squared:  0.247 \n",
       "F-statistic: 3.078 on 3 and 16 DF,  p-value: 0.0575\n"
      ]
     },
     "metadata": {},
     "output_type": "display_data"
    }
   ],
   "source": [
    "summary(mod)"
   ]
  },
  {
   "cell_type": "code",
   "execution_count": 17,
   "id": "cb3ebfee",
   "metadata": {},
   "outputs": [
    {
     "name": "stdout",
     "output_type": "stream",
     "text": [
      "[1] 0.7298745\n"
     ]
    }
   ],
   "source": [
    "RSE=sigma(mod)/mean(y)\n",
    "print(RSE)"
   ]
  },
  {
   "cell_type": "markdown",
   "id": "cc657fe6",
   "metadata": {},
   "source": [
    "# Running the same algorithm by splitting the data randomly as 2(train and test)"
   ]
  },
  {
   "cell_type": "code",
   "execution_count": 22,
   "id": "3c00d6d5",
   "metadata": {},
   "outputs": [],
   "source": [
    "library(caTools)\n",
    "s=sample.split(country,SplitRatio = 0.7)\n",
    "train=subset(country,split=TRUE)\n",
    "test=subset(country,split=FALSE)"
   ]
  },
  {
   "cell_type": "code",
   "execution_count": 25,
   "id": "db11509a",
   "metadata": {},
   "outputs": [
    {
     "data": {
      "text/plain": [
       "\n",
       "Call:\n",
       "lm(formula = income ~ imports + exports + inflation, data = train)\n",
       "\n",
       "Residuals:\n",
       "   Min     1Q Median     3Q    Max \n",
       "-34401  -8895  -2578   6667  81341 \n",
       "\n",
       "Coefficients:\n",
       "            Estimate Std. Error t value Pr(>|t|)    \n",
       "(Intercept) 15977.15    2810.54   5.685 5.91e-08 ***\n",
       "imports      -510.70      70.62  -7.232 1.76e-11 ***\n",
       "exports       680.76      60.79  11.199  < 2e-16 ***\n",
       "inflation    -368.94     109.88  -3.358 0.000979 ***\n",
       "---\n",
       "Signif. codes:  0 '***' 0.001 '**' 0.01 '*' 0.05 '.' 0.1 ' ' 1\n",
       "\n",
       "Residual standard error: 14410 on 163 degrees of freedom\n",
       "Multiple R-squared:  0.4516,\tAdjusted R-squared:  0.4415 \n",
       "F-statistic: 44.75 on 3 and 163 DF,  p-value: < 2.2e-16\n"
      ]
     },
     "metadata": {},
     "output_type": "display_data"
    }
   ],
   "source": [
    "model=lm(income~imports+exports+inflation,data=train)\n",
    "summary(model)"
   ]
  },
  {
   "cell_type": "code",
   "execution_count": 26,
   "id": "744ebc32",
   "metadata": {},
   "outputs": [
    {
     "name": "stdout",
     "output_type": "stream",
     "text": [
      "          1           2           3           4           5           6 \n",
      " -3628.3380   8561.9895  20142.3687  28215.1077  16340.3544  12961.3825 \n",
      "          7           8           9          10          11          12 \n",
      "  4135.6955  18354.6297  26166.6534  37279.4150  17631.2523  34550.4107 \n",
      "         13          14          15          16          17          18 \n",
      " 13101.8374  17877.7548  12457.1382  29144.4187  25811.6228  12854.7837 \n",
      "         19          20          21          22          23          24 \n",
      "  6593.1801  23268.1484   9480.4387  16168.4925  14132.2191  41399.3134 \n",
      "         25          26          27          28          29          30 \n",
      " 22674.7655  11418.5878  -2507.7747  21268.6183  16596.4962  18896.7499 \n",
      "         31          32          33          34          35          36 \n",
      "  6490.6143   9735.0784  16456.2001  22351.1753  19778.8653  16286.6822 \n",
      "         37          38          39          40          41          42 \n",
      "  -621.1234  10951.7167  38337.3651  18279.9754  26321.7282  21813.2144 \n",
      "         43          44          45          46          47          48 \n",
      " 20044.5862  29311.9599  26901.0544  12417.1186  15667.7216  13166.4341 \n",
      "         49          50          51          52          53          54 \n",
      "  9513.4063  35119.4059   3059.0162  31375.2588  21130.8304  23092.9378 \n",
      "         55          56          57          58          59          60 \n",
      " 19483.5053  39480.1939   8786.0126   9684.4506  25546.7103   6494.0789 \n",
      "         61          62          63          64          65          66 \n",
      " 15095.2328   6875.8629  13106.0624   8602.0341   7048.1884   8458.0010 \n",
      "         67          68          69          70          71          72 \n",
      " -8660.0033  31735.2287  28198.3316  14209.2887  15435.1111  16813.9057 \n",
      "         73          74          75          76          77          78 \n",
      " 19259.7758  43107.9647  22348.7335  19123.6189   8335.0047  19944.0441 \n",
      "         79          80          81          82          83          84 \n",
      " 10509.5260  23602.3884  12138.3619 -16334.1317  41726.3120   5690.9498 \n",
      "         85          86          87          88          89          90 \n",
      " 11504.3726  24694.0664   9516.5812 -10312.3746 -20328.9048  33895.5099 \n",
      "         91          92          93          94          95          96 \n",
      " 25233.7602  61255.2836  12647.2298   7793.1495   9210.9086  36193.3246 \n",
      "         97          98          99         100         101         102 \n",
      " 34341.8481  11960.7139  40072.8118  12263.9121  18649.7467 -10793.3714 \n",
      "        103         104         105         106         107         108 \n",
      " -1522.0492   4349.4315   8554.2482  15577.5343  11008.1305  13420.3278 \n",
      "        109         110         111         112         113         114 \n",
      " 16204.6803  -1661.5742  32198.5576  20928.4513   5074.0055 -14056.0712 \n",
      "        115         116         117         118         119         120 \n",
      " 26253.1600  33906.6884  11238.3811  22738.1906  24935.4816  20640.9685 \n",
      "        121         122         123         124         125         126 \n",
      " 19419.0945  21162.7805  16994.5459  43658.5186  17052.4718  19840.5628 \n",
      "        127         128         129         130         131         132 \n",
      "  7862.4293   8102.7464  26543.8931  11664.4289  11742.3512  26230.3088 \n",
      "        133         134         135         136         137         138 \n",
      "  3449.0267  63284.5069  28007.8658  27991.2307   5557.4911  19110.9462 \n",
      "        139         140         141         142         143         144 \n",
      " 24846.5508  19590.7863   7221.4078   3490.6943  13372.7821  29449.7827 \n",
      "        145         146         147         148         149         150 \n",
      " 26277.1947  32208.5742  -8418.1265  10433.3314  28691.9118  -6499.5523 \n",
      "        151         152         153         154         155         156 \n",
      " 13645.3814  -7734.1062  20704.5526  14255.5577  44340.6944   9101.3925 \n",
      "        157         158         159         160         161         162 \n",
      " 17000.4071  31779.9250  18865.8362  15899.4386  19097.8768  16914.7364 \n",
      "        163         164         165         166         167 \n",
      " 19820.1427   9455.9122  19569.6474  10124.8386  20219.4412 \n"
     ]
    }
   ],
   "source": [
    "p=predict(model,test)\n",
    "print(p)"
   ]
  },
  {
   "cell_type": "code",
   "execution_count": 27,
   "id": "b0fea14e",
   "metadata": {},
   "outputs": [
    {
     "data": {
      "text/html": [
       "0.840295348355439"
      ],
      "text/latex": [
       "0.840295348355439"
      ],
      "text/markdown": [
       "0.840295348355439"
      ],
      "text/plain": [
       "[1] 0.8402953"
      ]
     },
     "metadata": {},
     "output_type": "display_data"
    }
   ],
   "source": [
    "RSE=sigma(model)/mean(test$income)\n",
    "RSE"
   ]
  },
  {
   "cell_type": "code",
   "execution_count": null,
   "id": "d97fe0e9",
   "metadata": {},
   "outputs": [],
   "source": []
  }
 ],
 "metadata": {
  "kernelspec": {
   "display_name": "R",
   "language": "R",
   "name": "ir"
  },
  "language_info": {
   "codemirror_mode": "r",
   "file_extension": ".r",
   "mimetype": "text/x-r-source",
   "name": "R",
   "pygments_lexer": "r",
   "version": "3.6.1"
  }
 },
 "nbformat": 4,
 "nbformat_minor": 5
}
