{
 "cells": [
  {
   "cell_type": "code",
   "execution_count": 5,
   "id": "9fecc8d2",
   "metadata": {},
   "outputs": [
    {
     "name": "stdout",
     "output_type": "stream",
     "text": [
      "             value\n",
      "date              \n",
      "2016-05-09    1201\n",
      "2016-05-10    2329\n",
      "2016-05-11    1716\n",
      "2016-05-12   10539\n",
      "2016-05-13    6933\n",
      "...            ...\n",
      "2019-11-29  171584\n",
      "2019-11-30  141161\n",
      "2019-12-01  142918\n",
      "2019-12-02  220144\n",
      "2019-12-03  158549\n",
      "\n",
      "[1304 rows x 1 columns]\n"
     ]
    }
   ],
   "source": [
    "import matplotlib.pyplot as plt\n",
    "import pandas as pd\n",
    "import seaborn as sns\n",
    "from pandas.plotting import register_matplotlib_converters\n",
    "register_matplotlib_converters()\n",
    "\n",
    "# Import data (Make sure to parse dates. Consider setting index column to 'date'.)\n",
    "df = pd.read_csv(\"fcc-forum-pageviews.csv\",parse_dates =[\"date\"], index_col =\"date\")\n",
    "\n",
    "# Clean data\n",
    "print(df) \n",
    "\n",
    "\n",
    "def draw_line_plot():\n",
    "    # Draw line plot\n",
    "    fig,ax =plt.subplots(figsize=(10,5))\n",
    "    ax.plot(df.index,df['value'],'r', linewidth=1)\n",
    "    ax.set_title(\"Daily freeCodeCamp Forum Page Views 5/2016-12/2019\")\n",
    "    \n",
    "\n",
    "\n",
    "\n",
    "\n",
    "    # Save image and return fig (don't change this part)\n",
    "    fig.savefig('line_plot.png')\n",
    "    return fig\n",
    "\n",
    "def draw_bar_plot():\n",
    "    df[\"month\"] = df.index.month\n",
    "    df[\"year\"] =  df.index.year\n",
    "  \n",
    "    df_bar = df.groupby(['month','year'])['value'].mean()\n",
    "    df_bar = df_bar.unstack()\n",
    "    \n",
    "    # Draw bar plot\n",
    "       fig = df.plot.bar(legend=True,xlabel='Years', ylabel = 'Average Page Views',figsize = (10,5)).figure\n",
    "        \n",
    "\n",
    "\n",
    "\n",
    "\n",
    "\n",
    "    # Save image and return fig (don't change this part)\n",
    "    fig.savefig('bar_plot.png')\n",
    "    return fig\n",
    "\n",
    "def draw_box_plot():\n",
    "    # Prepare data for box plots (this part is done!)\n",
    "    df_box = df.copy()\n",
    "    df_box.reset_index(inplace=True)\n",
    "    df_box['year'] = [d.year for d in df_box.date]\n",
    "    df_box['month'] = [d.strftime('%b') for d in df_box.date]\n",
    "\n",
    "    # Draw box plots (using Seaborn)\n",
    "\n",
    "\n",
    "\n",
    "\n",
    "\n",
    "    # Save image and return fig (don't change this part)\n",
    "    fig.savefig('box_plot.png')\n",
    "    return fig\n"
   ]
  },
  {
   "cell_type": "code",
   "execution_count": null,
   "id": "29af0287",
   "metadata": {},
   "outputs": [],
   "source": []
  }
 ],
 "metadata": {
  "kernelspec": {
   "display_name": "Python 3 (ipykernel)",
   "language": "python",
   "name": "python3"
  },
  "language_info": {
   "codemirror_mode": {
    "name": "ipython",
    "version": 3
   },
   "file_extension": ".py",
   "mimetype": "text/x-python",
   "name": "python",
   "nbconvert_exporter": "python",
   "pygments_lexer": "ipython3",
   "version": "3.8.12"
  }
 },
 "nbformat": 4,
 "nbformat_minor": 5
}
