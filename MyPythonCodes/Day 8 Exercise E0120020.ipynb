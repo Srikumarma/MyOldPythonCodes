{
 "cells": [
  {
   "cell_type": "markdown",
   "id": "ecdf4667",
   "metadata": {},
   "source": [
    "calories consumed : 500,1000,1500,1750,2100\n",
    "\n",
    "Weight Gain :  1,2,5,3.2,3.9\n",
    "\n",
    "\n",
    "a)Identify dependent and independent variable\n",
    "\n",
    "b)Construct linear regression model \n",
    "\n",
    "c)Predict the weight gain if the calories consumed is 1800\n",
    "\n",
    "d)Calculate the accuracy of the model"
   ]
  },
  {
   "cell_type": "code",
   "execution_count": 1,
   "id": "2bcc0c43",
   "metadata": {},
   "outputs": [],
   "source": [
    "cal=c(500,1000,1500,1750,2100)\n",
    "wei=c(1,2,5,3.2,3.9)\n",
    "\n",
    "#a\n",
    "\n",
    "#Dependent variable -> wei\n",
    "#Independent variable -> cal"
   ]
  },
  {
   "cell_type": "code",
   "execution_count": 2,
   "id": "e67404de",
   "metadata": {},
   "outputs": [],
   "source": [
    "#b\n",
    "model=lm(wei~cal)"
   ]
  },
  {
   "cell_type": "code",
   "execution_count": 3,
   "id": "e7cacb7f",
   "metadata": {},
   "outputs": [
    {
     "data": {
      "text/html": [
       "<dl class=dl-horizontal>\n",
       "\t<dt>1</dt>\n",
       "\t\t<dd>1.31999370277078</dd>\n",
       "\t<dt>2</dt>\n",
       "\t\t<dd>2.29700881612091</dd>\n",
       "\t<dt>3</dt>\n",
       "\t\t<dd>3.27402392947103</dd>\n",
       "\t<dt>4</dt>\n",
       "\t\t<dd>3.7625314861461</dd>\n",
       "\t<dt>5</dt>\n",
       "\t\t<dd>4.44644206549118</dd>\n",
       "</dl>\n"
      ],
      "text/latex": [
       "\\begin{description*}\n",
       "\\item[1] 1.31999370277078\n",
       "\\item[2] 2.29700881612091\n",
       "\\item[3] 3.27402392947103\n",
       "\\item[4] 3.7625314861461\n",
       "\\item[5] 4.44644206549118\n",
       "\\end{description*}\n"
      ],
      "text/markdown": [
       "1\n",
       ":   1.319993702770782\n",
       ":   2.297008816120913\n",
       ":   3.274023929471034\n",
       ":   3.76253148614615\n",
       ":   4.44644206549118\n",
       "\n"
      ],
      "text/plain": [
       "       1        2        3        4        5 \n",
       "1.319994 2.297009 3.274024 3.762531 4.446442 "
      ]
     },
     "metadata": {},
     "output_type": "display_data"
    }
   ],
   "source": [
    "#c\n",
    "predict(model)"
   ]
  },
  {
   "cell_type": "code",
   "execution_count": 4,
   "id": "37c51a51",
   "metadata": {},
   "outputs": [
    {
     "data": {
      "text/html": [
       "0.371916082460313"
      ],
      "text/latex": [
       "0.371916082460313"
      ],
      "text/markdown": [
       "0.371916082460313"
      ],
      "text/plain": [
       "[1] 0.3719161"
      ]
     },
     "metadata": {},
     "output_type": "display_data"
    }
   ],
   "source": [
    "#d\n",
    "sigma(model)/mean(wei)"
   ]
  }
 ],
 "metadata": {
  "kernelspec": {
   "display_name": "R",
   "language": "R",
   "name": "ir"
  },
  "language_info": {
   "codemirror_mode": "r",
   "file_extension": ".r",
   "mimetype": "text/x-r-source",
   "name": "R",
   "pygments_lexer": "r",
   "version": "3.6.1"
  }
 },
 "nbformat": 4,
 "nbformat_minor": 5
}
