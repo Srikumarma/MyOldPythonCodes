{
 "cells": [
  {
   "cell_type": "code",
   "execution_count": 7,
   "id": "6d979cfb",
   "metadata": {},
   "outputs": [
    {
     "data": {
      "text/html": [
       "<ol class=list-inline>\n",
       "\t<li>'Hello'</li>\n",
       "\t<li>'World'</li>\n",
       "\t<li>'Regular'</li>\n",
       "\t<li>'Expresion'</li>\n",
       "</ol>\n"
      ],
      "text/latex": [
       "\\begin{enumerate*}\n",
       "\\item 'Hello'\n",
       "\\item 'World'\n",
       "\\item 'Regular'\n",
       "\\item 'Expresion'\n",
       "\\end{enumerate*}\n"
      ],
      "text/markdown": [
       "1. 'Hello'\n",
       "2. 'World'\n",
       "3. 'Regular'\n",
       "4. 'Expresion'\n",
       "\n",
       "\n"
      ],
      "text/plain": [
       "[1] \"Hello\"     \"World\"     \"Regular\"   \"Expresion\""
      ]
     },
     "metadata": {},
     "output_type": "display_data"
    }
   ],
   "source": [
    "a=c('Hello', 'World', 'Regular' ,'Expresion')\n",
    "a"
   ]
  },
  {
   "cell_type": "code",
   "execution_count": 13,
   "id": "531df9f6",
   "metadata": {},
   "outputs": [
    {
     "data": {
      "text/html": [
       "<ol class=list-inline>\n",
       "\t<li>1</li>\n",
       "\t<li>2</li>\n",
       "\t<li>4</li>\n",
       "</ol>\n"
      ],
      "text/latex": [
       "\\begin{enumerate*}\n",
       "\\item 1\n",
       "\\item 2\n",
       "\\item 4\n",
       "\\end{enumerate*}\n"
      ],
      "text/markdown": [
       "1. 1\n",
       "2. 2\n",
       "3. 4\n",
       "\n",
       "\n"
      ],
      "text/plain": [
       "[1] 1 2 4"
      ]
     },
     "metadata": {},
     "output_type": "display_data"
    }
   ],
   "source": [
    "#finding the match/pattern\n",
    "grep(x=a, pattern = 'o')#returns strings that has the charecter o"
   ]
  },
  {
   "cell_type": "code",
   "execution_count": 17,
   "id": "8e6e5320",
   "metadata": {},
   "outputs": [
    {
     "data": {
      "text/html": [
       "<ol class=list-inline>\n",
       "\t<li>1</li>\n",
       "\t<li>2</li>\n",
       "\t<li>3</li>\n",
       "\t<li>4</li>\n",
       "</ol>\n"
      ],
      "text/latex": [
       "\\begin{enumerate*}\n",
       "\\item 1\n",
       "\\item 2\n",
       "\\item 3\n",
       "\\item 4\n",
       "\\end{enumerate*}\n"
      ],
      "text/markdown": [
       "1. 1\n",
       "2. 2\n",
       "3. 3\n",
       "4. 4\n",
       "\n",
       "\n"
      ],
      "text/plain": [
       "[1] 1 2 3 4"
      ]
     },
     "metadata": {},
     "output_type": "display_data"
    }
   ],
   "source": [
    "grep(x=a, pattern= '[a-z]')#returns strings that matches the pattern"
   ]
  },
  {
   "cell_type": "code",
   "execution_count": 19,
   "id": "6973d5e0",
   "metadata": {},
   "outputs": [
    {
     "name": "stdout",
     "output_type": "stream",
     "text": [
      "package 'stringr' successfully unpacked and MD5 sums checked\n",
      "\n",
      "The downloaded binary packages are in\n",
      "\tC:\\Users\\sriku\\AppData\\Local\\Temp\\Rtmpo7tGQp\\downloaded_packages\n"
     ]
    }
   ],
   "source": [
    "#installing a package in R\n",
    "install.packages(\"stringr\")"
   ]
  },
  {
   "cell_type": "code",
   "execution_count": 20,
   "id": "6ec0ae1a",
   "metadata": {},
   "outputs": [
    {
     "name": "stderr",
     "output_type": "stream",
     "text": [
      "Warning message:\n",
      "\"package 'stringr' was built under R version 3.6.3\""
     ]
    }
   ],
   "source": [
    "library(stringr)"
   ]
  },
  {
   "cell_type": "code",
   "execution_count": 21,
   "id": "bbe2e874",
   "metadata": {},
   "outputs": [],
   "source": [
    "a='player1'"
   ]
  },
  {
   "cell_type": "code",
   "execution_count": 29,
   "id": "240359da",
   "metadata": {},
   "outputs": [
    {
     "data": {
      "text/html": [
       "TRUE"
      ],
      "text/latex": [
       "TRUE"
      ],
      "text/markdown": [
       "TRUE"
      ],
      "text/plain": [
       "[1] TRUE"
      ]
     },
     "metadata": {},
     "output_type": "display_data"
    }
   ],
   "source": [
    "#matching the pattern\n",
    "str_detect(a,\"[a-z0-9]{7}\")"
   ]
  },
  {
   "cell_type": "code",
   "execution_count": 38,
   "id": "d7230f4a",
   "metadata": {},
   "outputs": [
    {
     "data": {
      "text/html": [
       "FALSE"
      ],
      "text/latex": [
       "FALSE"
      ],
      "text/markdown": [
       "FALSE"
      ],
      "text/plain": [
       "[1] FALSE"
      ]
     },
     "metadata": {},
     "output_type": "display_data"
    }
   ],
   "source": [
    "str_detect(a,\"[a-z0-9]{8}\")"
   ]
  },
  {
   "cell_type": "code",
   "execution_count": null,
   "id": "e3ece2c0",
   "metadata": {},
   "outputs": [],
   "source": [
    "readline()"
   ]
  },
  {
   "cell_type": "code",
   "execution_count": null,
   "id": "c5d5b909",
   "metadata": {},
   "outputs": [],
   "source": []
  }
 ],
 "metadata": {
  "kernelspec": {
   "display_name": "R",
   "language": "R",
   "name": "ir"
  },
  "language_info": {
   "codemirror_mode": "r",
   "file_extension": ".r",
   "mimetype": "text/x-r-source",
   "name": "R",
   "pygments_lexer": "r",
   "version": "3.6.1"
  }
 },
 "nbformat": 4,
 "nbformat_minor": 5
}
