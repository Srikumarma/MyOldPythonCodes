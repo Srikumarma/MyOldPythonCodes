{
 "cells": [
  {
   "cell_type": "code",
   "execution_count": 11,
   "metadata": {},
   "outputs": [
    {
     "name": "stdout",
     "output_type": "stream",
     "text": [
      "[70, 85, 125, 145, 180, 205, 260, 300, 325, 350, 405, 460, 480, 485, 620, 690, 705, 875, 970, 1100, 1160, 1430, 1430, 1555, 2805, 3360, 4040]\n"
     ]
    }
   ],
   "source": [
    "a = (1100, 260, 205,\n",
    "970, 1430, 300\n",
    ",4040 ,460, 350\n",
    ",620 ,480 ,485,\n",
    "125, 405, 85,\n",
    "2805, 690, 1430,\n",
    "1555, 1160, 70,\n",
    "180, 3360, 325,\n",
    "875 ,705, 145)\n",
    "x = sorted(a)\n",
    "print(x)"
   ]
  },
  {
   "cell_type": "code",
   "execution_count": 12,
   "metadata": {},
   "outputs": [
    {
     "name": "stdout",
     "output_type": "stream",
     "text": [
      "24615\n"
     ]
    }
   ],
   "source": [
    "numbers = [1100, 260, 205,\n",
    "970, 1430, 300\n",
    ",4040 ,460, 350\n",
    ",620 ,480 ,485,\n",
    "125, 405, 85,\n",
    "2805, 690, 1430,\n",
    "1555, 1160, 70,\n",
    "180, 3360, 325,\n",
    "875 ,705, 145] \n",
    "  \n",
    "# start parameter is not provided \n",
    "Sum = sum(numbers) \n",
    "print(Sum)"
   ]
  },
  {
   "cell_type": "code",
   "execution_count": null,
   "metadata": {},
   "outputs": [],
   "source": []
  }
 ],
 "metadata": {
  "kernelspec": {
   "display_name": "Python 3",
   "language": "python",
   "name": "python3"
  },
  "language_info": {
   "codemirror_mode": {
    "name": "ipython",
    "version": 3
   },
   "file_extension": ".py",
   "mimetype": "text/x-python",
   "name": "python",
   "nbconvert_exporter": "python",
   "pygments_lexer": "ipython3",
   "version": "3.8.3"
  }
 },
 "nbformat": 4,
 "nbformat_minor": 4
}
