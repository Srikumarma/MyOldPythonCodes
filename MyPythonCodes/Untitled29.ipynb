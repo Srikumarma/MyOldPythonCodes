{
 "cells": [
  {
   "cell_type": "code",
   "execution_count": 9,
   "metadata": {},
   "outputs": [],
   "source": []
  },
  {
   "cell_type": "code",
   "execution_count": 3,
   "metadata": {},
   "outputs": [
    {
     "name": "stdout",
     "output_type": "stream",
     "text": [
      "1\n",
      "2\n",
      "Sret\n",
      "4\n",
      "Srmc\n",
      "Sret\n",
      "7\n",
      "8\n",
      "Sret\n",
      "Srmc\n",
      "11\n",
      "Sret\n",
      "13\n",
      "14\n",
      "SretSrmc\n",
      "16\n",
      "17\n",
      "Sret\n",
      "19\n",
      "Srmc\n",
      "Sret\n"
     ]
    }
   ],
   "source": [
    "for i in range(1,22):\n",
    "    if(i%3==0 and i%5==0):\n",
    "        print('SretSrmc')\n",
    "    elif(i%5==0):\n",
    "        print('Srmc')\n",
    "    elif(i%3==0):\n",
    "        print('Sret')\n",
    "    else:\n",
    "        print(i)"
   ]
  },
  {
   "cell_type": "code",
   "execution_count": 41,
   "metadata": {},
   "outputs": [
    {
     "name": "stdout",
     "output_type": "stream",
     "text": [
      "Completed\n"
     ]
    },
    {
     "data": {
      "text/plain": [
       "True"
      ]
     },
     "execution_count": 41,
     "metadata": {},
     "output_type": "execute_result"
    }
   ],
   "source": [
    "def play_game(n):\n",
    "    try:\n",
    "        for i in range(0,len(n)):\n",
    "            if n[i]==0:\n",
    "                for a in range(i+1,len(n)):\n",
    "                    if n[a]==7:\n",
    "                        for y in range(a+1,len(n)):\n",
    "                            if n[y]==7:\n",
    "                                return True\n",
    "                    else:\n",
    "                        return False\n",
    "    except SyntaxError:\n",
    "        print('error')\n",
    "    finally:\n",
    "        print('Completed')\n",
    "play_game([1,2,4,0,7,7,5])"
   ]
  },
  {
   "cell_type": "code",
   "execution_count": 40,
   "metadata": {},
   "outputs": [
    {
     "data": {
      "text/plain": [
       "True"
      ]
     },
     "execution_count": 40,
     "metadata": {},
     "output_type": "execute_result"
    }
   ],
   "source": [
    "play_game([1,0,2,4,7,5,7])"
   ]
  },
  {
   "cell_type": "code",
   "execution_count": 28,
   "metadata": {},
   "outputs": [
    {
     "data": {
      "text/plain": [
       "False"
      ]
     },
     "execution_count": 28,
     "metadata": {},
     "output_type": "execute_result"
    }
   ],
   "source": [
    "play_game([1,7,2,0,4,5,0])"
   ]
  },
  {
   "cell_type": "code",
   "execution_count": 47,
   "metadata": {},
   "outputs": [
    {
     "name": "stdout",
     "output_type": "stream",
     "text": [
      "Hello7all7this7is7python7programming7in7SRET SRMC\n"
     ]
    }
   ],
   "source": [
    "import re\n",
    "a='Hello all this is python programming in SRET SRMC'\n",
    "print(re.sub(' ','7',a,count=7))\n"
   ]
  },
  {
   "cell_type": "code",
   "execution_count": 51,
   "metadata": {},
   "outputs": [
    {
     "name": "stdout",
     "output_type": "stream",
     "text": [
      "The length of the building(in ft) 10\n",
      "Width of the building(in ft) 10\n",
      "The total cost for construction is 50000\n"
     ]
    }
   ],
   "source": [
    "a=int(input('The length of the building(in ft) '))\n",
    "b=int(input('Width of the building(in ft) '))\n",
    "total=a*b\n",
    "price=total*500\n",
    "print(f'The total cost for construction is {price}')\n"
   ]
  },
  {
   "cell_type": "markdown",
   "metadata": {},
   "source": [
    "Write a program to satisfy the following conditions for the given \n",
    "\n",
    "input string\n",
    "\n",
    "Input string: \"Artificial Intelligence\"\n",
    "\n",
    "1.Print string start from 0 but 4 not include\n",
    "\n",
    "2.Return all string in reverse and length of string\n",
    "\n",
    "3.Return string in lower case and upper case\n",
    "\n",
    "4.Replace a string A with I and print index of I\n",
    "\n",
    "5.Check the string by isdigit(), isalpha() and isprintable()"
   ]
  },
  {
   "cell_type": "code",
   "execution_count": 87,
   "metadata": {},
   "outputs": [
    {
     "name": "stdout",
     "output_type": "stream",
     "text": [
      "Artiicial Intelligence\n",
      "ecnegilletnI laicifitrA\n",
      "23\n",
      "artificial intelligence\n",
      "ARTIFICIAL INTELLIGENCE\n",
      "False\n",
      "False\n",
      "True\n"
     ]
    }
   ],
   "source": [
    "string=\"Artificial Intelligence\"\n",
    "print(string[0:4]+string[5::])\n",
    "print(string[::-1])\n",
    "print(len(string))\n",
    "print(string.lower())\n",
    "print(string.upper())\n",
    "print(string.isdigit())\n",
    "print(string.isalpha())\n",
    "print(string.isprintable())"
   ]
  },
  {
   "cell_type": "code",
   "execution_count": 89,
   "metadata": {},
   "outputs": [
    {
     "name": "stdout",
     "output_type": "stream",
     "text": [
      "Enter a string: Hi SRET\n",
      "length is  7\n",
      "Thank you\n"
     ]
    }
   ],
   "source": [
    "a=input('Enter a string: ')\n",
    "try:\n",
    "    print('length is ',len(a))\n",
    "except empty_string:\n",
    "    print('Null values are not processed by this API')\n",
    "finally:\n",
    "    print('Thank you')"
   ]
  },
  {
   "cell_type": "code",
   "execution_count": 106,
   "metadata": {},
   "outputs": [
    {
     "data": {
      "text/plain": [
       "<__main__.ABCLofistics at 0x1ebb2fef8b0>"
      ]
     },
     "execution_count": 106,
     "metadata": {},
     "output_type": "execute_result"
    }
   ],
   "source": [
    "class ABCLofistics():\n",
    "    def x(*args):\n",
    "        return divmod(2,2)\n",
    "    x(2,2)\n",
    "ABCLofistics()  \n",
    "                        \n",
    "                        \n",
    "    "
   ]
  },
  {
   "cell_type": "code",
   "execution_count": 99,
   "metadata": {},
   "outputs": [
    {
     "data": {
      "text/plain": [
       "<__main__.ABCLofistics at 0x1ebb2bb3220>"
      ]
     },
     "execution_count": 99,
     "metadata": {},
     "output_type": "execute_result"
    }
   ],
   "source": [
    "class Cylinder:\n",
    "    \n",
    "    def __init__(self,height=1,radius=1):\n",
    "        pass\n",
    "        \n",
    "    def volume(self):\n",
    "        pass\n",
    "    \n",
    "    def surface_area(self):\n",
    "        pass\n",
    "    \n",
    "    \n",
    "       \n",
    "    def w(self):\n",
    "        self.weight=int(input('Input the weight of the package(in kgs) '))\n",
    "    def d(self):\n",
    "        self.distance=int(input('input the distance btw source and destination(in kms) '))\n",
    "    def price(self):\n",
    "        return Total==1*self.weight/self.distance\n",
    "ABCLofistics()"
   ]
  },
  {
   "cell_type": "code",
   "execution_count": null,
   "metadata": {},
   "outputs": [],
   "source": [
    "class ABCABCLofistics():"
   ]
  }
 ],
 "metadata": {
  "kernelspec": {
   "display_name": "Python 3",
   "language": "python",
   "name": "python3"
  },
  "language_info": {
   "codemirror_mode": {
    "name": "ipython",
    "version": 3
   },
   "file_extension": ".py",
   "mimetype": "text/x-python",
   "name": "python",
   "nbconvert_exporter": "python",
   "pygments_lexer": "ipython3",
   "version": "3.8.3"
  }
 },
 "nbformat": 4,
 "nbformat_minor": 4
}
