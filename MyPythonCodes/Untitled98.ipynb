{
 "cells": [
  {
   "cell_type": "code",
   "execution_count": 1,
   "id": "c36a44f8",
   "metadata": {},
   "outputs": [
    {
     "data": {
      "text/html": [
       "<ol class=list-inline>\n",
       "\t<li>14</li>\n",
       "\t<li>31</li>\n",
       "\t<li>34</li>\n",
       "\t<li>36</li>\n",
       "\t<li>44</li>\n",
       "\t<li>60</li>\n",
       "\t<li>64</li>\n",
       "\t<li>90</li>\n",
       "\t<li>94</li>\n",
       "\t<li>99</li>\n",
       "</ol>\n"
      ],
      "text/latex": [
       "\\begin{enumerate*}\n",
       "\\item 14\n",
       "\\item 31\n",
       "\\item 34\n",
       "\\item 36\n",
       "\\item 44\n",
       "\\item 60\n",
       "\\item 64\n",
       "\\item 90\n",
       "\\item 94\n",
       "\\item 99\n",
       "\\end{enumerate*}\n"
      ],
      "text/markdown": [
       "1. 14\n",
       "2. 31\n",
       "3. 34\n",
       "4. 36\n",
       "5. 44\n",
       "6. 60\n",
       "7. 64\n",
       "8. 90\n",
       "9. 94\n",
       "10. 99\n",
       "\n",
       "\n"
      ],
      "text/plain": [
       " [1] 14 31 34 36 44 60 64 90 94 99"
      ]
     },
     "metadata": {},
     "output_type": "display_data"
    }
   ],
   "source": [
    "# function to sort the values\n",
    "quickSort <- function(arr) {\n",
    "\n",
    "# Pick a number at random\n",
    "random_index <- sample(seq_along(arr), 1);\n",
    "pivot <- arr[random_index]\n",
    "arr <- arr[-random_index]\n",
    "\n",
    "# Create array for left and right values.\n",
    "left <- c()\n",
    "right <- c()\n",
    "\n",
    "# Move all smaller and equal values to the\n",
    "# left and bigger values to the right.\n",
    "# compare element with pivot\n",
    "left<-arr[which(arr <= pivot)]\n",
    "right<-arr[which(arr > pivot)]\n",
    "\n",
    "if (length(left) > 1)\n",
    "{\n",
    "left <- quickSort(left)\n",
    "}\n",
    "if (length(right) > 1)\n",
    "{\n",
    "right <- quickSort(right)\n",
    "}\n",
    "\n",
    "# Return the sorted values.\n",
    "return(c(left, pivot, right))\n",
    "}\n",
    "\n",
    "# take sample array\n",
    "arr <- sample(1:100, 10)\n",
    "\n",
    "# call quickSort function\n",
    "result <- quickSort(arr)\n",
    "\n",
    "# print result\n",
    "result"
   ]
  },
  {
   "cell_type": "markdown",
   "id": "44caf1ea",
   "metadata": {},
   "source": [
    "Qs(A,start,end)\n",
    "\n",
    "{\n",
    "\n",
    "    if(A.length == 1)\n",
    "    \n",
    "        {\n",
    "        \n",
    "        return;\n",
    "        \n",
    "    }\n",
    "    \n",
    "}\n",
    "\n",
    "pi =  partition(A,start,end)\n",
    "\n",
    "Qs(A,start,pi-1)\n",
    "\n",
    "Qs(A,pi+1,end)"
   ]
  },
  {
   "cell_type": "code",
   "execution_count": null,
   "id": "99ae5aa0",
   "metadata": {},
   "outputs": [],
   "source": []
  }
 ],
 "metadata": {
  "kernelspec": {
   "display_name": "R",
   "language": "R",
   "name": "ir"
  },
  "language_info": {
   "codemirror_mode": "r",
   "file_extension": ".r",
   "mimetype": "text/x-r-source",
   "name": "R",
   "pygments_lexer": "r",
   "version": "3.6.1"
  }
 },
 "nbformat": 4,
 "nbformat_minor": 5
}
