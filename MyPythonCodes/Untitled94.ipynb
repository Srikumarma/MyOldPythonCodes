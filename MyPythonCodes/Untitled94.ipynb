{
 "cells": [
  {
   "cell_type": "code",
   "execution_count": 7,
   "id": "ebbf5b0d",
   "metadata": {},
   "outputs": [
    {
     "data": {
      "text/html": [
       "-0.441935527099662"
      ],
      "text/latex": [
       "-0.441935527099662"
      ],
      "text/markdown": [
       "-0.441935527099662"
      ],
      "text/plain": [
       "[1] -0.4419355"
      ]
     },
     "metadata": {},
     "output_type": "display_data"
    }
   ],
   "source": [
    "x=rnorm(10)\n",
    "mean(x,na.rm = TRUE)"
   ]
  },
  {
   "cell_type": "code",
   "execution_count": 12,
   "id": "7dbfae3a",
   "metadata": {},
   "outputs": [
    {
     "data": {
      "text/html": [
       "2.5"
      ],
      "text/latex": [
       "2.5"
      ],
      "text/markdown": [
       "2.5"
      ],
      "text/plain": [
       "[1] 2.5"
      ]
     },
     "metadata": {},
     "output_type": "display_data"
    }
   ],
   "source": [
    "x=c(1,2,3,2,1,3,4,5,4,1)\n",
    "median(x)"
   ]
  },
  {
   "cell_type": "code",
   "execution_count": 18,
   "id": "9909aabb",
   "metadata": {},
   "outputs": [
    {
     "data": {
      "text/html": [
       "<ol class=list-inline>\n",
       "\t<li>1</li>\n",
       "\t<li>2</li>\n",
       "\t<li>3</li>\n",
       "\t<li>4</li>\n",
       "\t<li>5</li>\n",
       "</ol>\n"
      ],
      "text/latex": [
       "\\begin{enumerate*}\n",
       "\\item 1\n",
       "\\item 2\n",
       "\\item 3\n",
       "\\item 4\n",
       "\\item 5\n",
       "\\end{enumerate*}\n"
      ],
      "text/markdown": [
       "1. 1\n",
       "2. 2\n",
       "3. 3\n",
       "4. 4\n",
       "5. 5\n",
       "\n",
       "\n"
      ],
      "text/plain": [
       "[1] 1 2 3 4 5"
      ]
     },
     "metadata": {},
     "output_type": "display_data"
    },
    {
     "data": {
      "text/html": [
       "1"
      ],
      "text/latex": [
       "1"
      ],
      "text/markdown": [
       "1"
      ],
      "text/plain": [
       "[1] 1"
      ]
     },
     "metadata": {},
     "output_type": "display_data"
    }
   ],
   "source": [
    "#mode\n",
    "uni=unique(x)\n",
    "uni\n",
    "which.max(tabulate(match(x,uni)))"
   ]
  },
  {
   "cell_type": "code",
   "execution_count": null,
   "id": "a320e388",
   "metadata": {},
   "outputs": [],
   "source": []
  },
  {
   "cell_type": "code",
   "execution_count": 22,
   "id": "ec9d7caa",
   "metadata": {},
   "outputs": [
    {
     "data": {
      "text/html": [
       "0.13287555072"
      ],
      "text/latex": [
       "0.13287555072"
      ],
      "text/markdown": [
       "0.13287555072"
      ],
      "text/plain": [
       "[1] 0.1328756"
      ]
     },
     "metadata": {},
     "output_type": "display_data"
    },
    {
     "data": {
      "text/html": [
       "0.92744450048"
      ],
      "text/latex": [
       "0.92744450048"
      ],
      "text/markdown": [
       "0.92744450048"
      ],
      "text/plain": [
       "[1] 0.9274445"
      ]
     },
     "metadata": {},
     "output_type": "display_data"
    }
   ],
   "source": [
    "dbinom(4,size=12,prob=0.2)\n",
    "dbinom(0,size=12,prob=0.2)+dbinom(1,size=12,prob=0.2)+dbinom(2,size=12,prob=0.2)+dbinom(3,size=12,prob=0.2)+dbinom(4,size=12,prob=0.2)"
   ]
  },
  {
   "cell_type": "code",
   "execution_count": 23,
   "id": "e519609f",
   "metadata": {},
   "outputs": [
    {
     "data": {
      "text/html": [
       "0.92744450048"
      ],
      "text/latex": [
       "0.92744450048"
      ],
      "text/markdown": [
       "0.92744450048"
      ],
      "text/plain": [
       "[1] 0.9274445"
      ]
     },
     "metadata": {},
     "output_type": "display_data"
    }
   ],
   "source": [
    "#p binomial\n",
    "pbinom(4,size=12,prob=0.2)"
   ]
  },
  {
   "cell_type": "code",
   "execution_count": 25,
   "id": "ea2f9cf4",
   "metadata": {},
   "outputs": [
    {
     "data": {
      "text/html": [
       "0.898708992560162"
      ],
      "text/latex": [
       "0.898708992560162"
      ],
      "text/markdown": [
       "0.898708992560162"
      ],
      "text/plain": [
       "[1] 0.898709"
      ]
     },
     "metadata": {},
     "output_type": "display_data"
    },
    {
     "data": {
      "text/html": [
       "0.101291007439838"
      ],
      "text/latex": [
       "0.101291007439838"
      ],
      "text/markdown": [
       "0.101291007439838"
      ],
      "text/plain": [
       "[1] 0.101291"
      ]
     },
     "metadata": {},
     "output_type": "display_data"
    }
   ],
   "source": [
    "#poisson\n",
    "ppois(16,lambda=12)#lowetail\n",
    "ppois(16,lambda=12,lower=FALSE)#uppertail"
   ]
  },
  {
   "cell_type": "code",
   "execution_count": 26,
   "id": "fd5df685",
   "metadata": {},
   "outputs": [
    {
     "data": {
      "text/html": [
       "<ol class=list-inline>\n",
       "\t<li>1.66707720886916</li>\n",
       "\t<li>2.70938082505018</li>\n",
       "\t<li>2.32767231808975</li>\n",
       "\t<li>1.89210910489783</li>\n",
       "\t<li>2.41712837247178</li>\n",
       "\t<li>1.44207737175748</li>\n",
       "\t<li>1.4215704575181</li>\n",
       "\t<li>2.88051329553127</li>\n",
       "\t<li>2.6548225870356</li>\n",
       "\t<li>2.38376442668959</li>\n",
       "</ol>\n"
      ],
      "text/latex": [
       "\\begin{enumerate*}\n",
       "\\item 1.66707720886916\n",
       "\\item 2.70938082505018\n",
       "\\item 2.32767231808975\n",
       "\\item 1.89210910489783\n",
       "\\item 2.41712837247178\n",
       "\\item 1.44207737175748\n",
       "\\item 1.4215704575181\n",
       "\\item 2.88051329553127\n",
       "\\item 2.6548225870356\n",
       "\\item 2.38376442668959\n",
       "\\end{enumerate*}\n"
      ],
      "text/markdown": [
       "1. 1.66707720886916\n",
       "2. 2.70938082505018\n",
       "3. 2.32767231808975\n",
       "4. 1.89210910489783\n",
       "5. 2.41712837247178\n",
       "6. 1.44207737175748\n",
       "7. 1.4215704575181\n",
       "8. 2.88051329553127\n",
       "9. 2.6548225870356\n",
       "10. 2.38376442668959\n",
       "\n",
       "\n"
      ],
      "text/plain": [
       " [1] 1.667077 2.709381 2.327672 1.892109 2.417128 1.442077 1.421570 2.880513\n",
       " [9] 2.654823 2.383764"
      ]
     },
     "metadata": {},
     "output_type": "display_data"
    }
   ],
   "source": [
    "#uniform\n",
    "runif(10,min=1,max=3)"
   ]
  },
  {
   "cell_type": "code",
   "execution_count": 27,
   "id": "f21c0cbc",
   "metadata": {},
   "outputs": [
    {
     "data": {
      "text/html": [
       "0.486582880967408"
      ],
      "text/latex": [
       "0.486582880967408"
      ],
      "text/markdown": [
       "0.486582880967408"
      ],
      "text/plain": [
       "[1] 0.4865829"
      ]
     },
     "metadata": {},
     "output_type": "display_data"
    }
   ],
   "source": [
    "#exponential\n",
    "pexp(2,rate=1/3)"
   ]
  },
  {
   "cell_type": "code",
   "execution_count": 28,
   "id": "3a3188a4",
   "metadata": {},
   "outputs": [
    {
     "data": {
      "text/html": [
       "0.214917602311272"
      ],
      "text/latex": [
       "0.214917602311272"
      ],
      "text/markdown": [
       "0.214917602311272"
      ],
      "text/plain": [
       "[1] 0.2149176"
      ]
     },
     "metadata": {},
     "output_type": "display_data"
    }
   ],
   "source": [
    "#Normal\n",
    "pnorm(84,mean=72,sd=15.2,lower.tail = FALSE)"
   ]
  },
  {
   "cell_type": "code",
   "execution_count": 29,
   "id": "8f7f5dca",
   "metadata": {},
   "outputs": [
    {
     "data": {
      "text/html": [
       "14.0671404493402"
      ],
      "text/latex": [
       "14.0671404493402"
      ],
      "text/markdown": [
       "14.0671404493402"
      ],
      "text/plain": [
       "[1] 14.06714"
      ]
     },
     "metadata": {},
     "output_type": "display_data"
    }
   ],
   "source": [
    "#chi=squared\n",
    "qchisq(.95,df = 7)"
   ]
  },
  {
   "cell_type": "code",
   "execution_count": null,
   "id": "8c18da6c",
   "metadata": {},
   "outputs": [],
   "source": []
  }
 ],
 "metadata": {
  "kernelspec": {
   "display_name": "R",
   "language": "R",
   "name": "ir"
  },
  "language_info": {
   "codemirror_mode": "r",
   "file_extension": ".r",
   "mimetype": "text/x-r-source",
   "name": "R",
   "pygments_lexer": "r",
   "version": "3.6.1"
  }
 },
 "nbformat": 4,
 "nbformat_minor": 5
}
