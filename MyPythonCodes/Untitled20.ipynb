{
 "cells": [
  {
   "cell_type": "markdown",
   "metadata": {},
   "source": [
    "# 1.Extra Practice with Regular Expressions\n",
    "Collaboration Policy\n",
    "Data science is a collaborative activity. While you may talk with others about the homework, we\n",
    "ask that you write your solutions individually. If you do discuss the assignments with others\n",
    "please include their names at the top of your solution.\n"
   ]
  },
  {
   "cell_type": "markdown",
   "metadata": {},
   "source": [
    "2 Question 1\n",
    "In this question, write patterns that match the given sequences. It may be as simple as the common\n",
    "letters on each line.\n",
    "1.module in Python.\n",
    "\n",
    "\n",
    "2.1 Question 1a\n",
    "\n",
    "Write a single regular expression to match the following strings without using the | operator.\n",
    "\n",
    "1. Match: abcdefg\n",
    "\n",
    "2. Match: abcde\n",
    "\n",
    "3. Match: abc\n",
    "\n",
    "4. Skip: c abc\n",
    "\n",
    "BEGIN QUESTION\n",
    "\n",
    "name: q1a"
   ]
  },
  {
   "cell_type": "code",
   "execution_count": 68,
   "metadata": {},
   "outputs": [
    {
     "name": "stdout",
     "output_type": "stream",
     "text": [
      "Match: abcde\n"
     ]
    }
   ],
   "source": [
    "import re\n",
    "regx = \"abcde\" \n",
    "regx1 = r\"^abc[\\w]*\"\n",
    "x=re.search(regx1,regx)\n",
    "print('Match:',x.group())\n",
    "\n"
   ]
  },
  {
   "cell_type": "markdown",
   "metadata": {},
   "source": [
    "# 2.2 Question 1b\n",
    "\n",
    "Write a single regular expression to match the following strings without using the | operator.\n",
    "\n",
    "1. Match: can\n",
    "\n",
    "2. Match: man\n",
    "\n",
    "3. Match: fan\n",
    "\n",
    "4. Skip: dan\n",
    "\n",
    "5. Skip: ran\n",
    "\n",
    "6. Skip: pan\n",
    "\n",
    "BEGIN QUESTION\n",
    "\n",
    "name: q1b\n"
   ]
  },
  {
   "cell_type": "code",
   "execution_count": 66,
   "metadata": {},
   "outputs": [
    {
     "name": "stdout",
     "output_type": "stream",
     "text": [
      "match Knicks\n"
     ]
    }
   ],
   "source": [
    "import re\n",
    "regx = \"Knicks rule!\"\n",
    "x = re.search(r\"K\\w+\", regx)\n",
    "print('match:', x.group())"
   ]
  },
  {
   "cell_type": "markdown",
   "metadata": {},
   "source": [
    "# 3 Question 2\n",
    "\n",
    "Now that we have written a few regular expressions, we are now ready to move beyond matching.\n",
    "\n",
    "In this question, we’ll take a look at some methods from the re package.\n",
    "\n",
    "# 3.1 Question 2a:\n",
    "\n",
    "Write a Python program to extract and print the numbers of a given string.\n",
    "\n",
    "1. Hint: use re.findall\n",
    "\n",
    "2. Hint: use \\d for digits and one of either * or +.\n",
    "\n",
    "BEGIN QUESTION\n",
    "\n",
    "name: q2a\n"
   ]
  },
  {
   "cell_type": "code",
   "execution_count": 63,
   "metadata": {},
   "outputs": [
    {
     "data": {
      "text/plain": [
       "['1', '2']"
      ]
     },
     "execution_count": 63,
     "metadata": {},
     "output_type": "execute_result"
    }
   ],
   "source": [
    "x = \"one is 1,two is 2 and three\"\n",
    "c= re.findall(r\"\\d+\", x)\n",
    "c"
   ]
  },
  {
   "cell_type": "markdown",
   "metadata": {},
   "source": [
    "# 3.2 Question 2b:\n",
    "\n",
    "Write a Python program to replace at most 2 occurrences of space, comma, or dot with a colon.\n",
    "\n",
    "Hint: use re.sub(regex, \"newtext\", string, number_of_occurences)\n",
    "\n",
    "BEGIN QUESTION\n",
    "\n",
    "name: q2b\n"
   ]
  },
  {
   "cell_type": "code",
   "execution_count": 74,
   "metadata": {},
   "outputs": [
    {
     "name": "stdout",
     "output_type": "stream",
     "text": [
      "Just:writing: a assignment with, and  and also.\n"
     ]
    }
   ],
   "source": [
    "text_q2b = 'Just writing, a assignment with, and  and also.'\n",
    "res_q2b = re.sub(\"[ ,.]\", \":\", text_q2b,2)\n",
    "print(res_q2b)\n"
   ]
  },
  {
   "cell_type": "markdown",
   "metadata": {},
   "source": [
    "# 3.3 Question 2c:\n",
    "\n",
    "Write a Python program to extract values between quotation marks of a string.\n",
    "\n",
    "Hint: use re.findall\n",
    "\n",
    "BEGIN QUESTION\n",
    "\n",
    "name: q2c"
   ]
  },
  {
   "cell_type": "code",
   "execution_count": 79,
   "metadata": {},
   "outputs": [
    {
     "name": "stdout",
     "output_type": "stream",
     "text": [
      "['\"BAZINGA\"']\n"
     ]
    }
   ],
   "source": [
    "y = 'In this question i should find the string inside\"BAZINGA\"'\n",
    "x = re.findall(r'\"\\w+\"',y)\n",
    "print(x)\n"
   ]
  },
  {
   "cell_type": "markdown",
   "metadata": {},
   "source": [
    "# 3.5 Question 2e:\n",
    "\n",
    "Write a regular expression to replace all vowels with a lowercase letter “o”. Given that address is\n",
    "\n",
    "a string, use re.sub to change “123 Orange Street” into “123 orongo Stroot”.\n",
    "\n",
    "Hint: use re.sub(regex, \"newtext\", string, number_of_occurences)\n",
    "\n",
    "BEGIN QUESTION\n",
    "\n",
    "name: q2e\n"
   ]
  },
  {
   "cell_type": "code",
   "execution_count": 85,
   "metadata": {},
   "outputs": [
    {
     "name": "stdout",
     "output_type": "stream",
     "text": [
      "2311 North Los Roblos ovonoo\n"
     ]
    }
   ],
   "source": [
    "a=\"2311 North Los Robles Avenue\"\n",
    "b=re.sub(r'[a|Ae|Ei|Io|Ou|U]','o',a)\n",
    "print(b)"
   ]
  },
  {
   "cell_type": "markdown",
   "metadata": {},
   "source": [
    "# 3.6 Question 2f:\n",
    "\n",
    "This question comes from the RegEx puzzle from lecture. Fill in the regular expression in the\n",
    "\n",
    "variable pattern below so that after it executes, day is 26, month is Jan, and year is 2014.\n",
    "\n",
    "1. Hint: use re.findall\n",
    "\n",
    "2. Hint: pay attention to the data type after using re.findall\n",
    "\n",
    "3. Hint: use \\[ and \\/ to match the character ‘[’ and ‘/’.\n",
    "\n",
    "BEGIN QUESTION\n",
    "\n",
    "name: q2f"
   ]
  },
  {
   "cell_type": "code",
   "execution_count": 104,
   "metadata": {},
   "outputs": [
    {
     "data": {
      "text/plain": [
       "('26', 'Jan', '2014')"
      ]
     },
     "execution_count": 104,
     "metadata": {},
     "output_type": "execute_result"
    }
   ],
   "source": [
    "x = '[26/Jan/2014]'\n",
    "y = re.findall(r\"\\[(.+)\\/(.+)\\/([^:]+).*\\]\", text_q2f)[0]\n",
    "y"
   ]
  },
  {
   "cell_type": "markdown",
   "metadata": {},
   "source": [
    "# 1. Find the square root of 3 using Python?\n"
   ]
  },
  {
   "cell_type": "code",
   "execution_count": 108,
   "metadata": {},
   "outputs": [
    {
     "data": {
      "text/plain": [
       "1.7320508075688772"
      ]
     },
     "execution_count": 108,
     "metadata": {},
     "output_type": "execute_result"
    }
   ],
   "source": [
    "3**0.5"
   ]
  },
  {
   "cell_type": "markdown",
   "metadata": {},
   "source": [
    "# 2. Will you get the same value for the below expressions?\n",
    "➢ 3**1/2\n",
    "\n",
    "➢ 3**0.5"
   ]
  },
  {
   "cell_type": "code",
   "execution_count": 113,
   "metadata": {},
   "outputs": [
    {
     "name": "stdout",
     "output_type": "stream",
     "text": [
      "1.5\n",
      "1.7320508075688772\n",
      "No both the values are not same\n"
     ]
    }
   ],
   "source": [
    "print(3**1/2)\n",
    "print(3**0.5)\n",
    "print('No both the values are not same')"
   ]
  },
  {
   "cell_type": "markdown",
   "metadata": {},
   "source": [
    "# 3. What are the three built-in data types in Python to represent numbers?"
   ]
  },
  {
   "cell_type": "code",
   "execution_count": 117,
   "metadata": {},
   "outputs": [
    {
     "name": "stdout",
     "output_type": "stream",
     "text": [
      "Integers,Double,Float\n"
     ]
    }
   ],
   "source": [
    "print('Integers,Double,Float')"
   ]
  },
  {
   "cell_type": "markdown",
   "metadata": {},
   "source": [
    "# 4. Which operator is used to find exponent?"
   ]
  },
  {
   "cell_type": "code",
   "execution_count": 116,
   "metadata": {},
   "outputs": [
    {
     "name": "stdout",
     "output_type": "stream",
     "text": [
      "**\n"
     ]
    }
   ],
   "source": [
    "print('**')"
   ]
  }
 ],
 "metadata": {
  "kernelspec": {
   "display_name": "Python 3",
   "language": "python",
   "name": "python3"
  },
  "language_info": {
   "codemirror_mode": {
    "name": "ipython",
    "version": 3
   },
   "file_extension": ".py",
   "mimetype": "text/x-python",
   "name": "python",
   "nbconvert_exporter": "python",
   "pygments_lexer": "ipython3",
   "version": "3.8.3"
  }
 },
 "nbformat": 4,
 "nbformat_minor": 4
}
