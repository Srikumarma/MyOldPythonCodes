{
 "cells": [
  {
   "cell_type": "code",
   "execution_count": 8,
   "id": "39693432",
   "metadata": {},
   "outputs": [
    {
     "data": {
      "text/html": [
       "'hello WORLD'"
      ],
      "text/latex": [
       "'hello WORLD'"
      ],
      "text/markdown": [
       "'hello WORLD'"
      ],
      "text/plain": [
       "[1] \"hello WORLD\""
      ]
     },
     "metadata": {},
     "output_type": "display_data"
    }
   ],
   "source": [
    "a=\"hello\"\n",
    "b='WORLD'\n",
    "paste(a,b)"
   ]
  },
  {
   "cell_type": "code",
   "execution_count": 9,
   "id": "60fa01b3",
   "metadata": {},
   "outputs": [
    {
     "data": {
      "text/html": [
       "5"
      ],
      "text/latex": [
       "5"
      ],
      "text/markdown": [
       "5"
      ],
      "text/plain": [
       "[1] 5"
      ]
     },
     "metadata": {},
     "output_type": "display_data"
    }
   ],
   "source": [
    "#built in functions of string\n",
    "nchar(a)#count the number of charecters in a string"
   ]
  },
  {
   "cell_type": "code",
   "execution_count": 10,
   "id": "437308ae",
   "metadata": {},
   "outputs": [
    {
     "data": {
      "text/html": [
       "'world'"
      ],
      "text/latex": [
       "'world'"
      ],
      "text/markdown": [
       "'world'"
      ],
      "text/plain": [
       "[1] \"world\""
      ]
     },
     "metadata": {},
     "output_type": "display_data"
    }
   ],
   "source": [
    "tolower(b)"
   ]
  },
  {
   "cell_type": "code",
   "execution_count": 11,
   "id": "ffe8863a",
   "metadata": {},
   "outputs": [
    {
     "data": {
      "text/html": [
       "'HELLO'"
      ],
      "text/latex": [
       "'HELLO'"
      ],
      "text/markdown": [
       "'HELLO'"
      ],
      "text/plain": [
       "[1] \"HELLO\""
      ]
     },
     "metadata": {},
     "output_type": "display_data"
    }
   ],
   "source": [
    "toupper(a)"
   ]
  },
  {
   "cell_type": "code",
   "execution_count": 14,
   "id": "7e8fdc4d",
   "metadata": {},
   "outputs": [
    {
     "data": {
      "text/html": [
       "'el'"
      ],
      "text/latex": [
       "'el'"
      ],
      "text/markdown": [
       "'el'"
      ],
      "text/plain": [
       "[1] \"el\""
      ]
     },
     "metadata": {},
     "output_type": "display_data"
    }
   ],
   "source": [
    "#fetch a section of the string\n",
    "substring(a,2,3)"
   ]
  }
 ],
 "metadata": {
  "kernelspec": {
   "display_name": "R",
   "language": "R",
   "name": "ir"
  },
  "language_info": {
   "codemirror_mode": "r",
   "file_extension": ".r",
   "mimetype": "text/x-r-source",
   "name": "R",
   "pygments_lexer": "r",
   "version": "3.6.1"
  }
 },
 "nbformat": 4,
 "nbformat_minor": 5
}
