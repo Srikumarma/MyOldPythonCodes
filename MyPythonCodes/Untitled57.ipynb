{
 "cells": [
  {
   "cell_type": "code",
   "execution_count": 10,
   "metadata": {},
   "outputs": [],
   "source": [
    "#!/usr/bin/env python\n",
    "from PIL import ImageFont, ImageDraw, Image \n",
    "import numpy as np\n",
    "import cv2\n",
    "from time import sleep\n",
    "\n",
    "# create blank image - y, x\n",
    "img = np.zeros((600, 1000, 3), np.uint8)\n",
    "\n",
    "# setup text\n",
    "font = cv2.FONT_HERSHEY_SIMPLEX\n",
    "text = \"Hello Joseph!!\"\n",
    "\n",
    "# get boundary of this text\n",
    "textsize = cv2.getTextSize(text, font, 1, 2)[0]\n",
    "\n",
    "# get coords based on boundary\n",
    "text1 = (img.shape[1] - textsize[0]) / 2\n",
    "text2 = (img.shape[0] + textsize[1]) / 2\n",
    "\n",
    "# add text centered on image\n",
    "cv2.putText(img, text, (1,2), font, 1, (255, 255, 255), 2)\n",
    "\n",
    "# display image\n",
    "cv2.imshow('image', img)\n",
    "\n",
    "# wait so you can see the image\n",
    "sleep(0)\n",
    "\n",
    "# cleanup\n",
    "cv2.destroyAllWindows()"
   ]
  },
  {
   "cell_type": "code",
   "execution_count": null,
   "metadata": {},
   "outputs": [],
   "source": []
  },
  {
   "cell_type": "code",
   "execution_count": null,
   "metadata": {},
   "outputs": [],
   "source": []
  }
 ],
 "metadata": {
  "kernelspec": {
   "display_name": "Python 3",
   "language": "python",
   "name": "python3"
  },
  "language_info": {
   "codemirror_mode": {
    "name": "ipython",
    "version": 3
   },
   "file_extension": ".py",
   "mimetype": "text/x-python",
   "name": "python",
   "nbconvert_exporter": "python",
   "pygments_lexer": "ipython3",
   "version": "3.8.3"
  }
 },
 "nbformat": 4,
 "nbformat_minor": 4
}
