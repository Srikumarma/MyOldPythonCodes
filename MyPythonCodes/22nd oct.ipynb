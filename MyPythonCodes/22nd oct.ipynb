{
 "cells": [
  {
   "cell_type": "code",
   "execution_count": 7,
   "metadata": {},
   "outputs": [
    {
     "name": "stdout",
     "output_type": "stream",
     "text": [
      "True\n"
     ]
    }
   ],
   "source": [
    "loc=='Chair'\n",
    "if loc=='table':\n",
    "    print ('False')\n",
    "else:\n",
    "    print('True')"
   ]
  },
  {
   "cell_type": "markdown",
   "metadata": {},
   "source": [
    "#                                                  SETS"
   ]
  },
  {
   "cell_type": "code",
   "execution_count": 38,
   "metadata": {},
   "outputs": [
    {
     "name": "stdout",
     "output_type": "stream",
     "text": [
      "{'1', '5'}\n"
     ]
    }
   ],
   "source": [
    "setA=set({'1':'3','5':'1'})\n",
    "setA.issubset('3')\n",
    "print(setA)"
   ]
  },
  {
   "cell_type": "code",
   "execution_count": 13,
   "metadata": {},
   "outputs": [
    {
     "data": {
      "text/plain": [
       "[1, 2, 3, 4, 5, 6, 7, 8, 9, 50]"
      ]
     },
     "execution_count": 13,
     "metadata": {},
     "output_type": "execute_result"
    }
   ],
   "source": [
    "setA=[1,2,3,4,5,6,7,8,9]\n",
    "setA.append(50)\n",
    "setA"
   ]
  },
  {
   "cell_type": "code",
   "execution_count": 39,
   "metadata": {},
   "outputs": [
    {
     "name": "stdout",
     "output_type": "stream",
     "text": [
      "{1, 2, 3}\n"
     ]
    }
   ],
   "source": [
    "setb=set({1:\"rohi\",2:\"harshi\"})\n",
    "setb.add(3)\n",
    "print(setb)"
   ]
  },
  {
   "cell_type": "code",
   "execution_count": 44,
   "metadata": {},
   "outputs": [
    {
     "name": "stdout",
     "output_type": "stream",
     "text": [
      "{1, 2, 3, 4, 7}\n"
     ]
    }
   ],
   "source": [
    "setb={1,2,3,4,5,6,7}\n",
    "setb.discard(5)\n",
    "setb.discard(6)\n",
    "print(setb)"
   ]
  },
  {
   "cell_type": "code",
   "execution_count": 55,
   "metadata": {},
   "outputs": [
    {
     "name": "stdout",
     "output_type": "stream",
     "text": [
      "{1, 2, 3, 4, 5, 6, 7}\n"
     ]
    }
   ],
   "source": [
    "setb=set()\n",
    "setb.update({1,2,3,4,5,6,7})\n",
    "print(setb)"
   ]
  },
  {
   "cell_type": "code",
   "execution_count": 61,
   "metadata": {},
   "outputs": [
    {
     "name": "stdout",
     "output_type": "stream",
     "text": [
      "{2, 3, 4, 5, 6, '0', '2', '1'}\n"
     ]
    }
   ],
   "source": [
    "roll_set={'E','0','1','2','0','0','2','0'}\n",
    "roll_set.add('0')\n",
    "roll_set.remove('E')\n",
    "roll_set.discard('a')\n",
    "roll_set.update([1,2,3,4,5,6])\n",
    "roll_set.pop()\n",
    "print(roll_set)\n"
   ]
  },
  {
   "cell_type": "code",
   "execution_count": 19,
   "metadata": {},
   "outputs": [
    {
     "name": "stdout",
     "output_type": "stream",
     "text": [
      "srikumar\n",
      "it is not a palendrome\n"
     ]
    }
   ],
   "source": [
    "s=input()\n",
    "return_s=s[::-1]\n",
    "if s==return_s:\n",
    "    print('It is a palendrome')\n",
    "else :\n",
    "    print('it is not a palendrome')\n"
   ]
  },
  {
   "cell_type": "markdown",
   "metadata": {},
   "source": [
    "# As a part of covid-19 social-distancing measures, a country uses following levels and\n",
    "its corresponding social distancing measures\n",
    " Above Level 5 - Quarantine\n",
    " Level 5 to Level 4 - Extremely strict social distancing\n",
    " Level 4 to Level 3 - Enforced social distancing\n",
    "\n",
    "[4] CO1 [K3]\n",
    "\n",
    "PAGE 2 OF 3\n",
    "\n",
    " Level 3 to Level 2 - Social distancing relaxed\n",
    " Level 2 to Level 1 - Minimal social distancing\n",
    " Below Level 1 - No social distancing\n",
    "Write a python program to print the social distancing measures if the user enters level\n",
    "details.\n",
    "\n",
    "\n",
    "\n"
   ]
  },
  {
   "cell_type": "code",
   "execution_count": 17,
   "metadata": {},
   "outputs": [
    {
     "name": "stdout",
     "output_type": "stream",
     "text": [
      "Enter the level at covid case:6\n",
      "The country goes to Quarentine\n"
     ]
    }
   ],
   "source": [
    "level=int(input('Enter the level at covid case:'))\n",
    "if level>=5:\n",
    "    print('The country goes to Quarentine')\n",
    "elif 4>=level<=5:\n",
    "    print('We need to follow strict social distancing!')\n",
    "elif 3>=level<=4:\n",
    "    print('Enforced social distancing!')\n",
    "elif 2>=level<=3:\n",
    "    print('Relaxed Social distancing!')\n",
    "elif 1>=level<=2:\n",
    "    print('Minimal social distancing!')\n",
    "else:\n",
    "    print('No social distancing!')\n",
    "    "
   ]
  },
  {
   "cell_type": "markdown",
   "metadata": {},
   "source": [
    "# Take 15 string inputs from the user and store them in a list. Again ask the user to give\n",
    "one more string. Now you have to check whether that string is present in the list or not.\n",
    "Write a python code to solve this scenario."
   ]
  },
  {
   "cell_type": "code",
   "execution_count": 27,
   "metadata": {},
   "outputs": [
    {
     "name": "stdout",
     "output_type": "stream",
     "text": [
      "Enter 15 strings:\n",
      "a\n",
      "b\n",
      "c\n",
      "d\n",
      "e\n",
      "f\n",
      "g\n",
      "h\n",
      "i\n",
      "j\n",
      "k\n",
      "l\n",
      "m\n",
      "n\n",
      "o\n",
      "['a', 'b', 'c', 'd', 'e', 'f', 'g', 'h', 'i', 'j', 'k', 'l', 'm', 'n', 'o']\n",
      "Enter another string\n",
      "g\n"
     ]
    },
    {
     "data": {
      "text/plain": [
       "True"
      ]
     },
     "execution_count": 27,
     "metadata": {},
     "output_type": "execute_result"
    }
   ],
   "source": [
    "print('Enter 15 strings:')\n",
    "a=input()\n",
    "b=input()\n",
    "c=input()\n",
    "d=input()\n",
    "e=input()\n",
    "f=input()\n",
    "g=input()\n",
    "h=input()\n",
    "i=input()\n",
    "j=input()\n",
    "k=input()\n",
    "l=input()\n",
    "m=input()\n",
    "n=input()\n",
    "o=input()\n",
    "list1=[a,b,c,d,e,f,g,h,i,j,k,l,m,n,o]\n",
    "print(list1)\n",
    "print('Enter another string')\n",
    "p=input()\n",
    "p in list1"
   ]
  },
  {
   "cell_type": "code",
   "execution_count": null,
   "metadata": {},
   "outputs": [],
   "source": []
  }
 ],
 "metadata": {
  "kernelspec": {
   "display_name": "Python 3",
   "language": "python",
   "name": "python3"
  },
  "language_info": {
   "codemirror_mode": {
    "name": "ipython",
    "version": 3
   },
   "file_extension": ".py",
   "mimetype": "text/x-python",
   "name": "python",
   "nbconvert_exporter": "python",
   "pygments_lexer": "ipython3",
   "version": "3.8.3"
  }
 },
 "nbformat": 4,
 "nbformat_minor": 4
}
