{
 "cells": [
  {
   "cell_type": "code",
   "execution_count": 14,
   "id": "38e78ada",
   "metadata": {},
   "outputs": [
    {
     "name": "stdout",
     "output_type": "stream",
     "text": [
      "\n",
      "Call:\n",
      "lm(formula = height ~ age, data = age)\n",
      "\n",
      "Coefficients:\n",
      "(Intercept)          age  \n",
      "    64.8445       0.3835  \n",
      "\n"
     ]
    },
    {
     "data": {
      "text/plain": [
       "\n",
       "Call:\n",
       "lm(formula = height ~ age, data = age)\n",
       "\n",
       "Residuals:\n",
       "    Min      1Q  Median      3Q     Max \n",
       "-66.059   5.193   5.810   6.617   7.533 \n",
       "\n",
       "Coefficients:\n",
       "            Estimate Std. Error t value Pr(>|t|)\n",
       "(Intercept)  64.8445    43.3815   1.495    0.166\n",
       "age           0.3835     1.8264   0.210    0.838\n",
       "\n",
       "Residual standard error: 21.84 on 10 degrees of freedom\n",
       "Multiple R-squared:  0.00439,\tAdjusted R-squared:  -0.09517 \n",
       "F-statistic: 0.0441 on 1 and 10 DF,  p-value: 0.8379\n"
      ]
     },
     "metadata": {},
     "output_type": "display_data"
    }
   ],
   "source": [
    "library(readxl)\n",
    "age=read_excel(\"ageandheight.xls\",sheet=\"Hoja2\")\n",
    "lmHeight=lm(height~age,data = age)\n",
    "print(lmHeight)\n",
    "summary(lmHeight)"
   ]
  },
  {
   "cell_type": "code",
   "execution_count": 16,
   "id": "75630ded",
   "metadata": {},
   "outputs": [
    {
     "data": {
      "text/html": [
       "<dl class=dl-horizontal>\n",
       "\t<dt>1</dt>\n",
       "\t\t<dd>71.7480769230769</dd>\n",
       "\t<dt>2</dt>\n",
       "\t\t<dd>72.1316083916084</dd>\n",
       "\t<dt>3</dt>\n",
       "\t\t<dd>72.5151398601399</dd>\n",
       "\t<dt>4</dt>\n",
       "\t\t<dd>72.8986713286713</dd>\n",
       "\t<dt>5</dt>\n",
       "\t\t<dd>73.2822027972028</dd>\n",
       "\t<dt>6</dt>\n",
       "\t\t<dd>73.6657342657343</dd>\n",
       "\t<dt>7</dt>\n",
       "\t\t<dd>74.0492657342657</dd>\n",
       "\t<dt>8</dt>\n",
       "\t\t<dd>74.4327972027972</dd>\n",
       "\t<dt>9</dt>\n",
       "\t\t<dd>74.8163286713287</dd>\n",
       "\t<dt>10</dt>\n",
       "\t\t<dd>75.1998601398601</dd>\n",
       "\t<dt>11</dt>\n",
       "\t\t<dd>75.5833916083916</dd>\n",
       "\t<dt>12</dt>\n",
       "\t\t<dd>75.9669230769231</dd>\n",
       "</dl>\n"
      ],
      "text/latex": [
       "\\begin{description*}\n",
       "\\item[1] 71.7480769230769\n",
       "\\item[2] 72.1316083916084\n",
       "\\item[3] 72.5151398601399\n",
       "\\item[4] 72.8986713286713\n",
       "\\item[5] 73.2822027972028\n",
       "\\item[6] 73.6657342657343\n",
       "\\item[7] 74.0492657342657\n",
       "\\item[8] 74.4327972027972\n",
       "\\item[9] 74.8163286713287\n",
       "\\item[10] 75.1998601398601\n",
       "\\item[11] 75.5833916083916\n",
       "\\item[12] 75.9669230769231\n",
       "\\end{description*}\n"
      ],
      "text/markdown": [
       "1\n",
       ":   71.74807692307692\n",
       ":   72.13160839160843\n",
       ":   72.51513986013994\n",
       ":   72.89867132867135\n",
       ":   73.28220279720286\n",
       ":   73.66573426573437\n",
       ":   74.04926573426578\n",
       ":   74.43279720279729\n",
       ":   74.816328671328710\n",
       ":   75.199860139860111\n",
       ":   75.583391608391612\n",
       ":   75.9669230769231\n",
       "\n"
      ],
      "text/plain": [
       "       1        2        3        4        5        6        7        8 \n",
       "71.74808 72.13161 72.51514 72.89867 73.28220 73.66573 74.04927 74.43280 \n",
       "       9       10       11       12 \n",
       "74.81633 75.19986 75.58339 75.96692 "
      ]
     },
     "metadata": {},
     "output_type": "display_data"
    }
   ],
   "source": [
    "predict(lmHeight)"
   ]
  },
  {
   "cell_type": "code",
   "execution_count": 20,
   "id": "6883b463",
   "metadata": {},
   "outputs": [
    {
     "data": {
      "text/plain": [
       "\n",
       "Call:\n",
       "lm(formula = height ~ age + no_siblings, data = age)\n",
       "\n",
       "Residuals:\n",
       "    Min      1Q  Median      3Q     Max \n",
       "-47.808  -4.521   1.002  10.025  21.186 \n",
       "\n",
       "Coefficients:\n",
       "            Estimate Std. Error t value Pr(>|t|)  \n",
       "(Intercept)   56.597     39.166   1.445   0.1823  \n",
       "age            1.303      1.712   0.761   0.4660  \n",
       "no_siblings   -6.415      3.464  -1.852   0.0971 .\n",
       "---\n",
       "Signif. codes:  0 '***' 0.001 '**' 0.01 '*' 0.05 '.' 0.1 ' ' 1\n",
       "\n",
       "Residual standard error: 19.59 on 9 degrees of freedom\n",
       "Multiple R-squared:  0.2791,\tAdjusted R-squared:  0.1189 \n",
       "F-statistic: 1.742 on 2 and 9 DF,  p-value: 0.2293\n"
      ]
     },
     "metadata": {},
     "output_type": "display_data"
    }
   ],
   "source": [
    "#multi linear regression\n",
    "age=read_excel(\"ageandheight.xls\",sheet=\"Hoja2\")\n",
    "lmHeight2=lm(height~age+no_siblings,data=age)\n",
    "summary(lmHeight2)"
   ]
  },
  {
   "cell_type": "code",
   "execution_count": 21,
   "id": "091744c6",
   "metadata": {},
   "outputs": [
    {
     "data": {
      "text/html": [
       "<table>\n",
       "<thead><tr><th></th><th scope=col>Estimate</th><th scope=col>Std. Error</th><th scope=col>t value</th><th scope=col>Pr(&gt;|t|)</th></tr></thead>\n",
       "<tbody>\n",
       "\t<tr><th scope=row>(Intercept)</th><td>56.597241 </td><td>39.165876 </td><td> 1.4450651</td><td>0.18234108</td></tr>\n",
       "\t<tr><th scope=row>age</th><td> 1.303218 </td><td> 1.711866 </td><td> 0.7612849</td><td>0.46596532</td></tr>\n",
       "\t<tr><th scope=row>no_siblings</th><td>-6.415374 </td><td> 3.464347 </td><td>-1.8518275</td><td>0.09706826</td></tr>\n",
       "</tbody>\n",
       "</table>\n"
      ],
      "text/latex": [
       "\\begin{tabular}{r|llll}\n",
       "  & Estimate & Std. Error & t value & Pr(>\\textbar{}t\\textbar{})\\\\\n",
       "\\hline\n",
       "\t(Intercept) & 56.597241  & 39.165876  &  1.4450651 & 0.18234108\\\\\n",
       "\tage &  1.303218  &  1.711866  &  0.7612849 & 0.46596532\\\\\n",
       "\tno\\_siblings & -6.415374  &  3.464347  & -1.8518275 & 0.09706826\\\\\n",
       "\\end{tabular}\n"
      ],
      "text/markdown": [
       "\n",
       "| <!--/--> | Estimate | Std. Error | t value | Pr(>|t|) |\n",
       "|---|---|---|---|---|\n",
       "| (Intercept) | 56.597241  | 39.165876  |  1.4450651 | 0.18234108 |\n",
       "| age |  1.303218  |  1.711866  |  0.7612849 | 0.46596532 |\n",
       "| no_siblings | -6.415374  |  3.464347  | -1.8518275 | 0.09706826 |\n",
       "\n"
      ],
      "text/plain": [
       "            Estimate  Std. Error t value    Pr(>|t|)  \n",
       "(Intercept) 56.597241 39.165876   1.4450651 0.18234108\n",
       "age          1.303218  1.711866   0.7612849 0.46596532\n",
       "no_siblings -6.415374  3.464347  -1.8518275 0.09706826"
      ]
     },
     "metadata": {},
     "output_type": "display_data"
    }
   ],
   "source": [
    "summary(lmHeight2)$coefficient"
   ]
  },
  {
   "cell_type": "code",
   "execution_count": 23,
   "id": "d919576a",
   "metadata": {},
   "outputs": [
    {
     "name": "stdout",
     "output_type": "stream",
     "text": [
      "[1] 0.2652476\n"
     ]
    }
   ],
   "source": [
    "#to find accuracy\n",
    "RSE=sigma(lmHeight2)/mean(age$height)\n",
    "print(RSE)"
   ]
  },
  {
   "cell_type": "code",
   "execution_count": 24,
   "id": "75776ca7",
   "metadata": {},
   "outputs": [
    {
     "data": {
      "text/html": [
       "<dl class=dl-horizontal>\n",
       "\t<dt>1</dt>\n",
       "\t\t<dd>73.6397897000401</dd>\n",
       "\t<dt>2</dt>\n",
       "\t\t<dd>68.5276338520975</dd>\n",
       "\t<dt>3</dt>\n",
       "\t\t<dd>63.415478004155</dd>\n",
       "\t<dt>4</dt>\n",
       "\t\t<dd>71.1340696869191</dd>\n",
       "\t<dt>5</dt>\n",
       "\t\t<dd>85.2680351350366</dd>\n",
       "\t<dt>6</dt>\n",
       "\t\t<dd>80.1558792870941</dd>\n",
       "\t<dt>7</dt>\n",
       "\t\t<dd>55.7976021430915</dd>\n",
       "\t<dt>8</dt>\n",
       "\t\t<dd>89.177688887269</dd>\n",
       "\t<dt>9</dt>\n",
       "\t\t<dd>84.0655330393265</dd>\n",
       "\t<dt>10</dt>\n",
       "\t\t<dd>66.1226296606772</dd>\n",
       "\t<dt>11</dt>\n",
       "\t\t<dd>86.671968874148</dd>\n",
       "\t<dt>12</dt>\n",
       "\t\t<dd>62.3136917301454</dd>\n",
       "</dl>\n"
      ],
      "text/latex": [
       "\\begin{description*}\n",
       "\\item[1] 73.6397897000401\n",
       "\\item[2] 68.5276338520975\n",
       "\\item[3] 63.415478004155\n",
       "\\item[4] 71.1340696869191\n",
       "\\item[5] 85.2680351350366\n",
       "\\item[6] 80.1558792870941\n",
       "\\item[7] 55.7976021430915\n",
       "\\item[8] 89.177688887269\n",
       "\\item[9] 84.0655330393265\n",
       "\\item[10] 66.1226296606772\n",
       "\\item[11] 86.671968874148\n",
       "\\item[12] 62.3136917301454\n",
       "\\end{description*}\n"
      ],
      "text/markdown": [
       "1\n",
       ":   73.63978970004012\n",
       ":   68.52763385209753\n",
       ":   63.4154780041554\n",
       ":   71.13406968691915\n",
       ":   85.26803513503666\n",
       ":   80.15587928709417\n",
       ":   55.79760214309158\n",
       ":   89.1776888872699\n",
       ":   84.065533039326510\n",
       ":   66.122629660677211\n",
       ":   86.67196887414812\n",
       ":   62.3136917301454\n",
       "\n"
      ],
      "text/plain": [
       "       1        2        3        4        5        6        7        8 \n",
       "73.63979 68.52763 63.41548 71.13407 85.26804 80.15588 55.79760 89.17769 \n",
       "       9       10       11       12 \n",
       "84.06553 66.12263 86.67197 62.31369 "
      ]
     },
     "metadata": {},
     "output_type": "display_data"
    }
   ],
   "source": [
    "predict(lmHeight2)"
   ]
  },
  {
   "cell_type": "code",
   "execution_count": 19,
   "id": "a4762e4a",
   "metadata": {},
   "outputs": [
    {
     "name": "stdout",
     "output_type": "stream",
     "text": [
      "package 'caTools' successfully unpacked and MD5 sums checked\n",
      "\n",
      "The downloaded binary packages are in\n",
      "\tC:\\Users\\sriku\\AppData\\Local\\Temp\\RtmpoVyGWy\\downloaded_packages\n"
     ]
    },
    {
     "name": "stderr",
     "output_type": "stream",
     "text": [
      "Warning message:\n",
      "\"package 'caTools' was built under R version 3.6.3\""
     ]
    }
   ],
   "source": [
    "#split data to train and test\n",
    "install.packages(\"caTools\")\n",
    "library(caTools)"
   ]
  },
  {
   "cell_type": "code",
   "execution_count": 20,
   "id": "e3c2b1f7",
   "metadata": {},
   "outputs": [],
   "source": [
    "data=iris\n",
    "s=sample.split(data,SplitRatio = 0.7)\n",
    "train=subset(data,split=TRUE)\n",
    "test=subset(data,split=FALSE)"
   ]
  },
  {
   "cell_type": "code",
   "execution_count": 24,
   "id": "35539ff6",
   "metadata": {},
   "outputs": [
    {
     "data": {
      "text/plain": [
       "\n",
       "Call:\n",
       "lm(formula = Petal.Width ~ Petal.Length, data = train)\n",
       "\n",
       "Residuals:\n",
       "     Min       1Q   Median       3Q      Max \n",
       "-0.56515 -0.12358 -0.01898  0.13288  0.64272 \n",
       "\n",
       "Coefficients:\n",
       "              Estimate Std. Error t value Pr(>|t|)    \n",
       "(Intercept)  -0.363076   0.039762  -9.131  4.7e-16 ***\n",
       "Petal.Length  0.415755   0.009582  43.387  < 2e-16 ***\n",
       "---\n",
       "Signif. codes:  0 '***' 0.001 '**' 0.01 '*' 0.05 '.' 0.1 ' ' 1\n",
       "\n",
       "Residual standard error: 0.2065 on 148 degrees of freedom\n",
       "Multiple R-squared:  0.9271,\tAdjusted R-squared:  0.9266 \n",
       "F-statistic:  1882 on 1 and 148 DF,  p-value: < 2.2e-16\n"
      ]
     },
     "metadata": {},
     "output_type": "display_data"
    }
   ],
   "source": [
    "model=lm(Petal.Width~Petal.Length,data=train)\n",
    "summary(model)"
   ]
  },
  {
   "cell_type": "code",
   "execution_count": 35,
   "id": "c81e5860",
   "metadata": {},
   "outputs": [
    {
     "name": "stdout",
     "output_type": "stream",
     "text": [
      "         1          2          3          4          5          6          7 \n",
      "0.21898206 0.21898206 0.17740652 0.26055760 0.21898206 0.34370869 0.21898206 \n",
      "         8          9         10         11         12         13         14 \n",
      "0.26055760 0.21898206 0.26055760 0.26055760 0.30213314 0.21898206 0.09425544 \n",
      "        15         16         17         18         19         20         21 \n",
      "0.13583098 0.26055760 0.17740652 0.21898206 0.34370869 0.26055760 0.34370869 \n",
      "        22         23         24         25         26         27         28 \n",
      "0.26055760 0.05267990 0.34370869 0.42685977 0.30213314 0.30213314 0.26055760 \n",
      "        29         30         31         32         33         34         35 \n",
      "0.21898206 0.30213314 0.30213314 0.26055760 0.26055760 0.21898206 0.26055760 \n",
      "        36         37         38         39         40         41         42 \n",
      "0.13583098 0.17740652 0.21898206 0.17740652 0.26055760 0.17740652 0.17740652 \n",
      "        43         44         45         46         47         48         49 \n",
      "0.17740652 0.30213314 0.42685977 0.21898206 0.30213314 0.21898206 0.26055760 \n",
      "        50         51         52         53         54         55         56 \n",
      "0.21898206 1.59097494 1.50782385 1.67412602 1.29994614 1.54939939 1.50782385 \n",
      "        57         58         59         60         61         62         63 \n",
      "1.59097494 1.00891735 1.54939939 1.25837060 1.09206844 1.38309723 1.29994614 \n",
      "        64         65         66         67         68         69         70 \n",
      "1.59097494 1.13364398 1.46624831 1.50782385 1.34152169 1.50782385 1.25837060 \n",
      "        71         72         73         74         75         76         77 \n",
      "1.63255048 1.29994614 1.67412602 1.59097494 1.42467277 1.46624831 1.63255048 \n",
      "        78         79         80         81         82         83         84 \n",
      "1.71570156 1.50782385 1.09206844 1.21679506 1.17521952 1.25837060 1.75727710 \n",
      "        85         86         87         88         89         90         91 \n",
      "1.50782385 1.50782385 1.59097494 1.46624831 1.34152169 1.29994614 1.46624831 \n",
      "        92         93         94         95         96         97         98 \n",
      "1.54939939 1.29994614 1.00891735 1.38309723 1.38309723 1.38309723 1.42467277 \n",
      "        99        100        101        102        103        104        105 \n",
      "0.88419073 1.34152169 2.13145698 1.75727710 2.08988144 1.96515481 2.04830589 \n",
      "       106        107        108        109        110        111        112 \n",
      "2.38091023 1.50782385 2.25618360 2.04830589 2.17303252 1.75727710 1.84042819 \n",
      "       113        114        115        116        117        118        119 \n",
      "1.92357927 1.71570156 1.75727710 1.84042819 1.92357927 2.42248577 2.50563685 \n",
      "       120        121        122        123        124        125        126 \n",
      "1.71570156 2.00673035 1.67412602 2.42248577 1.67412602 2.00673035 2.13145698 \n",
      "       127        128        129        130        131        132        133 \n",
      "1.63255048 1.67412602 1.96515481 2.04830589 2.17303252 2.29775914 1.96515481 \n",
      "       134        135        136        137        138        139        140 \n",
      "1.75727710 1.96515481 2.17303252 1.96515481 1.92357927 1.63255048 1.88200373 \n",
      "       141        142        143        144        145        146        147 \n",
      "1.96515481 1.75727710 1.75727710 2.08988144 2.00673035 1.79885264 1.71570156 \n",
      "       148        149        150 \n",
      "1.79885264 1.88200373 1.75727710 \n"
     ]
    }
   ],
   "source": [
    "p=predict(model,test)\n",
    "print(p)"
   ]
  },
  {
   "cell_type": "code",
   "execution_count": 36,
   "id": "d2f8e45c",
   "metadata": {},
   "outputs": [],
   "source": [
    "# alternate method to find the accuracy\n",
    "acc=sqrt(mean((test$Petal.Width-p)^2))"
   ]
  },
  {
   "cell_type": "code",
   "execution_count": 57,
   "id": "cb4aa27f",
   "metadata": {},
   "outputs": [
    {
     "data": {
      "text/html": [
       "0.205103167198835"
      ],
      "text/latex": [
       "0.205103167198835"
      ],
      "text/markdown": [
       "0.205103167198835"
      ],
      "text/plain": [
       "[1] 0.2051032"
      ]
     },
     "metadata": {},
     "output_type": "display_data"
    }
   ],
   "source": [
    "acc"
   ]
  },
  {
   "cell_type": "code",
   "execution_count": 46,
   "id": "cc566f4b",
   "metadata": {},
   "outputs": [],
   "source": [
    "#find weight of a person with height 170\n",
    "x=c(151,174,138,186,128,136,179,163,152,131)\n",
    "y=c(63,81,56,91,47,57,76,72,62,48)\n",
    "lr=lm(y~x)"
   ]
  },
  {
   "cell_type": "code",
   "execution_count": 54,
   "id": "7a2ff947",
   "metadata": {},
   "outputs": [
    {
     "data": {
      "text/html": [
       "<dl class=dl-horizontal>\n",
       "\t<dt>1</dt>\n",
       "\t\t<dd>63.4110907424381</dd>\n",
       "\t<dt>2</dt>\n",
       "\t\t<dd>78.9271310724106</dd>\n",
       "\t<dt>3</dt>\n",
       "\t\t<dd>54.641154903758</dd>\n",
       "\t<dt>4</dt>\n",
       "\t\t<dd>87.0224564619615</dd>\n",
       "\t<dt>5</dt>\n",
       "\t\t<dd>47.8950504124656</dd>\n",
       "\t<dt>6</dt>\n",
       "\t\t<dd>53.2919340054995</dd>\n",
       "\t<dt>7</dt>\n",
       "\t\t<dd>82.3001833180568</dd>\n",
       "\t<dt>8</dt>\n",
       "\t\t<dd>71.506416131989</dd>\n",
       "\t<dt>9</dt>\n",
       "\t\t<dd>64.0857011915674</dd>\n",
       "\t<dt>10</dt>\n",
       "\t\t<dd>49.9188817598533</dd>\n",
       "</dl>\n"
      ],
      "text/latex": [
       "\\begin{description*}\n",
       "\\item[1] 63.4110907424381\n",
       "\\item[2] 78.9271310724106\n",
       "\\item[3] 54.641154903758\n",
       "\\item[4] 87.0224564619615\n",
       "\\item[5] 47.8950504124656\n",
       "\\item[6] 53.2919340054995\n",
       "\\item[7] 82.3001833180568\n",
       "\\item[8] 71.506416131989\n",
       "\\item[9] 64.0857011915674\n",
       "\\item[10] 49.9188817598533\n",
       "\\end{description*}\n"
      ],
      "text/markdown": [
       "1\n",
       ":   63.41109074243812\n",
       ":   78.92713107241063\n",
       ":   54.6411549037584\n",
       ":   87.02245646196155\n",
       ":   47.89505041246566\n",
       ":   53.29193400549957\n",
       ":   82.30018331805688\n",
       ":   71.5064161319899\n",
       ":   64.085701191567410\n",
       ":   49.9188817598533\n",
       "\n"
      ],
      "text/plain": [
       "       1        2        3        4        5        6        7        8 \n",
       "63.41109 78.92713 54.64115 87.02246 47.89505 53.29193 82.30018 71.50642 \n",
       "       9       10 \n",
       "64.08570 49.91888 "
      ]
     },
     "metadata": {},
     "output_type": "display_data"
    }
   ],
   "source": [
    "x=predict(lr)\n",
    "x"
   ]
  },
  {
   "cell_type": "code",
   "execution_count": 49,
   "id": "4f87e85b",
   "metadata": {},
   "outputs": [
    {
     "name": "stdout",
     "output_type": "stream",
     "text": [
      "       1 \n",
      "78.92713 \n"
     ]
    }
   ],
   "source": [
    "#predict weight for particular height\n",
    "a=data.frame(x=174)\n",
    "result=predict(lr,a)\n",
    "print(result)"
   ]
  },
  {
   "cell_type": "code",
   "execution_count": 55,
   "id": "f7769b9f",
   "metadata": {},
   "outputs": [
    {
     "data": {
      "text/html": [
       "0.049815079972661"
      ],
      "text/latex": [
       "0.049815079972661"
      ],
      "text/markdown": [
       "0.049815079972661"
      ],
      "text/plain": [
       "[1] 0.04981508"
      ]
     },
     "metadata": {},
     "output_type": "display_data"
    }
   ],
   "source": [
    "RSE=sigma(lr)/mean(y)\n",
    "RSE"
   ]
  },
  {
   "cell_type": "code",
   "execution_count": null,
   "id": "3b5105c6",
   "metadata": {},
   "outputs": [],
   "source": []
  },
  {
   "cell_type": "code",
   "execution_count": null,
   "id": "44876a88",
   "metadata": {},
   "outputs": [],
   "source": []
  },
  {
   "cell_type": "code",
   "execution_count": null,
   "id": "6e980c38",
   "metadata": {},
   "outputs": [],
   "source": []
  }
 ],
 "metadata": {
  "kernelspec": {
   "display_name": "R",
   "language": "R",
   "name": "ir"
  },
  "language_info": {
   "codemirror_mode": "r",
   "file_extension": ".r",
   "mimetype": "text/x-r-source",
   "name": "R",
   "pygments_lexer": "r",
   "version": "3.6.1"
  }
 },
 "nbformat": 4,
 "nbformat_minor": 5
}
