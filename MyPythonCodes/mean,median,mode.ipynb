{
 "cells": [
  {
   "cell_type": "code",
   "execution_count": 11,
   "id": "fca50e38",
   "metadata": {},
   "outputs": [
    {
     "name": "stdout",
     "output_type": "stream",
     "text": [
      "[1] 2\n"
     ]
    }
   ],
   "source": [
    "#mode\n",
    "getmode<- function(v){\n",
    "    uniqv<-unique(v)\n",
    "    uniqv[which.max(tabulate(match(v,uniqv)))]\n",
    "}\n",
    "v=c(2,1,2,3,1,2,3,4,1,5,5,3,2,3)\n",
    "result<-getmode(v)\n",
    "print(result)"
   ]
  },
  {
   "cell_type": "code",
   "execution_count": 13,
   "id": "29e223a2",
   "metadata": {},
   "outputs": [
    {
     "data": {
      "text/html": [
       "1.33630620956212"
      ],
      "text/latex": [
       "1.33630620956212"
      ],
      "text/markdown": [
       "1.33630620956212"
      ],
      "text/plain": [
       "[1] 1.336306"
      ]
     },
     "metadata": {},
     "output_type": "display_data"
    }
   ],
   "source": [
    "#standard deviation\n",
    "sd(v)"
   ]
  },
  {
   "cell_type": "code",
   "execution_count": 15,
   "id": "72df51aa",
   "metadata": {},
   "outputs": [
    {
     "data": {
      "text/html": [
       "<ol class=list-inline>\n",
       "\t<li>1</li>\n",
       "\t<li>5</li>\n",
       "</ol>\n"
      ],
      "text/latex": [
       "\\begin{enumerate*}\n",
       "\\item 1\n",
       "\\item 5\n",
       "\\end{enumerate*}\n"
      ],
      "text/markdown": [
       "1. 1\n",
       "2. 5\n",
       "\n",
       "\n"
      ],
      "text/plain": [
       "[1] 1 5"
      ]
     },
     "metadata": {},
     "output_type": "display_data"
    }
   ],
   "source": [
    "#it tells the min and max value\n",
    "range(v)"
   ]
  },
  {
   "cell_type": "code",
   "execution_count": 16,
   "id": "bcfc427f",
   "metadata": {},
   "outputs": [
    {
     "data": {
      "text/html": [
       "1.78571428571429"
      ],
      "text/latex": [
       "1.78571428571429"
      ],
      "text/markdown": [
       "1.78571428571429"
      ],
      "text/plain": [
       "[1] 1.785714"
      ]
     },
     "metadata": {},
     "output_type": "display_data"
    }
   ],
   "source": [
    "#variance\n",
    "var(v)"
   ]
  },
  {
   "cell_type": "code",
   "execution_count": null,
   "id": "0935037f",
   "metadata": {},
   "outputs": [],
   "source": []
  }
 ],
 "metadata": {
  "kernelspec": {
   "display_name": "R",
   "language": "R",
   "name": "ir"
  },
  "language_info": {
   "codemirror_mode": "r",
   "file_extension": ".r",
   "mimetype": "text/x-r-source",
   "name": "R",
   "pygments_lexer": "r",
   "version": "3.6.1"
  }
 },
 "nbformat": 4,
 "nbformat_minor": 5
}
